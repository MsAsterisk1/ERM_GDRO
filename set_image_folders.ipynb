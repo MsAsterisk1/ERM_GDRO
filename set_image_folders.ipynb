{
 "cells": [
  {
   "cell_type": "code",
   "execution_count": 55,
   "metadata": {},
   "outputs": [],
   "source": [
    "import os\n",
    "import shutil\n",
    "import pandas as pd\n",
    "import numpy as np"
   ]
  },
  {
   "cell_type": "code",
   "execution_count": 93,
   "metadata": {},
   "outputs": [],
   "source": [
    "lidc = pd.read_csv('data/LIDC_20130817_AllFeatures2D_MaxSlicePerNodule_inLineRatings.csv')\n",
    "# lidc = pd.read_csv('data/LIDC_individual_radiologists.csv')"
   ]
  },
  {
   "cell_type": "code",
   "execution_count": 94,
   "metadata": {
    "scrolled": true
   },
   "outputs": [
    {
     "data": {
      "text/html": [
       "<div>\n",
       "<style scoped>\n",
       "    .dataframe tbody tr th:only-of-type {\n",
       "        vertical-align: middle;\n",
       "    }\n",
       "\n",
       "    .dataframe tbody tr th {\n",
       "        vertical-align: top;\n",
       "    }\n",
       "\n",
       "    .dataframe thead th {\n",
       "        text-align: right;\n",
       "    }\n",
       "</style>\n",
       "<table border=\"1\" class=\"dataframe\">\n",
       "  <thead>\n",
       "    <tr style=\"text-align: right;\">\n",
       "      <th></th>\n",
       "      <th>Unnamed: 0</th>\n",
       "      <th>InstanceID</th>\n",
       "      <th>StudyInstanceUID</th>\n",
       "      <th>SeriesInstanceUid</th>\n",
       "      <th>RadiologistID</th>\n",
       "      <th>noduleID</th>\n",
       "      <th>DicomImage</th>\n",
       "      <th>FilePath</th>\n",
       "      <th>subtlety</th>\n",
       "      <th>internalStructure</th>\n",
       "      <th>...</th>\n",
       "      <th>Correlation</th>\n",
       "      <th>Energy</th>\n",
       "      <th>Homogeneity</th>\n",
       "      <th>Entropy</th>\n",
       "      <th>x_3rdordermoment</th>\n",
       "      <th>Inversevariance</th>\n",
       "      <th>Sumaverage</th>\n",
       "      <th>Variance</th>\n",
       "      <th>Clustertendency</th>\n",
       "      <th>MaxProbability</th>\n",
       "    </tr>\n",
       "  </thead>\n",
       "  <tbody>\n",
       "    <tr>\n",
       "      <th>0</th>\n",
       "      <td>0</td>\n",
       "      <td>4</td>\n",
       "      <td>1.3.6.1.4.1.14519.5.2.1.6279.6001.298806137288...</td>\n",
       "      <td>1.3.6.1.4.1.14519.5.2.1.6279.6001.179049373636...</td>\n",
       "      <td>1</td>\n",
       "      <td>1</td>\n",
       "      <td>present</td>\n",
       "      <td>C:\\LIDC_FULL\\LIDC-IDRI\\LIDC-IDRI-0001\\1.3.6.1....</td>\n",
       "      <td>5</td>\n",
       "      <td>1</td>\n",
       "      <td>...</td>\n",
       "      <td>0.894</td>\n",
       "      <td>0.0003</td>\n",
       "      <td>0.0532</td>\n",
       "      <td>8.15</td>\n",
       "      <td>1290000</td>\n",
       "      <td>0.0223</td>\n",
       "      <td>661.0</td>\n",
       "      <td>143000</td>\n",
       "      <td>541000</td>\n",
       "      <td>0.0009</td>\n",
       "    </tr>\n",
       "    <tr>\n",
       "      <th>1</th>\n",
       "      <td>1</td>\n",
       "      <td>75</td>\n",
       "      <td>1.3.6.1.4.1.14519.5.2.1.6279.6001.490157381160...</td>\n",
       "      <td>1.3.6.1.4.1.14519.5.2.1.6279.6001.619372068417...</td>\n",
       "      <td>4</td>\n",
       "      <td>2</td>\n",
       "      <td>present</td>\n",
       "      <td>C:\\LIDC_FULL\\LIDC-IDRI\\LIDC-IDRI-0002\\1.3.6.1....</td>\n",
       "      <td>1</td>\n",
       "      <td>1</td>\n",
       "      <td>...</td>\n",
       "      <td>0.781</td>\n",
       "      <td>0.0005</td>\n",
       "      <td>0.0567</td>\n",
       "      <td>7.76</td>\n",
       "      <td>11100000</td>\n",
       "      <td>0.0221</td>\n",
       "      <td>260.0</td>\n",
       "      <td>32700</td>\n",
       "      <td>115000</td>\n",
       "      <td>0.0012</td>\n",
       "    </tr>\n",
       "    <tr>\n",
       "      <th>2</th>\n",
       "      <td>2</td>\n",
       "      <td>134</td>\n",
       "      <td>1.3.6.1.4.1.14519.5.2.1.6279.6001.101370605276...</td>\n",
       "      <td>1.3.6.1.4.1.14519.5.2.1.6279.6001.170706757615...</td>\n",
       "      <td>4</td>\n",
       "      <td>3</td>\n",
       "      <td>present</td>\n",
       "      <td>C:\\LIDC_FULL\\LIDC-IDRI\\LIDC-IDRI-0003\\1.3.6.1....</td>\n",
       "      <td>5</td>\n",
       "      <td>1</td>\n",
       "      <td>...</td>\n",
       "      <td>0.899</td>\n",
       "      <td>0.0004</td>\n",
       "      <td>0.0572</td>\n",
       "      <td>8.03</td>\n",
       "      <td>735000</td>\n",
       "      <td>0.0247</td>\n",
       "      <td>416.0</td>\n",
       "      <td>111000</td>\n",
       "      <td>420000</td>\n",
       "      <td>0.0010</td>\n",
       "    </tr>\n",
       "    <tr>\n",
       "      <th>3</th>\n",
       "      <td>3</td>\n",
       "      <td>143</td>\n",
       "      <td>1.3.6.1.4.1.14519.5.2.1.6279.6001.101370605276...</td>\n",
       "      <td>1.3.6.1.4.1.14519.5.2.1.6279.6001.170706757615...</td>\n",
       "      <td>4</td>\n",
       "      <td>4</td>\n",
       "      <td>present</td>\n",
       "      <td>C:\\LIDC_FULL\\LIDC-IDRI\\LIDC-IDRI-0003\\1.3.6.1....</td>\n",
       "      <td>3</td>\n",
       "      <td>1</td>\n",
       "      <td>...</td>\n",
       "      <td>0.692</td>\n",
       "      <td>0.0027</td>\n",
       "      <td>0.0312</td>\n",
       "      <td>6.03</td>\n",
       "      <td>-469000</td>\n",
       "      <td>0.0107</td>\n",
       "      <td>420.0</td>\n",
       "      <td>98700</td>\n",
       "      <td>333000</td>\n",
       "      <td>0.0043</td>\n",
       "    </tr>\n",
       "    <tr>\n",
       "      <th>4</th>\n",
       "      <td>4</td>\n",
       "      <td>118</td>\n",
       "      <td>1.3.6.1.4.1.14519.5.2.1.6279.6001.101370605276...</td>\n",
       "      <td>1.3.6.1.4.1.14519.5.2.1.6279.6001.170706757615...</td>\n",
       "      <td>3</td>\n",
       "      <td>5</td>\n",
       "      <td>present</td>\n",
       "      <td>C:\\LIDC_FULL\\LIDC-IDRI\\LIDC-IDRI-0003\\1.3.6.1....</td>\n",
       "      <td>4</td>\n",
       "      <td>1</td>\n",
       "      <td>...</td>\n",
       "      <td>0.793</td>\n",
       "      <td>0.0018</td>\n",
       "      <td>0.0764</td>\n",
       "      <td>6.43</td>\n",
       "      <td>8600000</td>\n",
       "      <td>0.0392</td>\n",
       "      <td>565.0</td>\n",
       "      <td>137000</td>\n",
       "      <td>492000</td>\n",
       "      <td>0.0052</td>\n",
       "    </tr>\n",
       "  </tbody>\n",
       "</table>\n",
       "<p>5 rows × 124 columns</p>\n",
       "</div>"
      ],
      "text/plain": [
       "   Unnamed: 0  InstanceID                                   StudyInstanceUID  \\\n",
       "0           0           4  1.3.6.1.4.1.14519.5.2.1.6279.6001.298806137288...   \n",
       "1           1          75  1.3.6.1.4.1.14519.5.2.1.6279.6001.490157381160...   \n",
       "2           2         134  1.3.6.1.4.1.14519.5.2.1.6279.6001.101370605276...   \n",
       "3           3         143  1.3.6.1.4.1.14519.5.2.1.6279.6001.101370605276...   \n",
       "4           4         118  1.3.6.1.4.1.14519.5.2.1.6279.6001.101370605276...   \n",
       "\n",
       "                                   SeriesInstanceUid  RadiologistID  noduleID  \\\n",
       "0  1.3.6.1.4.1.14519.5.2.1.6279.6001.179049373636...              1         1   \n",
       "1  1.3.6.1.4.1.14519.5.2.1.6279.6001.619372068417...              4         2   \n",
       "2  1.3.6.1.4.1.14519.5.2.1.6279.6001.170706757615...              4         3   \n",
       "3  1.3.6.1.4.1.14519.5.2.1.6279.6001.170706757615...              4         4   \n",
       "4  1.3.6.1.4.1.14519.5.2.1.6279.6001.170706757615...              3         5   \n",
       "\n",
       "  DicomImage                                           FilePath  subtlety  \\\n",
       "0    present  C:\\LIDC_FULL\\LIDC-IDRI\\LIDC-IDRI-0001\\1.3.6.1....         5   \n",
       "1    present  C:\\LIDC_FULL\\LIDC-IDRI\\LIDC-IDRI-0002\\1.3.6.1....         1   \n",
       "2    present  C:\\LIDC_FULL\\LIDC-IDRI\\LIDC-IDRI-0003\\1.3.6.1....         5   \n",
       "3    present  C:\\LIDC_FULL\\LIDC-IDRI\\LIDC-IDRI-0003\\1.3.6.1....         3   \n",
       "4    present  C:\\LIDC_FULL\\LIDC-IDRI\\LIDC-IDRI-0003\\1.3.6.1....         4   \n",
       "\n",
       "   internalStructure  ...  Correlation  Energy  Homogeneity  Entropy  \\\n",
       "0                  1  ...        0.894  0.0003       0.0532     8.15   \n",
       "1                  1  ...        0.781  0.0005       0.0567     7.76   \n",
       "2                  1  ...        0.899  0.0004       0.0572     8.03   \n",
       "3                  1  ...        0.692  0.0027       0.0312     6.03   \n",
       "4                  1  ...        0.793  0.0018       0.0764     6.43   \n",
       "\n",
       "   x_3rdordermoment  Inversevariance  Sumaverage  Variance Clustertendency  \\\n",
       "0           1290000           0.0223       661.0    143000          541000   \n",
       "1          11100000           0.0221       260.0     32700          115000   \n",
       "2            735000           0.0247       416.0    111000          420000   \n",
       "3           -469000           0.0107       420.0     98700          333000   \n",
       "4           8600000           0.0392       565.0    137000          492000   \n",
       "\n",
       "  MaxProbability  \n",
       "0         0.0009  \n",
       "1         0.0012  \n",
       "2         0.0010  \n",
       "3         0.0043  \n",
       "4         0.0052  \n",
       "\n",
       "[5 rows x 124 columns]"
      ]
     },
     "execution_count": 94,
     "metadata": {},
     "output_type": "execute_result"
    }
   ],
   "source": [
    "lidc.head(5)"
   ]
  },
  {
   "cell_type": "code",
   "execution_count": 95,
   "metadata": {},
   "outputs": [],
   "source": [
    "lidc_malig = lidc[['Malignancy_1','Malignancy_2','Malignancy_3','Malignancy_4']]"
   ]
  },
  {
   "cell_type": "code",
   "execution_count": 96,
   "metadata": {},
   "outputs": [],
   "source": [
    "lidc['malignancy'] =lidc_malig.mask(lidc_malig == 0).mode(axis=1).max(axis=1)"
   ]
  },
  {
   "cell_type": "code",
   "execution_count": 108,
   "metadata": {},
   "outputs": [],
   "source": [
    "a =lidc_malig.mask(lidc_malig == 0).mode(axis=1)\n",
    "lidc['difficulty'] = a.isnull().sum(axis=1)\n"
   ]
  },
  {
   "cell_type": "code",
   "execution_count": 109,
   "metadata": {},
   "outputs": [],
   "source": [
    "lidc_spic = lidc[['Spiculation_1','Spiculation_2','Spiculation_3','Spiculation_4']]"
   ]
  },
  {
   "cell_type": "code",
   "execution_count": 110,
   "metadata": {},
   "outputs": [],
   "source": [
    "lidc['spiculation'] = lidc_spic.mask(lidc_spic == 0).mode(axis=1).mean(axis=1).apply(np.ceil)\n"
   ]
  },
  {
   "cell_type": "code",
   "execution_count": 111,
   "metadata": {},
   "outputs": [],
   "source": [
    "image_folder = 'LIDC(MaxSlices)_Nodules'\n",
    "new_image_folder = 'LIDC(MaxSlices)_Nodules(fixed)'\n",
    "\n",
    "noduleID = []\n",
    "\n",
    "for file in os.scandir(image_folder): #might need to run multiple times\n",
    "\n",
    "    #find the nodule malignancy using unique ID\n",
    "    temp_nodule_ID = file.name.split('.')[0]\n",
    "    malignancy = int(lidc[lidc['noduleID']==int(temp_nodule_ID)]['malignancy'].iloc[0])\n",
    "    \n",
    "    if malignancy != 3:\n",
    "        noduleID.append(int(temp_nodule_ID))\n",
    "        \n",
    "    #comment out if don't want to move them\n",
    "    #move image to correct subdirectory\n",
    "    subdir = f'Malignancy_{malignancy}'\n",
    "    shutil.copy(file, os.path.join(new_image_folder, subdir, os.path.basename(os.path.normpath(file))))\n"
   ]
  },
  {
   "cell_type": "code",
   "execution_count": 112,
   "metadata": {},
   "outputs": [
    {
     "data": {
      "text/plain": [
       "1515"
      ]
     },
     "execution_count": 112,
     "metadata": {},
     "output_type": "execute_result"
    }
   ],
   "source": [
    "len(noduleID)"
   ]
  },
  {
   "cell_type": "code",
   "execution_count": 113,
   "metadata": {},
   "outputs": [],
   "source": [
    "# nodules = lidc.loc[lidc['noduleID'].isin(noduleID)][['noduleID', 'malignancy', 'spiculation']]\n",
    "nodules = lidc[['noduleID', 'malignancy', 'spiculation', 'difficulty']]"
   ]
  },
  {
   "cell_type": "code",
   "execution_count": 114,
   "metadata": {},
   "outputs": [
    {
     "data": {
      "text/html": [
       "<div>\n",
       "<style scoped>\n",
       "    .dataframe tbody tr th:only-of-type {\n",
       "        vertical-align: middle;\n",
       "    }\n",
       "\n",
       "    .dataframe tbody tr th {\n",
       "        vertical-align: top;\n",
       "    }\n",
       "\n",
       "    .dataframe thead th {\n",
       "        text-align: right;\n",
       "    }\n",
       "</style>\n",
       "<table border=\"1\" class=\"dataframe\">\n",
       "  <thead>\n",
       "    <tr style=\"text-align: right;\">\n",
       "      <th></th>\n",
       "      <th>noduleID</th>\n",
       "      <th>malignancy</th>\n",
       "      <th>spiculation</th>\n",
       "      <th>difficulty</th>\n",
       "    </tr>\n",
       "  </thead>\n",
       "  <tbody>\n",
       "    <tr>\n",
       "      <th>0</th>\n",
       "      <td>1</td>\n",
       "      <td>5.0</td>\n",
       "      <td>5.0</td>\n",
       "      <td>3</td>\n",
       "    </tr>\n",
       "    <tr>\n",
       "      <th>1</th>\n",
       "      <td>2</td>\n",
       "      <td>5.0</td>\n",
       "      <td>1.0</td>\n",
       "      <td>2</td>\n",
       "    </tr>\n",
       "    <tr>\n",
       "      <th>2</th>\n",
       "      <td>3</td>\n",
       "      <td>5.0</td>\n",
       "      <td>2.0</td>\n",
       "      <td>3</td>\n",
       "    </tr>\n",
       "    <tr>\n",
       "      <th>3</th>\n",
       "      <td>4</td>\n",
       "      <td>4.0</td>\n",
       "      <td>2.0</td>\n",
       "      <td>3</td>\n",
       "    </tr>\n",
       "    <tr>\n",
       "      <th>4</th>\n",
       "      <td>5</td>\n",
       "      <td>5.0</td>\n",
       "      <td>1.0</td>\n",
       "      <td>0</td>\n",
       "    </tr>\n",
       "  </tbody>\n",
       "</table>\n",
       "</div>"
      ],
      "text/plain": [
       "   noduleID  malignancy  spiculation  difficulty\n",
       "0         1         5.0          5.0           3\n",
       "1         2         5.0          1.0           2\n",
       "2         3         5.0          2.0           3\n",
       "3         4         4.0          2.0           3\n",
       "4         5         5.0          1.0           0"
      ]
     },
     "execution_count": 114,
     "metadata": {},
     "output_type": "execute_result"
    }
   ],
   "source": [
    "nodules.head(5)"
   ]
  },
  {
   "cell_type": "code",
   "execution_count": 115,
   "metadata": {},
   "outputs": [],
   "source": [
    "malignancy_b = ['malignant' if node > 3 else 'benign' for node in nodules['malignancy']]\n",
    "spiculation_b = ['unmarked' if node < 2 else 'marked' for node in nodules['spiculation']]"
   ]
  },
  {
   "cell_type": "code",
   "execution_count": 116,
   "metadata": {
    "scrolled": true
   },
   "outputs": [
    {
     "name": "stderr",
     "output_type": "stream",
     "text": [
      "C:\\Users\\tzeng1\\AppData\\Local\\Temp\\ipykernel_15552\\2186667809.py:1: SettingWithCopyWarning: \n",
      "A value is trying to be set on a copy of a slice from a DataFrame.\n",
      "Try using .loc[row_indexer,col_indexer] = value instead\n",
      "\n",
      "See the caveats in the documentation: https://pandas.pydata.org/pandas-docs/stable/user_guide/indexing.html#returning-a-view-versus-a-copy\n",
      "  nodules['malignancy_b'] = malignancy_b\n",
      "C:\\Users\\tzeng1\\AppData\\Local\\Temp\\ipykernel_15552\\2186667809.py:2: SettingWithCopyWarning: \n",
      "A value is trying to be set on a copy of a slice from a DataFrame.\n",
      "Try using .loc[row_indexer,col_indexer] = value instead\n",
      "\n",
      "See the caveats in the documentation: https://pandas.pydata.org/pandas-docs/stable/user_guide/indexing.html#returning-a-view-versus-a-copy\n",
      "  nodules['spiculation_b'] = spiculation_b\n"
     ]
    }
   ],
   "source": [
    "nodules['malignancy_b'] = malignancy_b\n",
    "nodules['spiculation_b'] = spiculation_b"
   ]
  },
  {
   "cell_type": "code",
   "execution_count": 117,
   "metadata": {},
   "outputs": [
    {
     "data": {
      "text/html": [
       "<div>\n",
       "<style scoped>\n",
       "    .dataframe tbody tr th:only-of-type {\n",
       "        vertical-align: middle;\n",
       "    }\n",
       "\n",
       "    .dataframe tbody tr th {\n",
       "        vertical-align: top;\n",
       "    }\n",
       "\n",
       "    .dataframe thead th {\n",
       "        text-align: right;\n",
       "    }\n",
       "</style>\n",
       "<table border=\"1\" class=\"dataframe\">\n",
       "  <thead>\n",
       "    <tr style=\"text-align: right;\">\n",
       "      <th></th>\n",
       "      <th>noduleID</th>\n",
       "      <th>malignancy</th>\n",
       "      <th>spiculation</th>\n",
       "      <th>difficulty</th>\n",
       "      <th>malignancy_b</th>\n",
       "      <th>spiculation_b</th>\n",
       "    </tr>\n",
       "  </thead>\n",
       "  <tbody>\n",
       "    <tr>\n",
       "      <th>0</th>\n",
       "      <td>1</td>\n",
       "      <td>5.0</td>\n",
       "      <td>5.0</td>\n",
       "      <td>3</td>\n",
       "      <td>malignant</td>\n",
       "      <td>marked</td>\n",
       "    </tr>\n",
       "    <tr>\n",
       "      <th>1</th>\n",
       "      <td>2</td>\n",
       "      <td>5.0</td>\n",
       "      <td>1.0</td>\n",
       "      <td>2</td>\n",
       "      <td>malignant</td>\n",
       "      <td>unmarked</td>\n",
       "    </tr>\n",
       "    <tr>\n",
       "      <th>2</th>\n",
       "      <td>3</td>\n",
       "      <td>5.0</td>\n",
       "      <td>2.0</td>\n",
       "      <td>3</td>\n",
       "      <td>malignant</td>\n",
       "      <td>marked</td>\n",
       "    </tr>\n",
       "    <tr>\n",
       "      <th>3</th>\n",
       "      <td>4</td>\n",
       "      <td>4.0</td>\n",
       "      <td>2.0</td>\n",
       "      <td>3</td>\n",
       "      <td>malignant</td>\n",
       "      <td>marked</td>\n",
       "    </tr>\n",
       "    <tr>\n",
       "      <th>4</th>\n",
       "      <td>5</td>\n",
       "      <td>5.0</td>\n",
       "      <td>1.0</td>\n",
       "      <td>0</td>\n",
       "      <td>malignant</td>\n",
       "      <td>unmarked</td>\n",
       "    </tr>\n",
       "  </tbody>\n",
       "</table>\n",
       "</div>"
      ],
      "text/plain": [
       "   noduleID  malignancy  spiculation  difficulty malignancy_b spiculation_b\n",
       "0         1         5.0          5.0           3    malignant        marked\n",
       "1         2         5.0          1.0           2    malignant      unmarked\n",
       "2         3         5.0          2.0           3    malignant        marked\n",
       "3         4         4.0          2.0           3    malignant        marked\n",
       "4         5         5.0          1.0           0    malignant      unmarked"
      ]
     },
     "execution_count": 117,
     "metadata": {},
     "output_type": "execute_result"
    }
   ],
   "source": [
    "nodules.head(5)"
   ]
  },
  {
   "cell_type": "code",
   "execution_count": 118,
   "metadata": {},
   "outputs": [
    {
     "data": {
      "text/plain": [
       "difficulty  malignancy_b\n",
       "0           malignant         54\n",
       "1           benign            20\n",
       "            malignant         80\n",
       "2           benign           277\n",
       "            malignant        136\n",
       "3           benign          1700\n",
       "            malignant        420\n",
       "4           benign             1\n",
       "dtype: int64"
      ]
     },
     "execution_count": 118,
     "metadata": {},
     "output_type": "execute_result"
    }
   ],
   "source": [
    "nodules.groupby(['difficulty', 'malignancy_b']).size()"
   ]
  },
  {
   "cell_type": "code",
   "execution_count": 31,
   "metadata": {},
   "outputs": [
    {
     "data": {
      "text/plain": [
       "0.8777239709443099"
      ]
     },
     "execution_count": 31,
     "metadata": {},
     "output_type": "execute_result"
    }
   ],
   "source": [
    "725 / (725+101)"
   ]
  },
  {
   "cell_type": "code",
   "execution_count": 32,
   "metadata": {},
   "outputs": [
    {
     "data": {
      "text/plain": [
       "0.590711175616836"
      ]
     },
     "execution_count": 32,
     "metadata": {},
     "output_type": "execute_result"
    }
   ],
   "source": [
    "407 / (407+282)"
   ]
  },
  {
   "cell_type": "code",
   "execution_count": 33,
   "metadata": {},
   "outputs": [
    {
     "data": {
      "text/plain": [
       "0.7471947194719472"
      ]
     },
     "execution_count": 33,
     "metadata": {},
     "output_type": "execute_result"
    }
   ],
   "source": [
    "(725+407) / (725+101+407+282)"
   ]
  },
  {
   "cell_type": "code",
   "execution_count": 15,
   "metadata": {},
   "outputs": [
    {
     "name": "stderr",
     "output_type": "stream",
     "text": [
      "C:\\Users\\free\\AppData\\Local\\Temp\\ipykernel_9044\\816203736.py:1: SettingWithCopyWarning: \n",
      "A value is trying to be set on a copy of a slice from a DataFrame.\n",
      "Try using .loc[row_indexer,col_indexer] = value instead\n",
      "\n",
      "See the caveats in the documentation: https://pandas.pydata.org/pandas-docs/stable/user_guide/indexing.html#returning-a-view-versus-a-copy\n",
      "  nodules['subgroup'] = [f'{spic}_{malig}' for spic,malig in zip(nodules['spiculation_b'], nodules['malignancy_b'])]\n"
     ]
    }
   ],
   "source": [
    "nodules['subgroup'] = [f'{spic}_{malig}' for spic,malig in zip(nodules['spiculation_b'], nodules['malignancy_b'])]"
   ]
  },
  {
   "cell_type": "code",
   "execution_count": 16,
   "metadata": {},
   "outputs": [
    {
     "data": {
      "text/html": [
       "<div>\n",
       "<style scoped>\n",
       "    .dataframe tbody tr th:only-of-type {\n",
       "        vertical-align: middle;\n",
       "    }\n",
       "\n",
       "    .dataframe tbody tr th {\n",
       "        vertical-align: top;\n",
       "    }\n",
       "\n",
       "    .dataframe thead th {\n",
       "        text-align: right;\n",
       "    }\n",
       "</style>\n",
       "<table border=\"1\" class=\"dataframe\">\n",
       "  <thead>\n",
       "    <tr style=\"text-align: right;\">\n",
       "      <th></th>\n",
       "      <th>noduleID</th>\n",
       "      <th>malignancy</th>\n",
       "      <th>spiculation</th>\n",
       "      <th>malignancy_b</th>\n",
       "      <th>spiculation_b</th>\n",
       "      <th>subgroup</th>\n",
       "    </tr>\n",
       "  </thead>\n",
       "  <tbody>\n",
       "    <tr>\n",
       "      <th>0</th>\n",
       "      <td>0</td>\n",
       "      <td>5</td>\n",
       "      <td>4</td>\n",
       "      <td>malignant</td>\n",
       "      <td>marked</td>\n",
       "      <td>marked_malignant</td>\n",
       "    </tr>\n",
       "    <tr>\n",
       "      <th>1</th>\n",
       "      <td>1</td>\n",
       "      <td>0</td>\n",
       "      <td>0</td>\n",
       "      <td>benign</td>\n",
       "      <td>unmarked</td>\n",
       "      <td>unmarked_benign</td>\n",
       "    </tr>\n",
       "    <tr>\n",
       "      <th>2</th>\n",
       "      <td>2</td>\n",
       "      <td>5</td>\n",
       "      <td>2</td>\n",
       "      <td>malignant</td>\n",
       "      <td>marked</td>\n",
       "      <td>marked_malignant</td>\n",
       "    </tr>\n",
       "    <tr>\n",
       "      <th>3</th>\n",
       "      <td>3</td>\n",
       "      <td>4</td>\n",
       "      <td>1</td>\n",
       "      <td>malignant</td>\n",
       "      <td>unmarked</td>\n",
       "      <td>unmarked_malignant</td>\n",
       "    </tr>\n",
       "    <tr>\n",
       "      <th>4</th>\n",
       "      <td>4</td>\n",
       "      <td>4</td>\n",
       "      <td>1</td>\n",
       "      <td>malignant</td>\n",
       "      <td>unmarked</td>\n",
       "      <td>unmarked_malignant</td>\n",
       "    </tr>\n",
       "  </tbody>\n",
       "</table>\n",
       "</div>"
      ],
      "text/plain": [
       "   noduleID  malignancy  spiculation malignancy_b spiculation_b  \\\n",
       "0         0           5            4    malignant        marked   \n",
       "1         1           0            0       benign      unmarked   \n",
       "2         2           5            2    malignant        marked   \n",
       "3         3           4            1    malignant      unmarked   \n",
       "4         4           4            1    malignant      unmarked   \n",
       "\n",
       "             subgroup  \n",
       "0    marked_malignant  \n",
       "1     unmarked_benign  \n",
       "2    marked_malignant  \n",
       "3  unmarked_malignant  \n",
       "4  unmarked_malignant  "
      ]
     },
     "execution_count": 16,
     "metadata": {},
     "output_type": "execute_result"
    }
   ],
   "source": [
    "nodules.head(5)"
   ]
  },
  {
   "cell_type": "code",
   "execution_count": 17,
   "metadata": {},
   "outputs": [],
   "source": [
    "nodules.to_csv('lidc_spic_subgrouped.csv')"
   ]
  },
  {
   "cell_type": "code",
   "execution_count": null,
   "metadata": {},
   "outputs": [],
   "source": []
  }
 ],
 "metadata": {
  "kernelspec": {
   "display_name": "Python 3 (ipykernel)",
   "language": "python",
   "name": "python3"
  },
  "language_info": {
   "codemirror_mode": {
    "name": "ipython",
    "version": 3
   },
   "file_extension": ".py",
   "mimetype": "text/x-python",
   "name": "python",
   "nbconvert_exporter": "python",
   "pygments_lexer": "ipython3",
   "version": "3.9.12"
  }
 },
 "nbformat": 4,
 "nbformat_minor": 2
}
