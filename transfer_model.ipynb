{
  "cells": [
    {
      "cell_type": "markdown",
      "metadata": {
        "id": "view-in-github",
        "colab_type": "text"
      },
      "source": [
        "<a href=\"https://colab.research.google.com/github/mtzig/LIDC_GDRO/blob/main/transfer_model.ipynb\" target=\"_parent\"><img src=\"https://colab.research.google.com/assets/colab-badge.svg\" alt=\"Open In Colab\"/></a>"
      ]
    },
    {
      "cell_type": "code",
      "source": [
        "!git clone https://github.com/mtzig/LIDC_GDRO.git\n",
        "%cd /content/LIDC_GDRO"
      ],
      "metadata": {
        "id": "cS_sDpQXB-vm",
        "outputId": "69643418-1d9a-427e-d924-adf739917d05",
        "colab": {
          "base_uri": "https://localhost:8080/"
        }
      },
      "execution_count": 169,
      "outputs": [
        {
          "output_type": "stream",
          "name": "stdout",
          "text": [
            "fatal: destination path 'LIDC_GDRO' already exists and is not an empty directory.\n",
            "/content/LIDC_GDRO\n"
          ]
        }
      ]
    },
    {
      "cell_type": "code",
      "source": [
        "!git pull"
      ],
      "metadata": {
        "colab": {
          "base_uri": "https://localhost:8080/"
        },
        "id": "oeQp6jDCLEm4",
        "outputId": "494fa399-b821-4cd5-ea6d-a8ad32a7c062"
      },
      "execution_count": 170,
      "outputs": [
        {
          "output_type": "stream",
          "name": "stdout",
          "text": [
            "Already up to date.\n"
          ]
        }
      ]
    },
    {
      "cell_type": "code",
      "source": [
        "%load_ext autoreload\n",
        "%autoreload 2"
      ],
      "metadata": {
        "id": "GPkWP3eVGTBn",
        "outputId": "0d5f8ce0-8be6-4792-96e9-242e28aed76c",
        "colab": {
          "base_uri": "https://localhost:8080/"
        }
      },
      "execution_count": 171,
      "outputs": [
        {
          "output_type": "stream",
          "name": "stdout",
          "text": [
            "The autoreload extension is already loaded. To reload it, use:\n",
            "  %reload_ext autoreload\n"
          ]
        }
      ]
    },
    {
      "cell_type": "code",
      "execution_count": 172,
      "metadata": {
        "id": "OOHhqpFoB8fn"
      },
      "outputs": [],
      "source": [
        "import os\n",
        "import torch\n",
        "import pandas as pd\n",
        "import numpy as np\n",
        "from datasets import NoduleDataset\n",
        "from dataloaders import SubtypedDataLoader"
      ]
    },
    {
      "cell_type": "code",
      "execution_count": 173,
      "metadata": {
        "id": "98x3-CdyB8fq",
        "outputId": "294c4963-3da1-42a8-d6ff-eac0aae353d6",
        "colab": {
          "base_uri": "https://localhost:8080/"
        }
      },
      "outputs": [
        {
          "output_type": "stream",
          "name": "stdout",
          "text": [
            "Good to go!\n"
          ]
        }
      ],
      "source": [
        "if torch.cuda.is_available():\n",
        "    print(\"Good to go!\")\n",
        "    DEVICE = torch.device(\"cuda\")\n",
        "else:\n",
        "    print(\"Using cpu\")\n",
        "    DEVICE = torch.device(\"cpu\")"
      ]
    },
    {
      "cell_type": "code",
      "execution_count": 174,
      "metadata": {
        "id": "twWudP8uB8fr",
        "outputId": "71353fb8-2a83-4f1a-98a0-cb21bfeffa8a",
        "colab": {
          "base_uri": "https://localhost:8080/",
          "height": 206
        }
      },
      "outputs": [
        {
          "output_type": "execute_result",
          "data": {
            "text/plain": [
              "   noduleID  malignancy  spiculation malignancy_b spiculation_b  \\\n",
              "0         1         5.0          5.0    malignant        marked   \n",
              "1         2         5.0          1.0    malignant      unmarked   \n",
              "2         3         5.0          2.0    malignant        marked   \n",
              "3         4         4.0          2.0    malignant        marked   \n",
              "4         5         5.0          1.0    malignant      unmarked   \n",
              "\n",
              "             subgroup  \n",
              "0    marked_malignant  \n",
              "1  unmarked_malignant  \n",
              "2    marked_malignant  \n",
              "3    marked_malignant  \n",
              "4  unmarked_malignant  "
            ],
            "text/html": [
              "\n",
              "  <div id=\"df-7dc0e3cd-520d-45ef-bc8e-cb034a62cf2c\">\n",
              "    <div class=\"colab-df-container\">\n",
              "      <div>\n",
              "<style scoped>\n",
              "    .dataframe tbody tr th:only-of-type {\n",
              "        vertical-align: middle;\n",
              "    }\n",
              "\n",
              "    .dataframe tbody tr th {\n",
              "        vertical-align: top;\n",
              "    }\n",
              "\n",
              "    .dataframe thead th {\n",
              "        text-align: right;\n",
              "    }\n",
              "</style>\n",
              "<table border=\"1\" class=\"dataframe\">\n",
              "  <thead>\n",
              "    <tr style=\"text-align: right;\">\n",
              "      <th></th>\n",
              "      <th>noduleID</th>\n",
              "      <th>malignancy</th>\n",
              "      <th>spiculation</th>\n",
              "      <th>malignancy_b</th>\n",
              "      <th>spiculation_b</th>\n",
              "      <th>subgroup</th>\n",
              "    </tr>\n",
              "  </thead>\n",
              "  <tbody>\n",
              "    <tr>\n",
              "      <th>0</th>\n",
              "      <td>1</td>\n",
              "      <td>5.0</td>\n",
              "      <td>5.0</td>\n",
              "      <td>malignant</td>\n",
              "      <td>marked</td>\n",
              "      <td>marked_malignant</td>\n",
              "    </tr>\n",
              "    <tr>\n",
              "      <th>1</th>\n",
              "      <td>2</td>\n",
              "      <td>5.0</td>\n",
              "      <td>1.0</td>\n",
              "      <td>malignant</td>\n",
              "      <td>unmarked</td>\n",
              "      <td>unmarked_malignant</td>\n",
              "    </tr>\n",
              "    <tr>\n",
              "      <th>2</th>\n",
              "      <td>3</td>\n",
              "      <td>5.0</td>\n",
              "      <td>2.0</td>\n",
              "      <td>malignant</td>\n",
              "      <td>marked</td>\n",
              "      <td>marked_malignant</td>\n",
              "    </tr>\n",
              "    <tr>\n",
              "      <th>3</th>\n",
              "      <td>4</td>\n",
              "      <td>4.0</td>\n",
              "      <td>2.0</td>\n",
              "      <td>malignant</td>\n",
              "      <td>marked</td>\n",
              "      <td>marked_malignant</td>\n",
              "    </tr>\n",
              "    <tr>\n",
              "      <th>4</th>\n",
              "      <td>5</td>\n",
              "      <td>5.0</td>\n",
              "      <td>1.0</td>\n",
              "      <td>malignant</td>\n",
              "      <td>unmarked</td>\n",
              "      <td>unmarked_malignant</td>\n",
              "    </tr>\n",
              "  </tbody>\n",
              "</table>\n",
              "</div>\n",
              "      <button class=\"colab-df-convert\" onclick=\"convertToInteractive('df-7dc0e3cd-520d-45ef-bc8e-cb034a62cf2c')\"\n",
              "              title=\"Convert this dataframe to an interactive table.\"\n",
              "              style=\"display:none;\">\n",
              "        \n",
              "  <svg xmlns=\"http://www.w3.org/2000/svg\" height=\"24px\"viewBox=\"0 0 24 24\"\n",
              "       width=\"24px\">\n",
              "    <path d=\"M0 0h24v24H0V0z\" fill=\"none\"/>\n",
              "    <path d=\"M18.56 5.44l.94 2.06.94-2.06 2.06-.94-2.06-.94-.94-2.06-.94 2.06-2.06.94zm-11 1L8.5 8.5l.94-2.06 2.06-.94-2.06-.94L8.5 2.5l-.94 2.06-2.06.94zm10 10l.94 2.06.94-2.06 2.06-.94-2.06-.94-.94-2.06-.94 2.06-2.06.94z\"/><path d=\"M17.41 7.96l-1.37-1.37c-.4-.4-.92-.59-1.43-.59-.52 0-1.04.2-1.43.59L10.3 9.45l-7.72 7.72c-.78.78-.78 2.05 0 2.83L4 21.41c.39.39.9.59 1.41.59.51 0 1.02-.2 1.41-.59l7.78-7.78 2.81-2.81c.8-.78.8-2.07 0-2.86zM5.41 20L4 18.59l7.72-7.72 1.47 1.35L5.41 20z\"/>\n",
              "  </svg>\n",
              "      </button>\n",
              "      \n",
              "  <style>\n",
              "    .colab-df-container {\n",
              "      display:flex;\n",
              "      flex-wrap:wrap;\n",
              "      gap: 12px;\n",
              "    }\n",
              "\n",
              "    .colab-df-convert {\n",
              "      background-color: #E8F0FE;\n",
              "      border: none;\n",
              "      border-radius: 50%;\n",
              "      cursor: pointer;\n",
              "      display: none;\n",
              "      fill: #1967D2;\n",
              "      height: 32px;\n",
              "      padding: 0 0 0 0;\n",
              "      width: 32px;\n",
              "    }\n",
              "\n",
              "    .colab-df-convert:hover {\n",
              "      background-color: #E2EBFA;\n",
              "      box-shadow: 0px 1px 2px rgba(60, 64, 67, 0.3), 0px 1px 3px 1px rgba(60, 64, 67, 0.15);\n",
              "      fill: #174EA6;\n",
              "    }\n",
              "\n",
              "    [theme=dark] .colab-df-convert {\n",
              "      background-color: #3B4455;\n",
              "      fill: #D2E3FC;\n",
              "    }\n",
              "\n",
              "    [theme=dark] .colab-df-convert:hover {\n",
              "      background-color: #434B5C;\n",
              "      box-shadow: 0px 1px 3px 1px rgba(0, 0, 0, 0.15);\n",
              "      filter: drop-shadow(0px 1px 2px rgba(0, 0, 0, 0.3));\n",
              "      fill: #FFFFFF;\n",
              "    }\n",
              "  </style>\n",
              "\n",
              "      <script>\n",
              "        const buttonEl =\n",
              "          document.querySelector('#df-7dc0e3cd-520d-45ef-bc8e-cb034a62cf2c button.colab-df-convert');\n",
              "        buttonEl.style.display =\n",
              "          google.colab.kernel.accessAllowed ? 'block' : 'none';\n",
              "\n",
              "        async function convertToInteractive(key) {\n",
              "          const element = document.querySelector('#df-7dc0e3cd-520d-45ef-bc8e-cb034a62cf2c');\n",
              "          const dataTable =\n",
              "            await google.colab.kernel.invokeFunction('convertToInteractive',\n",
              "                                                     [key], {});\n",
              "          if (!dataTable) return;\n",
              "\n",
              "          const docLinkHtml = 'Like what you see? Visit the ' +\n",
              "            '<a target=\"_blank\" href=https://colab.research.google.com/notebooks/data_table.ipynb>data table notebook</a>'\n",
              "            + ' to learn more about interactive tables.';\n",
              "          element.innerHTML = '';\n",
              "          dataTable['output_type'] = 'display_data';\n",
              "          await google.colab.output.renderOutput(dataTable, element);\n",
              "          const docLink = document.createElement('div');\n",
              "          docLink.innerHTML = docLinkHtml;\n",
              "          element.appendChild(docLink);\n",
              "        }\n",
              "      </script>\n",
              "    </div>\n",
              "  </div>\n",
              "  "
            ]
          },
          "metadata": {},
          "execution_count": 174
        }
      ],
      "source": [
        "lidc_subtyped = pd.read_csv('./data/lidc_spic_subgrouped.csv', index_col=0)\n",
        "lidc_subtyped.head(5)"
      ]
    },
    {
      "cell_type": "code",
      "source": [
        "lidc_subtyped.groupby(['spiculation_b', 'malignancy_b']).size()"
      ],
      "metadata": {
        "colab": {
          "base_uri": "https://localhost:8080/"
        },
        "id": "47Sn_pqAhs0o",
        "outputId": "7fc4c09d-4cc5-4a3b-a033-7b5422ef5cea"
      },
      "execution_count": 175,
      "outputs": [
        {
          "output_type": "execute_result",
          "data": {
            "text/plain": [
              "spiculation_b  malignancy_b\n",
              "marked         benign          101\n",
              "               malignant       407\n",
              "unmarked       benign          725\n",
              "               malignant       282\n",
              "dtype: int64"
            ]
          },
          "metadata": {},
          "execution_count": 175
        }
      ]
    },
    {
      "cell_type": "code",
      "execution_count": 176,
      "metadata": {
        "id": "L8cEI9G3B8fs"
      },
      "outputs": [],
      "source": [
        "def getNormed(this_array, this_min = 0, this_max = 255, set_to_int = True):\n",
        "    \n",
        "    rat = (this_max - this_min)/(this_array.max() - this_array.min())\n",
        "    this_array = this_array * rat\n",
        "    this_array -= this_array.min()\n",
        "    this_array += this_min\n",
        "    if set_to_int:\n",
        "        return this_array.to(dtype= torch.int)\n",
        "    return this_array"
      ]
    },
    {
      "cell_type": "code",
      "execution_count": 177,
      "metadata": {
        "id": "kIO2TTB6B8fs"
      },
      "outputs": [],
      "source": [
        "def getImages(image_folder):\n",
        "    '''\n",
        "        Input:\n",
        "        image_folder: directory of the image files\n",
        "\n",
        "        Output:\n",
        "        m1: list of the labels encountered (1,2,4,5)\n",
        "        m2: list of binary labels encountered (benign, malignant)\n",
        "        diff: list of any nodes with discrepency to CSV labels\n",
        "\n",
        "    '''\n",
        "    \n",
        "    train_img = []\n",
        "    train_label = []\n",
        "    train_spic_label = []\n",
        "\n",
        "    t_marked_benign = []\n",
        "    t_unmarked_benign = []\n",
        "    \n",
        "    t_marked_malignant = []\n",
        "    t_unmarked_malignant = []\n",
        "\n",
        "\n",
        "\n",
        "\n",
        "    marked_benign = []\n",
        "    unmarked_benign = []\n",
        "    \n",
        "    marked_malignant = []\n",
        "    unmarked_malignant = []\n",
        "\n",
        "    \n",
        "\n",
        "    lidc = pd.read_csv('./data/lidc_spic_subgrouped.csv')\n",
        "    train_test = pd.read_csv('./data/lidc_train_test_split_stratified.csv')\n",
        "    for dir1 in os.listdir(image_folder):\n",
        "  \n",
        "        if dir1 == 'Malignancy_3':\n",
        "            continue\n",
        "\n",
        "        for file in os.listdir(os.path.join(image_folder, dir1)):\n",
        "\n",
        "\n",
        "            temp_nodule_ID = file.split('.')[0]\n",
        "            subtype = lidc[lidc['noduleID']==int(temp_nodule_ID)]['subgroup'].iloc[0]\n",
        "            malignancy = lidc[lidc['noduleID']==int(temp_nodule_ID)]['malignancy'].iloc[0]\n",
        "            spiculation = lidc[lidc['noduleID']==int(temp_nodule_ID)]['malignancy'].iloc[0]\n",
        "            \n",
        "            train_type = train_test[train_test['noduleID'] ==int(temp_nodule_ID)]['dataset'].iloc[0]\n",
        "            \n",
        "            \n",
        "            image = np.loadtxt(os.path.join(image_folder, dir1,file))\n",
        "            image = torch.from_numpy(image).to(DEVICE)\n",
        "            rgb_image = torch.stack((image,image,image), dim = 0)\n",
        "            rgb_image = getNormed(rgb_image)\n",
        "            rgb_image = rgb_image / 255 \n",
        "\n",
        "            \n",
        "            \n",
        "            if train_type == 'train':\n",
        "                train_img.append(rgb_image)\n",
        "                train_label.append(torch.tensor(1).to(DEVICE).to(torch.float32) if malignancy > 3 else torch.tensor(0).to(DEVICE).to(torch.float32))\n",
        "                train_spic_label.append(torch.tensor(1).to(DEVICE).to(torch.float32) if spiculation > 1 else torch.tensor(0).to(DEVICE).to(torch.float32))\n",
        "\n",
        "\n",
        "                if subtype == 'marked_benign':\n",
        "                  image_array = t_marked_benign\n",
        "                elif subtype == 'unmarked_benign':\n",
        "                  image_array = t_unmarked_benign\n",
        "                elif subtype == 'marked_malignant':\n",
        "                  image_array = t_marked_malignant\n",
        "                else:\n",
        "                  image_array = t_unmarked_malignant\n",
        "            \n",
        "                image_array.append(rgb_image)\n",
        "                \n",
        "                continue\n",
        "            \n",
        "            if subtype == 'marked_benign':\n",
        "                image_array = marked_benign\n",
        "            elif subtype == 'unmarked_benign':\n",
        "                image_array = unmarked_benign\n",
        "            elif subtype == 'marked_malignant':\n",
        "                image_array = marked_malignant\n",
        "            else:\n",
        "                image_array = unmarked_malignant\n",
        "            \n",
        "            image_array.append(rgb_image)\n",
        " \n",
        "    train_img_gdro = [(t_marked_benign, torch.tensor(0).to(DEVICE).to(torch.float32)), \n",
        "                      (t_unmarked_benign,torch.tensor(0).to(DEVICE).to(torch.float32)), \n",
        "                      (t_marked_malignant, torch.tensor(1).to(DEVICE).to(torch.float32)), \n",
        "                      (t_unmarked_malignant, torch.tensor(1).to(DEVICE).to(torch.float32))]\n",
        "\n",
        "    return train_img, train_label, train_img_gdro, train_spic_label, marked_benign, unmarked_benign, marked_malignant, unmarked_malignant\n"
      ]
    },
    {
      "cell_type": "code",
      "execution_count": 178,
      "metadata": {
        "id": "SpumvIFFB8fu"
      },
      "outputs": [],
      "source": [
        "train_img, train_label, train_img_gdro, train_spic_label, marked_benign, unmarked_benign, marked_malignant, unmarked_malignant = getImages('./LIDC(MaxSlices)_Nodules(fixed)')"
      ]
    },
    {
      "cell_type": "code",
      "source": [
        "sum(train_spic_label)"
      ],
      "metadata": {
        "colab": {
          "base_uri": "https://localhost:8080/"
        },
        "id": "94s07j2Si-ze",
        "outputId": "342ad5e1-3594-4012-976a-c42ffc83ff0b"
      },
      "execution_count": 179,
      "outputs": [
        {
          "output_type": "execute_result",
          "data": {
            "text/plain": [
              "tensor(949., device='cuda:0')"
            ]
          },
          "metadata": {},
          "execution_count": 179
        }
      ]
    },
    {
      "cell_type": "code",
      "execution_count": 180,
      "metadata": {
        "id": "4ibouW1fB8fu",
        "outputId": "dff71791-1604-4f27-d602-0a7fa5960700",
        "colab": {
          "base_uri": "https://localhost:8080/"
        }
      },
      "outputs": [
        {
          "output_type": "execute_result",
          "data": {
            "text/plain": [
              "1210"
            ]
          },
          "metadata": {},
          "execution_count": 180
        }
      ],
      "source": [
        "len(train_img)"
      ]
    },
    {
      "cell_type": "code",
      "execution_count": 181,
      "metadata": {
        "id": "qjZDUQeaB8fu",
        "outputId": "b20bbd35-7ea1-4f2b-d671-64fe3853daf5",
        "colab": {
          "base_uri": "https://localhost:8080/"
        }
      },
      "outputs": [
        {
          "output_type": "execute_result",
          "data": {
            "text/plain": [
              "21"
            ]
          },
          "metadata": {},
          "execution_count": 181
        }
      ],
      "source": [
        "len(marked_benign)"
      ]
    },
    {
      "cell_type": "code",
      "execution_count": 182,
      "metadata": {
        "id": "KRQgDDJvB8fv",
        "outputId": "2f52aa3b-5bde-4ce7-ae9f-d77bff413871",
        "colab": {
          "base_uri": "https://localhost:8080/"
        }
      },
      "outputs": [
        {
          "output_type": "execute_result",
          "data": {
            "text/plain": [
              "145"
            ]
          },
          "metadata": {},
          "execution_count": 182
        }
      ],
      "source": [
        "len(unmarked_benign)"
      ]
    },
    {
      "cell_type": "code",
      "execution_count": 183,
      "metadata": {
        "id": "rpXfLcsKB8fv",
        "outputId": "3602d7dd-9ff2-4e83-93ce-309725c1b6a3",
        "colab": {
          "base_uri": "https://localhost:8080/"
        }
      },
      "outputs": [
        {
          "output_type": "execute_result",
          "data": {
            "text/plain": [
              "82"
            ]
          },
          "metadata": {},
          "execution_count": 183
        }
      ],
      "source": [
        "len(marked_malignant)"
      ]
    },
    {
      "cell_type": "code",
      "execution_count": 184,
      "metadata": {
        "id": "fMoIw8G5B8fw",
        "outputId": "52f6c66d-83b5-458a-b32d-6ce856f9251f",
        "colab": {
          "base_uri": "https://localhost:8080/"
        }
      },
      "outputs": [
        {
          "output_type": "execute_result",
          "data": {
            "text/plain": [
              "57"
            ]
          },
          "metadata": {},
          "execution_count": 184
        }
      ],
      "source": [
        "len(unmarked_malignant)"
      ]
    },
    {
      "cell_type": "markdown",
      "metadata": {
        "id": "bCg3_K5qB8fy"
      },
      "source": [
        "#model train!!!"
      ]
    },
    {
      "cell_type": "code",
      "execution_count": 185,
      "metadata": {
        "id": "iJz4a0s0B8fy"
      },
      "outputs": [],
      "source": [
        "from models import VGGNet\n",
        "from loss import ERMLoss, GDROLoss\n",
        "from datasets import NoduleDataset\n",
        "from dataloaders import InfiniteDataLoader\n",
        "\n",
        "import train"
      ]
    },
    {
      "cell_type": "code",
      "execution_count": 186,
      "metadata": {
        "id": "aq-BSEHnB8fy"
      },
      "outputs": [],
      "source": [
        "model = VGGNet(device=DEVICE)"
      ]
    },
    {
      "cell_type": "code",
      "source": [
        "model"
      ],
      "metadata": {
        "colab": {
          "base_uri": "https://localhost:8080/"
        },
        "id": "hIyQxPWbblxG",
        "outputId": "b387ee3c-908a-4942-b020-9ae141c7c334"
      },
      "execution_count": 187,
      "outputs": [
        {
          "output_type": "execute_result",
          "data": {
            "text/plain": [
              "VGGNet(\n",
              "  (model): VGG(\n",
              "    (features): Sequential(\n",
              "      (0): Conv2d(3, 64, kernel_size=(3, 3), stride=(1, 1), padding=(1, 1))\n",
              "      (1): ReLU(inplace=True)\n",
              "      (2): Conv2d(64, 64, kernel_size=(3, 3), stride=(1, 1), padding=(1, 1))\n",
              "      (3): ReLU(inplace=True)\n",
              "      (4): MaxPool2d(kernel_size=2, stride=2, padding=0, dilation=1, ceil_mode=False)\n",
              "      (5): Conv2d(64, 128, kernel_size=(3, 3), stride=(1, 1), padding=(1, 1))\n",
              "      (6): ReLU(inplace=True)\n",
              "      (7): Conv2d(128, 128, kernel_size=(3, 3), stride=(1, 1), padding=(1, 1))\n",
              "      (8): ReLU(inplace=True)\n",
              "      (9): MaxPool2d(kernel_size=2, stride=2, padding=0, dilation=1, ceil_mode=False)\n",
              "      (10): Conv2d(128, 256, kernel_size=(3, 3), stride=(1, 1), padding=(1, 1))\n",
              "      (11): ReLU(inplace=True)\n",
              "      (12): Conv2d(256, 256, kernel_size=(3, 3), stride=(1, 1), padding=(1, 1))\n",
              "      (13): ReLU(inplace=True)\n",
              "      (14): Conv2d(256, 256, kernel_size=(3, 3), stride=(1, 1), padding=(1, 1))\n",
              "      (15): ReLU(inplace=True)\n",
              "      (16): Conv2d(256, 256, kernel_size=(3, 3), stride=(1, 1), padding=(1, 1))\n",
              "      (17): ReLU(inplace=True)\n",
              "      (18): MaxPool2d(kernel_size=2, stride=2, padding=0, dilation=1, ceil_mode=False)\n",
              "      (19): Conv2d(256, 512, kernel_size=(3, 3), stride=(1, 1), padding=(1, 1))\n",
              "      (20): ReLU(inplace=True)\n",
              "      (21): Conv2d(512, 512, kernel_size=(3, 3), stride=(1, 1), padding=(1, 1))\n",
              "      (22): ReLU(inplace=True)\n",
              "      (23): Conv2d(512, 512, kernel_size=(3, 3), stride=(1, 1), padding=(1, 1))\n",
              "      (24): ReLU(inplace=True)\n",
              "      (25): Conv2d(512, 512, kernel_size=(3, 3), stride=(1, 1), padding=(1, 1))\n",
              "      (26): ReLU(inplace=True)\n",
              "      (27): MaxPool2d(kernel_size=2, stride=2, padding=0, dilation=1, ceil_mode=False)\n",
              "      (28): Conv2d(512, 512, kernel_size=(3, 3), stride=(1, 1), padding=(1, 1))\n",
              "      (29): ReLU(inplace=True)\n",
              "      (30): Conv2d(512, 512, kernel_size=(3, 3), stride=(1, 1), padding=(1, 1))\n",
              "      (31): ReLU(inplace=True)\n",
              "      (32): Conv2d(512, 512, kernel_size=(3, 3), stride=(1, 1), padding=(1, 1))\n",
              "      (33): ReLU(inplace=True)\n",
              "      (34): Conv2d(512, 512, kernel_size=(3, 3), stride=(1, 1), padding=(1, 1))\n",
              "      (35): ReLU(inplace=True)\n",
              "      (36): MaxPool2d(kernel_size=2, stride=2, padding=0, dilation=1, ceil_mode=False)\n",
              "    )\n",
              "    (avgpool): AdaptiveAvgPool2d(output_size=(7, 7))\n",
              "    (classifier): Sequential(\n",
              "      (0): Linear(in_features=25088, out_features=512, bias=True)\n",
              "      (1): ReLU(inplace=True)\n",
              "      (2): Dropout(p=0.5, inplace=False)\n",
              "      (3): Linear(in_features=512, out_features=36, bias=True)\n",
              "      (4): ReLU(inplace=True)\n",
              "      (5): Dropout(p=0.5, inplace=False)\n",
              "      (6): Linear(in_features=36, out_features=1, bias=True)\n",
              "    )\n",
              "  )\n",
              ")"
            ]
          },
          "metadata": {},
          "execution_count": 187
        }
      ]
    },
    {
      "cell_type": "code",
      "execution_count": 188,
      "metadata": {
        "id": "v5PJW8uLB8fy"
      },
      "outputs": [],
      "source": [
        "loss_fn = ERMLoss(model,torch.nn.functional.binary_cross_entropy_with_logits,{}) #torch.nn.CrossEntropyLoss()"
      ]
    },
    {
      "cell_type": "code",
      "execution_count": 189,
      "metadata": {
        "id": "R0RpIGVUB8fz"
      },
      "outputs": [],
      "source": [
        "optimizer = torch.optim.Adam(model.parameters(), lr=0.0005, weight_decay=0.005)\n"
      ]
    },
    {
      "cell_type": "code",
      "execution_count": 190,
      "metadata": {
        "id": "OmLj37gwB8fz"
      },
      "outputs": [],
      "source": [
        "train_dataset = NoduleDataset(train_img, train_label) #train_spic_label"
      ]
    },
    {
      "cell_type": "code",
      "source": [
        "len(train_dataset)"
      ],
      "metadata": {
        "id": "K1rj5__UF2ei",
        "outputId": "b1043f32-1801-44c8-b22a-ffe8b22be3cc",
        "colab": {
          "base_uri": "https://localhost:8080/"
        }
      },
      "execution_count": 191,
      "outputs": [
        {
          "output_type": "execute_result",
          "data": {
            "text/plain": [
              "1210"
            ]
          },
          "metadata": {},
          "execution_count": 191
        }
      ]
    },
    {
      "cell_type": "code",
      "source": [
        "# train_set, val_set = torch.utils.data.random_split(train_dataset, [1000, 210])"
      ],
      "metadata": {
        "id": "9h99c5TUF1qZ"
      },
      "execution_count": 192,
      "outputs": []
    },
    {
      "cell_type": "code",
      "execution_count": 193,
      "metadata": {
        "id": "yjVU1l8nB8fz"
      },
      "outputs": [],
      "source": [
        "train_loader = InfiniteDataLoader(train_dataset, 1210)#InfiniteDataLoader(train_set, 1000)"
      ]
    },
    {
      "cell_type": "code",
      "source": [
        "# val_loader = InfiniteDataLoader(val_set, 210)"
      ],
      "metadata": {
        "id": "jiahpsDvGD7f"
      },
      "execution_count": 194,
      "outputs": []
    },
    {
      "cell_type": "code",
      "execution_count": 195,
      "metadata": {
        "id": "nLnms-rJB8fz",
        "outputId": "09774ea1-6ee2-477a-9825-6d0f313a9269",
        "colab": {
          "base_uri": "https://localhost:8080/"
        }
      },
      "outputs": [
        {
          "output_type": "stream",
          "name": "stdout",
          "text": [
            "Epoch 1/40\n",
            "Average training loss: 0.7038122415542603\n",
            "Epoch 2/40\n",
            "Average training loss: 0.811580240726471\n",
            "Epoch 3/40\n",
            "Average training loss: 0.6902214288711548\n",
            "Epoch 4/40\n",
            "Average training loss: 0.6799570918083191\n",
            "Epoch 5/40\n",
            "Average training loss: 0.6678031086921692\n",
            "Epoch 6/40\n",
            "Average training loss: 0.6507728695869446\n",
            "Epoch 7/40\n",
            "Average training loss: 0.6293487548828125\n",
            "Epoch 8/40\n",
            "Average training loss: 0.6177820563316345\n",
            "Epoch 9/40\n",
            "Average training loss: 0.5920219421386719\n",
            "Epoch 10/40\n",
            "Average training loss: 0.580757737159729\n",
            "Epoch 11/40\n",
            "Average training loss: 0.555697500705719\n",
            "Epoch 12/40\n",
            "Average training loss: 0.5383449196815491\n",
            "Epoch 13/40\n",
            "Average training loss: 0.5293784737586975\n",
            "Epoch 14/40\n",
            "Average training loss: 0.49145573377609253\n",
            "Epoch 15/40\n",
            "Average training loss: 0.45866215229034424\n",
            "Epoch 16/40\n",
            "Average training loss: 0.4743494987487793\n",
            "Epoch 17/40\n",
            "Average training loss: 0.4337193965911865\n",
            "Epoch 18/40\n",
            "Average training loss: 0.41891857981681824\n",
            "Epoch 19/40\n",
            "Average training loss: 0.3935164511203766\n",
            "Epoch 20/40\n",
            "Average training loss: 0.3851923644542694\n",
            "Epoch 21/40\n",
            "Average training loss: 0.3708156943321228\n",
            "Epoch 22/40\n",
            "Average training loss: 0.3483843207359314\n",
            "Epoch 23/40\n",
            "Average training loss: 0.3011495769023895\n",
            "Epoch 24/40\n",
            "Average training loss: 0.24739402532577515\n",
            "Epoch 25/40\n",
            "Average training loss: 0.3624628782272339\n",
            "Epoch 26/40\n",
            "Average training loss: 0.34486597776412964\n",
            "Epoch 27/40\n",
            "Average training loss: 0.29230090975761414\n",
            "Epoch 28/40\n",
            "Average training loss: 0.2537504732608795\n",
            "Epoch 29/40\n",
            "Average training loss: 0.26937949657440186\n",
            "Epoch 30/40\n",
            "Average training loss: 0.22330579161643982\n",
            "Epoch 31/40\n",
            "Average training loss: 0.2479662150144577\n",
            "Epoch 32/40\n",
            "Average training loss: 0.17895397543907166\n",
            "Epoch 33/40\n",
            "Average training loss: 0.18896636366844177\n",
            "Epoch 34/40\n",
            "Average training loss: 0.20870482921600342\n",
            "Epoch 35/40\n",
            "Average training loss: 0.1342819631099701\n",
            "Epoch 36/40\n",
            "Average training loss: 0.16067534685134888\n",
            "Epoch 37/40\n",
            "Average training loss: 0.15110540390014648\n",
            "Epoch 38/40\n",
            "Average training loss: 0.1329585611820221\n",
            "Epoch 39/40\n",
            "Average training loss: 0.11004367470741272\n",
            "Epoch 40/40\n",
            "Average training loss: 0.07704761624336243\n"
          ]
        }
      ],
      "source": [
        "epochs = 40\n",
        "for epoch in range(epochs):\n",
        "    print(f\"Epoch {epoch + 1}/{epochs}\")\n",
        "    train.train(train_loader, model, loss_fn, optimizer, verbose=True)\n",
        "                # train.test(test_dataloader, model)\n",
        "\n",
        "    # model.eval()\n",
        "    # with torch.no_grad():\n",
        "    #   X,y = next(val_loader)\n",
        "    #   results = torch.sigmoid(model(X))\n",
        "    #   accuracy = torch.sum(torch.round(results) == y)/210\n",
        "    # model.train()\n",
        "    # print(f'cv accuracy {accuracy}')"
      ]
    },
    {
      "cell_type": "markdown",
      "source": [
        "#ERM accuracies"
      ],
      "metadata": {
        "id": "cJSvxp-bLwPk"
      }
    },
    {
      "cell_type": "markdown",
      "source": [
        "##marked_benign"
      ],
      "metadata": {
        "id": "qUU_JzcVfAHf"
      }
    },
    {
      "cell_type": "code",
      "source": [
        "len(marked_benign)"
      ],
      "metadata": {
        "colab": {
          "base_uri": "https://localhost:8080/"
        },
        "id": "eqNHw5cqgkYL",
        "outputId": "8d3092d7-765a-45e2-fe77-c7d607583262"
      },
      "execution_count": 196,
      "outputs": [
        {
          "output_type": "execute_result",
          "data": {
            "text/plain": [
              "21"
            ]
          },
          "metadata": {},
          "execution_count": 196
        }
      ]
    },
    {
      "cell_type": "code",
      "source": [
        "results = torch.sigmoid(model(torch.stack(marked_benign).to(DEVICE)))\n",
        "accuracy = torch.sum(torch.round(results) == torch.zeros(len(marked_benign), device=DEVICE))/len(marked_benign)\n",
        "accuracy"
      ],
      "metadata": {
        "colab": {
          "base_uri": "https://localhost:8080/"
        },
        "id": "j1pBgGAafB0d",
        "outputId": "2149dcd1-48df-4629-c85d-dac1f76d7248"
      },
      "execution_count": 197,
      "outputs": [
        {
          "output_type": "execute_result",
          "data": {
            "text/plain": [
              "tensor(0.7619, device='cuda:0')"
            ]
          },
          "metadata": {},
          "execution_count": 197
        }
      ]
    },
    {
      "cell_type": "markdown",
      "source": [
        "##unmarked_benign"
      ],
      "metadata": {
        "id": "HYKIbhxjfyt6"
      }
    },
    {
      "cell_type": "code",
      "source": [
        "len(unmarked_benign)"
      ],
      "metadata": {
        "colab": {
          "base_uri": "https://localhost:8080/"
        },
        "id": "ayK8aIStgnu_",
        "outputId": "784ce284-0aac-417b-bc49-352e30280f69"
      },
      "execution_count": 198,
      "outputs": [
        {
          "output_type": "execute_result",
          "data": {
            "text/plain": [
              "145"
            ]
          },
          "metadata": {},
          "execution_count": 198
        }
      ]
    },
    {
      "cell_type": "code",
      "source": [
        "results = torch.sigmoid(model(torch.stack(unmarked_benign).to(DEVICE)))\n",
        "accuracy = torch.sum(torch.round(results) == torch.zeros(len(unmarked_benign), device=DEVICE))/len(unmarked_benign)\n",
        "accuracy"
      ],
      "metadata": {
        "colab": {
          "base_uri": "https://localhost:8080/"
        },
        "id": "d721AOEwfjh9",
        "outputId": "ec29406a-c57f-4470-b991-38938e61e764"
      },
      "execution_count": 199,
      "outputs": [
        {
          "output_type": "execute_result",
          "data": {
            "text/plain": [
              "tensor(0.8828, device='cuda:0')"
            ]
          },
          "metadata": {},
          "execution_count": 199
        }
      ]
    },
    {
      "cell_type": "markdown",
      "source": [
        "##marked_malignant\n",
        "\n"
      ],
      "metadata": {
        "id": "njPEZWT3gBEx"
      }
    },
    {
      "cell_type": "code",
      "source": [
        "results = torch.sigmoid(model(torch.stack(marked_malignant).to(DEVICE)))\n",
        "accuracy = torch.sum(torch.round(results) == torch.ones(len(marked_malignant), device=DEVICE))/len(marked_malignant)\n",
        "accuracy"
      ],
      "metadata": {
        "colab": {
          "base_uri": "https://localhost:8080/"
        },
        "id": "TampixnUf4zR",
        "outputId": "d922ebc4-ccb7-4869-cc4c-cda577327eeb"
      },
      "execution_count": 200,
      "outputs": [
        {
          "output_type": "execute_result",
          "data": {
            "text/plain": [
              "tensor(0.6463, device='cuda:0')"
            ]
          },
          "metadata": {},
          "execution_count": 200
        }
      ]
    },
    {
      "cell_type": "code",
      "source": [
        "len(marked_malignant)"
      ],
      "metadata": {
        "colab": {
          "base_uri": "https://localhost:8080/"
        },
        "id": "dldTeNbogdaw",
        "outputId": "41898983-0e04-4222-d091-c0a05286cffe"
      },
      "execution_count": 201,
      "outputs": [
        {
          "output_type": "execute_result",
          "data": {
            "text/plain": [
              "82"
            ]
          },
          "metadata": {},
          "execution_count": 201
        }
      ]
    },
    {
      "cell_type": "markdown",
      "source": [
        "##unmarked malignant"
      ],
      "metadata": {
        "id": "t1OJnamPgRNI"
      }
    },
    {
      "cell_type": "code",
      "source": [
        "len(unmarked_malignant)"
      ],
      "metadata": {
        "colab": {
          "base_uri": "https://localhost:8080/"
        },
        "id": "YKSWEXi1ggxd",
        "outputId": "b0540a35-b4ed-4bce-81c0-226d3495ccc3"
      },
      "execution_count": 202,
      "outputs": [
        {
          "output_type": "execute_result",
          "data": {
            "text/plain": [
              "57"
            ]
          },
          "metadata": {},
          "execution_count": 202
        }
      ]
    },
    {
      "cell_type": "code",
      "source": [
        "results = torch.sigmoid(model(torch.stack(unmarked_malignant).to(DEVICE)))\n",
        "accuracy = torch.sum(torch.round(results) == torch.ones(len(unmarked_malignant), device=DEVICE))/len(unmarked_malignant)\n",
        "accuracy"
      ],
      "metadata": {
        "colab": {
          "base_uri": "https://localhost:8080/"
        },
        "id": "W3VuLRx3gLPF",
        "outputId": "5d124c92-df8e-4de1-c899-45b98fd69b3a"
      },
      "execution_count": 203,
      "outputs": [
        {
          "output_type": "execute_result",
          "data": {
            "text/plain": [
              "tensor(0.4737, device='cuda:0')"
            ]
          },
          "metadata": {},
          "execution_count": 203
        }
      ]
    },
    {
      "cell_type": "markdown",
      "source": [
        "#GDRO"
      ],
      "metadata": {
        "id": "Xyxz2-K7DsA0"
      }
    },
    {
      "cell_type": "code",
      "source": [
        "train_loader = SubtypedDataLoader(train_img_gdro, 1210, True, True)"
      ],
      "metadata": {
        "id": "2OEf9r0sDrxh"
      },
      "execution_count": 204,
      "outputs": []
    },
    {
      "cell_type": "code",
      "source": [
        "# model = VGGNet(device=DEVICE)"
      ],
      "metadata": {
        "id": "ZieQF0kKJaBU"
      },
      "execution_count": 205,
      "outputs": []
    },
    {
      "cell_type": "code",
      "source": [
        "loss_fn = GDROLoss(model,torch.nn.functional.binary_cross_entropy_with_logits,{\"groupdro_eta\":0.001},True) #torch.nn.CrossEntropyLoss()"
      ],
      "metadata": {
        "id": "DGjIRukxJdHS"
      },
      "execution_count": 206,
      "outputs": []
    },
    {
      "cell_type": "code",
      "source": [
        "optimizer = torch.optim.Adam(model.parameters(), lr=0.0005, weight_decay=0.005)\n"
      ],
      "metadata": {
        "id": "Zr55u202JpdB"
      },
      "execution_count": 207,
      "outputs": []
    },
    {
      "cell_type": "code",
      "source": [
        "epochs = 40\n",
        "for epoch in range(epochs):\n",
        "    print(f\"Epoch {epoch + 1}/{epochs}\")\n",
        "    train.train(train_loader, model, loss_fn, optimizer, verbose=True)\n",
        "                # train.test(test_dataloader, model)\n",
        "\n",
        "    # model.eval()\n",
        "    # with torch.no_grad():\n",
        "    #   X,y = next(val_loader)\n",
        "    #   results = torch.sigmoid(model(X))\n",
        "    #   accuracy = torch.sum(torch.round(results) == y)/210\n",
        "    # model.train()\n",
        "    # print(f'cv accuracy {accuracy}')"
      ],
      "metadata": {
        "id": "_ER233R5KTXS",
        "outputId": "c413101d-9406-4f01-8c83-dda01b0ec241",
        "colab": {
          "base_uri": "https://localhost:8080/"
        }
      },
      "execution_count": 208,
      "outputs": [
        {
          "output_type": "stream",
          "name": "stdout",
          "text": [
            "Epoch 1/40\n",
            "Average training loss: 0.024052973836660385\n",
            "Epoch 2/40\n",
            "Average training loss: 1.133148193359375\n",
            "Epoch 3/40\n",
            "Average training loss: 0.07945780456066132\n",
            "Epoch 4/40\n",
            "Average training loss: 0.2556660771369934\n",
            "Epoch 5/40\n",
            "Average training loss: 0.2407134473323822\n",
            "Epoch 6/40\n",
            "Average training loss: 0.16123875975608826\n",
            "Epoch 7/40\n",
            "Average training loss: 0.1224861741065979\n",
            "Epoch 8/40\n",
            "Average training loss: 0.1212521642446518\n",
            "Epoch 9/40\n",
            "Average training loss: 0.12827539443969727\n",
            "Epoch 10/40\n",
            "Average training loss: 0.13510823249816895\n",
            "Epoch 11/40\n",
            "Average training loss: 0.1302674114704132\n",
            "Epoch 12/40\n",
            "Average training loss: 0.12443814426660538\n",
            "Epoch 13/40\n",
            "Average training loss: 0.10933086276054382\n",
            "Epoch 14/40\n",
            "Average training loss: 0.10115789622068405\n",
            "Epoch 15/40\n",
            "Average training loss: 0.09535400569438934\n",
            "Epoch 16/40\n",
            "Average training loss: 0.09908991307020187\n",
            "Epoch 17/40\n",
            "Average training loss: 0.09788673371076584\n",
            "Epoch 18/40\n",
            "Average training loss: 0.0995715856552124\n",
            "Epoch 19/40\n",
            "Average training loss: 0.09281124174594879\n",
            "Epoch 20/40\n",
            "Average training loss: 0.09263241291046143\n",
            "Epoch 21/40\n",
            "Average training loss: 0.08393492549657822\n",
            "Epoch 22/40\n",
            "Average training loss: 0.07393479347229004\n",
            "Epoch 23/40\n",
            "Average training loss: 0.07714900374412537\n",
            "Epoch 24/40\n",
            "Average training loss: 0.07010708749294281\n",
            "Epoch 25/40\n",
            "Average training loss: 0.07325377315282822\n",
            "Epoch 26/40\n",
            "Average training loss: 0.06514698266983032\n",
            "Epoch 27/40\n",
            "Average training loss: 0.06220339238643646\n",
            "Epoch 28/40\n",
            "Average training loss: 0.06627490371465683\n",
            "Epoch 29/40\n",
            "Average training loss: 0.053704310208559036\n",
            "Epoch 30/40\n",
            "Average training loss: 0.053512316197156906\n",
            "Epoch 31/40\n",
            "Average training loss: 0.04961291700601578\n",
            "Epoch 32/40\n",
            "Average training loss: 0.04776284471154213\n",
            "Epoch 33/40\n",
            "Average training loss: 0.04341451823711395\n",
            "Epoch 34/40\n",
            "Average training loss: 0.043346524238586426\n",
            "Epoch 35/40\n",
            "Average training loss: 0.03801225870847702\n",
            "Epoch 36/40\n",
            "Average training loss: 0.03569112718105316\n",
            "Epoch 37/40\n",
            "Average training loss: 0.03937308117747307\n",
            "Epoch 38/40\n",
            "Average training loss: 0.04776865988969803\n",
            "Epoch 39/40\n",
            "Average training loss: 0.0307224802672863\n",
            "Epoch 40/40\n",
            "Average training loss: 0.03793102502822876\n"
          ]
        }
      ]
    },
    {
      "cell_type": "markdown",
      "source": [
        "#GDRO accuracies"
      ],
      "metadata": {
        "id": "tl1SDxpFL1xt"
      }
    },
    {
      "cell_type": "markdown",
      "source": [
        "##marked_benign"
      ],
      "metadata": {
        "id": "rPJK4jhHL1xt"
      }
    },
    {
      "cell_type": "code",
      "source": [
        "len(marked_benign)"
      ],
      "metadata": {
        "colab": {
          "base_uri": "https://localhost:8080/"
        },
        "outputId": "5f3197db-90e5-4803-f77c-8491daee1b3f",
        "id": "NAg3BxK7L1xt"
      },
      "execution_count": 209,
      "outputs": [
        {
          "output_type": "execute_result",
          "data": {
            "text/plain": [
              "21"
            ]
          },
          "metadata": {},
          "execution_count": 209
        }
      ]
    },
    {
      "cell_type": "code",
      "source": [
        "results = torch.sigmoid(model(torch.stack(marked_benign).to(DEVICE)))\n",
        "accuracy = torch.sum(torch.round(results) == torch.zeros(len(marked_benign), device=DEVICE))/len(marked_benign)\n",
        "accuracy"
      ],
      "metadata": {
        "colab": {
          "base_uri": "https://localhost:8080/"
        },
        "outputId": "e6687bca-a3bd-43e9-8811-0af269402ff4",
        "id": "nzPhPWXQL1xu"
      },
      "execution_count": 210,
      "outputs": [
        {
          "output_type": "execute_result",
          "data": {
            "text/plain": [
              "tensor(0.7619, device='cuda:0')"
            ]
          },
          "metadata": {},
          "execution_count": 210
        }
      ]
    },
    {
      "cell_type": "markdown",
      "source": [
        "##unmarked_benign"
      ],
      "metadata": {
        "id": "sqcY-0KqL1xu"
      }
    },
    {
      "cell_type": "code",
      "source": [
        "len(unmarked_benign)"
      ],
      "metadata": {
        "colab": {
          "base_uri": "https://localhost:8080/"
        },
        "outputId": "1af57a76-d1ec-43b9-ff34-244303c49d4e",
        "id": "ltiTaXhHL1xu"
      },
      "execution_count": 211,
      "outputs": [
        {
          "output_type": "execute_result",
          "data": {
            "text/plain": [
              "145"
            ]
          },
          "metadata": {},
          "execution_count": 211
        }
      ]
    },
    {
      "cell_type": "code",
      "source": [
        "results = torch.sigmoid(model(torch.stack(unmarked_benign).to(DEVICE)))\n",
        "accuracy = torch.sum(torch.round(results) == torch.zeros(len(unmarked_benign), device=DEVICE))/len(unmarked_benign)\n",
        "accuracy"
      ],
      "metadata": {
        "colab": {
          "base_uri": "https://localhost:8080/"
        },
        "outputId": "c00a8c8c-6826-4af3-e3dc-1298839cd401",
        "id": "FXI2zh2cL1xu"
      },
      "execution_count": 212,
      "outputs": [
        {
          "output_type": "execute_result",
          "data": {
            "text/plain": [
              "tensor(0.8690, device='cuda:0')"
            ]
          },
          "metadata": {},
          "execution_count": 212
        }
      ]
    },
    {
      "cell_type": "markdown",
      "source": [
        "##marked_malignant\n",
        "\n"
      ],
      "metadata": {
        "id": "t67m3HQ6L1xu"
      }
    },
    {
      "cell_type": "code",
      "source": [
        "results = torch.sigmoid(model(torch.stack(marked_malignant).to(DEVICE)))\n",
        "accuracy = torch.sum(torch.round(results) == torch.ones(len(marked_malignant), device=DEVICE))/len(marked_malignant)\n",
        "accuracy"
      ],
      "metadata": {
        "colab": {
          "base_uri": "https://localhost:8080/"
        },
        "outputId": "090c5954-7d63-46a7-bf97-d8837dc89760",
        "id": "tQoNbOL0L1xu"
      },
      "execution_count": 213,
      "outputs": [
        {
          "output_type": "execute_result",
          "data": {
            "text/plain": [
              "tensor(0.6585, device='cuda:0')"
            ]
          },
          "metadata": {},
          "execution_count": 213
        }
      ]
    },
    {
      "cell_type": "code",
      "source": [
        "len(marked_malignant)"
      ],
      "metadata": {
        "colab": {
          "base_uri": "https://localhost:8080/"
        },
        "outputId": "5102a756-dc16-4baf-b194-042dc99f8d39",
        "id": "A25LJUlgL1xu"
      },
      "execution_count": 214,
      "outputs": [
        {
          "output_type": "execute_result",
          "data": {
            "text/plain": [
              "82"
            ]
          },
          "metadata": {},
          "execution_count": 214
        }
      ]
    },
    {
      "cell_type": "markdown",
      "source": [
        "##unmarked malignant"
      ],
      "metadata": {
        "id": "7Q52_yZ7L1xu"
      }
    },
    {
      "cell_type": "code",
      "source": [
        "len(unmarked_malignant)"
      ],
      "metadata": {
        "colab": {
          "base_uri": "https://localhost:8080/"
        },
        "outputId": "da16e1ca-1464-43b8-d161-383d4172889b",
        "id": "CKArAt2nL1xu"
      },
      "execution_count": 215,
      "outputs": [
        {
          "output_type": "execute_result",
          "data": {
            "text/plain": [
              "57"
            ]
          },
          "metadata": {},
          "execution_count": 215
        }
      ]
    },
    {
      "cell_type": "code",
      "source": [
        "results = torch.sigmoid(model(torch.stack(unmarked_malignant).to(DEVICE)))\n",
        "accuracy = torch.sum(torch.round(results) == torch.ones(len(unmarked_malignant), device=DEVICE))/len(unmarked_malignant)\n",
        "accuracy"
      ],
      "metadata": {
        "colab": {
          "base_uri": "https://localhost:8080/"
        },
        "outputId": "8ebe6aa8-1e19-4c1e-8d9c-dc3a490da290",
        "id": "p1iT5AWEL1xu"
      },
      "execution_count": 216,
      "outputs": [
        {
          "output_type": "execute_result",
          "data": {
            "text/plain": [
              "tensor(0.5088, device='cuda:0')"
            ]
          },
          "metadata": {},
          "execution_count": 216
        }
      ]
    }
  ],
  "metadata": {
    "kernelspec": {
      "display_name": "REU",
      "language": "python",
      "name": "reu"
    },
    "language_info": {
      "codemirror_mode": {
        "name": "ipython",
        "version": 3
      },
      "file_extension": ".py",
      "mimetype": "text/x-python",
      "name": "python",
      "nbconvert_exporter": "python",
      "pygments_lexer": "ipython3",
      "version": "3.10.5"
    },
    "colab": {
      "name": "transfer_model.ipynb",
      "provenance": [],
      "include_colab_link": true
    },
    "accelerator": "GPU",
    "gpuClass": "standard"
  },
  "nbformat": 4,
  "nbformat_minor": 0
}