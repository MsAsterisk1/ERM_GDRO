{
 "cells": [
  {
   "cell_type": "code",
   "execution_count": 1,
   "metadata": {},
   "outputs": [],
   "source": [
    "import os\n",
    "import torch\n",
    "import pandas as pd\n",
    "import numpy as np\n",
    "from datasets import NoduleDataset\n",
    "from dataloaders import SubtypedDataLoader"
   ]
  },
  {
   "cell_type": "code",
   "execution_count": 2,
   "metadata": {},
   "outputs": [
    {
     "name": "stdout",
     "output_type": "stream",
     "text": [
      "Using cpu\n"
     ]
    }
   ],
   "source": [
    "if torch.cuda.is_available():\n",
    "    print(\"Good to go!\")\n",
    "    DEVICE = torch.device(\"cuda\")\n",
    "else:\n",
    "    print(\"Using cpu\")\n",
    "    DEVICE = torch.device(\"cpu\")"
   ]
  },
  {
   "cell_type": "code",
   "execution_count": 3,
   "metadata": {},
   "outputs": [
    {
     "data": {
      "text/html": [
       "<div>\n",
       "<style scoped>\n",
       "    .dataframe tbody tr th:only-of-type {\n",
       "        vertical-align: middle;\n",
       "    }\n",
       "\n",
       "    .dataframe tbody tr th {\n",
       "        vertical-align: top;\n",
       "    }\n",
       "\n",
       "    .dataframe thead th {\n",
       "        text-align: right;\n",
       "    }\n",
       "</style>\n",
       "<table border=\"1\" class=\"dataframe\">\n",
       "  <thead>\n",
       "    <tr style=\"text-align: right;\">\n",
       "      <th></th>\n",
       "      <th>noduleID</th>\n",
       "      <th>malignancy</th>\n",
       "      <th>spiculation</th>\n",
       "      <th>malignancy_b</th>\n",
       "      <th>spiculation_b</th>\n",
       "      <th>subgroup</th>\n",
       "    </tr>\n",
       "  </thead>\n",
       "  <tbody>\n",
       "    <tr>\n",
       "      <th>0</th>\n",
       "      <td>1</td>\n",
       "      <td>5.0</td>\n",
       "      <td>5.0</td>\n",
       "      <td>malignant</td>\n",
       "      <td>marked</td>\n",
       "      <td>marked_malignant</td>\n",
       "    </tr>\n",
       "    <tr>\n",
       "      <th>1</th>\n",
       "      <td>2</td>\n",
       "      <td>5.0</td>\n",
       "      <td>1.0</td>\n",
       "      <td>malignant</td>\n",
       "      <td>unmarked</td>\n",
       "      <td>unmarked_malignant</td>\n",
       "    </tr>\n",
       "    <tr>\n",
       "      <th>2</th>\n",
       "      <td>3</td>\n",
       "      <td>5.0</td>\n",
       "      <td>2.0</td>\n",
       "      <td>malignant</td>\n",
       "      <td>marked</td>\n",
       "      <td>marked_malignant</td>\n",
       "    </tr>\n",
       "    <tr>\n",
       "      <th>3</th>\n",
       "      <td>4</td>\n",
       "      <td>4.0</td>\n",
       "      <td>2.0</td>\n",
       "      <td>malignant</td>\n",
       "      <td>marked</td>\n",
       "      <td>marked_malignant</td>\n",
       "    </tr>\n",
       "    <tr>\n",
       "      <th>4</th>\n",
       "      <td>5</td>\n",
       "      <td>5.0</td>\n",
       "      <td>1.0</td>\n",
       "      <td>malignant</td>\n",
       "      <td>unmarked</td>\n",
       "      <td>unmarked_malignant</td>\n",
       "    </tr>\n",
       "  </tbody>\n",
       "</table>\n",
       "</div>"
      ],
      "text/plain": [
       "   noduleID  malignancy  spiculation malignancy_b spiculation_b  \\\n",
       "0         1         5.0          5.0    malignant        marked   \n",
       "1         2         5.0          1.0    malignant      unmarked   \n",
       "2         3         5.0          2.0    malignant        marked   \n",
       "3         4         4.0          2.0    malignant        marked   \n",
       "4         5         5.0          1.0    malignant      unmarked   \n",
       "\n",
       "             subgroup  \n",
       "0    marked_malignant  \n",
       "1  unmarked_malignant  \n",
       "2    marked_malignant  \n",
       "3    marked_malignant  \n",
       "4  unmarked_malignant  "
      ]
     },
     "execution_count": 3,
     "metadata": {},
     "output_type": "execute_result"
    }
   ],
   "source": [
    "lidc_subtyped = pd.read_csv('./data/lidc_spic_subgrouped.csv', index_col=0)\n",
    "lidc_subtyped.head(5)"
   ]
  },
  {
   "cell_type": "code",
   "execution_count": 7,
   "metadata": {},
   "outputs": [],
   "source": [
    "def getNormed(this_array, this_min = 0, this_max = 255, set_to_int = True):\n",
    "    \n",
    "    rat = (this_max - this_min)/(this_array.max() - this_array.min())\n",
    "    this_array = this_array * rat\n",
    "    this_array -= this_array.min()\n",
    "    this_array += this_min\n",
    "    if set_to_int:\n",
    "        return this_array.to(dtype= torch.int)\n",
    "    return this_array"
   ]
  },
  {
   "cell_type": "code",
   "execution_count": 9,
   "metadata": {},
   "outputs": [],
   "source": [
    "def getImages(image_folder):\n",
    "    '''\n",
    "        Input:\n",
    "        image_folder: directory of the image files\n",
    "\n",
    "        Output:\n",
    "        m1: list of the labels encountered (1,2,4,5)\n",
    "        m2: list of binary labels encountered (benign, malignant)\n",
    "        diff: list of any nodes with discrepency to CSV labels\n",
    "\n",
    "    '''\n",
    "    \n",
    "    train_img = []\n",
    "    train_label = []\n",
    "    \n",
    "    marked_benign = []\n",
    "    unmarked_benign = []\n",
    "    \n",
    "    marked_malignant = []\n",
    "    unmarked_malignant = []\n",
    "\n",
    "    \n",
    "\n",
    "    lidc = pd.read_csv('./data/lidc_spic_subgrouped.csv')\n",
    "    train_test = pd.read_csv('./data/lidc_train_test_split_stratified.csv')\n",
    "    for dir1 in os.listdir(image_folder):\n",
    "  \n",
    "        if dir1 == 'Malignancy_3':\n",
    "            continue\n",
    "\n",
    "        for file in os.listdir(os.path.join(image_folder, dir1)):\n",
    "\n",
    "\n",
    "            temp_nodule_ID = file.split('.')[0]\n",
    "            subtype = lidc[lidc['noduleID']==int(temp_nodule_ID)]['subgroup'].iloc[0]\n",
    "            malignancy = lidc[lidc['noduleID']==int(temp_nodule_ID)]['malignancy'].iloc[0]\n",
    "            \n",
    "            train_type = train_test[train_test['noduleID'] ==int(temp_nodule_ID)]['dataset'].iloc[0]\n",
    "            \n",
    "            \n",
    "            image = np.loadtxt(os.path.join(image_folder, dir1,file))\n",
    "            image = torch.from_numpy(image).to(DEVICE)\n",
    "            rgb_image = torch.stack((image,image,image), dim = 0)\n",
    "            rgb_image = getNormed(rgb_image)\n",
    "            rgb_image = rgb_image / 255 \n",
    "\n",
    "            \n",
    "            \n",
    "            if train_type == 'train':\n",
    "                train_img.append(rgb_image)\n",
    "                train_label.append(torch.tensor(1) if malignancy > 3 else torch.tensor(0))\n",
    "                \n",
    "                continue\n",
    "            \n",
    "            if subtype == 'marked_benign':\n",
    "                image_array = marked_benign\n",
    "            elif subtype == 'unmarked_benign':\n",
    "                image_array = unmarked_benign\n",
    "            elif subtype == 'marked_malignant':\n",
    "                image_array = marked_malignant\n",
    "            else:\n",
    "                image_array = unmarked_malignant\n",
    "            \n",
    "            image_array.append(rgb_image)\n",
    " \n",
    "\n",
    "\n",
    "    return train_img, train_label, marked_benign, unmarked_benign, marked_malignant, unmarked_malignant\n"
   ]
  },
  {
   "cell_type": "code",
   "execution_count": 10,
   "metadata": {},
   "outputs": [],
   "source": [
    "train_img, train_label, marked_benign, unmarked_benign, marked_malignant, unmarked_malignant = getImages('./LIDC(MaxSlices)_Nodules(fixed)')"
   ]
  },
  {
   "cell_type": "code",
   "execution_count": 15,
   "metadata": {},
   "outputs": [
    {
     "data": {
      "text/plain": [
       "1219"
      ]
     },
     "execution_count": 15,
     "metadata": {},
     "output_type": "execute_result"
    }
   ],
   "source": [
    "len(train_img)"
   ]
  },
  {
   "cell_type": "code",
   "execution_count": 19,
   "metadata": {},
   "outputs": [
    {
     "data": {
      "text/plain": [
       "17"
      ]
     },
     "execution_count": 19,
     "metadata": {},
     "output_type": "execute_result"
    }
   ],
   "source": [
    "len(marked_benign)"
   ]
  },
  {
   "cell_type": "code",
   "execution_count": 20,
   "metadata": {},
   "outputs": [
    {
     "data": {
      "text/plain": [
       "149"
      ]
     },
     "execution_count": 20,
     "metadata": {},
     "output_type": "execute_result"
    }
   ],
   "source": [
    "len(unmarked_benign)"
   ]
  },
  {
   "cell_type": "code",
   "execution_count": 21,
   "metadata": {},
   "outputs": [
    {
     "data": {
      "text/plain": [
       "83"
      ]
     },
     "execution_count": 21,
     "metadata": {},
     "output_type": "execute_result"
    }
   ],
   "source": [
    "len(marked_malignant)"
   ]
  },
  {
   "cell_type": "code",
   "execution_count": 22,
   "metadata": {},
   "outputs": [
    {
     "data": {
      "text/plain": [
       "47"
      ]
     },
     "execution_count": 22,
     "metadata": {},
     "output_type": "execute_result"
    }
   ],
   "source": [
    "len(unmarked_malignant)"
   ]
  },
  {
   "cell_type": "markdown",
   "metadata": {},
   "source": [
    "80, 20 train test split"
   ]
  },
  {
   "cell_type": "code",
   "execution_count": 11,
   "metadata": {},
   "outputs": [],
   "source": [
    "import random"
   ]
  },
  {
   "cell_type": "code",
   "execution_count": 12,
   "metadata": {},
   "outputs": [],
   "source": [
    "random.seed(95)"
   ]
  },
  {
   "cell_type": "code",
   "execution_count": 13,
   "metadata": {},
   "outputs": [
    {
     "data": {
      "text/plain": [
       "[2, 4]"
      ]
     },
     "execution_count": 13,
     "metadata": {},
     "output_type": "execute_result"
    }
   ],
   "source": [
    "random.sample([1,2,3,4], k=2)"
   ]
  },
  {
   "cell_type": "markdown",
   "metadata": {},
   "source": [
    "#model train!!!"
   ]
  },
  {
   "cell_type": "code",
   "execution_count": 109,
   "metadata": {},
   "outputs": [],
   "source": [
    "from models import VGGNet\n",
    "from loss import ERMLoss\n",
    "from datasets import NoduleDataset\n",
    "from dataloaders import InfiniteDataLoader\n",
    "\n",
    "import train"
   ]
  },
  {
   "cell_type": "code",
   "execution_count": 111,
   "metadata": {},
   "outputs": [],
   "source": [
    "model = VGGNet()"
   ]
  },
  {
   "cell_type": "code",
   "execution_count": 112,
   "metadata": {},
   "outputs": [],
   "source": [
    "loss_fn = ERMLoss(model,torch.nn.CrossEntropyLoss(),{})"
   ]
  },
  {
   "cell_type": "code",
   "execution_count": 113,
   "metadata": {},
   "outputs": [],
   "source": [
    "optimizer = torch.optim.Adam(model.parameters(), lr=0.001, weight_decay=0.005)\n"
   ]
  },
  {
   "cell_type": "code",
   "execution_count": 114,
   "metadata": {},
   "outputs": [],
   "source": [
    "train_dataset = NoduleDataset(train_img, train_label)"
   ]
  },
  {
   "cell_type": "code",
   "execution_count": 115,
   "metadata": {},
   "outputs": [],
   "source": [
    "train_loader = InfiniteDataLoader(train_dataset, 40)"
   ]
  },
  {
   "cell_type": "code",
   "execution_count": null,
   "metadata": {},
   "outputs": [
    {
     "name": "stdout",
     "output_type": "stream",
     "text": [
      "Epoch 1/40\n",
      "Epoch 2/40\n",
      "Epoch 3/40\n",
      "Epoch 4/40\n",
      "Epoch 5/40\n",
      "Epoch 6/40\n",
      "Epoch 7/40\n",
      "Epoch 8/40\n",
      "Epoch 9/40\n",
      "Epoch 10/40\n",
      "Epoch 11/40\n"
     ]
    }
   ],
   "source": [
    "epochs = 40\n",
    "for epoch in range(epochs):\n",
    "    print(f\"Epoch {epoch + 1}/{epochs}\")\n",
    "    train.train(train_loader, model, loss_fn, optimizer)\n",
    "                # train.test(test_dataloader, model)"
   ]
  },
  {
   "cell_type": "code",
   "execution_count": null,
   "metadata": {},
   "outputs": [],
   "source": []
  }
 ],
 "metadata": {
  "kernelspec": {
   "display_name": "REU",
   "language": "python",
   "name": "reu"
  },
  "language_info": {
   "codemirror_mode": {
    "name": "ipython",
    "version": 3
   },
   "file_extension": ".py",
   "mimetype": "text/x-python",
   "name": "python",
   "nbconvert_exporter": "python",
   "pygments_lexer": "ipython3",
   "version": "3.10.5"
  }
 },
 "nbformat": 4,
 "nbformat_minor": 2
}
