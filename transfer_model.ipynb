{
  "cells": [
    {
      "cell_type": "markdown",
      "metadata": {
        "id": "view-in-github",
        "colab_type": "text"
      },
      "source": [
        "<a href=\"https://colab.research.google.com/github/mtzig/LIDC_GDRO/blob/main/transfer_model.ipynb\" target=\"_parent\"><img src=\"https://colab.research.google.com/assets/colab-badge.svg\" alt=\"Open In Colab\"/></a>"
      ]
    },
    {
      "cell_type": "code",
      "source": [
        "!git clone https://github.com/mtzig/LIDC_GDRO.git\n",
        "%cd /content/LIDC_GDRO"
      ],
      "metadata": {
        "id": "cS_sDpQXB-vm",
        "outputId": "29df474f-e09b-40e9-d6bd-fcaa45df4480",
        "colab": {
          "base_uri": "https://localhost:8080/"
        }
      },
      "execution_count": 46,
      "outputs": [
        {
          "output_type": "stream",
          "name": "stdout",
          "text": [
            "Cloning into 'LIDC_GDRO'...\n",
            "remote: Enumerating objects: 2993, done.\u001b[K\n",
            "remote: Counting objects: 100% (68/68), done.\u001b[K\n",
            "remote: Compressing objects: 100% (48/48), done.\u001b[K\n",
            "remote: Total 2993 (delta 35), reused 48 (delta 20), pack-reused 2925\u001b[K\n",
            "Receiving objects: 100% (2993/2993), 39.03 MiB | 17.40 MiB/s, done.\n",
            "Resolving deltas: 100% (2847/2847), done.\n",
            "Checking out files: 100% (5381/5381), done.\n",
            "/content/LIDC_GDRO\n"
          ]
        }
      ]
    },
    {
      "cell_type": "code",
      "source": [
        "!git pull"
      ],
      "metadata": {
        "id": "oeQp6jDCLEm4",
        "outputId": "76be42ed-7cd2-4433-8b09-ab71029180b4",
        "colab": {
          "base_uri": "https://localhost:8080/"
        }
      },
      "execution_count": 47,
      "outputs": [
        {
          "output_type": "stream",
          "name": "stdout",
          "text": [
            "remote: Enumerating objects: 5, done.\u001b[K\n",
            "remote: Counting objects:  20% (1/5)\u001b[K\rremote: Counting objects:  40% (2/5)\u001b[K\rremote: Counting objects:  60% (3/5)\u001b[K\rremote: Counting objects:  80% (4/5)\u001b[K\rremote: Counting objects: 100% (5/5)\u001b[K\rremote: Counting objects: 100% (5/5), done.\u001b[K\n",
            "remote: Compressing objects: 100% (1/1)\u001b[K\rremote: Compressing objects: 100% (1/1), done.\u001b[K\n",
            "remote: Total 3 (delta 2), reused 3 (delta 2), pack-reused 0\u001b[K\n",
            "Unpacking objects:  33% (1/3)   \rUnpacking objects:  66% (2/3)   \rUnpacking objects: 100% (3/3)   \rUnpacking objects: 100% (3/3), done.\n",
            "From https://github.com/mtzig/LIDC_GDRO\n",
            "   e216392..fef34c1  main       -> origin/main\n",
            "Updating e216392..fef34c1\n",
            "Fast-forward\n",
            " models.py | 5 \u001b[32m++++\u001b[m\u001b[31m-\u001b[m\n",
            " 1 file changed, 4 insertions(+), 1 deletion(-)\n"
          ]
        }
      ]
    },
    {
      "cell_type": "code",
      "execution_count": 3,
      "metadata": {
        "id": "OOHhqpFoB8fn"
      },
      "outputs": [],
      "source": [
        "import os\n",
        "import torch\n",
        "import pandas as pd\n",
        "import numpy as np\n",
        "from datasets import NoduleDataset\n",
        "from dataloaders import SubtypedDataLoader"
      ]
    },
    {
      "cell_type": "code",
      "execution_count": 4,
      "metadata": {
        "id": "98x3-CdyB8fq",
        "outputId": "b904a916-7000-4619-9948-8c67cc162532",
        "colab": {
          "base_uri": "https://localhost:8080/"
        }
      },
      "outputs": [
        {
          "output_type": "stream",
          "name": "stdout",
          "text": [
            "Good to go!\n"
          ]
        }
      ],
      "source": [
        "if torch.cuda.is_available():\n",
        "    print(\"Good to go!\")\n",
        "    DEVICE = torch.device(\"cuda\")\n",
        "else:\n",
        "    print(\"Using cpu\")\n",
        "    DEVICE = torch.device(\"cpu\")"
      ]
    },
    {
      "cell_type": "code",
      "execution_count": 5,
      "metadata": {
        "id": "twWudP8uB8fr",
        "outputId": "3c22e614-81c5-45df-8f58-9f0c78485777",
        "colab": {
          "base_uri": "https://localhost:8080/",
          "height": 206
        }
      },
      "outputs": [
        {
          "output_type": "execute_result",
          "data": {
            "text/plain": [
              "   noduleID  malignancy  spiculation malignancy_b spiculation_b  \\\n",
              "0         1         5.0          5.0    malignant        marked   \n",
              "1         2         5.0          1.0    malignant      unmarked   \n",
              "2         3         5.0          2.0    malignant        marked   \n",
              "3         4         4.0          2.0    malignant        marked   \n",
              "4         5         5.0          1.0    malignant      unmarked   \n",
              "\n",
              "             subgroup  \n",
              "0    marked_malignant  \n",
              "1  unmarked_malignant  \n",
              "2    marked_malignant  \n",
              "3    marked_malignant  \n",
              "4  unmarked_malignant  "
            ],
            "text/html": [
              "\n",
              "  <div id=\"df-fe7dd911-fd67-49d6-bff4-da4f3f7d045f\">\n",
              "    <div class=\"colab-df-container\">\n",
              "      <div>\n",
              "<style scoped>\n",
              "    .dataframe tbody tr th:only-of-type {\n",
              "        vertical-align: middle;\n",
              "    }\n",
              "\n",
              "    .dataframe tbody tr th {\n",
              "        vertical-align: top;\n",
              "    }\n",
              "\n",
              "    .dataframe thead th {\n",
              "        text-align: right;\n",
              "    }\n",
              "</style>\n",
              "<table border=\"1\" class=\"dataframe\">\n",
              "  <thead>\n",
              "    <tr style=\"text-align: right;\">\n",
              "      <th></th>\n",
              "      <th>noduleID</th>\n",
              "      <th>malignancy</th>\n",
              "      <th>spiculation</th>\n",
              "      <th>malignancy_b</th>\n",
              "      <th>spiculation_b</th>\n",
              "      <th>subgroup</th>\n",
              "    </tr>\n",
              "  </thead>\n",
              "  <tbody>\n",
              "    <tr>\n",
              "      <th>0</th>\n",
              "      <td>1</td>\n",
              "      <td>5.0</td>\n",
              "      <td>5.0</td>\n",
              "      <td>malignant</td>\n",
              "      <td>marked</td>\n",
              "      <td>marked_malignant</td>\n",
              "    </tr>\n",
              "    <tr>\n",
              "      <th>1</th>\n",
              "      <td>2</td>\n",
              "      <td>5.0</td>\n",
              "      <td>1.0</td>\n",
              "      <td>malignant</td>\n",
              "      <td>unmarked</td>\n",
              "      <td>unmarked_malignant</td>\n",
              "    </tr>\n",
              "    <tr>\n",
              "      <th>2</th>\n",
              "      <td>3</td>\n",
              "      <td>5.0</td>\n",
              "      <td>2.0</td>\n",
              "      <td>malignant</td>\n",
              "      <td>marked</td>\n",
              "      <td>marked_malignant</td>\n",
              "    </tr>\n",
              "    <tr>\n",
              "      <th>3</th>\n",
              "      <td>4</td>\n",
              "      <td>4.0</td>\n",
              "      <td>2.0</td>\n",
              "      <td>malignant</td>\n",
              "      <td>marked</td>\n",
              "      <td>marked_malignant</td>\n",
              "    </tr>\n",
              "    <tr>\n",
              "      <th>4</th>\n",
              "      <td>5</td>\n",
              "      <td>5.0</td>\n",
              "      <td>1.0</td>\n",
              "      <td>malignant</td>\n",
              "      <td>unmarked</td>\n",
              "      <td>unmarked_malignant</td>\n",
              "    </tr>\n",
              "  </tbody>\n",
              "</table>\n",
              "</div>\n",
              "      <button class=\"colab-df-convert\" onclick=\"convertToInteractive('df-fe7dd911-fd67-49d6-bff4-da4f3f7d045f')\"\n",
              "              title=\"Convert this dataframe to an interactive table.\"\n",
              "              style=\"display:none;\">\n",
              "        \n",
              "  <svg xmlns=\"http://www.w3.org/2000/svg\" height=\"24px\"viewBox=\"0 0 24 24\"\n",
              "       width=\"24px\">\n",
              "    <path d=\"M0 0h24v24H0V0z\" fill=\"none\"/>\n",
              "    <path d=\"M18.56 5.44l.94 2.06.94-2.06 2.06-.94-2.06-.94-.94-2.06-.94 2.06-2.06.94zm-11 1L8.5 8.5l.94-2.06 2.06-.94-2.06-.94L8.5 2.5l-.94 2.06-2.06.94zm10 10l.94 2.06.94-2.06 2.06-.94-2.06-.94-.94-2.06-.94 2.06-2.06.94z\"/><path d=\"M17.41 7.96l-1.37-1.37c-.4-.4-.92-.59-1.43-.59-.52 0-1.04.2-1.43.59L10.3 9.45l-7.72 7.72c-.78.78-.78 2.05 0 2.83L4 21.41c.39.39.9.59 1.41.59.51 0 1.02-.2 1.41-.59l7.78-7.78 2.81-2.81c.8-.78.8-2.07 0-2.86zM5.41 20L4 18.59l7.72-7.72 1.47 1.35L5.41 20z\"/>\n",
              "  </svg>\n",
              "      </button>\n",
              "      \n",
              "  <style>\n",
              "    .colab-df-container {\n",
              "      display:flex;\n",
              "      flex-wrap:wrap;\n",
              "      gap: 12px;\n",
              "    }\n",
              "\n",
              "    .colab-df-convert {\n",
              "      background-color: #E8F0FE;\n",
              "      border: none;\n",
              "      border-radius: 50%;\n",
              "      cursor: pointer;\n",
              "      display: none;\n",
              "      fill: #1967D2;\n",
              "      height: 32px;\n",
              "      padding: 0 0 0 0;\n",
              "      width: 32px;\n",
              "    }\n",
              "\n",
              "    .colab-df-convert:hover {\n",
              "      background-color: #E2EBFA;\n",
              "      box-shadow: 0px 1px 2px rgba(60, 64, 67, 0.3), 0px 1px 3px 1px rgba(60, 64, 67, 0.15);\n",
              "      fill: #174EA6;\n",
              "    }\n",
              "\n",
              "    [theme=dark] .colab-df-convert {\n",
              "      background-color: #3B4455;\n",
              "      fill: #D2E3FC;\n",
              "    }\n",
              "\n",
              "    [theme=dark] .colab-df-convert:hover {\n",
              "      background-color: #434B5C;\n",
              "      box-shadow: 0px 1px 3px 1px rgba(0, 0, 0, 0.15);\n",
              "      filter: drop-shadow(0px 1px 2px rgba(0, 0, 0, 0.3));\n",
              "      fill: #FFFFFF;\n",
              "    }\n",
              "  </style>\n",
              "\n",
              "      <script>\n",
              "        const buttonEl =\n",
              "          document.querySelector('#df-fe7dd911-fd67-49d6-bff4-da4f3f7d045f button.colab-df-convert');\n",
              "        buttonEl.style.display =\n",
              "          google.colab.kernel.accessAllowed ? 'block' : 'none';\n",
              "\n",
              "        async function convertToInteractive(key) {\n",
              "          const element = document.querySelector('#df-fe7dd911-fd67-49d6-bff4-da4f3f7d045f');\n",
              "          const dataTable =\n",
              "            await google.colab.kernel.invokeFunction('convertToInteractive',\n",
              "                                                     [key], {});\n",
              "          if (!dataTable) return;\n",
              "\n",
              "          const docLinkHtml = 'Like what you see? Visit the ' +\n",
              "            '<a target=\"_blank\" href=https://colab.research.google.com/notebooks/data_table.ipynb>data table notebook</a>'\n",
              "            + ' to learn more about interactive tables.';\n",
              "          element.innerHTML = '';\n",
              "          dataTable['output_type'] = 'display_data';\n",
              "          await google.colab.output.renderOutput(dataTable, element);\n",
              "          const docLink = document.createElement('div');\n",
              "          docLink.innerHTML = docLinkHtml;\n",
              "          element.appendChild(docLink);\n",
              "        }\n",
              "      </script>\n",
              "    </div>\n",
              "  </div>\n",
              "  "
            ]
          },
          "metadata": {},
          "execution_count": 5
        }
      ],
      "source": [
        "lidc_subtyped = pd.read_csv('./data/lidc_spic_subgrouped.csv', index_col=0)\n",
        "lidc_subtyped.head(5)"
      ]
    },
    {
      "cell_type": "code",
      "execution_count": 6,
      "metadata": {
        "id": "L8cEI9G3B8fs"
      },
      "outputs": [],
      "source": [
        "def getNormed(this_array, this_min = 0, this_max = 255, set_to_int = True):\n",
        "    \n",
        "    rat = (this_max - this_min)/(this_array.max() - this_array.min())\n",
        "    this_array = this_array * rat\n",
        "    this_array -= this_array.min()\n",
        "    this_array += this_min\n",
        "    if set_to_int:\n",
        "        return this_array.to(dtype= torch.int)\n",
        "    return this_array"
      ]
    },
    {
      "cell_type": "code",
      "execution_count": 7,
      "metadata": {
        "id": "kIO2TTB6B8fs"
      },
      "outputs": [],
      "source": [
        "def getImages(image_folder):\n",
        "    '''\n",
        "        Input:\n",
        "        image_folder: directory of the image files\n",
        "\n",
        "        Output:\n",
        "        m1: list of the labels encountered (1,2,4,5)\n",
        "        m2: list of binary labels encountered (benign, malignant)\n",
        "        diff: list of any nodes with discrepency to CSV labels\n",
        "\n",
        "    '''\n",
        "    \n",
        "    train_img = []\n",
        "    train_label = []\n",
        "    \n",
        "    marked_benign = []\n",
        "    unmarked_benign = []\n",
        "    \n",
        "    marked_malignant = []\n",
        "    unmarked_malignant = []\n",
        "\n",
        "    \n",
        "\n",
        "    lidc = pd.read_csv('./data/lidc_spic_subgrouped.csv')\n",
        "    train_test = pd.read_csv('./data/lidc_train_test_split_stratified.csv')\n",
        "    for dir1 in os.listdir(image_folder):\n",
        "  \n",
        "        if dir1 == 'Malignancy_3':\n",
        "            continue\n",
        "\n",
        "        for file in os.listdir(os.path.join(image_folder, dir1)):\n",
        "\n",
        "\n",
        "            temp_nodule_ID = file.split('.')[0]\n",
        "            subtype = lidc[lidc['noduleID']==int(temp_nodule_ID)]['subgroup'].iloc[0]\n",
        "            malignancy = lidc[lidc['noduleID']==int(temp_nodule_ID)]['malignancy'].iloc[0]\n",
        "            \n",
        "            train_type = train_test[train_test['noduleID'] ==int(temp_nodule_ID)]['dataset'].iloc[0]\n",
        "            \n",
        "            \n",
        "            image = np.loadtxt(os.path.join(image_folder, dir1,file))\n",
        "            image = torch.from_numpy(image).to(DEVICE)\n",
        "            rgb_image = torch.stack((image,image,image), dim = 0)\n",
        "            rgb_image = getNormed(rgb_image)\n",
        "            rgb_image = rgb_image / 255 \n",
        "\n",
        "            \n",
        "            \n",
        "            if train_type == 'train':\n",
        "                train_img.append(rgb_image)\n",
        "                train_label.append(torch.tensor(1).to(DEVICE).to(torch.float32) if malignancy > 3 else torch.tensor(0).to(DEVICE).to(torch.float32))\n",
        "                \n",
        "                continue\n",
        "            \n",
        "            if subtype == 'marked_benign':\n",
        "                image_array = marked_benign\n",
        "            elif subtype == 'unmarked_benign':\n",
        "                image_array = unmarked_benign\n",
        "            elif subtype == 'marked_malignant':\n",
        "                image_array = marked_malignant\n",
        "            else:\n",
        "                image_array = unmarked_malignant\n",
        "            \n",
        "            image_array.append(rgb_image)\n",
        " \n",
        "\n",
        "\n",
        "    return train_img, train_label, marked_benign, unmarked_benign, marked_malignant, unmarked_malignant\n"
      ]
    },
    {
      "cell_type": "code",
      "execution_count": 8,
      "metadata": {
        "id": "SpumvIFFB8fu"
      },
      "outputs": [],
      "source": [
        "train_img, train_label, marked_benign, unmarked_benign, marked_malignant, unmarked_malignant = getImages('./LIDC(MaxSlices)_Nodules(fixed)')"
      ]
    },
    {
      "cell_type": "code",
      "execution_count": 9,
      "metadata": {
        "id": "4ibouW1fB8fu",
        "outputId": "cd43b046-4078-4f9c-e87e-8a6d4828d6cf",
        "colab": {
          "base_uri": "https://localhost:8080/"
        }
      },
      "outputs": [
        {
          "output_type": "execute_result",
          "data": {
            "text/plain": [
              "1219"
            ]
          },
          "metadata": {},
          "execution_count": 9
        }
      ],
      "source": [
        "len(train_img)"
      ]
    },
    {
      "cell_type": "code",
      "execution_count": 10,
      "metadata": {
        "id": "qjZDUQeaB8fu",
        "outputId": "ced058f8-9b99-44a7-c45b-aad10802e6c7",
        "colab": {
          "base_uri": "https://localhost:8080/"
        }
      },
      "outputs": [
        {
          "output_type": "execute_result",
          "data": {
            "text/plain": [
              "17"
            ]
          },
          "metadata": {},
          "execution_count": 10
        }
      ],
      "source": [
        "len(marked_benign)"
      ]
    },
    {
      "cell_type": "code",
      "execution_count": 11,
      "metadata": {
        "id": "KRQgDDJvB8fv",
        "outputId": "b04655a0-e2a1-45d6-ca8c-16a62158e652",
        "colab": {
          "base_uri": "https://localhost:8080/"
        }
      },
      "outputs": [
        {
          "output_type": "execute_result",
          "data": {
            "text/plain": [
              "149"
            ]
          },
          "metadata": {},
          "execution_count": 11
        }
      ],
      "source": [
        "len(unmarked_benign)"
      ]
    },
    {
      "cell_type": "code",
      "execution_count": 12,
      "metadata": {
        "id": "rpXfLcsKB8fv",
        "outputId": "e9382c48-8a53-4fe8-f753-a942d8a0f784",
        "colab": {
          "base_uri": "https://localhost:8080/"
        }
      },
      "outputs": [
        {
          "output_type": "execute_result",
          "data": {
            "text/plain": [
              "83"
            ]
          },
          "metadata": {},
          "execution_count": 12
        }
      ],
      "source": [
        "len(marked_malignant)"
      ]
    },
    {
      "cell_type": "code",
      "execution_count": 13,
      "metadata": {
        "id": "fMoIw8G5B8fw",
        "outputId": "bc51e39d-71b4-4518-860c-a94c53d0799a",
        "colab": {
          "base_uri": "https://localhost:8080/"
        }
      },
      "outputs": [
        {
          "output_type": "execute_result",
          "data": {
            "text/plain": [
              "47"
            ]
          },
          "metadata": {},
          "execution_count": 13
        }
      ],
      "source": [
        "len(unmarked_malignant)"
      ]
    },
    {
      "cell_type": "markdown",
      "metadata": {
        "id": "bCg3_K5qB8fy"
      },
      "source": [
        "#model train!!!"
      ]
    },
    {
      "cell_type": "code",
      "execution_count": 14,
      "metadata": {
        "id": "iJz4a0s0B8fy"
      },
      "outputs": [],
      "source": [
        "from models import VGGNet\n",
        "from loss import ERMLoss\n",
        "from datasets import NoduleDataset\n",
        "from dataloaders import InfiniteDataLoader\n",
        "\n",
        "import train"
      ]
    },
    {
      "cell_type": "code",
      "execution_count": 37,
      "metadata": {
        "id": "aq-BSEHnB8fy"
      },
      "outputs": [],
      "source": [
        "model = VGGNet(device=DEVICE)"
      ]
    },
    {
      "cell_type": "code",
      "execution_count": 38,
      "metadata": {
        "id": "v5PJW8uLB8fy"
      },
      "outputs": [],
      "source": [
        "loss_fn = ERMLoss(model,torch.nn.functional.binary_cross_entropy_with_logits,{}) #torch.nn.CrossEntropyLoss()"
      ]
    },
    {
      "cell_type": "code",
      "execution_count": 39,
      "metadata": {
        "id": "R0RpIGVUB8fz"
      },
      "outputs": [],
      "source": [
        "optimizer = torch.optim.Adam(model.parameters(), lr=0.005, weight_decay=0.005)\n"
      ]
    },
    {
      "cell_type": "code",
      "execution_count": 18,
      "metadata": {
        "id": "OmLj37gwB8fz"
      },
      "outputs": [],
      "source": [
        "train_dataset = NoduleDataset(train_img, train_label)"
      ]
    },
    {
      "cell_type": "code",
      "source": [
        "len(train_dataset)"
      ],
      "metadata": {
        "id": "K1rj5__UF2ei",
        "outputId": "764e8397-81d4-43ca-8fd6-b7dc338113a6",
        "colab": {
          "base_uri": "https://localhost:8080/"
        }
      },
      "execution_count": 19,
      "outputs": [
        {
          "output_type": "execute_result",
          "data": {
            "text/plain": [
              "1219"
            ]
          },
          "metadata": {},
          "execution_count": 19
        }
      ]
    },
    {
      "cell_type": "code",
      "source": [
        "train_set, val_set = torch.utils.data.random_split(train_dataset, [1000, 219])"
      ],
      "metadata": {
        "id": "9h99c5TUF1qZ"
      },
      "execution_count": 20,
      "outputs": []
    },
    {
      "cell_type": "code",
      "execution_count": 42,
      "metadata": {
        "id": "yjVU1l8nB8fz"
      },
      "outputs": [],
      "source": [
        "train_loader = InfiniteDataLoader(train_set, 1000, num_workers=0)"
      ]
    },
    {
      "cell_type": "code",
      "source": [
        "val_loader = InfiniteDataLoader(val_set, 219, num_workers = 0)"
      ],
      "metadata": {
        "id": "jiahpsDvGD7f"
      },
      "execution_count": 43,
      "outputs": []
    },
    {
      "cell_type": "code",
      "source": [
        "x,y = next(val_loader)"
      ],
      "metadata": {
        "id": "ll78UzrQN5tG"
      },
      "execution_count": 23,
      "outputs": []
    },
    {
      "cell_type": "code",
      "source": [
        "y.dtype"
      ],
      "metadata": {
        "id": "bhxPFJbSQ7sx",
        "outputId": "e87fd293-1a7d-46ee-8bd2-707a6467f034",
        "colab": {
          "base_uri": "https://localhost:8080/"
        }
      },
      "execution_count": 24,
      "outputs": [
        {
          "output_type": "execute_result",
          "data": {
            "text/plain": [
              "torch.float32"
            ]
          },
          "metadata": {},
          "execution_count": 24
        }
      ]
    },
    {
      "cell_type": "code",
      "execution_count": 45,
      "metadata": {
        "id": "nLnms-rJB8fz",
        "outputId": "ace34401-7ab4-4199-90e1-a5b68280a053",
        "colab": {
          "base_uri": "https://localhost:8080/"
        }
      },
      "outputs": [
        {
          "output_type": "stream",
          "name": "stdout",
          "text": [
            "Epoch 1/20\n",
            "Average training loss: 0.011553945951163769\n",
            "cv accuracy 0.7260273694992065\n",
            "Epoch 2/20\n",
            "Average training loss: 0.013658086769282818\n",
            "cv accuracy 0.6986300945281982\n",
            "Epoch 3/20\n",
            "Average training loss: 0.019219079986214638\n",
            "cv accuracy 0.6621004343032837\n",
            "Epoch 4/20\n",
            "Average training loss: 0.014188161119818687\n",
            "cv accuracy 0.6986300945281982\n",
            "Epoch 5/20\n",
            "Average training loss: 0.013350579887628555\n",
            "cv accuracy 0.6986300945281982\n",
            "Epoch 6/20\n",
            "Average training loss: 0.021042002364993095\n",
            "cv accuracy 0.6849314570426941\n",
            "Epoch 7/20\n",
            "Average training loss: 0.014486176893115044\n",
            "cv accuracy 0.680365264415741\n",
            "Epoch 8/20\n",
            "Average training loss: 0.008896777406334877\n",
            "cv accuracy 0.7031963467597961\n",
            "Epoch 9/20\n",
            "Average training loss: 0.008173934184014797\n",
            "cv accuracy 0.7077625393867493\n",
            "Epoch 10/20\n",
            "Average training loss: 0.007595770992338657\n",
            "cv accuracy 0.6757990717887878\n",
            "Epoch 11/20\n",
            "Average training loss: 0.010732823051512241\n",
            "cv accuracy 0.6621004343032837\n",
            "Epoch 12/20\n",
            "Average training loss: 0.010986360721290112\n",
            "cv accuracy 0.7077625393867493\n",
            "Epoch 13/20\n",
            "Average training loss: 0.012093123979866505\n",
            "cv accuracy 0.680365264415741\n",
            "Epoch 14/20\n",
            "Average training loss: 0.010755560360848904\n",
            "cv accuracy 0.7260273694992065\n",
            "Epoch 15/20\n",
            "Average training loss: 0.013659164309501648\n",
            "cv accuracy 0.7123287320137024\n",
            "Epoch 16/20\n",
            "Average training loss: 0.01118418574333191\n",
            "cv accuracy 0.7488583922386169\n",
            "Epoch 17/20\n",
            "Average training loss: 0.005171712022274733\n",
            "cv accuracy 0.6712328195571899\n",
            "Epoch 18/20\n",
            "Average training loss: 0.015983078628778458\n",
            "cv accuracy 0.7077625393867493\n",
            "Epoch 19/20\n",
            "Average training loss: 0.0080504659563303\n",
            "cv accuracy 0.6986300945281982\n",
            "Epoch 20/20\n",
            "Average training loss: 0.0047655669040977955\n",
            "cv accuracy 0.7214611768722534\n"
          ]
        }
      ],
      "source": [
        "epochs = 20\n",
        "for epoch in range(epochs):\n",
        "    print(f\"Epoch {epoch + 1}/{epochs}\")\n",
        "    train.train(train_loader, model, loss_fn, optimizer, verbose=True)\n",
        "                # train.test(test_dataloader, model)\n",
        "\n",
        "    model.eval()\n",
        "    with torch.no_grad():\n",
        "      X,y = next(val_loader)\n",
        "      results = torch.sigmoid(model(X))\n",
        "      accuracy = torch.sum(torch.round(results) == y)/219\n",
        "    model.train()\n",
        "    print(f'cv accuracy {accuracy}')"
      ]
    },
    {
      "cell_type": "code",
      "source": [
        ""
      ],
      "metadata": {
        "id": "2SsrZDqKXJiQ"
      },
      "execution_count": null,
      "outputs": []
    }
  ],
  "metadata": {
    "kernelspec": {
      "display_name": "REU",
      "language": "python",
      "name": "reu"
    },
    "language_info": {
      "codemirror_mode": {
        "name": "ipython",
        "version": 3
      },
      "file_extension": ".py",
      "mimetype": "text/x-python",
      "name": "python",
      "nbconvert_exporter": "python",
      "pygments_lexer": "ipython3",
      "version": "3.10.5"
    },
    "colab": {
      "name": "transfer_model.ipynb",
      "provenance": [],
      "include_colab_link": true
    },
    "accelerator": "GPU",
    "gpuClass": "standard"
  },
  "nbformat": 4,
  "nbformat_minor": 0
}