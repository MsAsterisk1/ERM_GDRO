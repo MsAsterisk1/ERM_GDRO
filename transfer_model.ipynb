{
  "cells": [
    {
      "cell_type": "markdown",
      "metadata": {
        "id": "view-in-github",
        "colab_type": "text"
      },
      "source": [
        "<a href=\"https://colab.research.google.com/github/mtzig/LIDC_GDRO/blob/main/transfer_model.ipynb\" target=\"_parent\"><img src=\"https://colab.research.google.com/assets/colab-badge.svg\" alt=\"Open In Colab\"/></a>"
      ]
    },
    {
      "cell_type": "code",
      "source": [
        "!git clone https://github.com/mtzig/LIDC_GDRO.git\n",
        "%cd /content/LIDC_GDRO"
      ],
      "metadata": {
        "id": "cS_sDpQXB-vm",
        "outputId": "67d8180a-c338-427b-924b-77268f98c805",
        "colab": {
          "base_uri": "https://localhost:8080/"
        }
      },
      "execution_count": 140,
      "outputs": [
        {
          "output_type": "stream",
          "name": "stdout",
          "text": [
            "fatal: destination path 'LIDC_GDRO' already exists and is not an empty directory.\n",
            "/content/LIDC_GDRO\n"
          ]
        }
      ]
    },
    {
      "cell_type": "code",
      "source": [
        "!git pull"
      ],
      "metadata": {
        "colab": {
          "base_uri": "https://localhost:8080/"
        },
        "id": "oeQp6jDCLEm4",
        "outputId": "a2e752db-5353-4072-a7a8-57fd6075a9e1"
      },
      "execution_count": 141,
      "outputs": [
        {
          "output_type": "stream",
          "name": "stdout",
          "text": [
            "Already up to date.\n"
          ]
        }
      ]
    },
    {
      "cell_type": "code",
      "execution_count": 142,
      "metadata": {
        "id": "OOHhqpFoB8fn"
      },
      "outputs": [],
      "source": [
        "import os\n",
        "import torch\n",
        "import pandas as pd\n",
        "import numpy as np\n",
        "from datasets import NoduleDataset\n",
        "from dataloaders import SubtypedDataLoader"
      ]
    },
    {
      "cell_type": "code",
      "execution_count": 143,
      "metadata": {
        "id": "98x3-CdyB8fq",
        "outputId": "3963e596-1f92-43b9-e044-6cd20ad525fb",
        "colab": {
          "base_uri": "https://localhost:8080/"
        }
      },
      "outputs": [
        {
          "output_type": "stream",
          "name": "stdout",
          "text": [
            "Good to go!\n"
          ]
        }
      ],
      "source": [
        "if torch.cuda.is_available():\n",
        "    print(\"Good to go!\")\n",
        "    DEVICE = torch.device(\"cuda\")\n",
        "else:\n",
        "    print(\"Using cpu\")\n",
        "    DEVICE = torch.device(\"cpu\")"
      ]
    },
    {
      "cell_type": "code",
      "execution_count": 144,
      "metadata": {
        "id": "twWudP8uB8fr",
        "outputId": "0efeb26d-d683-4bf7-cd50-e2f7a6c2d7ca",
        "colab": {
          "base_uri": "https://localhost:8080/",
          "height": 206
        }
      },
      "outputs": [
        {
          "output_type": "execute_result",
          "data": {
            "text/plain": [
              "   noduleID  malignancy  spiculation malignancy_b spiculation_b  \\\n",
              "0         1         5.0          5.0    malignant        marked   \n",
              "1         2         5.0          1.0    malignant      unmarked   \n",
              "2         3         5.0          2.0    malignant        marked   \n",
              "3         4         4.0          2.0    malignant        marked   \n",
              "4         5         5.0          1.0    malignant      unmarked   \n",
              "\n",
              "             subgroup  \n",
              "0    marked_malignant  \n",
              "1  unmarked_malignant  \n",
              "2    marked_malignant  \n",
              "3    marked_malignant  \n",
              "4  unmarked_malignant  "
            ],
            "text/html": [
              "\n",
              "  <div id=\"df-6f860d28-3a76-41b5-8764-afd54d56d8db\">\n",
              "    <div class=\"colab-df-container\">\n",
              "      <div>\n",
              "<style scoped>\n",
              "    .dataframe tbody tr th:only-of-type {\n",
              "        vertical-align: middle;\n",
              "    }\n",
              "\n",
              "    .dataframe tbody tr th {\n",
              "        vertical-align: top;\n",
              "    }\n",
              "\n",
              "    .dataframe thead th {\n",
              "        text-align: right;\n",
              "    }\n",
              "</style>\n",
              "<table border=\"1\" class=\"dataframe\">\n",
              "  <thead>\n",
              "    <tr style=\"text-align: right;\">\n",
              "      <th></th>\n",
              "      <th>noduleID</th>\n",
              "      <th>malignancy</th>\n",
              "      <th>spiculation</th>\n",
              "      <th>malignancy_b</th>\n",
              "      <th>spiculation_b</th>\n",
              "      <th>subgroup</th>\n",
              "    </tr>\n",
              "  </thead>\n",
              "  <tbody>\n",
              "    <tr>\n",
              "      <th>0</th>\n",
              "      <td>1</td>\n",
              "      <td>5.0</td>\n",
              "      <td>5.0</td>\n",
              "      <td>malignant</td>\n",
              "      <td>marked</td>\n",
              "      <td>marked_malignant</td>\n",
              "    </tr>\n",
              "    <tr>\n",
              "      <th>1</th>\n",
              "      <td>2</td>\n",
              "      <td>5.0</td>\n",
              "      <td>1.0</td>\n",
              "      <td>malignant</td>\n",
              "      <td>unmarked</td>\n",
              "      <td>unmarked_malignant</td>\n",
              "    </tr>\n",
              "    <tr>\n",
              "      <th>2</th>\n",
              "      <td>3</td>\n",
              "      <td>5.0</td>\n",
              "      <td>2.0</td>\n",
              "      <td>malignant</td>\n",
              "      <td>marked</td>\n",
              "      <td>marked_malignant</td>\n",
              "    </tr>\n",
              "    <tr>\n",
              "      <th>3</th>\n",
              "      <td>4</td>\n",
              "      <td>4.0</td>\n",
              "      <td>2.0</td>\n",
              "      <td>malignant</td>\n",
              "      <td>marked</td>\n",
              "      <td>marked_malignant</td>\n",
              "    </tr>\n",
              "    <tr>\n",
              "      <th>4</th>\n",
              "      <td>5</td>\n",
              "      <td>5.0</td>\n",
              "      <td>1.0</td>\n",
              "      <td>malignant</td>\n",
              "      <td>unmarked</td>\n",
              "      <td>unmarked_malignant</td>\n",
              "    </tr>\n",
              "  </tbody>\n",
              "</table>\n",
              "</div>\n",
              "      <button class=\"colab-df-convert\" onclick=\"convertToInteractive('df-6f860d28-3a76-41b5-8764-afd54d56d8db')\"\n",
              "              title=\"Convert this dataframe to an interactive table.\"\n",
              "              style=\"display:none;\">\n",
              "        \n",
              "  <svg xmlns=\"http://www.w3.org/2000/svg\" height=\"24px\"viewBox=\"0 0 24 24\"\n",
              "       width=\"24px\">\n",
              "    <path d=\"M0 0h24v24H0V0z\" fill=\"none\"/>\n",
              "    <path d=\"M18.56 5.44l.94 2.06.94-2.06 2.06-.94-2.06-.94-.94-2.06-.94 2.06-2.06.94zm-11 1L8.5 8.5l.94-2.06 2.06-.94-2.06-.94L8.5 2.5l-.94 2.06-2.06.94zm10 10l.94 2.06.94-2.06 2.06-.94-2.06-.94-.94-2.06-.94 2.06-2.06.94z\"/><path d=\"M17.41 7.96l-1.37-1.37c-.4-.4-.92-.59-1.43-.59-.52 0-1.04.2-1.43.59L10.3 9.45l-7.72 7.72c-.78.78-.78 2.05 0 2.83L4 21.41c.39.39.9.59 1.41.59.51 0 1.02-.2 1.41-.59l7.78-7.78 2.81-2.81c.8-.78.8-2.07 0-2.86zM5.41 20L4 18.59l7.72-7.72 1.47 1.35L5.41 20z\"/>\n",
              "  </svg>\n",
              "      </button>\n",
              "      \n",
              "  <style>\n",
              "    .colab-df-container {\n",
              "      display:flex;\n",
              "      flex-wrap:wrap;\n",
              "      gap: 12px;\n",
              "    }\n",
              "\n",
              "    .colab-df-convert {\n",
              "      background-color: #E8F0FE;\n",
              "      border: none;\n",
              "      border-radius: 50%;\n",
              "      cursor: pointer;\n",
              "      display: none;\n",
              "      fill: #1967D2;\n",
              "      height: 32px;\n",
              "      padding: 0 0 0 0;\n",
              "      width: 32px;\n",
              "    }\n",
              "\n",
              "    .colab-df-convert:hover {\n",
              "      background-color: #E2EBFA;\n",
              "      box-shadow: 0px 1px 2px rgba(60, 64, 67, 0.3), 0px 1px 3px 1px rgba(60, 64, 67, 0.15);\n",
              "      fill: #174EA6;\n",
              "    }\n",
              "\n",
              "    [theme=dark] .colab-df-convert {\n",
              "      background-color: #3B4455;\n",
              "      fill: #D2E3FC;\n",
              "    }\n",
              "\n",
              "    [theme=dark] .colab-df-convert:hover {\n",
              "      background-color: #434B5C;\n",
              "      box-shadow: 0px 1px 3px 1px rgba(0, 0, 0, 0.15);\n",
              "      filter: drop-shadow(0px 1px 2px rgba(0, 0, 0, 0.3));\n",
              "      fill: #FFFFFF;\n",
              "    }\n",
              "  </style>\n",
              "\n",
              "      <script>\n",
              "        const buttonEl =\n",
              "          document.querySelector('#df-6f860d28-3a76-41b5-8764-afd54d56d8db button.colab-df-convert');\n",
              "        buttonEl.style.display =\n",
              "          google.colab.kernel.accessAllowed ? 'block' : 'none';\n",
              "\n",
              "        async function convertToInteractive(key) {\n",
              "          const element = document.querySelector('#df-6f860d28-3a76-41b5-8764-afd54d56d8db');\n",
              "          const dataTable =\n",
              "            await google.colab.kernel.invokeFunction('convertToInteractive',\n",
              "                                                     [key], {});\n",
              "          if (!dataTable) return;\n",
              "\n",
              "          const docLinkHtml = 'Like what you see? Visit the ' +\n",
              "            '<a target=\"_blank\" href=https://colab.research.google.com/notebooks/data_table.ipynb>data table notebook</a>'\n",
              "            + ' to learn more about interactive tables.';\n",
              "          element.innerHTML = '';\n",
              "          dataTable['output_type'] = 'display_data';\n",
              "          await google.colab.output.renderOutput(dataTable, element);\n",
              "          const docLink = document.createElement('div');\n",
              "          docLink.innerHTML = docLinkHtml;\n",
              "          element.appendChild(docLink);\n",
              "        }\n",
              "      </script>\n",
              "    </div>\n",
              "  </div>\n",
              "  "
            ]
          },
          "metadata": {},
          "execution_count": 144
        }
      ],
      "source": [
        "lidc_subtyped = pd.read_csv('./data/lidc_spic_subgrouped.csv', index_col=0)\n",
        "lidc_subtyped.head(5)"
      ]
    },
    {
      "cell_type": "code",
      "source": [
        "lidc_subtyped.groupby(['spiculation_b', 'malignancy_b']).size()"
      ],
      "metadata": {
        "id": "47Sn_pqAhs0o",
        "outputId": "579d0d53-fb4f-430e-ebd9-48e4a0b562e7",
        "colab": {
          "base_uri": "https://localhost:8080/"
        }
      },
      "execution_count": 145,
      "outputs": [
        {
          "output_type": "execute_result",
          "data": {
            "text/plain": [
              "spiculation_b  malignancy_b\n",
              "marked         benign          101\n",
              "               malignant       407\n",
              "unmarked       benign          725\n",
              "               malignant       282\n",
              "dtype: int64"
            ]
          },
          "metadata": {},
          "execution_count": 145
        }
      ]
    },
    {
      "cell_type": "code",
      "execution_count": 146,
      "metadata": {
        "id": "L8cEI9G3B8fs"
      },
      "outputs": [],
      "source": [
        "def getNormed(this_array, this_min = 0, this_max = 255, set_to_int = True):\n",
        "    \n",
        "    rat = (this_max - this_min)/(this_array.max() - this_array.min())\n",
        "    this_array = this_array * rat\n",
        "    this_array -= this_array.min()\n",
        "    this_array += this_min\n",
        "    if set_to_int:\n",
        "        return this_array.to(dtype= torch.int)\n",
        "    return this_array"
      ]
    },
    {
      "cell_type": "code",
      "execution_count": 147,
      "metadata": {
        "id": "kIO2TTB6B8fs"
      },
      "outputs": [],
      "source": [
        "def getImages(image_folder):\n",
        "    '''\n",
        "        Input:\n",
        "        image_folder: directory of the image files\n",
        "\n",
        "        Output:\n",
        "        m1: list of the labels encountered (1,2,4,5)\n",
        "        m2: list of binary labels encountered (benign, malignant)\n",
        "        diff: list of any nodes with discrepency to CSV labels\n",
        "\n",
        "    '''\n",
        "    \n",
        "    train_img = []\n",
        "    train_label = []\n",
        "    train_spic_label = []\n",
        "    marked_benign = []\n",
        "    unmarked_benign = []\n",
        "    \n",
        "    marked_malignant = []\n",
        "    unmarked_malignant = []\n",
        "\n",
        "    \n",
        "\n",
        "    lidc = pd.read_csv('./data/lidc_spic_subgrouped.csv')\n",
        "    train_test = pd.read_csv('./data/lidc_train_test_split_stratified.csv')\n",
        "    for dir1 in os.listdir(image_folder):\n",
        "  \n",
        "        if dir1 == 'Malignancy_3':\n",
        "            continue\n",
        "\n",
        "        for file in os.listdir(os.path.join(image_folder, dir1)):\n",
        "\n",
        "\n",
        "            temp_nodule_ID = file.split('.')[0]\n",
        "            subtype = lidc[lidc['noduleID']==int(temp_nodule_ID)]['subgroup'].iloc[0]\n",
        "            malignancy = lidc[lidc['noduleID']==int(temp_nodule_ID)]['malignancy'].iloc[0]\n",
        "            spiculation = lidc[lidc['noduleID']==int(temp_nodule_ID)]['malignancy'].iloc[0]\n",
        "            \n",
        "            train_type = train_test[train_test['noduleID'] ==int(temp_nodule_ID)]['dataset'].iloc[0]\n",
        "            \n",
        "            \n",
        "            image = np.loadtxt(os.path.join(image_folder, dir1,file))\n",
        "            image = torch.from_numpy(image).to(DEVICE)\n",
        "            rgb_image = torch.stack((image,image,image), dim = 0)\n",
        "            rgb_image = getNormed(rgb_image)\n",
        "            rgb_image = rgb_image / 255 \n",
        "\n",
        "            \n",
        "            \n",
        "            if train_type == 'train':\n",
        "                train_img.append(rgb_image)\n",
        "                train_label.append(torch.tensor(1).to(DEVICE).to(torch.float32) if malignancy > 3 else torch.tensor(0).to(DEVICE).to(torch.float32))\n",
        "                train_spic_label.append(torch.tensor(1).to(DEVICE).to(torch.float32) if spiculation > 1 else torch.tensor(0).to(DEVICE).to(torch.float32))\n",
        "                \n",
        "                continue\n",
        "            \n",
        "            if subtype == 'marked_benign':\n",
        "                image_array = marked_benign\n",
        "            elif subtype == 'unmarked_benign':\n",
        "                image_array = unmarked_benign\n",
        "            elif subtype == 'marked_malignant':\n",
        "                image_array = marked_malignant\n",
        "            else:\n",
        "                image_array = unmarked_malignant\n",
        "            \n",
        "            image_array.append(rgb_image)\n",
        " \n",
        "\n",
        "\n",
        "    return train_img, train_label, train_spic_label, marked_benign, unmarked_benign, marked_malignant, unmarked_malignant\n"
      ]
    },
    {
      "cell_type": "code",
      "execution_count": 148,
      "metadata": {
        "id": "SpumvIFFB8fu"
      },
      "outputs": [],
      "source": [
        "train_img, train_label, train_spic_label, marked_benign, unmarked_benign, marked_malignant, unmarked_malignant = getImages('./LIDC(MaxSlices)_Nodules(fixed)')"
      ]
    },
    {
      "cell_type": "code",
      "source": [
        "sum(train_spic_label)"
      ],
      "metadata": {
        "id": "94s07j2Si-ze",
        "outputId": "774be6dc-59f9-4649-f617-1f96f8e86af6",
        "colab": {
          "base_uri": "https://localhost:8080/"
        }
      },
      "execution_count": 149,
      "outputs": [
        {
          "output_type": "execute_result",
          "data": {
            "text/plain": [
              "tensor(952., device='cuda:0')"
            ]
          },
          "metadata": {},
          "execution_count": 149
        }
      ]
    },
    {
      "cell_type": "code",
      "execution_count": 150,
      "metadata": {
        "id": "4ibouW1fB8fu",
        "outputId": "8fe955b4-1325-4901-b00b-2f42d58f545f",
        "colab": {
          "base_uri": "https://localhost:8080/"
        }
      },
      "outputs": [
        {
          "output_type": "execute_result",
          "data": {
            "text/plain": [
              "1219"
            ]
          },
          "metadata": {},
          "execution_count": 150
        }
      ],
      "source": [
        "len(train_img)"
      ]
    },
    {
      "cell_type": "code",
      "execution_count": 151,
      "metadata": {
        "id": "qjZDUQeaB8fu",
        "outputId": "b11c9bcd-372a-4a20-8b1b-72640aab92b3",
        "colab": {
          "base_uri": "https://localhost:8080/"
        }
      },
      "outputs": [
        {
          "output_type": "execute_result",
          "data": {
            "text/plain": [
              "17"
            ]
          },
          "metadata": {},
          "execution_count": 151
        }
      ],
      "source": [
        "len(marked_benign)"
      ]
    },
    {
      "cell_type": "code",
      "execution_count": 152,
      "metadata": {
        "id": "KRQgDDJvB8fv",
        "outputId": "eae549ec-6558-4913-ff94-6b02db1c6661",
        "colab": {
          "base_uri": "https://localhost:8080/"
        }
      },
      "outputs": [
        {
          "output_type": "execute_result",
          "data": {
            "text/plain": [
              "149"
            ]
          },
          "metadata": {},
          "execution_count": 152
        }
      ],
      "source": [
        "len(unmarked_benign)"
      ]
    },
    {
      "cell_type": "code",
      "execution_count": 153,
      "metadata": {
        "id": "rpXfLcsKB8fv",
        "outputId": "8a155fad-e43c-4336-d181-ebc6f93237ce",
        "colab": {
          "base_uri": "https://localhost:8080/"
        }
      },
      "outputs": [
        {
          "output_type": "execute_result",
          "data": {
            "text/plain": [
              "83"
            ]
          },
          "metadata": {},
          "execution_count": 153
        }
      ],
      "source": [
        "len(marked_malignant)"
      ]
    },
    {
      "cell_type": "code",
      "execution_count": 154,
      "metadata": {
        "id": "fMoIw8G5B8fw",
        "outputId": "b7556a99-0dcb-4601-ed93-c2a6548590e4",
        "colab": {
          "base_uri": "https://localhost:8080/"
        }
      },
      "outputs": [
        {
          "output_type": "execute_result",
          "data": {
            "text/plain": [
              "47"
            ]
          },
          "metadata": {},
          "execution_count": 154
        }
      ],
      "source": [
        "len(unmarked_malignant)"
      ]
    },
    {
      "cell_type": "markdown",
      "metadata": {
        "id": "bCg3_K5qB8fy"
      },
      "source": [
        "#model train!!!"
      ]
    },
    {
      "cell_type": "code",
      "execution_count": 155,
      "metadata": {
        "id": "iJz4a0s0B8fy"
      },
      "outputs": [],
      "source": [
        "from models import VGGNet\n",
        "from loss import ERMLoss\n",
        "from datasets import NoduleDataset\n",
        "from dataloaders import InfiniteDataLoader\n",
        "\n",
        "import train"
      ]
    },
    {
      "cell_type": "code",
      "execution_count": 156,
      "metadata": {
        "id": "aq-BSEHnB8fy"
      },
      "outputs": [],
      "source": [
        "model = VGGNet(device=DEVICE)"
      ]
    },
    {
      "cell_type": "code",
      "source": [
        "model"
      ],
      "metadata": {
        "id": "hIyQxPWbblxG",
        "outputId": "88717d00-e3ec-4e96-b72b-e5fbd92a79e3",
        "colab": {
          "base_uri": "https://localhost:8080/"
        }
      },
      "execution_count": 157,
      "outputs": [
        {
          "output_type": "execute_result",
          "data": {
            "text/plain": [
              "VGGNet(\n",
              "  (model): VGG(\n",
              "    (features): Sequential(\n",
              "      (0): Conv2d(3, 64, kernel_size=(3, 3), stride=(1, 1), padding=(1, 1))\n",
              "      (1): ReLU(inplace=True)\n",
              "      (2): Conv2d(64, 64, kernel_size=(3, 3), stride=(1, 1), padding=(1, 1))\n",
              "      (3): ReLU(inplace=True)\n",
              "      (4): MaxPool2d(kernel_size=2, stride=2, padding=0, dilation=1, ceil_mode=False)\n",
              "      (5): Conv2d(64, 128, kernel_size=(3, 3), stride=(1, 1), padding=(1, 1))\n",
              "      (6): ReLU(inplace=True)\n",
              "      (7): Conv2d(128, 128, kernel_size=(3, 3), stride=(1, 1), padding=(1, 1))\n",
              "      (8): ReLU(inplace=True)\n",
              "      (9): MaxPool2d(kernel_size=2, stride=2, padding=0, dilation=1, ceil_mode=False)\n",
              "      (10): Conv2d(128, 256, kernel_size=(3, 3), stride=(1, 1), padding=(1, 1))\n",
              "      (11): ReLU(inplace=True)\n",
              "      (12): Conv2d(256, 256, kernel_size=(3, 3), stride=(1, 1), padding=(1, 1))\n",
              "      (13): ReLU(inplace=True)\n",
              "      (14): Conv2d(256, 256, kernel_size=(3, 3), stride=(1, 1), padding=(1, 1))\n",
              "      (15): ReLU(inplace=True)\n",
              "      (16): Conv2d(256, 256, kernel_size=(3, 3), stride=(1, 1), padding=(1, 1))\n",
              "      (17): ReLU(inplace=True)\n",
              "      (18): MaxPool2d(kernel_size=2, stride=2, padding=0, dilation=1, ceil_mode=False)\n",
              "      (19): Conv2d(256, 512, kernel_size=(3, 3), stride=(1, 1), padding=(1, 1))\n",
              "      (20): ReLU(inplace=True)\n",
              "      (21): Conv2d(512, 512, kernel_size=(3, 3), stride=(1, 1), padding=(1, 1))\n",
              "      (22): ReLU(inplace=True)\n",
              "      (23): Conv2d(512, 512, kernel_size=(3, 3), stride=(1, 1), padding=(1, 1))\n",
              "      (24): ReLU(inplace=True)\n",
              "      (25): Conv2d(512, 512, kernel_size=(3, 3), stride=(1, 1), padding=(1, 1))\n",
              "      (26): ReLU(inplace=True)\n",
              "      (27): MaxPool2d(kernel_size=2, stride=2, padding=0, dilation=1, ceil_mode=False)\n",
              "      (28): Conv2d(512, 512, kernel_size=(3, 3), stride=(1, 1), padding=(1, 1))\n",
              "      (29): ReLU(inplace=True)\n",
              "      (30): Conv2d(512, 512, kernel_size=(3, 3), stride=(1, 1), padding=(1, 1))\n",
              "      (31): ReLU(inplace=True)\n",
              "      (32): Conv2d(512, 512, kernel_size=(3, 3), stride=(1, 1), padding=(1, 1))\n",
              "      (33): ReLU(inplace=True)\n",
              "      (34): Conv2d(512, 512, kernel_size=(3, 3), stride=(1, 1), padding=(1, 1))\n",
              "      (35): ReLU(inplace=True)\n",
              "      (36): MaxPool2d(kernel_size=2, stride=2, padding=0, dilation=1, ceil_mode=False)\n",
              "    )\n",
              "    (avgpool): AdaptiveAvgPool2d(output_size=(7, 7))\n",
              "    (classifier): Sequential(\n",
              "      (0): Linear(in_features=25088, out_features=512, bias=True)\n",
              "      (1): ReLU(inplace=True)\n",
              "      (2): Dropout(p=0.5, inplace=False)\n",
              "      (3): Linear(in_features=512, out_features=36, bias=True)\n",
              "      (4): ReLU(inplace=True)\n",
              "      (5): Dropout(p=0.5, inplace=False)\n",
              "      (6): Linear(in_features=36, out_features=1, bias=True)\n",
              "    )\n",
              "  )\n",
              ")"
            ]
          },
          "metadata": {},
          "execution_count": 157
        }
      ]
    },
    {
      "cell_type": "code",
      "execution_count": 158,
      "metadata": {
        "id": "v5PJW8uLB8fy"
      },
      "outputs": [],
      "source": [
        "loss_fn = ERMLoss(model,torch.nn.functional.binary_cross_entropy_with_logits,{}) #torch.nn.CrossEntropyLoss()"
      ]
    },
    {
      "cell_type": "code",
      "execution_count": 159,
      "metadata": {
        "id": "R0RpIGVUB8fz"
      },
      "outputs": [],
      "source": [
        "optimizer = torch.optim.Adam(model.parameters(), lr=0.00005, weight_decay=0.005)\n"
      ]
    },
    {
      "cell_type": "code",
      "execution_count": 160,
      "metadata": {
        "id": "OmLj37gwB8fz"
      },
      "outputs": [],
      "source": [
        "train_dataset = NoduleDataset(train_img, train_label) #train_spic_label"
      ]
    },
    {
      "cell_type": "code",
      "source": [
        "len(train_dataset)"
      ],
      "metadata": {
        "id": "K1rj5__UF2ei",
        "outputId": "9b209c30-fe01-4883-c715-1832a14b3bf4",
        "colab": {
          "base_uri": "https://localhost:8080/"
        }
      },
      "execution_count": 161,
      "outputs": [
        {
          "output_type": "execute_result",
          "data": {
            "text/plain": [
              "1219"
            ]
          },
          "metadata": {},
          "execution_count": 161
        }
      ]
    },
    {
      "cell_type": "code",
      "source": [
        "train_set, val_set = torch.utils.data.random_split(train_dataset, [1000, 219])"
      ],
      "metadata": {
        "id": "9h99c5TUF1qZ"
      },
      "execution_count": 162,
      "outputs": []
    },
    {
      "cell_type": "code",
      "execution_count": 163,
      "metadata": {
        "id": "yjVU1l8nB8fz"
      },
      "outputs": [],
      "source": [
        "train_loader = InfiniteDataLoader(train_set, 1000, num_workers=0)"
      ]
    },
    {
      "cell_type": "code",
      "source": [
        "val_loader = InfiniteDataLoader(val_set, 219, num_workers = 0)"
      ],
      "metadata": {
        "id": "jiahpsDvGD7f"
      },
      "execution_count": 164,
      "outputs": []
    },
    {
      "cell_type": "code",
      "source": [
        "x,y = next(val_loader)"
      ],
      "metadata": {
        "id": "ll78UzrQN5tG"
      },
      "execution_count": 165,
      "outputs": []
    },
    {
      "cell_type": "code",
      "source": [
        "y.dtype"
      ],
      "metadata": {
        "colab": {
          "base_uri": "https://localhost:8080/"
        },
        "id": "bhxPFJbSQ7sx",
        "outputId": "f667f266-6b22-410c-c633-02f85462b7b2"
      },
      "execution_count": 166,
      "outputs": [
        {
          "output_type": "execute_result",
          "data": {
            "text/plain": [
              "torch.float32"
            ]
          },
          "metadata": {},
          "execution_count": 166
        }
      ]
    },
    {
      "cell_type": "code",
      "execution_count": 167,
      "metadata": {
        "id": "nLnms-rJB8fz",
        "outputId": "0ed75841-dda0-47ef-d0a5-0ca3432a4080",
        "colab": {
          "base_uri": "https://localhost:8080/"
        }
      },
      "outputs": [
        {
          "output_type": "stream",
          "name": "stdout",
          "text": [
            "Epoch 1/40\n",
            "Average training loss: 0.6946945190429688\n",
            "cv accuracy 0.611872136592865\n",
            "Epoch 2/40\n",
            "Average training loss: 0.677635908126831\n",
            "cv accuracy 0.5205479264259338\n",
            "Epoch 3/40\n",
            "Average training loss: 0.6549263596534729\n",
            "cv accuracy 0.6255707740783691\n",
            "Epoch 4/40\n",
            "Average training loss: 0.6415143013000488\n",
            "cv accuracy 0.6986300945281982\n",
            "Epoch 5/40\n",
            "Average training loss: 0.6368833780288696\n",
            "cv accuracy 0.7351598143577576\n",
            "Epoch 6/40\n",
            "Average training loss: 0.6449071168899536\n",
            "cv accuracy 0.6392693519592285\n",
            "Epoch 7/40\n",
            "Average training loss: 0.6267386078834534\n",
            "cv accuracy 0.6986300945281982\n",
            "Epoch 8/40\n",
            "Average training loss: 0.5968575477600098\n",
            "cv accuracy 0.6712328195571899\n",
            "Epoch 9/40\n",
            "Average training loss: 0.6072192788124084\n",
            "cv accuracy 0.7123287320137024\n",
            "Epoch 10/40\n",
            "Average training loss: 0.5864220261573792\n",
            "cv accuracy 0.7168949246406555\n",
            "Epoch 11/40\n",
            "Average training loss: 0.5770047903060913\n",
            "cv accuracy 0.7214611768722534\n",
            "Epoch 12/40\n",
            "Average training loss: 0.5620027184486389\n",
            "cv accuracy 0.680365264415741\n",
            "Epoch 13/40\n",
            "Average training loss: 0.5495947599411011\n",
            "cv accuracy 0.7123287320137024\n",
            "Epoch 14/40\n",
            "Average training loss: 0.5451652407646179\n",
            "cv accuracy 0.680365264415741\n",
            "Epoch 15/40\n",
            "Average training loss: 0.5397807359695435\n",
            "cv accuracy 0.6621004343032837\n",
            "Epoch 16/40\n",
            "Average training loss: 0.5279181003570557\n",
            "cv accuracy 0.7077625393867493\n",
            "Epoch 17/40\n",
            "Average training loss: 0.5395804643630981\n",
            "cv accuracy 0.7488583922386169\n",
            "Epoch 18/40\n",
            "Average training loss: 0.4921005964279175\n",
            "cv accuracy 0.6986300945281982\n",
            "Epoch 19/40\n",
            "Average training loss: 0.5214628577232361\n",
            "cv accuracy 0.7077625393867493\n",
            "Epoch 20/40\n",
            "Average training loss: 0.518579363822937\n",
            "cv accuracy 0.7168949246406555\n",
            "Epoch 21/40\n",
            "Average training loss: 0.5059900879859924\n",
            "cv accuracy 0.767123281955719\n",
            "Epoch 22/40\n",
            "Average training loss: 0.5030972957611084\n",
            "cv accuracy 0.7808218598365784\n",
            "Epoch 23/40\n",
            "Average training loss: 0.4749234914779663\n",
            "cv accuracy 0.7716894745826721\n",
            "Epoch 24/40\n",
            "Average training loss: 0.4687027931213379\n",
            "cv accuracy 0.7214611768722534\n",
            "Epoch 25/40\n",
            "Average training loss: 0.4716005325317383\n",
            "cv accuracy 0.7534246444702148\n",
            "Epoch 26/40\n",
            "Average training loss: 0.46345674991607666\n",
            "cv accuracy 0.7488583922386169\n",
            "Epoch 27/40\n",
            "Average training loss: 0.44336751103401184\n",
            "cv accuracy 0.7305935621261597\n",
            "Epoch 28/40\n",
            "Average training loss: 0.438154399394989\n",
            "cv accuracy 0.7397260069847107\n",
            "Epoch 29/40\n",
            "Average training loss: 0.4330516457557678\n",
            "cv accuracy 0.7351598143577576\n",
            "Epoch 30/40\n",
            "Average training loss: 0.421674519777298\n",
            "cv accuracy 0.7260273694992065\n",
            "Epoch 31/40\n",
            "Average training loss: 0.4028865694999695\n",
            "cv accuracy 0.6986300945281982\n",
            "Epoch 32/40\n",
            "Average training loss: 0.4226032793521881\n",
            "cv accuracy 0.7853881120681763\n",
            "Epoch 33/40\n",
            "Average training loss: 0.435955673456192\n",
            "cv accuracy 0.7214611768722534\n",
            "Epoch 34/40\n",
            "Average training loss: 0.37911298871040344\n",
            "cv accuracy 0.7488583922386169\n",
            "Epoch 35/40\n",
            "Average training loss: 0.395550012588501\n",
            "cv accuracy 0.6712328195571899\n",
            "Epoch 36/40\n",
            "Average training loss: 0.3944728672504425\n",
            "cv accuracy 0.7305935621261597\n",
            "Epoch 37/40\n",
            "Average training loss: 0.3897615373134613\n",
            "cv accuracy 0.7168949246406555\n",
            "Epoch 38/40\n",
            "Average training loss: 0.3835419714450836\n",
            "cv accuracy 0.7899543046951294\n",
            "Epoch 39/40\n",
            "Average training loss: 0.3560372591018677\n",
            "cv accuracy 0.7945204973220825\n",
            "Epoch 40/40\n",
            "Average training loss: 0.3713419437408447\n",
            "cv accuracy 0.757990837097168\n"
          ]
        }
      ],
      "source": [
        "epochs = 40\n",
        "for epoch in range(epochs):\n",
        "    print(f\"Epoch {epoch + 1}/{epochs}\")\n",
        "    train.train(train_loader, model, loss_fn, optimizer, verbose=True)\n",
        "                # train.test(test_dataloader, model)\n",
        "\n",
        "    model.eval()\n",
        "    with torch.no_grad():\n",
        "      X,y = next(val_loader)\n",
        "      results = torch.sigmoid(model(X))\n",
        "      accuracy = torch.sum(torch.round(results) == y)/219\n",
        "    model.train()\n",
        "    print(f'cv accuracy {accuracy}')"
      ]
    },
    {
      "cell_type": "markdown",
      "source": [
        "#marked_benign"
      ],
      "metadata": {
        "id": "qUU_JzcVfAHf"
      }
    },
    {
      "cell_type": "code",
      "source": [
        "len(marked_benign)"
      ],
      "metadata": {
        "id": "eqNHw5cqgkYL",
        "outputId": "845faf0d-eea4-44d0-bae8-6f85b96918c1",
        "colab": {
          "base_uri": "https://localhost:8080/"
        }
      },
      "execution_count": 168,
      "outputs": [
        {
          "output_type": "execute_result",
          "data": {
            "text/plain": [
              "17"
            ]
          },
          "metadata": {},
          "execution_count": 168
        }
      ]
    },
    {
      "cell_type": "code",
      "source": [
        "results = torch.sigmoid(model(torch.stack(marked_benign).to(DEVICE)))\n",
        "accuracy = torch.sum(torch.round(results) == torch.zeros(len(marked_benign), device=DEVICE))/len(marked_benign)\n",
        "accuracy"
      ],
      "metadata": {
        "id": "j1pBgGAafB0d",
        "outputId": "d7e99dc5-d3c0-4305-96bd-43ad9c584758",
        "colab": {
          "base_uri": "https://localhost:8080/"
        }
      },
      "execution_count": 169,
      "outputs": [
        {
          "output_type": "execute_result",
          "data": {
            "text/plain": [
              "tensor(0.7059, device='cuda:0')"
            ]
          },
          "metadata": {},
          "execution_count": 169
        }
      ]
    },
    {
      "cell_type": "markdown",
      "source": [
        "#unmarked_benign"
      ],
      "metadata": {
        "id": "HYKIbhxjfyt6"
      }
    },
    {
      "cell_type": "code",
      "source": [
        "len(unmarked_benign)"
      ],
      "metadata": {
        "id": "ayK8aIStgnu_",
        "outputId": "e33d0257-e314-4eda-9f1c-800aa2879106",
        "colab": {
          "base_uri": "https://localhost:8080/"
        }
      },
      "execution_count": 170,
      "outputs": [
        {
          "output_type": "execute_result",
          "data": {
            "text/plain": [
              "149"
            ]
          },
          "metadata": {},
          "execution_count": 170
        }
      ]
    },
    {
      "cell_type": "code",
      "source": [
        "results = torch.sigmoid(model(torch.stack(unmarked_benign).to(DEVICE)))\n",
        "accuracy = torch.sum(torch.round(results) == torch.zeros(len(unmarked_benign), device=DEVICE))/len(unmarked_benign)\n",
        "accuracy"
      ],
      "metadata": {
        "id": "d721AOEwfjh9",
        "outputId": "1ce4f308-6db8-4c1a-c4f4-3a3a7383c9b0",
        "colab": {
          "base_uri": "https://localhost:8080/"
        }
      },
      "execution_count": 171,
      "outputs": [
        {
          "output_type": "execute_result",
          "data": {
            "text/plain": [
              "tensor(0.8523, device='cuda:0')"
            ]
          },
          "metadata": {},
          "execution_count": 171
        }
      ]
    },
    {
      "cell_type": "markdown",
      "source": [
        "#marked_malignant\n",
        "\n"
      ],
      "metadata": {
        "id": "njPEZWT3gBEx"
      }
    },
    {
      "cell_type": "code",
      "source": [
        "results = torch.sigmoid(model(torch.stack(marked_malignant).to(DEVICE)))\n",
        "accuracy = torch.sum(torch.round(results) == torch.ones(len(marked_malignant), device=DEVICE))/len(marked_malignant)\n",
        "accuracy"
      ],
      "metadata": {
        "id": "TampixnUf4zR",
        "outputId": "24d448a1-5e79-4b4f-b8a9-4c581e06c734",
        "colab": {
          "base_uri": "https://localhost:8080/"
        }
      },
      "execution_count": 172,
      "outputs": [
        {
          "output_type": "execute_result",
          "data": {
            "text/plain": [
              "tensor(0.6386, device='cuda:0')"
            ]
          },
          "metadata": {},
          "execution_count": 172
        }
      ]
    },
    {
      "cell_type": "code",
      "source": [
        "len(marked_malignant)"
      ],
      "metadata": {
        "id": "dldTeNbogdaw",
        "outputId": "8b2ff901-218b-492d-9b0d-631f3e83483e",
        "colab": {
          "base_uri": "https://localhost:8080/"
        }
      },
      "execution_count": 173,
      "outputs": [
        {
          "output_type": "execute_result",
          "data": {
            "text/plain": [
              "83"
            ]
          },
          "metadata": {},
          "execution_count": 173
        }
      ]
    },
    {
      "cell_type": "markdown",
      "source": [
        "#unmarked malignant"
      ],
      "metadata": {
        "id": "t1OJnamPgRNI"
      }
    },
    {
      "cell_type": "code",
      "source": [
        "len(unmarked_malignant)"
      ],
      "metadata": {
        "id": "YKSWEXi1ggxd",
        "outputId": "a5d634f6-6fb9-45b4-c767-deac91908ad2",
        "colab": {
          "base_uri": "https://localhost:8080/"
        }
      },
      "execution_count": 174,
      "outputs": [
        {
          "output_type": "execute_result",
          "data": {
            "text/plain": [
              "47"
            ]
          },
          "metadata": {},
          "execution_count": 174
        }
      ]
    },
    {
      "cell_type": "code",
      "source": [
        "results = torch.sigmoid(model(torch.stack(unmarked_malignant).to(DEVICE)))\n",
        "accuracy = torch.sum(torch.round(results) == torch.ones(len(unmarked_malignant), device=DEVICE))/len(unmarked_malignant)\n",
        "accuracy"
      ],
      "metadata": {
        "id": "W3VuLRx3gLPF",
        "outputId": "5b197fb2-4883-4465-de41-b6329b44b963",
        "colab": {
          "base_uri": "https://localhost:8080/"
        }
      },
      "execution_count": 175,
      "outputs": [
        {
          "output_type": "execute_result",
          "data": {
            "text/plain": [
              "tensor(0.5106, device='cuda:0')"
            ]
          },
          "metadata": {},
          "execution_count": 175
        }
      ]
    }
  ],
  "metadata": {
    "kernelspec": {
      "display_name": "REU",
      "language": "python",
      "name": "reu"
    },
    "language_info": {
      "codemirror_mode": {
        "name": "ipython",
        "version": 3
      },
      "file_extension": ".py",
      "mimetype": "text/x-python",
      "name": "python",
      "nbconvert_exporter": "python",
      "pygments_lexer": "ipython3",
      "version": "3.10.5"
    },
    "colab": {
      "name": "transfer_model.ipynb",
      "provenance": [],
      "include_colab_link": true
    },
    "accelerator": "GPU",
    "gpuClass": "standard"
  },
  "nbformat": 4,
  "nbformat_minor": 0
}