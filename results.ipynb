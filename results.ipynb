{
 "cells": [
  {
   "cell_type": "code",
   "execution_count": 188,
   "id": "215c018f",
   "metadata": {},
   "outputs": [],
   "source": [
    "import pandas as pd\n",
    "import re"
   ]
  },
  {
   "cell_type": "code",
   "execution_count": 200,
   "id": "9b840e2b",
   "metadata": {},
   "outputs": [],
   "source": [
    "results = pd.read_csv(\"results\").iloc[:, 1:]"
   ]
  },
  {
   "cell_type": "code",
   "execution_count": 201,
   "id": "b3ace5d7",
   "metadata": {},
   "outputs": [
    {
     "data": {
      "text/html": [
       "<div>\n",
       "<style scoped>\n",
       "    .dataframe tbody tr th:only-of-type {\n",
       "        vertical-align: middle;\n",
       "    }\n",
       "\n",
       "    .dataframe tbody tr th {\n",
       "        vertical-align: top;\n",
       "    }\n",
       "\n",
       "    .dataframe thead th {\n",
       "        text-align: right;\n",
       "    }\n",
       "</style>\n",
       "<table border=\"1\" class=\"dataframe\">\n",
       "  <thead>\n",
       "    <tr style=\"text-align: right;\">\n",
       "      <th></th>\n",
       "      <th>ERM</th>\n",
       "      <th>GDRO</th>\n",
       "    </tr>\n",
       "  </thead>\n",
       "  <tbody>\n",
       "    <tr>\n",
       "      <th>0</th>\n",
       "      <td>(0.7583333333333333, array([0.83333333, 0.9   ...</td>\n",
       "      <td>(0.7916666666666666, array([0.76666667, 0.9333...</td>\n",
       "    </tr>\n",
       "    <tr>\n",
       "      <th>1</th>\n",
       "      <td>(0.7583333333333333, array([0.86666667, 0.8333...</td>\n",
       "      <td>(0.725, array([0.73333333, 0.86666667, 0.53333...</td>\n",
       "    </tr>\n",
       "    <tr>\n",
       "      <th>2</th>\n",
       "      <td>(0.7083333333333334, array([0.9       , 0.8333...</td>\n",
       "      <td>(0.7416666666666667, array([0.86666667, 0.9   ...</td>\n",
       "    </tr>\n",
       "    <tr>\n",
       "      <th>3</th>\n",
       "      <td>(0.725, array([1.        , 0.9       , 0.36666...</td>\n",
       "      <td>(0.7916666666666666, array([0.76666667, 0.8   ...</td>\n",
       "    </tr>\n",
       "    <tr>\n",
       "      <th>4</th>\n",
       "      <td>(0.7833333333333333, array([0.96666667, 0.8333...</td>\n",
       "      <td>(0.8, array([0.73333333, 0.86666667, 0.7666666...</td>\n",
       "    </tr>\n",
       "    <tr>\n",
       "      <th>5</th>\n",
       "      <td>(0.7833333333333333, array([0.86666667, 0.8333...</td>\n",
       "      <td>(0.75, array([0.63333333, 0.76666667, 0.766666...</td>\n",
       "    </tr>\n",
       "    <tr>\n",
       "      <th>6</th>\n",
       "      <td>(0.7083333333333334, array([0.76666667, 0.9   ...</td>\n",
       "      <td>(0.7583333333333333, array([0.73333333, 0.8333...</td>\n",
       "    </tr>\n",
       "    <tr>\n",
       "      <th>7</th>\n",
       "      <td>(0.7916666666666666, array([0.8       , 0.9333...</td>\n",
       "      <td>(0.8, array([0.76666667, 0.96666667, 0.5666666...</td>\n",
       "    </tr>\n",
       "    <tr>\n",
       "      <th>8</th>\n",
       "      <td>(0.7166666666666667, array([0.66666667, 0.8666...</td>\n",
       "      <td>(0.7083333333333334, array([0.76666667, 0.9333...</td>\n",
       "    </tr>\n",
       "    <tr>\n",
       "      <th>9</th>\n",
       "      <td>(0.725, array([0.86666667, 0.86666667, 0.53333...</td>\n",
       "      <td>(0.75, array([0.63333333, 0.83333333, 0.733333...</td>\n",
       "    </tr>\n",
       "    <tr>\n",
       "      <th>10</th>\n",
       "      <td>(0.7583333333333333, array([0.93333333, 0.7   ...</td>\n",
       "      <td>(0.7583333333333333, array([0.83333333, 0.8   ...</td>\n",
       "    </tr>\n",
       "    <tr>\n",
       "      <th>11</th>\n",
       "      <td>(0.7666666666666667, array([0.93333333, 0.7666...</td>\n",
       "      <td>(0.775, array([0.73333333, 0.86666667, 0.63333...</td>\n",
       "    </tr>\n",
       "    <tr>\n",
       "      <th>12</th>\n",
       "      <td>(0.7333333333333333, array([0.83333333, 0.8333...</td>\n",
       "      <td>(0.6916666666666667, array([0.8       , 0.8333...</td>\n",
       "    </tr>\n",
       "    <tr>\n",
       "      <th>13</th>\n",
       "      <td>(0.7583333333333333, array([0.76666667, 0.8   ...</td>\n",
       "      <td>(0.7833333333333333, array([0.86666667, 0.9   ...</td>\n",
       "    </tr>\n",
       "    <tr>\n",
       "      <th>14</th>\n",
       "      <td>(0.75, array([1.        , 0.76666667, 0.5     ...</td>\n",
       "      <td>(0.8416666666666667, array([0.86666667, 0.9333...</td>\n",
       "    </tr>\n",
       "    <tr>\n",
       "      <th>15</th>\n",
       "      <td>(0.8, array([0.83333333, 0.76666667, 0.6666666...</td>\n",
       "      <td>(0.8, array([0.8       , 0.93333333, 0.5666666...</td>\n",
       "    </tr>\n",
       "    <tr>\n",
       "      <th>16</th>\n",
       "      <td>(0.775, array([0.86666667, 0.96666667, 0.53333...</td>\n",
       "      <td>(0.7916666666666666, array([0.96666667, 0.8666...</td>\n",
       "    </tr>\n",
       "    <tr>\n",
       "      <th>17</th>\n",
       "      <td>(0.7583333333333333, array([0.8       , 0.9333...</td>\n",
       "      <td>(0.775, array([0.83333333, 0.8       , 0.63333...</td>\n",
       "    </tr>\n",
       "    <tr>\n",
       "      <th>18</th>\n",
       "      <td>(0.775, array([0.93333333, 0.83333333, 0.63333...</td>\n",
       "      <td>(0.7416666666666667, array([0.86666667, 0.8666...</td>\n",
       "    </tr>\n",
       "    <tr>\n",
       "      <th>19</th>\n",
       "      <td>(0.7916666666666666, array([0.8       , 0.8333...</td>\n",
       "      <td>(0.7916666666666666, array([0.83333333, 0.8   ...</td>\n",
       "    </tr>\n",
       "    <tr>\n",
       "      <th>20</th>\n",
       "      <td>(0.8083333333333333, array([0.93333333, 0.8333...</td>\n",
       "      <td>(0.775, array([0.86666667, 0.83333333, 0.56666...</td>\n",
       "    </tr>\n",
       "    <tr>\n",
       "      <th>21</th>\n",
       "      <td>(0.8, array([0.83333333, 0.9       , 0.7      ...</td>\n",
       "      <td>(0.7416666666666667, array([0.83333333, 0.7666...</td>\n",
       "    </tr>\n",
       "    <tr>\n",
       "      <th>22</th>\n",
       "      <td>(0.7916666666666666, array([0.9       , 0.9666...</td>\n",
       "      <td>(0.7583333333333333, array([0.76666667, 0.9   ...</td>\n",
       "    </tr>\n",
       "    <tr>\n",
       "      <th>23</th>\n",
       "      <td>(0.7166666666666667, array([0.76666667, 0.8333...</td>\n",
       "      <td>(0.7166666666666667, array([0.93333333, 0.8   ...</td>\n",
       "    </tr>\n",
       "    <tr>\n",
       "      <th>24</th>\n",
       "      <td>(0.7333333333333333, array([0.93333333, 0.8   ...</td>\n",
       "      <td>(0.75, array([0.9       , 0.86666667, 0.533333...</td>\n",
       "    </tr>\n",
       "    <tr>\n",
       "      <th>25</th>\n",
       "      <td>(0.725, array([0.9       , 0.86666667, 0.43333...</td>\n",
       "      <td>(0.825, array([0.7       , 0.93333333, 0.83333...</td>\n",
       "    </tr>\n",
       "    <tr>\n",
       "      <th>26</th>\n",
       "      <td>(0.7083333333333334, array([0.8       , 0.7666...</td>\n",
       "      <td>(0.7333333333333333, array([0.9       , 0.7666...</td>\n",
       "    </tr>\n",
       "    <tr>\n",
       "      <th>27</th>\n",
       "      <td>(0.775, array([0.86666667, 0.83333333, 0.56666...</td>\n",
       "      <td>(0.7833333333333333, array([0.83333333, 0.9333...</td>\n",
       "    </tr>\n",
       "    <tr>\n",
       "      <th>28</th>\n",
       "      <td>(0.8083333333333333, array([0.86666667, 0.8666...</td>\n",
       "      <td>(0.8, array([0.9, 0.8, 0.7, 0.8]))</td>\n",
       "    </tr>\n",
       "    <tr>\n",
       "      <th>29</th>\n",
       "      <td>(0.75, array([0.9, 0.9, 0.5, 0.7]))</td>\n",
       "      <td>(0.7416666666666667, array([0.7       , 0.7666...</td>\n",
       "    </tr>\n",
       "  </tbody>\n",
       "</table>\n",
       "</div>"
      ],
      "text/plain": [
       "                                                  ERM  \\\n",
       "0   (0.7583333333333333, array([0.83333333, 0.9   ...   \n",
       "1   (0.7583333333333333, array([0.86666667, 0.8333...   \n",
       "2   (0.7083333333333334, array([0.9       , 0.8333...   \n",
       "3   (0.725, array([1.        , 0.9       , 0.36666...   \n",
       "4   (0.7833333333333333, array([0.96666667, 0.8333...   \n",
       "5   (0.7833333333333333, array([0.86666667, 0.8333...   \n",
       "6   (0.7083333333333334, array([0.76666667, 0.9   ...   \n",
       "7   (0.7916666666666666, array([0.8       , 0.9333...   \n",
       "8   (0.7166666666666667, array([0.66666667, 0.8666...   \n",
       "9   (0.725, array([0.86666667, 0.86666667, 0.53333...   \n",
       "10  (0.7583333333333333, array([0.93333333, 0.7   ...   \n",
       "11  (0.7666666666666667, array([0.93333333, 0.7666...   \n",
       "12  (0.7333333333333333, array([0.83333333, 0.8333...   \n",
       "13  (0.7583333333333333, array([0.76666667, 0.8   ...   \n",
       "14  (0.75, array([1.        , 0.76666667, 0.5     ...   \n",
       "15  (0.8, array([0.83333333, 0.76666667, 0.6666666...   \n",
       "16  (0.775, array([0.86666667, 0.96666667, 0.53333...   \n",
       "17  (0.7583333333333333, array([0.8       , 0.9333...   \n",
       "18  (0.775, array([0.93333333, 0.83333333, 0.63333...   \n",
       "19  (0.7916666666666666, array([0.8       , 0.8333...   \n",
       "20  (0.8083333333333333, array([0.93333333, 0.8333...   \n",
       "21  (0.8, array([0.83333333, 0.9       , 0.7      ...   \n",
       "22  (0.7916666666666666, array([0.9       , 0.9666...   \n",
       "23  (0.7166666666666667, array([0.76666667, 0.8333...   \n",
       "24  (0.7333333333333333, array([0.93333333, 0.8   ...   \n",
       "25  (0.725, array([0.9       , 0.86666667, 0.43333...   \n",
       "26  (0.7083333333333334, array([0.8       , 0.7666...   \n",
       "27  (0.775, array([0.86666667, 0.83333333, 0.56666...   \n",
       "28  (0.8083333333333333, array([0.86666667, 0.8666...   \n",
       "29                (0.75, array([0.9, 0.9, 0.5, 0.7]))   \n",
       "\n",
       "                                                 GDRO  \n",
       "0   (0.7916666666666666, array([0.76666667, 0.9333...  \n",
       "1   (0.725, array([0.73333333, 0.86666667, 0.53333...  \n",
       "2   (0.7416666666666667, array([0.86666667, 0.9   ...  \n",
       "3   (0.7916666666666666, array([0.76666667, 0.8   ...  \n",
       "4   (0.8, array([0.73333333, 0.86666667, 0.7666666...  \n",
       "5   (0.75, array([0.63333333, 0.76666667, 0.766666...  \n",
       "6   (0.7583333333333333, array([0.73333333, 0.8333...  \n",
       "7   (0.8, array([0.76666667, 0.96666667, 0.5666666...  \n",
       "8   (0.7083333333333334, array([0.76666667, 0.9333...  \n",
       "9   (0.75, array([0.63333333, 0.83333333, 0.733333...  \n",
       "10  (0.7583333333333333, array([0.83333333, 0.8   ...  \n",
       "11  (0.775, array([0.73333333, 0.86666667, 0.63333...  \n",
       "12  (0.6916666666666667, array([0.8       , 0.8333...  \n",
       "13  (0.7833333333333333, array([0.86666667, 0.9   ...  \n",
       "14  (0.8416666666666667, array([0.86666667, 0.9333...  \n",
       "15  (0.8, array([0.8       , 0.93333333, 0.5666666...  \n",
       "16  (0.7916666666666666, array([0.96666667, 0.8666...  \n",
       "17  (0.775, array([0.83333333, 0.8       , 0.63333...  \n",
       "18  (0.7416666666666667, array([0.86666667, 0.8666...  \n",
       "19  (0.7916666666666666, array([0.83333333, 0.8   ...  \n",
       "20  (0.775, array([0.86666667, 0.83333333, 0.56666...  \n",
       "21  (0.7416666666666667, array([0.83333333, 0.7666...  \n",
       "22  (0.7583333333333333, array([0.76666667, 0.9   ...  \n",
       "23  (0.7166666666666667, array([0.93333333, 0.8   ...  \n",
       "24  (0.75, array([0.9       , 0.86666667, 0.533333...  \n",
       "25  (0.825, array([0.7       , 0.93333333, 0.83333...  \n",
       "26  (0.7333333333333333, array([0.9       , 0.7666...  \n",
       "27  (0.7833333333333333, array([0.83333333, 0.9333...  \n",
       "28                 (0.8, array([0.9, 0.8, 0.7, 0.8]))  \n",
       "29  (0.7416666666666667, array([0.7       , 0.7666...  "
      ]
     },
     "execution_count": 201,
     "metadata": {},
     "output_type": "execute_result"
    }
   ],
   "source": [
    "results"
   ]
  },
  {
   "cell_type": "code",
   "execution_count": 202,
   "id": "18f58c24",
   "metadata": {},
   "outputs": [
    {
     "data": {
      "text/plain": [
       "0.7583333333333333"
      ]
     },
     "execution_count": 202,
     "metadata": {},
     "output_type": "execute_result"
    }
   ],
   "source": [
    "split = [[[float(s) for s in re.sub(\"\\(|\\[|[a-z]| |\\]|\\)\", \"\", v).split(\",\")] for v in row] for row in results.values]\n",
    "split[0][0][0]"
   ]
  },
  {
   "cell_type": "code",
   "execution_count": 203,
   "id": "c775056b",
   "metadata": {},
   "outputs": [],
   "source": [
    "data_clean = [pd.DataFrame([[val[group] for val in row] for row in split], columns=[\"ERM\",\"GDRO\"]) for group in range(5)]"
   ]
  },
  {
   "cell_type": "code",
   "execution_count": 204,
   "id": "19b4fcc4",
   "metadata": {},
   "outputs": [
    {
     "data": {
      "text/plain": [
       "<AxesSubplot:title={'center':'Overall Accuracy'}>"
      ]
     },
     "execution_count": 204,
     "metadata": {},
     "output_type": "execute_result"
    },
    {
     "data": {
      "image/png": "[encoded data removed]",
      "text/plain": [
       "<Figure size 432x288 with 1 Axes>"
      ]
     },
     "metadata": {
      "needs_background": "light"
     },
     "output_type": "display_data"
    }
   ],
   "source": [
    "data_clean[0].plot(kind=\"box\", title=\"Overall Accuracy\")"
   ]
  },
  {
   "cell_type": "code",
   "execution_count": 205,
   "id": "45675050",
   "metadata": {},
   "outputs": [
    {
     "data": {
      "text/plain": [
       "<AxesSubplot:title={'center':'0benign'}>"
      ]
     },
     "execution_count": 205,
     "metadata": {},
     "output_type": "execute_result"
    },
    {
     "data": {
      "image/png": "[encoded data removed]",
      "text/plain": [
       "<Figure size 432x288 with 1 Axes>"
      ]
     },
     "metadata": {
      "needs_background": "light"
     },
     "output_type": "display_data"
    }
   ],
   "source": [
    "data_clean[1].plot(kind=\"box\", title=\"0benign\")"
   ]
  },
  {
   "cell_type": "code",
   "execution_count": 206,
   "id": "0943815d",
   "metadata": {},
   "outputs": [
    {
     "data": {
      "text/plain": [
       "<AxesSubplot:title={'center':'1benign'}>"
      ]
     },
     "execution_count": 206,
     "metadata": {},
     "output_type": "execute_result"
    },
    {
     "data": {
      "image/png": "[encoded data removed]",
      "text/plain": [
       "<Figure size 432x288 with 1 Axes>"
      ]
     },
     "metadata": {
      "needs_background": "light"
     },
     "output_type": "display_data"
    }
   ],
   "source": [
    "data_clean[2].plot(kind=\"box\", title=\"1benign\")"
   ]
  },
  {
   "cell_type": "code",
   "execution_count": 207,
   "id": "1a8fd4ac",
   "metadata": {},
   "outputs": [
    {
     "data": {
      "text/plain": [
       "<AxesSubplot:title={'center':'0malignant'}>"
      ]
     },
     "execution_count": 207,
     "metadata": {},
     "output_type": "execute_result"
    },
    {
     "data": {
      "image/png": "[encoded data removed]",
      "text/plain": [
       "<Figure size 432x288 with 1 Axes>"
      ]
     },
     "metadata": {
      "needs_background": "light"
     },
     "output_type": "display_data"
    }
   ],
   "source": [
    "data_clean[3].plot(kind=\"box\", title=\"0malignant\")"
   ]
  },
  {
   "cell_type": "code",
   "execution_count": 208,
   "id": "66f67916",
   "metadata": {
    "scrolled": true
   },
   "outputs": [
    {
     "data": {
      "text/plain": [
       "<AxesSubplot:title={'center':'1malignant'}>"
      ]
     },
     "execution_count": 208,
     "metadata": {},
     "output_type": "execute_result"
    },
    {
     "data": {
      "image/png": "[encoded data removed]",
      "text/plain": [
       "<Figure size 432x288 with 1 Axes>"
      ]
     },
     "metadata": {
      "needs_background": "light"
     },
     "output_type": "display_data"
    }
   ],
   "source": [
    "data_clean[4].plot(kind=\"box\", title=\"1malignant\")"
   ]
  },
  {
   "cell_type": "code",
   "execution_count": null,
   "id": "a66bc7ad",
   "metadata": {},
   "outputs": [],
   "source": []
  },
  {
   "cell_type": "code",
   "execution_count": null,
   "id": "fd9ea1a9",
   "metadata": {},
   "outputs": [],
   "source": []
  }
 ],
 "metadata": {
  "kernelspec": {
   "display_name": "REU",
   "language": "python",
   "name": "reu"
  },
  "language_info": {
   "codemirror_mode": {
    "name": "ipython",
    "version": 3
   },
   "file_extension": ".py",
   "mimetype": "text/x-python",
   "name": "python",
   "nbconvert_exporter": "python",
   "pygments_lexer": "ipython3",
   "version": "3.9.12"
  }
 },
 "nbformat": 4,
 "nbformat_minor": 5
}
