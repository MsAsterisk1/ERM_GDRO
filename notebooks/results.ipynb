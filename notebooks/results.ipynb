{
 "cells": [
  {
   "cell_type": "code",
   "execution_count": 1,
   "id": "215c018f",
   "metadata": {},
   "outputs": [],
   "source": [
    "import pandas as pd\n",
    "import re"
   ]
  },
  {
   "cell_type": "code",
   "execution_count": 2,
   "id": "4b842ac1",
   "metadata": {},
   "outputs": [
    {
     "data": {
      "text/plain": [
       "'\\nTest parameters\\n\\ninput: 64 engineered features extracted from lidc max-slice images\\n\\nmodel layer sizes = (64, 32, 32, 2)\\ngroupdro_eta = 0.1\\nlr = 0.001\\nweight_decay = 0.005\\n\\nbatch_size = 40\\nproportional = True\\nepochs = 40\\nN = 120\\n\\n'"
      ]
     },
     "execution_count": 2,
     "metadata": {},
     "output_type": "execute_result"
    }
   ],
   "source": [
    "\"\"\"\n",
    "Test parameters\n",
    "\n",
    "input: 64 engineered features extracted from lidc max-slice images\n",
    "\n",
    "model layer sizes = (64, 32, 32, 2)\n",
    "groupdro_eta = 0.1\n",
    "lr = 0.001\n",
    "weight_decay = 0.005\n",
    "\n",
    "batch_size = 40\n",
    "proportional = True\n",
    "epochs = 40\n",
    "N = 120\n",
    "\n",
    "\"\"\""
   ]
  },
  {
   "cell_type": "code",
   "execution_count": 3,
   "id": "9b840e2b",
   "metadata": {},
   "outputs": [],
   "source": [
    "results = pd.read_csv(\"../results\").iloc[:, 1:].transpose()\n",
    "results.columns = [\"ERM\", \"GDRO\"]"
   ]
  },
  {
   "cell_type": "code",
   "execution_count": 4,
   "id": "b3ace5d7",
   "metadata": {},
   "outputs": [
    {
     "data": {
      "text/html": [
       "<div>\n",
       "<style scoped>\n",
       "    .dataframe tbody tr th:only-of-type {\n",
       "        vertical-align: middle;\n",
       "    }\n",
       "\n",
       "    .dataframe tbody tr th {\n",
       "        vertical-align: top;\n",
       "    }\n",
       "\n",
       "    .dataframe thead th {\n",
       "        text-align: right;\n",
       "    }\n",
       "</style>\n",
       "<table border=\"1\" class=\"dataframe\">\n",
       "  <thead>\n",
       "    <tr style=\"text-align: right;\">\n",
       "      <th></th>\n",
       "      <th>ERM</th>\n",
       "      <th>GDRO</th>\n",
       "    </tr>\n",
       "  </thead>\n",
       "  <tbody>\n",
       "    <tr>\n",
       "      <th>0</th>\n",
       "      <td>(0.8585526315789473, array([0.875     , 0.8605...</td>\n",
       "      <td>(0.7861842105263158, array([0.84375   , 0.7740...</td>\n",
       "    </tr>\n",
       "    <tr>\n",
       "      <th>1</th>\n",
       "      <td>(0.8651315789473685, array([0.9375    , 0.8461...</td>\n",
       "      <td>(0.8092105263157895, array([0.875     , 0.8076...</td>\n",
       "    </tr>\n",
       "    <tr>\n",
       "      <th>2</th>\n",
       "      <td>(0.8453947368421053, array([0.9375, 0.8125, 0....</td>\n",
       "      <td>(0.8157894736842105, array([0.890625  , 0.8076...</td>\n",
       "    </tr>\n",
       "    <tr>\n",
       "      <th>3</th>\n",
       "      <td>(0.8289473684210527, array([0.96875, 0.8125 , ...</td>\n",
       "      <td>(0.8552631578947368, array([0.890625  , 0.8509...</td>\n",
       "    </tr>\n",
       "    <tr>\n",
       "      <th>4</th>\n",
       "      <td>(0.8355263157894737, array([0.890625  , 0.8413...</td>\n",
       "      <td>(0.8782894736842105, array([0.9375    , 0.8509...</td>\n",
       "    </tr>\n",
       "    <tr>\n",
       "      <th>...</th>\n",
       "      <td>...</td>\n",
       "      <td>...</td>\n",
       "    </tr>\n",
       "    <tr>\n",
       "      <th>115</th>\n",
       "      <td>(0.8125, array([0.890625  , 0.81730769, 0.8125...</td>\n",
       "      <td>(0.8421052631578947, array([0.9375    , 0.8365...</td>\n",
       "    </tr>\n",
       "    <tr>\n",
       "      <th>116</th>\n",
       "      <td>(0.8486842105263158, array([0.921875  , 0.8317...</td>\n",
       "      <td>(0.8223684210526315, array([0.90625   , 0.8365...</td>\n",
       "    </tr>\n",
       "    <tr>\n",
       "      <th>117</th>\n",
       "      <td>(0.8717105263157895, array([0.953125  , 0.8605...</td>\n",
       "      <td>(0.875, array([0.890625  , 0.86538462, 1.     ...</td>\n",
       "    </tr>\n",
       "    <tr>\n",
       "      <th>118</th>\n",
       "      <td>(0.8618421052631579, array([0.875     , 0.8605...</td>\n",
       "      <td>(0.8289473684210527, array([0.890625  , 0.8173...</td>\n",
       "    </tr>\n",
       "    <tr>\n",
       "      <th>119</th>\n",
       "      <td>(0.8453947368421053, array([0.921875  , 0.8365...</td>\n",
       "      <td>(0.8223684210526315, array([0.90625   , 0.7980...</td>\n",
       "    </tr>\n",
       "  </tbody>\n",
       "</table>\n",
       "<p>120 rows × 2 columns</p>\n",
       "</div>"
      ],
      "text/plain": [
       "                                                   ERM  \\\n",
       "0    (0.8585526315789473, array([0.875     , 0.8605...   \n",
       "1    (0.8651315789473685, array([0.9375    , 0.8461...   \n",
       "2    (0.8453947368421053, array([0.9375, 0.8125, 0....   \n",
       "3    (0.8289473684210527, array([0.96875, 0.8125 , ...   \n",
       "4    (0.8355263157894737, array([0.890625  , 0.8413...   \n",
       "..                                                 ...   \n",
       "115  (0.8125, array([0.890625  , 0.81730769, 0.8125...   \n",
       "116  (0.8486842105263158, array([0.921875  , 0.8317...   \n",
       "117  (0.8717105263157895, array([0.953125  , 0.8605...   \n",
       "118  (0.8618421052631579, array([0.875     , 0.8605...   \n",
       "119  (0.8453947368421053, array([0.921875  , 0.8365...   \n",
       "\n",
       "                                                  GDRO  \n",
       "0    (0.7861842105263158, array([0.84375   , 0.7740...  \n",
       "1    (0.8092105263157895, array([0.875     , 0.8076...  \n",
       "2    (0.8157894736842105, array([0.890625  , 0.8076...  \n",
       "3    (0.8552631578947368, array([0.890625  , 0.8509...  \n",
       "4    (0.8782894736842105, array([0.9375    , 0.8509...  \n",
       "..                                                 ...  \n",
       "115  (0.8421052631578947, array([0.9375    , 0.8365...  \n",
       "116  (0.8223684210526315, array([0.90625   , 0.8365...  \n",
       "117  (0.875, array([0.890625  , 0.86538462, 1.     ...  \n",
       "118  (0.8289473684210527, array([0.890625  , 0.8173...  \n",
       "119  (0.8223684210526315, array([0.90625   , 0.7980...  \n",
       "\n",
       "[120 rows x 2 columns]"
      ]
     },
     "execution_count": 4,
     "metadata": {},
     "output_type": "execute_result"
    }
   ],
   "source": [
    "results"
   ]
  },
  {
   "cell_type": "code",
   "execution_count": 7,
   "id": "18f58c24",
   "metadata": {},
   "outputs": [
    {
     "data": {
      "text/plain": [
       "0.8585526315789473"
      ]
     },
     "execution_count": 7,
     "metadata": {},
     "output_type": "execute_result"
    }
   ],
   "source": [
    "split = [[[float(s) for s in re.sub(\"\\(|\\[|[a-z]| |\\]|\\)\", \"\", v).split(\",\")] for v in row] for row in results.values]\n",
    "split[0][0][0]"
   ]
  },
  {
   "cell_type": "code",
   "execution_count": 8,
   "id": "c775056b",
   "metadata": {},
   "outputs": [],
   "source": [
    "data_clean = [pd.DataFrame([[val[group] for val in row] for row in split], columns=[\"ERM\",\"GDRO\"]) for group in range(5)]"
   ]
  },
  {
   "cell_type": "code",
   "execution_count": 13,
   "id": "a66bc7ad",
   "metadata": {},
   "outputs": [
    {
     "name": "stdout",
     "output_type": "stream",
     "text": [
      "Overall\n",
      "Mean ERM accuracy: 0.8439692982456141\n",
      "Mean GDRO accuracy: 0.8448739035087719\n",
      "No statistically significant difference (p = 0.7486879873250809)\n",
      "\n",
      "GE MEDICAL SYSTEMS\n",
      "Mean ERM accuracy: 0.90234375\n",
      "Mean GDRO accuracy: 0.9045572916666667\n",
      "No statistically significant difference (p = 0.683852934869311)\n",
      "\n",
      "Unknown\n",
      "Mean ERM accuracy: 0.84118589725\n",
      "Mean GDRO accuracy: 0.8420272439166667\n",
      "No statistically significant difference (p = 0.8037516811744757)\n",
      "\n",
      "SIEMENS\n",
      "Mean ERM accuracy: 0.8354166666666667\n",
      "Mean GDRO accuracy: 0.825\n",
      "No statistically significant difference (p = 0.4173936799349669)\n",
      "\n",
      "TOSHIBA\n",
      "Mean ERM accuracy: 0.6020833333333333\n",
      "Mean GDRO accuracy: 0.56875\n",
      "No statistically significant difference (p = 0.21869716894896418)\n",
      "\n"
     ]
    }
   ],
   "source": [
    "from scipy.stats import ttest_ind\n",
    "import statistics\n",
    "\n",
    "group_names = [\"Overall\", \"GE MEDICAL SYSTEMS\", \"Unknown\", \"SIEMENS\", \"TOSHIBA\", \"Philips\"]\n",
    "# group_names = [\"Overall\", \"unmarked_benign\", \"marked_benign\", \"marked_malignant\", \"unmarked_malignant\"]\n",
    "# group_names = [\"Overall\", \"0benign\", \"1benign\", \"0malignant\", \"1malignant\"]\n",
    "for i in range(5):\n",
    "    print(group_names[i])\n",
    "    print(f\"Mean ERM accuracy: {statistics.mean(data_clean[i]['ERM'])}\")\n",
    "    print(f\"Mean GDRO accuracy: {statistics.mean(data_clean[i]['GDRO'])}\")\n",
    "    stat, p = ttest_ind(data_clean[i][\"ERM\"], data_clean[i][\"GDRO\"])\n",
    "    if p < 0.05:\n",
    "        print(f\"{'ERM' if stat > 0 else 'GDRO'} higher accuracy (p = {p})\")\n",
    "    else:\n",
    "        print(f\"No statistically significant difference (p = {p})\")\n",
    "    print()\n",
    "    "
   ]
  },
  {
   "cell_type": "code",
   "execution_count": 31,
   "id": "fd9ea1a9",
   "metadata": {},
   "outputs": [
    {
     "data": {
      "text/plain": [
       "[          ERM      GDRO\n",
       " 0    0.809211  0.812500\n",
       " 1    0.822368  0.812500\n",
       " 2    0.792763  0.812500\n",
       " 3    0.792763  0.812500\n",
       " 4    0.786184  0.809211\n",
       " ..        ...       ...\n",
       " 115  0.812500  0.825658\n",
       " 116  0.812500  0.786184\n",
       " 117  0.809211  0.851974\n",
       " 118  0.812500  0.786184\n",
       " 119  0.805921  0.835526\n",
       " \n",
       " [120 rows x 2 columns],\n",
       "           ERM      GDRO\n",
       " 0    0.843750  0.864583\n",
       " 1    0.833333  0.916667\n",
       " 2    0.833333  0.770833\n",
       " 3    0.968750  0.843750\n",
       " 4    0.833333  0.760417\n",
       " ..        ...       ...\n",
       " 115  0.895833  0.843750\n",
       " 116  0.906250  0.791667\n",
       " 117  0.916667  0.947917\n",
       " 118  0.802083  0.864583\n",
       " 119  0.864583  0.885417\n",
       " \n",
       " [120 rows x 2 columns],\n",
       "           ERM      GDRO\n",
       " 0    0.895833  0.864583\n",
       " 1    0.854167  0.885417\n",
       " 2    0.854167  0.864583\n",
       " 3    0.875000  0.916667\n",
       " 4    0.927083  0.854167\n",
       " ..        ...       ...\n",
       " 115  0.875000  0.864583\n",
       " 116  0.937500  0.791667\n",
       " 117  0.875000  0.802083\n",
       " 118  0.875000  0.781250\n",
       " 119  0.906250  0.916667\n",
       " \n",
       " [120 rows x 2 columns],\n",
       "          ERM     GDRO\n",
       " 0    0.53125  0.53125\n",
       " 1    0.59375  0.56250\n",
       " 2    0.50000  0.71875\n",
       " 3    0.46875  0.62500\n",
       " 4    0.37500  0.71875\n",
       " ..       ...      ...\n",
       " 115  0.43750  0.65625\n",
       " 116  0.46875  0.56250\n",
       " 117  0.50000  0.75000\n",
       " 118  0.62500  0.65625\n",
       " 119  0.40625  0.62500\n",
       " \n",
       " [120 rows x 2 columns],\n",
       "         ERM    GDRO\n",
       " 0    0.7750  0.8000\n",
       " 1    0.8625  0.7000\n",
       " 2    0.7875  0.8375\n",
       " 3    0.6125  0.7250\n",
       " 4    0.7250  0.8500\n",
       " ..      ...     ...\n",
       " 115  0.7875  0.8250\n",
       " 116  0.6875  0.8625\n",
       " 117  0.7250  0.8375\n",
       " 118  0.8250  0.7500\n",
       " 119  0.7750  0.7625\n",
       " \n",
       " [120 rows x 2 columns]]"
      ]
     },
     "execution_count": 31,
     "metadata": {},
     "output_type": "execute_result"
    }
   ],
   "source": [
    "# old results with flawed malignancy labels + CNN subtypes\n",
    "data_clean0"
   ]
  }
 ],
 "metadata": {
  "kernelspec": {
   "display_name": "REU",
   "language": "python",
   "name": "reu"
  },
  "language_info": {
   "codemirror_mode": {
    "name": "ipython",
    "version": 3
   },
   "file_extension": ".py",
   "mimetype": "text/x-python",
   "name": "python",
   "nbconvert_exporter": "python",
   "pygments_lexer": "ipython3",
   "version": "3.9.12"
  }
 },
 "nbformat": 4,
 "nbformat_minor": 5
}
