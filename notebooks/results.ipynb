{
 "cells": [
  {
   "cell_type": "code",
   "execution_count": 16,
   "id": "215c018f",
   "metadata": {},
   "outputs": [],
   "source": [
    "import pandas as pd\n",
    "import re"
   ]
  },
  {
   "cell_type": "code",
   "execution_count": 17,
   "id": "4b842ac1",
   "metadata": {},
   "outputs": [
    {
     "data": {
      "text/plain": [
       "'\\nTest parameters\\n\\nmodel layer sizes: (64, 32, 32, 2)\\ngroupdro_eta: 0.1\\nlr=0.001\\nweight_decay=0.005\\n\\nbatch_size = 40\\nproportional = True\\nepochs = 40\\nN = 120\\n\\n'"
      ]
     },
     "execution_count": 17,
     "metadata": {},
     "output_type": "execute_result"
    }
   ],
   "source": [
    "\"\"\"\n",
    "Test parameters\n",
    "\n",
    "model layer sizes: (64, 32, 32, 2)\n",
    "groupdro_eta: 0.1\n",
    "lr=0.001\n",
    "weight_decay=0.005\n",
    "\n",
    "batch_size = 40\n",
    "proportional = True\n",
    "epochs = 40\n",
    "N = 120\n",
    "\n",
    "\"\"\""
   ]
  },
  {
   "cell_type": "code",
   "execution_count": 18,
   "id": "9b840e2b",
   "metadata": {},
   "outputs": [],
   "source": [
    "results = pd.read_csv(\"../results\").iloc[:, 1:].transpose()\n",
    "results.columns = [\"ERM\", \"GDRO\"]"
   ]
  },
  {
   "cell_type": "code",
   "execution_count": 19,
   "id": "b3ace5d7",
   "metadata": {},
   "outputs": [
    {
     "data": {
      "text/html": [
       "<div>\n",
       "<style scoped>\n",
       "    .dataframe tbody tr th:only-of-type {\n",
       "        vertical-align: middle;\n",
       "    }\n",
       "\n",
       "    .dataframe tbody tr th {\n",
       "        vertical-align: top;\n",
       "    }\n",
       "\n",
       "    .dataframe thead th {\n",
       "        text-align: right;\n",
       "    }\n",
       "</style>\n",
       "<table border=\"1\" class=\"dataframe\">\n",
       "  <thead>\n",
       "    <tr style=\"text-align: right;\">\n",
       "      <th></th>\n",
       "      <th>ERM</th>\n",
       "      <th>GDRO</th>\n",
       "    </tr>\n",
       "  </thead>\n",
       "  <tbody>\n",
       "    <tr>\n",
       "      <th>0</th>\n",
       "      <td>(0.8458646616541353, array([0.83571429, 0.8571...</td>\n",
       "      <td>(0.793233082706767, array([0.81428571, 0.78571...</td>\n",
       "    </tr>\n",
       "    <tr>\n",
       "      <th>1</th>\n",
       "      <td>(0.8270676691729323, array([0.82857143, 0.7857...</td>\n",
       "      <td>(0.793233082706767, array([0.80714286, 0.78571...</td>\n",
       "    </tr>\n",
       "    <tr>\n",
       "      <th>2</th>\n",
       "      <td>(0.8082706766917294, array([0.82142857, 0.7857...</td>\n",
       "      <td>(0.8120300751879699, array([0.77857143, 0.7857...</td>\n",
       "    </tr>\n",
       "    <tr>\n",
       "      <th>3</th>\n",
       "      <td>(0.849624060150376, array([0.85714286, 0.78571...</td>\n",
       "      <td>(0.8120300751879699, array([0.79285714, 0.7857...</td>\n",
       "    </tr>\n",
       "    <tr>\n",
       "      <th>4</th>\n",
       "      <td>(0.8383458646616542, array([0.87857143, 0.7142...</td>\n",
       "      <td>(0.8345864661654135, array([0.80714286, 0.8571...</td>\n",
       "    </tr>\n",
       "    <tr>\n",
       "      <th>...</th>\n",
       "      <td>...</td>\n",
       "      <td>...</td>\n",
       "    </tr>\n",
       "    <tr>\n",
       "      <th>115</th>\n",
       "      <td>(0.8571428571428571, array([0.85      , 0.7857...</td>\n",
       "      <td>(0.8421052631578947, array([0.84285714, 0.8571...</td>\n",
       "    </tr>\n",
       "    <tr>\n",
       "      <th>116</th>\n",
       "      <td>(0.8120300751879699, array([0.82142857, 0.7857...</td>\n",
       "      <td>(0.8007518796992481, array([0.82142857, 0.7142...</td>\n",
       "    </tr>\n",
       "    <tr>\n",
       "      <th>117</th>\n",
       "      <td>(0.8082706766917294, array([0.84285714, 0.5   ...</td>\n",
       "      <td>(0.8646616541353384, array([0.81428571, 0.7857...</td>\n",
       "    </tr>\n",
       "    <tr>\n",
       "      <th>118</th>\n",
       "      <td>(0.8308270676691729, array([0.87857143, 0.8571...</td>\n",
       "      <td>(0.8082706766917294, array([0.77142857, 0.8571...</td>\n",
       "    </tr>\n",
       "    <tr>\n",
       "      <th>119</th>\n",
       "      <td>(0.8571428571428571, array([0.85      , 0.6428...</td>\n",
       "      <td>(0.8533834586466166, array([0.82142857, 0.9285...</td>\n",
       "    </tr>\n",
       "  </tbody>\n",
       "</table>\n",
       "<p>120 rows × 2 columns</p>\n",
       "</div>"
      ],
      "text/plain": [
       "                                                   ERM  \\\n",
       "0    (0.8458646616541353, array([0.83571429, 0.8571...   \n",
       "1    (0.8270676691729323, array([0.82857143, 0.7857...   \n",
       "2    (0.8082706766917294, array([0.82142857, 0.7857...   \n",
       "3    (0.849624060150376, array([0.85714286, 0.78571...   \n",
       "4    (0.8383458646616542, array([0.87857143, 0.7142...   \n",
       "..                                                 ...   \n",
       "115  (0.8571428571428571, array([0.85      , 0.7857...   \n",
       "116  (0.8120300751879699, array([0.82142857, 0.7857...   \n",
       "117  (0.8082706766917294, array([0.84285714, 0.5   ...   \n",
       "118  (0.8308270676691729, array([0.87857143, 0.8571...   \n",
       "119  (0.8571428571428571, array([0.85      , 0.6428...   \n",
       "\n",
       "                                                  GDRO  \n",
       "0    (0.793233082706767, array([0.81428571, 0.78571...  \n",
       "1    (0.793233082706767, array([0.80714286, 0.78571...  \n",
       "2    (0.8120300751879699, array([0.77857143, 0.7857...  \n",
       "3    (0.8120300751879699, array([0.79285714, 0.7857...  \n",
       "4    (0.8345864661654135, array([0.80714286, 0.8571...  \n",
       "..                                                 ...  \n",
       "115  (0.8421052631578947, array([0.84285714, 0.8571...  \n",
       "116  (0.8007518796992481, array([0.82142857, 0.7142...  \n",
       "117  (0.8646616541353384, array([0.81428571, 0.7857...  \n",
       "118  (0.8082706766917294, array([0.77142857, 0.8571...  \n",
       "119  (0.8533834586466166, array([0.82142857, 0.9285...  \n",
       "\n",
       "[120 rows x 2 columns]"
      ]
     },
     "execution_count": 19,
     "metadata": {},
     "output_type": "execute_result"
    }
   ],
   "source": [
    "results"
   ]
  },
  {
   "cell_type": "code",
   "execution_count": 20,
   "id": "18f58c24",
   "metadata": {},
   "outputs": [
    {
     "data": {
      "text/plain": [
       "0.8458646616541353"
      ]
     },
     "execution_count": 20,
     "metadata": {},
     "output_type": "execute_result"
    }
   ],
   "source": [
    "split = [[[float(s) for s in re.sub(\"\\(|\\[|[a-z]| |\\]|\\)\", \"\", v).split(\",\")] for v in row] for row in results.values]\n",
    "split[0][0][0]"
   ]
  },
  {
   "cell_type": "code",
   "execution_count": 21,
   "id": "c775056b",
   "metadata": {},
   "outputs": [],
   "source": [
    "data_clean = [pd.DataFrame([[val[group] for val in row] for row in split], columns=[\"ERM\",\"GDRO\"]) for group in range(5)]"
   ]
  },
  {
   "cell_type": "code",
   "execution_count": 22,
   "id": "19b4fcc4",
   "metadata": {},
   "outputs": [
    {
     "data": {
      "text/plain": [
       "<AxesSubplot:title={'center':'Overall Accuracy'}>"
      ]
     },
     "execution_count": 22,
     "metadata": {},
     "output_type": "execute_result"
    },
    {
     "data": {
      "image/png": "[encoded data removed]",
      "text/plain": [
       "<Figure size 432x288 with 1 Axes>"
      ]
     },
     "metadata": {
      "needs_background": "light"
     },
     "output_type": "display_data"
    }
   ],
   "source": [
    "data_clean[0].plot(kind=\"box\", title=\"Overall Accuracy\")"
   ]
  },
  {
   "cell_type": "code",
   "execution_count": 23,
   "id": "45675050",
   "metadata": {},
   "outputs": [
    {
     "data": {
      "text/plain": [
       "<AxesSubplot:title={'center':'0benign'}>"
      ]
     },
     "execution_count": 23,
     "metadata": {},
     "output_type": "execute_result"
    },
    {
     "data": {
      "image/png": "[encoded data removed]",
      "text/plain": [
       "<Figure size 432x288 with 1 Axes>"
      ]
     },
     "metadata": {
      "needs_background": "light"
     },
     "output_type": "display_data"
    }
   ],
   "source": [
    "data_clean[1].plot(kind=\"box\", title=\"0benign\")"
   ]
  },
  {
   "cell_type": "code",
   "execution_count": 24,
   "id": "0943815d",
   "metadata": {},
   "outputs": [
    {
     "data": {
      "text/plain": [
       "<AxesSubplot:title={'center':'1benign'}>"
      ]
     },
     "execution_count": 24,
     "metadata": {},
     "output_type": "execute_result"
    },
    {
     "data": {
      "image/png": "[encoded data removed]",
      "text/plain": [
       "<Figure size 432x288 with 1 Axes>"
      ]
     },
     "metadata": {
      "needs_background": "light"
     },
     "output_type": "display_data"
    }
   ],
   "source": [
    "data_clean[2].plot(kind=\"box\", title=\"1benign\")"
   ]
  },
  {
   "cell_type": "code",
   "execution_count": 25,
   "id": "1a8fd4ac",
   "metadata": {},
   "outputs": [
    {
     "data": {
      "text/plain": [
       "<AxesSubplot:title={'center':'0malignant'}>"
      ]
     },
     "execution_count": 25,
     "metadata": {},
     "output_type": "execute_result"
    },
    {
     "data": {
      "image/png": "[encoded data removed]",
      "text/plain": [
       "<Figure size 432x288 with 1 Axes>"
      ]
     },
     "metadata": {
      "needs_background": "light"
     },
     "output_type": "display_data"
    }
   ],
   "source": [
    "data_clean[3].plot(kind=\"box\", title=\"0malignant\")"
   ]
  },
  {
   "cell_type": "code",
   "execution_count": 26,
   "id": "66f67916",
   "metadata": {
    "scrolled": true
   },
   "outputs": [
    {
     "data": {
      "text/plain": [
       "<AxesSubplot:title={'center':'1malignant'}>"
      ]
     },
     "execution_count": 26,
     "metadata": {},
     "output_type": "execute_result"
    },
    {
     "data": {
      "image/png": "[encoded data removed]",
      "text/plain": [
       "<Figure size 432x288 with 1 Axes>"
      ]
     },
     "metadata": {
      "needs_background": "light"
     },
     "output_type": "display_data"
    }
   ],
   "source": [
    "data_clean[4].plot(kind=\"box\", title=\"1malignant\")"
   ]
  },
  {
   "cell_type": "code",
   "execution_count": 28,
   "id": "a66bc7ad",
   "metadata": {},
   "outputs": [
    {
     "name": "stdout",
     "output_type": "stream",
     "text": [
      "Overall\n",
      "Mean ERM accuracy: 0.8278195488721805\n",
      "Mean GDRO accuracy: 0.8227130325814537\n",
      "No statistically significant difference (p = 0.14853036213299686)\n",
      "\n",
      "unmarked_benign\n",
      "Mean ERM accuracy: 0.8394642855\n",
      "Mean GDRO accuracy: 0.8223214279166666\n",
      "ERM higher accuracy (p = 0.0006786063906496075)\n",
      "\n",
      "marked_benign\n",
      "Mean ERM accuracy: 0.7440476191666666\n",
      "Mean GDRO accuracy: 0.755952382\n",
      "No statistically significant difference (p = 0.4606347113802094)\n",
      "\n",
      "marked_malignant\n",
      "Mean ERM accuracy: 0.897976191\n",
      "Mean GDRO accuracy: 0.89261904775\n",
      "No statistically significant difference (p = 0.3849503192710241)\n",
      "\n",
      "unmarked_malignant\n",
      "Mean ERM accuracy: 0.7000000003333333\n",
      "Mean GDRO accuracy: 0.7297619049166667\n",
      "GDRO higher accuracy (p = 0.0022939405147254085)\n",
      "\n"
     ]
    }
   ],
   "source": [
    "from scipy.stats import ttest_ind\n",
    "import statistics\n",
    "\n",
    "group_names = [\"Overall\", \"unmarked_benign\", \"marked_benign\", \"marked_malignant\", \"unmarked_malignant\"]\n",
    "for i in range(5):\n",
    "    print(group_names[i])\n",
    "    print(f\"Mean ERM accuracy: {statistics.mean(data_clean[i]['ERM'])}\")\n",
    "    print(f\"Mean GDRO accuracy: {statistics.mean(data_clean[i]['GDRO'])}\")\n",
    "    stat, p = ttest_ind(data_clean[i][\"ERM\"], data_clean[i][\"GDRO\"])\n",
    "    if p < 0.05:\n",
    "        print(f\"{'ERM' if stat > 0 else 'GDRO'} higher accuracy (p = {p})\")\n",
    "    else:\n",
    "        print(f\"No statistically significant difference (p = {p})\")\n",
    "    print()\n",
    "    "
   ]
  },
  {
   "cell_type": "code",
   "execution_count": 31,
   "id": "fd9ea1a9",
   "metadata": {},
   "outputs": [
    {
     "data": {
      "text/plain": [
       "[          ERM      GDRO\n",
       " 0    0.809211  0.812500\n",
       " 1    0.822368  0.812500\n",
       " 2    0.792763  0.812500\n",
       " 3    0.792763  0.812500\n",
       " 4    0.786184  0.809211\n",
       " ..        ...       ...\n",
       " 115  0.812500  0.825658\n",
       " 116  0.812500  0.786184\n",
       " 117  0.809211  0.851974\n",
       " 118  0.812500  0.786184\n",
       " 119  0.805921  0.835526\n",
       " \n",
       " [120 rows x 2 columns],\n",
       "           ERM      GDRO\n",
       " 0    0.843750  0.864583\n",
       " 1    0.833333  0.916667\n",
       " 2    0.833333  0.770833\n",
       " 3    0.968750  0.843750\n",
       " 4    0.833333  0.760417\n",
       " ..        ...       ...\n",
       " 115  0.895833  0.843750\n",
       " 116  0.906250  0.791667\n",
       " 117  0.916667  0.947917\n",
       " 118  0.802083  0.864583\n",
       " 119  0.864583  0.885417\n",
       " \n",
       " [120 rows x 2 columns],\n",
       "           ERM      GDRO\n",
       " 0    0.895833  0.864583\n",
       " 1    0.854167  0.885417\n",
       " 2    0.854167  0.864583\n",
       " 3    0.875000  0.916667\n",
       " 4    0.927083  0.854167\n",
       " ..        ...       ...\n",
       " 115  0.875000  0.864583\n",
       " 116  0.937500  0.791667\n",
       " 117  0.875000  0.802083\n",
       " 118  0.875000  0.781250\n",
       " 119  0.906250  0.916667\n",
       " \n",
       " [120 rows x 2 columns],\n",
       "          ERM     GDRO\n",
       " 0    0.53125  0.53125\n",
       " 1    0.59375  0.56250\n",
       " 2    0.50000  0.71875\n",
       " 3    0.46875  0.62500\n",
       " 4    0.37500  0.71875\n",
       " ..       ...      ...\n",
       " 115  0.43750  0.65625\n",
       " 116  0.46875  0.56250\n",
       " 117  0.50000  0.75000\n",
       " 118  0.62500  0.65625\n",
       " 119  0.40625  0.62500\n",
       " \n",
       " [120 rows x 2 columns],\n",
       "         ERM    GDRO\n",
       " 0    0.7750  0.8000\n",
       " 1    0.8625  0.7000\n",
       " 2    0.7875  0.8375\n",
       " 3    0.6125  0.7250\n",
       " 4    0.7250  0.8500\n",
       " ..      ...     ...\n",
       " 115  0.7875  0.8250\n",
       " 116  0.6875  0.8625\n",
       " 117  0.7250  0.8375\n",
       " 118  0.8250  0.7500\n",
       " 119  0.7750  0.7625\n",
       " \n",
       " [120 rows x 2 columns]]"
      ]
     },
     "execution_count": 31,
     "metadata": {},
     "output_type": "execute_result"
    }
   ],
   "source": [
    "data_clean0"
   ]
  },
  {
   "cell_type": "code",
   "execution_count": null,
   "id": "b0ea84ab",
   "metadata": {},
   "outputs": [],
   "source": []
  }
 ],
 "metadata": {
  "kernelspec": {
   "display_name": "REU",
   "language": "python",
   "name": "reu"
  },
  "language_info": {
   "codemirror_mode": {
    "name": "ipython",
    "version": 3
   },
   "file_extension": ".py",
   "mimetype": "text/x-python",
   "name": "python",
   "nbconvert_exporter": "python",
   "pygments_lexer": "ipython3",
   "version": "3.9.12"
  }
 },
 "nbformat": 4,
 "nbformat_minor": 5
}
