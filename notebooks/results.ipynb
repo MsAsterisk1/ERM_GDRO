{
 "cells": [
  {
   "cell_type": "code",
   "execution_count": 1,
   "id": "215c018f",
   "metadata": {},
   "outputs": [],
   "source": [
    "import pandas as pd\n",
    "import re"
   ]
  },
  {
   "cell_type": "code",
   "execution_count": 2,
   "id": "4b842ac1",
   "metadata": {},
   "outputs": [
    {
     "data": {
      "text/plain": [
       "'\\nTest parameters\\n\\nmodel layer sizes: (64, 32, 32, 2)\\ngroupdro_eta: 0.1\\nlr=0.001\\nweight_decay=0.005\\n\\nbatch_size = 40\\nproportional = True\\nepochs = 40\\nN = 120\\n\\n'"
      ]
     },
     "execution_count": 2,
     "metadata": {},
     "output_type": "execute_result"
    }
   ],
   "source": [
    "\"\"\"\n",
    "Test parameters\n",
    "\n",
    "model layer sizes: (64, 32, 32, 2)\n",
    "groupdro_eta: 0.1\n",
    "lr=0.001\n",
    "weight_decay=0.005\n",
    "\n",
    "batch_size = 40\n",
    "proportional = True\n",
    "epochs = 40\n",
    "N = 120\n",
    "\n",
    "\"\"\""
   ]
  },
  {
   "cell_type": "code",
   "execution_count": 4,
   "id": "9b840e2b",
   "metadata": {},
   "outputs": [],
   "source": [
    "results = pd.read_csv(\"../results\").iloc[:, 1:].transpose()\n",
    "results.columns = [\"ERM\", \"GDRO\"]"
   ]
  },
  {
   "cell_type": "code",
   "execution_count": 5,
   "id": "b3ace5d7",
   "metadata": {},
   "outputs": [
    {
     "data": {
      "text/html": [
       "<div>\n",
       "<style scoped>\n",
       "    .dataframe tbody tr th:only-of-type {\n",
       "        vertical-align: middle;\n",
       "    }\n",
       "\n",
       "    .dataframe tbody tr th {\n",
       "        vertical-align: top;\n",
       "    }\n",
       "\n",
       "    .dataframe thead th {\n",
       "        text-align: right;\n",
       "    }\n",
       "</style>\n",
       "<table border=\"1\" class=\"dataframe\">\n",
       "  <thead>\n",
       "    <tr style=\"text-align: right;\">\n",
       "      <th></th>\n",
       "      <th>ERM</th>\n",
       "      <th>GDRO</th>\n",
       "    </tr>\n",
       "  </thead>\n",
       "  <tbody>\n",
       "    <tr>\n",
       "      <th>0</th>\n",
       "      <td>(0.8092105263157895, array([0.84375   , 0.8958...</td>\n",
       "      <td>(0.8125, array([0.86458333, 0.86458333, 0.5312...</td>\n",
       "    </tr>\n",
       "    <tr>\n",
       "      <th>1</th>\n",
       "      <td>(0.8223684210526315, array([0.83333333, 0.8541...</td>\n",
       "      <td>(0.8125, array([0.91666667, 0.88541667, 0.5625...</td>\n",
       "    </tr>\n",
       "    <tr>\n",
       "      <th>2</th>\n",
       "      <td>(0.7927631578947368, array([0.83333333, 0.8541...</td>\n",
       "      <td>(0.8125, array([0.77083333, 0.86458333, 0.7187...</td>\n",
       "    </tr>\n",
       "    <tr>\n",
       "      <th>3</th>\n",
       "      <td>(0.7927631578947368, array([0.96875, 0.875  , ...</td>\n",
       "      <td>(0.8125, array([0.84375   , 0.91666667, 0.625 ...</td>\n",
       "    </tr>\n",
       "    <tr>\n",
       "      <th>4</th>\n",
       "      <td>(0.7861842105263158, array([0.83333333, 0.9270...</td>\n",
       "      <td>(0.8092105263157895, array([0.76041667, 0.8541...</td>\n",
       "    </tr>\n",
       "    <tr>\n",
       "      <th>...</th>\n",
       "      <td>...</td>\n",
       "      <td>...</td>\n",
       "    </tr>\n",
       "    <tr>\n",
       "      <th>115</th>\n",
       "      <td>(0.8125, array([0.89583333, 0.875     , 0.4375...</td>\n",
       "      <td>(0.8256578947368421, array([0.84375   , 0.8645...</td>\n",
       "    </tr>\n",
       "    <tr>\n",
       "      <th>116</th>\n",
       "      <td>(0.8125, array([0.90625, 0.9375 , 0.46875, 0.6...</td>\n",
       "      <td>(0.7861842105263158, array([0.79166667, 0.7916...</td>\n",
       "    </tr>\n",
       "    <tr>\n",
       "      <th>117</th>\n",
       "      <td>(0.8092105263157895, array([0.91666667, 0.875 ...</td>\n",
       "      <td>(0.8519736842105263, array([0.94791667, 0.8020...</td>\n",
       "    </tr>\n",
       "    <tr>\n",
       "      <th>118</th>\n",
       "      <td>(0.8125, array([0.80208333, 0.875     , 0.625 ...</td>\n",
       "      <td>(0.7861842105263158, array([0.86458333, 0.7812...</td>\n",
       "    </tr>\n",
       "    <tr>\n",
       "      <th>119</th>\n",
       "      <td>(0.805921052631579, array([0.86458333, 0.90625...</td>\n",
       "      <td>(0.8355263157894737, array([0.88541667, 0.9166...</td>\n",
       "    </tr>\n",
       "  </tbody>\n",
       "</table>\n",
       "<p>120 rows × 2 columns</p>\n",
       "</div>"
      ],
      "text/plain": [
       "                                                   ERM  \\\n",
       "0    (0.8092105263157895, array([0.84375   , 0.8958...   \n",
       "1    (0.8223684210526315, array([0.83333333, 0.8541...   \n",
       "2    (0.7927631578947368, array([0.83333333, 0.8541...   \n",
       "3    (0.7927631578947368, array([0.96875, 0.875  , ...   \n",
       "4    (0.7861842105263158, array([0.83333333, 0.9270...   \n",
       "..                                                 ...   \n",
       "115  (0.8125, array([0.89583333, 0.875     , 0.4375...   \n",
       "116  (0.8125, array([0.90625, 0.9375 , 0.46875, 0.6...   \n",
       "117  (0.8092105263157895, array([0.91666667, 0.875 ...   \n",
       "118  (0.8125, array([0.80208333, 0.875     , 0.625 ...   \n",
       "119  (0.805921052631579, array([0.86458333, 0.90625...   \n",
       "\n",
       "                                                  GDRO  \n",
       "0    (0.8125, array([0.86458333, 0.86458333, 0.5312...  \n",
       "1    (0.8125, array([0.91666667, 0.88541667, 0.5625...  \n",
       "2    (0.8125, array([0.77083333, 0.86458333, 0.7187...  \n",
       "3    (0.8125, array([0.84375   , 0.91666667, 0.625 ...  \n",
       "4    (0.8092105263157895, array([0.76041667, 0.8541...  \n",
       "..                                                 ...  \n",
       "115  (0.8256578947368421, array([0.84375   , 0.8645...  \n",
       "116  (0.7861842105263158, array([0.79166667, 0.7916...  \n",
       "117  (0.8519736842105263, array([0.94791667, 0.8020...  \n",
       "118  (0.7861842105263158, array([0.86458333, 0.7812...  \n",
       "119  (0.8355263157894737, array([0.88541667, 0.9166...  \n",
       "\n",
       "[120 rows x 2 columns]"
      ]
     },
     "execution_count": 5,
     "metadata": {},
     "output_type": "execute_result"
    }
   ],
   "source": [
    "results"
   ]
  },
  {
   "cell_type": "code",
   "execution_count": 6,
   "id": "18f58c24",
   "metadata": {},
   "outputs": [
    {
     "data": {
      "text/plain": [
       "0.8092105263157895"
      ]
     },
     "execution_count": 6,
     "metadata": {},
     "output_type": "execute_result"
    }
   ],
   "source": [
    "split = [[[float(s) for s in re.sub(\"\\(|\\[|[a-z]| |\\]|\\)\", \"\", v).split(\",\")] for v in row] for row in results.values]\n",
    "split[0][0][0]"
   ]
  },
  {
   "cell_type": "code",
   "execution_count": 7,
   "id": "c775056b",
   "metadata": {},
   "outputs": [],
   "source": [
    "data_clean = [pd.DataFrame([[val[group] for val in row] for row in split], columns=[\"ERM\",\"GDRO\"]) for group in range(5)]"
   ]
  },
  {
   "cell_type": "code",
   "execution_count": 8,
   "id": "19b4fcc4",
   "metadata": {},
   "outputs": [
    {
     "data": {
      "text/plain": [
       "<AxesSubplot:title={'center':'Overall Accuracy'}>"
      ]
     },
     "execution_count": 8,
     "metadata": {},
     "output_type": "execute_result"
    },
    {
     "data": {
      "image/png": "[encoded data removed]",
      "text/plain": [
       "<Figure size 432x288 with 1 Axes>"
      ]
     },
     "metadata": {
      "needs_background": "light"
     },
     "output_type": "display_data"
    }
   ],
   "source": [
    "data_clean[0].plot(kind=\"box\", title=\"Overall Accuracy\")"
   ]
  },
  {
   "cell_type": "code",
   "execution_count": 9,
   "id": "45675050",
   "metadata": {},
   "outputs": [
    {
     "data": {
      "text/plain": [
       "<AxesSubplot:title={'center':'0benign'}>"
      ]
     },
     "execution_count": 9,
     "metadata": {},
     "output_type": "execute_result"
    },
    {
     "data": {
      "image/png": "[encoded data removed]",
      "text/plain": [
       "<Figure size 432x288 with 1 Axes>"
      ]
     },
     "metadata": {
      "needs_background": "light"
     },
     "output_type": "display_data"
    }
   ],
   "source": [
    "data_clean[1].plot(kind=\"box\", title=\"0benign\")"
   ]
  },
  {
   "cell_type": "code",
   "execution_count": 10,
   "id": "0943815d",
   "metadata": {},
   "outputs": [
    {
     "data": {
      "text/plain": [
       "<AxesSubplot:title={'center':'1benign'}>"
      ]
     },
     "execution_count": 10,
     "metadata": {},
     "output_type": "execute_result"
    },
    {
     "data": {
      "image/png": "[encoded data removed]",
      "text/plain": [
       "<Figure size 432x288 with 1 Axes>"
      ]
     },
     "metadata": {
      "needs_background": "light"
     },
     "output_type": "display_data"
    }
   ],
   "source": [
    "data_clean[2].plot(kind=\"box\", title=\"1benign\")"
   ]
  },
  {
   "cell_type": "code",
   "execution_count": 11,
   "id": "1a8fd4ac",
   "metadata": {},
   "outputs": [
    {
     "data": {
      "text/plain": [
       "<AxesSubplot:title={'center':'0malignant'}>"
      ]
     },
     "execution_count": 11,
     "metadata": {},
     "output_type": "execute_result"
    },
    {
     "data": {
      "image/png": "[encoded data removed]",
      "text/plain": [
       "<Figure size 432x288 with 1 Axes>"
      ]
     },
     "metadata": {
      "needs_background": "light"
     },
     "output_type": "display_data"
    }
   ],
   "source": [
    "data_clean[3].plot(kind=\"box\", title=\"0malignant\")"
   ]
  },
  {
   "cell_type": "code",
   "execution_count": 12,
   "id": "66f67916",
   "metadata": {
    "scrolled": true
   },
   "outputs": [
    {
     "data": {
      "text/plain": [
       "<AxesSubplot:title={'center':'1malignant'}>"
      ]
     },
     "execution_count": 12,
     "metadata": {},
     "output_type": "execute_result"
    },
    {
     "data": {
      "image/png": "[encoded data removed]",
      "text/plain": [
       "<Figure size 432x288 with 1 Axes>"
      ]
     },
     "metadata": {
      "needs_background": "light"
     },
     "output_type": "display_data"
    }
   ],
   "source": [
    "data_clean[4].plot(kind=\"box\", title=\"1malignant\")"
   ]
  },
  {
   "cell_type": "code",
   "execution_count": 13,
   "id": "a66bc7ad",
   "metadata": {},
   "outputs": [
    {
     "name": "stdout",
     "output_type": "stream",
     "text": [
      "Overall\n",
      "Mean ERM accuracy: 0.8102796052631579\n",
      "Mean GDRO accuracy: 0.7971765350877194\n",
      "ERM higher accuracy (p = 1.7304810715349727e-05)\n",
      "\n",
      "0benign\n",
      "Mean ERM accuracy: 0.8849826385833334\n",
      "Mean GDRO accuracy: 0.8248263891666666\n",
      "ERM higher accuracy (p = 1.9720065627529855e-19)\n",
      "\n",
      "1benign\n",
      "Mean ERM accuracy: 0.8743923608333334\n",
      "Mean GDRO accuracy: 0.8430555555\n",
      "ERM higher accuracy (p = 1.7024618742142993e-07)\n",
      "\n",
      "0malignant\n",
      "Mean ERM accuracy: 0.5140625\n",
      "Mean GDRO accuracy: 0.6\n",
      "GDRO higher accuracy (p = 7.985205400130199e-10)\n",
      "\n",
      "1malignant\n",
      "Mean ERM accuracy: 0.7621875\n",
      "Mean GDRO accuracy: 0.7878125\n",
      "GDRO higher accuracy (p = 0.00044082941735127323)\n",
      "\n"
     ]
    }
   ],
   "source": [
    "from scipy.stats import ttest_ind\n",
    "import statistics\n",
    "\n",
    "group_names = [\"Overall\", \"0benign\", \"1benign\", \"0malignant\", \"1malignant\"]\n",
    "for i in range(5):\n",
    "    print(group_names[i])\n",
    "    print(f\"Mean ERM accuracy: {statistics.mean(data_clean[i]['ERM'])}\")\n",
    "    print(f\"Mean GDRO accuracy: {statistics.mean(data_clean[i]['GDRO'])}\")\n",
    "    stat, p = ttest_ind(data_clean[i][\"ERM\"], data_clean[i][\"GDRO\"])\n",
    "    if p < 0.05:\n",
    "        print(f\"{'ERM' if stat > 0 else 'GDRO'} higher accuracy (p = {p})\")\n",
    "    else:\n",
    "        print(f\"No statistically significant difference (p = {p})\")\n",
    "    print()\n",
    "    "
   ]
  },
  {
   "cell_type": "code",
   "execution_count": null,
   "id": "fd9ea1a9",
   "metadata": {},
   "outputs": [],
   "source": []
  }
 ],
 "metadata": {
  "kernelspec": {
   "display_name": "REU",
   "language": "python",
   "name": "reu"
  },
  "language_info": {
   "codemirror_mode": {
    "name": "ipython",
    "version": 3
   },
   "file_extension": ".py",
   "mimetype": "text/x-python",
   "name": "python",
   "nbconvert_exporter": "python",
   "pygments_lexer": "ipython3",
   "version": "3.9.12"
  }
 },
 "nbformat": 4,
 "nbformat_minor": 5
}
