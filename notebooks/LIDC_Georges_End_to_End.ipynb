{
  "cells": [
    {
      "cell_type": "markdown",
      "metadata": {
        "id": "view-in-github",
        "colab_type": "text"
      },
      "source": [
        "<a href=\"https://colab.research.google.com/github/mtzig/LIDC_GDRO/blob/main/notebooks/LIDC_Georges_End_to_End.ipynb\" target=\"_parent\"><img src=\"https://colab.research.google.com/assets/colab-badge.svg\" alt=\"Open In Colab\"/></a>"
      ]
    },
    {
      "cell_type": "markdown",
      "id": "48b41a21",
      "metadata": {
        "id": "48b41a21"
      },
      "source": [
        "#LIDC GDRO: Looking at Clustered Subgroups\n",
        "\n",
        "Thomas Zeng"
      ]
    },
    {
      "cell_type": "markdown",
      "id": "2275997b",
      "metadata": {
        "id": "2275997b"
      },
      "source": [
        "## Notebook Setup"
      ]
    },
    {
      "cell_type": "markdown",
      "id": "c69190e7",
      "metadata": {
        "id": "c69190e7"
      },
      "source": [
        "Setup autoreload extension"
      ]
    },
    {
      "cell_type": "code",
      "execution_count": 1,
      "id": "89996c23",
      "metadata": {
        "id": "89996c23"
      },
      "outputs": [],
      "source": [
        "%load_ext autoreload\n",
        "%autoreload 2"
      ]
    },
    {
      "cell_type": "markdown",
      "id": "c0aa3675",
      "metadata": {
        "id": "c0aa3675"
      },
      "source": [
        "Clone repo (if on colab)"
      ]
    },
    {
      "cell_type": "code",
      "execution_count": 2,
      "id": "5a993151",
      "metadata": {
        "colab": {
          "base_uri": "https://localhost:8080/"
        },
        "id": "5a993151",
        "outputId": "92281c01-d04a-47ff-d852-b6147f95ddbc"
      },
      "outputs": [
        {
          "output_type": "stream",
          "name": "stdout",
          "text": [
            "fatal: destination path 'LIDC_GDRO' already exists and is not an empty directory.\n",
            "/content/LIDC_GDRO\n"
          ]
        }
      ],
      "source": [
        "!git clone https://github.com/mtzig/LIDC_GDRO.git\n",
        "%cd /content/LIDC_GDRO\n",
        "# %cd .."
      ]
    },
    {
      "cell_type": "code",
      "source": [
        "# !git pull"
      ],
      "metadata": {
        "id": "AAg-eYbtiLCU"
      },
      "id": "AAg-eYbtiLCU",
      "execution_count": 3,
      "outputs": []
    },
    {
      "cell_type": "markdown",
      "id": "ffedab5f",
      "metadata": {
        "id": "ffedab5f"
      },
      "source": [
        "import necessary libraries"
      ]
    },
    {
      "cell_type": "code",
      "source": [
        "!pip install umap-learn"
      ],
      "metadata": {
        "id": "KAIKRQm8er5I",
        "outputId": "6c2978f7-ec8d-4800-b686-dba2f917e816",
        "colab": {
          "base_uri": "https://localhost:8080/"
        }
      },
      "id": "KAIKRQm8er5I",
      "execution_count": 4,
      "outputs": [
        {
          "output_type": "stream",
          "name": "stdout",
          "text": [
            "Looking in indexes: https://pypi.org/simple, https://us-python.pkg.dev/colab-wheels/public/simple/\n",
            "Requirement already satisfied: umap-learn in /usr/local/lib/python3.7/dist-packages (0.5.3)\n",
            "Requirement already satisfied: numpy>=1.17 in /usr/local/lib/python3.7/dist-packages (from umap-learn) (1.21.6)\n",
            "Requirement already satisfied: tqdm in /usr/local/lib/python3.7/dist-packages (from umap-learn) (4.64.0)\n",
            "Requirement already satisfied: numba>=0.49 in /usr/local/lib/python3.7/dist-packages (from umap-learn) (0.51.2)\n",
            "Requirement already satisfied: scipy>=1.0 in /usr/local/lib/python3.7/dist-packages (from umap-learn) (1.7.3)\n",
            "Requirement already satisfied: pynndescent>=0.5 in /usr/local/lib/python3.7/dist-packages (from umap-learn) (0.5.7)\n",
            "Requirement already satisfied: scikit-learn>=0.22 in /usr/local/lib/python3.7/dist-packages (from umap-learn) (1.0.2)\n",
            "Requirement already satisfied: llvmlite<0.35,>=0.34.0.dev0 in /usr/local/lib/python3.7/dist-packages (from numba>=0.49->umap-learn) (0.34.0)\n",
            "Requirement already satisfied: setuptools in /usr/local/lib/python3.7/dist-packages (from numba>=0.49->umap-learn) (57.4.0)\n",
            "Requirement already satisfied: joblib>=0.11 in /usr/local/lib/python3.7/dist-packages (from pynndescent>=0.5->umap-learn) (1.1.0)\n",
            "Requirement already satisfied: threadpoolctl>=2.0.0 in /usr/local/lib/python3.7/dist-packages (from scikit-learn>=0.22->umap-learn) (3.1.0)\n"
          ]
        }
      ]
    },
    {
      "cell_type": "code",
      "execution_count": 5,
      "id": "179801e0",
      "metadata": {
        "id": "179801e0"
      },
      "outputs": [],
      "source": [
        "import pandas as pd\n",
        "import numpy as np\n",
        "from dataloaders import InfiniteDataLoader\n",
        "from datasets import NoduleDataset, SubclassedNoduleDataset\n",
        "from models import TransferModel\n",
        "from train import train, test\n",
        "from torch.optim.lr_scheduler import ReduceLROnPlateau\n",
        "import os\n",
        "# import torchvision\n",
        "from torchvision import transforms\n",
        "import torch\n",
        "from image_data_utils import getImages, train_epochs, show_scatter\n",
        "\n",
        "from umap import UMAP\n",
        "from matplotlib import pyplot as plt\n",
        "import pickle\n",
        "from sklearn.mixture import GaussianMixture\n",
        "from sklearn.metrics import silhouette_score"
      ]
    },
    {
      "cell_type": "markdown",
      "id": "82755e95",
      "metadata": {
        "id": "82755e95"
      },
      "source": [
        "Get available Device"
      ]
    },
    {
      "cell_type": "code",
      "execution_count": 6,
      "id": "927fcddf",
      "metadata": {
        "colab": {
          "base_uri": "https://localhost:8080/"
        },
        "id": "927fcddf",
        "outputId": "d5eb8419-4d8a-4afa-f604-7d6504f0c977"
      },
      "outputs": [
        {
          "output_type": "stream",
          "name": "stdout",
          "text": [
            "Good to go!\n"
          ]
        }
      ],
      "source": [
        "if torch.cuda.is_available():\n",
        "    print(\"Good to go!\")\n",
        "    DEVICE = torch.device(\"cuda\")\n",
        "else:\n",
        "    print(\"Using cpu\")\n",
        "    DEVICE = torch.device(\"cpu\")"
      ]
    },
    {
      "cell_type": "markdown",
      "id": "49953b35",
      "metadata": {
        "id": "49953b35"
      },
      "source": [
        "## ERM Model: Training ERM model to extract CNN features"
      ]
    },
    {
      "cell_type": "markdown",
      "id": "539b89e0",
      "metadata": {
        "id": "539b89e0"
      },
      "source": [
        "### ERM Modeling"
      ]
    },
    {
      "cell_type": "markdown",
      "id": "2c01dc32",
      "metadata": {
        "id": "2c01dc32"
      },
      "source": [
        "Just for visulalization, the csv where we get the train, cv, test splits and subgroups come from below csv. "
      ]
    },
    {
      "cell_type": "code",
      "execution_count": 7,
      "id": "63061a76",
      "metadata": {
        "colab": {
          "base_uri": "https://localhost:8080/",
          "height": 206
        },
        "id": "63061a76",
        "outputId": "6e09f479-2ad8-408d-a550-ee6b93150b70"
      },
      "outputs": [
        {
          "output_type": "execute_result",
          "data": {
            "text/plain": [
              "      noduleID  spiculation  malignancy  malignancy_b  split  clusters\n",
              "1295         1            6           3             1      0         1\n",
              "1400         2            7           3             1      0         1\n",
              "1435         3            6           3             1      1         1\n",
              "1066         4            4           2             1      0         1\n",
              "1244         5            4           2             1      2         1"
            ],
            "text/html": [
              "\n",
              "  <div id=\"df-616ad2a0-16d8-4b26-8b2e-88167b35de3f\">\n",
              "    <div class=\"colab-df-container\">\n",
              "      <div>\n",
              "<style scoped>\n",
              "    .dataframe tbody tr th:only-of-type {\n",
              "        vertical-align: middle;\n",
              "    }\n",
              "\n",
              "    .dataframe tbody tr th {\n",
              "        vertical-align: top;\n",
              "    }\n",
              "\n",
              "    .dataframe thead th {\n",
              "        text-align: right;\n",
              "    }\n",
              "</style>\n",
              "<table border=\"1\" class=\"dataframe\">\n",
              "  <thead>\n",
              "    <tr style=\"text-align: right;\">\n",
              "      <th></th>\n",
              "      <th>noduleID</th>\n",
              "      <th>spiculation</th>\n",
              "      <th>malignancy</th>\n",
              "      <th>malignancy_b</th>\n",
              "      <th>split</th>\n",
              "      <th>clusters</th>\n",
              "    </tr>\n",
              "  </thead>\n",
              "  <tbody>\n",
              "    <tr>\n",
              "      <th>1295</th>\n",
              "      <td>1</td>\n",
              "      <td>6</td>\n",
              "      <td>3</td>\n",
              "      <td>1</td>\n",
              "      <td>0</td>\n",
              "      <td>1</td>\n",
              "    </tr>\n",
              "    <tr>\n",
              "      <th>1400</th>\n",
              "      <td>2</td>\n",
              "      <td>7</td>\n",
              "      <td>3</td>\n",
              "      <td>1</td>\n",
              "      <td>0</td>\n",
              "      <td>1</td>\n",
              "    </tr>\n",
              "    <tr>\n",
              "      <th>1435</th>\n",
              "      <td>3</td>\n",
              "      <td>6</td>\n",
              "      <td>3</td>\n",
              "      <td>1</td>\n",
              "      <td>1</td>\n",
              "      <td>1</td>\n",
              "    </tr>\n",
              "    <tr>\n",
              "      <th>1066</th>\n",
              "      <td>4</td>\n",
              "      <td>4</td>\n",
              "      <td>2</td>\n",
              "      <td>1</td>\n",
              "      <td>0</td>\n",
              "      <td>1</td>\n",
              "    </tr>\n",
              "    <tr>\n",
              "      <th>1244</th>\n",
              "      <td>5</td>\n",
              "      <td>4</td>\n",
              "      <td>2</td>\n",
              "      <td>1</td>\n",
              "      <td>2</td>\n",
              "      <td>1</td>\n",
              "    </tr>\n",
              "  </tbody>\n",
              "</table>\n",
              "</div>\n",
              "      <button class=\"colab-df-convert\" onclick=\"convertToInteractive('df-616ad2a0-16d8-4b26-8b2e-88167b35de3f')\"\n",
              "              title=\"Convert this dataframe to an interactive table.\"\n",
              "              style=\"display:none;\">\n",
              "        \n",
              "  <svg xmlns=\"http://www.w3.org/2000/svg\" height=\"24px\"viewBox=\"0 0 24 24\"\n",
              "       width=\"24px\">\n",
              "    <path d=\"M0 0h24v24H0V0z\" fill=\"none\"/>\n",
              "    <path d=\"M18.56 5.44l.94 2.06.94-2.06 2.06-.94-2.06-.94-.94-2.06-.94 2.06-2.06.94zm-11 1L8.5 8.5l.94-2.06 2.06-.94-2.06-.94L8.5 2.5l-.94 2.06-2.06.94zm10 10l.94 2.06.94-2.06 2.06-.94-2.06-.94-.94-2.06-.94 2.06-2.06.94z\"/><path d=\"M17.41 7.96l-1.37-1.37c-.4-.4-.92-.59-1.43-.59-.52 0-1.04.2-1.43.59L10.3 9.45l-7.72 7.72c-.78.78-.78 2.05 0 2.83L4 21.41c.39.39.9.59 1.41.59.51 0 1.02-.2 1.41-.59l7.78-7.78 2.81-2.81c.8-.78.8-2.07 0-2.86zM5.41 20L4 18.59l7.72-7.72 1.47 1.35L5.41 20z\"/>\n",
              "  </svg>\n",
              "      </button>\n",
              "      \n",
              "  <style>\n",
              "    .colab-df-container {\n",
              "      display:flex;\n",
              "      flex-wrap:wrap;\n",
              "      gap: 12px;\n",
              "    }\n",
              "\n",
              "    .colab-df-convert {\n",
              "      background-color: #E8F0FE;\n",
              "      border: none;\n",
              "      border-radius: 50%;\n",
              "      cursor: pointer;\n",
              "      display: none;\n",
              "      fill: #1967D2;\n",
              "      height: 32px;\n",
              "      padding: 0 0 0 0;\n",
              "      width: 32px;\n",
              "    }\n",
              "\n",
              "    .colab-df-convert:hover {\n",
              "      background-color: #E2EBFA;\n",
              "      box-shadow: 0px 1px 2px rgba(60, 64, 67, 0.3), 0px 1px 3px 1px rgba(60, 64, 67, 0.15);\n",
              "      fill: #174EA6;\n",
              "    }\n",
              "\n",
              "    [theme=dark] .colab-df-convert {\n",
              "      background-color: #3B4455;\n",
              "      fill: #D2E3FC;\n",
              "    }\n",
              "\n",
              "    [theme=dark] .colab-df-convert:hover {\n",
              "      background-color: #434B5C;\n",
              "      box-shadow: 0px 1px 3px 1px rgba(0, 0, 0, 0.15);\n",
              "      filter: drop-shadow(0px 1px 2px rgba(0, 0, 0, 0.3));\n",
              "      fill: #FFFFFF;\n",
              "    }\n",
              "  </style>\n",
              "\n",
              "      <script>\n",
              "        const buttonEl =\n",
              "          document.querySelector('#df-616ad2a0-16d8-4b26-8b2e-88167b35de3f button.colab-df-convert');\n",
              "        buttonEl.style.display =\n",
              "          google.colab.kernel.accessAllowed ? 'block' : 'none';\n",
              "\n",
              "        async function convertToInteractive(key) {\n",
              "          const element = document.querySelector('#df-616ad2a0-16d8-4b26-8b2e-88167b35de3f');\n",
              "          const dataTable =\n",
              "            await google.colab.kernel.invokeFunction('convertToInteractive',\n",
              "                                                     [key], {});\n",
              "          if (!dataTable) return;\n",
              "\n",
              "          const docLinkHtml = 'Like what you see? Visit the ' +\n",
              "            '<a target=\"_blank\" href=https://colab.research.google.com/notebooks/data_table.ipynb>data table notebook</a>'\n",
              "            + ' to learn more about interactive tables.';\n",
              "          element.innerHTML = '';\n",
              "          dataTable['output_type'] = 'display_data';\n",
              "          await google.colab.output.renderOutput(dataTable, element);\n",
              "          const docLink = document.createElement('div');\n",
              "          docLink.innerHTML = docLinkHtml;\n",
              "          element.appendChild(docLink);\n",
              "        }\n",
              "      </script>\n",
              "    </div>\n",
              "  </div>\n",
              "  "
            ]
          },
          "metadata": {},
          "execution_count": 7
        }
      ],
      "source": [
        "df_splits = pd.read_csv('./data/LIDC_data_split.csv', index_col=0)\n",
        "df_splits.head()"
      ]
    },
    {
      "cell_type": "markdown",
      "id": "20ce5610",
      "metadata": {
        "id": "20ce5610"
      },
      "source": [
        "First we load in the training data"
      ]
    },
    {
      "cell_type": "code",
      "execution_count": 8,
      "id": "705ab8fd",
      "metadata": {
        "id": "705ab8fd"
      },
      "outputs": [],
      "source": [
        "train_data, cv_data, test_data = getImages(split=True, sublabels='malignancy', binary=True, device=DEVICE)\n",
        "\n",
        "#datasets\n",
        "tr = SubclassedNoduleDataset(*train_data)\n",
        "cv = SubclassedNoduleDataset(*cv_data)\n",
        "tst = SubclassedNoduleDataset(*test_data)\n",
        "\n",
        "#dataloaders\n",
        "tr_loader = InfiniteDataLoader(tr, batch_size=512)\n",
        "cv_loader = InfiniteDataLoader(cv, len(cv))\n",
        "tst_loader = InfiniteDataLoader(tst, len(tst))"
      ]
    },
    {
      "cell_type": "markdown",
      "id": "3e67bb4b",
      "metadata": {
        "id": "3e67bb4b"
      },
      "source": [
        "Next we initialize the model!"
      ]
    },
    {
      "cell_type": "code",
      "execution_count": 9,
      "id": "8e1d9ca0",
      "metadata": {
        "colab": {
          "base_uri": "https://localhost:8080/"
        },
        "id": "8e1d9ca0",
        "outputId": "db9e02bd-ac47-4f53-ffd3-b4a8dd4cb784"
      },
      "outputs": [
        {
          "output_type": "stream",
          "name": "stderr",
          "text": [
            "/usr/local/lib/python3.7/dist-packages/torchvision/models/_utils.py:209: UserWarning: The parameter 'pretrained' is deprecated since 0.13 and will be removed in 0.15, please use 'weights' instead.\n",
            "  f\"The parameter '{pretrained_param}' is deprecated since 0.13 and will be removed in 0.15, \"\n",
            "/usr/local/lib/python3.7/dist-packages/torchvision/models/_utils.py:223: UserWarning: Arguments other than a weight enum or `None` for 'weights' are deprecated since 0.13 and will be removed in 0.15. The current behavior is equivalent to passing `weights=ResNet18_Weights.IMAGENET1K_V1`. You can also use `weights=ResNet18_Weights.DEFAULT` to get the most up-to-date weights.\n",
            "  warnings.warn(msg)\n"
          ]
        }
      ],
      "source": [
        "model = TransferModel(device=DEVICE, pretrained=True, freeze=False)"
      ]
    },
    {
      "cell_type": "markdown",
      "id": "ea80e03e",
      "metadata": {
        "id": "ea80e03e"
      },
      "source": [
        "Now we train the model"
      ]
    },
    {
      "cell_type": "code",
      "execution_count": 10,
      "id": "71093588",
      "metadata": {
        "colab": {
          "base_uri": "https://localhost:8080/"
        },
        "id": "71093588",
        "outputId": "f409602d-6934-4d4a-8b57-d1ecb53f59c5"
      },
      "outputs": [
        {
          "output_type": "stream",
          "name": "stdout",
          "text": [
            "Epoch 1/15\n",
            "Epoch 2/15\n",
            "Epoch 3/15\n",
            "Epoch 4/15\n",
            "Epoch 5/15\n",
            "Epoch 6/15\n",
            "Epoch 7/15\n",
            "Epoch 8/15\n",
            "Epoch 9/15\n",
            "Epoch 00009: reducing learning rate of group 0 to 1.0000e-04.\n",
            "Epoch 10/15\n",
            "Epoch 11/15\n",
            "Epoch 12/15\n",
            "Epoch 00012: reducing learning rate of group 0 to 2.0000e-05.\n",
            "Epoch 13/15\n",
            "Epoch 14/15\n",
            "Epoch 15/15\n",
            "Epoch 00015: reducing learning rate of group 0 to 4.0000e-06.\n"
          ]
        }
      ],
      "source": [
        "epochs = 15\n",
        "train_epochs(epochs, tr_loader, cv_loader, model, loss_fn='ERM', num_subgroups=4, scheduler=True, verbose=False)"
      ]
    },
    {
      "cell_type": "code",
      "execution_count": 11,
      "id": "fc9ce04e",
      "metadata": {
        "id": "fc9ce04e",
        "outputId": "cd2c96be-f789-49fc-c547-f09d9783fa4c",
        "colab": {
          "base_uri": "https://localhost:8080/"
        }
      },
      "outputs": [
        {
          "output_type": "execute_result",
          "data": {
            "text/plain": [
              "(0.867109634551495,\n",
              " 0.96875,\n",
              " 0.9090909090909091,\n",
              " 0.6567164179104478,\n",
              " 0.9210526315789473)"
            ]
          },
          "metadata": {},
          "execution_count": 11
        }
      ],
      "source": [
        "test(tst_loader,model, 4)"
      ]
    },
    {
      "cell_type": "markdown",
      "id": "ec354ef2",
      "metadata": {
        "id": "ec354ef2"
      },
      "source": [
        "### Feature Extraction"
      ]
    },
    {
      "cell_type": "markdown",
      "id": "0c7cc857",
      "metadata": {
        "id": "0c7cc857"
      },
      "source": [
        "We first save model weights (for reproducibility)"
      ]
    },
    {
      "cell_type": "code",
      "execution_count": 12,
      "id": "fd8d09a9",
      "metadata": {
        "id": "fd8d09a9"
      },
      "outputs": [],
      "source": [
        " torch.save(model.state_dict(), './data/erm_cluster_weights.pt')"
      ]
    },
    {
      "cell_type": "markdown",
      "id": "8e8f3145",
      "metadata": {
        "id": "8e8f3145"
      },
      "source": [
        "Next we add hooks to let us get activations"
      ]
    },
    {
      "cell_type": "code",
      "execution_count": 13,
      "id": "66a8a339",
      "metadata": {
        "id": "66a8a339",
        "outputId": "b5fa8db9-4f36-44a6-b113-c7b3b0e976db",
        "colab": {
          "base_uri": "https://localhost:8080/"
        }
      },
      "outputs": [
        {
          "output_type": "execute_result",
          "data": {
            "text/plain": [
              "<torch.utils.hooks.RemovableHandle at 0x7f6332a34b10>"
            ]
          },
          "metadata": {},
          "execution_count": 13
        }
      ],
      "source": [
        "activation = {}\n",
        "def get_activation(name):\n",
        "    def hook(model, input, output):\n",
        "        activation[name] = output.detach()\n",
        "    return hook\n",
        "model.model.avgpool.register_forward_hook(get_activation('avgpool'))"
      ]
    },
    {
      "cell_type": "markdown",
      "id": "5ede3962",
      "metadata": {
        "id": "5ede3962"
      },
      "source": [
        "We re get the data, but in its entirety with the noduleID"
      ]
    },
    {
      "cell_type": "code",
      "execution_count": 14,
      "id": "9c03c43d",
      "metadata": {
        "id": "9c03c43d"
      },
      "outputs": [],
      "source": [
        "noduleID, data = getImages(split=False, binary=True, device=DEVICE)"
      ]
    },
    {
      "cell_type": "markdown",
      "id": "a10032b2",
      "metadata": {
        "id": "a10032b2"
      },
      "source": [
        "Now we extract features"
      ]
    },
    {
      "cell_type": "code",
      "execution_count": 15,
      "id": "2ff5e0d6",
      "metadata": {
        "id": "2ff5e0d6"
      },
      "outputs": [],
      "source": [
        "imgs = torch.stack(data[0])\n",
        "model(imgs)\n",
        "img_features = activation['avgpool'].squeeze()"
      ]
    },
    {
      "cell_type": "markdown",
      "id": "63226cd7",
      "metadata": {
        "id": "63226cd7"
      },
      "source": [
        "We collect all the features in a dataframe"
      ]
    },
    {
      "cell_type": "code",
      "execution_count": 16,
      "id": "f39cf983",
      "metadata": {
        "id": "f39cf983",
        "outputId": "4a4c1827-70d0-4dc6-ad03-5c5c6fa02319",
        "colab": {
          "base_uri": "https://localhost:8080/",
          "height": 235
        }
      },
      "outputs": [
        {
          "output_type": "execute_result",
          "data": {
            "text/plain": [
              "   noduleID         1         2         3         4         5         6  \\\n",
              "0       256  0.416874  0.037589  0.000000  0.360054  0.699317  0.000000   \n",
              "1      2341  0.951851  0.000000  1.018645  1.719266  0.445743  0.923703   \n",
              "2      2114  0.262059  0.000000  4.632357  3.792300  0.650732  1.216533   \n",
              "3      1667  0.523033  0.126448  0.147222  0.990565  0.721274  0.000000   \n",
              "4      2274  2.750031  0.003833  0.000000  1.239265  0.294554  0.000000   \n",
              "\n",
              "          7         8         9  ...       506       507       508       509  \\\n",
              "0  0.609821  3.409549  0.000000  ...  0.152551  0.640647  2.704610  0.214025   \n",
              "1  1.372358  2.296300  0.047846  ...  0.212402  1.122590  2.743288  1.448920   \n",
              "2  4.116080  2.643375  0.000000  ...  0.073455  2.243150  1.630112  2.579019   \n",
              "3  1.290121  0.510765  0.000000  ...  0.204082  0.012931  2.813501  0.727531   \n",
              "4  0.000000  1.344473  0.000000  ...  0.000000  0.159534  5.298711  0.079111   \n",
              "\n",
              "        510       511       512  split  malignancy  malignancy_b  \n",
              "0  3.985926  0.128656  0.075015      0           0             0  \n",
              "1  3.119571  0.000000  0.000000      0           0             0  \n",
              "2  0.413144  1.541162  0.000000      0           0             0  \n",
              "3  0.554792  0.000000  0.009065      0           0             0  \n",
              "4  2.155135  0.105098  0.020233      0           0             0  \n",
              "\n",
              "[5 rows x 516 columns]"
            ],
            "text/html": [
              "\n",
              "  <div id=\"df-064d5785-6c32-4437-a8c2-31183b0b2524\">\n",
              "    <div class=\"colab-df-container\">\n",
              "      <div>\n",
              "<style scoped>\n",
              "    .dataframe tbody tr th:only-of-type {\n",
              "        vertical-align: middle;\n",
              "    }\n",
              "\n",
              "    .dataframe tbody tr th {\n",
              "        vertical-align: top;\n",
              "    }\n",
              "\n",
              "    .dataframe thead th {\n",
              "        text-align: right;\n",
              "    }\n",
              "</style>\n",
              "<table border=\"1\" class=\"dataframe\">\n",
              "  <thead>\n",
              "    <tr style=\"text-align: right;\">\n",
              "      <th></th>\n",
              "      <th>noduleID</th>\n",
              "      <th>1</th>\n",
              "      <th>2</th>\n",
              "      <th>3</th>\n",
              "      <th>4</th>\n",
              "      <th>5</th>\n",
              "      <th>6</th>\n",
              "      <th>7</th>\n",
              "      <th>8</th>\n",
              "      <th>9</th>\n",
              "      <th>...</th>\n",
              "      <th>506</th>\n",
              "      <th>507</th>\n",
              "      <th>508</th>\n",
              "      <th>509</th>\n",
              "      <th>510</th>\n",
              "      <th>511</th>\n",
              "      <th>512</th>\n",
              "      <th>split</th>\n",
              "      <th>malignancy</th>\n",
              "      <th>malignancy_b</th>\n",
              "    </tr>\n",
              "  </thead>\n",
              "  <tbody>\n",
              "    <tr>\n",
              "      <th>0</th>\n",
              "      <td>256</td>\n",
              "      <td>0.416874</td>\n",
              "      <td>0.037589</td>\n",
              "      <td>0.000000</td>\n",
              "      <td>0.360054</td>\n",
              "      <td>0.699317</td>\n",
              "      <td>0.000000</td>\n",
              "      <td>0.609821</td>\n",
              "      <td>3.409549</td>\n",
              "      <td>0.000000</td>\n",
              "      <td>...</td>\n",
              "      <td>0.152551</td>\n",
              "      <td>0.640647</td>\n",
              "      <td>2.704610</td>\n",
              "      <td>0.214025</td>\n",
              "      <td>3.985926</td>\n",
              "      <td>0.128656</td>\n",
              "      <td>0.075015</td>\n",
              "      <td>0</td>\n",
              "      <td>0</td>\n",
              "      <td>0</td>\n",
              "    </tr>\n",
              "    <tr>\n",
              "      <th>1</th>\n",
              "      <td>2341</td>\n",
              "      <td>0.951851</td>\n",
              "      <td>0.000000</td>\n",
              "      <td>1.018645</td>\n",
              "      <td>1.719266</td>\n",
              "      <td>0.445743</td>\n",
              "      <td>0.923703</td>\n",
              "      <td>1.372358</td>\n",
              "      <td>2.296300</td>\n",
              "      <td>0.047846</td>\n",
              "      <td>...</td>\n",
              "      <td>0.212402</td>\n",
              "      <td>1.122590</td>\n",
              "      <td>2.743288</td>\n",
              "      <td>1.448920</td>\n",
              "      <td>3.119571</td>\n",
              "      <td>0.000000</td>\n",
              "      <td>0.000000</td>\n",
              "      <td>0</td>\n",
              "      <td>0</td>\n",
              "      <td>0</td>\n",
              "    </tr>\n",
              "    <tr>\n",
              "      <th>2</th>\n",
              "      <td>2114</td>\n",
              "      <td>0.262059</td>\n",
              "      <td>0.000000</td>\n",
              "      <td>4.632357</td>\n",
              "      <td>3.792300</td>\n",
              "      <td>0.650732</td>\n",
              "      <td>1.216533</td>\n",
              "      <td>4.116080</td>\n",
              "      <td>2.643375</td>\n",
              "      <td>0.000000</td>\n",
              "      <td>...</td>\n",
              "      <td>0.073455</td>\n",
              "      <td>2.243150</td>\n",
              "      <td>1.630112</td>\n",
              "      <td>2.579019</td>\n",
              "      <td>0.413144</td>\n",
              "      <td>1.541162</td>\n",
              "      <td>0.000000</td>\n",
              "      <td>0</td>\n",
              "      <td>0</td>\n",
              "      <td>0</td>\n",
              "    </tr>\n",
              "    <tr>\n",
              "      <th>3</th>\n",
              "      <td>1667</td>\n",
              "      <td>0.523033</td>\n",
              "      <td>0.126448</td>\n",
              "      <td>0.147222</td>\n",
              "      <td>0.990565</td>\n",
              "      <td>0.721274</td>\n",
              "      <td>0.000000</td>\n",
              "      <td>1.290121</td>\n",
              "      <td>0.510765</td>\n",
              "      <td>0.000000</td>\n",
              "      <td>...</td>\n",
              "      <td>0.204082</td>\n",
              "      <td>0.012931</td>\n",
              "      <td>2.813501</td>\n",
              "      <td>0.727531</td>\n",
              "      <td>0.554792</td>\n",
              "      <td>0.000000</td>\n",
              "      <td>0.009065</td>\n",
              "      <td>0</td>\n",
              "      <td>0</td>\n",
              "      <td>0</td>\n",
              "    </tr>\n",
              "    <tr>\n",
              "      <th>4</th>\n",
              "      <td>2274</td>\n",
              "      <td>2.750031</td>\n",
              "      <td>0.003833</td>\n",
              "      <td>0.000000</td>\n",
              "      <td>1.239265</td>\n",
              "      <td>0.294554</td>\n",
              "      <td>0.000000</td>\n",
              "      <td>0.000000</td>\n",
              "      <td>1.344473</td>\n",
              "      <td>0.000000</td>\n",
              "      <td>...</td>\n",
              "      <td>0.000000</td>\n",
              "      <td>0.159534</td>\n",
              "      <td>5.298711</td>\n",
              "      <td>0.079111</td>\n",
              "      <td>2.155135</td>\n",
              "      <td>0.105098</td>\n",
              "      <td>0.020233</td>\n",
              "      <td>0</td>\n",
              "      <td>0</td>\n",
              "      <td>0</td>\n",
              "    </tr>\n",
              "  </tbody>\n",
              "</table>\n",
              "<p>5 rows × 516 columns</p>\n",
              "</div>\n",
              "      <button class=\"colab-df-convert\" onclick=\"convertToInteractive('df-064d5785-6c32-4437-a8c2-31183b0b2524')\"\n",
              "              title=\"Convert this dataframe to an interactive table.\"\n",
              "              style=\"display:none;\">\n",
              "        \n",
              "  <svg xmlns=\"http://www.w3.org/2000/svg\" height=\"24px\"viewBox=\"0 0 24 24\"\n",
              "       width=\"24px\">\n",
              "    <path d=\"M0 0h24v24H0V0z\" fill=\"none\"/>\n",
              "    <path d=\"M18.56 5.44l.94 2.06.94-2.06 2.06-.94-2.06-.94-.94-2.06-.94 2.06-2.06.94zm-11 1L8.5 8.5l.94-2.06 2.06-.94-2.06-.94L8.5 2.5l-.94 2.06-2.06.94zm10 10l.94 2.06.94-2.06 2.06-.94-2.06-.94-.94-2.06-.94 2.06-2.06.94z\"/><path d=\"M17.41 7.96l-1.37-1.37c-.4-.4-.92-.59-1.43-.59-.52 0-1.04.2-1.43.59L10.3 9.45l-7.72 7.72c-.78.78-.78 2.05 0 2.83L4 21.41c.39.39.9.59 1.41.59.51 0 1.02-.2 1.41-.59l7.78-7.78 2.81-2.81c.8-.78.8-2.07 0-2.86zM5.41 20L4 18.59l7.72-7.72 1.47 1.35L5.41 20z\"/>\n",
              "  </svg>\n",
              "      </button>\n",
              "      \n",
              "  <style>\n",
              "    .colab-df-container {\n",
              "      display:flex;\n",
              "      flex-wrap:wrap;\n",
              "      gap: 12px;\n",
              "    }\n",
              "\n",
              "    .colab-df-convert {\n",
              "      background-color: #E8F0FE;\n",
              "      border: none;\n",
              "      border-radius: 50%;\n",
              "      cursor: pointer;\n",
              "      display: none;\n",
              "      fill: #1967D2;\n",
              "      height: 32px;\n",
              "      padding: 0 0 0 0;\n",
              "      width: 32px;\n",
              "    }\n",
              "\n",
              "    .colab-df-convert:hover {\n",
              "      background-color: #E2EBFA;\n",
              "      box-shadow: 0px 1px 2px rgba(60, 64, 67, 0.3), 0px 1px 3px 1px rgba(60, 64, 67, 0.15);\n",
              "      fill: #174EA6;\n",
              "    }\n",
              "\n",
              "    [theme=dark] .colab-df-convert {\n",
              "      background-color: #3B4455;\n",
              "      fill: #D2E3FC;\n",
              "    }\n",
              "\n",
              "    [theme=dark] .colab-df-convert:hover {\n",
              "      background-color: #434B5C;\n",
              "      box-shadow: 0px 1px 3px 1px rgba(0, 0, 0, 0.15);\n",
              "      filter: drop-shadow(0px 1px 2px rgba(0, 0, 0, 0.3));\n",
              "      fill: #FFFFFF;\n",
              "    }\n",
              "  </style>\n",
              "\n",
              "      <script>\n",
              "        const buttonEl =\n",
              "          document.querySelector('#df-064d5785-6c32-4437-a8c2-31183b0b2524 button.colab-df-convert');\n",
              "        buttonEl.style.display =\n",
              "          google.colab.kernel.accessAllowed ? 'block' : 'none';\n",
              "\n",
              "        async function convertToInteractive(key) {\n",
              "          const element = document.querySelector('#df-064d5785-6c32-4437-a8c2-31183b0b2524');\n",
              "          const dataTable =\n",
              "            await google.colab.kernel.invokeFunction('convertToInteractive',\n",
              "                                                     [key], {});\n",
              "          if (!dataTable) return;\n",
              "\n",
              "          const docLinkHtml = 'Like what you see? Visit the ' +\n",
              "            '<a target=\"_blank\" href=https://colab.research.google.com/notebooks/data_table.ipynb>data table notebook</a>'\n",
              "            + ' to learn more about interactive tables.';\n",
              "          element.innerHTML = '';\n",
              "          dataTable['output_type'] = 'display_data';\n",
              "          await google.colab.output.renderOutput(dataTable, element);\n",
              "          const docLink = document.createElement('div');\n",
              "          docLink.innerHTML = docLinkHtml;\n",
              "          element.appendChild(docLink);\n",
              "        }\n",
              "      </script>\n",
              "    </div>\n",
              "  </div>\n",
              "  "
            ]
          },
          "metadata": {},
          "execution_count": 16
        }
      ],
      "source": [
        "cols = []\n",
        "for idx,id in enumerate(noduleID):\n",
        "  cols.append([id] + img_features[idx].cpu().numpy().tolist())\n",
        "df_features = pd.DataFrame(cols).rename({0:'noduleID'}, axis=1)\n",
        "\n",
        "splits = [df_splits[df_splits['noduleID'] == id]['split'].iloc[0] for id in  df_features['noduleID']]\n",
        "malig = [df_splits[df_splits['noduleID'] == id]['malignancy'].iloc[0] for id in  df_features['noduleID']]\n",
        "\n",
        "df_features['split'] = splits\n",
        "df_features['malignancy'] = malig\n",
        "df_features['malignancy_b'] = np.where(df_features['malignancy']>1, 1, 0)\n",
        "df_features.head()"
      ]
    },
    {
      "cell_type": "markdown",
      "id": "dff4045d",
      "metadata": {
        "id": "dff4045d"
      },
      "source": [
        "We again save the data for reproducibility"
      ]
    },
    {
      "cell_type": "code",
      "execution_count": 17,
      "id": "baffd36c",
      "metadata": {
        "id": "baffd36c"
      },
      "outputs": [],
      "source": [
        "df_features.to_csv('./data/erm_cluster_cnn_features.csv')"
      ]
    },
    {
      "cell_type": "markdown",
      "id": "f01fe687",
      "metadata": {
        "id": "f01fe687"
      },
      "source": [
        "## Feature Reduce and Cluster"
      ]
    },
    {
      "cell_type": "markdown",
      "id": "f4ca88b0",
      "metadata": {
        "id": "f4ca88b0"
      },
      "source": [
        "### Feature Reduce"
      ]
    },
    {
      "cell_type": "markdown",
      "id": "ade3caf3",
      "metadata": {
        "id": "ade3caf3"
      },
      "source": [
        "First we split df into two by the splits"
      ]
    },
    {
      "cell_type": "code",
      "execution_count": 18,
      "id": "6e8d89fc",
      "metadata": {
        "id": "6e8d89fc"
      },
      "outputs": [],
      "source": [
        "df_features_train = df_features[df_features['split'] == 0]\n",
        "df_features_cv_test = df_features[df_features['split'] != 0]"
      ]
    },
    {
      "cell_type": "markdown",
      "id": "916d56c4",
      "metadata": {
        "id": "916d56c4"
      },
      "source": [
        "Next we get the features in an array"
      ]
    },
    {
      "cell_type": "code",
      "execution_count": 19,
      "id": "6929144a",
      "metadata": {
        "id": "6929144a"
      },
      "outputs": [],
      "source": [
        "train_features = df_features_train.drop(['noduleID', 'split', 'malignancy', 'malignancy_b'], axis=1).values\n",
        "cv_test_features = df_features_cv_test.drop(['noduleID', 'split', 'malignancy', 'malignancy_b'], axis=1).values"
      ]
    },
    {
      "cell_type": "markdown",
      "id": "3af995b2",
      "metadata": {
        "id": "3af995b2"
      },
      "source": [
        "Following the George paper, we use UMAP to dimensionaly reduce our data"
      ]
    },
    {
      "cell_type": "code",
      "execution_count": 20,
      "id": "a73c3b33",
      "metadata": {
        "id": "a73c3b33",
        "outputId": "7a0741b0-e9b3-44e4-906d-57b8ea6ad5db",
        "colab": {
          "base_uri": "https://localhost:8080/"
        }
      },
      "outputs": [
        {
          "output_type": "stream",
          "name": "stderr",
          "text": [
            "/usr/local/lib/python3.7/dist-packages/numba/np/ufunc/parallel.py:363: NumbaWarning: The TBB threading layer requires TBB version 2019.5 or later i.e., TBB_INTERFACE_VERSION >= 11005. Found TBB_INTERFACE_VERSION = 9107. The TBB threading layer is disabled.\n",
            "  warnings.warn(problem)\n"
          ]
        },
        {
          "output_type": "execute_result",
          "data": {
            "text/plain": [
              "UMAP(random_state=8, tqdm_kwds={'bar_format': '{desc}: {percentage:3.0f}%| {bar} {n_fmt}/{total_fmt} [{elapsed}]', 'desc': 'Epochs completed', 'disable': True})"
            ]
          },
          "metadata": {},
          "execution_count": 20
        }
      ],
      "source": [
        "reducer = UMAP(random_state=8)\n",
        "reducer.fit(train_features)"
      ]
    },
    {
      "cell_type": "code",
      "execution_count": 21,
      "id": "70a7252d",
      "metadata": {
        "id": "70a7252d"
      },
      "outputs": [],
      "source": [
        "train_embeds = reducer.transform(train_features)"
      ]
    },
    {
      "cell_type": "markdown",
      "id": "3f50a812",
      "metadata": {
        "id": "3f50a812"
      },
      "source": [
        "Now we visualize the reduction on train dataset"
      ]
    },
    {
      "cell_type": "code",
      "source": [
        "show_scatter(train_embeds[:, 0], train_embeds[:, 1],df_features_train['malignancy'],'Train Embeddings', 0.5)\n",
        "\n"
      ],
      "metadata": {
        "id": "XlPlr1ZQhb5f",
        "outputId": "b637e6a8-63b7-41ba-ef1a-2d9156ea5fa7",
        "colab": {
          "base_uri": "https://localhost:8080/",
          "height": 281
        }
      },
      "id": "XlPlr1ZQhb5f",
      "execution_count": 22,
      "outputs": [
        {
          "output_type": "display_data",
          "data": {
            "text/plain": [
              "<Figure size 432x288 with 1 Axes>"
            ],
            "image/png": "[encoded data removed]"
          },
          "metadata": {
            "needs_background": "light"
          }
        }
      ]
    },
    {
      "cell_type": "markdown",
      "id": "84ddb8e2",
      "metadata": {
        "id": "84ddb8e2"
      },
      "source": [
        "We also do same visualization on cv and test"
      ]
    },
    {
      "cell_type": "code",
      "execution_count": 23,
      "id": "05ce9a28",
      "metadata": {
        "id": "05ce9a28"
      },
      "outputs": [],
      "source": [
        "cv_test_embeds = reducer.transform(cv_test_features)"
      ]
    },
    {
      "cell_type": "code",
      "execution_count": 24,
      "id": "6c007ab0",
      "metadata": {
        "id": "6c007ab0",
        "outputId": "bf7fee91-5610-4042-a1e6-14ef0b4bf19e",
        "colab": {
          "base_uri": "https://localhost:8080/",
          "height": 281
        }
      },
      "outputs": [
        {
          "output_type": "display_data",
          "data": {
            "text/plain": [
              "<Figure size 432x288 with 1 Axes>"
            ],
            "image/png": "[encoded data removed]"
          },
          "metadata": {
            "needs_background": "light"
          }
        }
      ],
      "source": [
        "show_scatter(cv_test_embeds[:, 0], cv_test_embeds[:, 1],df_features_cv_test['malignancy'],'CV Test Embeddings', 0.5)\n"
      ]
    },
    {
      "cell_type": "markdown",
      "id": "b3ae499e",
      "metadata": {
        "id": "b3ae499e"
      },
      "source": [
        "We now save the reduce"
      ]
    },
    {
      "cell_type": "code",
      "execution_count": 25,
      "id": "b5345903",
      "metadata": {
        "id": "b5345903"
      },
      "outputs": [],
      "source": [
        "f_reducer = './cnn_umap_reducer.sav'\n",
        "pickle.dump(reducer, open(f_reducer, 'wb'))\n",
        "\n",
        "\n"
      ]
    },
    {
      "cell_type": "markdown",
      "source": [
        "Note to lode from above file, we can call\n",
        "```python\n",
        "reducer = pickle.load((open(f_reducer, 'rb'))) \n",
        "```"
      ],
      "metadata": {
        "id": "-ZIXwHwrkqCl"
      },
      "id": "-ZIXwHwrkqCl"
    },
    {
      "cell_type": "markdown",
      "id": "2e900474",
      "metadata": {
        "id": "2e900474"
      },
      "source": [
        "### Feature Cluster"
      ]
    },
    {
      "cell_type": "markdown",
      "id": "f55115df",
      "metadata": {
        "id": "f55115df"
      },
      "source": [
        "Now we cluster the training embeddings using Gaussian Mixture\n",
        "\n",
        "We first visualize the silhouette score\n",
        "\n",
        "(we only cluster on malignant since that is what we want)"
      ]
    },
    {
      "cell_type": "code",
      "source": [
        "train_embeds_malig = reducer.transform(train_features[df_features_train['malignancy_b'] == 1])"
      ],
      "metadata": {
        "id": "FHO3q6vUjAQh"
      },
      "id": "FHO3q6vUjAQh",
      "execution_count": 26,
      "outputs": []
    },
    {
      "cell_type": "code",
      "execution_count": 27,
      "id": "29b9cdc8",
      "metadata": {
        "id": "29b9cdc8",
        "outputId": "96aa62c9-cf26-4aea-acb7-ed320b859fd1",
        "colab": {
          "base_uri": "https://localhost:8080/",
          "height": 296
        }
      },
      "outputs": [
        {
          "output_type": "execute_result",
          "data": {
            "text/plain": [
              "Text(0, 0.5, 'Silhouette Coefficients')"
            ]
          },
          "metadata": {},
          "execution_count": 27
        },
        {
          "output_type": "display_data",
          "data": {
            "text/plain": [
              "<Figure size 432x288 with 1 Axes>"
            ],
            "image/png": "[encoded data removed]"
          },
          "metadata": {
            "needs_background": "light"
          }
        }
      ],
      "source": [
        "clusters = [n for n in range(2,16)]\n",
        "silhouette_coefficients = []\n",
        "\n",
        "for cluster in clusters:\n",
        "  gmm = GaussianMixture(n_components=cluster, random_state=61).fit(train_embeds_malig)\n",
        "  labels = gmm.predict(train_embeds_malig)\n",
        "  \n",
        "  silhouette_avg = silhouette_score(train_embeds_malig, labels)\n",
        "  silhouette_coefficients.append(silhouette_avg)\n",
        "\n",
        "plt.plot(clusters, silhouette_coefficients)\n",
        "plt.xlabel('Number of Clusters')\n",
        "plt.ylabel('Silhouette Coefficients')"
      ]
    },
    {
      "cell_type": "markdown",
      "id": "2eb4177c",
      "metadata": {
        "id": "2eb4177c"
      },
      "source": [
        "We note from above, the best number of subclasses is 2."
      ]
    },
    {
      "cell_type": "code",
      "execution_count": 28,
      "id": "61f1e245",
      "metadata": {
        "id": "61f1e245"
      },
      "outputs": [],
      "source": [
        "clusterer = GaussianMixture(n_components=2, random_state=61).fit(train_embeds_malig)"
      ]
    },
    {
      "cell_type": "markdown",
      "source": [
        "We now visualize the clusters ont train"
      ],
      "metadata": {
        "id": "HACFygAvj1b0"
      },
      "id": "HACFygAvj1b0"
    },
    {
      "cell_type": "code",
      "execution_count": 29,
      "id": "0e87f5e6",
      "metadata": {
        "id": "0e87f5e6",
        "outputId": "2ff32349-fa9a-4ddf-8315-ec89cb1daf05",
        "colab": {
          "base_uri": "https://localhost:8080/",
          "height": 281
        }
      },
      "outputs": [
        {
          "output_type": "display_data",
          "data": {
            "text/plain": [
              "<Figure size 432x288 with 1 Axes>"
            ],
            "image/png": "[encoded data removed]"
          },
          "metadata": {
            "needs_background": "light"
          }
        }
      ],
      "source": [
        "train_labels = clusterer.predict(train_embeds)\n",
        "\n",
        "show_scatter(train_embeds[:, 0], train_embeds[:, 1],train_labels,'Training Embeddings Clustered', 0.5)"
      ]
    },
    {
      "cell_type": "code",
      "execution_count": 30,
      "id": "14047808",
      "metadata": {
        "id": "14047808",
        "outputId": "6cc8e6b4-394b-4b52-c27f-be2326c93a4b",
        "colab": {
          "base_uri": "https://localhost:8080/",
          "height": 281
        }
      },
      "outputs": [
        {
          "output_type": "display_data",
          "data": {
            "text/plain": [
              "<Figure size 432x288 with 1 Axes>"
            ],
            "image/png": "[encoded data removed]"
          },
          "metadata": {
            "needs_background": "light"
          }
        }
      ],
      "source": [
        "cv_test_labels = clusterer.predict(cv_test_embeds)\n",
        "\n",
        "show_scatter(cv_test_embeds[:, 0], cv_test_embeds[:, 1],cv_test_labels,'CV Test Embeddings Clustered', 0.5)"
      ]
    },
    {
      "cell_type": "markdown",
      "source": [
        "Now we save the clusterer"
      ],
      "metadata": {
        "id": "dbAxN68akWic"
      },
      "id": "dbAxN68akWic"
    },
    {
      "cell_type": "code",
      "source": [
        "f_clusterer = './cnn_umap_clusterer.sav'\n",
        "pickle.dump(reducer, open(f_reducer, 'wb'))"
      ],
      "metadata": {
        "id": "s_bYeCBTkaIX"
      },
      "id": "s_bYeCBTkaIX",
      "execution_count": 31,
      "outputs": []
    },
    {
      "cell_type": "markdown",
      "source": [
        "### Save the labels"
      ],
      "metadata": {
        "id": "4F0y_ltDlNYB"
      },
      "id": "4F0y_ltDlNYB"
    },
    {
      "cell_type": "markdown",
      "source": [
        "Now that we have the labels, we want to save them to csv we so we can train gDRO on them"
      ],
      "metadata": {
        "id": "Ry_7lIXplXPx"
      },
      "id": "Ry_7lIXplXPx"
    },
    {
      "cell_type": "code",
      "source": [
        "df_features_train['clusters'] = train_labels\n",
        "df_features_cv_test['clusters'] = cv_test_labels\n",
        "\n",
        "df_clusters = pd.concat([df_features_train, df_features_cv_test])[['noduleID', 'clusters']]\n",
        "df_clusters.head()"
      ],
      "metadata": {
        "id": "feYM-zJylcZL",
        "outputId": "dba9d1b6-c14e-432f-925c-5f8eaae15a7c",
        "colab": {
          "base_uri": "https://localhost:8080/",
          "height": 414
        }
      },
      "id": "feYM-zJylcZL",
      "execution_count": 32,
      "outputs": [
        {
          "output_type": "stream",
          "name": "stderr",
          "text": [
            "/usr/local/lib/python3.7/dist-packages/ipykernel_launcher.py:1: SettingWithCopyWarning: \n",
            "A value is trying to be set on a copy of a slice from a DataFrame.\n",
            "Try using .loc[row_indexer,col_indexer] = value instead\n",
            "\n",
            "See the caveats in the documentation: https://pandas.pydata.org/pandas-docs/stable/user_guide/indexing.html#returning-a-view-versus-a-copy\n",
            "  \"\"\"Entry point for launching an IPython kernel.\n",
            "/usr/local/lib/python3.7/dist-packages/ipykernel_launcher.py:2: SettingWithCopyWarning: \n",
            "A value is trying to be set on a copy of a slice from a DataFrame.\n",
            "Try using .loc[row_indexer,col_indexer] = value instead\n",
            "\n",
            "See the caveats in the documentation: https://pandas.pydata.org/pandas-docs/stable/user_guide/indexing.html#returning-a-view-versus-a-copy\n",
            "  \n"
          ]
        },
        {
          "output_type": "execute_result",
          "data": {
            "text/plain": [
              "   noduleID  clusters\n",
              "0       256         1\n",
              "1      2341         1\n",
              "2      2114         1\n",
              "3      1667         1\n",
              "4      2274         1"
            ],
            "text/html": [
              "\n",
              "  <div id=\"df-0bdb2319-3f41-4c08-a886-930684384b47\">\n",
              "    <div class=\"colab-df-container\">\n",
              "      <div>\n",
              "<style scoped>\n",
              "    .dataframe tbody tr th:only-of-type {\n",
              "        vertical-align: middle;\n",
              "    }\n",
              "\n",
              "    .dataframe tbody tr th {\n",
              "        vertical-align: top;\n",
              "    }\n",
              "\n",
              "    .dataframe thead th {\n",
              "        text-align: right;\n",
              "    }\n",
              "</style>\n",
              "<table border=\"1\" class=\"dataframe\">\n",
              "  <thead>\n",
              "    <tr style=\"text-align: right;\">\n",
              "      <th></th>\n",
              "      <th>noduleID</th>\n",
              "      <th>clusters</th>\n",
              "    </tr>\n",
              "  </thead>\n",
              "  <tbody>\n",
              "    <tr>\n",
              "      <th>0</th>\n",
              "      <td>256</td>\n",
              "      <td>1</td>\n",
              "    </tr>\n",
              "    <tr>\n",
              "      <th>1</th>\n",
              "      <td>2341</td>\n",
              "      <td>1</td>\n",
              "    </tr>\n",
              "    <tr>\n",
              "      <th>2</th>\n",
              "      <td>2114</td>\n",
              "      <td>1</td>\n",
              "    </tr>\n",
              "    <tr>\n",
              "      <th>3</th>\n",
              "      <td>1667</td>\n",
              "      <td>1</td>\n",
              "    </tr>\n",
              "    <tr>\n",
              "      <th>4</th>\n",
              "      <td>2274</td>\n",
              "      <td>1</td>\n",
              "    </tr>\n",
              "  </tbody>\n",
              "</table>\n",
              "</div>\n",
              "      <button class=\"colab-df-convert\" onclick=\"convertToInteractive('df-0bdb2319-3f41-4c08-a886-930684384b47')\"\n",
              "              title=\"Convert this dataframe to an interactive table.\"\n",
              "              style=\"display:none;\">\n",
              "        \n",
              "  <svg xmlns=\"http://www.w3.org/2000/svg\" height=\"24px\"viewBox=\"0 0 24 24\"\n",
              "       width=\"24px\">\n",
              "    <path d=\"M0 0h24v24H0V0z\" fill=\"none\"/>\n",
              "    <path d=\"M18.56 5.44l.94 2.06.94-2.06 2.06-.94-2.06-.94-.94-2.06-.94 2.06-2.06.94zm-11 1L8.5 8.5l.94-2.06 2.06-.94-2.06-.94L8.5 2.5l-.94 2.06-2.06.94zm10 10l.94 2.06.94-2.06 2.06-.94-2.06-.94-.94-2.06-.94 2.06-2.06.94z\"/><path d=\"M17.41 7.96l-1.37-1.37c-.4-.4-.92-.59-1.43-.59-.52 0-1.04.2-1.43.59L10.3 9.45l-7.72 7.72c-.78.78-.78 2.05 0 2.83L4 21.41c.39.39.9.59 1.41.59.51 0 1.02-.2 1.41-.59l7.78-7.78 2.81-2.81c.8-.78.8-2.07 0-2.86zM5.41 20L4 18.59l7.72-7.72 1.47 1.35L5.41 20z\"/>\n",
              "  </svg>\n",
              "      </button>\n",
              "      \n",
              "  <style>\n",
              "    .colab-df-container {\n",
              "      display:flex;\n",
              "      flex-wrap:wrap;\n",
              "      gap: 12px;\n",
              "    }\n",
              "\n",
              "    .colab-df-convert {\n",
              "      background-color: #E8F0FE;\n",
              "      border: none;\n",
              "      border-radius: 50%;\n",
              "      cursor: pointer;\n",
              "      display: none;\n",
              "      fill: #1967D2;\n",
              "      height: 32px;\n",
              "      padding: 0 0 0 0;\n",
              "      width: 32px;\n",
              "    }\n",
              "\n",
              "    .colab-df-convert:hover {\n",
              "      background-color: #E2EBFA;\n",
              "      box-shadow: 0px 1px 2px rgba(60, 64, 67, 0.3), 0px 1px 3px 1px rgba(60, 64, 67, 0.15);\n",
              "      fill: #174EA6;\n",
              "    }\n",
              "\n",
              "    [theme=dark] .colab-df-convert {\n",
              "      background-color: #3B4455;\n",
              "      fill: #D2E3FC;\n",
              "    }\n",
              "\n",
              "    [theme=dark] .colab-df-convert:hover {\n",
              "      background-color: #434B5C;\n",
              "      box-shadow: 0px 1px 3px 1px rgba(0, 0, 0, 0.15);\n",
              "      filter: drop-shadow(0px 1px 2px rgba(0, 0, 0, 0.3));\n",
              "      fill: #FFFFFF;\n",
              "    }\n",
              "  </style>\n",
              "\n",
              "      <script>\n",
              "        const buttonEl =\n",
              "          document.querySelector('#df-0bdb2319-3f41-4c08-a886-930684384b47 button.colab-df-convert');\n",
              "        buttonEl.style.display =\n",
              "          google.colab.kernel.accessAllowed ? 'block' : 'none';\n",
              "\n",
              "        async function convertToInteractive(key) {\n",
              "          const element = document.querySelector('#df-0bdb2319-3f41-4c08-a886-930684384b47');\n",
              "          const dataTable =\n",
              "            await google.colab.kernel.invokeFunction('convertToInteractive',\n",
              "                                                     [key], {});\n",
              "          if (!dataTable) return;\n",
              "\n",
              "          const docLinkHtml = 'Like what you see? Visit the ' +\n",
              "            '<a target=\"_blank\" href=https://colab.research.google.com/notebooks/data_table.ipynb>data table notebook</a>'\n",
              "            + ' to learn more about interactive tables.';\n",
              "          element.innerHTML = '';\n",
              "          dataTable['output_type'] = 'display_data';\n",
              "          await google.colab.output.renderOutput(dataTable, element);\n",
              "          const docLink = document.createElement('div');\n",
              "          docLink.innerHTML = docLinkHtml;\n",
              "          element.appendChild(docLink);\n",
              "        }\n",
              "      </script>\n",
              "    </div>\n",
              "  </div>\n",
              "  "
            ]
          },
          "metadata": {},
          "execution_count": 32
        }
      ]
    },
    {
      "cell_type": "code",
      "source": [
        "df_clusters = df_clusters.sort_values('noduleID')"
      ],
      "metadata": {
        "id": "mrPoaGqonmbj"
      },
      "id": "mrPoaGqonmbj",
      "execution_count": 33,
      "outputs": []
    },
    {
      "cell_type": "markdown",
      "source": [
        "We can add these lables to the df_splits dataframe"
      ],
      "metadata": {
        "id": "F_PY5MsKmAei"
      },
      "id": "F_PY5MsKmAei"
    },
    {
      "cell_type": "code",
      "source": [
        "df_splits['clusters'] = [ 0 if m % 2 == 0 else 1 + c for m,c in zip(df_splits['malignancy_b'], df_clusters['clusters'])]"
      ],
      "metadata": {
        "id": "Zmebxa-Gl214"
      },
      "id": "Zmebxa-Gl214",
      "execution_count": 34,
      "outputs": []
    },
    {
      "cell_type": "code",
      "source": [
        "df_splits['clusters']"
      ],
      "metadata": {
        "id": "5htZbtsVoJkm",
        "outputId": "731a296a-0fc7-414e-c426-3ce4e391e471",
        "colab": {
          "base_uri": "https://localhost:8080/"
        }
      },
      "id": "5htZbtsVoJkm",
      "execution_count": 35,
      "outputs": [
        {
          "output_type": "execute_result",
          "data": {
            "text/plain": [
              "1295    1\n",
              "1400    2\n",
              "1435    1\n",
              "1066    2\n",
              "1244    2\n",
              "       ..\n",
              "1028    2\n",
              "819     0\n",
              "707     0\n",
              "1436    1\n",
              "501     0\n",
              "Name: clusters, Length: 1488, dtype: int64"
            ]
          },
          "metadata": {},
          "execution_count": 35
        }
      ]
    },
    {
      "cell_type": "markdown",
      "source": [
        "Now we save the csv"
      ],
      "metadata": {
        "id": "UiCgDCb9oUIj"
      },
      "id": "UiCgDCb9oUIj"
    },
    {
      "cell_type": "code",
      "source": [
        "df_splits.to_csv('./data/LIDC_data_split.csv')"
      ],
      "metadata": {
        "id": "WoM5bPaEoVeN"
      },
      "id": "WoM5bPaEoVeN",
      "execution_count": 36,
      "outputs": []
    },
    {
      "cell_type": "markdown",
      "source": [
        "## Train ERM and gDRO on new models"
      ],
      "metadata": {
        "id": "TXrR7eLvoiJ2"
      },
      "id": "TXrR7eLvoiJ2"
    },
    {
      "cell_type": "markdown",
      "source": [
        "We again get our dataloaders (but with the new sublables)"
      ],
      "metadata": {
        "id": "o_v71Ur4qaNn"
      },
      "id": "o_v71Ur4qaNn"
    },
    {
      "cell_type": "code",
      "source": [
        "df_splits = pd.read_csv('./data/LIDC_data_split.csv', index_col=0)\n",
        "df_splits.head()"
      ],
      "metadata": {
        "id": "An-LvUlHq339",
        "outputId": "b5d5cf88-0896-40ec-82e0-53ed801e06ef",
        "colab": {
          "base_uri": "https://localhost:8080/",
          "height": 206
        }
      },
      "id": "An-LvUlHq339",
      "execution_count": 37,
      "outputs": [
        {
          "output_type": "execute_result",
          "data": {
            "text/plain": [
              "      noduleID  spiculation  malignancy  malignancy_b  split  clusters\n",
              "1295         1            6           3             1      0         1\n",
              "1400         2            7           3             1      0         2\n",
              "1435         3            6           3             1      1         1\n",
              "1066         4            4           2             1      0         2\n",
              "1244         5            4           2             1      2         2"
            ],
            "text/html": [
              "\n",
              "  <div id=\"df-7a8fff69-76d9-403a-914c-0cf4b114bf12\">\n",
              "    <div class=\"colab-df-container\">\n",
              "      <div>\n",
              "<style scoped>\n",
              "    .dataframe tbody tr th:only-of-type {\n",
              "        vertical-align: middle;\n",
              "    }\n",
              "\n",
              "    .dataframe tbody tr th {\n",
              "        vertical-align: top;\n",
              "    }\n",
              "\n",
              "    .dataframe thead th {\n",
              "        text-align: right;\n",
              "    }\n",
              "</style>\n",
              "<table border=\"1\" class=\"dataframe\">\n",
              "  <thead>\n",
              "    <tr style=\"text-align: right;\">\n",
              "      <th></th>\n",
              "      <th>noduleID</th>\n",
              "      <th>spiculation</th>\n",
              "      <th>malignancy</th>\n",
              "      <th>malignancy_b</th>\n",
              "      <th>split</th>\n",
              "      <th>clusters</th>\n",
              "    </tr>\n",
              "  </thead>\n",
              "  <tbody>\n",
              "    <tr>\n",
              "      <th>1295</th>\n",
              "      <td>1</td>\n",
              "      <td>6</td>\n",
              "      <td>3</td>\n",
              "      <td>1</td>\n",
              "      <td>0</td>\n",
              "      <td>1</td>\n",
              "    </tr>\n",
              "    <tr>\n",
              "      <th>1400</th>\n",
              "      <td>2</td>\n",
              "      <td>7</td>\n",
              "      <td>3</td>\n",
              "      <td>1</td>\n",
              "      <td>0</td>\n",
              "      <td>2</td>\n",
              "    </tr>\n",
              "    <tr>\n",
              "      <th>1435</th>\n",
              "      <td>3</td>\n",
              "      <td>6</td>\n",
              "      <td>3</td>\n",
              "      <td>1</td>\n",
              "      <td>1</td>\n",
              "      <td>1</td>\n",
              "    </tr>\n",
              "    <tr>\n",
              "      <th>1066</th>\n",
              "      <td>4</td>\n",
              "      <td>4</td>\n",
              "      <td>2</td>\n",
              "      <td>1</td>\n",
              "      <td>0</td>\n",
              "      <td>2</td>\n",
              "    </tr>\n",
              "    <tr>\n",
              "      <th>1244</th>\n",
              "      <td>5</td>\n",
              "      <td>4</td>\n",
              "      <td>2</td>\n",
              "      <td>1</td>\n",
              "      <td>2</td>\n",
              "      <td>2</td>\n",
              "    </tr>\n",
              "  </tbody>\n",
              "</table>\n",
              "</div>\n",
              "      <button class=\"colab-df-convert\" onclick=\"convertToInteractive('df-7a8fff69-76d9-403a-914c-0cf4b114bf12')\"\n",
              "              title=\"Convert this dataframe to an interactive table.\"\n",
              "              style=\"display:none;\">\n",
              "        \n",
              "  <svg xmlns=\"http://www.w3.org/2000/svg\" height=\"24px\"viewBox=\"0 0 24 24\"\n",
              "       width=\"24px\">\n",
              "    <path d=\"M0 0h24v24H0V0z\" fill=\"none\"/>\n",
              "    <path d=\"M18.56 5.44l.94 2.06.94-2.06 2.06-.94-2.06-.94-.94-2.06-.94 2.06-2.06.94zm-11 1L8.5 8.5l.94-2.06 2.06-.94-2.06-.94L8.5 2.5l-.94 2.06-2.06.94zm10 10l.94 2.06.94-2.06 2.06-.94-2.06-.94-.94-2.06-.94 2.06-2.06.94z\"/><path d=\"M17.41 7.96l-1.37-1.37c-.4-.4-.92-.59-1.43-.59-.52 0-1.04.2-1.43.59L10.3 9.45l-7.72 7.72c-.78.78-.78 2.05 0 2.83L4 21.41c.39.39.9.59 1.41.59.51 0 1.02-.2 1.41-.59l7.78-7.78 2.81-2.81c.8-.78.8-2.07 0-2.86zM5.41 20L4 18.59l7.72-7.72 1.47 1.35L5.41 20z\"/>\n",
              "  </svg>\n",
              "      </button>\n",
              "      \n",
              "  <style>\n",
              "    .colab-df-container {\n",
              "      display:flex;\n",
              "      flex-wrap:wrap;\n",
              "      gap: 12px;\n",
              "    }\n",
              "\n",
              "    .colab-df-convert {\n",
              "      background-color: #E8F0FE;\n",
              "      border: none;\n",
              "      border-radius: 50%;\n",
              "      cursor: pointer;\n",
              "      display: none;\n",
              "      fill: #1967D2;\n",
              "      height: 32px;\n",
              "      padding: 0 0 0 0;\n",
              "      width: 32px;\n",
              "    }\n",
              "\n",
              "    .colab-df-convert:hover {\n",
              "      background-color: #E2EBFA;\n",
              "      box-shadow: 0px 1px 2px rgba(60, 64, 67, 0.3), 0px 1px 3px 1px rgba(60, 64, 67, 0.15);\n",
              "      fill: #174EA6;\n",
              "    }\n",
              "\n",
              "    [theme=dark] .colab-df-convert {\n",
              "      background-color: #3B4455;\n",
              "      fill: #D2E3FC;\n",
              "    }\n",
              "\n",
              "    [theme=dark] .colab-df-convert:hover {\n",
              "      background-color: #434B5C;\n",
              "      box-shadow: 0px 1px 3px 1px rgba(0, 0, 0, 0.15);\n",
              "      filter: drop-shadow(0px 1px 2px rgba(0, 0, 0, 0.3));\n",
              "      fill: #FFFFFF;\n",
              "    }\n",
              "  </style>\n",
              "\n",
              "      <script>\n",
              "        const buttonEl =\n",
              "          document.querySelector('#df-7a8fff69-76d9-403a-914c-0cf4b114bf12 button.colab-df-convert');\n",
              "        buttonEl.style.display =\n",
              "          google.colab.kernel.accessAllowed ? 'block' : 'none';\n",
              "\n",
              "        async function convertToInteractive(key) {\n",
              "          const element = document.querySelector('#df-7a8fff69-76d9-403a-914c-0cf4b114bf12');\n",
              "          const dataTable =\n",
              "            await google.colab.kernel.invokeFunction('convertToInteractive',\n",
              "                                                     [key], {});\n",
              "          if (!dataTable) return;\n",
              "\n",
              "          const docLinkHtml = 'Like what you see? Visit the ' +\n",
              "            '<a target=\"_blank\" href=https://colab.research.google.com/notebooks/data_table.ipynb>data table notebook</a>'\n",
              "            + ' to learn more about interactive tables.';\n",
              "          element.innerHTML = '';\n",
              "          dataTable['output_type'] = 'display_data';\n",
              "          await google.colab.output.renderOutput(dataTable, element);\n",
              "          const docLink = document.createElement('div');\n",
              "          docLink.innerHTML = docLinkHtml;\n",
              "          element.appendChild(docLink);\n",
              "        }\n",
              "      </script>\n",
              "    </div>\n",
              "  </div>\n",
              "  "
            ]
          },
          "metadata": {},
          "execution_count": 37
        }
      ]
    },
    {
      "cell_type": "code",
      "source": [
        "train_data_c, cv_data_c, test_data_c = getImages(split=True, sublabels='clusters', binary=True, device=DEVICE)\n",
        "\n",
        "#datasets\n",
        "tr_c = SubclassedNoduleDataset(*train_data_c)\n",
        "cv_c = SubclassedNoduleDataset(*cv_data_c)\n",
        "tst_c = SubclassedNoduleDataset(*test_data_c)\n",
        "\n",
        "#dataloaders\n",
        "tr_loader_c = InfiniteDataLoader(tr_c, batch_size=512)\n",
        "cv_loader_c = InfiniteDataLoader(cv_c, len(cv_c))\n",
        "tst_loader_c = InfiniteDataLoader(tst_c, len(tst_c))"
      ],
      "metadata": {
        "id": "TWscue2zqiqx"
      },
      "id": "TWscue2zqiqx",
      "execution_count": 38,
      "outputs": []
    },
    {
      "cell_type": "markdown",
      "source": [
        "### ERM"
      ],
      "metadata": {
        "id": "iLh0TdupydUC"
      },
      "id": "iLh0TdupydUC"
    },
    {
      "cell_type": "code",
      "source": [
        "model_ERM = TransferModel(device=DEVICE, pretrained=True, freeze=False)"
      ],
      "metadata": {
        "id": "gXz-BR_EtBbS",
        "outputId": "11d6d2ad-7ce6-45c7-cdcd-3675fefd3a8d",
        "colab": {
          "base_uri": "https://localhost:8080/"
        }
      },
      "id": "gXz-BR_EtBbS",
      "execution_count": 39,
      "outputs": [
        {
          "output_type": "stream",
          "name": "stderr",
          "text": [
            "/usr/local/lib/python3.7/dist-packages/torchvision/models/_utils.py:209: UserWarning: The parameter 'pretrained' is deprecated since 0.13 and will be removed in 0.15, please use 'weights' instead.\n",
            "  f\"The parameter '{pretrained_param}' is deprecated since 0.13 and will be removed in 0.15, \"\n",
            "/usr/local/lib/python3.7/dist-packages/torchvision/models/_utils.py:223: UserWarning: Arguments other than a weight enum or `None` for 'weights' are deprecated since 0.13 and will be removed in 0.15. The current behavior is equivalent to passing `weights=ResNet18_Weights.IMAGENET1K_V1`. You can also use `weights=ResNet18_Weights.DEFAULT` to get the most up-to-date weights.\n",
            "  warnings.warn(msg)\n"
          ]
        }
      ]
    },
    {
      "cell_type": "code",
      "source": [
        "epochs = 15\n",
        "train_epochs(epochs, tr_loader_c, cv_loader_c, model_ERM, loss_fn='ERM', num_subgroups=3, scheduler=True, verbose=False)"
      ],
      "metadata": {
        "id": "PMzFruMyt1R7",
        "outputId": "fb6a83c3-a87f-4501-e996-b66d24a6a8f0",
        "colab": {
          "base_uri": "https://localhost:8080/"
        }
      },
      "id": "PMzFruMyt1R7",
      "execution_count": 40,
      "outputs": [
        {
          "output_type": "stream",
          "name": "stdout",
          "text": [
            "Epoch 1/15\n",
            "Epoch 2/15\n",
            "Epoch 3/15\n",
            "Epoch 4/15\n",
            "Epoch 00004: reducing learning rate of group 0 to 1.0000e-04.\n",
            "Epoch 5/15\n",
            "Epoch 6/15\n",
            "Epoch 7/15\n",
            "Epoch 8/15\n",
            "Epoch 9/15\n",
            "Epoch 10/15\n",
            "Epoch 00010: reducing learning rate of group 0 to 2.0000e-05.\n",
            "Epoch 11/15\n",
            "Epoch 12/15\n",
            "Epoch 13/15\n",
            "Epoch 00013: reducing learning rate of group 0 to 4.0000e-06.\n",
            "Epoch 14/15\n",
            "Epoch 15/15\n"
          ]
        }
      ]
    },
    {
      "cell_type": "code",
      "source": [
        "test(tst_loader_c,model_ERM, 3)"
      ],
      "metadata": {
        "id": "AiuxZZ2fuRQB",
        "outputId": "09a6d8ca-fece-4dd8-b9ba-73a36e599650",
        "colab": {
          "base_uri": "https://localhost:8080/"
        }
      },
      "id": "AiuxZZ2fuRQB",
      "execution_count": 42,
      "outputs": [
        {
          "output_type": "execute_result",
          "data": {
            "text/plain": [
              "(0.8837209302325582, 0.9065934065934066, 1.0, 0.7906976744186046)"
            ]
          },
          "metadata": {},
          "execution_count": 42
        }
      ]
    },
    {
      "cell_type": "markdown",
      "source": [
        "### GDRO"
      ],
      "metadata": {
        "id": "wyJvl6CWyejh"
      },
      "id": "wyJvl6CWyejh"
    },
    {
      "cell_type": "code",
      "source": [
        "model_gDRO = TransferModel(device=DEVICE, pretrained=True, freeze=False)"
      ],
      "metadata": {
        "id": "ADIcTtuDygR8",
        "outputId": "a7d06999-34e8-44a9-f76f-585967c7fbf6",
        "colab": {
          "base_uri": "https://localhost:8080/"
        }
      },
      "id": "ADIcTtuDygR8",
      "execution_count": 46,
      "outputs": [
        {
          "output_type": "stream",
          "name": "stderr",
          "text": [
            "/usr/local/lib/python3.7/dist-packages/torchvision/models/_utils.py:209: UserWarning: The parameter 'pretrained' is deprecated since 0.13 and will be removed in 0.15, please use 'weights' instead.\n",
            "  f\"The parameter '{pretrained_param}' is deprecated since 0.13 and will be removed in 0.15, \"\n",
            "/usr/local/lib/python3.7/dist-packages/torchvision/models/_utils.py:223: UserWarning: Arguments other than a weight enum or `None` for 'weights' are deprecated since 0.13 and will be removed in 0.15. The current behavior is equivalent to passing `weights=ResNet18_Weights.IMAGENET1K_V1`. You can also use `weights=ResNet18_Weights.DEFAULT` to get the most up-to-date weights.\n",
            "  warnings.warn(msg)\n"
          ]
        }
      ]
    },
    {
      "cell_type": "code",
      "source": [
        "epochs = 15\n",
        "train_epochs(epochs, tr_loader_c, cv_loader_c, model_gDRO, loss_fn='gDRO', num_subgroups=3, scheduler=True, verbose=True)"
      ],
      "metadata": {
        "id": "NOLVmOZsyjMq",
        "outputId": "9014583a-8330-4e39-c19b-c24158696f82",
        "colab": {
          "base_uri": "https://localhost:8080/"
        }
      },
      "id": "NOLVmOZsyjMq",
      "execution_count": 47,
      "outputs": [
        {
          "output_type": "stream",
          "name": "stdout",
          "text": [
            "Epoch 1/15\n",
            "Average training loss: 0.7700639456510544\n",
            "Accuracy: 0.7142857142857143 \n",
            "Accuracy over subgroups: [0.97802198 0.31818182 0.26470588] \n",
            "Worst Group Accuracy: 0.2647058823529412\n",
            "Epoch 2/15\n",
            "Average training loss: 0.4172425627708435\n",
            "Accuracy: 0.891156462585034 \n",
            "Accuracy over subgroups: [0.97777778 1.         0.61111111] \n",
            "Worst Group Accuracy: 0.6111111111111112\n",
            "Epoch 3/15\n",
            "Average training loss: 0.25050086677074435\n",
            "Accuracy: 0.8435374149659864 \n",
            "Accuracy over subgroups: [0.87640449 1.         0.69230769] \n",
            "Worst Group Accuracy: 0.6923076923076923\n",
            "Epoch 4/15\n",
            "Average training loss: 0.1541615031659603\n",
            "Accuracy: 0.7959183673469388 \n",
            "Accuracy over subgroups: [0.80681818 0.80952381 0.76315789] \n",
            "Worst Group Accuracy: 0.7631578947368421\n",
            "Epoch 5/15\n",
            "Average training loss: 0.10145657509565353\n",
            "Accuracy: 0.8299319727891157 \n",
            "Accuracy over subgroups: [0.81818182 1.         0.81081081] \n",
            "Worst Group Accuracy: 0.8108108108108109\n",
            "Epoch 00005: reducing learning rate of group 0 to 1.0000e-04.\n",
            "Epoch 6/15\n",
            "Average training loss: 0.07004331201314926\n",
            "Accuracy: 0.8231292517006803 \n",
            "Accuracy over subgroups: [0.8974359  1.         0.68965517] \n",
            "Worst Group Accuracy: 0.6896551724137931\n",
            "Epoch 7/15\n",
            "Average training loss: 0.03476611766964197\n",
            "Accuracy: 0.8639455782312925 \n",
            "Accuracy over subgroups: [0.93902439 1.         0.6875    ] \n",
            "Worst Group Accuracy: 0.6875\n",
            "Epoch 8/15\n",
            "Average training loss: 0.02620422076433897\n",
            "Accuracy: 0.8435374149659864 \n",
            "Accuracy over subgroups: [0.86956522 1.         0.73170732] \n",
            "Worst Group Accuracy: 0.7317073170731707\n",
            "Epoch 00008: reducing learning rate of group 0 to 2.0000e-05.\n",
            "Epoch 9/15\n",
            "Average training loss: 0.02504279986023903\n",
            "Accuracy: 0.8027210884353742 \n",
            "Accuracy over subgroups: [0.84042553 1.         0.65      ] \n",
            "Worst Group Accuracy: 0.65\n",
            "Epoch 10/15\n",
            "Average training loss: 0.01696407813578844\n",
            "Accuracy: 0.7959183673469388 \n",
            "Accuracy over subgroups: [0.85555556 1.         0.63043478] \n",
            "Worst Group Accuracy: 0.6304347826086957\n",
            "Epoch 11/15\n",
            "Average training loss: 0.022845033928751944\n",
            "Accuracy: 0.782312925170068 \n",
            "Accuracy over subgroups: [0.79220779 1.         0.68      ] \n",
            "Worst Group Accuracy: 0.68\n",
            "Epoch 00011: reducing learning rate of group 0 to 4.0000e-06.\n",
            "Epoch 12/15\n",
            "Average training loss: 0.019676956161856652\n",
            "Accuracy: 0.8639455782312925 \n",
            "Accuracy over subgroups: [0.89473684 1.         0.70588235] \n",
            "Worst Group Accuracy: 0.7058823529411765\n",
            "Epoch 13/15\n",
            "Average training loss: 0.01959788966923952\n",
            "Accuracy: 0.8095238095238095 \n",
            "Accuracy over subgroups: [0.76842105 1.         0.82352941] \n",
            "Worst Group Accuracy: 0.7684210526315789\n",
            "Epoch 14/15\n",
            "Average training loss: 0.021977280825376512\n",
            "Accuracy: 0.8571428571428571 \n",
            "Accuracy over subgroups: [0.84444444 1.         0.82051282] \n",
            "Worst Group Accuracy: 0.8205128205128205\n",
            "Epoch 00014: reducing learning rate of group 0 to 8.0000e-07.\n",
            "Epoch 15/15\n",
            "Average training loss: 0.03007469940930605\n",
            "Accuracy: 0.7959183673469388 \n",
            "Accuracy over subgroups: [0.78494624 1.         0.77272727] \n",
            "Worst Group Accuracy: 0.7727272727272727\n"
          ]
        }
      ]
    },
    {
      "cell_type": "code",
      "source": [
        "test(tst_loader_c,model_ERM, 3)"
      ],
      "metadata": {
        "id": "z393MaMZymED",
        "outputId": "a90418ed-ba4d-42e6-8357-2b75b8837c31",
        "colab": {
          "base_uri": "https://localhost:8080/"
        }
      },
      "id": "z393MaMZymED",
      "execution_count": 45,
      "outputs": [
        {
          "output_type": "execute_result",
          "data": {
            "text/plain": [
              "(0.8770764119601329, 0.8736842105263158, 1.0, 0.803030303030303)"
            ]
          },
          "metadata": {},
          "execution_count": 45
        }
      ]
    },
    {
      "cell_type": "markdown",
      "source": [
        "### 20 Trials"
      ],
      "metadata": {
        "id": "z2kDMMhp10dq"
      },
      "id": "z2kDMMhp10dq"
    },
    {
      "cell_type": "code",
      "source": [
        "def run_trials(runs, epochs, loss_fn):\n",
        "\n",
        "  accuracies = []\n",
        "  for run in range(runs):\n",
        "    print(f'run {run+1}/{runs}')\n",
        "    model = TransferModel(device=DEVICE, pretrained=True, freeze=False)\n",
        "\n",
        "    train_epochs(epochs, tr_loader_c, cv_loader_c, model_gDRO, loss_fn=loss_fn, num_subgroups=3, scheduler=True, verbose=True)\n",
        "\n",
        "    accuracies.append(test(tst_loader_c,model, 3))\n",
        "\n",
        "  return accuracies"
      ],
      "metadata": {
        "id": "3OWGbaG512RD"
      },
      "id": "3OWGbaG512RD",
      "execution_count": 50,
      "outputs": []
    },
    {
      "cell_type": "markdown",
      "source": [
        "### ERM"
      ],
      "metadata": {
        "id": "n5FGqVH32zHP"
      },
      "id": "n5FGqVH32zHP"
    },
    {
      "cell_type": "code",
      "source": [
        "accuracies = run_trials(20, 15, 'ERM')"
      ],
      "metadata": {
        "id": "j30ct19420Tn",
        "outputId": "e786b448-b55f-4e27-8f14-d15cfa1123c6",
        "colab": {
          "base_uri": "https://localhost:8080/"
        }
      },
      "id": "j30ct19420Tn",
      "execution_count": null,
      "outputs": [
        {
          "output_type": "stream",
          "name": "stdout",
          "text": [
            "run 1/20\n"
          ]
        },
        {
          "output_type": "stream",
          "name": "stderr",
          "text": [
            "/usr/local/lib/python3.7/dist-packages/torchvision/models/_utils.py:209: UserWarning: The parameter 'pretrained' is deprecated since 0.13 and will be removed in 0.15, please use 'weights' instead.\n",
            "  f\"The parameter '{pretrained_param}' is deprecated since 0.13 and will be removed in 0.15, \"\n",
            "/usr/local/lib/python3.7/dist-packages/torchvision/models/_utils.py:223: UserWarning: Arguments other than a weight enum or `None` for 'weights' are deprecated since 0.13 and will be removed in 0.15. The current behavior is equivalent to passing `weights=ResNet18_Weights.IMAGENET1K_V1`. You can also use `weights=ResNet18_Weights.DEFAULT` to get the most up-to-date weights.\n",
            "  warnings.warn(msg)\n"
          ]
        },
        {
          "output_type": "stream",
          "name": "stdout",
          "text": [
            "Epoch 1/15\n",
            "Average training loss: 0.09165849458659067\n",
            "Accuracy: 0.8095238095238095 \n",
            "Accuracy over subgroups: [0.86813187 0.875      0.65      ] \n",
            "Worst Group Accuracy: 0.65\n",
            "Epoch 2/15\n",
            "Average training loss: 0.08313883058726787\n",
            "Accuracy: 0.8163265306122449 \n",
            "Accuracy over subgroups: [0.77272727 1.         0.82051282] \n",
            "Worst Group Accuracy: 0.7727272727272727\n",
            "Epoch 3/15\n",
            "Average training loss: 0.059275056794285776\n",
            "Accuracy: 0.8571428571428571 \n",
            "Accuracy over subgroups: [0.88172043 1.         0.74358974] \n",
            "Worst Group Accuracy: 0.7435897435897436\n",
            "Epoch 4/15\n",
            "Average training loss: 0.059997600689530375\n",
            "Accuracy: 0.8095238095238095 \n",
            "Accuracy over subgroups: [0.83157895 1.         0.63636364] \n",
            "Worst Group Accuracy: 0.6363636363636364\n",
            "Epoch 5/15\n",
            "Average training loss: 0.03787297122180462\n",
            "Accuracy: 0.891156462585034 \n",
            "Accuracy over subgroups: [0.95918367 0.76470588 0.75      ] \n",
            "Worst Group Accuracy: 0.75\n",
            "Epoch 6/15\n",
            "Average training loss: 0.04412029050290585\n",
            "Accuracy: 0.8435374149659864 \n",
            "Accuracy over subgroups: [0.9382716  0.86363636 0.65909091] \n",
            "Worst Group Accuracy: 0.6590909090909091\n",
            "Epoch 7/15\n",
            "Average training loss: 0.04165095407515764\n",
            "Accuracy: 0.9251700680272109 \n",
            "Accuracy over subgroups: [0.92473118 1.         0.90697674] \n",
            "Worst Group Accuracy: 0.9069767441860465\n",
            "Epoch 8/15\n",
            "Average training loss: 0.03984993807971478\n",
            "Accuracy: 0.8231292517006803 \n",
            "Accuracy over subgroups: [0.76842105 1.         0.88235294] \n",
            "Worst Group Accuracy: 0.7684210526315789\n",
            "Epoch 9/15\n",
            "Average training loss: 0.033655754290521145\n",
            "Accuracy: 0.7619047619047619 \n",
            "Accuracy over subgroups: [0.9382716  1.         0.31818182] \n",
            "Worst Group Accuracy: 0.3181818181818182\n",
            "Epoch 10/15\n",
            "Average training loss: 0.028052825154736637\n",
            "Accuracy: 0.8775510204081632 \n",
            "Accuracy over subgroups: [0.93617021 1.         0.55555556] \n",
            "Worst Group Accuracy: 0.5555555555555556\n",
            "Epoch 00010: reducing learning rate of group 0 to 1.0000e-04.\n",
            "Epoch 11/15\n",
            "Average training loss: 0.0240770292468369\n",
            "Accuracy: 0.8503401360544217 \n",
            "Accuracy over subgroups: [0.96808511 0.9375     0.51351351] \n",
            "Worst Group Accuracy: 0.5135135135135135\n",
            "Epoch 12/15\n",
            "Average training loss: 0.009397979825735092\n",
            "Accuracy: 0.8707482993197279 \n",
            "Accuracy over subgroups: [0.88659794 1.         0.79487179] \n",
            "Worst Group Accuracy: 0.7948717948717948\n",
            "Epoch 13/15\n",
            "Average training loss: 0.004356831935001537\n",
            "Accuracy: 0.7755102040816326 \n",
            "Accuracy over subgroups: [0.80434783 0.78571429 0.70731707] \n",
            "Worst Group Accuracy: 0.7073170731707317\n",
            "Epoch 00013: reducing learning rate of group 0 to 2.0000e-05.\n",
            "Epoch 14/15\n",
            "Average training loss: 0.002434930711751804\n",
            "Accuracy: 0.7959183673469388 \n",
            "Accuracy over subgroups: [0.85714286 1.         0.55882353] \n",
            "Worst Group Accuracy: 0.5588235294117647\n",
            "Epoch 15/15\n",
            "Average training loss: 0.0007761816610582173\n",
            "Accuracy: 0.8095238095238095 \n",
            "Accuracy over subgroups: [0.84146341 0.93333333 0.72      ] \n",
            "Worst Group Accuracy: 0.72\n",
            "run 2/20\n",
            "Epoch 1/15\n",
            "Average training loss: 0.07346160458109807\n",
            "Accuracy: 0.7551020408163265 \n",
            "Accuracy over subgroups: [0.65979381 1.         0.91891892] \n",
            "Worst Group Accuracy: 0.6597938144329897\n",
            "Epoch 2/15\n",
            "Average training loss: 0.05753138978034258\n",
            "Accuracy: 0.8027210884353742 \n",
            "Accuracy over subgroups: [0.89473684 1.         0.38709677] \n",
            "Worst Group Accuracy: 0.3870967741935484\n",
            "Epoch 3/15\n",
            "Average training loss: 0.030646345391869546\n",
            "Accuracy: 0.7959183673469388 \n",
            "Accuracy over subgroups: [0.88095238 0.92857143 0.6122449 ] \n",
            "Worst Group Accuracy: 0.6122448979591837\n",
            "Epoch 4/15\n",
            "Average training loss: 0.0386945229023695\n",
            "Accuracy: 0.8367346938775511 \n",
            "Accuracy over subgroups: [0.95604396 1.         0.54545455] \n",
            "Worst Group Accuracy: 0.5454545454545454\n",
            "Epoch 5/15\n"
          ]
        }
      ]
    },
    {
      "cell_type": "markdown",
      "source": [
        "### gDRO"
      ],
      "metadata": {
        "id": "7ezbhtLi27ST"
      },
      "id": "7ezbhtLi27ST"
    },
    {
      "cell_type": "code",
      "source": [
        "accuracies = run_trials(20, 15, 'gDRO')"
      ],
      "metadata": {
        "id": "E-u66hvX3A_i"
      },
      "id": "E-u66hvX3A_i",
      "execution_count": null,
      "outputs": []
    }
  ],
  "metadata": {
    "kernelspec": {
      "display_name": "Python 3",
      "name": "python3"
    },
    "language_info": {
      "name": "python"
    },
    "colab": {
      "name": "LIDC_Georges_End_to_End.ipynb",
      "provenance": [],
      "include_colab_link": true
    },
    "accelerator": "GPU",
    "gpuClass": "standard"
  },
  "nbformat": 4,
  "nbformat_minor": 5
}