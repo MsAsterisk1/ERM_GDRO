{
  "cells": [
    {
      "cell_type": "markdown",
      "metadata": {
        "id": "view-in-github",
        "colab_type": "text"
      },
      "source": [
        "<a href=\"https://colab.research.google.com/github/mtzig/LIDC_GDRO/blob/main/notebooks/LIDC_Georges_End_to_End.ipynb\" target=\"_parent\"><img src=\"https://colab.research.google.com/assets/colab-badge.svg\" alt=\"Open In Colab\"/></a>"
      ]
    },
    {
      "cell_type": "markdown",
      "id": "48b41a21",
      "metadata": {
        "id": "48b41a21"
      },
      "source": [
        "#LIDC GDRO: Looking at Clustered Subgroups\n",
        "\n",
        "Thomas Zeng"
      ]
    },
    {
      "cell_type": "markdown",
      "id": "2275997b",
      "metadata": {
        "id": "2275997b"
      },
      "source": [
        "## Notebook Setup"
      ]
    },
    {
      "cell_type": "markdown",
      "id": "c69190e7",
      "metadata": {
        "id": "c69190e7"
      },
      "source": [
        "Setup autoreload extension"
      ]
    },
    {
      "cell_type": "code",
      "execution_count": 202,
      "id": "89996c23",
      "metadata": {
        "id": "89996c23",
        "outputId": "51891d12-9597-4127-cb82-ada3ea3d5027",
        "colab": {
          "base_uri": "https://localhost:8080/"
        }
      },
      "outputs": [
        {
          "output_type": "stream",
          "name": "stdout",
          "text": [
            "The autoreload extension is already loaded. To reload it, use:\n",
            "  %reload_ext autoreload\n"
          ]
        }
      ],
      "source": [
        "%load_ext autoreload\n",
        "%autoreload 2"
      ]
    },
    {
      "cell_type": "markdown",
      "id": "c0aa3675",
      "metadata": {
        "id": "c0aa3675"
      },
      "source": [
        "Clone repo (if on colab)"
      ]
    },
    {
      "cell_type": "code",
      "execution_count": 203,
      "id": "5a993151",
      "metadata": {
        "colab": {
          "base_uri": "https://localhost:8080/"
        },
        "id": "5a993151",
        "outputId": "d8c27641-ef7e-431f-b01c-89c724b67abd"
      },
      "outputs": [
        {
          "output_type": "stream",
          "name": "stdout",
          "text": [
            "Cloning into 'LIDC_GDRO'...\n",
            "remote: Enumerating objects: 4146, done.\u001b[K\n",
            "remote: Counting objects: 100% (718/718), done.\u001b[K\n",
            "remote: Compressing objects: 100% (342/342), done.\u001b[K\n",
            "remote: Total 4146 (delta 408), reused 671 (delta 375), pack-reused 3428\u001b[K\n",
            "Receiving objects: 100% (4146/4146), 104.58 MiB | 18.02 MiB/s, done.\n",
            "Resolving deltas: 100% (3556/3556), done.\n",
            "Checking out files: 100% (5419/5419), done.\n",
            "/content/LIDC_GDRO\n"
          ]
        }
      ],
      "source": [
        "!git clone https://github.com/mtzig/LIDC_GDRO.git\n",
        "%cd /content/LIDC_GDRO\n",
        "# %cd .."
      ]
    },
    {
      "cell_type": "code",
      "execution_count": 243,
      "id": "AAg-eYbtiLCU",
      "metadata": {
        "id": "AAg-eYbtiLCU",
        "outputId": "7ea51e06-1630-4929-d921-c496b1bfebfa",
        "colab": {
          "base_uri": "https://localhost:8080/"
        }
      },
      "outputs": [
        {
          "output_type": "stream",
          "name": "stdout",
          "text": [
            "remote: Enumerating objects: 19, done.\u001b[K\n",
            "remote: Counting objects:   5% (1/19)\u001b[K\rremote: Counting objects:  10% (2/19)\u001b[K\rremote: Counting objects:  15% (3/19)\u001b[K\rremote: Counting objects:  21% (4/19)\u001b[K\rremote: Counting objects:  26% (5/19)\u001b[K\rremote: Counting objects:  31% (6/19)\u001b[K\rremote: Counting objects:  36% (7/19)\u001b[K\rremote: Counting objects:  42% (8/19)\u001b[K\rremote: Counting objects:  47% (9/19)\u001b[K\rremote: Counting objects:  52% (10/19)\u001b[K\rremote: Counting objects:  57% (11/19)\u001b[K\rremote: Counting objects:  63% (12/19)\u001b[K\rremote: Counting objects:  68% (13/19)\u001b[K\rremote: Counting objects:  73% (14/19)\u001b[K\rremote: Counting objects:  78% (15/19)\u001b[K\rremote: Counting objects:  84% (16/19)\u001b[K\rremote: Counting objects:  89% (17/19)\u001b[K\rremote: Counting objects:  94% (18/19)\u001b[K\rremote: Counting objects: 100% (19/19)\u001b[K\rremote: Counting objects: 100% (19/19), done.\u001b[K\n",
            "remote: Compressing objects:  11% (1/9)\u001b[K\rremote: Compressing objects:  22% (2/9)\u001b[K\rremote: Compressing objects:  33% (3/9)\u001b[K\rremote: Compressing objects:  44% (4/9)\u001b[K\rremote: Compressing objects:  55% (5/9)\u001b[K\rremote: Compressing objects:  66% (6/9)\u001b[K\rremote: Compressing objects:  77% (7/9)\u001b[K\rremote: Compressing objects:  88% (8/9)\u001b[K\rremote: Compressing objects: 100% (9/9)\u001b[K\rremote: Compressing objects: 100% (9/9), done.\u001b[K\n",
            "Unpacking objects:   7% (1/14)   \rUnpacking objects:  14% (2/14)   \rUnpacking objects:  21% (3/14)   \rUnpacking objects:  28% (4/14)   \rUnpacking objects:  35% (5/14)   \rUnpacking objects:  42% (6/14)   \rUnpacking objects:  50% (7/14)   \rremote: Total 14 (delta 8), reused 10 (delta 5), pack-reused 0\u001b[K\n",
            "Unpacking objects:  57% (8/14)   \rUnpacking objects:  64% (9/14)   \rUnpacking objects:  71% (10/14)   \rUnpacking objects:  78% (11/14)   \rUnpacking objects:  85% (12/14)   \rUnpacking objects:  92% (13/14)   \rUnpacking objects: 100% (14/14)   \rUnpacking objects: 100% (14/14), done.\n",
            "From https://github.com/mtzig/LIDC_GDRO\n",
            "   982005c..f94072c  main       -> origin/main\n",
            "Updating 982005c..f94072c\n",
            "error: Your local changes to the following files would be overwritten by merge:\n",
            "\tutils/image_data_utils.py\n",
            "Please commit your changes or stash them before you merge.\n",
            "Aborting\n"
          ]
        }
      ],
      "source": [
        "# !git pull"
      ]
    },
    {
      "cell_type": "markdown",
      "id": "ffedab5f",
      "metadata": {
        "id": "ffedab5f"
      },
      "source": [
        "import necessary libraries"
      ]
    },
    {
      "cell_type": "code",
      "execution_count": 204,
      "id": "KAIKRQm8er5I",
      "metadata": {
        "colab": {
          "base_uri": "https://localhost:8080/"
        },
        "id": "KAIKRQm8er5I",
        "outputId": "41b6c4e7-3fcf-419e-b11d-09603733ddf7"
      },
      "outputs": [
        {
          "output_type": "stream",
          "name": "stdout",
          "text": [
            "Looking in indexes: https://pypi.org/simple, https://us-python.pkg.dev/colab-wheels/public/simple/\n",
            "Requirement already satisfied: umap-learn in /usr/local/lib/python3.7/dist-packages (0.5.3)\n",
            "Requirement already satisfied: pynndescent>=0.5 in /usr/local/lib/python3.7/dist-packages (from umap-learn) (0.5.7)\n",
            "Requirement already satisfied: scikit-learn>=0.22 in /usr/local/lib/python3.7/dist-packages (from umap-learn) (1.0.2)\n",
            "Requirement already satisfied: numba>=0.49 in /usr/local/lib/python3.7/dist-packages (from umap-learn) (0.51.2)\n",
            "Requirement already satisfied: tqdm in /usr/local/lib/python3.7/dist-packages (from umap-learn) (4.64.0)\n",
            "Requirement already satisfied: numpy>=1.17 in /usr/local/lib/python3.7/dist-packages (from umap-learn) (1.21.6)\n",
            "Requirement already satisfied: scipy>=1.0 in /usr/local/lib/python3.7/dist-packages (from umap-learn) (1.7.3)\n",
            "Requirement already satisfied: llvmlite<0.35,>=0.34.0.dev0 in /usr/local/lib/python3.7/dist-packages (from numba>=0.49->umap-learn) (0.34.0)\n",
            "Requirement already satisfied: setuptools in /usr/local/lib/python3.7/dist-packages (from numba>=0.49->umap-learn) (57.4.0)\n",
            "Requirement already satisfied: joblib>=0.11 in /usr/local/lib/python3.7/dist-packages (from pynndescent>=0.5->umap-learn) (1.1.0)\n",
            "Requirement already satisfied: threadpoolctl>=2.0.0 in /usr/local/lib/python3.7/dist-packages (from scikit-learn>=0.22->umap-learn) (3.1.0)\n"
          ]
        }
      ],
      "source": [
        "!pip install umap-learn"
      ]
    },
    {
      "cell_type": "code",
      "execution_count": null,
      "id": "179801e0",
      "metadata": {
        "id": "179801e0"
      },
      "outputs": [],
      "source": [
        "import pandas as pd\n",
        "import numpy as np\n",
        "from dataloaders import InfiniteDataLoader\n",
        "from datasets import SubclassedDataset\n",
        "from models import TransferModel18\n",
        "from train_eval import train, evaluate, train_epochs\n",
        "from torch.optim.lr_scheduler import ReduceLROnPlateau\n",
        "from loss import ERMLoss, GDROLoss \n",
        "import os\n",
        "# import torchvision\n",
        "from torchvision import transforms\n",
        "import torch\n",
        "from utils.image_data_utils import images_to_df, get_features, show_scatter\n",
        "\n",
        "from umap import UMAP\n",
        "from matplotlib import pyplot as plt\n",
        "import pickle\n",
        "from sklearn.mixture import GaussianMixture\n",
        "from sklearn.metrics import silhouette_score"
      ]
    },
    {
      "cell_type": "markdown",
      "id": "82755e95",
      "metadata": {
        "id": "82755e95"
      },
      "source": [
        "Get available Device"
      ]
    },
    {
      "cell_type": "code",
      "execution_count": null,
      "id": "927fcddf",
      "metadata": {
        "colab": {
          "base_uri": "https://localhost:8080/"
        },
        "id": "927fcddf",
        "outputId": "35dbdc3f-09b5-451b-e496-e1d66f4dcb6f"
      },
      "outputs": [
        {
          "output_type": "stream",
          "name": "stdout",
          "text": [
            "Good to go!\n"
          ]
        }
      ],
      "source": [
        "if torch.cuda.is_available():\n",
        "    print(\"Good to go!\")\n",
        "    DEVICE = torch.device(\"cuda\")\n",
        "else:\n",
        "    print(\"Using cpu\")\n",
        "    DEVICE = torch.device(\"cpu\")"
      ]
    },
    {
      "cell_type": "markdown",
      "id": "49953b35",
      "metadata": {
        "id": "49953b35"
      },
      "source": [
        "## ERM Model: Training ERM model to extract CNN features"
      ]
    },
    {
      "cell_type": "markdown",
      "id": "539b89e0",
      "metadata": {
        "id": "539b89e0"
      },
      "source": [
        "### ERM Modeling"
      ]
    },
    {
      "cell_type": "markdown",
      "id": "2c01dc32",
      "metadata": {
        "id": "2c01dc32"
      },
      "source": [
        "Just for visulalization, the csv where we get the train, cv, test splits and subgroups come from below csv. "
      ]
    },
    {
      "cell_type": "code",
      "execution_count": 205,
      "id": "63061a76",
      "metadata": {
        "colab": {
          "base_uri": "https://localhost:8080/",
          "height": 206
        },
        "id": "63061a76",
        "outputId": "c3863137-7cec-4ff6-84df-ca8c8af86492"
      },
      "outputs": [
        {
          "output_type": "execute_result",
          "data": {
            "text/plain": [
              "   noduleID  spic_groups  malignancy  malignancy_b  split\n",
              "0         1            2           3             1      0\n",
              "1         2            3           3             1      0\n",
              "2         3            2           3             1      1\n",
              "3         4            2           2             1      0\n",
              "4         5            2           2             1      2"
            ],
            "text/html": [
              "\n",
              "  <div id=\"df-4f99e50a-6a0d-4d37-8ed2-a9532be66d66\">\n",
              "    <div class=\"colab-df-container\">\n",
              "      <div>\n",
              "<style scoped>\n",
              "    .dataframe tbody tr th:only-of-type {\n",
              "        vertical-align: middle;\n",
              "    }\n",
              "\n",
              "    .dataframe tbody tr th {\n",
              "        vertical-align: top;\n",
              "    }\n",
              "\n",
              "    .dataframe thead th {\n",
              "        text-align: right;\n",
              "    }\n",
              "</style>\n",
              "<table border=\"1\" class=\"dataframe\">\n",
              "  <thead>\n",
              "    <tr style=\"text-align: right;\">\n",
              "      <th></th>\n",
              "      <th>noduleID</th>\n",
              "      <th>spic_groups</th>\n",
              "      <th>malignancy</th>\n",
              "      <th>malignancy_b</th>\n",
              "      <th>split</th>\n",
              "    </tr>\n",
              "  </thead>\n",
              "  <tbody>\n",
              "    <tr>\n",
              "      <th>0</th>\n",
              "      <td>1</td>\n",
              "      <td>2</td>\n",
              "      <td>3</td>\n",
              "      <td>1</td>\n",
              "      <td>0</td>\n",
              "    </tr>\n",
              "    <tr>\n",
              "      <th>1</th>\n",
              "      <td>2</td>\n",
              "      <td>3</td>\n",
              "      <td>3</td>\n",
              "      <td>1</td>\n",
              "      <td>0</td>\n",
              "    </tr>\n",
              "    <tr>\n",
              "      <th>2</th>\n",
              "      <td>3</td>\n",
              "      <td>2</td>\n",
              "      <td>3</td>\n",
              "      <td>1</td>\n",
              "      <td>1</td>\n",
              "    </tr>\n",
              "    <tr>\n",
              "      <th>3</th>\n",
              "      <td>4</td>\n",
              "      <td>2</td>\n",
              "      <td>2</td>\n",
              "      <td>1</td>\n",
              "      <td>0</td>\n",
              "    </tr>\n",
              "    <tr>\n",
              "      <th>4</th>\n",
              "      <td>5</td>\n",
              "      <td>2</td>\n",
              "      <td>2</td>\n",
              "      <td>1</td>\n",
              "      <td>2</td>\n",
              "    </tr>\n",
              "  </tbody>\n",
              "</table>\n",
              "</div>\n",
              "      <button class=\"colab-df-convert\" onclick=\"convertToInteractive('df-4f99e50a-6a0d-4d37-8ed2-a9532be66d66')\"\n",
              "              title=\"Convert this dataframe to an interactive table.\"\n",
              "              style=\"display:none;\">\n",
              "        \n",
              "  <svg xmlns=\"http://www.w3.org/2000/svg\" height=\"24px\"viewBox=\"0 0 24 24\"\n",
              "       width=\"24px\">\n",
              "    <path d=\"M0 0h24v24H0V0z\" fill=\"none\"/>\n",
              "    <path d=\"M18.56 5.44l.94 2.06.94-2.06 2.06-.94-2.06-.94-.94-2.06-.94 2.06-2.06.94zm-11 1L8.5 8.5l.94-2.06 2.06-.94-2.06-.94L8.5 2.5l-.94 2.06-2.06.94zm10 10l.94 2.06.94-2.06 2.06-.94-2.06-.94-.94-2.06-.94 2.06-2.06.94z\"/><path d=\"M17.41 7.96l-1.37-1.37c-.4-.4-.92-.59-1.43-.59-.52 0-1.04.2-1.43.59L10.3 9.45l-7.72 7.72c-.78.78-.78 2.05 0 2.83L4 21.41c.39.39.9.59 1.41.59.51 0 1.02-.2 1.41-.59l7.78-7.78 2.81-2.81c.8-.78.8-2.07 0-2.86zM5.41 20L4 18.59l7.72-7.72 1.47 1.35L5.41 20z\"/>\n",
              "  </svg>\n",
              "      </button>\n",
              "      \n",
              "  <style>\n",
              "    .colab-df-container {\n",
              "      display:flex;\n",
              "      flex-wrap:wrap;\n",
              "      gap: 12px;\n",
              "    }\n",
              "\n",
              "    .colab-df-convert {\n",
              "      background-color: #E8F0FE;\n",
              "      border: none;\n",
              "      border-radius: 50%;\n",
              "      cursor: pointer;\n",
              "      display: none;\n",
              "      fill: #1967D2;\n",
              "      height: 32px;\n",
              "      padding: 0 0 0 0;\n",
              "      width: 32px;\n",
              "    }\n",
              "\n",
              "    .colab-df-convert:hover {\n",
              "      background-color: #E2EBFA;\n",
              "      box-shadow: 0px 1px 2px rgba(60, 64, 67, 0.3), 0px 1px 3px 1px rgba(60, 64, 67, 0.15);\n",
              "      fill: #174EA6;\n",
              "    }\n",
              "\n",
              "    [theme=dark] .colab-df-convert {\n",
              "      background-color: #3B4455;\n",
              "      fill: #D2E3FC;\n",
              "    }\n",
              "\n",
              "    [theme=dark] .colab-df-convert:hover {\n",
              "      background-color: #434B5C;\n",
              "      box-shadow: 0px 1px 3px 1px rgba(0, 0, 0, 0.15);\n",
              "      filter: drop-shadow(0px 1px 2px rgba(0, 0, 0, 0.3));\n",
              "      fill: #FFFFFF;\n",
              "    }\n",
              "  </style>\n",
              "\n",
              "      <script>\n",
              "        const buttonEl =\n",
              "          document.querySelector('#df-4f99e50a-6a0d-4d37-8ed2-a9532be66d66 button.colab-df-convert');\n",
              "        buttonEl.style.display =\n",
              "          google.colab.kernel.accessAllowed ? 'block' : 'none';\n",
              "\n",
              "        async function convertToInteractive(key) {\n",
              "          const element = document.querySelector('#df-4f99e50a-6a0d-4d37-8ed2-a9532be66d66');\n",
              "          const dataTable =\n",
              "            await google.colab.kernel.invokeFunction('convertToInteractive',\n",
              "                                                     [key], {});\n",
              "          if (!dataTable) return;\n",
              "\n",
              "          const docLinkHtml = 'Like what you see? Visit the ' +\n",
              "            '<a target=\"_blank\" href=https://colab.research.google.com/notebooks/data_table.ipynb>data table notebook</a>'\n",
              "            + ' to learn more about interactive tables.';\n",
              "          element.innerHTML = '';\n",
              "          dataTable['output_type'] = 'display_data';\n",
              "          await google.colab.output.renderOutput(dataTable, element);\n",
              "          const docLink = document.createElement('div');\n",
              "          docLink.innerHTML = docLinkHtml;\n",
              "          element.appendChild(docLink);\n",
              "        }\n",
              "      </script>\n",
              "    </div>\n",
              "  </div>\n",
              "  "
            ]
          },
          "metadata": {},
          "execution_count": 205
        }
      ],
      "source": [
        "df_splits = pd.read_csv('./data/train_test_splits/LIDC_data_split.csv', index_col=0)\n",
        "df_splits.head()"
      ]
    },
    {
      "cell_type": "markdown",
      "source": [
        "First we get all image in a dataframe"
      ],
      "metadata": {
        "id": "PI2oC8EZbkVJ"
      },
      "id": "PI2oC8EZbkVJ"
    },
    {
      "cell_type": "code",
      "source": [
        "images_df = images_to_df()"
      ],
      "metadata": {
        "id": "t0y-F_7gcnwS"
      },
      "id": "t0y-F_7gcnwS",
      "execution_count": 228,
      "outputs": []
    },
    {
      "cell_type": "markdown",
      "id": "20ce5610",
      "metadata": {
        "id": "20ce5610"
      },
      "source": [
        "Next we load in the training data"
      ]
    },
    {
      "cell_type": "code",
      "execution_count": 244,
      "id": "705ab8fd",
      "metadata": {
        "id": "705ab8fd",
        "outputId": "366cf32c-922f-490c-c9af-54010c15421e",
        "colab": {
          "base_uri": "https://localhost:8080/"
        }
      },
      "outputs": [
        {
          "output_type": "stream",
          "name": "stderr",
          "text": [
            "/usr/local/lib/python3.7/dist-packages/pandas/util/_decorators.py:311: SettingWithCopyWarning: \n",
            "A value is trying to be set on a copy of a slice from a DataFrame\n",
            "\n",
            "See the caveats in the documentation: https://pandas.pydata.org/pandas-docs/stable/user_guide/indexing.html#returning-a-view-versus-a-copy\n",
            "  return func(*args, **kwargs)\n",
            "/content/LIDC_GDRO/utils/image_data_utils.py:170: SettingWithCopyWarning: \n",
            "A value is trying to be set on a copy of a slice from a DataFrame.\n",
            "Try using .loc[row_indexer,col_indexer] = value instead\n",
            "\n",
            "See the caveats in the documentation: https://pandas.pydata.org/pandas-docs/stable/user_guide/indexing.html#returning-a-view-versus-a-copy\n",
            "  df_features['clusters'] = df_splits[subclass]\n",
            "/content/LIDC_GDRO/utils/image_data_utils.py:171: SettingWithCopyWarning: \n",
            "A value is trying to be set on a copy of a slice from a DataFrame.\n",
            "Try using .loc[row_indexer,col_indexer] = value instead\n",
            "\n",
            "See the caveats in the documentation: https://pandas.pydata.org/pandas-docs/stable/user_guide/indexing.html#returning-a-view-versus-a-copy\n",
            "  df_features['malignancy_b'] = df_splits['malignancy_b']\n"
          ]
        }
      ],
      "source": [
        "train_data, cv_data, test_data = get_features(images=True, features=images_df, device=DEVICE, subclass='malignancy')\n",
        "\n",
        "#datasets\n",
        "tr = SubclassedDataset(*train_data)\n",
        "cv = SubclassedDataset(*cv_data)\n",
        "tst = SubclassedDataset(*test_data)\n",
        "\n",
        "#dataloaders\n",
        "tr_loader = InfiniteDataLoader(tr, batch_size=512)\n",
        "cv_loader = InfiniteDataLoader(cv, len(cv))\n",
        "tst_loader = InfiniteDataLoader(tst, len(tst))"
      ]
    },
    {
      "cell_type": "markdown",
      "id": "3e67bb4b",
      "metadata": {
        "id": "3e67bb4b"
      },
      "source": [
        "Next we initialize the model!"
      ]
    },
    {
      "cell_type": "code",
      "execution_count": 324,
      "id": "8e1d9ca0",
      "metadata": {
        "colab": {
          "base_uri": "https://localhost:8080/"
        },
        "id": "8e1d9ca0",
        "outputId": "b54d130a-10cd-4120-ffd1-98b1553e83fa"
      },
      "outputs": [
        {
          "output_type": "stream",
          "name": "stderr",
          "text": [
            "/usr/local/lib/python3.7/dist-packages/torchvision/models/_utils.py:209: UserWarning: The parameter 'pretrained' is deprecated since 0.13 and will be removed in 0.15, please use 'weights' instead.\n",
            "  f\"The parameter '{pretrained_param}' is deprecated since 0.13 and will be removed in 0.15, \"\n",
            "/usr/local/lib/python3.7/dist-packages/torchvision/models/_utils.py:223: UserWarning: Arguments other than a weight enum or `None` for 'weights' are deprecated since 0.13 and will be removed in 0.15. The current behavior is equivalent to passing `weights=ResNet18_Weights.IMAGENET1K_V1`. You can also use `weights=ResNet18_Weights.DEFAULT` to get the most up-to-date weights.\n",
            "  warnings.warn(msg)\n"
          ]
        }
      ],
      "source": [
        "model = TransferModel18(device=DEVICE, pretrained=True, freeze=False)\n",
        "optimizer = torch.optim.Adam(model.parameters(), lr=0.0005, weight_decay=0.005)"
      ]
    },
    {
      "cell_type": "markdown",
      "id": "ea80e03e",
      "metadata": {
        "id": "ea80e03e"
      },
      "source": [
        "Now we train the model"
      ]
    },
    {
      "cell_type": "code",
      "execution_count": 325,
      "id": "71093588",
      "metadata": {
        "colab": {
          "base_uri": "https://localhost:8080/"
        },
        "id": "71093588",
        "outputId": "4a5e0087-ed73-4f0c-d417-df0e1bf3fb9d"
      },
      "outputs": [
        {
          "output_type": "stream",
          "name": "stdout",
          "text": [
            "Epoch 1 / 20\n",
            "Epoch 2 / 20\n",
            "Epoch 3 / 20\n",
            "Epoch 4 / 20\n",
            "Epoch 5 / 20\n",
            "Epoch 6 / 20\n",
            "Epoch 7 / 20\n",
            "Epoch 8 / 20\n",
            "Epoch 9 / 20\n",
            "Epoch 00009: reducing learning rate of group 0 to 1.0000e-04.\n",
            "Epoch 10 / 20\n",
            "Epoch 11 / 20\n",
            "Epoch 12 / 20\n",
            "Epoch 00012: reducing learning rate of group 0 to 2.0000e-05.\n",
            "Epoch 13 / 20\n",
            "Epoch 14 / 20\n",
            "Epoch 15 / 20\n",
            "Epoch 00015: reducing learning rate of group 0 to 4.0000e-06.\n",
            "Epoch 16 / 20\n",
            "Epoch 17 / 20\n",
            "Epoch 18 / 20\n",
            "Epoch 00018: reducing learning rate of group 0 to 8.0000e-07.\n",
            "Epoch 19 / 20\n",
            "Epoch 20 / 20\n"
          ]
        }
      ],
      "source": [
        "epochs = 20\n",
        "loss_fn = ERMLoss(model, torch.nn.CrossEntropyLoss())\n",
        "train_epochs(epochs, tr_loader, tst_loader, model, loss_fn, optimizer, scheduler=ReduceLROnPlateau(optimizer, mode='max', factor=0.2, patience=2, verbose=True), verbose=True, num_subclasses=4)"
      ]
    },
    {
      "cell_type": "code",
      "execution_count": 326,
      "id": "fc9ce04e",
      "metadata": {
        "colab": {
          "base_uri": "https://localhost:8080/"
        },
        "id": "fc9ce04e",
        "outputId": "db1db5a1-c652-48cd-ddbc-9ffe2bc12e60"
      },
      "outputs": [
        {
          "output_type": "stream",
          "name": "stdout",
          "text": [
            "Accuracy: 0.8970099667774086 \n",
            "Accuracy over subgroups: [0.95588235 0.91150442 0.77777778 0.95833333] \n",
            "Worst Group Accuracy: 0.7777777777777778\n"
          ]
        },
        {
          "output_type": "execute_result",
          "data": {
            "text/plain": [
              "(0.8970099667774086,\n",
              " 0.9558823529411765,\n",
              " 0.911504424778761,\n",
              " 0.7777777777777778,\n",
              " 0.9583333333333334)"
            ]
          },
          "metadata": {},
          "execution_count": 326
        }
      ],
      "source": [
        "evaluate(tst_loader,model, 4, verbose=True)"
      ]
    },
    {
      "cell_type": "markdown",
      "id": "ec354ef2",
      "metadata": {
        "id": "ec354ef2"
      },
      "source": [
        "### Feature Extraction"
      ]
    },
    {
      "cell_type": "markdown",
      "id": "0c7cc857",
      "metadata": {
        "id": "0c7cc857"
      },
      "source": [
        "We first save model weights (for reproducibility)"
      ]
    },
    {
      "cell_type": "code",
      "execution_count": 327,
      "id": "fd8d09a9",
      "metadata": {
        "id": "fd8d09a9"
      },
      "outputs": [],
      "source": [
        " torch.save(model.state_dict(), './data/erm_cluster_weights.pt')"
      ]
    },
    {
      "cell_type": "markdown",
      "id": "8e8f3145",
      "metadata": {
        "id": "8e8f3145"
      },
      "source": [
        "Next we add hooks to let us get activations"
      ]
    },
    {
      "cell_type": "code",
      "execution_count": 328,
      "id": "66a8a339",
      "metadata": {
        "colab": {
          "base_uri": "https://localhost:8080/"
        },
        "id": "66a8a339",
        "outputId": "845c0bda-aa17-45a4-82fd-f6d36208545f"
      },
      "outputs": [
        {
          "output_type": "execute_result",
          "data": {
            "text/plain": [
              "<torch.utils.hooks.RemovableHandle at 0x7f18a22ab7d0>"
            ]
          },
          "metadata": {},
          "execution_count": 328
        }
      ],
      "source": [
        "activation = {}\n",
        "def get_activation(name):\n",
        "    def hook(model, input, output):\n",
        "        activation[name] = output.detach()\n",
        "    return hook\n",
        "model.model.avgpool.register_forward_hook(get_activation('avgpool'))"
      ]
    },
    {
      "cell_type": "markdown",
      "id": "5ede3962",
      "metadata": {
        "id": "5ede3962"
      },
      "source": [
        "We re get the data, but in its entirety with the noduleID"
      ]
    },
    {
      "cell_type": "code",
      "execution_count": 329,
      "id": "9c03c43d",
      "metadata": {
        "id": "9c03c43d"
      },
      "outputs": [],
      "source": [
        "noduleID, data = images_df['noduleID'], torch.stack(list(images_df['image'])).to(DEVICE)"
      ]
    },
    {
      "cell_type": "markdown",
      "id": "a10032b2",
      "metadata": {
        "id": "a10032b2"
      },
      "source": [
        "Now we extract features"
      ]
    },
    {
      "cell_type": "code",
      "execution_count": 330,
      "id": "2ff5e0d6",
      "metadata": {
        "id": "2ff5e0d6"
      },
      "outputs": [],
      "source": [
        "model(data)\n",
        "img_features = activation['avgpool'].squeeze()"
      ]
    },
    {
      "cell_type": "markdown",
      "id": "63226cd7",
      "metadata": {
        "id": "63226cd7"
      },
      "source": [
        "We collect all the features in a dataframe"
      ]
    },
    {
      "cell_type": "code",
      "execution_count": 331,
      "id": "f39cf983",
      "metadata": {
        "colab": {
          "base_uri": "https://localhost:8080/",
          "height": 235
        },
        "id": "f39cf983",
        "outputId": "0c941ab9-a757-4ee2-9399-1b311fcd58c4"
      },
      "outputs": [
        {
          "output_type": "execute_result",
          "data": {
            "text/plain": [
              "   noduleID         1         2         3         4         5         6  \\\n",
              "0         1  3.001984  3.955760  0.000000  0.047439  0.118563  1.930222   \n",
              "1         2  0.004841  0.395295  0.396743  0.636856  0.082624  0.000000   \n",
              "2         3  4.170076  4.172026  0.000000  3.539207  0.044544  3.371860   \n",
              "3         4  0.000000  0.679247  0.192866  2.326347  0.212027  0.000000   \n",
              "4         5  0.008979  0.452534  0.726292  1.448723  0.581889  0.000000   \n",
              "\n",
              "          7         8         9  ...       503       504       505       506  \\\n",
              "0  0.000000  4.323686  0.000000  ...  3.108189  2.039171  0.000000  2.889141   \n",
              "1  0.696826  0.421392  2.993743  ...  0.042550  0.027905  0.022463  0.397016   \n",
              "2  0.569146  7.106600  1.062717  ...  2.284575  2.693749  0.731998  3.153088   \n",
              "3  0.002893  0.278908  2.425044  ...  0.457562  0.000000  0.063712  0.874737   \n",
              "4  0.659726  0.000000  1.144291  ...  0.006317  0.016609  0.227588  0.118948   \n",
              "\n",
              "        507       508       509       510       511       512  \n",
              "0  0.000000  3.226876  0.000000  2.430868  3.325588  0.000000  \n",
              "1  1.273812  0.044062  0.664280  0.000000  0.107426  0.074634  \n",
              "2  0.000000  5.021754  0.000000  4.429053  5.855424  0.000000  \n",
              "3  0.711508  0.483722  0.713056  0.000000  0.094785  0.000000  \n",
              "4  0.191223  0.161482  0.517794  0.000000  0.071614  0.121186  \n",
              "\n",
              "[5 rows x 513 columns]"
            ],
            "text/html": [
              "\n",
              "  <div id=\"df-a6bd8b33-3ba6-4555-ad2a-77077005cd09\">\n",
              "    <div class=\"colab-df-container\">\n",
              "      <div>\n",
              "<style scoped>\n",
              "    .dataframe tbody tr th:only-of-type {\n",
              "        vertical-align: middle;\n",
              "    }\n",
              "\n",
              "    .dataframe tbody tr th {\n",
              "        vertical-align: top;\n",
              "    }\n",
              "\n",
              "    .dataframe thead th {\n",
              "        text-align: right;\n",
              "    }\n",
              "</style>\n",
              "<table border=\"1\" class=\"dataframe\">\n",
              "  <thead>\n",
              "    <tr style=\"text-align: right;\">\n",
              "      <th></th>\n",
              "      <th>noduleID</th>\n",
              "      <th>1</th>\n",
              "      <th>2</th>\n",
              "      <th>3</th>\n",
              "      <th>4</th>\n",
              "      <th>5</th>\n",
              "      <th>6</th>\n",
              "      <th>7</th>\n",
              "      <th>8</th>\n",
              "      <th>9</th>\n",
              "      <th>...</th>\n",
              "      <th>503</th>\n",
              "      <th>504</th>\n",
              "      <th>505</th>\n",
              "      <th>506</th>\n",
              "      <th>507</th>\n",
              "      <th>508</th>\n",
              "      <th>509</th>\n",
              "      <th>510</th>\n",
              "      <th>511</th>\n",
              "      <th>512</th>\n",
              "    </tr>\n",
              "  </thead>\n",
              "  <tbody>\n",
              "    <tr>\n",
              "      <th>0</th>\n",
              "      <td>1</td>\n",
              "      <td>3.001984</td>\n",
              "      <td>3.955760</td>\n",
              "      <td>0.000000</td>\n",
              "      <td>0.047439</td>\n",
              "      <td>0.118563</td>\n",
              "      <td>1.930222</td>\n",
              "      <td>0.000000</td>\n",
              "      <td>4.323686</td>\n",
              "      <td>0.000000</td>\n",
              "      <td>...</td>\n",
              "      <td>3.108189</td>\n",
              "      <td>2.039171</td>\n",
              "      <td>0.000000</td>\n",
              "      <td>2.889141</td>\n",
              "      <td>0.000000</td>\n",
              "      <td>3.226876</td>\n",
              "      <td>0.000000</td>\n",
              "      <td>2.430868</td>\n",
              "      <td>3.325588</td>\n",
              "      <td>0.000000</td>\n",
              "    </tr>\n",
              "    <tr>\n",
              "      <th>1</th>\n",
              "      <td>2</td>\n",
              "      <td>0.004841</td>\n",
              "      <td>0.395295</td>\n",
              "      <td>0.396743</td>\n",
              "      <td>0.636856</td>\n",
              "      <td>0.082624</td>\n",
              "      <td>0.000000</td>\n",
              "      <td>0.696826</td>\n",
              "      <td>0.421392</td>\n",
              "      <td>2.993743</td>\n",
              "      <td>...</td>\n",
              "      <td>0.042550</td>\n",
              "      <td>0.027905</td>\n",
              "      <td>0.022463</td>\n",
              "      <td>0.397016</td>\n",
              "      <td>1.273812</td>\n",
              "      <td>0.044062</td>\n",
              "      <td>0.664280</td>\n",
              "      <td>0.000000</td>\n",
              "      <td>0.107426</td>\n",
              "      <td>0.074634</td>\n",
              "    </tr>\n",
              "    <tr>\n",
              "      <th>2</th>\n",
              "      <td>3</td>\n",
              "      <td>4.170076</td>\n",
              "      <td>4.172026</td>\n",
              "      <td>0.000000</td>\n",
              "      <td>3.539207</td>\n",
              "      <td>0.044544</td>\n",
              "      <td>3.371860</td>\n",
              "      <td>0.569146</td>\n",
              "      <td>7.106600</td>\n",
              "      <td>1.062717</td>\n",
              "      <td>...</td>\n",
              "      <td>2.284575</td>\n",
              "      <td>2.693749</td>\n",
              "      <td>0.731998</td>\n",
              "      <td>3.153088</td>\n",
              "      <td>0.000000</td>\n",
              "      <td>5.021754</td>\n",
              "      <td>0.000000</td>\n",
              "      <td>4.429053</td>\n",
              "      <td>5.855424</td>\n",
              "      <td>0.000000</td>\n",
              "    </tr>\n",
              "    <tr>\n",
              "      <th>3</th>\n",
              "      <td>4</td>\n",
              "      <td>0.000000</td>\n",
              "      <td>0.679247</td>\n",
              "      <td>0.192866</td>\n",
              "      <td>2.326347</td>\n",
              "      <td>0.212027</td>\n",
              "      <td>0.000000</td>\n",
              "      <td>0.002893</td>\n",
              "      <td>0.278908</td>\n",
              "      <td>2.425044</td>\n",
              "      <td>...</td>\n",
              "      <td>0.457562</td>\n",
              "      <td>0.000000</td>\n",
              "      <td>0.063712</td>\n",
              "      <td>0.874737</td>\n",
              "      <td>0.711508</td>\n",
              "      <td>0.483722</td>\n",
              "      <td>0.713056</td>\n",
              "      <td>0.000000</td>\n",
              "      <td>0.094785</td>\n",
              "      <td>0.000000</td>\n",
              "    </tr>\n",
              "    <tr>\n",
              "      <th>4</th>\n",
              "      <td>5</td>\n",
              "      <td>0.008979</td>\n",
              "      <td>0.452534</td>\n",
              "      <td>0.726292</td>\n",
              "      <td>1.448723</td>\n",
              "      <td>0.581889</td>\n",
              "      <td>0.000000</td>\n",
              "      <td>0.659726</td>\n",
              "      <td>0.000000</td>\n",
              "      <td>1.144291</td>\n",
              "      <td>...</td>\n",
              "      <td>0.006317</td>\n",
              "      <td>0.016609</td>\n",
              "      <td>0.227588</td>\n",
              "      <td>0.118948</td>\n",
              "      <td>0.191223</td>\n",
              "      <td>0.161482</td>\n",
              "      <td>0.517794</td>\n",
              "      <td>0.000000</td>\n",
              "      <td>0.071614</td>\n",
              "      <td>0.121186</td>\n",
              "    </tr>\n",
              "  </tbody>\n",
              "</table>\n",
              "<p>5 rows × 513 columns</p>\n",
              "</div>\n",
              "      <button class=\"colab-df-convert\" onclick=\"convertToInteractive('df-a6bd8b33-3ba6-4555-ad2a-77077005cd09')\"\n",
              "              title=\"Convert this dataframe to an interactive table.\"\n",
              "              style=\"display:none;\">\n",
              "        \n",
              "  <svg xmlns=\"http://www.w3.org/2000/svg\" height=\"24px\"viewBox=\"0 0 24 24\"\n",
              "       width=\"24px\">\n",
              "    <path d=\"M0 0h24v24H0V0z\" fill=\"none\"/>\n",
              "    <path d=\"M18.56 5.44l.94 2.06.94-2.06 2.06-.94-2.06-.94-.94-2.06-.94 2.06-2.06.94zm-11 1L8.5 8.5l.94-2.06 2.06-.94-2.06-.94L8.5 2.5l-.94 2.06-2.06.94zm10 10l.94 2.06.94-2.06 2.06-.94-2.06-.94-.94-2.06-.94 2.06-2.06.94z\"/><path d=\"M17.41 7.96l-1.37-1.37c-.4-.4-.92-.59-1.43-.59-.52 0-1.04.2-1.43.59L10.3 9.45l-7.72 7.72c-.78.78-.78 2.05 0 2.83L4 21.41c.39.39.9.59 1.41.59.51 0 1.02-.2 1.41-.59l7.78-7.78 2.81-2.81c.8-.78.8-2.07 0-2.86zM5.41 20L4 18.59l7.72-7.72 1.47 1.35L5.41 20z\"/>\n",
              "  </svg>\n",
              "      </button>\n",
              "      \n",
              "  <style>\n",
              "    .colab-df-container {\n",
              "      display:flex;\n",
              "      flex-wrap:wrap;\n",
              "      gap: 12px;\n",
              "    }\n",
              "\n",
              "    .colab-df-convert {\n",
              "      background-color: #E8F0FE;\n",
              "      border: none;\n",
              "      border-radius: 50%;\n",
              "      cursor: pointer;\n",
              "      display: none;\n",
              "      fill: #1967D2;\n",
              "      height: 32px;\n",
              "      padding: 0 0 0 0;\n",
              "      width: 32px;\n",
              "    }\n",
              "\n",
              "    .colab-df-convert:hover {\n",
              "      background-color: #E2EBFA;\n",
              "      box-shadow: 0px 1px 2px rgba(60, 64, 67, 0.3), 0px 1px 3px 1px rgba(60, 64, 67, 0.15);\n",
              "      fill: #174EA6;\n",
              "    }\n",
              "\n",
              "    [theme=dark] .colab-df-convert {\n",
              "      background-color: #3B4455;\n",
              "      fill: #D2E3FC;\n",
              "    }\n",
              "\n",
              "    [theme=dark] .colab-df-convert:hover {\n",
              "      background-color: #434B5C;\n",
              "      box-shadow: 0px 1px 3px 1px rgba(0, 0, 0, 0.15);\n",
              "      filter: drop-shadow(0px 1px 2px rgba(0, 0, 0, 0.3));\n",
              "      fill: #FFFFFF;\n",
              "    }\n",
              "  </style>\n",
              "\n",
              "      <script>\n",
              "        const buttonEl =\n",
              "          document.querySelector('#df-a6bd8b33-3ba6-4555-ad2a-77077005cd09 button.colab-df-convert');\n",
              "        buttonEl.style.display =\n",
              "          google.colab.kernel.accessAllowed ? 'block' : 'none';\n",
              "\n",
              "        async function convertToInteractive(key) {\n",
              "          const element = document.querySelector('#df-a6bd8b33-3ba6-4555-ad2a-77077005cd09');\n",
              "          const dataTable =\n",
              "            await google.colab.kernel.invokeFunction('convertToInteractive',\n",
              "                                                     [key], {});\n",
              "          if (!dataTable) return;\n",
              "\n",
              "          const docLinkHtml = 'Like what you see? Visit the ' +\n",
              "            '<a target=\"_blank\" href=https://colab.research.google.com/notebooks/data_table.ipynb>data table notebook</a>'\n",
              "            + ' to learn more about interactive tables.';\n",
              "          element.innerHTML = '';\n",
              "          dataTable['output_type'] = 'display_data';\n",
              "          await google.colab.output.renderOutput(dataTable, element);\n",
              "          const docLink = document.createElement('div');\n",
              "          docLink.innerHTML = docLinkHtml;\n",
              "          element.appendChild(docLink);\n",
              "        }\n",
              "      </script>\n",
              "    </div>\n",
              "  </div>\n",
              "  "
            ]
          },
          "metadata": {},
          "execution_count": 331
        }
      ],
      "source": [
        "cols = []\n",
        "for idx,id in enumerate(noduleID):\n",
        "  cols.append([id] + img_features[idx].cpu().numpy().tolist())\n",
        "df_features_all = pd.DataFrame(cols).rename({0:'noduleID'}, axis=1)\n",
        "df_features_all.sort_values('noduleID', inplace=True)\n",
        "df_features_all.reset_index(drop=True, inplace=True)\n",
        "df_features_all.head()"
      ]
    },
    {
      "cell_type": "markdown",
      "id": "dff4045d",
      "metadata": {
        "id": "dff4045d"
      },
      "source": [
        "We again save the data for reproducibility"
      ]
    },
    {
      "cell_type": "code",
      "execution_count": 332,
      "id": "baffd36c",
      "metadata": {
        "id": "baffd36c"
      },
      "outputs": [],
      "source": [
        "df_features_all.to_csv('./data/erm_cluster_cnn_features.csv')"
      ]
    },
    {
      "cell_type": "code",
      "source": [
        "df_features = df_features_all[df_features_all['noduleID'].isin(df_splits['noduleID'])]\n",
        "df_features.sort_values('noduleID', inplace=True)\n",
        "df_features.reset_index(drop=True, inplace=True)\n",
        "\n",
        "df_features['split'] = df_splits['split']\n",
        "df_features['malignancy'] = df_splits['malignancy']\n",
        "\n",
        "df_features.head()"
      ],
      "metadata": {
        "id": "5uoNBVaygtKm",
        "outputId": "823d886b-0711-42a5-e4e6-b995017124c3",
        "colab": {
          "base_uri": "https://localhost:8080/",
          "height": 531
        }
      },
      "id": "5uoNBVaygtKm",
      "execution_count": 333,
      "outputs": [
        {
          "output_type": "stream",
          "name": "stderr",
          "text": [
            "/usr/local/lib/python3.7/dist-packages/pandas/util/_decorators.py:311: SettingWithCopyWarning: \n",
            "A value is trying to be set on a copy of a slice from a DataFrame\n",
            "\n",
            "See the caveats in the documentation: https://pandas.pydata.org/pandas-docs/stable/user_guide/indexing.html#returning-a-view-versus-a-copy\n",
            "  return func(*args, **kwargs)\n",
            "/usr/local/lib/python3.7/dist-packages/ipykernel_launcher.py:5: SettingWithCopyWarning: \n",
            "A value is trying to be set on a copy of a slice from a DataFrame.\n",
            "Try using .loc[row_indexer,col_indexer] = value instead\n",
            "\n",
            "See the caveats in the documentation: https://pandas.pydata.org/pandas-docs/stable/user_guide/indexing.html#returning-a-view-versus-a-copy\n",
            "  \"\"\"\n",
            "/usr/local/lib/python3.7/dist-packages/ipykernel_launcher.py:6: SettingWithCopyWarning: \n",
            "A value is trying to be set on a copy of a slice from a DataFrame.\n",
            "Try using .loc[row_indexer,col_indexer] = value instead\n",
            "\n",
            "See the caveats in the documentation: https://pandas.pydata.org/pandas-docs/stable/user_guide/indexing.html#returning-a-view-versus-a-copy\n",
            "  \n"
          ]
        },
        {
          "output_type": "execute_result",
          "data": {
            "text/plain": [
              "   noduleID         1         2         3         4         5         6  \\\n",
              "0         1  3.001984  3.955760  0.000000  0.047439  0.118563  1.930222   \n",
              "1         2  0.004841  0.395295  0.396743  0.636856  0.082624  0.000000   \n",
              "2         3  4.170076  4.172026  0.000000  3.539207  0.044544  3.371860   \n",
              "3         4  0.000000  0.679247  0.192866  2.326347  0.212027  0.000000   \n",
              "4         5  0.008979  0.452534  0.726292  1.448723  0.581889  0.000000   \n",
              "\n",
              "          7         8         9  ...       505       506       507       508  \\\n",
              "0  0.000000  4.323686  0.000000  ...  0.000000  2.889141  0.000000  3.226876   \n",
              "1  0.696826  0.421392  2.993743  ...  0.022463  0.397016  1.273812  0.044062   \n",
              "2  0.569146  7.106600  1.062717  ...  0.731998  3.153088  0.000000  5.021754   \n",
              "3  0.002893  0.278908  2.425044  ...  0.063712  0.874737  0.711508  0.483722   \n",
              "4  0.659726  0.000000  1.144291  ...  0.227588  0.118948  0.191223  0.161482   \n",
              "\n",
              "        509       510       511       512  split  malignancy  \n",
              "0  0.000000  2.430868  3.325588  0.000000      0           3  \n",
              "1  0.664280  0.000000  0.107426  0.074634      0           3  \n",
              "2  0.000000  4.429053  5.855424  0.000000      1           3  \n",
              "3  0.713056  0.000000  0.094785  0.000000      0           2  \n",
              "4  0.517794  0.000000  0.071614  0.121186      2           2  \n",
              "\n",
              "[5 rows x 515 columns]"
            ],
            "text/html": [
              "\n",
              "  <div id=\"df-537109c8-791c-4f45-9448-2ad2a4dd310a\">\n",
              "    <div class=\"colab-df-container\">\n",
              "      <div>\n",
              "<style scoped>\n",
              "    .dataframe tbody tr th:only-of-type {\n",
              "        vertical-align: middle;\n",
              "    }\n",
              "\n",
              "    .dataframe tbody tr th {\n",
              "        vertical-align: top;\n",
              "    }\n",
              "\n",
              "    .dataframe thead th {\n",
              "        text-align: right;\n",
              "    }\n",
              "</style>\n",
              "<table border=\"1\" class=\"dataframe\">\n",
              "  <thead>\n",
              "    <tr style=\"text-align: right;\">\n",
              "      <th></th>\n",
              "      <th>noduleID</th>\n",
              "      <th>1</th>\n",
              "      <th>2</th>\n",
              "      <th>3</th>\n",
              "      <th>4</th>\n",
              "      <th>5</th>\n",
              "      <th>6</th>\n",
              "      <th>7</th>\n",
              "      <th>8</th>\n",
              "      <th>9</th>\n",
              "      <th>...</th>\n",
              "      <th>505</th>\n",
              "      <th>506</th>\n",
              "      <th>507</th>\n",
              "      <th>508</th>\n",
              "      <th>509</th>\n",
              "      <th>510</th>\n",
              "      <th>511</th>\n",
              "      <th>512</th>\n",
              "      <th>split</th>\n",
              "      <th>malignancy</th>\n",
              "    </tr>\n",
              "  </thead>\n",
              "  <tbody>\n",
              "    <tr>\n",
              "      <th>0</th>\n",
              "      <td>1</td>\n",
              "      <td>3.001984</td>\n",
              "      <td>3.955760</td>\n",
              "      <td>0.000000</td>\n",
              "      <td>0.047439</td>\n",
              "      <td>0.118563</td>\n",
              "      <td>1.930222</td>\n",
              "      <td>0.000000</td>\n",
              "      <td>4.323686</td>\n",
              "      <td>0.000000</td>\n",
              "      <td>...</td>\n",
              "      <td>0.000000</td>\n",
              "      <td>2.889141</td>\n",
              "      <td>0.000000</td>\n",
              "      <td>3.226876</td>\n",
              "      <td>0.000000</td>\n",
              "      <td>2.430868</td>\n",
              "      <td>3.325588</td>\n",
              "      <td>0.000000</td>\n",
              "      <td>0</td>\n",
              "      <td>3</td>\n",
              "    </tr>\n",
              "    <tr>\n",
              "      <th>1</th>\n",
              "      <td>2</td>\n",
              "      <td>0.004841</td>\n",
              "      <td>0.395295</td>\n",
              "      <td>0.396743</td>\n",
              "      <td>0.636856</td>\n",
              "      <td>0.082624</td>\n",
              "      <td>0.000000</td>\n",
              "      <td>0.696826</td>\n",
              "      <td>0.421392</td>\n",
              "      <td>2.993743</td>\n",
              "      <td>...</td>\n",
              "      <td>0.022463</td>\n",
              "      <td>0.397016</td>\n",
              "      <td>1.273812</td>\n",
              "      <td>0.044062</td>\n",
              "      <td>0.664280</td>\n",
              "      <td>0.000000</td>\n",
              "      <td>0.107426</td>\n",
              "      <td>0.074634</td>\n",
              "      <td>0</td>\n",
              "      <td>3</td>\n",
              "    </tr>\n",
              "    <tr>\n",
              "      <th>2</th>\n",
              "      <td>3</td>\n",
              "      <td>4.170076</td>\n",
              "      <td>4.172026</td>\n",
              "      <td>0.000000</td>\n",
              "      <td>3.539207</td>\n",
              "      <td>0.044544</td>\n",
              "      <td>3.371860</td>\n",
              "      <td>0.569146</td>\n",
              "      <td>7.106600</td>\n",
              "      <td>1.062717</td>\n",
              "      <td>...</td>\n",
              "      <td>0.731998</td>\n",
              "      <td>3.153088</td>\n",
              "      <td>0.000000</td>\n",
              "      <td>5.021754</td>\n",
              "      <td>0.000000</td>\n",
              "      <td>4.429053</td>\n",
              "      <td>5.855424</td>\n",
              "      <td>0.000000</td>\n",
              "      <td>1</td>\n",
              "      <td>3</td>\n",
              "    </tr>\n",
              "    <tr>\n",
              "      <th>3</th>\n",
              "      <td>4</td>\n",
              "      <td>0.000000</td>\n",
              "      <td>0.679247</td>\n",
              "      <td>0.192866</td>\n",
              "      <td>2.326347</td>\n",
              "      <td>0.212027</td>\n",
              "      <td>0.000000</td>\n",
              "      <td>0.002893</td>\n",
              "      <td>0.278908</td>\n",
              "      <td>2.425044</td>\n",
              "      <td>...</td>\n",
              "      <td>0.063712</td>\n",
              "      <td>0.874737</td>\n",
              "      <td>0.711508</td>\n",
              "      <td>0.483722</td>\n",
              "      <td>0.713056</td>\n",
              "      <td>0.000000</td>\n",
              "      <td>0.094785</td>\n",
              "      <td>0.000000</td>\n",
              "      <td>0</td>\n",
              "      <td>2</td>\n",
              "    </tr>\n",
              "    <tr>\n",
              "      <th>4</th>\n",
              "      <td>5</td>\n",
              "      <td>0.008979</td>\n",
              "      <td>0.452534</td>\n",
              "      <td>0.726292</td>\n",
              "      <td>1.448723</td>\n",
              "      <td>0.581889</td>\n",
              "      <td>0.000000</td>\n",
              "      <td>0.659726</td>\n",
              "      <td>0.000000</td>\n",
              "      <td>1.144291</td>\n",
              "      <td>...</td>\n",
              "      <td>0.227588</td>\n",
              "      <td>0.118948</td>\n",
              "      <td>0.191223</td>\n",
              "      <td>0.161482</td>\n",
              "      <td>0.517794</td>\n",
              "      <td>0.000000</td>\n",
              "      <td>0.071614</td>\n",
              "      <td>0.121186</td>\n",
              "      <td>2</td>\n",
              "      <td>2</td>\n",
              "    </tr>\n",
              "  </tbody>\n",
              "</table>\n",
              "<p>5 rows × 515 columns</p>\n",
              "</div>\n",
              "      <button class=\"colab-df-convert\" onclick=\"convertToInteractive('df-537109c8-791c-4f45-9448-2ad2a4dd310a')\"\n",
              "              title=\"Convert this dataframe to an interactive table.\"\n",
              "              style=\"display:none;\">\n",
              "        \n",
              "  <svg xmlns=\"http://www.w3.org/2000/svg\" height=\"24px\"viewBox=\"0 0 24 24\"\n",
              "       width=\"24px\">\n",
              "    <path d=\"M0 0h24v24H0V0z\" fill=\"none\"/>\n",
              "    <path d=\"M18.56 5.44l.94 2.06.94-2.06 2.06-.94-2.06-.94-.94-2.06-.94 2.06-2.06.94zm-11 1L8.5 8.5l.94-2.06 2.06-.94-2.06-.94L8.5 2.5l-.94 2.06-2.06.94zm10 10l.94 2.06.94-2.06 2.06-.94-2.06-.94-.94-2.06-.94 2.06-2.06.94z\"/><path d=\"M17.41 7.96l-1.37-1.37c-.4-.4-.92-.59-1.43-.59-.52 0-1.04.2-1.43.59L10.3 9.45l-7.72 7.72c-.78.78-.78 2.05 0 2.83L4 21.41c.39.39.9.59 1.41.59.51 0 1.02-.2 1.41-.59l7.78-7.78 2.81-2.81c.8-.78.8-2.07 0-2.86zM5.41 20L4 18.59l7.72-7.72 1.47 1.35L5.41 20z\"/>\n",
              "  </svg>\n",
              "      </button>\n",
              "      \n",
              "  <style>\n",
              "    .colab-df-container {\n",
              "      display:flex;\n",
              "      flex-wrap:wrap;\n",
              "      gap: 12px;\n",
              "    }\n",
              "\n",
              "    .colab-df-convert {\n",
              "      background-color: #E8F0FE;\n",
              "      border: none;\n",
              "      border-radius: 50%;\n",
              "      cursor: pointer;\n",
              "      display: none;\n",
              "      fill: #1967D2;\n",
              "      height: 32px;\n",
              "      padding: 0 0 0 0;\n",
              "      width: 32px;\n",
              "    }\n",
              "\n",
              "    .colab-df-convert:hover {\n",
              "      background-color: #E2EBFA;\n",
              "      box-shadow: 0px 1px 2px rgba(60, 64, 67, 0.3), 0px 1px 3px 1px rgba(60, 64, 67, 0.15);\n",
              "      fill: #174EA6;\n",
              "    }\n",
              "\n",
              "    [theme=dark] .colab-df-convert {\n",
              "      background-color: #3B4455;\n",
              "      fill: #D2E3FC;\n",
              "    }\n",
              "\n",
              "    [theme=dark] .colab-df-convert:hover {\n",
              "      background-color: #434B5C;\n",
              "      box-shadow: 0px 1px 3px 1px rgba(0, 0, 0, 0.15);\n",
              "      filter: drop-shadow(0px 1px 2px rgba(0, 0, 0, 0.3));\n",
              "      fill: #FFFFFF;\n",
              "    }\n",
              "  </style>\n",
              "\n",
              "      <script>\n",
              "        const buttonEl =\n",
              "          document.querySelector('#df-537109c8-791c-4f45-9448-2ad2a4dd310a button.colab-df-convert');\n",
              "        buttonEl.style.display =\n",
              "          google.colab.kernel.accessAllowed ? 'block' : 'none';\n",
              "\n",
              "        async function convertToInteractive(key) {\n",
              "          const element = document.querySelector('#df-537109c8-791c-4f45-9448-2ad2a4dd310a');\n",
              "          const dataTable =\n",
              "            await google.colab.kernel.invokeFunction('convertToInteractive',\n",
              "                                                     [key], {});\n",
              "          if (!dataTable) return;\n",
              "\n",
              "          const docLinkHtml = 'Like what you see? Visit the ' +\n",
              "            '<a target=\"_blank\" href=https://colab.research.google.com/notebooks/data_table.ipynb>data table notebook</a>'\n",
              "            + ' to learn more about interactive tables.';\n",
              "          element.innerHTML = '';\n",
              "          dataTable['output_type'] = 'display_data';\n",
              "          await google.colab.output.renderOutput(dataTable, element);\n",
              "          const docLink = document.createElement('div');\n",
              "          docLink.innerHTML = docLinkHtml;\n",
              "          element.appendChild(docLink);\n",
              "        }\n",
              "      </script>\n",
              "    </div>\n",
              "  </div>\n",
              "  "
            ]
          },
          "metadata": {},
          "execution_count": 333
        }
      ]
    },
    {
      "cell_type": "markdown",
      "id": "f01fe687",
      "metadata": {
        "id": "f01fe687"
      },
      "source": [
        "## Feature Reduce and Cluster"
      ]
    },
    {
      "cell_type": "markdown",
      "id": "f4ca88b0",
      "metadata": {
        "id": "f4ca88b0"
      },
      "source": [
        "### Feature Reduce"
      ]
    },
    {
      "cell_type": "markdown",
      "id": "ade3caf3",
      "metadata": {
        "id": "ade3caf3"
      },
      "source": [
        "First we split df into two by the splits"
      ]
    },
    {
      "cell_type": "code",
      "execution_count": 334,
      "id": "6e8d89fc",
      "metadata": {
        "id": "6e8d89fc"
      },
      "outputs": [],
      "source": [
        "df_features_train = df_features[df_features['split'] == 0]\n",
        "df_features_cv_test = df_features[df_features['split'] != 0]\n"
      ]
    },
    {
      "cell_type": "markdown",
      "id": "916d56c4",
      "metadata": {
        "id": "916d56c4"
      },
      "source": [
        "Next we get the features in an array"
      ]
    },
    {
      "cell_type": "code",
      "execution_count": 335,
      "id": "6929144a",
      "metadata": {
        "id": "6929144a"
      },
      "outputs": [],
      "source": [
        "train_features = df_features_train.drop(['noduleID', 'split', 'malignancy'], axis=1).values\n",
        "cv_test_features = df_features_cv_test.drop(['noduleID', 'split', 'malignancy'], axis=1).values\n",
        "\n",
        "all_features = df_features_all.drop(['noduleID'], axis=1).values"
      ]
    },
    {
      "cell_type": "markdown",
      "id": "3af995b2",
      "metadata": {
        "id": "3af995b2"
      },
      "source": [
        "Following the George paper, we use UMAP to dimensionaly reduce our data"
      ]
    },
    {
      "cell_type": "code",
      "execution_count": 336,
      "id": "a73c3b33",
      "metadata": {
        "colab": {
          "base_uri": "https://localhost:8080/"
        },
        "id": "a73c3b33",
        "outputId": "cce0a411-00e4-426d-b899-c4b3f31716b7"
      },
      "outputs": [
        {
          "output_type": "execute_result",
          "data": {
            "text/plain": [
              "UMAP(random_state=8, tqdm_kwds={'bar_format': '{desc}: {percentage:3.0f}%| {bar} {n_fmt}/{total_fmt} [{elapsed}]', 'desc': 'Epochs completed', 'disable': True})"
            ]
          },
          "metadata": {},
          "execution_count": 336
        }
      ],
      "source": [
        "reducer = UMAP(random_state=8)\n",
        "reducer.fit(train_features)"
      ]
    },
    {
      "cell_type": "code",
      "execution_count": 337,
      "id": "70a7252d",
      "metadata": {
        "id": "70a7252d"
      },
      "outputs": [],
      "source": [
        "train_embeds = reducer.transform(train_features)"
      ]
    },
    {
      "cell_type": "markdown",
      "id": "3f50a812",
      "metadata": {
        "id": "3f50a812"
      },
      "source": [
        "Now we visualize the reduction on train dataset"
      ]
    },
    {
      "cell_type": "code",
      "execution_count": 338,
      "id": "XlPlr1ZQhb5f",
      "metadata": {
        "colab": {
          "base_uri": "https://localhost:8080/",
          "height": 281
        },
        "id": "XlPlr1ZQhb5f",
        "outputId": "d5decb08-2450-4bac-f461-1c5e5433e354"
      },
      "outputs": [
        {
          "output_type": "display_data",
          "data": {
            "text/plain": [
              "<Figure size 432x288 with 1 Axes>"
            ],
            "image/png": "[encoded data removed]"
          },
          "metadata": {
            "needs_background": "light"
          }
        }
      ],
      "source": [
        "show_scatter(train_embeds[:, 0], train_embeds[:, 1],df_features_train['malignancy'],'Train Embeddings', 0.5)\n",
        "\n"
      ]
    },
    {
      "cell_type": "markdown",
      "id": "84ddb8e2",
      "metadata": {
        "id": "84ddb8e2"
      },
      "source": [
        "We also do same visualization on cv and test"
      ]
    },
    {
      "cell_type": "code",
      "execution_count": 339,
      "id": "05ce9a28",
      "metadata": {
        "id": "05ce9a28"
      },
      "outputs": [],
      "source": [
        "cv_test_embeds = reducer.transform(cv_test_features)"
      ]
    },
    {
      "cell_type": "code",
      "execution_count": 340,
      "id": "6c007ab0",
      "metadata": {
        "colab": {
          "base_uri": "https://localhost:8080/",
          "height": 281
        },
        "id": "6c007ab0",
        "outputId": "d8eb1bbd-3d60-4034-a261-30cc6951cb8e"
      },
      "outputs": [
        {
          "output_type": "display_data",
          "data": {
            "text/plain": [
              "<Figure size 432x288 with 1 Axes>"
            ],
            "image/png": "[encoded data removed]"
          },
          "metadata": {
            "needs_background": "light"
          }
        }
      ],
      "source": [
        "show_scatter(cv_test_embeds[:, 0], cv_test_embeds[:, 1],df_features_cv_test['malignancy'],'CV Test Embeddings', 0.5)\n"
      ]
    },
    {
      "cell_type": "markdown",
      "source": [
        "Visualize on All"
      ],
      "metadata": {
        "id": "Yl6VPo4JztSb"
      },
      "id": "Yl6VPo4JztSb"
    },
    {
      "cell_type": "code",
      "source": [
        "all_embeds = reducer.transform(all_features)"
      ],
      "metadata": {
        "id": "d-lKMBKozoL8"
      },
      "id": "d-lKMBKozoL8",
      "execution_count": 341,
      "outputs": []
    },
    {
      "cell_type": "code",
      "source": [
        "show_scatter(all_embeds[:, 0], all_embeds[:, 1],images_df['malignancy'],'All Embeddings', 0.5)\n"
      ],
      "metadata": {
        "id": "8C1a3eW6zx3B",
        "outputId": "f1678eec-bdff-4398-cfd9-0855867806d6",
        "colab": {
          "base_uri": "https://localhost:8080/",
          "height": 281
        }
      },
      "id": "8C1a3eW6zx3B",
      "execution_count": 342,
      "outputs": [
        {
          "output_type": "display_data",
          "data": {
            "text/plain": [
              "<Figure size 432x288 with 1 Axes>"
            ],
            "image/png": "[encoded data removed]"
          },
          "metadata": {
            "needs_background": "light"
          }
        }
      ]
    },
    {
      "cell_type": "markdown",
      "id": "b3ae499e",
      "metadata": {
        "id": "b3ae499e"
      },
      "source": [
        "We now save the reduce"
      ]
    },
    {
      "cell_type": "code",
      "execution_count": 318,
      "id": "b5345903",
      "metadata": {
        "id": "b5345903"
      },
      "outputs": [],
      "source": [
        "f_reducer = './cnn_umap_reducer.sav'\n",
        "pickle.dump(reducer, open(f_reducer, 'wb'))\n",
        "\n",
        "\n"
      ]
    },
    {
      "cell_type": "markdown",
      "id": "-ZIXwHwrkqCl",
      "metadata": {
        "id": "-ZIXwHwrkqCl"
      },
      "source": [
        "Note to lode from above file, we can call\n",
        "```python\n",
        "reducer = pickle.load((open(f_reducer, 'rb'))) \n",
        "```"
      ]
    },
    {
      "cell_type": "markdown",
      "id": "2e900474",
      "metadata": {
        "id": "2e900474"
      },
      "source": [
        "### Feature Cluster"
      ]
    },
    {
      "cell_type": "markdown",
      "id": "f55115df",
      "metadata": {
        "id": "f55115df"
      },
      "source": [
        "Now we cluster the training embeddings using Gaussian Mixture\n",
        "\n",
        "We first visualize the silhouette score\n",
        "\n",
        "(we only cluster on malignant since that is what we want)"
      ]
    },
    {
      "cell_type": "code",
      "execution_count": 343,
      "id": "FHO3q6vUjAQh",
      "metadata": {
        "id": "FHO3q6vUjAQh"
      },
      "outputs": [],
      "source": [
        "train_embeds_malig = reducer.transform(train_features[df_features_train['malignancy'] > 1])"
      ]
    },
    {
      "cell_type": "code",
      "execution_count": 344,
      "id": "29b9cdc8",
      "metadata": {
        "colab": {
          "base_uri": "https://localhost:8080/",
          "height": 296
        },
        "id": "29b9cdc8",
        "outputId": "05b66f87-61bf-4959-d67d-92c56c4645d4"
      },
      "outputs": [
        {
          "output_type": "execute_result",
          "data": {
            "text/plain": [
              "Text(0, 0.5, 'Silhouette Coefficients')"
            ]
          },
          "metadata": {},
          "execution_count": 344
        },
        {
          "output_type": "display_data",
          "data": {
            "text/plain": [
              "<Figure size 432x288 with 1 Axes>"
            ],
            "image/png": "[encoded data removed]"
          },
          "metadata": {
            "needs_background": "light"
          }
        }
      ],
      "source": [
        "clusters = [n for n in range(2,16)]\n",
        "silhouette_coefficients = []\n",
        "\n",
        "for cluster in clusters:\n",
        "  gmm = GaussianMixture(n_components=cluster, random_state=61).fit(train_embeds_malig)\n",
        "  labels = gmm.predict(train_embeds_malig)\n",
        "  \n",
        "  silhouette_avg = silhouette_score(train_embeds_malig, labels)\n",
        "  silhouette_coefficients.append(silhouette_avg)\n",
        "\n",
        "plt.plot(clusters, silhouette_coefficients)\n",
        "plt.xlabel('Number of Clusters')\n",
        "plt.ylabel('Silhouette Coefficients')"
      ]
    },
    {
      "cell_type": "markdown",
      "id": "2eb4177c",
      "metadata": {
        "id": "2eb4177c"
      },
      "source": [
        "We note from above, the best number of subclasses is 2."
      ]
    },
    {
      "cell_type": "code",
      "execution_count": 345,
      "id": "61f1e245",
      "metadata": {
        "id": "61f1e245"
      },
      "outputs": [],
      "source": [
        "clusterer = GaussianMixture(n_components=2, random_state=61).fit(train_embeds_malig)"
      ]
    },
    {
      "cell_type": "markdown",
      "id": "HACFygAvj1b0",
      "metadata": {
        "id": "HACFygAvj1b0"
      },
      "source": [
        "We now visualize the clusters ont train"
      ]
    },
    {
      "cell_type": "code",
      "execution_count": 346,
      "id": "0e87f5e6",
      "metadata": {
        "colab": {
          "base_uri": "https://localhost:8080/",
          "height": 281
        },
        "id": "0e87f5e6",
        "outputId": "4fde7a97-42b2-4391-d52d-f875087ef52c"
      },
      "outputs": [
        {
          "output_type": "display_data",
          "data": {
            "text/plain": [
              "<Figure size 432x288 with 1 Axes>"
            ],
            "image/png": "[encoded data removed]"
          },
          "metadata": {
            "needs_background": "light"
          }
        }
      ],
      "source": [
        "train_labels = clusterer.predict(train_embeds)\n",
        "\n",
        "show_scatter(train_embeds[:, 0], train_embeds[:, 1],train_labels,'Training Embeddings Clustered', 0.5)"
      ]
    },
    {
      "cell_type": "code",
      "execution_count": 347,
      "id": "14047808",
      "metadata": {
        "colab": {
          "base_uri": "https://localhost:8080/",
          "height": 281
        },
        "id": "14047808",
        "outputId": "17e9f008-0a10-4ce2-e439-49294c81ec69"
      },
      "outputs": [
        {
          "output_type": "display_data",
          "data": {
            "text/plain": [
              "<Figure size 432x288 with 1 Axes>"
            ],
            "image/png": "[encoded data removed]"
          },
          "metadata": {
            "needs_background": "light"
          }
        }
      ],
      "source": [
        "cv_test_labels = clusterer.predict(cv_test_embeds)\n",
        "\n",
        "show_scatter(cv_test_embeds[:, 0], cv_test_embeds[:, 1],cv_test_labels,'CV Test Embeddings Clustered', 0.5)"
      ]
    },
    {
      "cell_type": "markdown",
      "id": "dbAxN68akWic",
      "metadata": {
        "id": "dbAxN68akWic"
      },
      "source": [
        "Now we save the clusterer"
      ]
    },
    {
      "cell_type": "code",
      "execution_count": null,
      "id": "s_bYeCBTkaIX",
      "metadata": {
        "id": "s_bYeCBTkaIX"
      },
      "outputs": [],
      "source": [
        "f_clusterer = './cnn_umap_clusterer.sav'\n",
        "pickle.dump(reducer, open(f_reducer, 'wb'))"
      ]
    },
    {
      "cell_type": "markdown",
      "id": "4F0y_ltDlNYB",
      "metadata": {
        "id": "4F0y_ltDlNYB"
      },
      "source": [
        "### Save the labels"
      ]
    },
    {
      "cell_type": "markdown",
      "id": "Ry_7lIXplXPx",
      "metadata": {
        "id": "Ry_7lIXplXPx"
      },
      "source": [
        "Now that we have the labels, we want to save them to csv we so we can train gDRO on them"
      ]
    },
    {
      "cell_type": "code",
      "execution_count": 348,
      "id": "feYM-zJylcZL",
      "metadata": {
        "colab": {
          "base_uri": "https://localhost:8080/",
          "height": 414
        },
        "id": "feYM-zJylcZL",
        "outputId": "8d3e74fa-d756-4361-f113-3e077f131343"
      },
      "outputs": [
        {
          "output_type": "stream",
          "name": "stderr",
          "text": [
            "/usr/local/lib/python3.7/dist-packages/ipykernel_launcher.py:1: SettingWithCopyWarning: \n",
            "A value is trying to be set on a copy of a slice from a DataFrame.\n",
            "Try using .loc[row_indexer,col_indexer] = value instead\n",
            "\n",
            "See the caveats in the documentation: https://pandas.pydata.org/pandas-docs/stable/user_guide/indexing.html#returning-a-view-versus-a-copy\n",
            "  \"\"\"Entry point for launching an IPython kernel.\n",
            "/usr/local/lib/python3.7/dist-packages/ipykernel_launcher.py:2: SettingWithCopyWarning: \n",
            "A value is trying to be set on a copy of a slice from a DataFrame.\n",
            "Try using .loc[row_indexer,col_indexer] = value instead\n",
            "\n",
            "See the caveats in the documentation: https://pandas.pydata.org/pandas-docs/stable/user_guide/indexing.html#returning-a-view-versus-a-copy\n",
            "  \n"
          ]
        },
        {
          "output_type": "execute_result",
          "data": {
            "text/plain": [
              "   noduleID  cluster\n",
              "0         1        1\n",
              "1         2        0\n",
              "2         3        1\n",
              "3         4        0\n",
              "4         5        0"
            ],
            "text/html": [
              "\n",
              "  <div id=\"df-d241aa4e-1a12-4429-97da-c531bf7c295f\">\n",
              "    <div class=\"colab-df-container\">\n",
              "      <div>\n",
              "<style scoped>\n",
              "    .dataframe tbody tr th:only-of-type {\n",
              "        vertical-align: middle;\n",
              "    }\n",
              "\n",
              "    .dataframe tbody tr th {\n",
              "        vertical-align: top;\n",
              "    }\n",
              "\n",
              "    .dataframe thead th {\n",
              "        text-align: right;\n",
              "    }\n",
              "</style>\n",
              "<table border=\"1\" class=\"dataframe\">\n",
              "  <thead>\n",
              "    <tr style=\"text-align: right;\">\n",
              "      <th></th>\n",
              "      <th>noduleID</th>\n",
              "      <th>cluster</th>\n",
              "    </tr>\n",
              "  </thead>\n",
              "  <tbody>\n",
              "    <tr>\n",
              "      <th>0</th>\n",
              "      <td>1</td>\n",
              "      <td>1</td>\n",
              "    </tr>\n",
              "    <tr>\n",
              "      <th>1</th>\n",
              "      <td>2</td>\n",
              "      <td>0</td>\n",
              "    </tr>\n",
              "    <tr>\n",
              "      <th>2</th>\n",
              "      <td>3</td>\n",
              "      <td>1</td>\n",
              "    </tr>\n",
              "    <tr>\n",
              "      <th>3</th>\n",
              "      <td>4</td>\n",
              "      <td>0</td>\n",
              "    </tr>\n",
              "    <tr>\n",
              "      <th>4</th>\n",
              "      <td>5</td>\n",
              "      <td>0</td>\n",
              "    </tr>\n",
              "  </tbody>\n",
              "</table>\n",
              "</div>\n",
              "      <button class=\"colab-df-convert\" onclick=\"convertToInteractive('df-d241aa4e-1a12-4429-97da-c531bf7c295f')\"\n",
              "              title=\"Convert this dataframe to an interactive table.\"\n",
              "              style=\"display:none;\">\n",
              "        \n",
              "  <svg xmlns=\"http://www.w3.org/2000/svg\" height=\"24px\"viewBox=\"0 0 24 24\"\n",
              "       width=\"24px\">\n",
              "    <path d=\"M0 0h24v24H0V0z\" fill=\"none\"/>\n",
              "    <path d=\"M18.56 5.44l.94 2.06.94-2.06 2.06-.94-2.06-.94-.94-2.06-.94 2.06-2.06.94zm-11 1L8.5 8.5l.94-2.06 2.06-.94-2.06-.94L8.5 2.5l-.94 2.06-2.06.94zm10 10l.94 2.06.94-2.06 2.06-.94-2.06-.94-.94-2.06-.94 2.06-2.06.94z\"/><path d=\"M17.41 7.96l-1.37-1.37c-.4-.4-.92-.59-1.43-.59-.52 0-1.04.2-1.43.59L10.3 9.45l-7.72 7.72c-.78.78-.78 2.05 0 2.83L4 21.41c.39.39.9.59 1.41.59.51 0 1.02-.2 1.41-.59l7.78-7.78 2.81-2.81c.8-.78.8-2.07 0-2.86zM5.41 20L4 18.59l7.72-7.72 1.47 1.35L5.41 20z\"/>\n",
              "  </svg>\n",
              "      </button>\n",
              "      \n",
              "  <style>\n",
              "    .colab-df-container {\n",
              "      display:flex;\n",
              "      flex-wrap:wrap;\n",
              "      gap: 12px;\n",
              "    }\n",
              "\n",
              "    .colab-df-convert {\n",
              "      background-color: #E8F0FE;\n",
              "      border: none;\n",
              "      border-radius: 50%;\n",
              "      cursor: pointer;\n",
              "      display: none;\n",
              "      fill: #1967D2;\n",
              "      height: 32px;\n",
              "      padding: 0 0 0 0;\n",
              "      width: 32px;\n",
              "    }\n",
              "\n",
              "    .colab-df-convert:hover {\n",
              "      background-color: #E2EBFA;\n",
              "      box-shadow: 0px 1px 2px rgba(60, 64, 67, 0.3), 0px 1px 3px 1px rgba(60, 64, 67, 0.15);\n",
              "      fill: #174EA6;\n",
              "    }\n",
              "\n",
              "    [theme=dark] .colab-df-convert {\n",
              "      background-color: #3B4455;\n",
              "      fill: #D2E3FC;\n",
              "    }\n",
              "\n",
              "    [theme=dark] .colab-df-convert:hover {\n",
              "      background-color: #434B5C;\n",
              "      box-shadow: 0px 1px 3px 1px rgba(0, 0, 0, 0.15);\n",
              "      filter: drop-shadow(0px 1px 2px rgba(0, 0, 0, 0.3));\n",
              "      fill: #FFFFFF;\n",
              "    }\n",
              "  </style>\n",
              "\n",
              "      <script>\n",
              "        const buttonEl =\n",
              "          document.querySelector('#df-d241aa4e-1a12-4429-97da-c531bf7c295f button.colab-df-convert');\n",
              "        buttonEl.style.display =\n",
              "          google.colab.kernel.accessAllowed ? 'block' : 'none';\n",
              "\n",
              "        async function convertToInteractive(key) {\n",
              "          const element = document.querySelector('#df-d241aa4e-1a12-4429-97da-c531bf7c295f');\n",
              "          const dataTable =\n",
              "            await google.colab.kernel.invokeFunction('convertToInteractive',\n",
              "                                                     [key], {});\n",
              "          if (!dataTable) return;\n",
              "\n",
              "          const docLinkHtml = 'Like what you see? Visit the ' +\n",
              "            '<a target=\"_blank\" href=https://colab.research.google.com/notebooks/data_table.ipynb>data table notebook</a>'\n",
              "            + ' to learn more about interactive tables.';\n",
              "          element.innerHTML = '';\n",
              "          dataTable['output_type'] = 'display_data';\n",
              "          await google.colab.output.renderOutput(dataTable, element);\n",
              "          const docLink = document.createElement('div');\n",
              "          docLink.innerHTML = docLinkHtml;\n",
              "          element.appendChild(docLink);\n",
              "        }\n",
              "      </script>\n",
              "    </div>\n",
              "  </div>\n",
              "  "
            ]
          },
          "metadata": {},
          "execution_count": 348
        }
      ],
      "source": [
        "df_features_train['cluster'] = train_labels\n",
        "df_features_cv_test['cluster'] = cv_test_labels\n",
        "\n",
        "df_clusters = pd.concat([df_features_train, df_features_cv_test])[['noduleID', 'cluster']]\n",
        "df_clusters.sort_values('noduleID', inplace=True)\n",
        "df_clusters.head()"
      ]
    },
    {
      "cell_type": "markdown",
      "id": "F_PY5MsKmAei",
      "metadata": {
        "id": "F_PY5MsKmAei"
      },
      "source": [
        "We can add these lables to the df_splits dataframe"
      ]
    },
    {
      "cell_type": "code",
      "execution_count": null,
      "id": "Zmebxa-Gl214",
      "metadata": {
        "id": "Zmebxa-Gl214"
      },
      "outputs": [],
      "source": [
        "df_splits['cluster'] = [ 0 if m % 2 == 0 else 1 + c for m,c in zip(df_splits['malignancy_b'], df_clusters['cluster'])]"
      ]
    },
    {
      "cell_type": "code",
      "execution_count": null,
      "id": "5htZbtsVoJkm",
      "metadata": {
        "colab": {
          "base_uri": "https://localhost:8080/"
        },
        "id": "5htZbtsVoJkm",
        "outputId": "b48d831c-b83a-4492-951a-c2c356d7819e"
      },
      "outputs": [
        {
          "output_type": "execute_result",
          "data": {
            "text/plain": [
              "0       2\n",
              "1       1\n",
              "2       2\n",
              "3       1\n",
              "4       1\n",
              "       ..\n",
              "1483    1\n",
              "1484    0\n",
              "1485    0\n",
              "1486    1\n",
              "1487    0\n",
              "Name: cluster, Length: 1488, dtype: int64"
            ]
          },
          "metadata": {},
          "execution_count": 58
        }
      ],
      "source": [
        "df_splits['cluster']"
      ]
    },
    {
      "cell_type": "markdown",
      "id": "UiCgDCb9oUIj",
      "metadata": {
        "id": "UiCgDCb9oUIj"
      },
      "source": [
        "Now we save the csv"
      ]
    },
    {
      "cell_type": "code",
      "execution_count": null,
      "id": "WoM5bPaEoVeN",
      "metadata": {
        "id": "WoM5bPaEoVeN"
      },
      "outputs": [],
      "source": [
        "df_splits.to_csv('./data/LIDC_data_split_with_cluster(temp).csv')"
      ]
    },
    {
      "cell_type": "markdown",
      "id": "TXrR7eLvoiJ2",
      "metadata": {
        "id": "TXrR7eLvoiJ2"
      },
      "source": [
        "## Train ERM and gDRO on new models"
      ]
    },
    {
      "cell_type": "markdown",
      "id": "o_v71Ur4qaNn",
      "metadata": {
        "id": "o_v71Ur4qaNn"
      },
      "source": [
        "We again get our dataloaders (but with the new sublables)"
      ]
    },
    {
      "cell_type": "code",
      "execution_count": null,
      "id": "An-LvUlHq339",
      "metadata": {
        "colab": {
          "base_uri": "https://localhost:8080/",
          "height": 206
        },
        "id": "An-LvUlHq339",
        "outputId": "e08a2769-4f1f-435d-c3ff-e9c27da9ed5b"
      },
      "outputs": [
        {
          "output_type": "execute_result",
          "data": {
            "text/plain": [
              "   noduleID  spic_groups  malignancy  malignancy_b  split  cluster\n",
              "0         1            2           3             1      0        2\n",
              "1         2            3           3             1      0        1\n",
              "2         3            2           3             1      1        2\n",
              "3         4            2           2             1      0        1\n",
              "4         5            2           2             1      2        1"
            ],
            "text/html": [
              "\n",
              "  <div id=\"df-a0609cfc-6de7-4ca1-ac7e-4cc339564cd2\">\n",
              "    <div class=\"colab-df-container\">\n",
              "      <div>\n",
              "<style scoped>\n",
              "    .dataframe tbody tr th:only-of-type {\n",
              "        vertical-align: middle;\n",
              "    }\n",
              "\n",
              "    .dataframe tbody tr th {\n",
              "        vertical-align: top;\n",
              "    }\n",
              "\n",
              "    .dataframe thead th {\n",
              "        text-align: right;\n",
              "    }\n",
              "</style>\n",
              "<table border=\"1\" class=\"dataframe\">\n",
              "  <thead>\n",
              "    <tr style=\"text-align: right;\">\n",
              "      <th></th>\n",
              "      <th>noduleID</th>\n",
              "      <th>spic_groups</th>\n",
              "      <th>malignancy</th>\n",
              "      <th>malignancy_b</th>\n",
              "      <th>split</th>\n",
              "      <th>cluster</th>\n",
              "    </tr>\n",
              "  </thead>\n",
              "  <tbody>\n",
              "    <tr>\n",
              "      <th>0</th>\n",
              "      <td>1</td>\n",
              "      <td>2</td>\n",
              "      <td>3</td>\n",
              "      <td>1</td>\n",
              "      <td>0</td>\n",
              "      <td>2</td>\n",
              "    </tr>\n",
              "    <tr>\n",
              "      <th>1</th>\n",
              "      <td>2</td>\n",
              "      <td>3</td>\n",
              "      <td>3</td>\n",
              "      <td>1</td>\n",
              "      <td>0</td>\n",
              "      <td>1</td>\n",
              "    </tr>\n",
              "    <tr>\n",
              "      <th>2</th>\n",
              "      <td>3</td>\n",
              "      <td>2</td>\n",
              "      <td>3</td>\n",
              "      <td>1</td>\n",
              "      <td>1</td>\n",
              "      <td>2</td>\n",
              "    </tr>\n",
              "    <tr>\n",
              "      <th>3</th>\n",
              "      <td>4</td>\n",
              "      <td>2</td>\n",
              "      <td>2</td>\n",
              "      <td>1</td>\n",
              "      <td>0</td>\n",
              "      <td>1</td>\n",
              "    </tr>\n",
              "    <tr>\n",
              "      <th>4</th>\n",
              "      <td>5</td>\n",
              "      <td>2</td>\n",
              "      <td>2</td>\n",
              "      <td>1</td>\n",
              "      <td>2</td>\n",
              "      <td>1</td>\n",
              "    </tr>\n",
              "  </tbody>\n",
              "</table>\n",
              "</div>\n",
              "      <button class=\"colab-df-convert\" onclick=\"convertToInteractive('df-a0609cfc-6de7-4ca1-ac7e-4cc339564cd2')\"\n",
              "              title=\"Convert this dataframe to an interactive table.\"\n",
              "              style=\"display:none;\">\n",
              "        \n",
              "  <svg xmlns=\"http://www.w3.org/2000/svg\" height=\"24px\"viewBox=\"0 0 24 24\"\n",
              "       width=\"24px\">\n",
              "    <path d=\"M0 0h24v24H0V0z\" fill=\"none\"/>\n",
              "    <path d=\"M18.56 5.44l.94 2.06.94-2.06 2.06-.94-2.06-.94-.94-2.06-.94 2.06-2.06.94zm-11 1L8.5 8.5l.94-2.06 2.06-.94-2.06-.94L8.5 2.5l-.94 2.06-2.06.94zm10 10l.94 2.06.94-2.06 2.06-.94-2.06-.94-.94-2.06-.94 2.06-2.06.94z\"/><path d=\"M17.41 7.96l-1.37-1.37c-.4-.4-.92-.59-1.43-.59-.52 0-1.04.2-1.43.59L10.3 9.45l-7.72 7.72c-.78.78-.78 2.05 0 2.83L4 21.41c.39.39.9.59 1.41.59.51 0 1.02-.2 1.41-.59l7.78-7.78 2.81-2.81c.8-.78.8-2.07 0-2.86zM5.41 20L4 18.59l7.72-7.72 1.47 1.35L5.41 20z\"/>\n",
              "  </svg>\n",
              "      </button>\n",
              "      \n",
              "  <style>\n",
              "    .colab-df-container {\n",
              "      display:flex;\n",
              "      flex-wrap:wrap;\n",
              "      gap: 12px;\n",
              "    }\n",
              "\n",
              "    .colab-df-convert {\n",
              "      background-color: #E8F0FE;\n",
              "      border: none;\n",
              "      border-radius: 50%;\n",
              "      cursor: pointer;\n",
              "      display: none;\n",
              "      fill: #1967D2;\n",
              "      height: 32px;\n",
              "      padding: 0 0 0 0;\n",
              "      width: 32px;\n",
              "    }\n",
              "\n",
              "    .colab-df-convert:hover {\n",
              "      background-color: #E2EBFA;\n",
              "      box-shadow: 0px 1px 2px rgba(60, 64, 67, 0.3), 0px 1px 3px 1px rgba(60, 64, 67, 0.15);\n",
              "      fill: #174EA6;\n",
              "    }\n",
              "\n",
              "    [theme=dark] .colab-df-convert {\n",
              "      background-color: #3B4455;\n",
              "      fill: #D2E3FC;\n",
              "    }\n",
              "\n",
              "    [theme=dark] .colab-df-convert:hover {\n",
              "      background-color: #434B5C;\n",
              "      box-shadow: 0px 1px 3px 1px rgba(0, 0, 0, 0.15);\n",
              "      filter: drop-shadow(0px 1px 2px rgba(0, 0, 0, 0.3));\n",
              "      fill: #FFFFFF;\n",
              "    }\n",
              "  </style>\n",
              "\n",
              "      <script>\n",
              "        const buttonEl =\n",
              "          document.querySelector('#df-a0609cfc-6de7-4ca1-ac7e-4cc339564cd2 button.colab-df-convert');\n",
              "        buttonEl.style.display =\n",
              "          google.colab.kernel.accessAllowed ? 'block' : 'none';\n",
              "\n",
              "        async function convertToInteractive(key) {\n",
              "          const element = document.querySelector('#df-a0609cfc-6de7-4ca1-ac7e-4cc339564cd2');\n",
              "          const dataTable =\n",
              "            await google.colab.kernel.invokeFunction('convertToInteractive',\n",
              "                                                     [key], {});\n",
              "          if (!dataTable) return;\n",
              "\n",
              "          const docLinkHtml = 'Like what you see? Visit the ' +\n",
              "            '<a target=\"_blank\" href=https://colab.research.google.com/notebooks/data_table.ipynb>data table notebook</a>'\n",
              "            + ' to learn more about interactive tables.';\n",
              "          element.innerHTML = '';\n",
              "          dataTable['output_type'] = 'display_data';\n",
              "          await google.colab.output.renderOutput(dataTable, element);\n",
              "          const docLink = document.createElement('div');\n",
              "          docLink.innerHTML = docLinkHtml;\n",
              "          element.appendChild(docLink);\n",
              "        }\n",
              "      </script>\n",
              "    </div>\n",
              "  </div>\n",
              "  "
            ]
          },
          "metadata": {},
          "execution_count": 60
        }
      ],
      "source": [
        "df_splits = pd.read_csv('./data/LIDC_data_split_with_cluster(temp).csv', index_col=0)\n",
        "df_splits.head()"
      ]
    },
    {
      "cell_type": "code",
      "execution_count": null,
      "id": "TWscue2zqiqx",
      "metadata": {
        "id": "TWscue2zqiqx"
      },
      "outputs": [],
      "source": [
        "train_data_c, cv_data_c, test_data_c = get_images(split=True, sublabels='cluster', binary=True, device=DEVICE)\n",
        "\n",
        "#datasets\n",
        "tr_c = SubclassedDataset(*train_data_c)\n",
        "cv_c = SubclassedDataset(*cv_data_c)\n",
        "tst_c = SubclassedDataset(*test_data_c)\n",
        "\n",
        "#dataloaders\n",
        "tr_loader_c = InfiniteDataLoader(tr_c, batch_size=128)\n",
        "cv_loader_c = InfiniteDataLoader(cv_c, len(cv_c))\n",
        "tst_loader_c = InfiniteDataLoader(tst_c, len(tst_c))"
      ]
    },
    {
      "cell_type": "markdown",
      "id": "iLh0TdupydUC",
      "metadata": {
        "id": "iLh0TdupydUC"
      },
      "source": [
        "### ERM"
      ]
    },
    {
      "cell_type": "code",
      "execution_count": null,
      "id": "gXz-BR_EtBbS",
      "metadata": {
        "colab": {
          "base_uri": "https://localhost:8080/"
        },
        "id": "gXz-BR_EtBbS",
        "outputId": "cb4c1400-0a6d-4e5d-9205-3bc2d3c1e2c5"
      },
      "outputs": [
        {
          "output_type": "stream",
          "name": "stderr",
          "text": [
            "/usr/local/lib/python3.7/dist-packages/torchvision/models/_utils.py:209: UserWarning: The parameter 'pretrained' is deprecated since 0.13 and will be removed in 0.15, please use 'weights' instead.\n",
            "  f\"The parameter '{pretrained_param}' is deprecated since 0.13 and will be removed in 0.15, \"\n",
            "/usr/local/lib/python3.7/dist-packages/torchvision/models/_utils.py:223: UserWarning: Arguments other than a weight enum or `None` for 'weights' are deprecated since 0.13 and will be removed in 0.15. The current behavior is equivalent to passing `weights=ResNet18_Weights.IMAGENET1K_V1`. You can also use `weights=ResNet18_Weights.DEFAULT` to get the most up-to-date weights.\n",
            "  warnings.warn(msg)\n"
          ]
        }
      ],
      "source": [
        "model_ERM = TransferModel18(device=DEVICE, pretrained=True, freeze=False)"
      ]
    },
    {
      "cell_type": "code",
      "execution_count": null,
      "id": "PMzFruMyt1R7",
      "metadata": {
        "colab": {
          "base_uri": "https://localhost:8080/"
        },
        "id": "PMzFruMyt1R7",
        "outputId": "53aae286-25ed-4698-8f63-9eb798599d28"
      },
      "outputs": [
        {
          "output_type": "stream",
          "name": "stdout",
          "text": [
            "Epoch 1 / 15\n",
            "Epoch 2 / 15\n",
            "Epoch 3 / 15\n",
            "Epoch 4 / 15\n",
            "Epoch 5 / 15\n",
            "Epoch 00005: reducing learning rate of group 0 to 1.0000e-04.\n",
            "Epoch 6 / 15\n",
            "Epoch 7 / 15\n",
            "Epoch 8 / 15\n",
            "Epoch 00008: reducing learning rate of group 0 to 2.0000e-05.\n",
            "Epoch 9 / 15\n",
            "Epoch 10 / 15\n",
            "Epoch 11 / 15\n",
            "Epoch 00011: reducing learning rate of group 0 to 4.0000e-06.\n",
            "Epoch 12 / 15\n",
            "Epoch 13 / 15\n",
            "Epoch 14 / 15\n",
            "Epoch 15 / 15\n"
          ]
        }
      ],
      "source": [
        "epochs = 15\n",
        "loss_fn = ERMLoss(model_ERM, torch.nn.CrossEntropyLoss())\n",
        "optimizer = torch.optim.Adam(model_ERM.parameters(), lr=0.0005, weight_decay=0.005)\n",
        "train_epochs(epochs, tr_loader_c, cv_loader_c, model_ERM, loss_fn, optimizer, scheduler=ReduceLROnPlateau(optimizer, mode='max', factor=0.2, patience=2, verbose=True), verbose=True, num_subclasses=3)"
      ]
    },
    {
      "cell_type": "code",
      "execution_count": null,
      "id": "AiuxZZ2fuRQB",
      "metadata": {
        "colab": {
          "base_uri": "https://localhost:8080/"
        },
        "id": "AiuxZZ2fuRQB",
        "outputId": "47b43090-f65a-4a2d-c57d-ef01a57a82b0"
      },
      "outputs": [
        {
          "output_type": "execute_result",
          "data": {
            "text/plain": [
              "(0.8737541528239202, 0.8895027624309392, 1.0, 0.7831325301204819)"
            ]
          },
          "metadata": {},
          "execution_count": 111
        }
      ],
      "source": [
        "evaluate(tst_loader_c,model_ERM, 3)"
      ]
    },
    {
      "cell_type": "markdown",
      "id": "wyJvl6CWyejh",
      "metadata": {
        "id": "wyJvl6CWyejh"
      },
      "source": [
        "### GDRO"
      ]
    },
    {
      "cell_type": "code",
      "execution_count": null,
      "id": "ADIcTtuDygR8",
      "metadata": {
        "colab": {
          "base_uri": "https://localhost:8080/"
        },
        "id": "ADIcTtuDygR8",
        "outputId": "f05bfff6-c2a6-465d-cfd6-3ad1b47b27c8"
      },
      "outputs": [
        {
          "output_type": "stream",
          "name": "stderr",
          "text": [
            "/usr/local/lib/python3.7/dist-packages/torchvision/models/_utils.py:209: UserWarning: The parameter 'pretrained' is deprecated since 0.13 and will be removed in 0.15, please use 'weights' instead.\n",
            "  f\"The parameter '{pretrained_param}' is deprecated since 0.13 and will be removed in 0.15, \"\n",
            "/usr/local/lib/python3.7/dist-packages/torchvision/models/_utils.py:223: UserWarning: Arguments other than a weight enum or `None` for 'weights' are deprecated since 0.13 and will be removed in 0.15. The current behavior is equivalent to passing `weights=ResNet18_Weights.IMAGENET1K_V1`. You can also use `weights=ResNet18_Weights.DEFAULT` to get the most up-to-date weights.\n",
            "  warnings.warn(msg)\n"
          ]
        }
      ],
      "source": [
        "model_gDRO = TransferModel18(device=DEVICE, pretrained=True, freeze=False)"
      ]
    },
    {
      "cell_type": "code",
      "execution_count": null,
      "id": "NOLVmOZsyjMq",
      "metadata": {
        "id": "NOLVmOZsyjMq",
        "outputId": "4d2bf741-1e81-4d4e-c60a-a2ff3dbfc78d",
        "colab": {
          "base_uri": "https://localhost:8080/"
        }
      },
      "outputs": [
        {
          "output_type": "stream",
          "name": "stdout",
          "text": [
            "Epoch 1 / 15\n",
            "Epoch 2 / 15\n",
            "Epoch 3 / 15\n",
            "Epoch 4 / 15\n",
            "Epoch 5 / 15\n",
            "Epoch 6 / 15\n",
            "Epoch 00006: reducing learning rate of group 0 to 1.0000e-04.\n",
            "Epoch 7 / 15\n",
            "Epoch 8 / 15\n",
            "Epoch 9 / 15\n",
            "Epoch 10 / 15\n",
            "Epoch 11 / 15\n",
            "Epoch 00011: reducing learning rate of group 0 to 2.0000e-05.\n",
            "Epoch 12 / 15\n",
            "Epoch 13 / 15\n",
            "Epoch 14 / 15\n",
            "Epoch 00014: reducing learning rate of group 0 to 4.0000e-06.\n",
            "Epoch 15 / 15\n"
          ]
        }
      ],
      "source": [
        "epochs = 15\n",
        "loss_fn = GDROLoss(model_gDRO, torch.nn.CrossEntropyLoss(), 0.01, 3)\n",
        "optimizer = torch.optim.Adam(model_gDRO.parameters(), lr=0.0005, weight_decay=0.005)\n",
        "train_epochs(epochs, tr_loader_c, tst_loader_c, model_gDRO, loss_fn, optimizer, scheduler=ReduceLROnPlateau(optimizer, mode='max', factor=0.2, patience=2, verbose=True), verbose=True, num_subclasses=3)"
      ]
    },
    {
      "cell_type": "code",
      "execution_count": null,
      "id": "z393MaMZymED",
      "metadata": {
        "colab": {
          "base_uri": "https://localhost:8080/"
        },
        "id": "z393MaMZymED",
        "outputId": "b4040c65-bb07-4935-f4a5-0dfd212935da"
      },
      "outputs": [
        {
          "output_type": "execute_result",
          "data": {
            "text/plain": [
              "(0.8637873754152824, 0.8895027624309392, 1.0, 0.7469879518072289)"
            ]
          },
          "metadata": {},
          "execution_count": 114
        }
      ],
      "source": [
        "evaluate(tst_loader_c,model_gDRO, 3)"
      ]
    }
  ],
  "metadata": {
    "accelerator": "GPU",
    "colab": {
      "name": "LIDC_Georges_End_to_End.ipynb",
      "provenance": [],
      "include_colab_link": true
    },
    "gpuClass": "standard",
    "kernelspec": {
      "display_name": "Python 3 (ipykernel)",
      "language": "python",
      "name": "python3"
    },
    "language_info": {
      "codemirror_mode": {
        "name": "ipython",
        "version": 3
      },
      "file_extension": ".py",
      "mimetype": "text/x-python",
      "name": "python",
      "nbconvert_exporter": "python",
      "pygments_lexer": "ipython3",
      "version": "3.9.12"
    }
  },
  "nbformat": 4,
  "nbformat_minor": 5
}