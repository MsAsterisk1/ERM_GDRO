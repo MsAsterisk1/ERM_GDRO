{
 "cells": [
  {
   "cell_type": "markdown",
   "id": "884cceca",
   "metadata": {},
   "source": [
    "#LIDC GDRO: Looking at Clustered Subgroups\n",
    "\n",
    "Thomas Zeng"
   ]
  },
  {
   "cell_type": "markdown",
   "id": "6d2dbc77",
   "metadata": {},
   "source": [
    "## Notebook Setup"
   ]
  },
  {
   "cell_type": "markdown",
   "id": "a0e6bde8",
   "metadata": {},
   "source": [
    "Setup autoreload extension"
   ]
  },
  {
   "cell_type": "code",
   "execution_count": null,
   "id": "eb875e2f",
   "metadata": {},
   "outputs": [],
   "source": [
    "%load_ext autoreload\n",
    "%autoreload 2"
   ]
  },
  {
   "cell_type": "markdown",
   "id": "f0cf3e58",
   "metadata": {},
   "source": [
    "Clone repo (if on colab)"
   ]
  },
  {
   "cell_type": "code",
   "execution_count": null,
   "id": "8624cd5a",
   "metadata": {},
   "outputs": [],
   "source": [
    "# !git clone https://github.com/mtzig/LIDC_GDRO.git\n",
    "# %cd /content/LIDC_GDRO"
   ]
  },
  {
   "cell_type": "markdown",
   "id": "0e041e8c",
   "metadata": {},
   "source": [
    "import necessary libraries"
   ]
  },
  {
   "cell_type": "code",
   "execution_count": null,
   "id": "e4497c6e",
   "metadata": {},
   "outputs": [],
   "source": [
    "import pandas as pd\n",
    "import numpy as np\n",
    "from dataloaders import InfiniteDataLoader\n",
    "from datasets import NoduleDataset, SubclassedNoduleDataset\n",
    "from models import TransferModel\n",
    "from loss import ERMLoss, GDROLossAlt#, GDROLoss\n",
    "from train import train, test\n",
    "from torch.optim.lr_scheduler import ReduceLROnPlateau\n",
    "import os\n",
    "# import torchvision\n",
    "from torchvision import transforms\n",
    "import torch\n",
    "from image_data_utils import getImages"
   ]
  },
  {
   "cell_type": "markdown",
   "id": "e0478328",
   "metadata": {},
   "source": [
    "Get available Device"
   ]
  },
  {
   "cell_type": "code",
   "execution_count": null,
   "id": "20d373b7",
   "metadata": {},
   "outputs": [],
   "source": [
    "if torch.cuda.is_available():\n",
    "    print(\"Good to go!\")\n",
    "    DEVICE = torch.device(\"cuda\")\n",
    "else:\n",
    "    print(\"Using cpu\")\n",
    "    DEVICE = torch.device(\"cpu\")"
   ]
  },
  {
   "cell_type": "markdown",
   "id": "cddc7558",
   "metadata": {},
   "source": [
    "## ERM Model: Training ERM model to extract CNN features"
   ]
  },
  {
   "cell_type": "markdown",
   "id": "c590a5c2",
   "metadata": {},
   "source": [
    "First we load in the training data"
   ]
  },
  {
   "cell_type": "code",
   "execution_count": null,
   "id": "649c9ff5",
   "metadata": {},
   "outputs": [],
   "source": [
    "train_data, cv_data, test_data = getImages(split=True, sublabels=False, binary=True, device=DEVICE)\n",
    "\n",
    "tr = SubclassedNoduleDataset(*train_data)\n",
    "cv = SubclassedNoduleDataset(*cv_data)\n",
    "tst = SubclassedNoduleDataset(*test_data)\n",
    "tr_loader = InfiniteDataLoader(tr, batch_size=512)\n",
    "cv_loader = InfiniteDataLoader(cv, len(cv))\n",
    "tst_loader = InfiniteDataLoader(tst, len(tst))"
   ]
  }
 ],
 "metadata": {
  "kernelspec": {
   "display_name": "REU",
   "language": "python",
   "name": "reu"
  },
  "language_info": {
   "codemirror_mode": {
    "name": "ipython",
    "version": 3
   },
   "file_extension": ".py",
   "mimetype": "text/x-python",
   "name": "python",
   "nbconvert_exporter": "python",
   "pygments_lexer": "ipython3",
   "version": "3.10.5"
  }
 },
 "nbformat": 4,
 "nbformat_minor": 5
}
