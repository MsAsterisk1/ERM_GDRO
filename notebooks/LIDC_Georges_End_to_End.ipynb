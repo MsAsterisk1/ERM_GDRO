{
  "cells": [
    {
      "cell_type": "markdown",
      "metadata": {
        "id": "view-in-github",
        "colab_type": "text"
      },
      "source": [
        "<a href=\"https://colab.research.google.com/github/mtzig/LIDC_GDRO/blob/main/notebooks/LIDC_Georges_End_to_End.ipynb\" target=\"_parent\"><img src=\"https://colab.research.google.com/assets/colab-badge.svg\" alt=\"Open In Colab\"/></a>"
      ]
    },
    {
      "cell_type": "markdown",
      "id": "48b41a21",
      "metadata": {
        "id": "48b41a21"
      },
      "source": [
        "#LIDC GDRO: Looking at Clustered Subgroups\n",
        "\n",
        "Thomas Zeng"
      ]
    },
    {
      "cell_type": "markdown",
      "id": "2275997b",
      "metadata": {
        "id": "2275997b"
      },
      "source": [
        "## Notebook Setup"
      ]
    },
    {
      "cell_type": "markdown",
      "id": "c69190e7",
      "metadata": {
        "id": "c69190e7"
      },
      "source": [
        "Setup autoreload extension"
      ]
    },
    {
      "cell_type": "code",
      "execution_count": 1,
      "id": "89996c23",
      "metadata": {
        "id": "89996c23"
      },
      "outputs": [],
      "source": [
        "%load_ext autoreload\n",
        "%autoreload 2"
      ]
    },
    {
      "cell_type": "markdown",
      "id": "c0aa3675",
      "metadata": {
        "id": "c0aa3675"
      },
      "source": [
        "Clone repo (if on colab)"
      ]
    },
    {
      "cell_type": "code",
      "execution_count": 2,
      "id": "5a993151",
      "metadata": {
        "id": "5a993151",
        "outputId": "b5da8010-66f4-45a8-88a9-8540b8372bec",
        "colab": {
          "base_uri": "https://localhost:8080/"
        }
      },
      "outputs": [
        {
          "output_type": "stream",
          "name": "stdout",
          "text": [
            "Cloning into 'LIDC_GDRO'...\n",
            "remote: Enumerating objects: 3688, done.\u001b[K\n",
            "remote: Counting objects: 100% (260/260), done.\u001b[K\n",
            "remote: Compressing objects: 100% (108/108), done.\u001b[K\n",
            "remote: Total 3688 (delta 152), reused 258 (delta 152), pack-reused 3428\u001b[K\n",
            "Receiving objects: 100% (3688/3688), 81.77 MiB | 3.61 MiB/s, done.\n",
            "Resolving deltas: 100% (3300/3300), done.\n",
            "Checking out files: 100% (5414/5414), done.\n",
            "/content/LIDC_GDRO\n"
          ]
        }
      ],
      "source": [
        "!git clone https://github.com/mtzig/LIDC_GDRO.git\n",
        "%cd /content/LIDC_GDRO\n",
        "# %cd .."
      ]
    },
    {
      "cell_type": "code",
      "source": [
        "# !git pull"
      ],
      "metadata": {
        "id": "AAg-eYbtiLCU",
        "outputId": "2626327d-9bd7-48b1-a52e-0d77339f00a3",
        "colab": {
          "base_uri": "https://localhost:8080/"
        }
      },
      "id": "AAg-eYbtiLCU",
      "execution_count": 45,
      "outputs": [
        {
          "output_type": "stream",
          "name": "stdout",
          "text": [
            "remote: Enumerating objects: 5, done.\u001b[K\n",
            "remote: Counting objects:  20% (1/5)\u001b[K\rremote: Counting objects:  40% (2/5)\u001b[K\rremote: Counting objects:  60% (3/5)\u001b[K\rremote: Counting objects:  80% (4/5)\u001b[K\rremote: Counting objects: 100% (5/5)\u001b[K\rremote: Counting objects: 100% (5/5), done.\u001b[K\n",
            "remote: Compressing objects: 100% (1/1)\u001b[K\rremote: Compressing objects: 100% (1/1), done.\u001b[K\n",
            "remote: Total 3 (delta 2), reused 3 (delta 2), pack-reused 0\u001b[K\n",
            "Unpacking objects:  33% (1/3)   \rUnpacking objects:  66% (2/3)   \rUnpacking objects: 100% (3/3)   \rUnpacking objects: 100% (3/3), done.\n",
            "From https://github.com/mtzig/LIDC_GDRO\n",
            "   e286643..4bcf9f5  main       -> origin/main\n",
            "Updating e286643..4bcf9f5\n",
            "Fast-forward\n",
            " image_data_utils.py | 4 \u001b[32m++\u001b[m\u001b[31m--\u001b[m\n",
            " 1 file changed, 2 insertions(+), 2 deletions(-)\n"
          ]
        }
      ]
    },
    {
      "cell_type": "markdown",
      "id": "ffedab5f",
      "metadata": {
        "id": "ffedab5f"
      },
      "source": [
        "import necessary libraries"
      ]
    },
    {
      "cell_type": "code",
      "source": [
        "# !pip install umap-learn"
      ],
      "metadata": {
        "id": "KAIKRQm8er5I",
        "outputId": "00dce444-fc67-4b55-d034-8b247008478b",
        "colab": {
          "base_uri": "https://localhost:8080/",
          "height": 556
        }
      },
      "id": "KAIKRQm8er5I",
      "execution_count": 9,
      "outputs": [
        {
          "output_type": "stream",
          "name": "stdout",
          "text": [
            "Looking in indexes: https://pypi.org/simple, https://us-python.pkg.dev/colab-wheels/public/simple/\n",
            "Collecting umap-learn\n",
            "  Downloading umap-learn-0.5.3.tar.gz (88 kB)\n",
            "\u001b[K     |████████████████████████████████| 88 kB 2.4 MB/s \n",
            "\u001b[?25hRequirement already satisfied: numpy>=1.17 in /usr/local/lib/python3.7/dist-packages (from umap-learn) (1.21.6)\n",
            "Requirement already satisfied: scikit-learn>=0.22 in /usr/local/lib/python3.7/dist-packages (from umap-learn) (1.0.2)\n",
            "Requirement already satisfied: scipy>=1.0 in /usr/local/lib/python3.7/dist-packages (from umap-learn) (1.7.3)\n",
            "Requirement already satisfied: numba>=0.49 in /usr/local/lib/python3.7/dist-packages (from umap-learn) (0.51.2)\n",
            "Collecting pynndescent>=0.5\n",
            "  Downloading pynndescent-0.5.7.tar.gz (1.1 MB)\n",
            "\u001b[K     |████████████████████████████████| 1.1 MB 53.8 MB/s \n",
            "\u001b[?25hRequirement already satisfied: tqdm in /usr/local/lib/python3.7/dist-packages (from umap-learn) (4.64.0)\n",
            "Requirement already satisfied: llvmlite<0.35,>=0.34.0.dev0 in /usr/local/lib/python3.7/dist-packages (from numba>=0.49->umap-learn) (0.34.0)\n",
            "Requirement already satisfied: setuptools in /usr/local/lib/python3.7/dist-packages (from numba>=0.49->umap-learn) (57.4.0)\n",
            "Requirement already satisfied: joblib>=0.11 in /usr/local/lib/python3.7/dist-packages (from pynndescent>=0.5->umap-learn) (1.1.0)\n",
            "Requirement already satisfied: threadpoolctl>=2.0.0 in /usr/local/lib/python3.7/dist-packages (from scikit-learn>=0.22->umap-learn) (3.1.0)\n",
            "Building wheels for collected packages: umap-learn, pynndescent\n",
            "  Building wheel for umap-learn (setup.py) ... \u001b[?25l\u001b[?25hdone\n",
            "  Created wheel for umap-learn: filename=umap_learn-0.5.3-py3-none-any.whl size=82829 sha256=64703330d665a7149644a32f268f672595c4b2a9d74096365297756d95e1de46\n",
            "  Stored in directory: /root/.cache/pip/wheels/b3/52/a5/1fd9e3e76a7ab34f134c07469cd6f16e27ef3a37aeff1fe821\n",
            "  Building wheel for pynndescent (setup.py) ... \u001b[?25l\u001b[?25hdone\n",
            "  Created wheel for pynndescent: filename=pynndescent-0.5.7-py3-none-any.whl size=54286 sha256=287b42d12502e9b1861f7f79f04a2fdacc1a4b0d2c35101c9b54fdfbbfaeff7e\n",
            "  Stored in directory: /root/.cache/pip/wheels/7f/2a/f8/7bd5dcec71bd5c669f6f574db3113513696b98f3f9b51f496c\n",
            "Successfully built umap-learn pynndescent\n",
            "Installing collected packages: pynndescent, umap-learn\n",
            "Successfully installed pynndescent-0.5.7 umap-learn-0.5.3\n"
          ]
        },
        {
          "output_type": "display_data",
          "data": {
            "application/vnd.colab-display-data+json": {
              "pip_warning": {
                "packages": [
                  "umap"
                ]
              }
            }
          },
          "metadata": {}
        }
      ]
    },
    {
      "cell_type": "code",
      "execution_count": 46,
      "id": "179801e0",
      "metadata": {
        "id": "179801e0"
      },
      "outputs": [],
      "source": [
        "import pandas as pd\n",
        "import numpy as np\n",
        "from dataloaders import InfiniteDataLoader\n",
        "from datasets import NoduleDataset, SubclassedNoduleDataset\n",
        "from models import TransferModel\n",
        "from train import train, test\n",
        "from torch.optim.lr_scheduler import ReduceLROnPlateau\n",
        "import os\n",
        "# import torchvision\n",
        "from torchvision import transforms\n",
        "import torch\n",
        "from image_data_utils import getImages, train_epochs, show_scatter\n",
        "\n",
        "from umap import UMAP\n",
        "# from matplotlib import pyplot as plt\n",
        "import pickle\n",
        "from sklearn.mixture import GaussianMixture\n",
        "from sklearn.metrics import silhouette_score"
      ]
    },
    {
      "cell_type": "markdown",
      "id": "82755e95",
      "metadata": {
        "id": "82755e95"
      },
      "source": [
        "Get available Device"
      ]
    },
    {
      "cell_type": "code",
      "execution_count": 11,
      "id": "927fcddf",
      "metadata": {
        "id": "927fcddf",
        "outputId": "c569673b-86df-4e67-d53e-38d04ffea793",
        "colab": {
          "base_uri": "https://localhost:8080/"
        }
      },
      "outputs": [
        {
          "output_type": "stream",
          "name": "stdout",
          "text": [
            "Good to go!\n"
          ]
        }
      ],
      "source": [
        "if torch.cuda.is_available():\n",
        "    print(\"Good to go!\")\n",
        "    DEVICE = torch.device(\"cuda\")\n",
        "else:\n",
        "    print(\"Using cpu\")\n",
        "    DEVICE = torch.device(\"cpu\")"
      ]
    },
    {
      "cell_type": "markdown",
      "id": "49953b35",
      "metadata": {
        "id": "49953b35"
      },
      "source": [
        "## ERM Model: Training ERM model to extract CNN features"
      ]
    },
    {
      "cell_type": "markdown",
      "id": "539b89e0",
      "metadata": {
        "id": "539b89e0"
      },
      "source": [
        "### ERM Modeling"
      ]
    },
    {
      "cell_type": "markdown",
      "id": "2c01dc32",
      "metadata": {
        "id": "2c01dc32"
      },
      "source": [
        "Just for visulalization, the csv where we get the train, cv, test splits and subgroups come from below csv. "
      ]
    },
    {
      "cell_type": "code",
      "execution_count": 12,
      "id": "63061a76",
      "metadata": {
        "id": "63061a76",
        "outputId": "fa593369-8eff-4348-904f-85315fe701c0",
        "colab": {
          "base_uri": "https://localhost:8080/",
          "height": 206
        }
      },
      "outputs": [
        {
          "output_type": "execute_result",
          "data": {
            "text/plain": [
              "   noduleID  spiculation  malignancy  split\n",
              "0       836            1           0      0\n",
              "1      1863            1           0      0\n",
              "2      2201            0           0      0\n",
              "3      1111            0           0      0\n",
              "4      1894            0           0      0"
            ],
            "text/html": [
              "\n",
              "  <div id=\"df-acd4586b-1265-4bd1-bc99-94a04c8e85c5\">\n",
              "    <div class=\"colab-df-container\">\n",
              "      <div>\n",
              "<style scoped>\n",
              "    .dataframe tbody tr th:only-of-type {\n",
              "        vertical-align: middle;\n",
              "    }\n",
              "\n",
              "    .dataframe tbody tr th {\n",
              "        vertical-align: top;\n",
              "    }\n",
              "\n",
              "    .dataframe thead th {\n",
              "        text-align: right;\n",
              "    }\n",
              "</style>\n",
              "<table border=\"1\" class=\"dataframe\">\n",
              "  <thead>\n",
              "    <tr style=\"text-align: right;\">\n",
              "      <th></th>\n",
              "      <th>noduleID</th>\n",
              "      <th>spiculation</th>\n",
              "      <th>malignancy</th>\n",
              "      <th>split</th>\n",
              "    </tr>\n",
              "  </thead>\n",
              "  <tbody>\n",
              "    <tr>\n",
              "      <th>0</th>\n",
              "      <td>836</td>\n",
              "      <td>1</td>\n",
              "      <td>0</td>\n",
              "      <td>0</td>\n",
              "    </tr>\n",
              "    <tr>\n",
              "      <th>1</th>\n",
              "      <td>1863</td>\n",
              "      <td>1</td>\n",
              "      <td>0</td>\n",
              "      <td>0</td>\n",
              "    </tr>\n",
              "    <tr>\n",
              "      <th>2</th>\n",
              "      <td>2201</td>\n",
              "      <td>0</td>\n",
              "      <td>0</td>\n",
              "      <td>0</td>\n",
              "    </tr>\n",
              "    <tr>\n",
              "      <th>3</th>\n",
              "      <td>1111</td>\n",
              "      <td>0</td>\n",
              "      <td>0</td>\n",
              "      <td>0</td>\n",
              "    </tr>\n",
              "    <tr>\n",
              "      <th>4</th>\n",
              "      <td>1894</td>\n",
              "      <td>0</td>\n",
              "      <td>0</td>\n",
              "      <td>0</td>\n",
              "    </tr>\n",
              "  </tbody>\n",
              "</table>\n",
              "</div>\n",
              "      <button class=\"colab-df-convert\" onclick=\"convertToInteractive('df-acd4586b-1265-4bd1-bc99-94a04c8e85c5')\"\n",
              "              title=\"Convert this dataframe to an interactive table.\"\n",
              "              style=\"display:none;\">\n",
              "        \n",
              "  <svg xmlns=\"http://www.w3.org/2000/svg\" height=\"24px\"viewBox=\"0 0 24 24\"\n",
              "       width=\"24px\">\n",
              "    <path d=\"M0 0h24v24H0V0z\" fill=\"none\"/>\n",
              "    <path d=\"M18.56 5.44l.94 2.06.94-2.06 2.06-.94-2.06-.94-.94-2.06-.94 2.06-2.06.94zm-11 1L8.5 8.5l.94-2.06 2.06-.94-2.06-.94L8.5 2.5l-.94 2.06-2.06.94zm10 10l.94 2.06.94-2.06 2.06-.94-2.06-.94-.94-2.06-.94 2.06-2.06.94z\"/><path d=\"M17.41 7.96l-1.37-1.37c-.4-.4-.92-.59-1.43-.59-.52 0-1.04.2-1.43.59L10.3 9.45l-7.72 7.72c-.78.78-.78 2.05 0 2.83L4 21.41c.39.39.9.59 1.41.59.51 0 1.02-.2 1.41-.59l7.78-7.78 2.81-2.81c.8-.78.8-2.07 0-2.86zM5.41 20L4 18.59l7.72-7.72 1.47 1.35L5.41 20z\"/>\n",
              "  </svg>\n",
              "      </button>\n",
              "      \n",
              "  <style>\n",
              "    .colab-df-container {\n",
              "      display:flex;\n",
              "      flex-wrap:wrap;\n",
              "      gap: 12px;\n",
              "    }\n",
              "\n",
              "    .colab-df-convert {\n",
              "      background-color: #E8F0FE;\n",
              "      border: none;\n",
              "      border-radius: 50%;\n",
              "      cursor: pointer;\n",
              "      display: none;\n",
              "      fill: #1967D2;\n",
              "      height: 32px;\n",
              "      padding: 0 0 0 0;\n",
              "      width: 32px;\n",
              "    }\n",
              "\n",
              "    .colab-df-convert:hover {\n",
              "      background-color: #E2EBFA;\n",
              "      box-shadow: 0px 1px 2px rgba(60, 64, 67, 0.3), 0px 1px 3px 1px rgba(60, 64, 67, 0.15);\n",
              "      fill: #174EA6;\n",
              "    }\n",
              "\n",
              "    [theme=dark] .colab-df-convert {\n",
              "      background-color: #3B4455;\n",
              "      fill: #D2E3FC;\n",
              "    }\n",
              "\n",
              "    [theme=dark] .colab-df-convert:hover {\n",
              "      background-color: #434B5C;\n",
              "      box-shadow: 0px 1px 3px 1px rgba(0, 0, 0, 0.15);\n",
              "      filter: drop-shadow(0px 1px 2px rgba(0, 0, 0, 0.3));\n",
              "      fill: #FFFFFF;\n",
              "    }\n",
              "  </style>\n",
              "\n",
              "      <script>\n",
              "        const buttonEl =\n",
              "          document.querySelector('#df-acd4586b-1265-4bd1-bc99-94a04c8e85c5 button.colab-df-convert');\n",
              "        buttonEl.style.display =\n",
              "          google.colab.kernel.accessAllowed ? 'block' : 'none';\n",
              "\n",
              "        async function convertToInteractive(key) {\n",
              "          const element = document.querySelector('#df-acd4586b-1265-4bd1-bc99-94a04c8e85c5');\n",
              "          const dataTable =\n",
              "            await google.colab.kernel.invokeFunction('convertToInteractive',\n",
              "                                                     [key], {});\n",
              "          if (!dataTable) return;\n",
              "\n",
              "          const docLinkHtml = 'Like what you see? Visit the ' +\n",
              "            '<a target=\"_blank\" href=https://colab.research.google.com/notebooks/data_table.ipynb>data table notebook</a>'\n",
              "            + ' to learn more about interactive tables.';\n",
              "          element.innerHTML = '';\n",
              "          dataTable['output_type'] = 'display_data';\n",
              "          await google.colab.output.renderOutput(dataTable, element);\n",
              "          const docLink = document.createElement('div');\n",
              "          docLink.innerHTML = docLinkHtml;\n",
              "          element.appendChild(docLink);\n",
              "        }\n",
              "      </script>\n",
              "    </div>\n",
              "  </div>\n",
              "  "
            ]
          },
          "metadata": {},
          "execution_count": 12
        }
      ],
      "source": [
        "df_splits = pd.read_csv('./data/LIDC_data_split.csv', index_col=0)\n",
        "df_splits.head()"
      ]
    },
    {
      "cell_type": "markdown",
      "id": "20ce5610",
      "metadata": {
        "id": "20ce5610"
      },
      "source": [
        "First we load in the training data"
      ]
    },
    {
      "cell_type": "code",
      "execution_count": 13,
      "id": "705ab8fd",
      "metadata": {
        "id": "705ab8fd"
      },
      "outputs": [],
      "source": [
        "train_data, cv_data, test_data = getImages(split=True, sublabels='malignancy', binary=True, device=DEVICE)\n",
        "\n",
        "#datasets\n",
        "tr = SubclassedNoduleDataset(*train_data)\n",
        "cv = SubclassedNoduleDataset(*cv_data)\n",
        "tst = SubclassedNoduleDataset(*test_data)\n",
        "\n",
        "#dataloaders\n",
        "tr_loader = InfiniteDataLoader(tr, batch_size=512)\n",
        "cv_loader = InfiniteDataLoader(cv, len(cv))\n",
        "tst_loader = InfiniteDataLoader(tst, len(tst))"
      ]
    },
    {
      "cell_type": "markdown",
      "id": "3e67bb4b",
      "metadata": {
        "id": "3e67bb4b"
      },
      "source": [
        "Next we initialize the model!"
      ]
    },
    {
      "cell_type": "code",
      "execution_count": 14,
      "id": "8e1d9ca0",
      "metadata": {
        "id": "8e1d9ca0",
        "outputId": "76b1f2fd-913a-422b-c167-8bc26f6dc1e2",
        "colab": {
          "base_uri": "https://localhost:8080/",
          "height": 156,
          "referenced_widgets": [
            "c5d4513ab372480dbef8f395d4f5a8f4",
            "7e00cc038dfc447f848a0ebb853d1470",
            "ffa6f3a88ebd48d3ad8cf26bc0164fc8",
            "91f3d019593747b6ad6bbe9e5a211bec",
            "75cde84fa606435abfabb60edbfb2596",
            "c25b8532752144eb9d80dfcd784e30c9",
            "488674c924f24f428fff95474f1aa4ab",
            "98e7b3956a4b4834b1f103ad5fb61236",
            "63896f00b19d492e9feebf2d3f84e0de",
            "58007d2a4c3a4e15910a790cf0fc1732",
            "7c100c6f8fcd476b80aa67473433d080"
          ]
        }
      },
      "outputs": [
        {
          "output_type": "stream",
          "name": "stderr",
          "text": [
            "/usr/local/lib/python3.7/dist-packages/torchvision/models/_utils.py:209: UserWarning: The parameter 'pretrained' is deprecated since 0.13 and will be removed in 0.15, please use 'weights' instead.\n",
            "  f\"The parameter '{pretrained_param}' is deprecated since 0.13 and will be removed in 0.15, \"\n",
            "/usr/local/lib/python3.7/dist-packages/torchvision/models/_utils.py:223: UserWarning: Arguments other than a weight enum or `None` for 'weights' are deprecated since 0.13 and will be removed in 0.15. The current behavior is equivalent to passing `weights=ResNet18_Weights.IMAGENET1K_V1`. You can also use `weights=ResNet18_Weights.DEFAULT` to get the most up-to-date weights.\n",
            "  warnings.warn(msg)\n",
            "Downloading: \"https://download.pytorch.org/models/resnet18-f37072fd.pth\" to /root/.cache/torch/hub/checkpoints/resnet18-f37072fd.pth\n"
          ]
        },
        {
          "output_type": "display_data",
          "data": {
            "text/plain": [
              "  0%|          | 0.00/44.7M [00:00<?, ?B/s]"
            ],
            "application/vnd.jupyter.widget-view+json": {
              "version_major": 2,
              "version_minor": 0,
              "model_id": "c5d4513ab372480dbef8f395d4f5a8f4"
            }
          },
          "metadata": {}
        }
      ],
      "source": [
        "model = TransferModel(device=DEVICE, pretrained=True, freeze=False)"
      ]
    },
    {
      "cell_type": "markdown",
      "id": "ea80e03e",
      "metadata": {
        "id": "ea80e03e"
      },
      "source": [
        "Now we train the model"
      ]
    },
    {
      "cell_type": "code",
      "execution_count": 15,
      "id": "71093588",
      "metadata": {
        "id": "71093588",
        "outputId": "6538eb00-ebdd-4825-d2e4-de2c333d8204",
        "colab": {
          "base_uri": "https://localhost:8080/"
        }
      },
      "outputs": [
        {
          "output_type": "stream",
          "name": "stdout",
          "text": [
            "Epoch 1/15\n",
            "Epoch 2/15\n",
            "Epoch 3/15\n",
            "Epoch 4/15\n",
            "Epoch 5/15\n",
            "Epoch 6/15\n",
            "Epoch 7/15\n",
            "Epoch 8/15\n",
            "Epoch 9/15\n",
            "Epoch 10/15\n",
            "Epoch 11/15\n",
            "Epoch 12/15\n",
            "Epoch 13/15\n",
            "Epoch 00013: reducing learning rate of group 0 to 1.0000e-04.\n",
            "Epoch 14/15\n",
            "Epoch 15/15\n"
          ]
        }
      ],
      "source": [
        "epochs = 15\n",
        "train_epochs(epochs, tr_loader, cv_loader, model, loss_fn='ERM',scheduler=True, verbose=False)"
      ]
    },
    {
      "cell_type": "code",
      "execution_count": 16,
      "id": "fc9ce04e",
      "metadata": {
        "id": "fc9ce04e",
        "outputId": "7fa12d98-e60a-4b1b-be5b-b166cea75104",
        "colab": {
          "base_uri": "https://localhost:8080/"
        }
      },
      "outputs": [
        {
          "output_type": "execute_result",
          "data": {
            "text/plain": [
              "(0.8604651162790697,\n",
              " 0.9384615384615385,\n",
              " 0.84,\n",
              " 0.7702702702702703,\n",
              " 0.972972972972973)"
            ]
          },
          "metadata": {},
          "execution_count": 16
        }
      ],
      "source": [
        "test(tst_loader,model)"
      ]
    },
    {
      "cell_type": "markdown",
      "id": "ec354ef2",
      "metadata": {
        "id": "ec354ef2"
      },
      "source": [
        "### Feature Extraction"
      ]
    },
    {
      "cell_type": "markdown",
      "id": "0c7cc857",
      "metadata": {
        "id": "0c7cc857"
      },
      "source": [
        "We first save model weights (for reproducibility)"
      ]
    },
    {
      "cell_type": "code",
      "execution_count": 17,
      "id": "fd8d09a9",
      "metadata": {
        "id": "fd8d09a9"
      },
      "outputs": [],
      "source": [
        " torch.save(model.state_dict(), './data/erm_cluster_weights.pt')"
      ]
    },
    {
      "cell_type": "markdown",
      "id": "8e8f3145",
      "metadata": {
        "id": "8e8f3145"
      },
      "source": [
        "Next we add hooks to let us get activations"
      ]
    },
    {
      "cell_type": "code",
      "execution_count": 18,
      "id": "66a8a339",
      "metadata": {
        "id": "66a8a339",
        "outputId": "52062227-f56a-4fa5-f435-2545d11306e9",
        "colab": {
          "base_uri": "https://localhost:8080/"
        }
      },
      "outputs": [
        {
          "output_type": "execute_result",
          "data": {
            "text/plain": [
              "<torch.utils.hooks.RemovableHandle at 0x7fcc57ebb710>"
            ]
          },
          "metadata": {},
          "execution_count": 18
        }
      ],
      "source": [
        "activation = {}\n",
        "def get_activation(name):\n",
        "    def hook(model, input, output):\n",
        "        activation[name] = output.detach()\n",
        "    return hook\n",
        "model.model.avgpool.register_forward_hook(get_activation('avgpool'))"
      ]
    },
    {
      "cell_type": "markdown",
      "id": "5ede3962",
      "metadata": {
        "id": "5ede3962"
      },
      "source": [
        "We re get the data, but in its entirety with the noduleID"
      ]
    },
    {
      "cell_type": "code",
      "execution_count": 19,
      "id": "9c03c43d",
      "metadata": {
        "id": "9c03c43d"
      },
      "outputs": [],
      "source": [
        "noduleID, data = getImages(split=False, binary=True, device=DEVICE)"
      ]
    },
    {
      "cell_type": "markdown",
      "id": "a10032b2",
      "metadata": {
        "id": "a10032b2"
      },
      "source": [
        "Now we extract features"
      ]
    },
    {
      "cell_type": "code",
      "execution_count": 20,
      "id": "2ff5e0d6",
      "metadata": {
        "id": "2ff5e0d6"
      },
      "outputs": [],
      "source": [
        "imgs = torch.stack(data[0])\n",
        "model(imgs)\n",
        "img_features = activation['avgpool'].squeeze()"
      ]
    },
    {
      "cell_type": "markdown",
      "id": "63226cd7",
      "metadata": {
        "id": "63226cd7"
      },
      "source": [
        "We collect all the features in a dataframe"
      ]
    },
    {
      "cell_type": "code",
      "execution_count": 22,
      "id": "f39cf983",
      "metadata": {
        "id": "f39cf983",
        "outputId": "8babc016-4eaf-4bfb-f105-eb78960839d4",
        "colab": {
          "base_uri": "https://localhost:8080/",
          "height": 235
        }
      },
      "outputs": [
        {
          "output_type": "execute_result",
          "data": {
            "text/plain": [
              "   noduleID         1         2         3    4         5         6         7  \\\n",
              "0       256  1.822303  0.883496  0.630974  0.0  0.000000  0.144747  0.989825   \n",
              "1      2341  1.646644  0.000000  0.424563  0.0  0.045549  0.000000  0.824661   \n",
              "2      2114  1.447641  1.404909  1.875261  0.0  0.000000  0.000000  1.089202   \n",
              "3      1667  2.276172  0.233924  1.059740  0.0  0.000000  0.321852  0.906121   \n",
              "4      2274  1.974773  1.059517  1.512367  0.0  0.009898  0.000000  0.953794   \n",
              "\n",
              "          8         9  ...       506       507       508       509       510  \\\n",
              "0  0.142740  0.116373  ...  0.019549  0.000000  1.745502  0.000000  0.708168   \n",
              "1  0.051335  0.185484  ...  0.244314  0.054744  0.686821  0.000000  0.195056   \n",
              "2  0.000000  0.000000  ...  1.029779  0.000000  1.462384  0.086014  1.383066   \n",
              "3  0.421460  0.090436  ...  0.189179  0.000000  2.214041  0.000000  0.255908   \n",
              "4  0.000000  0.143947  ...  0.162572  0.030686  2.172146  0.063038  1.400073   \n",
              "\n",
              "        511       512  split  malignancy  malignancy_b  \n",
              "0  0.239255  0.108250      0           0             0  \n",
              "1  0.611862  0.183027      0           0             0  \n",
              "2  0.000000  0.005686      0           0             0  \n",
              "3  0.172343  0.054638      0           0             0  \n",
              "4  0.728207  0.109305      0           0             0  \n",
              "\n",
              "[5 rows x 516 columns]"
            ],
            "text/html": [
              "\n",
              "  <div id=\"df-d9da1a97-78b6-40fe-a2d1-45f3ff823fe0\">\n",
              "    <div class=\"colab-df-container\">\n",
              "      <div>\n",
              "<style scoped>\n",
              "    .dataframe tbody tr th:only-of-type {\n",
              "        vertical-align: middle;\n",
              "    }\n",
              "\n",
              "    .dataframe tbody tr th {\n",
              "        vertical-align: top;\n",
              "    }\n",
              "\n",
              "    .dataframe thead th {\n",
              "        text-align: right;\n",
              "    }\n",
              "</style>\n",
              "<table border=\"1\" class=\"dataframe\">\n",
              "  <thead>\n",
              "    <tr style=\"text-align: right;\">\n",
              "      <th></th>\n",
              "      <th>noduleID</th>\n",
              "      <th>1</th>\n",
              "      <th>2</th>\n",
              "      <th>3</th>\n",
              "      <th>4</th>\n",
              "      <th>5</th>\n",
              "      <th>6</th>\n",
              "      <th>7</th>\n",
              "      <th>8</th>\n",
              "      <th>9</th>\n",
              "      <th>...</th>\n",
              "      <th>506</th>\n",
              "      <th>507</th>\n",
              "      <th>508</th>\n",
              "      <th>509</th>\n",
              "      <th>510</th>\n",
              "      <th>511</th>\n",
              "      <th>512</th>\n",
              "      <th>split</th>\n",
              "      <th>malignancy</th>\n",
              "      <th>malignancy_b</th>\n",
              "    </tr>\n",
              "  </thead>\n",
              "  <tbody>\n",
              "    <tr>\n",
              "      <th>0</th>\n",
              "      <td>256</td>\n",
              "      <td>1.822303</td>\n",
              "      <td>0.883496</td>\n",
              "      <td>0.630974</td>\n",
              "      <td>0.0</td>\n",
              "      <td>0.000000</td>\n",
              "      <td>0.144747</td>\n",
              "      <td>0.989825</td>\n",
              "      <td>0.142740</td>\n",
              "      <td>0.116373</td>\n",
              "      <td>...</td>\n",
              "      <td>0.019549</td>\n",
              "      <td>0.000000</td>\n",
              "      <td>1.745502</td>\n",
              "      <td>0.000000</td>\n",
              "      <td>0.708168</td>\n",
              "      <td>0.239255</td>\n",
              "      <td>0.108250</td>\n",
              "      <td>0</td>\n",
              "      <td>0</td>\n",
              "      <td>0</td>\n",
              "    </tr>\n",
              "    <tr>\n",
              "      <th>1</th>\n",
              "      <td>2341</td>\n",
              "      <td>1.646644</td>\n",
              "      <td>0.000000</td>\n",
              "      <td>0.424563</td>\n",
              "      <td>0.0</td>\n",
              "      <td>0.045549</td>\n",
              "      <td>0.000000</td>\n",
              "      <td>0.824661</td>\n",
              "      <td>0.051335</td>\n",
              "      <td>0.185484</td>\n",
              "      <td>...</td>\n",
              "      <td>0.244314</td>\n",
              "      <td>0.054744</td>\n",
              "      <td>0.686821</td>\n",
              "      <td>0.000000</td>\n",
              "      <td>0.195056</td>\n",
              "      <td>0.611862</td>\n",
              "      <td>0.183027</td>\n",
              "      <td>0</td>\n",
              "      <td>0</td>\n",
              "      <td>0</td>\n",
              "    </tr>\n",
              "    <tr>\n",
              "      <th>2</th>\n",
              "      <td>2114</td>\n",
              "      <td>1.447641</td>\n",
              "      <td>1.404909</td>\n",
              "      <td>1.875261</td>\n",
              "      <td>0.0</td>\n",
              "      <td>0.000000</td>\n",
              "      <td>0.000000</td>\n",
              "      <td>1.089202</td>\n",
              "      <td>0.000000</td>\n",
              "      <td>0.000000</td>\n",
              "      <td>...</td>\n",
              "      <td>1.029779</td>\n",
              "      <td>0.000000</td>\n",
              "      <td>1.462384</td>\n",
              "      <td>0.086014</td>\n",
              "      <td>1.383066</td>\n",
              "      <td>0.000000</td>\n",
              "      <td>0.005686</td>\n",
              "      <td>0</td>\n",
              "      <td>0</td>\n",
              "      <td>0</td>\n",
              "    </tr>\n",
              "    <tr>\n",
              "      <th>3</th>\n",
              "      <td>1667</td>\n",
              "      <td>2.276172</td>\n",
              "      <td>0.233924</td>\n",
              "      <td>1.059740</td>\n",
              "      <td>0.0</td>\n",
              "      <td>0.000000</td>\n",
              "      <td>0.321852</td>\n",
              "      <td>0.906121</td>\n",
              "      <td>0.421460</td>\n",
              "      <td>0.090436</td>\n",
              "      <td>...</td>\n",
              "      <td>0.189179</td>\n",
              "      <td>0.000000</td>\n",
              "      <td>2.214041</td>\n",
              "      <td>0.000000</td>\n",
              "      <td>0.255908</td>\n",
              "      <td>0.172343</td>\n",
              "      <td>0.054638</td>\n",
              "      <td>0</td>\n",
              "      <td>0</td>\n",
              "      <td>0</td>\n",
              "    </tr>\n",
              "    <tr>\n",
              "      <th>4</th>\n",
              "      <td>2274</td>\n",
              "      <td>1.974773</td>\n",
              "      <td>1.059517</td>\n",
              "      <td>1.512367</td>\n",
              "      <td>0.0</td>\n",
              "      <td>0.009898</td>\n",
              "      <td>0.000000</td>\n",
              "      <td>0.953794</td>\n",
              "      <td>0.000000</td>\n",
              "      <td>0.143947</td>\n",
              "      <td>...</td>\n",
              "      <td>0.162572</td>\n",
              "      <td>0.030686</td>\n",
              "      <td>2.172146</td>\n",
              "      <td>0.063038</td>\n",
              "      <td>1.400073</td>\n",
              "      <td>0.728207</td>\n",
              "      <td>0.109305</td>\n",
              "      <td>0</td>\n",
              "      <td>0</td>\n",
              "      <td>0</td>\n",
              "    </tr>\n",
              "  </tbody>\n",
              "</table>\n",
              "<p>5 rows × 516 columns</p>\n",
              "</div>\n",
              "      <button class=\"colab-df-convert\" onclick=\"convertToInteractive('df-d9da1a97-78b6-40fe-a2d1-45f3ff823fe0')\"\n",
              "              title=\"Convert this dataframe to an interactive table.\"\n",
              "              style=\"display:none;\">\n",
              "        \n",
              "  <svg xmlns=\"http://www.w3.org/2000/svg\" height=\"24px\"viewBox=\"0 0 24 24\"\n",
              "       width=\"24px\">\n",
              "    <path d=\"M0 0h24v24H0V0z\" fill=\"none\"/>\n",
              "    <path d=\"M18.56 5.44l.94 2.06.94-2.06 2.06-.94-2.06-.94-.94-2.06-.94 2.06-2.06.94zm-11 1L8.5 8.5l.94-2.06 2.06-.94-2.06-.94L8.5 2.5l-.94 2.06-2.06.94zm10 10l.94 2.06.94-2.06 2.06-.94-2.06-.94-.94-2.06-.94 2.06-2.06.94z\"/><path d=\"M17.41 7.96l-1.37-1.37c-.4-.4-.92-.59-1.43-.59-.52 0-1.04.2-1.43.59L10.3 9.45l-7.72 7.72c-.78.78-.78 2.05 0 2.83L4 21.41c.39.39.9.59 1.41.59.51 0 1.02-.2 1.41-.59l7.78-7.78 2.81-2.81c.8-.78.8-2.07 0-2.86zM5.41 20L4 18.59l7.72-7.72 1.47 1.35L5.41 20z\"/>\n",
              "  </svg>\n",
              "      </button>\n",
              "      \n",
              "  <style>\n",
              "    .colab-df-container {\n",
              "      display:flex;\n",
              "      flex-wrap:wrap;\n",
              "      gap: 12px;\n",
              "    }\n",
              "\n",
              "    .colab-df-convert {\n",
              "      background-color: #E8F0FE;\n",
              "      border: none;\n",
              "      border-radius: 50%;\n",
              "      cursor: pointer;\n",
              "      display: none;\n",
              "      fill: #1967D2;\n",
              "      height: 32px;\n",
              "      padding: 0 0 0 0;\n",
              "      width: 32px;\n",
              "    }\n",
              "\n",
              "    .colab-df-convert:hover {\n",
              "      background-color: #E2EBFA;\n",
              "      box-shadow: 0px 1px 2px rgba(60, 64, 67, 0.3), 0px 1px 3px 1px rgba(60, 64, 67, 0.15);\n",
              "      fill: #174EA6;\n",
              "    }\n",
              "\n",
              "    [theme=dark] .colab-df-convert {\n",
              "      background-color: #3B4455;\n",
              "      fill: #D2E3FC;\n",
              "    }\n",
              "\n",
              "    [theme=dark] .colab-df-convert:hover {\n",
              "      background-color: #434B5C;\n",
              "      box-shadow: 0px 1px 3px 1px rgba(0, 0, 0, 0.15);\n",
              "      filter: drop-shadow(0px 1px 2px rgba(0, 0, 0, 0.3));\n",
              "      fill: #FFFFFF;\n",
              "    }\n",
              "  </style>\n",
              "\n",
              "      <script>\n",
              "        const buttonEl =\n",
              "          document.querySelector('#df-d9da1a97-78b6-40fe-a2d1-45f3ff823fe0 button.colab-df-convert');\n",
              "        buttonEl.style.display =\n",
              "          google.colab.kernel.accessAllowed ? 'block' : 'none';\n",
              "\n",
              "        async function convertToInteractive(key) {\n",
              "          const element = document.querySelector('#df-d9da1a97-78b6-40fe-a2d1-45f3ff823fe0');\n",
              "          const dataTable =\n",
              "            await google.colab.kernel.invokeFunction('convertToInteractive',\n",
              "                                                     [key], {});\n",
              "          if (!dataTable) return;\n",
              "\n",
              "          const docLinkHtml = 'Like what you see? Visit the ' +\n",
              "            '<a target=\"_blank\" href=https://colab.research.google.com/notebooks/data_table.ipynb>data table notebook</a>'\n",
              "            + ' to learn more about interactive tables.';\n",
              "          element.innerHTML = '';\n",
              "          dataTable['output_type'] = 'display_data';\n",
              "          await google.colab.output.renderOutput(dataTable, element);\n",
              "          const docLink = document.createElement('div');\n",
              "          docLink.innerHTML = docLinkHtml;\n",
              "          element.appendChild(docLink);\n",
              "        }\n",
              "      </script>\n",
              "    </div>\n",
              "  </div>\n",
              "  "
            ]
          },
          "metadata": {},
          "execution_count": 22
        }
      ],
      "source": [
        "cols = []\n",
        "for idx,id in enumerate(noduleID):\n",
        "  cols.append([id] + img_features[idx].cpu().numpy().tolist())\n",
        "df_features = pd.DataFrame(cols).rename({0:'noduleID'}, axis=1)\n",
        "\n",
        "splits = [df_splits[df_splits['noduleID'] == id]['split'].iloc[0] for id in  df_features['noduleID']]\n",
        "malig = [df_splits[df_splits['noduleID'] == id]['malignancy'].iloc[0] for id in  df_features['noduleID']]\n",
        "\n",
        "df_features['split'] = splits\n",
        "df_features['malignancy'] = malig\n",
        "df_features['malignancy_b'] = np.where(df_features['malignancy']>1, 1, 0)\n",
        "df_features.head()"
      ]
    },
    {
      "cell_type": "markdown",
      "id": "dff4045d",
      "metadata": {
        "id": "dff4045d"
      },
      "source": [
        "We again save the data for reproducibility"
      ]
    },
    {
      "cell_type": "code",
      "execution_count": 23,
      "id": "baffd36c",
      "metadata": {
        "id": "baffd36c"
      },
      "outputs": [],
      "source": [
        "df_features.to_csv('./data/erm_cluster_cnn_features.csv')"
      ]
    },
    {
      "cell_type": "markdown",
      "id": "f01fe687",
      "metadata": {
        "id": "f01fe687"
      },
      "source": [
        "## Feature Reduce and Cluster"
      ]
    },
    {
      "cell_type": "markdown",
      "id": "f4ca88b0",
      "metadata": {
        "id": "f4ca88b0"
      },
      "source": [
        "### Feature Reduce"
      ]
    },
    {
      "cell_type": "markdown",
      "id": "ade3caf3",
      "metadata": {
        "id": "ade3caf3"
      },
      "source": [
        "First we split df into two by the splits"
      ]
    },
    {
      "cell_type": "code",
      "execution_count": 24,
      "id": "6e8d89fc",
      "metadata": {
        "id": "6e8d89fc"
      },
      "outputs": [],
      "source": [
        "df_features_train = df_features[df_features['split'] == 0]\n",
        "df_features_cv_test = df_features[df_features['split'] != 0]"
      ]
    },
    {
      "cell_type": "markdown",
      "id": "916d56c4",
      "metadata": {
        "id": "916d56c4"
      },
      "source": [
        "Next we get the features in an array"
      ]
    },
    {
      "cell_type": "code",
      "execution_count": 25,
      "id": "6929144a",
      "metadata": {
        "id": "6929144a"
      },
      "outputs": [],
      "source": [
        "train_features = df_features_train.drop(['noduleID', 'split', 'malignancy', 'malignancy_b'], axis=1).values\n",
        "cv_test_features = df_features_cv_test.drop(['noduleID', 'split', 'malignancy', 'malignancy_b'], axis=1).values"
      ]
    },
    {
      "cell_type": "markdown",
      "id": "3af995b2",
      "metadata": {
        "id": "3af995b2"
      },
      "source": [
        "Following the George paper, we use UMAP to dimensionaly reduce our data"
      ]
    },
    {
      "cell_type": "code",
      "execution_count": 26,
      "id": "a73c3b33",
      "metadata": {
        "id": "a73c3b33",
        "outputId": "894f5765-e6cf-4e38-d59e-d9fedf5cea6e",
        "colab": {
          "base_uri": "https://localhost:8080/"
        }
      },
      "outputs": [
        {
          "output_type": "stream",
          "name": "stderr",
          "text": [
            "/usr/local/lib/python3.7/dist-packages/numba/np/ufunc/parallel.py:363: NumbaWarning: The TBB threading layer requires TBB version 2019.5 or later i.e., TBB_INTERFACE_VERSION >= 11005. Found TBB_INTERFACE_VERSION = 9107. The TBB threading layer is disabled.\n",
            "  warnings.warn(problem)\n"
          ]
        },
        {
          "output_type": "execute_result",
          "data": {
            "text/plain": [
              "UMAP(random_state=8, tqdm_kwds={'bar_format': '{desc}: {percentage:3.0f}%| {bar} {n_fmt}/{total_fmt} [{elapsed}]', 'desc': 'Epochs completed', 'disable': True})"
            ]
          },
          "metadata": {},
          "execution_count": 26
        }
      ],
      "source": [
        "reducer = UMAP(random_state=8)\n",
        "reducer.fit(train_features)"
      ]
    },
    {
      "cell_type": "code",
      "execution_count": 27,
      "id": "70a7252d",
      "metadata": {
        "id": "70a7252d"
      },
      "outputs": [],
      "source": [
        "train_embeds = reducer.transform(train_features)"
      ]
    },
    {
      "cell_type": "markdown",
      "id": "3f50a812",
      "metadata": {
        "id": "3f50a812"
      },
      "source": [
        "Now we visualize the reduction on train dataset"
      ]
    },
    {
      "cell_type": "code",
      "source": [
        "show_scatter(train_embeds[:, 0], train_embeds[:, 1],df_features_train['malignancy'],'Train Embeddings', 0.5)\n",
        "\n"
      ],
      "metadata": {
        "id": "XlPlr1ZQhb5f",
        "outputId": "3dfc0a4c-59b1-45a6-fef6-0c107a7d80c1",
        "colab": {
          "base_uri": "https://localhost:8080/",
          "height": 281
        }
      },
      "id": "XlPlr1ZQhb5f",
      "execution_count": 48,
      "outputs": [
        {
          "output_type": "display_data",
          "data": {
            "text/plain": [
              "<Figure size 432x288 with 1 Axes>"
            ],
            "image/png": "[encoded data removed]"
          },
          "metadata": {
            "needs_background": "light"
          }
        }
      ]
    },
    {
      "cell_type": "markdown",
      "id": "84ddb8e2",
      "metadata": {
        "id": "84ddb8e2"
      },
      "source": [
        "We also do same visualization on cv and test"
      ]
    },
    {
      "cell_type": "code",
      "execution_count": 29,
      "id": "05ce9a28",
      "metadata": {
        "id": "05ce9a28"
      },
      "outputs": [],
      "source": [
        "cv_test_embeds = reducer.transform(cv_test_features)"
      ]
    },
    {
      "cell_type": "code",
      "execution_count": 49,
      "id": "6c007ab0",
      "metadata": {
        "id": "6c007ab0",
        "outputId": "0cd88498-abf3-480c-ed1b-558e59644c7c",
        "colab": {
          "base_uri": "https://localhost:8080/",
          "height": 281
        }
      },
      "outputs": [
        {
          "output_type": "display_data",
          "data": {
            "text/plain": [
              "<Figure size 432x288 with 1 Axes>"
            ],
            "image/png": "[encoded data removed]"
          },
          "metadata": {
            "needs_background": "light"
          }
        }
      ],
      "source": [
        "show_scatter(cv_test_embeds[:, 0], cv_test_embeds[:, 1],df_features_cv_test['malignancy'],'CV Test Embeddings', 0.5)\n"
      ]
    },
    {
      "cell_type": "markdown",
      "id": "b3ae499e",
      "metadata": {
        "id": "b3ae499e"
      },
      "source": [
        "We now save the reduce"
      ]
    },
    {
      "cell_type": "code",
      "execution_count": 31,
      "id": "b5345903",
      "metadata": {
        "id": "b5345903"
      },
      "outputs": [],
      "source": [
        "f_reducer = './cnn_umap_reducer.sav'\n",
        "pickle.dump(reducer, open(f_reducer, 'wb'))"
      ]
    },
    {
      "cell_type": "markdown",
      "id": "2e900474",
      "metadata": {
        "id": "2e900474"
      },
      "source": [
        "### Feature Cluster"
      ]
    },
    {
      "cell_type": "markdown",
      "id": "f55115df",
      "metadata": {
        "id": "f55115df"
      },
      "source": [
        "Now we cluster the training embeddings using Gaussian Mixture\n",
        "\n",
        "We first visualize the silhouette score\n",
        "\n",
        "(we only cluster on malignant since that is what we want)"
      ]
    },
    {
      "cell_type": "code",
      "source": [
        "train_embeds_malig = reducer.transform(train_features[df_features_train['malignancy_b'] == 1])"
      ],
      "metadata": {
        "id": "FHO3q6vUjAQh"
      },
      "id": "FHO3q6vUjAQh",
      "execution_count": 50,
      "outputs": []
    },
    {
      "cell_type": "code",
      "execution_count": 51,
      "id": "29b9cdc8",
      "metadata": {
        "id": "29b9cdc8",
        "outputId": "4b42036b-2507-48b6-99bb-e312bad7eb61",
        "colab": {
          "base_uri": "https://localhost:8080/",
          "height": 296
        }
      },
      "outputs": [
        {
          "output_type": "execute_result",
          "data": {
            "text/plain": [
              "Text(0, 0.5, 'Silhouette Coefficients')"
            ]
          },
          "metadata": {},
          "execution_count": 51
        },
        {
          "output_type": "display_data",
          "data": {
            "text/plain": [
              "<Figure size 432x288 with 1 Axes>"
            ],
            "image/png": "[encoded data removed]"
          },
          "metadata": {
            "needs_background": "light"
          }
        }
      ],
      "source": [
        "clusters = [n for n in range(2,16)]\n",
        "silhouette_coefficients = []\n",
        "\n",
        "for cluster in clusters:\n",
        "  gmm = GaussianMixture(n_components=cluster, random_state=61).fit(train_embeds_malig)\n",
        "  labels = gmm.predict(train_embeds_malig)\n",
        "  \n",
        "  silhouette_avg = silhouette_score(train_embeds_malig, labels)\n",
        "  silhouette_coefficients.append(silhouette_avg)\n",
        "\n",
        "plt.plot(clusters, silhouette_coefficients)\n",
        "plt.xlabel('Number of Clusters')\n",
        "plt.ylabel('Silhouette Coefficients')"
      ]
    },
    {
      "cell_type": "markdown",
      "id": "2eb4177c",
      "metadata": {
        "id": "2eb4177c"
      },
      "source": [
        "We note from above, the best number of subclasses is 2."
      ]
    },
    {
      "cell_type": "code",
      "execution_count": 52,
      "id": "61f1e245",
      "metadata": {
        "id": "61f1e245"
      },
      "outputs": [],
      "source": [
        "clusterer = GaussianMixture(n_components=2, random_state=61).fit(train_embeds_malig)"
      ]
    },
    {
      "cell_type": "markdown",
      "source": [
        "We now visualize the clusters ont train"
      ],
      "metadata": {
        "id": "HACFygAvj1b0"
      },
      "id": "HACFygAvj1b0"
    },
    {
      "cell_type": "code",
      "execution_count": 54,
      "id": "0e87f5e6",
      "metadata": {
        "id": "0e87f5e6",
        "outputId": "44238820-66fe-4a04-db92-5692f91621a3",
        "colab": {
          "base_uri": "https://localhost:8080/",
          "height": 281
        }
      },
      "outputs": [
        {
          "output_type": "display_data",
          "data": {
            "text/plain": [
              "<Figure size 432x288 with 1 Axes>"
            ],
            "image/png": "[encoded data removed]"
          },
          "metadata": {
            "needs_background": "light"
          }
        }
      ],
      "source": [
        "train_labels = clusterer.predict(train_embeds)\n",
        "\n",
        "show_scatter(train_embeds[:, 0], train_embeds[:, 1],train_labels,'Training Embeddings Clustered', 0.5)"
      ]
    },
    {
      "cell_type": "code",
      "execution_count": 55,
      "id": "14047808",
      "metadata": {
        "id": "14047808",
        "outputId": "f58033a8-a400-4415-8ce0-3635bd7b32bb",
        "colab": {
          "base_uri": "https://localhost:8080/",
          "height": 281
        }
      },
      "outputs": [
        {
          "output_type": "display_data",
          "data": {
            "text/plain": [
              "<Figure size 432x288 with 1 Axes>"
            ],
            "image/png": "[encoded data removed]"
          },
          "metadata": {
            "needs_background": "light"
          }
        }
      ],
      "source": [
        "cv_test_labels = clusterer.predict(cv_test_embeds)\n",
        "\n",
        "show_scatter(cv_test_embeds[:, 0], cv_test_embeds[:, 1],cv_test_labels,'CV Test Embeddings Clustered', 0.5)"
      ]
    }
  ],
  "metadata": {
    "kernelspec": {
      "display_name": "REU",
      "language": "python",
      "name": "reu"
    },
    "language_info": {
      "codemirror_mode": {
        "name": "ipython",
        "version": 3
      },
      "file_extension": ".py",
      "mimetype": "text/x-python",
      "name": "python",
      "nbconvert_exporter": "python",
      "pygments_lexer": "ipython3",
      "version": "3.10.5"
    },
    "colab": {
      "name": "LIDC_Georges_End_to_End.ipynb",
      "provenance": [],
      "include_colab_link": true
    },
    "accelerator": "GPU",
    "gpuClass": "standard",
    "widgets": {
      "application/vnd.jupyter.widget-state+json": {
        "c5d4513ab372480dbef8f395d4f5a8f4": {
          "model_module": "@jupyter-widgets/controls",
          "model_name": "HBoxModel",
          "model_module_version": "1.5.0",
          "state": {
            "_dom_classes": [],
            "_model_module": "@jupyter-widgets/controls",
            "_model_module_version": "1.5.0",
            "_model_name": "HBoxModel",
            "_view_count": null,
            "_view_module": "@jupyter-widgets/controls",
            "_view_module_version": "1.5.0",
            "_view_name": "HBoxView",
            "box_style": "",
            "children": [
              "IPY_MODEL_7e00cc038dfc447f848a0ebb853d1470",
              "IPY_MODEL_ffa6f3a88ebd48d3ad8cf26bc0164fc8",
              "IPY_MODEL_91f3d019593747b6ad6bbe9e5a211bec"
            ],
            "layout": "IPY_MODEL_75cde84fa606435abfabb60edbfb2596"
          }
        },
        "7e00cc038dfc447f848a0ebb853d1470": {
          "model_module": "@jupyter-widgets/controls",
          "model_name": "HTMLModel",
          "model_module_version": "1.5.0",
          "state": {
            "_dom_classes": [],
            "_model_module": "@jupyter-widgets/controls",
            "_model_module_version": "1.5.0",
            "_model_name": "HTMLModel",
            "_view_count": null,
            "_view_module": "@jupyter-widgets/controls",
            "_view_module_version": "1.5.0",
            "_view_name": "HTMLView",
            "description": "",
            "description_tooltip": null,
            "layout": "IPY_MODEL_c25b8532752144eb9d80dfcd784e30c9",
            "placeholder": "​",
            "style": "IPY_MODEL_488674c924f24f428fff95474f1aa4ab",
            "value": "100%"
          }
        },
        "ffa6f3a88ebd48d3ad8cf26bc0164fc8": {
          "model_module": "@jupyter-widgets/controls",
          "model_name": "FloatProgressModel",
          "model_module_version": "1.5.0",
          "state": {
            "_dom_classes": [],
            "_model_module": "@jupyter-widgets/controls",
            "_model_module_version": "1.5.0",
            "_model_name": "FloatProgressModel",
            "_view_count": null,
            "_view_module": "@jupyter-widgets/controls",
            "_view_module_version": "1.5.0",
            "_view_name": "ProgressView",
            "bar_style": "success",
            "description": "",
            "description_tooltip": null,
            "layout": "IPY_MODEL_98e7b3956a4b4834b1f103ad5fb61236",
            "max": 46830571,
            "min": 0,
            "orientation": "horizontal",
            "style": "IPY_MODEL_63896f00b19d492e9feebf2d3f84e0de",
            "value": 46830571
          }
        },
        "91f3d019593747b6ad6bbe9e5a211bec": {
          "model_module": "@jupyter-widgets/controls",
          "model_name": "HTMLModel",
          "model_module_version": "1.5.0",
          "state": {
            "_dom_classes": [],
            "_model_module": "@jupyter-widgets/controls",
            "_model_module_version": "1.5.0",
            "_model_name": "HTMLModel",
            "_view_count": null,
            "_view_module": "@jupyter-widgets/controls",
            "_view_module_version": "1.5.0",
            "_view_name": "HTMLView",
            "description": "",
            "description_tooltip": null,
            "layout": "IPY_MODEL_58007d2a4c3a4e15910a790cf0fc1732",
            "placeholder": "​",
            "style": "IPY_MODEL_7c100c6f8fcd476b80aa67473433d080",
            "value": " 44.7M/44.7M [00:00&lt;00:00, 87.9MB/s]"
          }
        },
        "75cde84fa606435abfabb60edbfb2596": {
          "model_module": "@jupyter-widgets/base",
          "model_name": "LayoutModel",
          "model_module_version": "1.2.0",
          "state": {
            "_model_module": "@jupyter-widgets/base",
            "_model_module_version": "1.2.0",
            "_model_name": "LayoutModel",
            "_view_count": null,
            "_view_module": "@jupyter-widgets/base",
            "_view_module_version": "1.2.0",
            "_view_name": "LayoutView",
            "align_content": null,
            "align_items": null,
            "align_self": null,
            "border": null,
            "bottom": null,
            "display": null,
            "flex": null,
            "flex_flow": null,
            "grid_area": null,
            "grid_auto_columns": null,
            "grid_auto_flow": null,
            "grid_auto_rows": null,
            "grid_column": null,
            "grid_gap": null,
            "grid_row": null,
            "grid_template_areas": null,
            "grid_template_columns": null,
            "grid_template_rows": null,
            "height": null,
            "justify_content": null,
            "justify_items": null,
            "left": null,
            "margin": null,
            "max_height": null,
            "max_width": null,
            "min_height": null,
            "min_width": null,
            "object_fit": null,
            "object_position": null,
            "order": null,
            "overflow": null,
            "overflow_x": null,
            "overflow_y": null,
            "padding": null,
            "right": null,
            "top": null,
            "visibility": null,
            "width": null
          }
        },
        "c25b8532752144eb9d80dfcd784e30c9": {
          "model_module": "@jupyter-widgets/base",
          "model_name": "LayoutModel",
          "model_module_version": "1.2.0",
          "state": {
            "_model_module": "@jupyter-widgets/base",
            "_model_module_version": "1.2.0",
            "_model_name": "LayoutModel",
            "_view_count": null,
            "_view_module": "@jupyter-widgets/base",
            "_view_module_version": "1.2.0",
            "_view_name": "LayoutView",
            "align_content": null,
            "align_items": null,
            "align_self": null,
            "border": null,
            "bottom": null,
            "display": null,
            "flex": null,
            "flex_flow": null,
            "grid_area": null,
            "grid_auto_columns": null,
            "grid_auto_flow": null,
            "grid_auto_rows": null,
            "grid_column": null,
            "grid_gap": null,
            "grid_row": null,
            "grid_template_areas": null,
            "grid_template_columns": null,
            "grid_template_rows": null,
            "height": null,
            "justify_content": null,
            "justify_items": null,
            "left": null,
            "margin": null,
            "max_height": null,
            "max_width": null,
            "min_height": null,
            "min_width": null,
            "object_fit": null,
            "object_position": null,
            "order": null,
            "overflow": null,
            "overflow_x": null,
            "overflow_y": null,
            "padding": null,
            "right": null,
            "top": null,
            "visibility": null,
            "width": null
          }
        },
        "488674c924f24f428fff95474f1aa4ab": {
          "model_module": "@jupyter-widgets/controls",
          "model_name": "DescriptionStyleModel",
          "model_module_version": "1.5.0",
          "state": {
            "_model_module": "@jupyter-widgets/controls",
            "_model_module_version": "1.5.0",
            "_model_name": "DescriptionStyleModel",
            "_view_count": null,
            "_view_module": "@jupyter-widgets/base",
            "_view_module_version": "1.2.0",
            "_view_name": "StyleView",
            "description_width": ""
          }
        },
        "98e7b3956a4b4834b1f103ad5fb61236": {
          "model_module": "@jupyter-widgets/base",
          "model_name": "LayoutModel",
          "model_module_version": "1.2.0",
          "state": {
            "_model_module": "@jupyter-widgets/base",
            "_model_module_version": "1.2.0",
            "_model_name": "LayoutModel",
            "_view_count": null,
            "_view_module": "@jupyter-widgets/base",
            "_view_module_version": "1.2.0",
            "_view_name": "LayoutView",
            "align_content": null,
            "align_items": null,
            "align_self": null,
            "border": null,
            "bottom": null,
            "display": null,
            "flex": null,
            "flex_flow": null,
            "grid_area": null,
            "grid_auto_columns": null,
            "grid_auto_flow": null,
            "grid_auto_rows": null,
            "grid_column": null,
            "grid_gap": null,
            "grid_row": null,
            "grid_template_areas": null,
            "grid_template_columns": null,
            "grid_template_rows": null,
            "height": null,
            "justify_content": null,
            "justify_items": null,
            "left": null,
            "margin": null,
            "max_height": null,
            "max_width": null,
            "min_height": null,
            "min_width": null,
            "object_fit": null,
            "object_position": null,
            "order": null,
            "overflow": null,
            "overflow_x": null,
            "overflow_y": null,
            "padding": null,
            "right": null,
            "top": null,
            "visibility": null,
            "width": null
          }
        },
        "63896f00b19d492e9feebf2d3f84e0de": {
          "model_module": "@jupyter-widgets/controls",
          "model_name": "ProgressStyleModel",
          "model_module_version": "1.5.0",
          "state": {
            "_model_module": "@jupyter-widgets/controls",
            "_model_module_version": "1.5.0",
            "_model_name": "ProgressStyleModel",
            "_view_count": null,
            "_view_module": "@jupyter-widgets/base",
            "_view_module_version": "1.2.0",
            "_view_name": "StyleView",
            "bar_color": null,
            "description_width": ""
          }
        },
        "58007d2a4c3a4e15910a790cf0fc1732": {
          "model_module": "@jupyter-widgets/base",
          "model_name": "LayoutModel",
          "model_module_version": "1.2.0",
          "state": {
            "_model_module": "@jupyter-widgets/base",
            "_model_module_version": "1.2.0",
            "_model_name": "LayoutModel",
            "_view_count": null,
            "_view_module": "@jupyter-widgets/base",
            "_view_module_version": "1.2.0",
            "_view_name": "LayoutView",
            "align_content": null,
            "align_items": null,
            "align_self": null,
            "border": null,
            "bottom": null,
            "display": null,
            "flex": null,
            "flex_flow": null,
            "grid_area": null,
            "grid_auto_columns": null,
            "grid_auto_flow": null,
            "grid_auto_rows": null,
            "grid_column": null,
            "grid_gap": null,
            "grid_row": null,
            "grid_template_areas": null,
            "grid_template_columns": null,
            "grid_template_rows": null,
            "height": null,
            "justify_content": null,
            "justify_items": null,
            "left": null,
            "margin": null,
            "max_height": null,
            "max_width": null,
            "min_height": null,
            "min_width": null,
            "object_fit": null,
            "object_position": null,
            "order": null,
            "overflow": null,
            "overflow_x": null,
            "overflow_y": null,
            "padding": null,
            "right": null,
            "top": null,
            "visibility": null,
            "width": null
          }
        },
        "7c100c6f8fcd476b80aa67473433d080": {
          "model_module": "@jupyter-widgets/controls",
          "model_name": "DescriptionStyleModel",
          "model_module_version": "1.5.0",
          "state": {
            "_model_module": "@jupyter-widgets/controls",
            "_model_module_version": "1.5.0",
            "_model_name": "DescriptionStyleModel",
            "_view_count": null,
            "_view_module": "@jupyter-widgets/base",
            "_view_module_version": "1.2.0",
            "_view_name": "StyleView",
            "description_width": ""
          }
        }
      }
    }
  },
  "nbformat": 4,
  "nbformat_minor": 5
}