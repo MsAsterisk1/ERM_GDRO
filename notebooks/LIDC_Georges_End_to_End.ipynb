{
  "cells": [
    {
      "cell_type": "markdown",
      "metadata": {
        "id": "view-in-github",
        "colab_type": "text"
      },
      "source": [
        "<a href=\"https://colab.research.google.com/github/mtzig/LIDC_GDRO/blob/main/notebooks/LIDC_Georges_End_to_End.ipynb\" target=\"_parent\"><img src=\"https://colab.research.google.com/assets/colab-badge.svg\" alt=\"Open In Colab\"/></a>"
      ]
    },
    {
      "cell_type": "markdown",
      "id": "48b41a21",
      "metadata": {
        "id": "48b41a21"
      },
      "source": [
        "#LIDC GDRO: Looking at Clustered Subgroups\n",
        "\n",
        "Thomas Zeng"
      ]
    },
    {
      "cell_type": "markdown",
      "id": "2275997b",
      "metadata": {
        "id": "2275997b"
      },
      "source": [
        "## Notebook Setup"
      ]
    },
    {
      "cell_type": "markdown",
      "id": "c69190e7",
      "metadata": {
        "id": "c69190e7"
      },
      "source": [
        "Setup autoreload extension"
      ]
    },
    {
      "cell_type": "code",
      "execution_count": 1,
      "id": "89996c23",
      "metadata": {
        "id": "89996c23"
      },
      "outputs": [],
      "source": [
        "%load_ext autoreload\n",
        "%autoreload 2"
      ]
    },
    {
      "cell_type": "markdown",
      "id": "c0aa3675",
      "metadata": {
        "id": "c0aa3675"
      },
      "source": [
        "Clone repo (if on colab)"
      ]
    },
    {
      "cell_type": "code",
      "execution_count": 2,
      "id": "5a993151",
      "metadata": {
        "colab": {
          "base_uri": "https://localhost:8080/"
        },
        "id": "5a993151",
        "outputId": "c7a60b07-329f-4ab5-e170-ac6ba57a825d"
      },
      "outputs": [
        {
          "output_type": "stream",
          "name": "stdout",
          "text": [
            "fatal: destination path 'LIDC_GDRO' already exists and is not an empty directory.\n",
            "/content/LIDC_GDRO\n"
          ]
        }
      ],
      "source": [
        "!git clone https://github.com/mtzig/LIDC_GDRO.git\n",
        "%cd /content/LIDC_GDRO\n",
        "# %cd .."
      ]
    },
    {
      "cell_type": "code",
      "execution_count": 3,
      "id": "AAg-eYbtiLCU",
      "metadata": {
        "id": "AAg-eYbtiLCU"
      },
      "outputs": [],
      "source": [
        "# !git pull"
      ]
    },
    {
      "cell_type": "markdown",
      "id": "ffedab5f",
      "metadata": {
        "id": "ffedab5f"
      },
      "source": [
        "import necessary libraries"
      ]
    },
    {
      "cell_type": "code",
      "execution_count": 4,
      "id": "KAIKRQm8er5I",
      "metadata": {
        "colab": {
          "base_uri": "https://localhost:8080/"
        },
        "id": "KAIKRQm8er5I",
        "outputId": "e4a8257c-ef63-433c-fad1-c93108647ef5"
      },
      "outputs": [
        {
          "output_type": "stream",
          "name": "stdout",
          "text": [
            "Looking in indexes: https://pypi.org/simple, https://us-python.pkg.dev/colab-wheels/public/simple/\n",
            "Requirement already satisfied: umap-learn in /usr/local/lib/python3.7/dist-packages (0.5.3)\n",
            "Requirement already satisfied: numba>=0.49 in /usr/local/lib/python3.7/dist-packages (from umap-learn) (0.56.0)\n",
            "Requirement already satisfied: pynndescent>=0.5 in /usr/local/lib/python3.7/dist-packages (from umap-learn) (0.5.7)\n",
            "Requirement already satisfied: scipy>=1.0 in /usr/local/lib/python3.7/dist-packages (from umap-learn) (1.7.3)\n",
            "Requirement already satisfied: scikit-learn>=0.22 in /usr/local/lib/python3.7/dist-packages (from umap-learn) (1.0.2)\n",
            "Requirement already satisfied: numpy>=1.17 in /usr/local/lib/python3.7/dist-packages (from umap-learn) (1.21.6)\n",
            "Requirement already satisfied: tqdm in /usr/local/lib/python3.7/dist-packages (from umap-learn) (4.64.0)\n",
            "Requirement already satisfied: setuptools in /usr/local/lib/python3.7/dist-packages (from numba>=0.49->umap-learn) (57.4.0)\n",
            "Requirement already satisfied: llvmlite<0.40,>=0.39.0dev0 in /usr/local/lib/python3.7/dist-packages (from numba>=0.49->umap-learn) (0.39.0)\n",
            "Requirement already satisfied: importlib-metadata in /usr/local/lib/python3.7/dist-packages (from numba>=0.49->umap-learn) (4.12.0)\n",
            "Requirement already satisfied: joblib>=0.11 in /usr/local/lib/python3.7/dist-packages (from pynndescent>=0.5->umap-learn) (1.1.0)\n",
            "Requirement already satisfied: threadpoolctl>=2.0.0 in /usr/local/lib/python3.7/dist-packages (from scikit-learn>=0.22->umap-learn) (3.1.0)\n",
            "Requirement already satisfied: typing-extensions>=3.6.4 in /usr/local/lib/python3.7/dist-packages (from importlib-metadata->numba>=0.49->umap-learn) (4.1.1)\n",
            "Requirement already satisfied: zipp>=0.5 in /usr/local/lib/python3.7/dist-packages (from importlib-metadata->numba>=0.49->umap-learn) (3.8.1)\n"
          ]
        }
      ],
      "source": [
        "!pip install umap-learn"
      ]
    },
    {
      "cell_type": "code",
      "execution_count": 5,
      "id": "179801e0",
      "metadata": {
        "id": "179801e0"
      },
      "outputs": [],
      "source": [
        "import pandas as pd\n",
        "import numpy as np\n",
        "from dataloaders import InfiniteDataLoader\n",
        "from datasets import SubclassedDataset\n",
        "from models import TransferModel18\n",
        "from train_eval import train, evaluate, train_epochs\n",
        "from torch.optim.lr_scheduler import ReduceLROnPlateau\n",
        "from loss import ERMLoss, GDROLoss \n",
        "import os\n",
        "# import torchvision\n",
        "from torchvision import transforms\n",
        "import torch\n",
        "from utils.image_data_utils import images_to_df, get_features, show_scatter\n",
        "\n",
        "from umap import UMAP\n",
        "from matplotlib import pyplot as plt\n",
        "import pickle\n",
        "from sklearn.mixture import GaussianMixture\n",
        "from sklearn.metrics import silhouette_score"
      ]
    },
    {
      "cell_type": "markdown",
      "id": "82755e95",
      "metadata": {
        "id": "82755e95"
      },
      "source": [
        "Get available Device"
      ]
    },
    {
      "cell_type": "code",
      "execution_count": 6,
      "id": "927fcddf",
      "metadata": {
        "colab": {
          "base_uri": "https://localhost:8080/"
        },
        "id": "927fcddf",
        "outputId": "b08f1aec-bc85-4b02-f45e-c5156754e55b"
      },
      "outputs": [
        {
          "output_type": "stream",
          "name": "stdout",
          "text": [
            "Good to go!\n"
          ]
        }
      ],
      "source": [
        "if torch.cuda.is_available():\n",
        "    print(\"Good to go!\")\n",
        "    DEVICE = torch.device(\"cuda\")\n",
        "else:\n",
        "    print(\"Using cpu\")\n",
        "    DEVICE = torch.device(\"cpu\")"
      ]
    },
    {
      "cell_type": "markdown",
      "id": "49953b35",
      "metadata": {
        "id": "49953b35"
      },
      "source": [
        "## ERM Model: Training ERM model to extract CNN features"
      ]
    },
    {
      "cell_type": "markdown",
      "id": "539b89e0",
      "metadata": {
        "id": "539b89e0"
      },
      "source": [
        "### ERM Modeling"
      ]
    },
    {
      "cell_type": "markdown",
      "id": "2c01dc32",
      "metadata": {
        "id": "2c01dc32"
      },
      "source": [
        "Just for visulalization, the csv where we get the train, cv, test splits and subgroups come from below csv. "
      ]
    },
    {
      "cell_type": "code",
      "execution_count": 7,
      "id": "63061a76",
      "metadata": {
        "colab": {
          "base_uri": "https://localhost:8080/",
          "height": 206
        },
        "id": "63061a76",
        "outputId": "76a9c5c9-a20e-4a54-b6cf-154ba46e1f7f"
      },
      "outputs": [
        {
          "output_type": "execute_result",
          "data": {
            "text/plain": [
              "   noduleID  split  malignancy  malignancy_b  spic_groups\n",
              "0         1      0           3             1            3\n",
              "1         2      0           3             1            2\n",
              "2         3      1           3             1            3\n",
              "3         4      0           2             1            3\n",
              "4         5      2           2             1            2"
            ],
            "text/html": [
              "\n",
              "  <div id=\"df-84decc69-c838-4d93-8112-12d28916ba89\">\n",
              "    <div class=\"colab-df-container\">\n",
              "      <div>\n",
              "<style scoped>\n",
              "    .dataframe tbody tr th:only-of-type {\n",
              "        vertical-align: middle;\n",
              "    }\n",
              "\n",
              "    .dataframe tbody tr th {\n",
              "        vertical-align: top;\n",
              "    }\n",
              "\n",
              "    .dataframe thead th {\n",
              "        text-align: right;\n",
              "    }\n",
              "</style>\n",
              "<table border=\"1\" class=\"dataframe\">\n",
              "  <thead>\n",
              "    <tr style=\"text-align: right;\">\n",
              "      <th></th>\n",
              "      <th>noduleID</th>\n",
              "      <th>split</th>\n",
              "      <th>malignancy</th>\n",
              "      <th>malignancy_b</th>\n",
              "      <th>spic_groups</th>\n",
              "    </tr>\n",
              "  </thead>\n",
              "  <tbody>\n",
              "    <tr>\n",
              "      <th>0</th>\n",
              "      <td>1</td>\n",
              "      <td>0</td>\n",
              "      <td>3</td>\n",
              "      <td>1</td>\n",
              "      <td>3</td>\n",
              "    </tr>\n",
              "    <tr>\n",
              "      <th>1</th>\n",
              "      <td>2</td>\n",
              "      <td>0</td>\n",
              "      <td>3</td>\n",
              "      <td>1</td>\n",
              "      <td>2</td>\n",
              "    </tr>\n",
              "    <tr>\n",
              "      <th>2</th>\n",
              "      <td>3</td>\n",
              "      <td>1</td>\n",
              "      <td>3</td>\n",
              "      <td>1</td>\n",
              "      <td>3</td>\n",
              "    </tr>\n",
              "    <tr>\n",
              "      <th>3</th>\n",
              "      <td>4</td>\n",
              "      <td>0</td>\n",
              "      <td>2</td>\n",
              "      <td>1</td>\n",
              "      <td>3</td>\n",
              "    </tr>\n",
              "    <tr>\n",
              "      <th>4</th>\n",
              "      <td>5</td>\n",
              "      <td>2</td>\n",
              "      <td>2</td>\n",
              "      <td>1</td>\n",
              "      <td>2</td>\n",
              "    </tr>\n",
              "  </tbody>\n",
              "</table>\n",
              "</div>\n",
              "      <button class=\"colab-df-convert\" onclick=\"convertToInteractive('df-84decc69-c838-4d93-8112-12d28916ba89')\"\n",
              "              title=\"Convert this dataframe to an interactive table.\"\n",
              "              style=\"display:none;\">\n",
              "        \n",
              "  <svg xmlns=\"http://www.w3.org/2000/svg\" height=\"24px\"viewBox=\"0 0 24 24\"\n",
              "       width=\"24px\">\n",
              "    <path d=\"M0 0h24v24H0V0z\" fill=\"none\"/>\n",
              "    <path d=\"M18.56 5.44l.94 2.06.94-2.06 2.06-.94-2.06-.94-.94-2.06-.94 2.06-2.06.94zm-11 1L8.5 8.5l.94-2.06 2.06-.94-2.06-.94L8.5 2.5l-.94 2.06-2.06.94zm10 10l.94 2.06.94-2.06 2.06-.94-2.06-.94-.94-2.06-.94 2.06-2.06.94z\"/><path d=\"M17.41 7.96l-1.37-1.37c-.4-.4-.92-.59-1.43-.59-.52 0-1.04.2-1.43.59L10.3 9.45l-7.72 7.72c-.78.78-.78 2.05 0 2.83L4 21.41c.39.39.9.59 1.41.59.51 0 1.02-.2 1.41-.59l7.78-7.78 2.81-2.81c.8-.78.8-2.07 0-2.86zM5.41 20L4 18.59l7.72-7.72 1.47 1.35L5.41 20z\"/>\n",
              "  </svg>\n",
              "      </button>\n",
              "      \n",
              "  <style>\n",
              "    .colab-df-container {\n",
              "      display:flex;\n",
              "      flex-wrap:wrap;\n",
              "      gap: 12px;\n",
              "    }\n",
              "\n",
              "    .colab-df-convert {\n",
              "      background-color: #E8F0FE;\n",
              "      border: none;\n",
              "      border-radius: 50%;\n",
              "      cursor: pointer;\n",
              "      display: none;\n",
              "      fill: #1967D2;\n",
              "      height: 32px;\n",
              "      padding: 0 0 0 0;\n",
              "      width: 32px;\n",
              "    }\n",
              "\n",
              "    .colab-df-convert:hover {\n",
              "      background-color: #E2EBFA;\n",
              "      box-shadow: 0px 1px 2px rgba(60, 64, 67, 0.3), 0px 1px 3px 1px rgba(60, 64, 67, 0.15);\n",
              "      fill: #174EA6;\n",
              "    }\n",
              "\n",
              "    [theme=dark] .colab-df-convert {\n",
              "      background-color: #3B4455;\n",
              "      fill: #D2E3FC;\n",
              "    }\n",
              "\n",
              "    [theme=dark] .colab-df-convert:hover {\n",
              "      background-color: #434B5C;\n",
              "      box-shadow: 0px 1px 3px 1px rgba(0, 0, 0, 0.15);\n",
              "      filter: drop-shadow(0px 1px 2px rgba(0, 0, 0, 0.3));\n",
              "      fill: #FFFFFF;\n",
              "    }\n",
              "  </style>\n",
              "\n",
              "      <script>\n",
              "        const buttonEl =\n",
              "          document.querySelector('#df-84decc69-c838-4d93-8112-12d28916ba89 button.colab-df-convert');\n",
              "        buttonEl.style.display =\n",
              "          google.colab.kernel.accessAllowed ? 'block' : 'none';\n",
              "\n",
              "        async function convertToInteractive(key) {\n",
              "          const element = document.querySelector('#df-84decc69-c838-4d93-8112-12d28916ba89');\n",
              "          const dataTable =\n",
              "            await google.colab.kernel.invokeFunction('convertToInteractive',\n",
              "                                                     [key], {});\n",
              "          if (!dataTable) return;\n",
              "\n",
              "          const docLinkHtml = 'Like what you see? Visit the ' +\n",
              "            '<a target=\"_blank\" href=https://colab.research.google.com/notebooks/data_table.ipynb>data table notebook</a>'\n",
              "            + ' to learn more about interactive tables.';\n",
              "          element.innerHTML = '';\n",
              "          dataTable['output_type'] = 'display_data';\n",
              "          await google.colab.output.renderOutput(dataTable, element);\n",
              "          const docLink = document.createElement('div');\n",
              "          docLink.innerHTML = docLinkHtml;\n",
              "          element.appendChild(docLink);\n",
              "        }\n",
              "      </script>\n",
              "    </div>\n",
              "  </div>\n",
              "  "
            ]
          },
          "metadata": {},
          "execution_count": 7
        }
      ],
      "source": [
        "df_splits = pd.read_csv('./data/train_test_splits/LIDC_data_split.csv', index_col=0)\n",
        "df_splits.head()"
      ]
    },
    {
      "cell_type": "markdown",
      "id": "PI2oC8EZbkVJ",
      "metadata": {
        "id": "PI2oC8EZbkVJ"
      },
      "source": [
        "First we get all image in a dataframe"
      ]
    },
    {
      "cell_type": "code",
      "execution_count": 8,
      "id": "t0y-F_7gcnwS",
      "metadata": {
        "id": "t0y-F_7gcnwS"
      },
      "outputs": [],
      "source": [
        "images_df = images_to_df()"
      ]
    },
    {
      "cell_type": "markdown",
      "id": "20ce5610",
      "metadata": {
        "id": "20ce5610"
      },
      "source": [
        "Next we load in the training data"
      ]
    },
    {
      "cell_type": "code",
      "execution_count": 9,
      "id": "705ab8fd",
      "metadata": {
        "colab": {
          "base_uri": "https://localhost:8080/"
        },
        "id": "705ab8fd",
        "outputId": "39859651-c659-4192-d16d-b6341488c0d1"
      },
      "outputs": [
        {
          "output_type": "stream",
          "name": "stderr",
          "text": [
            "/usr/local/lib/python3.7/dist-packages/pandas/util/_decorators.py:311: SettingWithCopyWarning: \n",
            "A value is trying to be set on a copy of a slice from a DataFrame\n",
            "\n",
            "See the caveats in the documentation: https://pandas.pydata.org/pandas-docs/stable/user_guide/indexing.html#returning-a-view-versus-a-copy\n",
            "  return func(*args, **kwargs)\n",
            "/content/LIDC_GDRO/utils/image_data_utils.py:203: SettingWithCopyWarning: \n",
            "A value is trying to be set on a copy of a slice from a DataFrame.\n",
            "Try using .loc[row_indexer,col_indexer] = value instead\n",
            "\n",
            "See the caveats in the documentation: https://pandas.pydata.org/pandas-docs/stable/user_guide/indexing.html#returning-a-view-versus-a-copy\n",
            "  df_features['clusters'] = df_subclass[subclass]\n",
            "/content/LIDC_GDRO/utils/image_data_utils.py:204: SettingWithCopyWarning: \n",
            "A value is trying to be set on a copy of a slice from a DataFrame.\n",
            "Try using .loc[row_indexer,col_indexer] = value instead\n",
            "\n",
            "See the caveats in the documentation: https://pandas.pydata.org/pandas-docs/stable/user_guide/indexing.html#returning-a-view-versus-a-copy\n",
            "  df_features['malignancy_b'] = df_splits['malignancy_b']\n"
          ]
        }
      ],
      "source": [
        "train_data, cv_data, test_data = get_features(images=True, features=images_df, device=DEVICE, subclass='malignancy')\n",
        "\n",
        "#datasets\n",
        "tr = SubclassedDataset(*train_data)\n",
        "cv = SubclassedDataset(*cv_data)\n",
        "tst = SubclassedDataset(*test_data)\n",
        "\n",
        "#dataloaders\n",
        "tr_loader = InfiniteDataLoader(tr, batch_size=512)\n",
        "cv_loader = InfiniteDataLoader(cv, len(cv))\n",
        "tst_loader = InfiniteDataLoader(tst, len(tst))"
      ]
    },
    {
      "cell_type": "markdown",
      "id": "3e67bb4b",
      "metadata": {
        "id": "3e67bb4b"
      },
      "source": [
        "Next we initialize the model!"
      ]
    },
    {
      "cell_type": "code",
      "execution_count": 10,
      "id": "8e1d9ca0",
      "metadata": {
        "id": "8e1d9ca0"
      },
      "outputs": [],
      "source": [
        "model = TransferModel18(device=DEVICE, pretrained=True, freeze=False)\n",
        "optimizer = torch.optim.Adam(model.parameters(), lr=0.0005, weight_decay=0.005)"
      ]
    },
    {
      "cell_type": "markdown",
      "id": "ea80e03e",
      "metadata": {
        "id": "ea80e03e"
      },
      "source": [
        "Now we train the model"
      ]
    },
    {
      "cell_type": "code",
      "execution_count": 11,
      "id": "71093588",
      "metadata": {
        "colab": {
          "base_uri": "https://localhost:8080/"
        },
        "id": "71093588",
        "outputId": "67955bba-dc7e-4e18-fd1c-c9557464c644"
      },
      "outputs": [
        {
          "output_type": "stream",
          "name": "stdout",
          "text": [
            "Epoch 1 / 20\n",
            "Epoch 2 / 20\n",
            "Epoch 3 / 20\n",
            "Epoch 4 / 20\n",
            "Epoch 5 / 20\n",
            "Epoch 6 / 20\n",
            "Epoch 7 / 20\n",
            "Epoch 8 / 20\n",
            "Epoch 9 / 20\n",
            "Epoch 00009: reducing learning rate of group 0 to 1.0000e-04.\n",
            "Epoch 10 / 20\n",
            "Epoch 11 / 20\n",
            "Epoch 12 / 20\n",
            "Epoch 00012: reducing learning rate of group 0 to 2.0000e-05.\n",
            "Epoch 13 / 20\n",
            "Epoch 14 / 20\n",
            "Epoch 15 / 20\n",
            "Epoch 00015: reducing learning rate of group 0 to 4.0000e-06.\n",
            "Epoch 16 / 20\n",
            "Epoch 17 / 20\n",
            "Epoch 18 / 20\n",
            "Epoch 00018: reducing learning rate of group 0 to 8.0000e-07.\n",
            "Epoch 19 / 20\n",
            "Epoch 20 / 20\n"
          ]
        }
      ],
      "source": [
        "epochs = 20\n",
        "loss_fn = ERMLoss(model, torch.nn.CrossEntropyLoss())\n",
        "train_epochs(epochs, tr_loader, tst_loader, model, loss_fn, optimizer, scheduler=ReduceLROnPlateau(optimizer, mode='max', factor=0.2, patience=2, verbose=True), verbose=True, num_subclasses=4)"
      ]
    },
    {
      "cell_type": "code",
      "execution_count": 12,
      "id": "fc9ce04e",
      "metadata": {
        "colab": {
          "base_uri": "https://localhost:8080/"
        },
        "id": "fc9ce04e",
        "outputId": "5f17994d-c382-40b5-b22c-7900f1d1c38f"
      },
      "outputs": [
        {
          "output_type": "stream",
          "name": "stdout",
          "text": [
            "Accuracy: 0.8571428571428571 \n",
            "Accuracy over subgroups: [0.94117647 0.83185841 0.73611111 0.97916667] \n",
            "Worst Group Accuracy: 0.7361111111111112\n"
          ]
        },
        {
          "output_type": "execute_result",
          "data": {
            "text/plain": [
              "(0.8571428571428571,\n",
              " 0.9411764705882353,\n",
              " 0.831858407079646,\n",
              " 0.7361111111111112,\n",
              " 0.9791666666666666)"
            ]
          },
          "metadata": {},
          "execution_count": 12
        }
      ],
      "source": [
        "evaluate(tst_loader,model, 4, verbose=True)"
      ]
    },
    {
      "cell_type": "markdown",
      "id": "ec354ef2",
      "metadata": {
        "id": "ec354ef2"
      },
      "source": [
        "### Feature Extraction"
      ]
    },
    {
      "cell_type": "markdown",
      "id": "0c7cc857",
      "metadata": {
        "id": "0c7cc857"
      },
      "source": [
        "We first save model weights (for reproducibility)"
      ]
    },
    {
      "cell_type": "code",
      "execution_count": 13,
      "id": "fd8d09a9",
      "metadata": {
        "id": "fd8d09a9"
      },
      "outputs": [],
      "source": [
        " torch.save(model.state_dict(), './data/erm_cluster_weights.pt')"
      ]
    },
    {
      "cell_type": "markdown",
      "id": "8e8f3145",
      "metadata": {
        "id": "8e8f3145"
      },
      "source": [
        "Next we add hooks to let us get activations"
      ]
    },
    {
      "cell_type": "code",
      "execution_count": 14,
      "id": "66a8a339",
      "metadata": {
        "colab": {
          "base_uri": "https://localhost:8080/"
        },
        "id": "66a8a339",
        "outputId": "ab702a64-7c0a-4c67-cf1c-fdfa033cdd39"
      },
      "outputs": [
        {
          "output_type": "execute_result",
          "data": {
            "text/plain": [
              "<torch.utils.hooks.RemovableHandle at 0x7f0df2cd02d0>"
            ]
          },
          "metadata": {},
          "execution_count": 14
        }
      ],
      "source": [
        "activation = {}\n",
        "def get_activation(name):\n",
        "    def hook(model, input, output):\n",
        "        activation[name] = output.detach()\n",
        "    return hook\n",
        "model.model.avgpool.register_forward_hook(get_activation('avgpool'))"
      ]
    },
    {
      "cell_type": "markdown",
      "id": "5ede3962",
      "metadata": {
        "id": "5ede3962"
      },
      "source": [
        "We re get the data, but in its entirety with the noduleID"
      ]
    },
    {
      "cell_type": "code",
      "execution_count": 15,
      "id": "9c03c43d",
      "metadata": {
        "id": "9c03c43d"
      },
      "outputs": [],
      "source": [
        "noduleID, data = images_df['noduleID'], torch.stack(list(images_df['image'])).to(DEVICE)"
      ]
    },
    {
      "cell_type": "markdown",
      "id": "a10032b2",
      "metadata": {
        "id": "a10032b2"
      },
      "source": [
        "Now we extract features"
      ]
    },
    {
      "cell_type": "code",
      "execution_count": 16,
      "id": "2ff5e0d6",
      "metadata": {
        "id": "2ff5e0d6"
      },
      "outputs": [],
      "source": [
        "model(data)\n",
        "img_features = activation['avgpool'].squeeze()"
      ]
    },
    {
      "cell_type": "markdown",
      "id": "63226cd7",
      "metadata": {
        "id": "63226cd7"
      },
      "source": [
        "We collect all the features in a dataframe"
      ]
    },
    {
      "cell_type": "code",
      "execution_count": 17,
      "id": "f39cf983",
      "metadata": {
        "colab": {
          "base_uri": "https://localhost:8080/",
          "height": 0
        },
        "id": "f39cf983",
        "outputId": "be2aa0d5-4c11-4075-dcf0-8e41ebfd0a13"
      },
      "outputs": [
        {
          "output_type": "execute_result",
          "data": {
            "text/plain": [
              "   noduleID         1         2         3         4         5         6  \\\n",
              "0         1  3.559897  1.840019  0.000000  0.000000  1.302786  0.474583   \n",
              "1         2  0.000000  1.805064  0.171740  0.000000  0.464909  0.158253   \n",
              "2         3  3.330997  4.075565  2.704143  0.000000  1.704231  2.032919   \n",
              "3         4  1.527877  2.018963  0.401698  0.072585  0.570253  1.533303   \n",
              "4         5  0.078358  0.195374  0.473845  0.781485  0.000000  1.394403   \n",
              "\n",
              "          7         8         9  ...       503       504       505       506  \\\n",
              "0  0.000000  5.813891  0.000000  ...  1.854259  1.150942  1.432335  0.000000   \n",
              "1  0.014403  3.548511  0.976760  ...  0.065502  1.379530  0.000000  0.000000   \n",
              "2  0.000000  3.011930  2.616934  ...  2.269811  4.348404  4.003192  0.000000   \n",
              "3  0.000000  0.860839  0.508364  ...  1.117402  0.000000  0.050580  0.944325   \n",
              "4  0.111538  0.000000  0.783515  ...  0.152379  0.964716  0.112426  0.111267   \n",
              "\n",
              "        507       508       509       510       511       512  \n",
              "0  3.426431  4.607851  0.585250  1.635234  5.349514  1.441350  \n",
              "1  0.194838  0.831969  0.614258  0.000000  3.338964  0.128409  \n",
              "2  3.002775  2.367898  1.236665  0.019333  0.537098  4.437745  \n",
              "3  2.418221  0.874633  0.639484  0.000000  1.703401  0.124928  \n",
              "4  0.285885  0.000000  0.790100  0.472354  0.712069  0.167727  \n",
              "\n",
              "[5 rows x 513 columns]"
            ],
            "text/html": [
              "\n",
              "  <div id=\"df-aaa5a5fa-04c0-44a0-aac9-e46a2575ac48\">\n",
              "    <div class=\"colab-df-container\">\n",
              "      <div>\n",
              "<style scoped>\n",
              "    .dataframe tbody tr th:only-of-type {\n",
              "        vertical-align: middle;\n",
              "    }\n",
              "\n",
              "    .dataframe tbody tr th {\n",
              "        vertical-align: top;\n",
              "    }\n",
              "\n",
              "    .dataframe thead th {\n",
              "        text-align: right;\n",
              "    }\n",
              "</style>\n",
              "<table border=\"1\" class=\"dataframe\">\n",
              "  <thead>\n",
              "    <tr style=\"text-align: right;\">\n",
              "      <th></th>\n",
              "      <th>noduleID</th>\n",
              "      <th>1</th>\n",
              "      <th>2</th>\n",
              "      <th>3</th>\n",
              "      <th>4</th>\n",
              "      <th>5</th>\n",
              "      <th>6</th>\n",
              "      <th>7</th>\n",
              "      <th>8</th>\n",
              "      <th>9</th>\n",
              "      <th>...</th>\n",
              "      <th>503</th>\n",
              "      <th>504</th>\n",
              "      <th>505</th>\n",
              "      <th>506</th>\n",
              "      <th>507</th>\n",
              "      <th>508</th>\n",
              "      <th>509</th>\n",
              "      <th>510</th>\n",
              "      <th>511</th>\n",
              "      <th>512</th>\n",
              "    </tr>\n",
              "  </thead>\n",
              "  <tbody>\n",
              "    <tr>\n",
              "      <th>0</th>\n",
              "      <td>1</td>\n",
              "      <td>3.559897</td>\n",
              "      <td>1.840019</td>\n",
              "      <td>0.000000</td>\n",
              "      <td>0.000000</td>\n",
              "      <td>1.302786</td>\n",
              "      <td>0.474583</td>\n",
              "      <td>0.000000</td>\n",
              "      <td>5.813891</td>\n",
              "      <td>0.000000</td>\n",
              "      <td>...</td>\n",
              "      <td>1.854259</td>\n",
              "      <td>1.150942</td>\n",
              "      <td>1.432335</td>\n",
              "      <td>0.000000</td>\n",
              "      <td>3.426431</td>\n",
              "      <td>4.607851</td>\n",
              "      <td>0.585250</td>\n",
              "      <td>1.635234</td>\n",
              "      <td>5.349514</td>\n",
              "      <td>1.441350</td>\n",
              "    </tr>\n",
              "    <tr>\n",
              "      <th>1</th>\n",
              "      <td>2</td>\n",
              "      <td>0.000000</td>\n",
              "      <td>1.805064</td>\n",
              "      <td>0.171740</td>\n",
              "      <td>0.000000</td>\n",
              "      <td>0.464909</td>\n",
              "      <td>0.158253</td>\n",
              "      <td>0.014403</td>\n",
              "      <td>3.548511</td>\n",
              "      <td>0.976760</td>\n",
              "      <td>...</td>\n",
              "      <td>0.065502</td>\n",
              "      <td>1.379530</td>\n",
              "      <td>0.000000</td>\n",
              "      <td>0.000000</td>\n",
              "      <td>0.194838</td>\n",
              "      <td>0.831969</td>\n",
              "      <td>0.614258</td>\n",
              "      <td>0.000000</td>\n",
              "      <td>3.338964</td>\n",
              "      <td>0.128409</td>\n",
              "    </tr>\n",
              "    <tr>\n",
              "      <th>2</th>\n",
              "      <td>3</td>\n",
              "      <td>3.330997</td>\n",
              "      <td>4.075565</td>\n",
              "      <td>2.704143</td>\n",
              "      <td>0.000000</td>\n",
              "      <td>1.704231</td>\n",
              "      <td>2.032919</td>\n",
              "      <td>0.000000</td>\n",
              "      <td>3.011930</td>\n",
              "      <td>2.616934</td>\n",
              "      <td>...</td>\n",
              "      <td>2.269811</td>\n",
              "      <td>4.348404</td>\n",
              "      <td>4.003192</td>\n",
              "      <td>0.000000</td>\n",
              "      <td>3.002775</td>\n",
              "      <td>2.367898</td>\n",
              "      <td>1.236665</td>\n",
              "      <td>0.019333</td>\n",
              "      <td>0.537098</td>\n",
              "      <td>4.437745</td>\n",
              "    </tr>\n",
              "    <tr>\n",
              "      <th>3</th>\n",
              "      <td>4</td>\n",
              "      <td>1.527877</td>\n",
              "      <td>2.018963</td>\n",
              "      <td>0.401698</td>\n",
              "      <td>0.072585</td>\n",
              "      <td>0.570253</td>\n",
              "      <td>1.533303</td>\n",
              "      <td>0.000000</td>\n",
              "      <td>0.860839</td>\n",
              "      <td>0.508364</td>\n",
              "      <td>...</td>\n",
              "      <td>1.117402</td>\n",
              "      <td>0.000000</td>\n",
              "      <td>0.050580</td>\n",
              "      <td>0.944325</td>\n",
              "      <td>2.418221</td>\n",
              "      <td>0.874633</td>\n",
              "      <td>0.639484</td>\n",
              "      <td>0.000000</td>\n",
              "      <td>1.703401</td>\n",
              "      <td>0.124928</td>\n",
              "    </tr>\n",
              "    <tr>\n",
              "      <th>4</th>\n",
              "      <td>5</td>\n",
              "      <td>0.078358</td>\n",
              "      <td>0.195374</td>\n",
              "      <td>0.473845</td>\n",
              "      <td>0.781485</td>\n",
              "      <td>0.000000</td>\n",
              "      <td>1.394403</td>\n",
              "      <td>0.111538</td>\n",
              "      <td>0.000000</td>\n",
              "      <td>0.783515</td>\n",
              "      <td>...</td>\n",
              "      <td>0.152379</td>\n",
              "      <td>0.964716</td>\n",
              "      <td>0.112426</td>\n",
              "      <td>0.111267</td>\n",
              "      <td>0.285885</td>\n",
              "      <td>0.000000</td>\n",
              "      <td>0.790100</td>\n",
              "      <td>0.472354</td>\n",
              "      <td>0.712069</td>\n",
              "      <td>0.167727</td>\n",
              "    </tr>\n",
              "  </tbody>\n",
              "</table>\n",
              "<p>5 rows × 513 columns</p>\n",
              "</div>\n",
              "      <button class=\"colab-df-convert\" onclick=\"convertToInteractive('df-aaa5a5fa-04c0-44a0-aac9-e46a2575ac48')\"\n",
              "              title=\"Convert this dataframe to an interactive table.\"\n",
              "              style=\"display:none;\">\n",
              "        \n",
              "  <svg xmlns=\"http://www.w3.org/2000/svg\" height=\"24px\"viewBox=\"0 0 24 24\"\n",
              "       width=\"24px\">\n",
              "    <path d=\"M0 0h24v24H0V0z\" fill=\"none\"/>\n",
              "    <path d=\"M18.56 5.44l.94 2.06.94-2.06 2.06-.94-2.06-.94-.94-2.06-.94 2.06-2.06.94zm-11 1L8.5 8.5l.94-2.06 2.06-.94-2.06-.94L8.5 2.5l-.94 2.06-2.06.94zm10 10l.94 2.06.94-2.06 2.06-.94-2.06-.94-.94-2.06-.94 2.06-2.06.94z\"/><path d=\"M17.41 7.96l-1.37-1.37c-.4-.4-.92-.59-1.43-.59-.52 0-1.04.2-1.43.59L10.3 9.45l-7.72 7.72c-.78.78-.78 2.05 0 2.83L4 21.41c.39.39.9.59 1.41.59.51 0 1.02-.2 1.41-.59l7.78-7.78 2.81-2.81c.8-.78.8-2.07 0-2.86zM5.41 20L4 18.59l7.72-7.72 1.47 1.35L5.41 20z\"/>\n",
              "  </svg>\n",
              "      </button>\n",
              "      \n",
              "  <style>\n",
              "    .colab-df-container {\n",
              "      display:flex;\n",
              "      flex-wrap:wrap;\n",
              "      gap: 12px;\n",
              "    }\n",
              "\n",
              "    .colab-df-convert {\n",
              "      background-color: #E8F0FE;\n",
              "      border: none;\n",
              "      border-radius: 50%;\n",
              "      cursor: pointer;\n",
              "      display: none;\n",
              "      fill: #1967D2;\n",
              "      height: 32px;\n",
              "      padding: 0 0 0 0;\n",
              "      width: 32px;\n",
              "    }\n",
              "\n",
              "    .colab-df-convert:hover {\n",
              "      background-color: #E2EBFA;\n",
              "      box-shadow: 0px 1px 2px rgba(60, 64, 67, 0.3), 0px 1px 3px 1px rgba(60, 64, 67, 0.15);\n",
              "      fill: #174EA6;\n",
              "    }\n",
              "\n",
              "    [theme=dark] .colab-df-convert {\n",
              "      background-color: #3B4455;\n",
              "      fill: #D2E3FC;\n",
              "    }\n",
              "\n",
              "    [theme=dark] .colab-df-convert:hover {\n",
              "      background-color: #434B5C;\n",
              "      box-shadow: 0px 1px 3px 1px rgba(0, 0, 0, 0.15);\n",
              "      filter: drop-shadow(0px 1px 2px rgba(0, 0, 0, 0.3));\n",
              "      fill: #FFFFFF;\n",
              "    }\n",
              "  </style>\n",
              "\n",
              "      <script>\n",
              "        const buttonEl =\n",
              "          document.querySelector('#df-aaa5a5fa-04c0-44a0-aac9-e46a2575ac48 button.colab-df-convert');\n",
              "        buttonEl.style.display =\n",
              "          google.colab.kernel.accessAllowed ? 'block' : 'none';\n",
              "\n",
              "        async function convertToInteractive(key) {\n",
              "          const element = document.querySelector('#df-aaa5a5fa-04c0-44a0-aac9-e46a2575ac48');\n",
              "          const dataTable =\n",
              "            await google.colab.kernel.invokeFunction('convertToInteractive',\n",
              "                                                     [key], {});\n",
              "          if (!dataTable) return;\n",
              "\n",
              "          const docLinkHtml = 'Like what you see? Visit the ' +\n",
              "            '<a target=\"_blank\" href=https://colab.research.google.com/notebooks/data_table.ipynb>data table notebook</a>'\n",
              "            + ' to learn more about interactive tables.';\n",
              "          element.innerHTML = '';\n",
              "          dataTable['output_type'] = 'display_data';\n",
              "          await google.colab.output.renderOutput(dataTable, element);\n",
              "          const docLink = document.createElement('div');\n",
              "          docLink.innerHTML = docLinkHtml;\n",
              "          element.appendChild(docLink);\n",
              "        }\n",
              "      </script>\n",
              "    </div>\n",
              "  </div>\n",
              "  "
            ]
          },
          "metadata": {},
          "execution_count": 17
        }
      ],
      "source": [
        "cols = []\n",
        "for idx,id in enumerate(noduleID):\n",
        "  cols.append([id] + img_features[idx].cpu().numpy().tolist())\n",
        "df_features_all = pd.DataFrame(cols).rename({0:'noduleID'}, axis=1)\n",
        "df_features_all.sort_values('noduleID', inplace=True)\n",
        "df_features_all.reset_index(drop=True, inplace=True)\n",
        "df_features_all.head()"
      ]
    },
    {
      "cell_type": "markdown",
      "id": "dff4045d",
      "metadata": {
        "id": "dff4045d"
      },
      "source": [
        "We again save the data for reproducibility"
      ]
    },
    {
      "cell_type": "code",
      "execution_count": 18,
      "id": "baffd36c",
      "metadata": {
        "id": "baffd36c"
      },
      "outputs": [],
      "source": [
        "df_features_all.to_csv('./data/erm_cluster_cnn_features.csv')"
      ]
    },
    {
      "cell_type": "code",
      "execution_count": 19,
      "id": "5uoNBVaygtKm",
      "metadata": {
        "colab": {
          "base_uri": "https://localhost:8080/",
          "height": 0
        },
        "id": "5uoNBVaygtKm",
        "outputId": "3dd8682d-b6a1-44ce-8628-4e2930e966bf"
      },
      "outputs": [
        {
          "output_type": "stream",
          "name": "stderr",
          "text": [
            "/usr/local/lib/python3.7/dist-packages/pandas/util/_decorators.py:311: SettingWithCopyWarning: \n",
            "A value is trying to be set on a copy of a slice from a DataFrame\n",
            "\n",
            "See the caveats in the documentation: https://pandas.pydata.org/pandas-docs/stable/user_guide/indexing.html#returning-a-view-versus-a-copy\n",
            "  return func(*args, **kwargs)\n",
            "/usr/local/lib/python3.7/dist-packages/ipykernel_launcher.py:5: SettingWithCopyWarning: \n",
            "A value is trying to be set on a copy of a slice from a DataFrame.\n",
            "Try using .loc[row_indexer,col_indexer] = value instead\n",
            "\n",
            "See the caveats in the documentation: https://pandas.pydata.org/pandas-docs/stable/user_guide/indexing.html#returning-a-view-versus-a-copy\n",
            "  \"\"\"\n",
            "/usr/local/lib/python3.7/dist-packages/ipykernel_launcher.py:6: SettingWithCopyWarning: \n",
            "A value is trying to be set on a copy of a slice from a DataFrame.\n",
            "Try using .loc[row_indexer,col_indexer] = value instead\n",
            "\n",
            "See the caveats in the documentation: https://pandas.pydata.org/pandas-docs/stable/user_guide/indexing.html#returning-a-view-versus-a-copy\n",
            "  \n"
          ]
        },
        {
          "output_type": "execute_result",
          "data": {
            "text/plain": [
              "   noduleID         1         2         3         4         5         6  \\\n",
              "0         1  3.559897  1.840019  0.000000  0.000000  1.302786  0.474583   \n",
              "1         2  0.000000  1.805064  0.171740  0.000000  0.464909  0.158253   \n",
              "2         3  3.330997  4.075565  2.704143  0.000000  1.704231  2.032919   \n",
              "3         4  1.527877  2.018963  0.401698  0.072585  0.570253  1.533303   \n",
              "4         5  0.078358  0.195374  0.473845  0.781485  0.000000  1.394403   \n",
              "\n",
              "          7         8         9  ...       505       506       507       508  \\\n",
              "0  0.000000  5.813891  0.000000  ...  1.432335  0.000000  3.426431  4.607851   \n",
              "1  0.014403  3.548511  0.976760  ...  0.000000  0.000000  0.194838  0.831969   \n",
              "2  0.000000  3.011930  2.616934  ...  4.003192  0.000000  3.002775  2.367898   \n",
              "3  0.000000  0.860839  0.508364  ...  0.050580  0.944325  2.418221  0.874633   \n",
              "4  0.111538  0.000000  0.783515  ...  0.112426  0.111267  0.285885  0.000000   \n",
              "\n",
              "        509       510       511       512  split  malignancy  \n",
              "0  0.585250  1.635234  5.349514  1.441350      0           3  \n",
              "1  0.614258  0.000000  3.338964  0.128409      0           3  \n",
              "2  1.236665  0.019333  0.537098  4.437745      1           3  \n",
              "3  0.639484  0.000000  1.703401  0.124928      0           2  \n",
              "4  0.790100  0.472354  0.712069  0.167727      2           2  \n",
              "\n",
              "[5 rows x 515 columns]"
            ],
            "text/html": [
              "\n",
              "  <div id=\"df-f1b1efa1-9e9a-4cb7-932e-f5155f4e35c1\">\n",
              "    <div class=\"colab-df-container\">\n",
              "      <div>\n",
              "<style scoped>\n",
              "    .dataframe tbody tr th:only-of-type {\n",
              "        vertical-align: middle;\n",
              "    }\n",
              "\n",
              "    .dataframe tbody tr th {\n",
              "        vertical-align: top;\n",
              "    }\n",
              "\n",
              "    .dataframe thead th {\n",
              "        text-align: right;\n",
              "    }\n",
              "</style>\n",
              "<table border=\"1\" class=\"dataframe\">\n",
              "  <thead>\n",
              "    <tr style=\"text-align: right;\">\n",
              "      <th></th>\n",
              "      <th>noduleID</th>\n",
              "      <th>1</th>\n",
              "      <th>2</th>\n",
              "      <th>3</th>\n",
              "      <th>4</th>\n",
              "      <th>5</th>\n",
              "      <th>6</th>\n",
              "      <th>7</th>\n",
              "      <th>8</th>\n",
              "      <th>9</th>\n",
              "      <th>...</th>\n",
              "      <th>505</th>\n",
              "      <th>506</th>\n",
              "      <th>507</th>\n",
              "      <th>508</th>\n",
              "      <th>509</th>\n",
              "      <th>510</th>\n",
              "      <th>511</th>\n",
              "      <th>512</th>\n",
              "      <th>split</th>\n",
              "      <th>malignancy</th>\n",
              "    </tr>\n",
              "  </thead>\n",
              "  <tbody>\n",
              "    <tr>\n",
              "      <th>0</th>\n",
              "      <td>1</td>\n",
              "      <td>3.559897</td>\n",
              "      <td>1.840019</td>\n",
              "      <td>0.000000</td>\n",
              "      <td>0.000000</td>\n",
              "      <td>1.302786</td>\n",
              "      <td>0.474583</td>\n",
              "      <td>0.000000</td>\n",
              "      <td>5.813891</td>\n",
              "      <td>0.000000</td>\n",
              "      <td>...</td>\n",
              "      <td>1.432335</td>\n",
              "      <td>0.000000</td>\n",
              "      <td>3.426431</td>\n",
              "      <td>4.607851</td>\n",
              "      <td>0.585250</td>\n",
              "      <td>1.635234</td>\n",
              "      <td>5.349514</td>\n",
              "      <td>1.441350</td>\n",
              "      <td>0</td>\n",
              "      <td>3</td>\n",
              "    </tr>\n",
              "    <tr>\n",
              "      <th>1</th>\n",
              "      <td>2</td>\n",
              "      <td>0.000000</td>\n",
              "      <td>1.805064</td>\n",
              "      <td>0.171740</td>\n",
              "      <td>0.000000</td>\n",
              "      <td>0.464909</td>\n",
              "      <td>0.158253</td>\n",
              "      <td>0.014403</td>\n",
              "      <td>3.548511</td>\n",
              "      <td>0.976760</td>\n",
              "      <td>...</td>\n",
              "      <td>0.000000</td>\n",
              "      <td>0.000000</td>\n",
              "      <td>0.194838</td>\n",
              "      <td>0.831969</td>\n",
              "      <td>0.614258</td>\n",
              "      <td>0.000000</td>\n",
              "      <td>3.338964</td>\n",
              "      <td>0.128409</td>\n",
              "      <td>0</td>\n",
              "      <td>3</td>\n",
              "    </tr>\n",
              "    <tr>\n",
              "      <th>2</th>\n",
              "      <td>3</td>\n",
              "      <td>3.330997</td>\n",
              "      <td>4.075565</td>\n",
              "      <td>2.704143</td>\n",
              "      <td>0.000000</td>\n",
              "      <td>1.704231</td>\n",
              "      <td>2.032919</td>\n",
              "      <td>0.000000</td>\n",
              "      <td>3.011930</td>\n",
              "      <td>2.616934</td>\n",
              "      <td>...</td>\n",
              "      <td>4.003192</td>\n",
              "      <td>0.000000</td>\n",
              "      <td>3.002775</td>\n",
              "      <td>2.367898</td>\n",
              "      <td>1.236665</td>\n",
              "      <td>0.019333</td>\n",
              "      <td>0.537098</td>\n",
              "      <td>4.437745</td>\n",
              "      <td>1</td>\n",
              "      <td>3</td>\n",
              "    </tr>\n",
              "    <tr>\n",
              "      <th>3</th>\n",
              "      <td>4</td>\n",
              "      <td>1.527877</td>\n",
              "      <td>2.018963</td>\n",
              "      <td>0.401698</td>\n",
              "      <td>0.072585</td>\n",
              "      <td>0.570253</td>\n",
              "      <td>1.533303</td>\n",
              "      <td>0.000000</td>\n",
              "      <td>0.860839</td>\n",
              "      <td>0.508364</td>\n",
              "      <td>...</td>\n",
              "      <td>0.050580</td>\n",
              "      <td>0.944325</td>\n",
              "      <td>2.418221</td>\n",
              "      <td>0.874633</td>\n",
              "      <td>0.639484</td>\n",
              "      <td>0.000000</td>\n",
              "      <td>1.703401</td>\n",
              "      <td>0.124928</td>\n",
              "      <td>0</td>\n",
              "      <td>2</td>\n",
              "    </tr>\n",
              "    <tr>\n",
              "      <th>4</th>\n",
              "      <td>5</td>\n",
              "      <td>0.078358</td>\n",
              "      <td>0.195374</td>\n",
              "      <td>0.473845</td>\n",
              "      <td>0.781485</td>\n",
              "      <td>0.000000</td>\n",
              "      <td>1.394403</td>\n",
              "      <td>0.111538</td>\n",
              "      <td>0.000000</td>\n",
              "      <td>0.783515</td>\n",
              "      <td>...</td>\n",
              "      <td>0.112426</td>\n",
              "      <td>0.111267</td>\n",
              "      <td>0.285885</td>\n",
              "      <td>0.000000</td>\n",
              "      <td>0.790100</td>\n",
              "      <td>0.472354</td>\n",
              "      <td>0.712069</td>\n",
              "      <td>0.167727</td>\n",
              "      <td>2</td>\n",
              "      <td>2</td>\n",
              "    </tr>\n",
              "  </tbody>\n",
              "</table>\n",
              "<p>5 rows × 515 columns</p>\n",
              "</div>\n",
              "      <button class=\"colab-df-convert\" onclick=\"convertToInteractive('df-f1b1efa1-9e9a-4cb7-932e-f5155f4e35c1')\"\n",
              "              title=\"Convert this dataframe to an interactive table.\"\n",
              "              style=\"display:none;\">\n",
              "        \n",
              "  <svg xmlns=\"http://www.w3.org/2000/svg\" height=\"24px\"viewBox=\"0 0 24 24\"\n",
              "       width=\"24px\">\n",
              "    <path d=\"M0 0h24v24H0V0z\" fill=\"none\"/>\n",
              "    <path d=\"M18.56 5.44l.94 2.06.94-2.06 2.06-.94-2.06-.94-.94-2.06-.94 2.06-2.06.94zm-11 1L8.5 8.5l.94-2.06 2.06-.94-2.06-.94L8.5 2.5l-.94 2.06-2.06.94zm10 10l.94 2.06.94-2.06 2.06-.94-2.06-.94-.94-2.06-.94 2.06-2.06.94z\"/><path d=\"M17.41 7.96l-1.37-1.37c-.4-.4-.92-.59-1.43-.59-.52 0-1.04.2-1.43.59L10.3 9.45l-7.72 7.72c-.78.78-.78 2.05 0 2.83L4 21.41c.39.39.9.59 1.41.59.51 0 1.02-.2 1.41-.59l7.78-7.78 2.81-2.81c.8-.78.8-2.07 0-2.86zM5.41 20L4 18.59l7.72-7.72 1.47 1.35L5.41 20z\"/>\n",
              "  </svg>\n",
              "      </button>\n",
              "      \n",
              "  <style>\n",
              "    .colab-df-container {\n",
              "      display:flex;\n",
              "      flex-wrap:wrap;\n",
              "      gap: 12px;\n",
              "    }\n",
              "\n",
              "    .colab-df-convert {\n",
              "      background-color: #E8F0FE;\n",
              "      border: none;\n",
              "      border-radius: 50%;\n",
              "      cursor: pointer;\n",
              "      display: none;\n",
              "      fill: #1967D2;\n",
              "      height: 32px;\n",
              "      padding: 0 0 0 0;\n",
              "      width: 32px;\n",
              "    }\n",
              "\n",
              "    .colab-df-convert:hover {\n",
              "      background-color: #E2EBFA;\n",
              "      box-shadow: 0px 1px 2px rgba(60, 64, 67, 0.3), 0px 1px 3px 1px rgba(60, 64, 67, 0.15);\n",
              "      fill: #174EA6;\n",
              "    }\n",
              "\n",
              "    [theme=dark] .colab-df-convert {\n",
              "      background-color: #3B4455;\n",
              "      fill: #D2E3FC;\n",
              "    }\n",
              "\n",
              "    [theme=dark] .colab-df-convert:hover {\n",
              "      background-color: #434B5C;\n",
              "      box-shadow: 0px 1px 3px 1px rgba(0, 0, 0, 0.15);\n",
              "      filter: drop-shadow(0px 1px 2px rgba(0, 0, 0, 0.3));\n",
              "      fill: #FFFFFF;\n",
              "    }\n",
              "  </style>\n",
              "\n",
              "      <script>\n",
              "        const buttonEl =\n",
              "          document.querySelector('#df-f1b1efa1-9e9a-4cb7-932e-f5155f4e35c1 button.colab-df-convert');\n",
              "        buttonEl.style.display =\n",
              "          google.colab.kernel.accessAllowed ? 'block' : 'none';\n",
              "\n",
              "        async function convertToInteractive(key) {\n",
              "          const element = document.querySelector('#df-f1b1efa1-9e9a-4cb7-932e-f5155f4e35c1');\n",
              "          const dataTable =\n",
              "            await google.colab.kernel.invokeFunction('convertToInteractive',\n",
              "                                                     [key], {});\n",
              "          if (!dataTable) return;\n",
              "\n",
              "          const docLinkHtml = 'Like what you see? Visit the ' +\n",
              "            '<a target=\"_blank\" href=https://colab.research.google.com/notebooks/data_table.ipynb>data table notebook</a>'\n",
              "            + ' to learn more about interactive tables.';\n",
              "          element.innerHTML = '';\n",
              "          dataTable['output_type'] = 'display_data';\n",
              "          await google.colab.output.renderOutput(dataTable, element);\n",
              "          const docLink = document.createElement('div');\n",
              "          docLink.innerHTML = docLinkHtml;\n",
              "          element.appendChild(docLink);\n",
              "        }\n",
              "      </script>\n",
              "    </div>\n",
              "  </div>\n",
              "  "
            ]
          },
          "metadata": {},
          "execution_count": 19
        }
      ],
      "source": [
        "df_features = df_features_all[df_features_all['noduleID'].isin(df_splits['noduleID'])]\n",
        "df_features.sort_values('noduleID', inplace=True)\n",
        "df_features.reset_index(drop=True, inplace=True)\n",
        "\n",
        "df_features['split'] = df_splits['split']\n",
        "df_features['malignancy'] = df_splits['malignancy']\n",
        "\n",
        "df_features.head()"
      ]
    },
    {
      "cell_type": "markdown",
      "id": "f01fe687",
      "metadata": {
        "id": "f01fe687"
      },
      "source": [
        "## Feature Reduce and Cluster"
      ]
    },
    {
      "cell_type": "markdown",
      "id": "f4ca88b0",
      "metadata": {
        "id": "f4ca88b0"
      },
      "source": [
        "### Feature Reduce"
      ]
    },
    {
      "cell_type": "markdown",
      "id": "ade3caf3",
      "metadata": {
        "id": "ade3caf3"
      },
      "source": [
        "First we split df into two by the splits"
      ]
    },
    {
      "cell_type": "code",
      "execution_count": 20,
      "id": "6e8d89fc",
      "metadata": {
        "id": "6e8d89fc"
      },
      "outputs": [],
      "source": [
        "df_features_train = df_features[df_features['split'] == 0]\n",
        "df_features_cv_test = df_features[df_features['split'] != 0]\n"
      ]
    },
    {
      "cell_type": "markdown",
      "id": "916d56c4",
      "metadata": {
        "id": "916d56c4"
      },
      "source": [
        "Next we get the features in an array"
      ]
    },
    {
      "cell_type": "code",
      "execution_count": 21,
      "id": "6929144a",
      "metadata": {
        "id": "6929144a"
      },
      "outputs": [],
      "source": [
        "train_features = df_features_train.drop(['noduleID', 'split', 'malignancy'], axis=1).values\n",
        "cv_test_features = df_features_cv_test.drop(['noduleID', 'split', 'malignancy'], axis=1).values\n",
        "\n",
        "all_features = df_features_all.drop(['noduleID'], axis=1).values"
      ]
    },
    {
      "cell_type": "markdown",
      "id": "3af995b2",
      "metadata": {
        "id": "3af995b2"
      },
      "source": [
        "Following the George paper, we use UMAP to dimensionaly reduce our data"
      ]
    },
    {
      "cell_type": "code",
      "execution_count": 22,
      "id": "a73c3b33",
      "metadata": {
        "colab": {
          "base_uri": "https://localhost:8080/"
        },
        "id": "a73c3b33",
        "outputId": "e9b6bf70-3516-44cc-eb2b-b77cbbedac25"
      },
      "outputs": [
        {
          "output_type": "execute_result",
          "data": {
            "text/plain": [
              "UMAP(random_state=8, tqdm_kwds={'bar_format': '{desc}: {percentage:3.0f}%| {bar} {n_fmt}/{total_fmt} [{elapsed}]', 'desc': 'Epochs completed', 'disable': True})"
            ]
          },
          "metadata": {},
          "execution_count": 22
        }
      ],
      "source": [
        "reducer = UMAP(random_state=8)\n",
        "reducer.fit(train_features)"
      ]
    },
    {
      "cell_type": "code",
      "execution_count": 23,
      "id": "70a7252d",
      "metadata": {
        "id": "70a7252d"
      },
      "outputs": [],
      "source": [
        "train_embeds = reducer.transform(train_features)"
      ]
    },
    {
      "cell_type": "markdown",
      "id": "3f50a812",
      "metadata": {
        "id": "3f50a812"
      },
      "source": [
        "Now we visualize the reduction on train dataset"
      ]
    },
    {
      "cell_type": "code",
      "execution_count": 24,
      "id": "XlPlr1ZQhb5f",
      "metadata": {
        "colab": {
          "base_uri": "https://localhost:8080/",
          "height": 0
        },
        "id": "XlPlr1ZQhb5f",
        "outputId": "d043953b-9809-4161-98cf-07623fec8f27"
      },
      "outputs": [
        {
          "output_type": "display_data",
          "data": {
            "text/plain": [
              "<Figure size 432x288 with 1 Axes>"
            ],
            "image/png": "[encoded data removed]"
          },
          "metadata": {
            "needs_background": "light"
          }
        },
        {
          "output_type": "execute_result",
          "data": {
            "text/plain": [
              "<Figure size 432x288 with 1 Axes>"
            ],
            "image/png": "[encoded data removed]"
          },
          "metadata": {},
          "execution_count": 24
        }
      ],
      "source": [
        "show_scatter(train_embeds[:, 0], train_embeds[:, 1],df_features_train['malignancy'],'Train Embeddings', 0.5)\n",
        "\n"
      ]
    },
    {
      "cell_type": "markdown",
      "id": "84ddb8e2",
      "metadata": {
        "id": "84ddb8e2"
      },
      "source": [
        "We also do same visualization on cv and test"
      ]
    },
    {
      "cell_type": "code",
      "execution_count": 25,
      "id": "05ce9a28",
      "metadata": {
        "id": "05ce9a28"
      },
      "outputs": [],
      "source": [
        "cv_test_embeds = reducer.transform(cv_test_features)"
      ]
    },
    {
      "cell_type": "code",
      "execution_count": 26,
      "id": "6c007ab0",
      "metadata": {
        "colab": {
          "base_uri": "https://localhost:8080/",
          "height": 0
        },
        "id": "6c007ab0",
        "outputId": "ada92b61-a795-4b49-a517-009126a33310"
      },
      "outputs": [
        {
          "output_type": "display_data",
          "data": {
            "text/plain": [
              "<Figure size 432x288 with 1 Axes>"
            ],
            "image/png": "[encoded data removed]"
          },
          "metadata": {
            "needs_background": "light"
          }
        },
        {
          "output_type": "execute_result",
          "data": {
            "text/plain": [
              "<Figure size 432x288 with 1 Axes>"
            ],
            "image/png": "[encoded data removed]"
          },
          "metadata": {},
          "execution_count": 26
        }
      ],
      "source": [
        "show_scatter(cv_test_embeds[:, 0], cv_test_embeds[:, 1],df_features_cv_test['malignancy'],'CV Test Embeddings', 0.5)\n"
      ]
    },
    {
      "cell_type": "markdown",
      "id": "Yl6VPo4JztSb",
      "metadata": {
        "id": "Yl6VPo4JztSb"
      },
      "source": [
        "Visualize on All"
      ]
    },
    {
      "cell_type": "code",
      "execution_count": 27,
      "id": "d-lKMBKozoL8",
      "metadata": {
        "id": "d-lKMBKozoL8"
      },
      "outputs": [],
      "source": [
        "all_embeds = reducer.transform(all_features)"
      ]
    },
    {
      "cell_type": "code",
      "execution_count": 28,
      "id": "8C1a3eW6zx3B",
      "metadata": {
        "colab": {
          "base_uri": "https://localhost:8080/",
          "height": 0
        },
        "id": "8C1a3eW6zx3B",
        "outputId": "e6685a71-2ec7-4ed6-edcc-8b55b5864eeb"
      },
      "outputs": [
        {
          "output_type": "display_data",
          "data": {
            "text/plain": [
              "<Figure size 432x288 with 1 Axes>"
            ],
            "image/png": "[encoded data removed]"
          },
          "metadata": {
            "needs_background": "light"
          }
        },
        {
          "output_type": "execute_result",
          "data": {
            "text/plain": [
              "<Figure size 432x288 with 1 Axes>"
            ],
            "image/png": "[encoded data removed]"
          },
          "metadata": {},
          "execution_count": 28
        }
      ],
      "source": [
        "show_scatter(all_embeds[:, 0], all_embeds[:, 1],images_df['malignancy'],'All Embeddings', 0.5)\n"
      ]
    },
    {
      "cell_type": "markdown",
      "id": "b3ae499e",
      "metadata": {
        "id": "b3ae499e"
      },
      "source": [
        "We now save the reduce"
      ]
    },
    {
      "cell_type": "code",
      "execution_count": 29,
      "id": "b5345903",
      "metadata": {
        "id": "b5345903"
      },
      "outputs": [],
      "source": [
        "f_reducer = './cnn_umap_reducer.sav'\n",
        "pickle.dump(reducer, open(f_reducer, 'wb'))\n",
        "\n",
        "\n"
      ]
    },
    {
      "cell_type": "markdown",
      "id": "-ZIXwHwrkqCl",
      "metadata": {
        "id": "-ZIXwHwrkqCl"
      },
      "source": [
        "Note to lode from above file, we can call\n",
        "```python\n",
        "reducer = pickle.load((open(f_reducer, 'rb'))) \n",
        "```"
      ]
    },
    {
      "cell_type": "markdown",
      "id": "2e900474",
      "metadata": {
        "id": "2e900474"
      },
      "source": [
        "### Feature Cluster"
      ]
    },
    {
      "cell_type": "markdown",
      "id": "f55115df",
      "metadata": {
        "id": "f55115df"
      },
      "source": [
        "Now we cluster the training embeddings using Gaussian Mixture\n",
        "\n",
        "We first visualize the silhouette score\n",
        "\n",
        "(we only cluster on malignant since that is what we want)"
      ]
    },
    {
      "cell_type": "code",
      "execution_count": 30,
      "id": "FHO3q6vUjAQh",
      "metadata": {
        "id": "FHO3q6vUjAQh"
      },
      "outputs": [],
      "source": [
        "train_embeds_malig = reducer.transform(train_features[df_features_train['malignancy'] > 1])"
      ]
    },
    {
      "cell_type": "code",
      "execution_count": 31,
      "id": "29b9cdc8",
      "metadata": {
        "colab": {
          "base_uri": "https://localhost:8080/",
          "height": 0
        },
        "id": "29b9cdc8",
        "outputId": "71fed3f0-163b-4fdb-b044-98900748b3db"
      },
      "outputs": [
        {
          "output_type": "execute_result",
          "data": {
            "text/plain": [
              "Text(0, 0.5, 'Silhouette Coefficients')"
            ]
          },
          "metadata": {},
          "execution_count": 31
        },
        {
          "output_type": "display_data",
          "data": {
            "text/plain": [
              "<Figure size 432x288 with 1 Axes>"
            ],
            "image/png": "[encoded data removed]"
          },
          "metadata": {
            "needs_background": "light"
          }
        }
      ],
      "source": [
        "clusters = [n for n in range(2,16)]\n",
        "silhouette_coefficients = []\n",
        "\n",
        "for cluster in clusters:\n",
        "  gmm = GaussianMixture(n_components=cluster, random_state=61).fit(train_embeds_malig)\n",
        "  labels = gmm.predict(train_embeds_malig)\n",
        "  \n",
        "  silhouette_avg = silhouette_score(train_embeds_malig, labels)\n",
        "  silhouette_coefficients.append(silhouette_avg)\n",
        "\n",
        "plt.plot(clusters, silhouette_coefficients)\n",
        "plt.xlabel('Number of Clusters')\n",
        "plt.ylabel('Silhouette Coefficients')"
      ]
    },
    {
      "cell_type": "markdown",
      "id": "2eb4177c",
      "metadata": {
        "id": "2eb4177c"
      },
      "source": [
        "We note from above, the best number of subclasses is 2."
      ]
    },
    {
      "cell_type": "code",
      "execution_count": 32,
      "id": "61f1e245",
      "metadata": {
        "id": "61f1e245"
      },
      "outputs": [],
      "source": [
        "clusterer = GaussianMixture(n_components=2, random_state=61).fit(train_embeds_malig)"
      ]
    },
    {
      "cell_type": "markdown",
      "id": "HACFygAvj1b0",
      "metadata": {
        "id": "HACFygAvj1b0"
      },
      "source": [
        "We now visualize the clusters ont train"
      ]
    },
    {
      "cell_type": "code",
      "execution_count": 33,
      "id": "0e87f5e6",
      "metadata": {
        "colab": {
          "base_uri": "https://localhost:8080/",
          "height": 0
        },
        "id": "0e87f5e6",
        "outputId": "d7ccd378-ebae-4647-be92-2ffe6f7f3d7b"
      },
      "outputs": [
        {
          "output_type": "display_data",
          "data": {
            "text/plain": [
              "<Figure size 432x288 with 1 Axes>"
            ],
            "image/png": "[encoded data removed]"
          },
          "metadata": {
            "needs_background": "light"
          }
        },
        {
          "output_type": "execute_result",
          "data": {
            "text/plain": [
              "<Figure size 432x288 with 1 Axes>"
            ],
            "image/png": "[encoded data removed]"
          },
          "metadata": {},
          "execution_count": 33
        }
      ],
      "source": [
        "train_labels = clusterer.predict(train_embeds)\n",
        "\n",
        "show_scatter(train_embeds[:, 0], train_embeds[:, 1],train_labels,'Training Embeddings Clustered', 0.5)"
      ]
    },
    {
      "cell_type": "code",
      "execution_count": 34,
      "id": "14047808",
      "metadata": {
        "colab": {
          "base_uri": "https://localhost:8080/",
          "height": 0
        },
        "id": "14047808",
        "outputId": "b3fbfe88-7e78-476e-bb8a-9c04aea2d2d3"
      },
      "outputs": [
        {
          "output_type": "display_data",
          "data": {
            "text/plain": [
              "<Figure size 432x288 with 1 Axes>"
            ],
            "image/png": "[encoded data removed]"
          },
          "metadata": {
            "needs_background": "light"
          }
        },
        {
          "output_type": "execute_result",
          "data": {
            "text/plain": [
              "<Figure size 432x288 with 1 Axes>"
            ],
            "image/png": "[encoded data removed]"
          },
          "metadata": {},
          "execution_count": 34
        }
      ],
      "source": [
        "cv_test_labels = clusterer.predict(cv_test_embeds)\n",
        "\n",
        "show_scatter(cv_test_embeds[:, 0], cv_test_embeds[:, 1],cv_test_labels,'CV Test Embeddings Clustered', 0.5)"
      ]
    },
    {
      "cell_type": "markdown",
      "id": "dbAxN68akWic",
      "metadata": {
        "id": "dbAxN68akWic"
      },
      "source": [
        "Now we save the clusterer"
      ]
    },
    {
      "cell_type": "code",
      "execution_count": 35,
      "id": "s_bYeCBTkaIX",
      "metadata": {
        "id": "s_bYeCBTkaIX"
      },
      "outputs": [],
      "source": [
        "f_clusterer = './cnn_umap_clusterer.sav'\n",
        "pickle.dump(reducer, open(f_reducer, 'wb'))"
      ]
    },
    {
      "cell_type": "markdown",
      "id": "4F0y_ltDlNYB",
      "metadata": {
        "id": "4F0y_ltDlNYB"
      },
      "source": [
        "### Save the labels"
      ]
    },
    {
      "cell_type": "markdown",
      "id": "Ry_7lIXplXPx",
      "metadata": {
        "id": "Ry_7lIXplXPx"
      },
      "source": [
        "Now that we have the labels, we want to save them to csv we so we can train gDRO on them"
      ]
    },
    {
      "cell_type": "code",
      "execution_count": 36,
      "id": "feYM-zJylcZL",
      "metadata": {
        "colab": {
          "base_uri": "https://localhost:8080/",
          "height": 414
        },
        "id": "feYM-zJylcZL",
        "outputId": "34f99de8-863a-4ba9-e6b9-0bc81dce0912"
      },
      "outputs": [
        {
          "output_type": "stream",
          "name": "stderr",
          "text": [
            "/usr/local/lib/python3.7/dist-packages/ipykernel_launcher.py:1: SettingWithCopyWarning: \n",
            "A value is trying to be set on a copy of a slice from a DataFrame.\n",
            "Try using .loc[row_indexer,col_indexer] = value instead\n",
            "\n",
            "See the caveats in the documentation: https://pandas.pydata.org/pandas-docs/stable/user_guide/indexing.html#returning-a-view-versus-a-copy\n",
            "  \"\"\"Entry point for launching an IPython kernel.\n",
            "/usr/local/lib/python3.7/dist-packages/ipykernel_launcher.py:2: SettingWithCopyWarning: \n",
            "A value is trying to be set on a copy of a slice from a DataFrame.\n",
            "Try using .loc[row_indexer,col_indexer] = value instead\n",
            "\n",
            "See the caveats in the documentation: https://pandas.pydata.org/pandas-docs/stable/user_guide/indexing.html#returning-a-view-versus-a-copy\n",
            "  \n"
          ]
        },
        {
          "output_type": "execute_result",
          "data": {
            "text/plain": [
              "   noduleID  cluster\n",
              "0         1        1\n",
              "1         2        0\n",
              "2         3        1\n",
              "3         4        0\n",
              "4         5        0"
            ],
            "text/html": [
              "\n",
              "  <div id=\"df-27990767-2cd4-48ad-bdf6-72121e575e00\">\n",
              "    <div class=\"colab-df-container\">\n",
              "      <div>\n",
              "<style scoped>\n",
              "    .dataframe tbody tr th:only-of-type {\n",
              "        vertical-align: middle;\n",
              "    }\n",
              "\n",
              "    .dataframe tbody tr th {\n",
              "        vertical-align: top;\n",
              "    }\n",
              "\n",
              "    .dataframe thead th {\n",
              "        text-align: right;\n",
              "    }\n",
              "</style>\n",
              "<table border=\"1\" class=\"dataframe\">\n",
              "  <thead>\n",
              "    <tr style=\"text-align: right;\">\n",
              "      <th></th>\n",
              "      <th>noduleID</th>\n",
              "      <th>cluster</th>\n",
              "    </tr>\n",
              "  </thead>\n",
              "  <tbody>\n",
              "    <tr>\n",
              "      <th>0</th>\n",
              "      <td>1</td>\n",
              "      <td>1</td>\n",
              "    </tr>\n",
              "    <tr>\n",
              "      <th>1</th>\n",
              "      <td>2</td>\n",
              "      <td>0</td>\n",
              "    </tr>\n",
              "    <tr>\n",
              "      <th>2</th>\n",
              "      <td>3</td>\n",
              "      <td>1</td>\n",
              "    </tr>\n",
              "    <tr>\n",
              "      <th>3</th>\n",
              "      <td>4</td>\n",
              "      <td>0</td>\n",
              "    </tr>\n",
              "    <tr>\n",
              "      <th>4</th>\n",
              "      <td>5</td>\n",
              "      <td>0</td>\n",
              "    </tr>\n",
              "  </tbody>\n",
              "</table>\n",
              "</div>\n",
              "      <button class=\"colab-df-convert\" onclick=\"convertToInteractive('df-27990767-2cd4-48ad-bdf6-72121e575e00')\"\n",
              "              title=\"Convert this dataframe to an interactive table.\"\n",
              "              style=\"display:none;\">\n",
              "        \n",
              "  <svg xmlns=\"http://www.w3.org/2000/svg\" height=\"24px\"viewBox=\"0 0 24 24\"\n",
              "       width=\"24px\">\n",
              "    <path d=\"M0 0h24v24H0V0z\" fill=\"none\"/>\n",
              "    <path d=\"M18.56 5.44l.94 2.06.94-2.06 2.06-.94-2.06-.94-.94-2.06-.94 2.06-2.06.94zm-11 1L8.5 8.5l.94-2.06 2.06-.94-2.06-.94L8.5 2.5l-.94 2.06-2.06.94zm10 10l.94 2.06.94-2.06 2.06-.94-2.06-.94-.94-2.06-.94 2.06-2.06.94z\"/><path d=\"M17.41 7.96l-1.37-1.37c-.4-.4-.92-.59-1.43-.59-.52 0-1.04.2-1.43.59L10.3 9.45l-7.72 7.72c-.78.78-.78 2.05 0 2.83L4 21.41c.39.39.9.59 1.41.59.51 0 1.02-.2 1.41-.59l7.78-7.78 2.81-2.81c.8-.78.8-2.07 0-2.86zM5.41 20L4 18.59l7.72-7.72 1.47 1.35L5.41 20z\"/>\n",
              "  </svg>\n",
              "      </button>\n",
              "      \n",
              "  <style>\n",
              "    .colab-df-container {\n",
              "      display:flex;\n",
              "      flex-wrap:wrap;\n",
              "      gap: 12px;\n",
              "    }\n",
              "\n",
              "    .colab-df-convert {\n",
              "      background-color: #E8F0FE;\n",
              "      border: none;\n",
              "      border-radius: 50%;\n",
              "      cursor: pointer;\n",
              "      display: none;\n",
              "      fill: #1967D2;\n",
              "      height: 32px;\n",
              "      padding: 0 0 0 0;\n",
              "      width: 32px;\n",
              "    }\n",
              "\n",
              "    .colab-df-convert:hover {\n",
              "      background-color: #E2EBFA;\n",
              "      box-shadow: 0px 1px 2px rgba(60, 64, 67, 0.3), 0px 1px 3px 1px rgba(60, 64, 67, 0.15);\n",
              "      fill: #174EA6;\n",
              "    }\n",
              "\n",
              "    [theme=dark] .colab-df-convert {\n",
              "      background-color: #3B4455;\n",
              "      fill: #D2E3FC;\n",
              "    }\n",
              "\n",
              "    [theme=dark] .colab-df-convert:hover {\n",
              "      background-color: #434B5C;\n",
              "      box-shadow: 0px 1px 3px 1px rgba(0, 0, 0, 0.15);\n",
              "      filter: drop-shadow(0px 1px 2px rgba(0, 0, 0, 0.3));\n",
              "      fill: #FFFFFF;\n",
              "    }\n",
              "  </style>\n",
              "\n",
              "      <script>\n",
              "        const buttonEl =\n",
              "          document.querySelector('#df-27990767-2cd4-48ad-bdf6-72121e575e00 button.colab-df-convert');\n",
              "        buttonEl.style.display =\n",
              "          google.colab.kernel.accessAllowed ? 'block' : 'none';\n",
              "\n",
              "        async function convertToInteractive(key) {\n",
              "          const element = document.querySelector('#df-27990767-2cd4-48ad-bdf6-72121e575e00');\n",
              "          const dataTable =\n",
              "            await google.colab.kernel.invokeFunction('convertToInteractive',\n",
              "                                                     [key], {});\n",
              "          if (!dataTable) return;\n",
              "\n",
              "          const docLinkHtml = 'Like what you see? Visit the ' +\n",
              "            '<a target=\"_blank\" href=https://colab.research.google.com/notebooks/data_table.ipynb>data table notebook</a>'\n",
              "            + ' to learn more about interactive tables.';\n",
              "          element.innerHTML = '';\n",
              "          dataTable['output_type'] = 'display_data';\n",
              "          await google.colab.output.renderOutput(dataTable, element);\n",
              "          const docLink = document.createElement('div');\n",
              "          docLink.innerHTML = docLinkHtml;\n",
              "          element.appendChild(docLink);\n",
              "        }\n",
              "      </script>\n",
              "    </div>\n",
              "  </div>\n",
              "  "
            ]
          },
          "metadata": {},
          "execution_count": 36
        }
      ],
      "source": [
        "df_features_train['cluster'] = train_labels\n",
        "df_features_cv_test['cluster'] = cv_test_labels\n",
        "\n",
        "df_clusters = pd.concat([df_features_train, df_features_cv_test])[['noduleID', 'cluster']]\n",
        "df_clusters.sort_values('noduleID', inplace=True)\n",
        "df_clusters.head()"
      ]
    },
    {
      "cell_type": "markdown",
      "id": "F_PY5MsKmAei",
      "metadata": {
        "id": "F_PY5MsKmAei"
      },
      "source": [
        "We can add these lables to the df_splits dataframe"
      ]
    },
    {
      "cell_type": "code",
      "execution_count": 37,
      "id": "Zmebxa-Gl214",
      "metadata": {
        "id": "Zmebxa-Gl214"
      },
      "outputs": [],
      "source": [
        "df_splits['cluster'] = [ 0 if m % 2 == 0 else 1 + c for m,c in zip(df_splits['malignancy_b'], df_clusters['cluster'])]"
      ]
    },
    {
      "cell_type": "code",
      "execution_count": 38,
      "id": "5htZbtsVoJkm",
      "metadata": {
        "colab": {
          "base_uri": "https://localhost:8080/"
        },
        "id": "5htZbtsVoJkm",
        "outputId": "6b46b131-d938-4b5b-8ce7-7f8a9dd7b93a"
      },
      "outputs": [
        {
          "output_type": "execute_result",
          "data": {
            "text/plain": [
              "0       2\n",
              "1       1\n",
              "2       2\n",
              "3       1\n",
              "4       1\n",
              "       ..\n",
              "1483    1\n",
              "1484    0\n",
              "1485    0\n",
              "1486    1\n",
              "1487    0\n",
              "Name: cluster, Length: 1488, dtype: int64"
            ]
          },
          "metadata": {},
          "execution_count": 38
        }
      ],
      "source": [
        "df_splits['cluster']"
      ]
    },
    {
      "cell_type": "markdown",
      "id": "UiCgDCb9oUIj",
      "metadata": {
        "id": "UiCgDCb9oUIj"
      },
      "source": [
        "Now we save the csv"
      ]
    },
    {
      "cell_type": "code",
      "execution_count": 39,
      "id": "WoM5bPaEoVeN",
      "metadata": {
        "id": "WoM5bPaEoVeN"
      },
      "outputs": [],
      "source": [
        "df_splits.to_csv('./data/LIDC_data_split_with_cluster(temp).csv')"
      ]
    },
    {
      "cell_type": "markdown",
      "id": "TXrR7eLvoiJ2",
      "metadata": {
        "id": "TXrR7eLvoiJ2"
      },
      "source": [
        "## Train ERM and gDRO on new models"
      ]
    },
    {
      "cell_type": "markdown",
      "id": "o_v71Ur4qaNn",
      "metadata": {
        "id": "o_v71Ur4qaNn"
      },
      "source": [
        "We again get our dataloaders (but with the new sublables)"
      ]
    },
    {
      "cell_type": "code",
      "execution_count": 40,
      "id": "An-LvUlHq339",
      "metadata": {
        "colab": {
          "base_uri": "https://localhost:8080/",
          "height": 206
        },
        "id": "An-LvUlHq339",
        "outputId": "9440145b-7a53-491f-f5a8-02c0773fe1a4"
      },
      "outputs": [
        {
          "output_type": "execute_result",
          "data": {
            "text/plain": [
              "   noduleID  split  malignancy  malignancy_b  spic_groups  cluster\n",
              "0         1      0           3             1            3        2\n",
              "1         2      0           3             1            2        1\n",
              "2         3      1           3             1            3        2\n",
              "3         4      0           2             1            3        1\n",
              "4         5      2           2             1            2        1"
            ],
            "text/html": [
              "\n",
              "  <div id=\"df-be295320-7c49-4e30-9da7-b1e301e95c8c\">\n",
              "    <div class=\"colab-df-container\">\n",
              "      <div>\n",
              "<style scoped>\n",
              "    .dataframe tbody tr th:only-of-type {\n",
              "        vertical-align: middle;\n",
              "    }\n",
              "\n",
              "    .dataframe tbody tr th {\n",
              "        vertical-align: top;\n",
              "    }\n",
              "\n",
              "    .dataframe thead th {\n",
              "        text-align: right;\n",
              "    }\n",
              "</style>\n",
              "<table border=\"1\" class=\"dataframe\">\n",
              "  <thead>\n",
              "    <tr style=\"text-align: right;\">\n",
              "      <th></th>\n",
              "      <th>noduleID</th>\n",
              "      <th>split</th>\n",
              "      <th>malignancy</th>\n",
              "      <th>malignancy_b</th>\n",
              "      <th>spic_groups</th>\n",
              "      <th>cluster</th>\n",
              "    </tr>\n",
              "  </thead>\n",
              "  <tbody>\n",
              "    <tr>\n",
              "      <th>0</th>\n",
              "      <td>1</td>\n",
              "      <td>0</td>\n",
              "      <td>3</td>\n",
              "      <td>1</td>\n",
              "      <td>3</td>\n",
              "      <td>2</td>\n",
              "    </tr>\n",
              "    <tr>\n",
              "      <th>1</th>\n",
              "      <td>2</td>\n",
              "      <td>0</td>\n",
              "      <td>3</td>\n",
              "      <td>1</td>\n",
              "      <td>2</td>\n",
              "      <td>1</td>\n",
              "    </tr>\n",
              "    <tr>\n",
              "      <th>2</th>\n",
              "      <td>3</td>\n",
              "      <td>1</td>\n",
              "      <td>3</td>\n",
              "      <td>1</td>\n",
              "      <td>3</td>\n",
              "      <td>2</td>\n",
              "    </tr>\n",
              "    <tr>\n",
              "      <th>3</th>\n",
              "      <td>4</td>\n",
              "      <td>0</td>\n",
              "      <td>2</td>\n",
              "      <td>1</td>\n",
              "      <td>3</td>\n",
              "      <td>1</td>\n",
              "    </tr>\n",
              "    <tr>\n",
              "      <th>4</th>\n",
              "      <td>5</td>\n",
              "      <td>2</td>\n",
              "      <td>2</td>\n",
              "      <td>1</td>\n",
              "      <td>2</td>\n",
              "      <td>1</td>\n",
              "    </tr>\n",
              "  </tbody>\n",
              "</table>\n",
              "</div>\n",
              "      <button class=\"colab-df-convert\" onclick=\"convertToInteractive('df-be295320-7c49-4e30-9da7-b1e301e95c8c')\"\n",
              "              title=\"Convert this dataframe to an interactive table.\"\n",
              "              style=\"display:none;\">\n",
              "        \n",
              "  <svg xmlns=\"http://www.w3.org/2000/svg\" height=\"24px\"viewBox=\"0 0 24 24\"\n",
              "       width=\"24px\">\n",
              "    <path d=\"M0 0h24v24H0V0z\" fill=\"none\"/>\n",
              "    <path d=\"M18.56 5.44l.94 2.06.94-2.06 2.06-.94-2.06-.94-.94-2.06-.94 2.06-2.06.94zm-11 1L8.5 8.5l.94-2.06 2.06-.94-2.06-.94L8.5 2.5l-.94 2.06-2.06.94zm10 10l.94 2.06.94-2.06 2.06-.94-2.06-.94-.94-2.06-.94 2.06-2.06.94z\"/><path d=\"M17.41 7.96l-1.37-1.37c-.4-.4-.92-.59-1.43-.59-.52 0-1.04.2-1.43.59L10.3 9.45l-7.72 7.72c-.78.78-.78 2.05 0 2.83L4 21.41c.39.39.9.59 1.41.59.51 0 1.02-.2 1.41-.59l7.78-7.78 2.81-2.81c.8-.78.8-2.07 0-2.86zM5.41 20L4 18.59l7.72-7.72 1.47 1.35L5.41 20z\"/>\n",
              "  </svg>\n",
              "      </button>\n",
              "      \n",
              "  <style>\n",
              "    .colab-df-container {\n",
              "      display:flex;\n",
              "      flex-wrap:wrap;\n",
              "      gap: 12px;\n",
              "    }\n",
              "\n",
              "    .colab-df-convert {\n",
              "      background-color: #E8F0FE;\n",
              "      border: none;\n",
              "      border-radius: 50%;\n",
              "      cursor: pointer;\n",
              "      display: none;\n",
              "      fill: #1967D2;\n",
              "      height: 32px;\n",
              "      padding: 0 0 0 0;\n",
              "      width: 32px;\n",
              "    }\n",
              "\n",
              "    .colab-df-convert:hover {\n",
              "      background-color: #E2EBFA;\n",
              "      box-shadow: 0px 1px 2px rgba(60, 64, 67, 0.3), 0px 1px 3px 1px rgba(60, 64, 67, 0.15);\n",
              "      fill: #174EA6;\n",
              "    }\n",
              "\n",
              "    [theme=dark] .colab-df-convert {\n",
              "      background-color: #3B4455;\n",
              "      fill: #D2E3FC;\n",
              "    }\n",
              "\n",
              "    [theme=dark] .colab-df-convert:hover {\n",
              "      background-color: #434B5C;\n",
              "      box-shadow: 0px 1px 3px 1px rgba(0, 0, 0, 0.15);\n",
              "      filter: drop-shadow(0px 1px 2px rgba(0, 0, 0, 0.3));\n",
              "      fill: #FFFFFF;\n",
              "    }\n",
              "  </style>\n",
              "\n",
              "      <script>\n",
              "        const buttonEl =\n",
              "          document.querySelector('#df-be295320-7c49-4e30-9da7-b1e301e95c8c button.colab-df-convert');\n",
              "        buttonEl.style.display =\n",
              "          google.colab.kernel.accessAllowed ? 'block' : 'none';\n",
              "\n",
              "        async function convertToInteractive(key) {\n",
              "          const element = document.querySelector('#df-be295320-7c49-4e30-9da7-b1e301e95c8c');\n",
              "          const dataTable =\n",
              "            await google.colab.kernel.invokeFunction('convertToInteractive',\n",
              "                                                     [key], {});\n",
              "          if (!dataTable) return;\n",
              "\n",
              "          const docLinkHtml = 'Like what you see? Visit the ' +\n",
              "            '<a target=\"_blank\" href=https://colab.research.google.com/notebooks/data_table.ipynb>data table notebook</a>'\n",
              "            + ' to learn more about interactive tables.';\n",
              "          element.innerHTML = '';\n",
              "          dataTable['output_type'] = 'display_data';\n",
              "          await google.colab.output.renderOutput(dataTable, element);\n",
              "          const docLink = document.createElement('div');\n",
              "          docLink.innerHTML = docLinkHtml;\n",
              "          element.appendChild(docLink);\n",
              "        }\n",
              "      </script>\n",
              "    </div>\n",
              "  </div>\n",
              "  "
            ]
          },
          "metadata": {},
          "execution_count": 40
        }
      ],
      "source": [
        "df_splits = pd.read_csv('./data/LIDC_data_split_with_cluster(temp).csv', index_col=0)\n",
        "df_splits.head()"
      ]
    },
    {
      "cell_type": "code",
      "execution_count": 41,
      "id": "TWscue2zqiqx",
      "metadata": {
        "id": "TWscue2zqiqx",
        "outputId": "fbaac0d8-e2e5-4591-b3da-3aeac80836da",
        "colab": {
          "base_uri": "https://localhost:8080/",
          "height": 235
        }
      },
      "outputs": [
        {
          "output_type": "error",
          "ename": "NameError",
          "evalue": "ignored",
          "traceback": [
            "\u001b[0;31m---------------------------------------------------------------------------\u001b[0m",
            "\u001b[0;31mNameError\u001b[0m                                 Traceback (most recent call last)",
            "\u001b[0;32m<ipython-input-41-097f21409355>\u001b[0m in \u001b[0;36m<module>\u001b[0;34m()\u001b[0m\n\u001b[0;32m----> 1\u001b[0;31m \u001b[0mtrain_data_c\u001b[0m\u001b[0;34m,\u001b[0m \u001b[0mcv_data_c\u001b[0m\u001b[0;34m,\u001b[0m \u001b[0mtest_data_c\u001b[0m \u001b[0;34m=\u001b[0m \u001b[0mget_images\u001b[0m\u001b[0;34m(\u001b[0m\u001b[0msplit\u001b[0m\u001b[0;34m=\u001b[0m\u001b[0;32mTrue\u001b[0m\u001b[0;34m,\u001b[0m \u001b[0msublabels\u001b[0m\u001b[0;34m=\u001b[0m\u001b[0;34m'cluster'\u001b[0m\u001b[0;34m,\u001b[0m \u001b[0mbinary\u001b[0m\u001b[0;34m=\u001b[0m\u001b[0;32mTrue\u001b[0m\u001b[0;34m,\u001b[0m \u001b[0mdevice\u001b[0m\u001b[0;34m=\u001b[0m\u001b[0mDEVICE\u001b[0m\u001b[0;34m)\u001b[0m\u001b[0;34m\u001b[0m\u001b[0;34m\u001b[0m\u001b[0m\n\u001b[0m\u001b[1;32m      2\u001b[0m \u001b[0;34m\u001b[0m\u001b[0m\n\u001b[1;32m      3\u001b[0m \u001b[0;31m#datasets\u001b[0m\u001b[0;34m\u001b[0m\u001b[0;34m\u001b[0m\u001b[0;34m\u001b[0m\u001b[0m\n\u001b[1;32m      4\u001b[0m \u001b[0mtr_c\u001b[0m \u001b[0;34m=\u001b[0m \u001b[0mSubclassedDataset\u001b[0m\u001b[0;34m(\u001b[0m\u001b[0;34m*\u001b[0m\u001b[0mtrain_data_c\u001b[0m\u001b[0;34m)\u001b[0m\u001b[0;34m\u001b[0m\u001b[0;34m\u001b[0m\u001b[0m\n\u001b[1;32m      5\u001b[0m \u001b[0mcv_c\u001b[0m \u001b[0;34m=\u001b[0m \u001b[0mSubclassedDataset\u001b[0m\u001b[0;34m(\u001b[0m\u001b[0;34m*\u001b[0m\u001b[0mcv_data_c\u001b[0m\u001b[0;34m)\u001b[0m\u001b[0;34m\u001b[0m\u001b[0;34m\u001b[0m\u001b[0m\n",
            "\u001b[0;31mNameError\u001b[0m: name 'get_images' is not defined"
          ]
        }
      ],
      "source": [
        "train_data_c, cv_data_c, test_data_c = get_features(subclass_file='./data/LIDC_data_split_with_cluster(temp).csv', images=True, features=images_df, device=DEVICE, subclass='cluster')\n",
        "\n",
        "#datasets\n",
        "tr_c = SubclassedDataset(*train_data_c)\n",
        "cv_c = SubclassedDataset(*cv_data_c)\n",
        "tst_c = SubclassedDataset(*test_data_c)\n",
        "\n",
        "#dataloaders\n",
        "tr_loader_c = InfiniteDataLoader(tr_c, batch_size=128)\n",
        "cv_loader_c = InfiniteDataLoader(cv_c, len(cv_c))\n",
        "tst_loader_c = InfiniteDataLoader(tst_c, len(tst_c))"
      ]
    },
    {
      "cell_type": "markdown",
      "id": "iLh0TdupydUC",
      "metadata": {
        "id": "iLh0TdupydUC"
      },
      "source": [
        "### ERM"
      ]
    },
    {
      "cell_type": "code",
      "execution_count": null,
      "id": "gXz-BR_EtBbS",
      "metadata": {
        "id": "gXz-BR_EtBbS"
      },
      "outputs": [],
      "source": [
        "model_ERM = TransferModel18(device=DEVICE, pretrained=True, freeze=False)"
      ]
    },
    {
      "cell_type": "code",
      "execution_count": null,
      "id": "PMzFruMyt1R7",
      "metadata": {
        "id": "PMzFruMyt1R7"
      },
      "outputs": [],
      "source": [
        "epochs = 15\n",
        "loss_fn = ERMLoss(model_ERM, torch.nn.CrossEntropyLoss())\n",
        "optimizer = torch.optim.Adam(model_ERM.parameters(), lr=0.0005, weight_decay=0.005)\n",
        "train_epochs(epochs, tr_loader_c, cv_loader_c, model_ERM, loss_fn, optimizer, scheduler=ReduceLROnPlateau(optimizer, mode='max', factor=0.2, patience=2, verbose=True), verbose=True, num_subclasses=3)"
      ]
    },
    {
      "cell_type": "code",
      "execution_count": null,
      "id": "AiuxZZ2fuRQB",
      "metadata": {
        "id": "AiuxZZ2fuRQB"
      },
      "outputs": [],
      "source": [
        "evaluate(tst_loader_c,model_ERM, 3)"
      ]
    },
    {
      "cell_type": "markdown",
      "id": "wyJvl6CWyejh",
      "metadata": {
        "id": "wyJvl6CWyejh"
      },
      "source": [
        "### GDRO"
      ]
    },
    {
      "cell_type": "code",
      "execution_count": null,
      "id": "ADIcTtuDygR8",
      "metadata": {
        "id": "ADIcTtuDygR8"
      },
      "outputs": [],
      "source": [
        "model_gDRO = TransferModel18(device=DEVICE, pretrained=True, freeze=False)"
      ]
    },
    {
      "cell_type": "code",
      "execution_count": null,
      "id": "NOLVmOZsyjMq",
      "metadata": {
        "id": "NOLVmOZsyjMq"
      },
      "outputs": [],
      "source": [
        "epochs = 15\n",
        "loss_fn = GDROLoss(model_gDRO, torch.nn.CrossEntropyLoss(), 0.01, 3)\n",
        "optimizer = torch.optim.Adam(model_gDRO.parameters(), lr=0.0005, weight_decay=0.005)\n",
        "train_epochs(epochs, tr_loader_c, tst_loader_c, model_gDRO, loss_fn, optimizer, scheduler=ReduceLROnPlateau(optimizer, mode='max', factor=0.2, patience=2, verbose=True), verbose=True, num_subclasses=3)"
      ]
    },
    {
      "cell_type": "code",
      "execution_count": null,
      "id": "z393MaMZymED",
      "metadata": {
        "id": "z393MaMZymED"
      },
      "outputs": [],
      "source": [
        "evaluate(tst_loader_c,model_gDRO, 3)"
      ]
    }
  ],
  "metadata": {
    "accelerator": "GPU",
    "colab": {
      "name": "LIDC_Georges_End_to_End.ipynb",
      "provenance": [],
      "include_colab_link": true
    },
    "gpuClass": "standard",
    "kernelspec": {
      "display_name": "REU",
      "language": "python",
      "name": "reu"
    },
    "language_info": {
      "codemirror_mode": {
        "name": "ipython",
        "version": 3
      },
      "file_extension": ".py",
      "mimetype": "text/x-python",
      "name": "python",
      "nbconvert_exporter": "python",
      "pygments_lexer": "ipython3",
      "version": "3.10.5"
    }
  },
  "nbformat": 4,
  "nbformat_minor": 5
}