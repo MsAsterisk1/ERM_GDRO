{
 "cells": [
  {
   "cell_type": "markdown",
   "id": "48b41a21",
   "metadata": {},
   "source": [
    "#LIDC GDRO: Looking at Clustered Subgroups\n",
    "\n",
    "Thomas Zeng"
   ]
  },
  {
   "cell_type": "markdown",
   "id": "2275997b",
   "metadata": {},
   "source": [
    "## Notebook Setup"
   ]
  },
  {
   "cell_type": "markdown",
   "id": "c69190e7",
   "metadata": {},
   "source": [
    "Setup autoreload extension"
   ]
  },
  {
   "cell_type": "code",
   "execution_count": 3,
   "id": "89996c23",
   "metadata": {},
   "outputs": [],
   "source": [
    "%load_ext autoreload\n",
    "%autoreload 2"
   ]
  },
  {
   "cell_type": "markdown",
   "id": "c0aa3675",
   "metadata": {},
   "source": [
    "Clone repo (if on colab)"
   ]
  },
  {
   "cell_type": "code",
   "execution_count": 5,
   "id": "5a993151",
   "metadata": {},
   "outputs": [
    {
     "name": "stdout",
     "output_type": "stream",
     "text": [
      "C:\\Users\\tzeng1\\repos\\LIDC_GDRO\n"
     ]
    }
   ],
   "source": [
    "# !git clone https://github.com/mtzig/LIDC_GDRO.git\n",
    "# %cd /content/LIDC_GDRO\n",
    "# %cd .."
   ]
  },
  {
   "cell_type": "markdown",
   "id": "ffedab5f",
   "metadata": {},
   "source": [
    "import necessary libraries"
   ]
  },
  {
   "cell_type": "code",
   "execution_count": 129,
   "id": "179801e0",
   "metadata": {},
   "outputs": [],
   "source": [
    "import pandas as pd\n",
    "import numpy as np\n",
    "from dataloaders import InfiniteDataLoader\n",
    "from datasets import NoduleDataset, SubclassedNoduleDataset\n",
    "from models import TransferModel\n",
    "from train import train, test\n",
    "from torch.optim.lr_scheduler import ReduceLROnPlateau\n",
    "import os\n",
    "# import torchvision\n",
    "from torchvision import transforms\n",
    "import torch\n",
    "from image_data_utils import getImages, train_epochs\n",
    "\n",
    "from umap import UMAP\n",
    "from matplotlib import pyplot as plt\n",
    "import pickle\n",
    "from sklearn.mixture import GaussianMixture\n",
    "from sklearn.metrics import silhouette_score"
   ]
  },
  {
   "cell_type": "markdown",
   "id": "82755e95",
   "metadata": {},
   "source": [
    "Get available Device"
   ]
  },
  {
   "cell_type": "code",
   "execution_count": 8,
   "id": "927fcddf",
   "metadata": {},
   "outputs": [
    {
     "name": "stdout",
     "output_type": "stream",
     "text": [
      "Using cpu\n"
     ]
    }
   ],
   "source": [
    "if torch.cuda.is_available():\n",
    "    print(\"Good to go!\")\n",
    "    DEVICE = torch.device(\"cuda\")\n",
    "else:\n",
    "    print(\"Using cpu\")\n",
    "    DEVICE = torch.device(\"cpu\")"
   ]
  },
  {
   "cell_type": "markdown",
   "id": "49953b35",
   "metadata": {},
   "source": [
    "## ERM Model: Training ERM model to extract CNN features"
   ]
  },
  {
   "cell_type": "markdown",
   "id": "539b89e0",
   "metadata": {},
   "source": [
    "### ERM Modeling"
   ]
  },
  {
   "cell_type": "markdown",
   "id": "2c01dc32",
   "metadata": {},
   "source": [
    "Just for visulalization, the csv where we get the train, cv, test splits and subgroups come from below csv. "
   ]
  },
  {
   "cell_type": "code",
   "execution_count": 25,
   "id": "63061a76",
   "metadata": {},
   "outputs": [
    {
     "data": {
      "text/html": [
       "<div>\n",
       "<style scoped>\n",
       "    .dataframe tbody tr th:only-of-type {\n",
       "        vertical-align: middle;\n",
       "    }\n",
       "\n",
       "    .dataframe tbody tr th {\n",
       "        vertical-align: top;\n",
       "    }\n",
       "\n",
       "    .dataframe thead th {\n",
       "        text-align: right;\n",
       "    }\n",
       "</style>\n",
       "<table border=\"1\" class=\"dataframe\">\n",
       "  <thead>\n",
       "    <tr style=\"text-align: right;\">\n",
       "      <th></th>\n",
       "      <th>noduleID</th>\n",
       "      <th>spiculation</th>\n",
       "      <th>malignancy</th>\n",
       "      <th>split</th>\n",
       "    </tr>\n",
       "  </thead>\n",
       "  <tbody>\n",
       "    <tr>\n",
       "      <th>0</th>\n",
       "      <td>836</td>\n",
       "      <td>1</td>\n",
       "      <td>0</td>\n",
       "      <td>0</td>\n",
       "    </tr>\n",
       "    <tr>\n",
       "      <th>1</th>\n",
       "      <td>1863</td>\n",
       "      <td>1</td>\n",
       "      <td>0</td>\n",
       "      <td>0</td>\n",
       "    </tr>\n",
       "    <tr>\n",
       "      <th>2</th>\n",
       "      <td>2201</td>\n",
       "      <td>0</td>\n",
       "      <td>0</td>\n",
       "      <td>0</td>\n",
       "    </tr>\n",
       "    <tr>\n",
       "      <th>3</th>\n",
       "      <td>1111</td>\n",
       "      <td>0</td>\n",
       "      <td>0</td>\n",
       "      <td>0</td>\n",
       "    </tr>\n",
       "    <tr>\n",
       "      <th>4</th>\n",
       "      <td>1894</td>\n",
       "      <td>0</td>\n",
       "      <td>0</td>\n",
       "      <td>0</td>\n",
       "    </tr>\n",
       "  </tbody>\n",
       "</table>\n",
       "</div>"
      ],
      "text/plain": [
       "   noduleID  spiculation  malignancy  split\n",
       "0       836            1           0      0\n",
       "1      1863            1           0      0\n",
       "2      2201            0           0      0\n",
       "3      1111            0           0      0\n",
       "4      1894            0           0      0"
      ]
     },
     "execution_count": 25,
     "metadata": {},
     "output_type": "execute_result"
    }
   ],
   "source": [
    "df_splits = pd.read_csv('./data/LIDC_data_split.csv', index_col=0)\n",
    "df_splits.head()"
   ]
  },
  {
   "cell_type": "markdown",
   "id": "20ce5610",
   "metadata": {},
   "source": [
    "First we load in the training data"
   ]
  },
  {
   "cell_type": "code",
   "execution_count": 26,
   "id": "705ab8fd",
   "metadata": {},
   "outputs": [],
   "source": [
    "train_data, cv_data, test_data = getImages(split=True, sublabels='malignancy', binary=True, device=DEVICE)\n",
    "\n",
    "#datasets\n",
    "tr = SubclassedNoduleDataset(*train_data)\n",
    "cv = SubclassedNoduleDataset(*cv_data)\n",
    "tst = SubclassedNoduleDataset(*test_data)\n",
    "\n",
    "#dataloaders\n",
    "tr_loader = InfiniteDataLoader(tr, batch_size=512)\n",
    "cv_loader = InfiniteDataLoader(cv, len(cv))\n",
    "tst_loader = InfiniteDataLoader(tst, len(tst))"
   ]
  },
  {
   "cell_type": "markdown",
   "id": "3e67bb4b",
   "metadata": {},
   "source": [
    "Next we initialize the model!"
   ]
  },
  {
   "cell_type": "code",
   "execution_count": 11,
   "id": "8e1d9ca0",
   "metadata": {},
   "outputs": [],
   "source": [
    "model = TransferModel(device=DEVICE, pretrained=True, freeze=False)"
   ]
  },
  {
   "cell_type": "markdown",
   "id": "ea80e03e",
   "metadata": {},
   "source": [
    "Now we train the model"
   ]
  },
  {
   "cell_type": "code",
   "execution_count": 14,
   "id": "71093588",
   "metadata": {},
   "outputs": [
    {
     "name": "stdout",
     "output_type": "stream",
     "text": [
      "Epoch 1/15\n",
      "Average training loss: 0.4948872074484825\n"
     ]
    },
    {
     "name": "stderr",
     "output_type": "stream",
     "text": [
      "C:\\Users\\tzeng1\\repos\\LIDC_GDRO\\train.py:52: RuntimeWarning: invalid value encountered in true_divide\n",
      "  subgroup_accuracy = subgroup_correct / num_samples\n"
     ]
    },
    {
     "name": "stdout",
     "output_type": "stream",
     "text": [
      "Accuracy: 0.8405797101449275 \n",
      "Accuracy over subgroups: [       nan 0.85714286 1.         0.8       ] \n",
      "Worst Group Accuracy: nan\n",
      "Epoch 2/15\n",
      "Average training loss: 0.2130792558193207\n",
      "Accuracy: 0.8961038961038961 \n",
      "Accuracy over subgroups: [       nan 0.82352941 1.         0.95      ] \n",
      "Worst Group Accuracy: nan\n",
      "Epoch 3/15\n",
      "Average training loss: 0.126049941778183\n",
      "Accuracy: 0.925 \n",
      "Accuracy over subgroups: [       nan 0.85714286 1.         0.95555556] \n",
      "Worst Group Accuracy: nan\n",
      "Epoch 4/15\n",
      "Average training loss: 0.07670871168375015\n",
      "Accuracy: 0.8987341772151899 \n",
      "Accuracy over subgroups: [       nan 0.83870968 1.         0.93181818] \n",
      "Worst Group Accuracy: nan\n",
      "Epoch 5/15\n",
      "Average training loss: 0.06327462270855903\n",
      "Accuracy: 0.8484848484848485 \n",
      "Accuracy over subgroups: [       nan 0.68       1.         0.94594595] \n",
      "Worst Group Accuracy: nan\n",
      "Epoch 6/15\n",
      "Average training loss: 0.03416173886507749\n",
      "Accuracy: 0.881578947368421 \n",
      "Accuracy over subgroups: [       nan 0.81818182 1.         0.92105263] \n",
      "Worst Group Accuracy: nan\n",
      "Epoch 00006: reducing learning rate of group 0 to 1.0000e-04.\n",
      "Epoch 7/15\n",
      "Average training loss: 0.024792016576975585\n",
      "Accuracy: 0.8 \n",
      "Accuracy over subgroups: [       nan 0.76923077 1.         0.8       ] \n",
      "Worst Group Accuracy: nan\n",
      "Epoch 8/15\n",
      "Average training loss: 0.009811915410682558\n",
      "Accuracy: 0.8481012658227848 \n",
      "Accuracy over subgroups: [       nan 0.71428571 1.         0.91111111] \n",
      "Worst Group Accuracy: nan\n",
      "Epoch 9/15\n",
      "Average training loss: 0.009308375045657158\n",
      "Accuracy: 0.7971014492753623 \n",
      "Accuracy over subgroups: [       nan 0.76666667 1.         0.8       ] \n",
      "Worst Group Accuracy: nan\n",
      "Epoch 00009: reducing learning rate of group 0 to 2.0000e-05.\n",
      "Epoch 10/15\n",
      "Average training loss: 0.003515438875183463\n",
      "Accuracy: 0.8055555555555556 \n",
      "Accuracy over subgroups: [       nan 0.85714286 1.         0.73684211] \n",
      "Worst Group Accuracy: nan\n",
      "Epoch 11/15\n",
      "Average training loss: 0.003102961566764861\n",
      "Accuracy: 0.8382352941176471 \n",
      "Accuracy over subgroups: [       nan 0.83333333        nan 0.84090909] \n",
      "Worst Group Accuracy: nan\n",
      "Epoch 12/15\n",
      "Average training loss: 0.003044102608691901\n",
      "Accuracy: 0.8295454545454546 \n",
      "Accuracy over subgroups: [       nan 0.76       1.         0.83636364] \n",
      "Worst Group Accuracy: nan\n",
      "Epoch 00012: reducing learning rate of group 0 to 4.0000e-06.\n",
      "Epoch 13/15\n",
      "Average training loss: 0.0025547303375788033\n",
      "Accuracy: 0.8529411764705882 \n",
      "Accuracy over subgroups: [       nan 0.83333333 1.         0.85294118] \n",
      "Worst Group Accuracy: nan\n",
      "Epoch 14/15\n",
      "Average training loss: 0.002414117834996432\n",
      "Accuracy: 0.8591549295774648 \n",
      "Accuracy over subgroups: [       nan 0.875      1.         0.82926829] \n",
      "Worst Group Accuracy: nan\n",
      "Epoch 15/15\n",
      "Average training loss: 0.002072936506010592\n",
      "Accuracy: 0.819672131147541 \n",
      "Accuracy over subgroups: [       nan 0.88235294 1.         0.7804878 ] \n",
      "Worst Group Accuracy: nan\n",
      "Epoch 00015: reducing learning rate of group 0 to 8.0000e-07.\n"
     ]
    }
   ],
   "source": [
    "epochs = 15\n",
    "train_epochs(epochs, tr_loader, cv_loader, model, loss_fn='ERM',scheduler=True, verbose=True)"
   ]
  },
  {
   "cell_type": "code",
   "execution_count": 16,
   "id": "fc9ce04e",
   "metadata": {},
   "outputs": [
    {
     "data": {
      "text/plain": [
       "(0.9178082191780822, nan, 0.9230769230769231, 1.0, 0.9024390243902439)"
      ]
     },
     "execution_count": 16,
     "metadata": {},
     "output_type": "execute_result"
    }
   ],
   "source": [
    "test(tst_loader,model)"
   ]
  },
  {
   "cell_type": "markdown",
   "id": "ec354ef2",
   "metadata": {},
   "source": [
    "### Feature Extraction"
   ]
  },
  {
   "cell_type": "markdown",
   "id": "0c7cc857",
   "metadata": {},
   "source": [
    "We first save model weights (for reproducibility)"
   ]
  },
  {
   "cell_type": "code",
   "execution_count": null,
   "id": "fd8d09a9",
   "metadata": {},
   "outputs": [],
   "source": [
    " torch.save(model.state_dict(), './data/erm_cluster_weights.pt')"
   ]
  },
  {
   "cell_type": "markdown",
   "id": "8e8f3145",
   "metadata": {},
   "source": [
    "Next we add hooks to let us get activations"
   ]
  },
  {
   "cell_type": "code",
   "execution_count": 20,
   "id": "66a8a339",
   "metadata": {},
   "outputs": [
    {
     "data": {
      "text/plain": [
       "<torch.utils.hooks.RemovableHandle at 0x1b20a294f70>"
      ]
     },
     "execution_count": 20,
     "metadata": {},
     "output_type": "execute_result"
    }
   ],
   "source": [
    "activation = {}\n",
    "def get_activation(name):\n",
    "    def hook(model, input, output):\n",
    "        activation[name] = output.detach()\n",
    "    return hook\n",
    "model.model.avgpool.register_forward_hook(get_activation('avgpool'))"
   ]
  },
  {
   "cell_type": "markdown",
   "id": "5ede3962",
   "metadata": {},
   "source": [
    "We re get the data, but in its entirety with the noduleID"
   ]
  },
  {
   "cell_type": "code",
   "execution_count": 29,
   "id": "9c03c43d",
   "metadata": {},
   "outputs": [],
   "source": [
    "noduleID, data = getImages(split=False, binary=True, device=DEVICE)"
   ]
  },
  {
   "cell_type": "markdown",
   "id": "a10032b2",
   "metadata": {},
   "source": [
    "Now we extract features"
   ]
  },
  {
   "cell_type": "code",
   "execution_count": 31,
   "id": "2ff5e0d6",
   "metadata": {},
   "outputs": [],
   "source": [
    "imgs = torch.stack(data[0])\n",
    "model(imgs)\n",
    "img_features = activation['avgpool'].squeeze()\n"
   ]
  },
  {
   "cell_type": "markdown",
   "id": "63226cd7",
   "metadata": {},
   "source": [
    "We collect all the features in a dataframe"
   ]
  },
  {
   "cell_type": "code",
   "execution_count": 90,
   "id": "f39cf983",
   "metadata": {},
   "outputs": [
    {
     "data": {
      "text/html": [
       "<div>\n",
       "<style scoped>\n",
       "    .dataframe tbody tr th:only-of-type {\n",
       "        vertical-align: middle;\n",
       "    }\n",
       "\n",
       "    .dataframe tbody tr th {\n",
       "        vertical-align: top;\n",
       "    }\n",
       "\n",
       "    .dataframe thead th {\n",
       "        text-align: right;\n",
       "    }\n",
       "</style>\n",
       "<table border=\"1\" class=\"dataframe\">\n",
       "  <thead>\n",
       "    <tr style=\"text-align: right;\">\n",
       "      <th></th>\n",
       "      <th>noduleID</th>\n",
       "      <th>1</th>\n",
       "      <th>2</th>\n",
       "      <th>3</th>\n",
       "      <th>4</th>\n",
       "      <th>5</th>\n",
       "      <th>6</th>\n",
       "      <th>7</th>\n",
       "      <th>8</th>\n",
       "      <th>9</th>\n",
       "      <th>...</th>\n",
       "      <th>505</th>\n",
       "      <th>506</th>\n",
       "      <th>507</th>\n",
       "      <th>508</th>\n",
       "      <th>509</th>\n",
       "      <th>510</th>\n",
       "      <th>511</th>\n",
       "      <th>512</th>\n",
       "      <th>split</th>\n",
       "      <th>malignancy</th>\n",
       "    </tr>\n",
       "  </thead>\n",
       "  <tbody>\n",
       "    <tr>\n",
       "      <th>0</th>\n",
       "      <td>101</td>\n",
       "      <td>1.391954</td>\n",
       "      <td>0.467545</td>\n",
       "      <td>1.905472</td>\n",
       "      <td>2.356219</td>\n",
       "      <td>0.040876</td>\n",
       "      <td>0.000000</td>\n",
       "      <td>0.104534</td>\n",
       "      <td>0.286290</td>\n",
       "      <td>0.178684</td>\n",
       "      <td>...</td>\n",
       "      <td>0.327227</td>\n",
       "      <td>0.327211</td>\n",
       "      <td>2.818169</td>\n",
       "      <td>0.295025</td>\n",
       "      <td>0.679386</td>\n",
       "      <td>0.949456</td>\n",
       "      <td>0.782659</td>\n",
       "      <td>1.970611</td>\n",
       "      <td>1</td>\n",
       "      <td>0</td>\n",
       "    </tr>\n",
       "    <tr>\n",
       "      <th>1</th>\n",
       "      <td>1017</td>\n",
       "      <td>2.339385</td>\n",
       "      <td>0.427793</td>\n",
       "      <td>1.242750</td>\n",
       "      <td>0.387758</td>\n",
       "      <td>0.000000</td>\n",
       "      <td>0.000000</td>\n",
       "      <td>0.001081</td>\n",
       "      <td>0.206466</td>\n",
       "      <td>0.537680</td>\n",
       "      <td>...</td>\n",
       "      <td>0.045685</td>\n",
       "      <td>0.000000</td>\n",
       "      <td>0.627497</td>\n",
       "      <td>0.598785</td>\n",
       "      <td>1.074713</td>\n",
       "      <td>1.183331</td>\n",
       "      <td>0.000000</td>\n",
       "      <td>1.016660</td>\n",
       "      <td>0</td>\n",
       "      <td>0</td>\n",
       "    </tr>\n",
       "    <tr>\n",
       "      <th>2</th>\n",
       "      <td>102</td>\n",
       "      <td>0.000000</td>\n",
       "      <td>0.252947</td>\n",
       "      <td>4.521054</td>\n",
       "      <td>3.473900</td>\n",
       "      <td>0.000000</td>\n",
       "      <td>1.004385</td>\n",
       "      <td>0.299824</td>\n",
       "      <td>0.268796</td>\n",
       "      <td>0.099110</td>\n",
       "      <td>...</td>\n",
       "      <td>0.346174</td>\n",
       "      <td>0.000000</td>\n",
       "      <td>1.888492</td>\n",
       "      <td>0.000000</td>\n",
       "      <td>0.401768</td>\n",
       "      <td>0.197017</td>\n",
       "      <td>2.101146</td>\n",
       "      <td>0.029174</td>\n",
       "      <td>0</td>\n",
       "      <td>0</td>\n",
       "    </tr>\n",
       "    <tr>\n",
       "      <th>3</th>\n",
       "      <td>103</td>\n",
       "      <td>0.060517</td>\n",
       "      <td>0.259883</td>\n",
       "      <td>1.832984</td>\n",
       "      <td>1.128895</td>\n",
       "      <td>0.000000</td>\n",
       "      <td>0.826544</td>\n",
       "      <td>0.027301</td>\n",
       "      <td>4.371633</td>\n",
       "      <td>0.171143</td>\n",
       "      <td>...</td>\n",
       "      <td>0.160958</td>\n",
       "      <td>0.075954</td>\n",
       "      <td>2.260294</td>\n",
       "      <td>0.000000</td>\n",
       "      <td>0.609978</td>\n",
       "      <td>1.078527</td>\n",
       "      <td>3.761819</td>\n",
       "      <td>0.247361</td>\n",
       "      <td>0</td>\n",
       "      <td>0</td>\n",
       "    </tr>\n",
       "    <tr>\n",
       "      <th>4</th>\n",
       "      <td>104</td>\n",
       "      <td>0.260390</td>\n",
       "      <td>0.000000</td>\n",
       "      <td>0.000000</td>\n",
       "      <td>2.491910</td>\n",
       "      <td>0.016017</td>\n",
       "      <td>3.531558</td>\n",
       "      <td>2.025470</td>\n",
       "      <td>3.758451</td>\n",
       "      <td>0.078662</td>\n",
       "      <td>...</td>\n",
       "      <td>0.197781</td>\n",
       "      <td>0.155870</td>\n",
       "      <td>2.284213</td>\n",
       "      <td>0.000000</td>\n",
       "      <td>0.834848</td>\n",
       "      <td>4.143511</td>\n",
       "      <td>2.039289</td>\n",
       "      <td>0.651699</td>\n",
       "      <td>0</td>\n",
       "      <td>0</td>\n",
       "    </tr>\n",
       "  </tbody>\n",
       "</table>\n",
       "<p>5 rows × 515 columns</p>\n",
       "</div>"
      ],
      "text/plain": [
       "   noduleID         1         2         3         4         5         6  \\\n",
       "0       101  1.391954  0.467545  1.905472  2.356219  0.040876  0.000000   \n",
       "1      1017  2.339385  0.427793  1.242750  0.387758  0.000000  0.000000   \n",
       "2       102  0.000000  0.252947  4.521054  3.473900  0.000000  1.004385   \n",
       "3       103  0.060517  0.259883  1.832984  1.128895  0.000000  0.826544   \n",
       "4       104  0.260390  0.000000  0.000000  2.491910  0.016017  3.531558   \n",
       "\n",
       "          7         8         9  ...       505       506       507       508  \\\n",
       "0  0.104534  0.286290  0.178684  ...  0.327227  0.327211  2.818169  0.295025   \n",
       "1  0.001081  0.206466  0.537680  ...  0.045685  0.000000  0.627497  0.598785   \n",
       "2  0.299824  0.268796  0.099110  ...  0.346174  0.000000  1.888492  0.000000   \n",
       "3  0.027301  4.371633  0.171143  ...  0.160958  0.075954  2.260294  0.000000   \n",
       "4  2.025470  3.758451  0.078662  ...  0.197781  0.155870  2.284213  0.000000   \n",
       "\n",
       "        509       510       511       512  split  malignancy  \n",
       "0  0.679386  0.949456  0.782659  1.970611      1           0  \n",
       "1  1.074713  1.183331  0.000000  1.016660      0           0  \n",
       "2  0.401768  0.197017  2.101146  0.029174      0           0  \n",
       "3  0.609978  1.078527  3.761819  0.247361      0           0  \n",
       "4  0.834848  4.143511  2.039289  0.651699      0           0  \n",
       "\n",
       "[5 rows x 515 columns]"
      ]
     },
     "execution_count": 90,
     "metadata": {},
     "output_type": "execute_result"
    }
   ],
   "source": [
    "cols = []\n",
    "for idx,id in enumerate(noduleID):\n",
    "  cols.append([id] + img_features[idx].cpu().numpy().tolist())\n",
    "df_features = pd.DataFrame(cols).rename({0:'noduleID'}, axis=1)\n",
    "\n",
    "splits = [df_splits[df_splits['noduleID'] == id]['split'].iloc[0] for id in  df_features['noduleID']]\n",
    "malig = [df_splits[df_splits['noduleID'] == id]['malignancy'].iloc[0] for id in  df_features['noduleID']]\n",
    "\n",
    "df_features['split'] = splits\n",
    "df_features['malignancy'] = malig\n",
    "df_features.head()"
   ]
  },
  {
   "cell_type": "markdown",
   "id": "dff4045d",
   "metadata": {},
   "source": [
    "We again save the data for reproducibility"
   ]
  },
  {
   "cell_type": "code",
   "execution_count": 78,
   "id": "baffd36c",
   "metadata": {},
   "outputs": [],
   "source": [
    "df_features.to_csv('./data/erm_cluster_cnn_features.csv')"
   ]
  },
  {
   "cell_type": "markdown",
   "id": "f01fe687",
   "metadata": {},
   "source": [
    "## Feature Reduce and Cluster"
   ]
  },
  {
   "cell_type": "markdown",
   "id": "f4ca88b0",
   "metadata": {},
   "source": [
    "### Feature Reduce"
   ]
  },
  {
   "cell_type": "markdown",
   "id": "ade3caf3",
   "metadata": {},
   "source": [
    "First we split df into two by the splits"
   ]
  },
  {
   "cell_type": "code",
   "execution_count": 140,
   "id": "6e8d89fc",
   "metadata": {},
   "outputs": [],
   "source": [
    "df_features_train = df_features[df_features['split'] == 0]\n",
    "df_features_cv_test = df_features[df_features['split'] != 0]"
   ]
  },
  {
   "cell_type": "markdown",
   "id": "916d56c4",
   "metadata": {},
   "source": [
    "Next we get the features in an array"
   ]
  },
  {
   "cell_type": "code",
   "execution_count": 141,
   "id": "6929144a",
   "metadata": {},
   "outputs": [],
   "source": [
    "train_features = df_features_train.drop(['noduleID', 'split', 'malignancy'], axis=1).values\n",
    "cv_test_features = df_features_cv_test.drop(['noduleID', 'split', 'malignancy'], axis=1).values"
   ]
  },
  {
   "cell_type": "markdown",
   "id": "3af995b2",
   "metadata": {},
   "source": [
    "Following the George paper, we use UMAP to dimensionaly reduce our data"
   ]
  },
  {
   "cell_type": "code",
   "execution_count": 142,
   "id": "a73c3b33",
   "metadata": {},
   "outputs": [
    {
     "data": {
      "text/html": [
       "<style>#sk-container-id-6 {color: black;background-color: white;}#sk-container-id-6 pre{padding: 0;}#sk-container-id-6 div.sk-toggleable {background-color: white;}#sk-container-id-6 label.sk-toggleable__label {cursor: pointer;display: block;width: 100%;margin-bottom: 0;padding: 0.3em;box-sizing: border-box;text-align: center;}#sk-container-id-6 label.sk-toggleable__label-arrow:before {content: \"▸\";float: left;margin-right: 0.25em;color: #696969;}#sk-container-id-6 label.sk-toggleable__label-arrow:hover:before {color: black;}#sk-container-id-6 div.sk-estimator:hover label.sk-toggleable__label-arrow:before {color: black;}#sk-container-id-6 div.sk-toggleable__content {max-height: 0;max-width: 0;overflow: hidden;text-align: left;background-color: #f0f8ff;}#sk-container-id-6 div.sk-toggleable__content pre {margin: 0.2em;color: black;border-radius: 0.25em;background-color: #f0f8ff;}#sk-container-id-6 input.sk-toggleable__control:checked~div.sk-toggleable__content {max-height: 200px;max-width: 100%;overflow: auto;}#sk-container-id-6 input.sk-toggleable__control:checked~label.sk-toggleable__label-arrow:before {content: \"▾\";}#sk-container-id-6 div.sk-estimator input.sk-toggleable__control:checked~label.sk-toggleable__label {background-color: #d4ebff;}#sk-container-id-6 div.sk-label input.sk-toggleable__control:checked~label.sk-toggleable__label {background-color: #d4ebff;}#sk-container-id-6 input.sk-hidden--visually {border: 0;clip: rect(1px 1px 1px 1px);clip: rect(1px, 1px, 1px, 1px);height: 1px;margin: -1px;overflow: hidden;padding: 0;position: absolute;width: 1px;}#sk-container-id-6 div.sk-estimator {font-family: monospace;background-color: #f0f8ff;border: 1px dotted black;border-radius: 0.25em;box-sizing: border-box;margin-bottom: 0.5em;}#sk-container-id-6 div.sk-estimator:hover {background-color: #d4ebff;}#sk-container-id-6 div.sk-parallel-item::after {content: \"\";width: 100%;border-bottom: 1px solid gray;flex-grow: 1;}#sk-container-id-6 div.sk-label:hover label.sk-toggleable__label {background-color: #d4ebff;}#sk-container-id-6 div.sk-serial::before {content: \"\";position: absolute;border-left: 1px solid gray;box-sizing: border-box;top: 0;bottom: 0;left: 50%;z-index: 0;}#sk-container-id-6 div.sk-serial {display: flex;flex-direction: column;align-items: center;background-color: white;padding-right: 0.2em;padding-left: 0.2em;position: relative;}#sk-container-id-6 div.sk-item {position: relative;z-index: 1;}#sk-container-id-6 div.sk-parallel {display: flex;align-items: stretch;justify-content: center;background-color: white;position: relative;}#sk-container-id-6 div.sk-item::before, #sk-container-id-6 div.sk-parallel-item::before {content: \"\";position: absolute;border-left: 1px solid gray;box-sizing: border-box;top: 0;bottom: 0;left: 50%;z-index: -1;}#sk-container-id-6 div.sk-parallel-item {display: flex;flex-direction: column;z-index: 1;position: relative;background-color: white;}#sk-container-id-6 div.sk-parallel-item:first-child::after {align-self: flex-end;width: 50%;}#sk-container-id-6 div.sk-parallel-item:last-child::after {align-self: flex-start;width: 50%;}#sk-container-id-6 div.sk-parallel-item:only-child::after {width: 0;}#sk-container-id-6 div.sk-dashed-wrapped {border: 1px dashed gray;margin: 0 0.4em 0.5em 0.4em;box-sizing: border-box;padding-bottom: 0.4em;background-color: white;}#sk-container-id-6 div.sk-label label {font-family: monospace;font-weight: bold;display: inline-block;line-height: 1.2em;}#sk-container-id-6 div.sk-label-container {text-align: center;}#sk-container-id-6 div.sk-container {/* jupyter's `normalize.less` sets `[hidden] { display: none; }` but bootstrap.min.css set `[hidden] { display: none !important; }` so we also need the `!important` here to be able to override the default hidden behavior on the sphinx rendered scikit-learn.org. See: https://github.com/scikit-learn/scikit-learn/issues/21755 */display: inline-block !important;position: relative;}#sk-container-id-6 div.sk-text-repr-fallback {display: none;}</style><div id=\"sk-container-id-6\" class=\"sk-top-container\"><div class=\"sk-text-repr-fallback\"><pre>UMAP(random_state=8, tqdm_kwds={&#x27;bar_format&#x27;: &#x27;{desc}: {percentage:3.0f}%| {bar} {n_fmt}/{total_fmt} [{elapsed}]&#x27;, &#x27;desc&#x27;: &#x27;Epochs completed&#x27;, &#x27;disable&#x27;: True})</pre><b>In a Jupyter environment, please rerun this cell to show the HTML representation or trust the notebook. <br />On GitHub, the HTML representation is unable to render, please try loading this page with nbviewer.org.</b></div><div class=\"sk-container\" hidden><div class=\"sk-item\"><div class=\"sk-estimator sk-toggleable\"><input class=\"sk-toggleable__control sk-hidden--visually\" id=\"sk-estimator-id-6\" type=\"checkbox\" checked><label for=\"sk-estimator-id-6\" class=\"sk-toggleable__label sk-toggleable__label-arrow\">UMAP</label><div class=\"sk-toggleable__content\"><pre>UMAP(random_state=8, tqdm_kwds={&#x27;bar_format&#x27;: &#x27;{desc}: {percentage:3.0f}%| {bar} {n_fmt}/{total_fmt} [{elapsed}]&#x27;, &#x27;desc&#x27;: &#x27;Epochs completed&#x27;, &#x27;disable&#x27;: True})</pre></div></div></div></div></div>"
      ],
      "text/plain": [
       "UMAP(random_state=8, tqdm_kwds={'bar_format': '{desc}: {percentage:3.0f}%| {bar} {n_fmt}/{total_fmt} [{elapsed}]', 'desc': 'Epochs completed', 'disable': True})"
      ]
     },
     "execution_count": 142,
     "metadata": {},
     "output_type": "execute_result"
    }
   ],
   "source": [
    "reducer = UMAP(random_state=8)\n",
    "reducer.fit(train_features)"
   ]
  },
  {
   "cell_type": "code",
   "execution_count": 143,
   "id": "70a7252d",
   "metadata": {},
   "outputs": [],
   "source": [
    "train_embeds = reducer.transform(train_features)"
   ]
  },
  {
   "cell_type": "markdown",
   "id": "3f50a812",
   "metadata": {},
   "source": [
    "Now we visualize the reduction on train dataset"
   ]
  },
  {
   "cell_type": "code",
   "execution_count": 144,
   "id": "b6fa9aa3",
   "metadata": {},
   "outputs": [
    {
     "data": {
      "image/png": "[encoded data removed]",
      "text/plain": [
       "<Figure size 432x288 with 1 Axes>"
      ]
     },
     "metadata": {
      "needs_background": "light"
     },
     "output_type": "display_data"
    }
   ],
   "source": [
    "plt.scatter(train_embeds[:, 0], train_embeds[:, 1], s= 2, c=df_features_train['malignancy'], cmap='Spectral')\n",
    "plt.title('Train Embeddings', fontsize=24);\n"
   ]
  },
  {
   "cell_type": "markdown",
   "id": "84ddb8e2",
   "metadata": {},
   "source": [
    "We also do same visualization on cv and test"
   ]
  },
  {
   "cell_type": "code",
   "execution_count": 145,
   "id": "05ce9a28",
   "metadata": {},
   "outputs": [],
   "source": [
    "cv_test_embeds = reducer.transform(cv_test_features)"
   ]
  },
  {
   "cell_type": "code",
   "execution_count": 146,
   "id": "6c007ab0",
   "metadata": {},
   "outputs": [
    {
     "data": {
      "image/png": "[encoded data removed]",
      "text/plain": [
       "<Figure size 432x288 with 1 Axes>"
      ]
     },
     "metadata": {
      "needs_background": "light"
     },
     "output_type": "display_data"
    }
   ],
   "source": [
    "plt.scatter(cv_test_embeds[:, 0], cv_test_embeds[:, 1], s= 2, c=df_features_cv_test['malignancy'], cmap='Spectral')\n",
    "plt.title('CV Test Embeddings', fontsize=24);"
   ]
  },
  {
   "cell_type": "markdown",
   "id": "b3ae499e",
   "metadata": {},
   "source": [
    "We now save the reduce"
   ]
  },
  {
   "cell_type": "code",
   "execution_count": 147,
   "id": "b5345903",
   "metadata": {},
   "outputs": [],
   "source": [
    "f_reducer = './cnn_umap_reducer.sav'\n",
    "pickle.dump(reducer, open(f_reducer, 'wb'))"
   ]
  },
  {
   "cell_type": "markdown",
   "id": "2e900474",
   "metadata": {},
   "source": [
    "### Feature Cluster"
   ]
  },
  {
   "cell_type": "markdown",
   "id": "f55115df",
   "metadata": {},
   "source": [
    "Now we cluster the training embeddings using Gaussian Mixture\n",
    "\n",
    "We first visualize the silhouette score"
   ]
  },
  {
   "cell_type": "code",
   "execution_count": 148,
   "id": "29b9cdc8",
   "metadata": {},
   "outputs": [
    {
     "data": {
      "text/plain": [
       "Text(0, 0.5, 'Silhouette Coefficients')"
      ]
     },
     "execution_count": 148,
     "metadata": {},
     "output_type": "execute_result"
    },
    {
     "data": {
      "image/png": "[encoded data removed]",
      "text/plain": [
       "<Figure size 432x288 with 1 Axes>"
      ]
     },
     "metadata": {
      "needs_background": "light"
     },
     "output_type": "display_data"
    }
   ],
   "source": [
    "clusters = [n for n in range(2,16)]\n",
    "silhouette_coefficients = []\n",
    "\n",
    "for cluster in clusters:\n",
    "  gmm = GaussianMixture(n_components=cluster, random_state=61).fit(train_embeds)\n",
    "  labels = gmm.predict(train_embeds)\n",
    "  \n",
    "  silhouette_avg = silhouette_score(train_embeds, labels)\n",
    "  silhouette_coefficients.append(silhouette_avg)\n",
    "\n",
    "plt.plot(clusters, silhouette_coefficients)\n",
    "plt.xlabel('Number of Clusters')\n",
    "plt.ylabel('Silhouette Coefficients')"
   ]
  },
  {
   "cell_type": "markdown",
   "id": "2eb4177c",
   "metadata": {},
   "source": [
    "We note from above, the best number of subclasses is 2. But as subclass of 4 still gives decent scores (before big drop), we will use that."
   ]
  },
  {
   "cell_type": "code",
   "execution_count": 149,
   "id": "61f1e245",
   "metadata": {},
   "outputs": [],
   "source": [
    "clusterer = GaussianMixture(n_components=4, random_state=61).fit(train_embeds)"
   ]
  },
  {
   "cell_type": "code",
   "execution_count": 150,
   "id": "0e87f5e6",
   "metadata": {},
   "outputs": [
    {
     "data": {
      "image/png": "[encoded data removed]",
      "text/plain": [
       "<Figure size 432x288 with 1 Axes>"
      ]
     },
     "metadata": {
      "needs_background": "light"
     },
     "output_type": "display_data"
    }
   ],
   "source": [
    "train_labels = clusterer.predict(train_embeds)\n",
    "\n",
    "plt.scatter(train_embeds[:, 0], train_embeds[:, 1], s= 2, c=train_labels, cmap='Spectral')\n",
    "plt.title('Train Embeddings Clustered', fontsize=24);"
   ]
  },
  {
   "cell_type": "code",
   "execution_count": 154,
   "id": "14047808",
   "metadata": {},
   "outputs": [
    {
     "data": {
      "image/png": "[encoded data removed]",
      "text/plain": [
       "<Figure size 432x288 with 1 Axes>"
      ]
     },
     "metadata": {
      "needs_background": "light"
     },
     "output_type": "display_data"
    }
   ],
   "source": [
    "features = df_features_train[df_features_train['malignancy']>1].drop(['noduleID', 'split', 'malignancy'], axis=1).values\n",
    "embeds = reducer.transform(features)\n",
    "labels = clusterer.predict(embeds)\n",
    "\n",
    "plt.scatter(embeds[:, 0], embeds[:, 1], s= 2, c=labels, cmap='Spectral')\n",
    "plt.title('Train Embeddings Clustered', fontsize=24);"
   ]
  }
 ],
 "metadata": {
  "kernelspec": {
   "display_name": "REU",
   "language": "python",
   "name": "reu"
  },
  "language_info": {
   "codemirror_mode": {
    "name": "ipython",
    "version": 3
   },
   "file_extension": ".py",
   "mimetype": "text/x-python",
   "name": "python",
   "nbconvert_exporter": "python",
   "pygments_lexer": "ipython3",
   "version": "3.10.5"
  }
 },
 "nbformat": 4,
 "nbformat_minor": 5
}
