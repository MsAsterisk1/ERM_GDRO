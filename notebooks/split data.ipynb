{
 "cells": [
  {
   "cell_type": "code",
   "execution_count": 1,
   "id": "10e342df",
   "metadata": {},
   "outputs": [],
   "source": [
    "# Splits nodules between training and testing sets, using subtype data to stratify the sets"
   ]
  },
  {
   "cell_type": "code",
   "execution_count": 34,
   "id": "d1baf385",
   "metadata": {},
   "outputs": [],
   "source": [
    "import pandas as pd\n",
    "import numpy as np\n",
    "import random"
   ]
  },
  {
   "cell_type": "code",
   "execution_count": 5,
   "id": "9fe871b4",
   "metadata": {},
   "outputs": [],
   "source": [
    "# Path to data folder\n",
    "data_folder = \"../data/\"\n",
    "\n",
    "# Paths to data csv files\n",
    "subtypes_path = data_folder + \"lidc_spic_subgrouped.csv\"\n",
    "max_slice_path = data_folder + \"LIDC_20130817_AllFeatures2D_MaxSlicePerNodule_inLineRatings.csv\"\n",
    "\n",
    "# Filepath to store the training & testing flags for each nodule\n",
    "split_path = data_folder + \"lidc_train_test_split_stratified.csv\""
   ]
  },
  {
   "cell_type": "code",
   "execution_count": 26,
   "id": "a53aad5b",
   "metadata": {},
   "outputs": [],
   "source": [
    "# Sort each nodule by subgroups\n",
    "\n",
    "subtype_df = pd.read_csv(subtypes_path)\n",
    "subtype_col = \"subgroup\"\n",
    "nodule_col = \"noduleID\"\n",
    "\n",
    "nodules = {}\n",
    "\n",
    "for subtype in subtype_df[subtype_col].unique():\n",
    "    nodules[subtype] = subtype_df[subtype_df[subtype_col] == subtype][nodule_col]"
   ]
  },
  {
   "cell_type": "code",
   "execution_count": 31,
   "id": "855ea7cd",
   "metadata": {},
   "outputs": [],
   "source": [
    "# Randomly sample a portion of each subtype into training and test sets, then shuffle each\n",
    "\n",
    "train_frac = 0.8\n",
    "\n",
    "train_set, test_set = [], []\n",
    "\n",
    "for subtype in nodules:\n",
    "    for nodule_id in nodules[subtype]:\n",
    "        if random.random() < train_frac:\n",
    "            train_set.append(nodule_id)\n",
    "        else:\n",
    "            test_set.append(nodule_id)"
   ]
  },
  {
   "cell_type": "code",
   "execution_count": 39,
   "id": "387f83f2",
   "metadata": {},
   "outputs": [],
   "source": [
    "# Format into dataframe\n",
    "\n",
    "train_test_df = pd.DataFrame({nodule_col: subtype_df[nodule_col], \"dataset\": np.empty(len(subtype_df[nodule_col]))})\n",
    "\n",
    "for i in subtype_df.index:\n",
    "    nodule_id = subtype_df.at[i, nodule_col]\n",
    "    train_test_df.at[i, \"dataset\"] = \"train\" if nodule_id in train_set else \"test\""
   ]
  },
  {
   "cell_type": "code",
   "execution_count": 45,
   "id": "70c5ee63",
   "metadata": {},
   "outputs": [],
   "source": [
    "# Save to csv\n",
    "\n",
    "train_test_df.to_csv(split_path, index=False)"
   ]
  },
  {
   "cell_type": "code",
   "execution_count": null,
   "id": "dab1b8ca",
   "metadata": {},
   "outputs": [],
   "source": []
  }
 ],
 "metadata": {
  "kernelspec": {
   "display_name": "REU",
   "language": "python",
   "name": "reu"
  },
  "language_info": {
   "codemirror_mode": {
    "name": "ipython",
    "version": 3
   },
   "file_extension": ".py",
   "mimetype": "text/x-python",
   "name": "python",
   "nbconvert_exporter": "python",
   "pygments_lexer": "ipython3",
   "version": "3.9.12"
  }
 },
 "nbformat": 4,
 "nbformat_minor": 5
}
