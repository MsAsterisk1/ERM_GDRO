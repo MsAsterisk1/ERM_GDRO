{
 "cells": [
  {
   "cell_type": "code",
   "execution_count": 24,
   "id": "75d9dee4",
   "metadata": {},
   "outputs": [],
   "source": [
    "import pandas as pd\n",
    "import numpy as np"
   ]
  },
  {
   "cell_type": "code",
   "execution_count": 32,
   "id": "4f35551a",
   "metadata": {},
   "outputs": [],
   "source": [
    "dicom_path = \"../data/LIDC_IH_DICOM.csv\"\n",
    "data_path = \"../data/LIDC_20130817_AllFeatures2D_MaxSlicePerNodule_inLineRatings.csv\"\n",
    "subtyped_path = \"../data/LIDC_DICOM_subtyped.csv\""
   ]
  },
  {
   "cell_type": "code",
   "execution_count": 33,
   "id": "d2460498",
   "metadata": {},
   "outputs": [],
   "source": [
    "subtype_variable = \"Manufacturer\""
   ]
  },
  {
   "cell_type": "code",
   "execution_count": 34,
   "id": "099841b2",
   "metadata": {},
   "outputs": [],
   "source": [
    "dicom_df = pd.read_csv(dicom_path)\n",
    "df = pd.read_csv(data_path)"
   ]
  },
  {
   "cell_type": "code",
   "execution_count": 83,
   "id": "2a3dddd5",
   "metadata": {},
   "outputs": [
    {
     "name": "stderr",
     "output_type": "stream",
     "text": [
      "C:\\Users\\efurst1\\AppData\\Local\\Temp\\ipykernel_14624\\1569037911.py:2: SettingWithCopyWarning: \n",
      "A value is trying to be set on a copy of a slice from a DataFrame.\n",
      "Try using .loc[row_indexer,col_indexer] = value instead\n",
      "\n",
      "See the caveats in the documentation: https://pandas.pydata.org/pandas-docs/stable/user_guide/indexing.html#returning-a-view-versus-a-copy\n",
      "  subtype_df[subtype_variable] = [dicom_df[subtype_variable][dicom_df[\"noduleID\"] == nodule_id].unique().item() if nodule_id in dicom_df[\"noduleID\"].values else \"Unknown\" for nodule_id in df[\"noduleID\"]]\n"
     ]
    }
   ],
   "source": [
    "subtype_df = df[[\"noduleID\", \"malignancy\"]]\n",
    "subtype_df[subtype_variable] = [dicom_df[subtype_variable][dicom_df[\"noduleID\"] == nodule_id].unique().item() if nodule_id in dicom_df[\"noduleID\"].values else \"Unknown\" for nodule_id in df[\"noduleID\"]]"
   ]
  },
  {
   "cell_type": "code",
   "execution_count": 84,
   "id": "4e537398",
   "metadata": {},
   "outputs": [
    {
     "name": "stderr",
     "output_type": "stream",
     "text": [
      "C:\\Users\\efurst1\\AppData\\Local\\Temp\\ipykernel_14624\\2236486510.py:3: SettingWithCopyWarning: \n",
      "A value is trying to be set on a copy of a slice from a DataFrame.\n",
      "Try using .loc[row_indexer,col_indexer] = value instead\n",
      "\n",
      "See the caveats in the documentation: https://pandas.pydata.org/pandas-docs/stable/user_guide/indexing.html#returning-a-view-versus-a-copy\n",
      "  subtype_df[\"subtype\"] = [all_subtypes.index(subtype) for subtype in subtype_df[subtype_variable]]\n"
     ]
    }
   ],
   "source": [
    "all_subtypes = list(subtype_df[subtype_variable].unique())\n",
    "\n",
    "subtype_df[\"subtype\"] = [all_subtypes.index(subtype) for subtype in subtype_df[subtype_variable]]"
   ]
  },
  {
   "cell_type": "code",
   "execution_count": 85,
   "id": "bae26ce6",
   "metadata": {},
   "outputs": [],
   "source": [
    "subtype_df.to_csv(subtyped_path)"
   ]
  },
  {
   "cell_type": "code",
   "execution_count": 86,
   "id": "23c0b90f",
   "metadata": {},
   "outputs": [
    {
     "data": {
      "text/plain": [
       "Manufacturer        malignancy\n",
       "GE MEDICAL SYSTEMS  1.0            65\n",
       "                    2.0            55\n",
       "                    3.0           215\n",
       "                    4.0            90\n",
       "                    5.0            97\n",
       "Philips             1.0            12\n",
       "                    2.0             4\n",
       "                    3.0            27\n",
       "                    4.0            12\n",
       "                    5.0            23\n",
       "SIEMENS             1.0            31\n",
       "                    2.0            14\n",
       "                    3.0            68\n",
       "                    4.0            30\n",
       "                    5.0            26\n",
       "TOSHIBA             1.0             9\n",
       "                    2.0             4\n",
       "                    3.0            21\n",
       "                    4.0            10\n",
       "                    5.0            16\n",
       "Unknown             1.0           220\n",
       "                    2.0           414\n",
       "                    3.0           838\n",
       "                    4.0           215\n",
       "                    5.0           171\n",
       "dtype: int64"
      ]
     },
     "execution_count": 86,
     "metadata": {},
     "output_type": "execute_result"
    }
   ],
   "source": [
    "subtype_df.groupby([\"Manufacturer\", \"malignancy\"]).size()"
   ]
  },
  {
   "cell_type": "code",
   "execution_count": null,
   "id": "a7b1c462",
   "metadata": {},
   "outputs": [],
   "source": []
  }
 ],
 "metadata": {
  "kernelspec": {
   "display_name": "REU",
   "language": "python",
   "name": "reu"
  },
  "language_info": {
   "codemirror_mode": {
    "name": "ipython",
    "version": 3
   },
   "file_extension": ".py",
   "mimetype": "text/x-python",
   "name": "python",
   "nbconvert_exporter": "python",
   "pygments_lexer": "ipython3",
   "version": "3.10.5"
  }
 },
 "nbformat": 4,
 "nbformat_minor": 5
}
