{
 "cells": [
  {
   "cell_type": "code",
   "execution_count": 1,
   "id": "2d8f8c45",
   "metadata": {},
   "outputs": [],
   "source": [
    "import pandas as pd"
   ]
  },
  {
   "cell_type": "code",
   "execution_count": 2,
   "id": "4fdbe1b0",
   "metadata": {},
   "outputs": [],
   "source": [
    "# csv containing feature ratings for each radiologist\n",
    "inline_ratings_path = '../data/LIDC_20130817_AllFeatures2D_MaxSlicePerNodule_inLineRatings.csv'\n",
    "# csv containing nodule data for each radiologist\n",
    "data_path = '../data/LIDC_20130817_AllFeatures2D_MaxSlice_MattEdited.csv'"
   ]
  },
  {
   "cell_type": "code",
   "execution_count": 3,
   "id": "534e1ef1",
   "metadata": {},
   "outputs": [],
   "source": [
    "inline_df = pd.read_csv(inline_ratings_path)\n",
    "nodule_df = pd.read_csv(data_path)"
   ]
  },
  {
   "cell_type": "code",
   "execution_count": 4,
   "id": "78e3f101",
   "metadata": {},
   "outputs": [],
   "source": [
    "subtype_features = [\"Spiculation\", \"Malignancy\"]\n",
    "values = [[\"unrated\", \"unmarked\", \"marked\", \"marked\", \"marked\", \"marked\"], [\"unrated\", \"benign\", \"benign\", \"indeterminate\", \"malignant\", \"malignant\"]]"
   ]
  },
  {
   "cell_type": "code",
   "execution_count": 5,
   "id": "7dec7f62",
   "metadata": {},
   "outputs": [],
   "source": [
    "subtype_data = {'noduleID': [], 'subtype': []}\n",
    "for feature in subtype_features:\n",
    "    subtype_data[feature] = []\n",
    "\n",
    "# inline_df should have unique nodule ids, so they will work for indexing into the dataframe\n",
    "inline_df.index = inline_df[\"noduleID\"]\n",
    "\n",
    "for idx in nodule_df.index:\n",
    "    nodule_id = nodule_df.at[idx, \"noduleID\"]\n",
    "    radiologist_id = nodule_df.at[idx, \"RadiologistID\"]\n",
    "    \n",
    "    # should be 1-dimensional as nodule ids are unique in inline_df\n",
    "    feature_data = inline_df.loc[nodule_id, [feature + f'_{radiologist_id}' for feature in subtype_features]].values\n",
    "    \n",
    "    subtype_string = \"\"\n",
    "    for i in range(len(feature_data)):\n",
    "        subtype_data[subtype_features[i]].append(feature_data[i])\n",
    "        subtype_string += values[i][feature_data[i]] + '_'\n",
    "    subtype_string = subtype_string[:-1]\n",
    "    \n",
    "    subtype_data[\"noduleID\"].append(nodule_id)\n",
    "    subtype_data[\"subtype\"].append(subtype_string)"
   ]
  },
  {
   "cell_type": "code",
   "execution_count": 6,
   "id": "8813cb12",
   "metadata": {},
   "outputs": [],
   "source": [
    "subtype_df = pd.DataFrame(subtype_data)"
   ]
  },
  {
   "cell_type": "code",
   "execution_count": 7,
   "id": "94d35485",
   "metadata": {},
   "outputs": [],
   "source": [
    "subtype_df.to_csv('../data/LIDC_allradiologists_spic_subtyped.csv', index=False)"
   ]
  }
 ],
 "metadata": {
  "kernelspec": {
   "display_name": "REU",
   "language": "python",
   "name": "reu"
  },
  "language_info": {
   "codemirror_mode": {
    "name": "ipython",
    "version": 3
   },
   "file_extension": ".py",
   "mimetype": "text/x-python",
   "name": "python",
   "nbconvert_exporter": "python",
   "pygments_lexer": "ipython3",
   "version": "3.9.12"
  }
 },
 "nbformat": 4,
 "nbformat_minor": 5
}
