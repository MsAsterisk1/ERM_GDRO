{
 "cells": [
  {
   "cell_type": "code",
   "execution_count": 2,
   "id": "8d204bab",
   "metadata": {},
   "outputs": [],
   "source": [
    "import pandas as pd\n",
    "import numpy as np\n",
    "import os"
   ]
  },
  {
   "cell_type": "code",
   "execution_count": 3,
   "id": "0343d2cd",
   "metadata": {},
   "outputs": [],
   "source": [
    "df_LIDC = pd.read_csv('../data/LIDC_labels.csv')\n",
    "df_labels = df_LIDC[['noduleID', 'spiculation', 'malignancy']]"
   ]
  },
  {
   "cell_type": "code",
   "execution_count": 4,
   "id": "18a161fd",
   "metadata": {},
   "outputs": [],
   "source": [
    "df_labels = df_labels[df_labels['malignancy'] != 3]"
   ]
  },
  {
   "cell_type": "code",
   "execution_count": 5,
   "id": "c25acdf3",
   "metadata": {},
   "outputs": [
    {
     "data": {
      "text/plain": [
       "1491"
      ]
     },
     "execution_count": 5,
     "metadata": {},
     "output_type": "execute_result"
    }
   ],
   "source": [
    "len(df_labels)"
   ]
  },
  {
   "cell_type": "code",
   "execution_count": 7,
   "id": "17eb2b9b",
   "metadata": {},
   "outputs": [],
   "source": [
    "df_labels['malignancy_b'] = np.where(df_labels['malignancy'] > 3, 'malignant', 'benign')"
   ]
  },
  {
   "cell_type": "code",
   "execution_count": 10,
   "id": "f8d1f8b0",
   "metadata": {},
   "outputs": [
    {
     "data": {
      "text/plain": [
       "malignancy_b\n",
       "benign       899\n",
       "malignant    592\n",
       "dtype: int64"
      ]
     },
     "execution_count": 10,
     "metadata": {},
     "output_type": "execute_result"
    }
   ],
   "source": [
    "df_labels.groupby('malignancy_b').size()"
   ]
  },
  {
   "cell_type": "code",
   "execution_count": null,
   "id": "5d029cbb",
   "metadata": {},
   "outputs": [],
   "source": []
  }
 ],
 "metadata": {
  "kernelspec": {
   "display_name": "REU",
   "language": "python",
   "name": "reu"
  },
  "language_info": {
   "codemirror_mode": {
    "name": "ipython",
    "version": 3
   },
   "file_extension": ".py",
   "mimetype": "text/x-python",
   "name": "python",
   "nbconvert_exporter": "python",
   "pygments_lexer": "ipython3",
   "version": "3.10.5"
  }
 },
 "nbformat": 4,
 "nbformat_minor": 5
}
