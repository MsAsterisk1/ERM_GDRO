{
 "cells": [
  {
   "cell_type": "code",
   "execution_count": 1,
   "id": "8018db18",
   "metadata": {},
   "outputs": [],
   "source": [
    "import pandas as pd"
   ]
  },
  {
   "cell_type": "code",
   "execution_count": 2,
   "id": "2fdda64d",
   "metadata": {},
   "outputs": [],
   "source": [
    "slices_path = \"../data/LIDC_20130817_AllFeatures2D_MaxSlicePerNodule_inLineRatings.csv\"\n",
    "target_folder = \"../data/\""
   ]
  },
  {
   "cell_type": "code",
   "execution_count": 3,
   "id": "38922039",
   "metadata": {},
   "outputs": [],
   "source": [
    "df = pd.read_csv(slices_path)"
   ]
  },
  {
   "cell_type": "code",
   "execution_count": 4,
   "id": "3813d701",
   "metadata": {},
   "outputs": [],
   "source": [
    "feature_names = [\"Subtlety_\", \"InternalStructure_\", \"Calcification_\", \"Sphericity_\", \"Margin_\", \"Lobulation_\", \"Spiculation_\", \"Texture_\", \"Malignancy_\"]\n",
    "target_feature_names = [\"subtlety\", \"internalStructure\", \"calcification\", \"sphericity\", \"margin\", \"lobulation\", \"spiculation\", \"texture\", \"malignancy\"]\n",
    "\n",
    "num_radiologists = 4"
   ]
  },
  {
   "cell_type": "code",
   "execution_count": 5,
   "id": "37b0f8bc",
   "metadata": {},
   "outputs": [],
   "source": [
    "rad_dfs = []\n",
    "\n",
    "for r in range(num_radiologists):\n",
    "    rad_df = df.copy()\n",
    "    for f in range(len(target_feature_names)):\n",
    "        rad_df[target_feature_names[f]] = df[feature_names[f] + str(r + 1)]\n",
    "    # rad_df.to_csv(target_folder + f\"radiologist_{r + 1}\")\n",
    "    rad_dfs.append(rad_df)"
   ]
  },
  {
   "cell_type": "code",
   "execution_count": 6,
   "id": "46cc829c",
   "metadata": {},
   "outputs": [],
   "source": [
    "concat_df = pd.concat(rad_dfs)\n",
    "concat_df.to_csv(target_folder + \"LIDC_individual_radiologists.csv\")"
   ]
  },
  {
   "cell_type": "code",
   "execution_count": null,
   "id": "49946f9a",
   "metadata": {},
   "outputs": [],
   "source": []
  }
 ],
 "metadata": {
  "kernelspec": {
   "display_name": "Python 3 (ipykernel)",
   "language": "python",
   "name": "python3"
  },
  "language_info": {
   "codemirror_mode": {
    "name": "ipython",
    "version": 3
   },
   "file_extension": ".py",
   "mimetype": "text/x-python",
   "name": "python",
   "nbconvert_exporter": "python",
   "pygments_lexer": "ipython3",
   "version": "3.9.12"
  }
 },
 "nbformat": 4,
 "nbformat_minor": 5
}
