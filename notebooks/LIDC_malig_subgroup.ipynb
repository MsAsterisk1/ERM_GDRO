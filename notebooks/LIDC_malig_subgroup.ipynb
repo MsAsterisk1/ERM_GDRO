{
  "cells": [
    {
      "cell_type": "markdown",
      "metadata": {
        "id": "view-in-github",
        "colab_type": "text"
      },
      "source": [
        "<a href=\"https://colab.research.google.com/github/mtzig/LIDC_GDRO/blob/main/notebooks/LIDC_malig_subgroup.ipynb\" target=\"_parent\"><img src=\"https://colab.research.google.com/assets/colab-badge.svg\" alt=\"Open In Colab\"/></a>"
      ]
    },
    {
      "cell_type": "code",
      "execution_count": 1,
      "id": "613c2741",
      "metadata": {
        "id": "613c2741"
      },
      "outputs": [],
      "source": [
        "%load_ext autoreload\n",
        "%autoreload 2"
      ]
    },
    {
      "cell_type": "code",
      "execution_count": 136,
      "id": "4cf87f2c",
      "metadata": {
        "id": "4cf87f2c",
        "outputId": "da0c2767-870e-415d-8612-c171c49ab30d",
        "colab": {
          "base_uri": "https://localhost:8080/"
        }
      },
      "outputs": [
        {
          "output_type": "stream",
          "name": "stdout",
          "text": [
            "Cloning into 'LIDC_GDRO'...\n",
            "remote: Enumerating objects: 3538, done.\u001b[K\n",
            "remote: Counting objects: 100% (110/110), done.\u001b[K\n",
            "remote: Compressing objects: 100% (83/83), done.\u001b[K\n",
            "remote: Total 3538 (delta 59), reused 62 (delta 27), pack-reused 3428\u001b[K\n",
            "Receiving objects: 100% (3538/3538), 68.48 MiB | 30.41 MiB/s, done.\n",
            "Resolving deltas: 100% (3207/3207), done.\n",
            "Checking out files: 100% (5396/5396), done.\n",
            "/content/LIDC_GDRO\n"
          ]
        }
      ],
      "source": [
        "# %cd ..\n",
        "!git clone https://github.com/mtzig/LIDC_GDRO.git\n",
        "%cd /content/LIDC_GDRO"
      ]
    },
    {
      "cell_type": "code",
      "source": [
        "# !git pull"
      ],
      "metadata": {
        "id": "J-3tWu8OUOno",
        "outputId": "3f0f0108-2e21-4b0e-b043-3d14b55b9628",
        "colab": {
          "base_uri": "https://localhost:8080/"
        }
      },
      "id": "J-3tWu8OUOno",
      "execution_count": 140,
      "outputs": [
        {
          "output_type": "stream",
          "name": "stdout",
          "text": [
            "remote: Enumerating objects: 14, done.\u001b[K\n",
            "remote: Counting objects:   7% (1/14)\u001b[K\rremote: Counting objects:  14% (2/14)\u001b[K\rremote: Counting objects:  21% (3/14)\u001b[K\rremote: Counting objects:  28% (4/14)\u001b[K\rremote: Counting objects:  35% (5/14)\u001b[K\rremote: Counting objects:  42% (6/14)\u001b[K\rremote: Counting objects:  50% (7/14)\u001b[K\rremote: Counting objects:  57% (8/14)\u001b[K\rremote: Counting objects:  64% (9/14)\u001b[K\rremote: Counting objects:  71% (10/14)\u001b[K\rremote: Counting objects:  78% (11/14)\u001b[K\rremote: Counting objects:  85% (12/14)\u001b[K\rremote: Counting objects:  92% (13/14)\u001b[K\rremote: Counting objects: 100% (14/14)\u001b[K\rremote: Counting objects: 100% (14/14), done.\u001b[K\n",
            "remote: Compressing objects:  50% (1/2)\u001b[K\rremote: Compressing objects: 100% (2/2)\u001b[K\rremote: Compressing objects: 100% (2/2), done.\u001b[K\n",
            "remote: Total 8 (delta 6), reused 8 (delta 6), pack-reused 0\u001b[K\n",
            "Unpacking objects:  12% (1/8)   \rUnpacking objects:  25% (2/8)   \rUnpacking objects:  37% (3/8)   \rUnpacking objects:  50% (4/8)   \rUnpacking objects:  62% (5/8)   \rUnpacking objects:  75% (6/8)   \rUnpacking objects:  87% (7/8)   \rUnpacking objects: 100% (8/8)   \rUnpacking objects: 100% (8/8), done.\n",
            "From https://github.com/mtzig/LIDC_GDRO\n",
            "   44d8b03..bf33e58  main       -> origin/main\n",
            "Updating 44d8b03..bf33e58\n",
            "Fast-forward\n",
            " data/LIDC_data_split.csv            | 1489 \u001b[32m+++++++++++++++++++++++++++++++++++\u001b[m\n",
            " image_data_utils.py                 |   42 \u001b[32m+\u001b[m\u001b[31m-\u001b[m\n",
            " notebooks/LIDC_clusters.ipynb       |  104 \u001b[32m++\u001b[m\u001b[31m-\u001b[m\n",
            " notebooks/LIDC_malig_subgroup.ipynb |   55 \u001b[32m+\u001b[m\u001b[31m-\u001b[m\n",
            " 4 files changed, 1614 insertions(+), 76 deletions(-)\n",
            " create mode 100644 data/LIDC_data_split.csv\n"
          ]
        }
      ]
    },
    {
      "cell_type": "code",
      "execution_count": 149,
      "id": "4c239fd4",
      "metadata": {
        "id": "4c239fd4"
      },
      "outputs": [],
      "source": [
        "import pandas as pd\n",
        "# import numpy as np\n",
        "from dataloaders import InfiniteDataLoader\n",
        "from datasets import NoduleDataset, SubclassedNoduleDataset\n",
        "from models import TransferModel\n",
        "from loss import ERMLoss, GDROLossAlt#, GDROLoss\n",
        "from train import train, test\n",
        "from torch.optim.lr_scheduler import ReduceLROnPlateau\n",
        "\n",
        "# import torchvision\n",
        "from torchvision import transforms\n",
        "import torch\n",
        "from image_data_utils import getImages"
      ]
    },
    {
      "cell_type": "code",
      "execution_count": 138,
      "id": "3b523d94",
      "metadata": {
        "id": "3b523d94",
        "outputId": "3246e3aa-50f5-449a-96cf-8febeb716956",
        "colab": {
          "base_uri": "https://localhost:8080/"
        }
      },
      "outputs": [
        {
          "output_type": "stream",
          "name": "stdout",
          "text": [
            "Good to go!\n"
          ]
        }
      ],
      "source": [
        "if torch.cuda.is_available():\n",
        "    print(\"Good to go!\")\n",
        "    DEVICE = torch.device(\"cuda\")\n",
        "else:\n",
        "    print(\"Using cpu\")\n",
        "    DEVICE = torch.device(\"cpu\")"
      ]
    },
    {
      "cell_type": "code",
      "execution_count": 143,
      "id": "e8e3afda",
      "metadata": {
        "id": "e8e3afda"
      },
      "outputs": [],
      "source": [
        "train_data, cv_data, test_data = getImages(split=True, sublabels=True, binary=True, device=DEVICE)"
      ]
    },
    {
      "cell_type": "code",
      "execution_count": 145,
      "id": "41ba0d63",
      "metadata": {
        "id": "41ba0d63"
      },
      "outputs": [],
      "source": [
        "tr = SubclassedNoduleDataset(*train_data)\n",
        "cv = SubclassedNoduleDataset(*cv_data)\n",
        "tst = SubclassedNoduleDataset(*test_data)\n",
        "tr_loader = InfiniteDataLoader(tr, batch_size=128)\n",
        "cv_loader = InfiniteDataLoader(cv, len(cv))\n",
        "tst_loader = InfiniteDataLoader(tst, len(tst))"
      ]
    },
    {
      "cell_type": "code",
      "execution_count": 159,
      "id": "24d0bea8",
      "metadata": {
        "id": "24d0bea8",
        "outputId": "1986e246-6947-4791-ce3c-331fc53f1753",
        "colab": {
          "base_uri": "https://localhost:8080/"
        }
      },
      "outputs": [
        {
          "output_type": "stream",
          "name": "stderr",
          "text": [
            "/usr/local/lib/python3.7/dist-packages/torchvision/models/_utils.py:209: UserWarning: The parameter 'pretrained' is deprecated since 0.13 and will be removed in 0.15, please use 'weights' instead.\n",
            "  f\"The parameter '{pretrained_param}' is deprecated since 0.13 and will be removed in 0.15, \"\n",
            "/usr/local/lib/python3.7/dist-packages/torchvision/models/_utils.py:223: UserWarning: Arguments other than a weight enum or `None` for 'weights' are deprecated since 0.13 and will be removed in 0.15. The current behavior is equivalent to passing `weights=ResNet18_Weights.IMAGENET1K_V1`. You can also use `weights=ResNet18_Weights.DEFAULT` to get the most up-to-date weights.\n",
            "  warnings.warn(msg)\n"
          ]
        }
      ],
      "source": [
        "model = TransferModel(device=DEVICE, pretrained=True, freeze=False)\n",
        "# loss_fn = ERMLoss(model,torch.nn.CrossEntropyLoss(),{}, subclassed=True)\n",
        "loss_fn = GDROLossAlt(model,torch.nn.CrossEntropyLoss(),0.5,4)\n",
        "\n",
        "optimizer = torch.optim.Adam(model.parameters(), lr=0.0005, weight_decay=0.005)#lr=0.001, weight_decay=0.005)\n",
        "scheduler = ReduceLROnPlateau(optimizer, mode='max', factor=0.2, patience=2, verbose=True)\n"
      ]
    },
    {
      "cell_type": "markdown",
      "id": "d0ea8230",
      "metadata": {
        "id": "d0ea8230"
      },
      "source": [
        "#train function"
      ]
    },
    {
      "cell_type": "code",
      "execution_count": 147,
      "id": "f86047eb",
      "metadata": {
        "id": "f86047eb"
      },
      "outputs": [],
      "source": [
        "def train_epochs(epochs, train_loader, val_loader, model, loss_fn, optimizer,scheduler, verbose=True):\n",
        "    for epoch in range(epochs):\n",
        "        print(f\"Epoch {epoch + 1}/{epochs}\")\n",
        "        train(train_loader, model, loss_fn, optimizer, verbose=verbose)\n",
        "        accuracies = test(val_loader, model, verbose=verbose)\n",
        "        scheduler.step(accuracies[2])"
      ]
    },
    {
      "cell_type": "code",
      "execution_count": 160,
      "id": "f4c15553",
      "metadata": {
        "id": "f4c15553",
        "outputId": "ca044590-59fa-4b38-b9e2-bb8e082e696b",
        "colab": {
          "base_uri": "https://localhost:8080/"
        }
      },
      "outputs": [
        {
          "output_type": "stream",
          "name": "stdout",
          "text": [
            "Epoch 1/15\n",
            "Average training loss: 0.5596827298402787\n",
            "Accuracy: 0.7891156462585034 \n",
            "Accuracy over subgroups: [0.90322581 0.66666667 0.75       1.        ] \n",
            "Worst Group Accuracy: 0.6666666666666666\n",
            "Epoch 2/15\n",
            "Average training loss: 0.43175351694226266\n",
            "Accuracy: 0.8095238095238095 \n",
            "Accuracy over subgroups: [0.82051282 0.96363636 0.46428571 0.84      ] \n",
            "Worst Group Accuracy: 0.4642857142857143\n",
            "Epoch 3/15\n",
            "Average training loss: 0.2991642463952303\n",
            "Accuracy: 0.8231292517006803 \n",
            "Accuracy over subgroups: [0.70967742 0.84615385 0.81818182 0.94444444] \n",
            "Worst Group Accuracy: 0.7096774193548387\n",
            "Epoch 4/15\n",
            "Average training loss: 0.23262961786240338\n",
            "Accuracy: 0.8367346938775511 \n",
            "Accuracy over subgroups: [0.92       0.91935484 0.54054054 1.        ] \n",
            "Worst Group Accuracy: 0.5405405405405406\n",
            "Epoch 5/15\n",
            "Average training loss: 0.20768878590315581\n",
            "Accuracy: 0.7551020408163265 \n",
            "Accuracy over subgroups: [0.84       0.67391304 0.72916667 0.85714286] \n",
            "Worst Group Accuracy: 0.6739130434782609\n",
            "Epoch 00005: reducing learning rate of group 0 to 1.0000e-04.\n",
            "Epoch 6/15\n",
            "Average training loss: 0.10721556153148412\n",
            "Accuracy: 0.8027210884353742 \n",
            "Accuracy over subgroups: [0.86486486 0.80769231 0.65714286 0.91304348] \n",
            "Worst Group Accuracy: 0.6571428571428571\n",
            "Epoch 7/15\n",
            "Average training loss: 0.06459091429132968\n",
            "Accuracy: 0.8299319727891157 \n",
            "Accuracy over subgroups: [0.85714286 0.86538462 0.70967742 0.86363636] \n",
            "Worst Group Accuracy: 0.7096774193548387\n",
            "Epoch 8/15\n",
            "Average training loss: 0.028944472223520278\n",
            "Accuracy: 0.8571428571428571 \n",
            "Accuracy over subgroups: [0.94871795 0.93220339 0.65625    0.76470588] \n",
            "Worst Group Accuracy: 0.65625\n",
            "Epoch 00008: reducing learning rate of group 0 to 2.0000e-05.\n",
            "Epoch 9/15\n",
            "Average training loss: 0.019050482264719903\n",
            "Accuracy: 0.8299319727891157 \n",
            "Accuracy over subgroups: [0.86486486 0.81818182 0.8        0.86666667] \n",
            "Worst Group Accuracy: 0.8\n",
            "Epoch 10/15\n",
            "Average training loss: 0.015764210524503143\n",
            "Accuracy: 0.891156462585034 \n",
            "Accuracy over subgroups: [0.87878788 0.94827586 0.8        0.88461538] \n",
            "Worst Group Accuracy: 0.8\n",
            "Epoch 11/15\n",
            "Average training loss: 0.009523769345832989\n",
            "Accuracy: 0.8707482993197279 \n",
            "Accuracy over subgroups: [0.93333333 0.88405797 0.73529412 1.        ] \n",
            "Worst Group Accuracy: 0.7352941176470589\n",
            "Epoch 00011: reducing learning rate of group 0 to 4.0000e-06.\n",
            "Epoch 12/15\n",
            "Average training loss: 0.035073143715271725\n",
            "Accuracy: 0.8299319727891157 \n",
            "Accuracy over subgroups: [0.85185185 0.79032258 0.84848485 0.88      ] \n",
            "Worst Group Accuracy: 0.7903225806451613\n",
            "Epoch 13/15\n",
            "Average training loss: 0.05483341337530874\n",
            "Accuracy: 0.8503401360544217 \n",
            "Accuracy over subgroups: [0.76       0.8490566  0.83333333 1.        ] \n",
            "Worst Group Accuracy: 0.76\n",
            "Epoch 14/15\n",
            "Average training loss: 0.03973840665712487\n",
            "Accuracy: 0.8435374149659864 \n",
            "Accuracy over subgroups: [0.88888889 0.86153846 0.71052632 1.        ] \n",
            "Worst Group Accuracy: 0.7105263157894737\n",
            "Epoch 00014: reducing learning rate of group 0 to 8.0000e-07.\n",
            "Epoch 15/15\n",
            "Average training loss: 0.027061103130108677\n",
            "Accuracy: 0.8843537414965986 \n",
            "Accuracy over subgroups: [0.90322581 0.89705882 0.81578947 1.        ] \n",
            "Worst Group Accuracy: 0.8157894736842105\n"
          ]
        }
      ],
      "source": [
        "train_epochs(15,tr_loader,cv_loader,model,loss_fn,optimizer,scheduler)"
      ]
    },
    {
      "cell_type": "code",
      "execution_count": 18,
      "id": "2ef94c04",
      "metadata": {
        "id": "2ef94c04"
      },
      "outputs": [],
      "source": [
        ""
      ]
    },
    {
      "cell_type": "code",
      "source": [
        "test(tst_loader, model, verbose=True)"
      ],
      "metadata": {
        "id": "HgWQeiaJBG2-",
        "outputId": "e29f534c-87bb-4ec2-dc08-d801dbfc893a",
        "colab": {
          "base_uri": "https://localhost:8080/"
        }
      },
      "id": "HgWQeiaJBG2-",
      "execution_count": 161,
      "outputs": [
        {
          "output_type": "stream",
          "name": "stdout",
          "text": [
            "Accuracy: 0.8704318936877077 \n",
            "Accuracy over subgroups: [0.8627451  0.86065574 0.80519481 1.        ] \n",
            "Worst Group Accuracy: 0.8051948051948052\n"
          ]
        },
        {
          "output_type": "execute_result",
          "data": {
            "text/plain": [
              "(0.8704318936877077,\n",
              " 0.8627450980392157,\n",
              " 0.860655737704918,\n",
              " 0.8051948051948052,\n",
              " 1.0)"
            ]
          },
          "metadata": {},
          "execution_count": 161
        }
      ]
    },
    {
      "cell_type": "code",
      "source": [
        "next(tst_loader)[0].shape"
      ],
      "metadata": {
        "id": "zQOuUt_-BIF2",
        "outputId": "4aec4523-a2cc-4828-bbf7-41c680818ed2",
        "colab": {
          "base_uri": "https://localhost:8080/"
        }
      },
      "id": "zQOuUt_-BIF2",
      "execution_count": 152,
      "outputs": [
        {
          "output_type": "execute_result",
          "data": {
            "text/plain": [
              "torch.Size([301, 3, 71, 71])"
            ]
          },
          "metadata": {},
          "execution_count": 152
        }
      ]
    },
    {
      "cell_type": "code",
      "source": [
        "235-128"
      ],
      "metadata": {
        "id": "DbViqIIzDsk_",
        "outputId": "a8936208-c7a3-4c31-cade-01dc7b670f0a",
        "colab": {
          "base_uri": "https://localhost:8080/"
        }
      },
      "id": "DbViqIIzDsk_",
      "execution_count": 58,
      "outputs": [
        {
          "output_type": "execute_result",
          "data": {
            "text/plain": [
              "107"
            ]
          },
          "metadata": {},
          "execution_count": 58
        }
      ]
    }
  ],
  "metadata": {
    "kernelspec": {
      "display_name": "REU",
      "language": "python",
      "name": "reu"
    },
    "language_info": {
      "codemirror_mode": {
        "name": "ipython",
        "version": 3
      },
      "file_extension": ".py",
      "mimetype": "text/x-python",
      "name": "python",
      "nbconvert_exporter": "python",
      "pygments_lexer": "ipython3",
      "version": "3.10.5"
    },
    "colab": {
      "name": "LIDC_malig_subgroup.ipynb",
      "provenance": [],
      "include_colab_link": true
    },
    "accelerator": "GPU",
    "gpuClass": "standard"
  },
  "nbformat": 4,
  "nbformat_minor": 5
}