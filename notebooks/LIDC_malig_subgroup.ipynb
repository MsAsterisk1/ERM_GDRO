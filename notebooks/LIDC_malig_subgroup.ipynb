{
 "cells": [
  {
   "cell_type": "code",
   "execution_count": 1,
   "id": "9f98d9ed",
   "metadata": {},
   "outputs": [],
   "source": [
    "%load_ext autoreload\n",
    "%autoreload 2"
   ]
  },
  {
   "cell_type": "code",
   "execution_count": 3,
   "id": "ac2b9982",
   "metadata": {},
   "outputs": [
    {
     "name": "stdout",
     "output_type": "stream",
     "text": [
      "C:\\Users\\tzeng1\\repos\\LIDC_GDRO\n"
     ]
    }
   ],
   "source": [
    "# %cd .."
   ]
  },
  {
   "cell_type": "code",
   "execution_count": 57,
   "id": "e987a964",
   "metadata": {},
   "outputs": [],
   "source": [
    "import pandas as pd\n",
    "# import numpy as np\n",
    "from dataloaders import InfiniteDataLoader\n",
    "from datasets import NoduleDataset, SubclassedNoduleDataset\n",
    "from models import TransferModel\n",
    "from loss import ERMLoss#, GDROLossAlt, GDROLoss\n",
    "from train import train, test\n",
    "from torch.optim.lr_scheduler import ReduceLROnPlateau\n",
    "\n",
    "# import torchvision\n",
    "from torchvision import transforms\n",
    "import torch\n",
    "from image_data_utils import getImages"
   ]
  },
  {
   "cell_type": "code",
   "execution_count": 5,
   "id": "0208a155",
   "metadata": {},
   "outputs": [
    {
     "name": "stdout",
     "output_type": "stream",
     "text": [
      "Using cpu\n"
     ]
    }
   ],
   "source": [
    "if torch.cuda.is_available():\n",
    "    print(\"Good to go!\")\n",
    "    DEVICE = torch.device(\"cuda\")\n",
    "else:\n",
    "    print(\"Using cpu\")\n",
    "    DEVICE = torch.device(\"cpu\")"
   ]
  },
  {
   "cell_type": "code",
   "execution_count": 70,
   "id": "0b530ef4",
   "metadata": {},
   "outputs": [],
   "source": [
    "train, cv, test = getImages(split=True, sublabels=True, binary=True, device=DEVICE)"
   ]
  },
  {
   "cell_type": "code",
   "execution_count": 71,
   "id": "bf55577b",
   "metadata": {},
   "outputs": [
    {
     "data": {
      "text/plain": [
       "147"
      ]
     },
     "execution_count": 71,
     "metadata": {},
     "output_type": "execute_result"
    }
   ],
   "source": []
  },
  {
   "cell_type": "code",
   "execution_count": 48,
   "id": "622ec521",
   "metadata": {},
   "outputs": [],
   "source": [
    "y = [torch.tensor(int(i > 1), device=DEVICE) for i in img_data[1]]"
   ]
  },
  {
   "cell_type": "code",
   "execution_count": 49,
   "id": "c11dfcde",
   "metadata": {},
   "outputs": [],
   "source": [
    "img_data = (X,y,c)"
   ]
  },
  {
   "cell_type": "code",
   "execution_count": 50,
   "id": "8b338ab3",
   "metadata": {},
   "outputs": [],
   "source": [
    "import random\n",
    "shuffle_data = list(zip(*img_data, nodule_id))\n",
    "random.shuffle(shuffle_data)\n",
    "s_d = list(zip(*shuffle_data))\n",
    "shuffle_data, shuffle_id = s_d[:3], s_d[3]"
   ]
  },
  {
   "cell_type": "code",
   "execution_count": 37,
   "id": "4425996b",
   "metadata": {},
   "outputs": [
    {
     "data": {
      "text/plain": [
       "3"
      ]
     },
     "execution_count": 37,
     "metadata": {},
     "output_type": "execute_result"
    }
   ],
   "source": [
    "len(shuffle_data)"
   ]
  },
  {
   "cell_type": "code",
   "execution_count": 51,
   "id": "6a800a73",
   "metadata": {},
   "outputs": [],
   "source": [
    "tr = SubclassedNoduleDataset(shuffle_data[0][:744],shuffle_data[1][:744], shuffle_data[2][:744])\n",
    "cv = SubclassedNoduleDataset(shuffle_data[0][744:],shuffle_data[1][744:], shuffle_data[2][744:])\n",
    "loader = InfiniteDataLoader(tr, batch_size=128)\n",
    "cv_loader = InfiniteDataLoader(cv, len(cv))"
   ]
  },
  {
   "cell_type": "code",
   "execution_count": 53,
   "id": "42041e5d",
   "metadata": {},
   "outputs": [],
   "source": [
    "model = TransferModel(device=DEVICE, pretrained=True, freeze=False)\n",
    "loss_fn = ERMLoss(model,torch.nn.CrossEntropyLoss(),{}, subclassed=True)\n",
    "optimizer = torch.optim.Adam(model.parameters(), lr=0.0005, weight_decay=0.005)#lr=0.001, weight_decay=0.005)\n",
    "scheduler = ReduceLROnPlateau(optimizer, mode='max', factor=0.2, patience=2, verbose=True)\n"
   ]
  },
  {
   "cell_type": "markdown",
   "id": "18513b74",
   "metadata": {},
   "source": [
    "#train function"
   ]
  },
  {
   "cell_type": "code",
   "execution_count": 54,
   "id": "bfe6af14",
   "metadata": {},
   "outputs": [],
   "source": [
    "def train_epochs(epochs, train_loader, val_loader, model, loss_fn, optimizer,scheduler, verbose=True):\n",
    "    for epoch in range(epochs):\n",
    "        print(f\"Epoch {epoch + 1}/{epochs}\")\n",
    "        train(train_loader, model, loss_fn, optimizer, verbose=verbose)\n",
    "        accuracies = test(val_loader, model, verbose=verbose)\n",
    "        scheduler.step(min(accuracies[1:]))"
   ]
  },
  {
   "cell_type": "code",
   "execution_count": 55,
   "id": "da41aa77",
   "metadata": {},
   "outputs": [
    {
     "name": "stdout",
     "output_type": "stream",
     "text": [
      "Epoch 1/15\n",
      "Average training loss: 0.7341472089290619\n",
      "Accuracy: 0.657258064516129 \n",
      "Accuracy over subgroups: [0.94827586 0.96727273 0.12903226 0.31192661] \n",
      "Worst Group Accuracy: 0.12903225806451613\n",
      "Epoch 2/15\n",
      "Average training loss: 0.2848806917667389\n",
      "Accuracy: 0.760752688172043 \n",
      "Accuracy over subgroups: [0.9760479  0.98154982 0.32608696 0.63114754] \n",
      "Worst Group Accuracy: 0.32608695652173914\n",
      "Epoch 3/15\n",
      "Average training loss: 0.17363651618361473\n",
      "Accuracy: 0.7567204301075269 \n",
      "Accuracy over subgroups: [0.88304094 0.94945848 0.2866242  0.74820144] \n",
      "Worst Group Accuracy: 0.28662420382165604\n",
      "Epoch 4/15\n",
      "Average training loss: 0.1163276806473732\n",
      "Accuracy: 0.8293010752688172 \n",
      "Accuracy over subgroups: [0.93956044 0.875      0.58730159 0.94871795] \n",
      "Worst Group Accuracy: 0.5873015873015873\n",
      "Epoch 5/15\n",
      "Average training loss: 0.06615827903151512\n",
      "Accuracy: 0.8198924731182796 \n",
      "Accuracy over subgroups: [0.84153005 0.87956204 0.5952381  0.96638655] \n",
      "Worst Group Accuracy: 0.5952380952380952\n",
      "Epoch 6/15\n",
      "Average training loss: 0.08988900184631347\n",
      "Accuracy: 0.7983870967741935 \n",
      "Accuracy over subgroups: [0.85340314 0.86476868 0.54285714 0.95876289] \n",
      "Worst Group Accuracy: 0.5428571428571428\n",
      "Epoch 7/15\n",
      "Average training loss: 0.06045991741120815\n",
      "Accuracy: 0.7983870967741935 \n",
      "Accuracy over subgroups: [0.84756098 0.86       0.54069767 0.96296296] \n",
      "Worst Group Accuracy: 0.5406976744186046\n",
      "Epoch 8/15\n",
      "Average training loss: 0.042725425027310845\n",
      "Accuracy: 0.7889784946236559 \n",
      "Accuracy over subgroups: [0.83832335 0.76691729 0.65168539 0.95488722] \n",
      "Worst Group Accuracy: 0.651685393258427\n",
      "Epoch 9/15\n",
      "Average training loss: 0.04896750897169113\n",
      "Accuracy: 0.8252688172043011 \n",
      "Accuracy over subgroups: [0.91017964 0.85064935 0.59036145 0.99029126] \n",
      "Worst Group Accuracy: 0.5903614457831325\n",
      "Epoch 10/15\n",
      "Average training loss: 0.032868028804659846\n",
      "Accuracy: 0.8131720430107527 \n",
      "Accuracy over subgroups: [0.87421384 0.80898876 0.6284153  1.        ] \n",
      "Worst Group Accuracy: 0.6284153005464481\n",
      "Epoch 11/15\n",
      "Average training loss: 0.009281497355550528\n",
      "Accuracy: 0.8172043010752689 \n",
      "Accuracy over subgroups: [0.90797546 0.78787879 0.67821782 1.        ] \n",
      "Worst Group Accuracy: 0.6782178217821783\n",
      "Epoch 12/15\n",
      "Average training loss: 0.0074177097994834185\n",
      "Accuracy: 0.8508064516129032 \n",
      "Accuracy over subgroups: [0.925      0.87972509 0.62424242 0.984375  ] \n",
      "Worst Group Accuracy: 0.6242424242424243\n",
      "Epoch 13/15\n",
      "Average training loss: 0.0067856003064662215\n",
      "Accuracy: 0.8185483870967742 \n",
      "Accuracy over subgroups: [0.9144385  0.91153846 0.4491018  0.96923077] \n",
      "Worst Group Accuracy: 0.4491017964071856\n",
      "Epoch 14/15\n",
      "Average training loss: 0.007746271300129592\n",
      "Accuracy: 0.8346774193548387 \n",
      "Accuracy over subgroups: [0.9020979  0.88095238 0.60227273 0.96946565] \n",
      "Worst Group Accuracy: 0.6022727272727273\n",
      "Epoch 00014: reducing learning rate of group 0 to 1.0000e-04.\n",
      "Epoch 15/15\n",
      "Average training loss: 0.0015680218813940883\n",
      "Accuracy: 0.8346774193548387 \n",
      "Accuracy over subgroups: [0.89385475 0.85496183 0.64835165 0.98347107] \n",
      "Worst Group Accuracy: 0.6483516483516484\n"
     ]
    }
   ],
   "source": [
    "train_epochs(15,loader,cv_loader,model,loss_fn,optimizer,scheduler)"
   ]
  },
  {
   "cell_type": "code",
   "execution_count": null,
   "id": "fad73f56",
   "metadata": {},
   "outputs": [],
   "source": []
  }
 ],
 "metadata": {
  "kernelspec": {
   "display_name": "REU",
   "language": "python",
   "name": "reu"
  },
  "language_info": {
   "codemirror_mode": {
    "name": "ipython",
    "version": 3
   },
   "file_extension": ".py",
   "mimetype": "text/x-python",
   "name": "python",
   "nbconvert_exporter": "python",
   "pygments_lexer": "ipython3",
   "version": "3.10.5"
  }
 },
 "nbformat": 4,
 "nbformat_minor": 5
}
