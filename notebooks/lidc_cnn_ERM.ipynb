{
  "cells": [
    {
      "cell_type": "markdown",
      "metadata": {
        "id": "view-in-github",
        "colab_type": "text"
      },
      "source": [
        "<a href=\"https://colab.research.google.com/github/mtzig/LIDC_GDRO/blob/main/notebooks/lidc_cnn_ERM.ipynb\" target=\"_parent\"><img src=\"https://colab.research.google.com/assets/colab-badge.svg\" alt=\"Open In Colab\"/></a>"
      ]
    },
    {
      "cell_type": "markdown",
      "metadata": {
        "id": "aXP5BUZY7SbH"
      },
      "source": [
        "#ERM CNN Model for Malignancy"
      ]
    },
    {
      "cell_type": "markdown",
      "source": [
        "#First We setup the repo"
      ],
      "metadata": {
        "id": "3mlU0-uy8Ez3"
      }
    },
    {
      "cell_type": "code",
      "execution_count": 282,
      "metadata": {
        "colab": {
          "base_uri": "https://localhost:8080/"
        },
        "id": "DMqJTbcB7SbG",
        "outputId": "86d81a15-3b1d-4147-9443-45286dbf0a14"
      },
      "outputs": [
        {
          "output_type": "stream",
          "name": "stdout",
          "text": [
            "fatal: destination path 'LIDC_GDRO' already exists and is not an empty directory.\n",
            "/content/LIDC_GDRO\n"
          ]
        }
      ],
      "source": [
        "# Only run if on Colab\n",
        "#%cd .. #run this on local machine\n",
        "\n",
        "\n",
        "!git clone https://github.com/mtzig/LIDC_GDRO.git\n",
        "%cd /content/LIDC_GDRO"
      ]
    },
    {
      "cell_type": "code",
      "execution_count": 283,
      "metadata": {
        "id": "FfxoU2RZ7SbI"
      },
      "outputs": [],
      "source": [
        "# !git pull"
      ]
    },
    {
      "cell_type": "code",
      "source": [
        "%load_ext autoreload\n",
        "%autoreload 2"
      ],
      "metadata": {
        "id": "BoTdOzRN7hbW",
        "colab": {
          "base_uri": "https://localhost:8080/"
        },
        "outputId": "d07552fc-8dc4-410c-b2ca-2a2b69901647"
      },
      "execution_count": 284,
      "outputs": [
        {
          "output_type": "stream",
          "name": "stdout",
          "text": [
            "The autoreload extension is already loaded. To reload it, use:\n",
            "  %reload_ext autoreload\n"
          ]
        }
      ]
    },
    {
      "cell_type": "code",
      "source": [
        "import os\n",
        "import torch\n",
        "import pandas as pd\n",
        "import numpy as np\n",
        "from dataloaders import InfiniteDataLoader\n",
        "from datasets import NoduleDataset\n",
        "from models import VGGNet, ResNet18\n",
        "from loss import ERMLoss\n",
        "from train import train"
      ],
      "metadata": {
        "id": "Gor5x5428B0V"
      },
      "execution_count": 285,
      "outputs": []
    },
    {
      "cell_type": "code",
      "source": [
        "if torch.cuda.is_available():\n",
        "    print(\"Good to go!\")\n",
        "    DEVICE = torch.device(\"cuda\")\n",
        "else:\n",
        "    print(\"Using cpu\")\n",
        "    DEVICE = torch.device(\"cpu\")"
      ],
      "metadata": {
        "colab": {
          "base_uri": "https://localhost:8080/"
        },
        "id": "X6Vy4YCE8UHA",
        "outputId": "18c2e9ab-b892-4d47-8b8b-7a0498845f6b"
      },
      "execution_count": 286,
      "outputs": [
        {
          "output_type": "stream",
          "name": "stdout",
          "text": [
            "Good to go!\n"
          ]
        }
      ]
    },
    {
      "cell_type": "markdown",
      "source": [
        "#Next We get our data"
      ],
      "metadata": {
        "id": "XHCAFpSD8WpI"
      }
    },
    {
      "cell_type": "markdown",
      "source": [
        "## First some functions to retrive the data"
      ],
      "metadata": {
        "id": "62LXFK8v-vdb"
      }
    },
    {
      "cell_type": "code",
      "source": [
        "def getNormed(this_array, this_min = 0, this_max = 255, set_to_int = True):\n",
        "    \n",
        "    rat = (this_max - this_min)/(this_array.max() - this_array.min())\n",
        "    this_array = this_array * rat\n",
        "    this_array -= this_array.min()\n",
        "    this_array += this_min\n",
        "    if set_to_int:\n",
        "        return this_array.to(dtype= torch.int)\n",
        "    return this_array"
      ],
      "metadata": {
        "id": "XHRheK019LX8"
      },
      "execution_count": 287,
      "outputs": []
    },
    {
      "cell_type": "code",
      "source": [
        "def getImages(image_folder):\n",
        "    '''\n",
        "        Input:\n",
        "        image_folder: directory of the image files\n",
        "\n",
        "        Output:\n",
        "        m1: list of the labels encountered (1,2,4,5)\n",
        "        m2: list of binary labels encountered (benign, malignant)\n",
        "        diff: list of any nodes with discrepency to CSV labels\n",
        "\n",
        "    '''\n",
        "    \n",
        "    train_img = []\n",
        "    train_label = []\n",
        "    train_spic_label = []\n",
        "    marked_benign = []\n",
        "    unmarked_benign = []\n",
        "    \n",
        "    marked_malignant = []\n",
        "    unmarked_malignant = []\n",
        "\n",
        "    \n",
        "\n",
        "    lidc = pd.read_csv('./data/lidc_spic_subgrouped.csv')\n",
        "    train_test = pd.read_csv('./data/lidc_train_test_split_stratified.csv')\n",
        "    for dir1 in os.listdir(image_folder):\n",
        "  \n",
        "        if dir1 == 'Malignancy_3':\n",
        "            continue\n",
        "\n",
        "        for file in os.listdir(os.path.join(image_folder, dir1)):\n",
        "\n",
        "\n",
        "            temp_nodule_ID = file.split('.')[0]\n",
        "            subtype = lidc[lidc['noduleID']==int(temp_nodule_ID)]['subgroup'].iloc[0]\n",
        "            malignancy = lidc[lidc['noduleID']==int(temp_nodule_ID)]['malignancy'].iloc[0]\n",
        "            spiculation = lidc[lidc['noduleID']==int(temp_nodule_ID)]['malignancy'].iloc[0]\n",
        "            \n",
        "            train_type = train_test[train_test['noduleID'] ==int(temp_nodule_ID)]['dataset'].iloc[0]\n",
        "            \n",
        "            \n",
        "            image = np.loadtxt(os.path.join(image_folder, dir1,file))\n",
        "            image = torch.from_numpy(image).to(DEVICE)\n",
        "            rgb_image = torch.stack((image,image,image), dim = 0)\n",
        "            rgb_image = getNormed(rgb_image)\n",
        "            rgb_image = rgb_image / 255 \n",
        "\n",
        "            \n",
        "            \n",
        "            if train_type == 'train':\n",
        "                train_img.append(rgb_image)\n",
        "                train_label.append(torch.tensor(1).to(DEVICE).to(torch.float32) if malignancy > 3 else torch.tensor(0).to(DEVICE).to(torch.float32))\n",
        "                train_spic_label.append(torch.tensor(1).to(DEVICE).to(torch.float32) if spiculation > 1 else torch.tensor(0).to(DEVICE).to(torch.float32))\n",
        "                \n",
        "                continue\n",
        "            \n",
        "            if subtype == 'marked_benign':\n",
        "                image_array = marked_benign\n",
        "            elif subtype == 'unmarked_benign':\n",
        "                image_array = unmarked_benign\n",
        "            elif subtype == 'marked_malignant':\n",
        "                image_array = marked_malignant\n",
        "            else:\n",
        "                image_array = unmarked_malignant\n",
        "            \n",
        "            image_array.append(rgb_image)\n",
        " \n",
        "\n",
        "\n",
        "    return train_img, train_label, train_spic_label, marked_benign, unmarked_benign, marked_malignant, unmarked_malignant"
      ],
      "metadata": {
        "id": "TQF8Ig1z-ld5"
      },
      "execution_count": 288,
      "outputs": []
    },
    {
      "cell_type": "markdown",
      "source": [
        "## Now we get the data"
      ],
      "metadata": {
        "id": "znDlzTCe-1AX"
      }
    },
    {
      "cell_type": "code",
      "source": [
        "train_img, train_label, train_spic_label, marked_benign, unmarked_benign, marked_malignant, unmarked_malignant = getImages('./LIDC(MaxSlices)_Nodules(fixed)')"
      ],
      "metadata": {
        "id": "vq6T0fX4-6FA"
      },
      "execution_count": 289,
      "outputs": []
    },
    {
      "cell_type": "code",
      "source": [
        "train_dataset = NoduleDataset(train_img, train_label)"
      ],
      "metadata": {
        "id": "Pi25v4H0-7d4"
      },
      "execution_count": 290,
      "outputs": []
    },
    {
      "cell_type": "code",
      "source": [
        "len(train_dataset)"
      ],
      "metadata": {
        "id": "rdJk4t5E_D06",
        "outputId": "273d8a49-7496-4053-93ba-d28e19141d85",
        "colab": {
          "base_uri": "https://localhost:8080/"
        }
      },
      "execution_count": 291,
      "outputs": [
        {
          "output_type": "execute_result",
          "data": {
            "text/plain": [
              "1210"
            ]
          },
          "metadata": {},
          "execution_count": 291
        }
      ]
    },
    {
      "cell_type": "code",
      "source": [
        "train_set, val_set = torch.utils.data.random_split(train_dataset, [1000, 210])\n",
        "\n",
        "train_loader = InfiniteDataLoader(train_set, 128) #200 epochs\n",
        "val_loader = InfiniteDataLoader(val_set, len(val_set))"
      ],
      "metadata": {
        "id": "0pRQhnBJ_EUJ"
      },
      "execution_count": 292,
      "outputs": []
    },
    {
      "cell_type": "markdown",
      "source": [
        "#Now we create the model and setup training"
      ],
      "metadata": {
        "id": "zxegLjbZ5Dex"
      }
    },
    {
      "cell_type": "markdown",
      "source": [
        "First we make our model"
      ],
      "metadata": {
        "id": "bScAw_b25T1z"
      }
    },
    {
      "cell_type": "code",
      "source": [
        "model = ResNet18(device=DEVICE, pretrained=True, freeze=False)"
      ],
      "metadata": {
        "id": "iAG-NHBe5KE6"
      },
      "execution_count": 293,
      "outputs": []
    },
    {
      "cell_type": "code",
      "source": [
        "loss_fn = ERMLoss(model,torch.nn.functional.binary_cross_entropy_with_logits,{})\n",
        "optimizer = torch.optim.Adam(model.parameters(), lr=0.001, weight_decay=0.005)\n"
      ],
      "metadata": {
        "id": "RmxOUGwp5WDm"
      },
      "execution_count": 294,
      "outputs": []
    },
    {
      "cell_type": "markdown",
      "source": [
        "We also make learning rate scheduler"
      ],
      "metadata": {
        "id": "5Q6lWeSjMwVC"
      }
    },
    {
      "cell_type": "code",
      "source": [
        "from torch.optim.lr_scheduler import ReduceLROnPlateau\n",
        "scheduler = ReduceLROnPlateau(optimizer, mode='max', factor=0.2, patience=2, verbose=True)\n"
      ],
      "metadata": {
        "id": "DAR_w5zNMy9w"
      },
      "execution_count": 295,
      "outputs": []
    },
    {
      "cell_type": "markdown",
      "source": [
        "##Now we train the model"
      ],
      "metadata": {
        "id": "jHLB-GyZ7M2u"
      }
    },
    {
      "cell_type": "code",
      "source": [
        "epochs = 40\n",
        "\n",
        "for epoch in range(epochs):\n",
        "    print(f\"Epoch {epoch + 1}/{epochs}\")\n",
        "    train(train_loader, model, loss_fn, optimizer, verbose=True)\n",
        "\n",
        "    model.eval()\n",
        "    with torch.no_grad():\n",
        "      X,y = next(val_loader)\n",
        "      results = torch.sigmoid(model(X))\n",
        "      accuracy = torch.sum(torch.round(results) == y)/X.shape[0]\n",
        "    print(f'cv accuracy {accuracy}')\n",
        "    scheduler.step(accuracy)"
      ],
      "metadata": {
        "colab": {
          "base_uri": "https://localhost:8080/"
        },
        "id": "WEkXaPy15b4c",
        "outputId": "75656f54-2cc5-48b7-a337-f56991234d7c"
      },
      "execution_count": 296,
      "outputs": [
        {
          "output_type": "stream",
          "name": "stdout",
          "text": [
            "Epoch 1/40\n",
            "Average training loss: 0.5866453945636749\n",
            "cv accuracy 0.6761904954910278\n",
            "Epoch 2/40\n",
            "Average training loss: 0.4466914108821324\n",
            "cv accuracy 0.6761904954910278\n",
            "Epoch 3/40\n",
            "Average training loss: 0.38839320625577656\n",
            "cv accuracy 0.7000000476837158\n",
            "Epoch 4/40\n",
            "Average training loss: 0.242648788860866\n",
            "cv accuracy 0.7523809671401978\n",
            "Epoch 5/40\n",
            "Average training loss: 0.18248883528368814\n",
            "cv accuracy 0.7809523940086365\n",
            "Epoch 6/40\n",
            "Average training loss: 0.17846629342862538\n",
            "cv accuracy 0.6571428775787354\n",
            "Epoch 7/40\n",
            "Average training loss: 0.16402730558599746\n",
            "cv accuracy 0.6285714507102966\n",
            "Epoch 8/40\n",
            "Average training loss: 0.14910744343485152\n",
            "cv accuracy 0.747619092464447\n",
            "Epoch 00008: reducing learning rate of group 0 to 2.0000e-04.\n",
            "Epoch 9/40\n",
            "Average training loss: 0.09558290083493505\n",
            "cv accuracy 0.7714285850524902\n",
            "Epoch 10/40\n",
            "Average training loss: 0.045237461903265545\n",
            "cv accuracy 0.785714328289032\n",
            "Epoch 11/40\n",
            "Average training loss: 0.02549218146928719\n",
            "cv accuracy 0.761904776096344\n",
            "Epoch 12/40\n",
            "Average training loss: 0.01746011565306357\n",
            "cv accuracy 0.7761905193328857\n",
            "Epoch 13/40\n",
            "Average training loss: 0.014176306248243366\n",
            "cv accuracy 0.7190476655960083\n",
            "Epoch 00013: reducing learning rate of group 0 to 4.0000e-05.\n",
            "Epoch 14/40\n",
            "Average training loss: 0.012806941622069903\n",
            "cv accuracy 0.7761905193328857\n",
            "Epoch 15/40\n",
            "Average training loss: 0.007332024231020894\n",
            "cv accuracy 0.7190476655960083\n",
            "Epoch 16/40\n",
            "Average training loss: 0.01868146564811468\n",
            "cv accuracy 0.7571429014205933\n",
            "Epoch 00016: reducing learning rate of group 0 to 8.0000e-06.\n",
            "Epoch 17/40\n",
            "Average training loss: 0.006437281678829875\n",
            "cv accuracy 0.7666667103767395\n",
            "Epoch 18/40\n",
            "Average training loss: 0.00784546382991331\n",
            "cv accuracy 0.7380952835083008\n",
            "Epoch 19/40\n",
            "Average training loss: 0.009770229126193694\n",
            "cv accuracy 0.8428571820259094\n",
            "Epoch 20/40\n",
            "Average training loss: 0.006744843308946916\n",
            "cv accuracy 0.7095238566398621\n",
            "Epoch 21/40\n",
            "Average training loss: 0.007404855851616178\n",
            "cv accuracy 0.785714328289032\n",
            "Epoch 22/40\n",
            "Average training loss: 0.007206422675933156\n",
            "cv accuracy 0.7714285850524902\n",
            "Epoch 00022: reducing learning rate of group 0 to 1.6000e-06.\n",
            "Epoch 23/40\n",
            "Average training loss: 0.007629830523261002\n",
            "cv accuracy 0.8238095641136169\n",
            "Epoch 24/40\n",
            "Average training loss: 0.007096137452338423\n",
            "cv accuracy 0.747619092464447\n",
            "Epoch 25/40\n",
            "Average training loss: 0.007706576692206519\n",
            "cv accuracy 0.8047619462013245\n",
            "Epoch 00025: reducing learning rate of group 0 to 3.2000e-07.\n",
            "Epoch 26/40\n",
            "Average training loss: 0.0071914970009986845\n",
            "cv accuracy 0.7333333492279053\n",
            "Epoch 27/40\n",
            "Average training loss: 0.007992537093481846\n",
            "cv accuracy 0.7523809671401978\n",
            "Epoch 28/40\n",
            "Average training loss: 0.006542607077530452\n",
            "cv accuracy 0.7190476655960083\n",
            "Epoch 00028: reducing learning rate of group 0 to 6.4000e-08.\n",
            "Epoch 29/40\n",
            "Average training loss: 0.0074553668632039004\n",
            "cv accuracy 0.8095238208770752\n",
            "Epoch 30/40\n",
            "Average training loss: 0.0075262959913483685\n",
            "cv accuracy 0.7428571581840515\n",
            "Epoch 31/40\n",
            "Average training loss: 0.007101366529241204\n",
            "cv accuracy 0.7380952835083008\n",
            "Epoch 00031: reducing learning rate of group 0 to 1.2800e-08.\n",
            "Epoch 32/40\n",
            "Average training loss: 0.00643859723848956\n",
            "cv accuracy 0.7333333492279053\n",
            "Epoch 33/40\n",
            "Average training loss: 0.0068224530134882245\n",
            "cv accuracy 0.6809524297714233\n",
            "Epoch 34/40\n",
            "Average training loss: 0.005907821069870677\n",
            "cv accuracy 0.8380952477455139\n",
            "Epoch 00034: reducing learning rate of group 0 to 2.5600e-09.\n",
            "Epoch 35/40\n",
            "Average training loss: 0.006651777973664659\n",
            "cv accuracy 0.785714328289032\n",
            "Epoch 36/40\n",
            "Average training loss: 0.006800558085420302\n",
            "cv accuracy 0.7571429014205933\n",
            "Epoch 37/40\n",
            "Average training loss: 0.00605978154843407\n",
            "cv accuracy 0.7714285850524902\n",
            "Epoch 38/40\n",
            "Average training loss: 0.007008088420012167\n",
            "cv accuracy 0.747619092464447\n",
            "Epoch 39/40\n",
            "Average training loss: 0.007842183645282472\n",
            "cv accuracy 0.7285714745521545\n",
            "Epoch 40/40\n",
            "Average training loss: 0.0059401774778962135\n",
            "cv accuracy 0.8142857551574707\n"
          ]
        }
      ]
    },
    {
      "cell_type": "markdown",
      "source": [
        "#Lastly We evaluate model performance"
      ],
      "metadata": {
        "id": "ZYpAh47-7Qb9"
      }
    },
    {
      "cell_type": "markdown",
      "source": [
        "We first create a simple function to get sensitivities"
      ],
      "metadata": {
        "id": "q2O87Mt_7W_E"
      }
    },
    {
      "cell_type": "code",
      "source": [
        "def get_sensitivity(model, imgs, label, label_tensor = False):\n",
        "  '''\n",
        "  Inputs:\n",
        "  model: the model to use\n",
        "  img: list of imgs in the class\n",
        "  label: either 0 or 1 depending on the ground truth of subclass\n",
        "  label_tensor: if True, then label is tensor of ground truth\n",
        "\n",
        "  Output:\n",
        "  accuracy: accuracy for this subgroup\n",
        "\n",
        "  '''\n",
        "  results = torch.sigmoid(model(torch.stack(imgs).to(DEVICE)))\n",
        "  if label_tensor:\n",
        "    truth = label\n",
        "  elif label == 1:\n",
        "    truth = torch.ones(len(imgs), device=DEVICE)\n",
        "  else:\n",
        "    truth = torch.zeros(len(imgs), device=DEVICE)\n",
        "  \n",
        "  accuracy = torch.sum(torch.round(results) == truth)/len(imgs)\n",
        "\n",
        "  return accuracy"
      ],
      "metadata": {
        "id": "lWp3Z6kH7L0a"
      },
      "execution_count": 297,
      "outputs": []
    },
    {
      "cell_type": "markdown",
      "source": [
        "##Model Performance on Test Set"
      ],
      "metadata": {
        "id": "jqL4pnBH8gG3"
      }
    },
    {
      "cell_type": "code",
      "source": [
        "#spaghetti code-esque way to get imgs and labels for entire test set\n",
        "all_test_imgs = marked_benign+unmarked_benign+marked_malignant+unmarked_malignant\n",
        "all_labels = torch.tensor([0 for _ in marked_benign+unmarked_benign]+[1 for _ in marked_malignant+unmarked_malignant], device=DEVICE)\n",
        "\n",
        "\n",
        "print(f'spiculated benign accuracy: {get_sensitivity(model, marked_benign, 0):.3f}')\n",
        "print(f'unspiculated benign accuracy: {get_sensitivity(model, unmarked_benign, 0):.3f}')\n",
        "print(f'spiculated malignant accuracy: {get_sensitivity(model, marked_malignant, 1):.3f}')\n",
        "print(f'unspiculated malignant accuracy: {get_sensitivity(model, unmarked_malignant, 1):.3f}')\n",
        "\n",
        "print(f'Total accuracy: {get_sensitivity(model, all_test_imgs, all_labels, label_tensor=True):.3f}')"
      ],
      "metadata": {
        "colab": {
          "base_uri": "https://localhost:8080/"
        },
        "id": "uLmZBVdP8b1s",
        "outputId": "89f65b15-781c-451d-985f-4e9c20fc1fe8"
      },
      "execution_count": 298,
      "outputs": [
        {
          "output_type": "stream",
          "name": "stdout",
          "text": [
            "spiculated benign accuracy: 0.714\n",
            "unspiculated benign accuracy: 0.855\n",
            "spiculated malignant accuracy: 0.829\n",
            "unspiculated malignant accuracy: 0.649\n",
            "Total accuracy: 0.800\n"
          ]
        }
      ]
    }
  ],
  "metadata": {
    "language_info": {
      "name": "python"
    },
    "orig_nbformat": 4,
    "colab": {
      "name": "lidc_cnn_ERM.ipynb",
      "provenance": [],
      "include_colab_link": true
    },
    "kernelspec": {
      "name": "python3",
      "display_name": "Python 3"
    },
    "gpuClass": "standard",
    "accelerator": "GPU"
  },
  "nbformat": 4,
  "nbformat_minor": 0
}