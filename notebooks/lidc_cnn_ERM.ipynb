{
  "cells": [
    {
      "cell_type": "markdown",
      "metadata": {
        "id": "view-in-github",
        "colab_type": "text"
      },
      "source": [
        "<a href=\"https://colab.research.google.com/github/mtzig/LIDC_GDRO/blob/main/notebooks/lidc_cnn_ERM.ipynb\" target=\"_parent\"><img src=\"https://colab.research.google.com/assets/colab-badge.svg\" alt=\"Open In Colab\"/></a>"
      ]
    },
    {
      "cell_type": "markdown",
      "metadata": {
        "id": "aXP5BUZY7SbH"
      },
      "source": [
        "#ERM CNN Model for Malignancy"
      ]
    },
    {
      "cell_type": "markdown",
      "source": [
        "#First We setup the repo"
      ],
      "metadata": {
        "id": "3mlU0-uy8Ez3"
      }
    },
    {
      "cell_type": "code",
      "execution_count": 1,
      "metadata": {
        "colab": {
          "base_uri": "https://localhost:8080/"
        },
        "id": "DMqJTbcB7SbG",
        "outputId": "bbff00ef-0d04-4531-fae9-d138b0d0d0b2"
      },
      "outputs": [
        {
          "output_type": "stream",
          "name": "stdout",
          "text": [
            "fatal: destination path 'LIDC_GDRO' already exists and is not an empty directory.\n",
            "/content/LIDC_GDRO\n"
          ]
        }
      ],
      "source": [
        "# Only run if on Colab\n",
        "#%cd .. #run this on local machine\n",
        "\n",
        "\n",
        "!git clone https://github.com/mtzig/LIDC_GDRO.git\n",
        "%cd /content/LIDC_GDRO"
      ]
    },
    {
      "cell_type": "code",
      "execution_count": 2,
      "metadata": {
        "id": "FfxoU2RZ7SbI"
      },
      "outputs": [],
      "source": [
        "# !git pull"
      ]
    },
    {
      "cell_type": "code",
      "source": [
        "%load_ext autoreload\n",
        "%autoreload 2"
      ],
      "metadata": {
        "id": "BoTdOzRN7hbW"
      },
      "execution_count": 3,
      "outputs": []
    },
    {
      "cell_type": "code",
      "source": [
        "import os\n",
        "import torch\n",
        "import pandas as pd\n",
        "import numpy as np\n",
        "from dataloaders import InfiniteDataLoader\n",
        "from datasets import NoduleDataset\n",
        "from models import VGGNet, ResNet18\n",
        "from loss import ERMLoss\n",
        "from train import train\n",
        "from torch.optim.lr_scheduler import ReduceLROnPlateau\n",
        "\n",
        "import torchvision"
      ],
      "metadata": {
        "id": "Gor5x5428B0V"
      },
      "execution_count": 4,
      "outputs": []
    },
    {
      "cell_type": "code",
      "source": [
        "if torch.cuda.is_available():\n",
        "    print(\"Good to go!\")\n",
        "    DEVICE = torch.device(\"cuda\")\n",
        "else:\n",
        "    print(\"Using cpu\")\n",
        "    DEVICE = torch.device(\"cpu\")"
      ],
      "metadata": {
        "colab": {
          "base_uri": "https://localhost:8080/"
        },
        "id": "X6Vy4YCE8UHA",
        "outputId": "33cb63aa-81af-434a-adc7-76bbc4b78642"
      },
      "execution_count": 5,
      "outputs": [
        {
          "output_type": "stream",
          "name": "stdout",
          "text": [
            "Good to go!\n"
          ]
        }
      ]
    },
    {
      "cell_type": "markdown",
      "source": [
        "#Test Models"
      ],
      "metadata": {
        "id": "SFdoHrHh6aNo"
      }
    },
    {
      "cell_type": "code",
      "source": [
        "import torch.nn as nn\n",
        "\n",
        "class ResNet50(nn.Module):\n",
        "\n",
        "    def __init__(self, device='cpu', pretrained=True, freeze=True):\n",
        "        super(ResNet50, self).__init__()\n",
        "\n",
        "        self.model = torchvision.models.resnet50(pretrained=pretrained).to(device)\n",
        "        \n",
        "        if pretrained and freeze:\n",
        "            for param in self.model.parameters():\n",
        "                param.requires_grad = False\n",
        "\n",
        "\n",
        "            for param in self.model.layer4.parameters():\n",
        "                param.requires_grad = True\n",
        "\n",
        "        self.model.fc = nn.Sequential(\n",
        "          nn.Linear(in_features=2048, out_features=36, bias=True, device=device),\n",
        "          nn.ReLU(inplace=True),\n",
        "          nn.Dropout(p=0.5, inplace=False),\n",
        "          nn.Linear(in_features=36, out_features=2, bias=True, device=device)\n",
        "        )\n",
        "\n",
        "        for layer in self.model.fc:\n",
        "            if hasattr(layer, 'weight'):\n",
        "                nn.init.xavier_uniform_(layer.weight)\n",
        "\n",
        "    def forward(self, x):\n",
        "        return self.model(x).squeeze()\n"
      ],
      "metadata": {
        "id": "vw7pTVUU6dK1"
      },
      "execution_count": 17,
      "outputs": []
    },
    {
      "cell_type": "markdown",
      "source": [
        "#Next We get our data"
      ],
      "metadata": {
        "id": "XHCAFpSD8WpI"
      }
    },
    {
      "cell_type": "markdown",
      "source": [
        "## First some functions to retrive the data"
      ],
      "metadata": {
        "id": "62LXFK8v-vdb"
      }
    },
    {
      "cell_type": "code",
      "source": [
        "def getNormed(this_array, this_min = 0, this_max = 255, set_to_int = True):\n",
        "    \n",
        "    rat = (this_max - this_min)/(this_array.max() - this_array.min())\n",
        "    this_array = this_array * rat\n",
        "    this_array -= this_array.min()\n",
        "    this_array += this_min\n",
        "    if set_to_int:\n",
        "        return this_array.to(dtype= torch.int)\n",
        "    return this_array"
      ],
      "metadata": {
        "id": "XHRheK019LX8"
      },
      "execution_count": 7,
      "outputs": []
    },
    {
      "cell_type": "code",
      "source": [
        "def getImages(image_folder):\n",
        "    '''\n",
        "        Input:\n",
        "        image_folder: directory of the image files\n",
        "\n",
        "        Output:\n",
        "        m1: list of the labels encountered (1,2,4,5)\n",
        "        m2: list of binary labels encountered (benign, malignant)\n",
        "        diff: list of any nodes with discrepency to CSV labels\n",
        "\n",
        "    '''\n",
        "    upscale = torchvision.transforms.Resize(256)\n",
        "\n",
        "    train_img = []\n",
        "    train_label = []\n",
        "    train_spic_label = []\n",
        "    marked_benign = []\n",
        "    unmarked_benign = []\n",
        "    \n",
        "    marked_malignant = []\n",
        "    unmarked_malignant = []\n",
        "\n",
        "    \n",
        "\n",
        "    lidc = pd.read_csv('./data/lidc_spic_subgrouped.csv')\n",
        "    train_test = pd.read_csv('./data/lidc_train_test_split_stratified.csv')\n",
        "    for dir1 in os.listdir(image_folder):\n",
        "  \n",
        "        if dir1 == 'Malignancy_3':\n",
        "            continue\n",
        "\n",
        "        for file in os.listdir(os.path.join(image_folder, dir1)):\n",
        "\n",
        "\n",
        "            temp_nodule_ID = file.split('.')[0]\n",
        "            subtype = lidc[lidc['noduleID']==int(temp_nodule_ID)]['subgroup'].iloc[0]\n",
        "            malignancy = lidc[lidc['noduleID']==int(temp_nodule_ID)]['malignancy'].iloc[0]\n",
        "            spiculation = lidc[lidc['noduleID']==int(temp_nodule_ID)]['malignancy'].iloc[0]\n",
        "            \n",
        "            train_type = train_test[train_test['noduleID'] ==int(temp_nodule_ID)]['dataset'].iloc[0]\n",
        "            \n",
        "            \n",
        "            image = np.loadtxt(os.path.join(image_folder, dir1,file))\n",
        "            image = torch.from_numpy(image).to(DEVICE)\n",
        "            rgb_image = torch.stack((image,image,image), dim = 0)\n",
        "            rgb_image = getNormed(rgb_image)\n",
        "            rgb_image = rgb_image / 255\n",
        "            rgb_image = rgb_image[:,15:56, 15:56]\n",
        "\n",
        "            # rgb_image = upscale(rgb_image)\n",
        "\n",
        "            \n",
        "            \n",
        "            if train_type == 'train':\n",
        "                train_img.append(rgb_image)\n",
        "                # train_label.append(torch.tensor(1).to(DEVICE).to(torch.float32) if malignancy > 3 else torch.tensor(0).to(DEVICE).to(torch.float32))\n",
        "                train_label.append(torch.tensor(1).to(DEVICE) if malignancy > 3 else torch.tensor(0).to(DEVICE))\n",
        "\n",
        "                train_spic_label.append(torch.tensor(1).to(DEVICE).to(torch.float32) if spiculation > 1 else torch.tensor(0).to(DEVICE).to(torch.float32))\n",
        "                \n",
        "                continue\n",
        "            \n",
        "            if subtype == 'marked_benign':\n",
        "                image_array = marked_benign\n",
        "            elif subtype == 'unmarked_benign':\n",
        "                image_array = unmarked_benign\n",
        "            elif subtype == 'marked_malignant':\n",
        "                image_array = marked_malignant\n",
        "            else:\n",
        "                image_array = unmarked_malignant\n",
        "            \n",
        "            image_array.append(rgb_image)\n",
        " \n",
        "\n",
        "\n",
        "    return train_img, train_label, train_spic_label, marked_benign, unmarked_benign, marked_malignant, unmarked_malignant"
      ],
      "metadata": {
        "id": "TQF8Ig1z-ld5"
      },
      "execution_count": 54,
      "outputs": []
    },
    {
      "cell_type": "markdown",
      "source": [
        "## Now we get the data"
      ],
      "metadata": {
        "id": "znDlzTCe-1AX"
      }
    },
    {
      "cell_type": "code",
      "source": [
        "train_img, train_label, train_spic_label, marked_benign, unmarked_benign, marked_malignant, unmarked_malignant = getImages('./LIDC(MaxSlices)_Nodules(fixed)')"
      ],
      "metadata": {
        "id": "vq6T0fX4-6FA"
      },
      "execution_count": 55,
      "outputs": []
    },
    {
      "cell_type": "code",
      "source": [
        "train_img[0].shape"
      ],
      "metadata": {
        "id": "LWUyHqbF-1YG",
        "outputId": "abe0a56a-22ef-4420-fb3b-df316fadf021",
        "colab": {
          "base_uri": "https://localhost:8080/"
        }
      },
      "execution_count": 56,
      "outputs": [
        {
          "output_type": "execute_result",
          "data": {
            "text/plain": [
              "torch.Size([3, 41, 41])"
            ]
          },
          "metadata": {},
          "execution_count": 56
        }
      ]
    },
    {
      "cell_type": "code",
      "source": [
        "train_dataset_spic = NoduleDataset(train_img, train_spic_label)\n",
        "train_dataset = NoduleDataset(train_img, train_label)"
      ],
      "metadata": {
        "id": "Pi25v4H0-7d4"
      },
      "execution_count": 57,
      "outputs": []
    },
    {
      "cell_type": "code",
      "source": [
        "len(train_dataset)"
      ],
      "metadata": {
        "id": "rdJk4t5E_D06",
        "outputId": "8894afc9-11d3-4304-df20-7adb60e22f38",
        "colab": {
          "base_uri": "https://localhost:8080/"
        }
      },
      "execution_count": 11,
      "outputs": [
        {
          "output_type": "execute_result",
          "data": {
            "text/plain": [
              "1210"
            ]
          },
          "metadata": {},
          "execution_count": 11
        }
      ]
    },
    {
      "cell_type": "code",
      "source": [
        "train_set, val_set = torch.utils.data.random_split(train_dataset, [1110, 100])\n",
        "train_spic_set, val_spic_set = torch.utils.data.random_split(train_dataset_spic, [1000, 210])\n",
        "\n",
        "train_spic_loader = InfiniteDataLoader(train_spic_set, 128)\n",
        "val_spic_loader = InfiniteDataLoader(val_spic_set, len(val_spic_set))\n",
        "\n",
        "train_loader = InfiniteDataLoader(train_set, 128) #200 epochs\n",
        "val_loader = InfiniteDataLoader(val_set, len(val_set))\n",
        "\n",
        "# train_loader = InfiniteDataLoader(train_set, 128)"
      ],
      "metadata": {
        "id": "0pRQhnBJ_EUJ"
      },
      "execution_count": 58,
      "outputs": []
    },
    {
      "cell_type": "markdown",
      "source": [
        "#Now we create the model and setup training"
      ],
      "metadata": {
        "id": "zxegLjbZ5Dex"
      }
    },
    {
      "cell_type": "markdown",
      "source": [
        "First we make our model"
      ],
      "metadata": {
        "id": "bScAw_b25T1z"
      }
    },
    {
      "cell_type": "code",
      "source": [
        "model = ResNet50(device=DEVICE, pretrained=True, freeze=False)"
      ],
      "metadata": {
        "id": "iAG-NHBe5KE6"
      },
      "execution_count": 65,
      "outputs": []
    },
    {
      "cell_type": "code",
      "source": [
        "loss_fn = ERMLoss(model,torch.nn.CrossEntropyLoss(),{}) #torch.nn.functional.binary_cross_entropy_with_logits\n",
        "optimizer = torch.optim.Adam(model.parameters(), lr=0.0005, weight_decay=0.005)#lr=0.001, weight_decay=0.005)\n"
      ],
      "metadata": {
        "id": "RmxOUGwp5WDm"
      },
      "execution_count": 66,
      "outputs": []
    },
    {
      "cell_type": "markdown",
      "source": [
        "We also make learning rate scheduler"
      ],
      "metadata": {
        "id": "5Q6lWeSjMwVC"
      }
    },
    {
      "cell_type": "code",
      "source": [
        "scheduler = ReduceLROnPlateau(optimizer, mode='max', factor=0.2, patience=2, verbose=True)"
      ],
      "metadata": {
        "id": "DAR_w5zNMy9w"
      },
      "execution_count": 67,
      "outputs": []
    },
    {
      "cell_type": "markdown",
      "source": [
        "##Now we train the model"
      ],
      "metadata": {
        "id": "jHLB-GyZ7M2u"
      }
    },
    {
      "cell_type": "code",
      "source": [
        "epochs = 40\n",
        "\n",
        "for epoch in range(epochs):\n",
        "    print(f\"Epoch {epoch + 1}/{epochs}\")\n",
        "\n",
        "    # train(train_spic_loader, model, loss_fn, optimizer, verbose=True)\n",
        "    train(train_loader, model, loss_fn, optimizer, verbose=True)\n",
        "\n",
        "    model.eval()\n",
        "    with torch.no_grad():\n",
        "      # X,y = next(val_spic_loader)\n",
        "      X,y = next(val_loader)\n",
        "      logits = model(X)\n",
        "      # results = torch.sigmoid(logits)\n",
        "      results = torch.max(logits, dim=1)[1]\n",
        "      # accuracy = torch.sum(torch.round(results) == y)/X.shape[0]\n",
        "      accuracy = torch.sum(results == y)/X.shape[0]\n",
        "\n",
        "    print(f'cv accuracy {accuracy}')\n",
        "    scheduler.step(accuracy)"
      ],
      "metadata": {
        "colab": {
          "base_uri": "https://localhost:8080/"
        },
        "id": "WEkXaPy15b4c",
        "outputId": "9840afd2-fd7c-48d6-c87a-cae32f117bed"
      },
      "execution_count": 68,
      "outputs": [
        {
          "output_type": "stream",
          "name": "stdout",
          "text": [
            "Epoch 1/40\n",
            "Average training loss: 0.7672400176525116\n",
            "cv accuracy 0.550000011920929\n",
            "Epoch 2/40\n",
            "Average training loss: 0.4237973727285862\n",
            "cv accuracy 0.6599999666213989\n",
            "Epoch 3/40\n",
            "Average training loss: 0.2706829905509949\n",
            "cv accuracy 0.6800000071525574\n",
            "Epoch 4/40\n",
            "Average training loss: 0.19422727078199387\n",
            "cv accuracy 0.6800000071525574\n",
            "Epoch 5/40\n",
            "Average training loss: 0.19237558264285326\n",
            "cv accuracy 0.6699999570846558\n",
            "Epoch 6/40\n",
            "Average training loss: 0.1345793642103672\n",
            "cv accuracy 0.7699999809265137\n",
            "Epoch 7/40\n",
            "Average training loss: 0.0877310261130333\n",
            "cv accuracy 0.8199999928474426\n",
            "Epoch 8/40\n",
            "Average training loss: 0.07732714200392365\n",
            "cv accuracy 0.6499999761581421\n",
            "Epoch 9/40\n",
            "Average training loss: 0.0740323718637228\n",
            "cv accuracy 0.699999988079071\n",
            "Epoch 10/40\n",
            "Average training loss: 0.0812723389826715\n",
            "cv accuracy 0.7699999809265137\n",
            "Epoch 00010: reducing learning rate of group 0 to 1.0000e-04.\n",
            "Epoch 11/40\n",
            "Average training loss: 0.06892650853842497\n",
            "cv accuracy 0.8399999737739563\n",
            "Epoch 12/40\n",
            "Average training loss: 0.030313047813251615\n",
            "cv accuracy 0.7599999904632568\n",
            "Epoch 13/40\n",
            "Average training loss: 0.01921736157964915\n",
            "cv accuracy 0.7400000095367432\n",
            "Epoch 14/40\n",
            "Average training loss: 0.017238235392142087\n",
            "cv accuracy 0.7999999523162842\n",
            "Epoch 00014: reducing learning rate of group 0 to 2.0000e-05.\n",
            "Epoch 15/40\n",
            "Average training loss: 0.010864239651709795\n",
            "cv accuracy 0.7599999904632568\n",
            "Epoch 16/40\n",
            "Average training loss: 0.011018227465683594\n",
            "cv accuracy 0.8100000023841858\n",
            "Epoch 17/40\n",
            "Average training loss: 0.00903108884813264\n",
            "cv accuracy 0.7099999785423279\n",
            "Epoch 00017: reducing learning rate of group 0 to 4.0000e-06.\n",
            "Epoch 18/40\n",
            "Average training loss: 0.01206542647560127\n",
            "cv accuracy 0.8100000023841858\n",
            "Epoch 19/40\n",
            "Average training loss: 0.00746994893415831\n",
            "cv accuracy 0.75\n",
            "Epoch 20/40\n",
            "Average training loss: 0.007303648191737011\n",
            "cv accuracy 0.7599999904632568\n",
            "Epoch 00020: reducing learning rate of group 0 to 8.0000e-07.\n",
            "Epoch 21/40\n",
            "Average training loss: 0.0064786144939716905\n",
            "cv accuracy 0.8299999833106995\n",
            "Epoch 22/40\n",
            "Average training loss: 0.005759263804065995\n",
            "cv accuracy 0.8299999833106995\n",
            "Epoch 23/40\n",
            "Average training loss: 0.008060166554059833\n",
            "cv accuracy 0.8199999928474426\n",
            "Epoch 00023: reducing learning rate of group 0 to 1.6000e-07.\n",
            "Epoch 24/40\n",
            "Average training loss: 0.006264540046686307\n",
            "cv accuracy 0.6899999976158142\n",
            "Epoch 25/40\n",
            "Average training loss: 0.005088785255793482\n",
            "cv accuracy 0.7799999713897705\n",
            "Epoch 26/40\n",
            "Average training loss: 0.009432203398318961\n",
            "cv accuracy 0.8100000023841858\n",
            "Epoch 00026: reducing learning rate of group 0 to 3.2000e-08.\n",
            "Epoch 27/40\n",
            "Average training loss: 0.0065223746933043\n",
            "cv accuracy 0.8499999642372131\n",
            "Epoch 28/40\n",
            "Average training loss: 0.006352652912028134\n",
            "cv accuracy 0.8100000023841858\n",
            "Epoch 29/40\n",
            "Average training loss: 0.00799427879974246\n",
            "cv accuracy 0.6899999976158142\n",
            "Epoch 30/40\n",
            "Average training loss: 0.00840618833899498\n",
            "cv accuracy 0.7799999713897705\n",
            "Epoch 00030: reducing learning rate of group 0 to 6.4000e-09.\n",
            "Epoch 31/40\n",
            "Average training loss: 0.00694524118443951\n",
            "cv accuracy 0.7599999904632568\n",
            "Epoch 32/40\n",
            "Average training loss: 0.0070518970605917275\n",
            "cv accuracy 0.7099999785423279\n",
            "Epoch 33/40\n",
            "Average training loss: 0.006362254382111132\n",
            "cv accuracy 0.8100000023841858\n",
            "Epoch 34/40\n",
            "Average training loss: 0.009970564977265894\n",
            "cv accuracy 0.7899999618530273\n",
            "Epoch 35/40\n",
            "Average training loss: 0.007314596179639921\n",
            "cv accuracy 0.7899999618530273\n",
            "Epoch 36/40\n",
            "Average training loss: 0.006823734438512474\n",
            "cv accuracy 0.7899999618530273\n",
            "Epoch 37/40\n",
            "Average training loss: 0.007672178908251226\n",
            "cv accuracy 0.7599999904632568\n",
            "Epoch 38/40\n",
            "Average training loss: 0.007743094640318304\n",
            "cv accuracy 0.7799999713897705\n",
            "Epoch 39/40\n",
            "Average training loss: 0.0052496109274216\n",
            "cv accuracy 0.8100000023841858\n",
            "Epoch 40/40\n",
            "Average training loss: 0.00888515409315005\n",
            "cv accuracy 0.75\n"
          ]
        }
      ]
    },
    {
      "cell_type": "markdown",
      "source": [
        "#Lastly We evaluate model performance"
      ],
      "metadata": {
        "id": "ZYpAh47-7Qb9"
      }
    },
    {
      "cell_type": "markdown",
      "source": [
        "We first create a simple function to get sensitivities"
      ],
      "metadata": {
        "id": "q2O87Mt_7W_E"
      }
    },
    {
      "cell_type": "code",
      "source": [
        "def get_sensitivity(model, imgs, label, label_tensor = False):\n",
        "  '''\n",
        "  Inputs:\n",
        "  model: the model to use\n",
        "  img: list of imgs in the class\n",
        "  label: either 0 or 1 depending on the ground truth of subclass\n",
        "  label_tensor: if True, then label is tensor of ground truth\n",
        "\n",
        "  Output:\n",
        "  accuracy: accuracy for this subgroup\n",
        "\n",
        "  '''\n",
        "  # results = torch.sigmoid(model(torch.stack(imgs).to(DEVICE)))\n",
        "  results = torch.max(model(torch.stack(imgs).to(DEVICE)),dim=1)[1]\n",
        "  if label_tensor:\n",
        "    truth = label\n",
        "  elif label == 1:\n",
        "    truth = torch.ones(len(imgs), device=DEVICE)\n",
        "  else:\n",
        "    truth = torch.zeros(len(imgs), device=DEVICE)\n",
        "  \n",
        "  # accuracy = torch.sum(torch.round(results) == truth)/len(imgs)\n",
        "  accuracy = torch.sum(results == truth)/len(imgs)\n",
        "\n",
        "  return accuracy"
      ],
      "metadata": {
        "id": "lWp3Z6kH7L0a"
      },
      "execution_count": 23,
      "outputs": []
    },
    {
      "cell_type": "markdown",
      "source": [
        "##Model Performance on Test Set"
      ],
      "metadata": {
        "id": "jqL4pnBH8gG3"
      }
    },
    {
      "cell_type": "code",
      "source": [
        "#spaghetti code-esque way to get imgs and labels for entire test set\n",
        "all_test_imgs = marked_benign+unmarked_benign+marked_malignant+unmarked_malignant\n",
        "all_labels = torch.tensor([0 for _ in marked_benign+unmarked_benign]+[1 for _ in marked_malignant+unmarked_malignant], device=DEVICE)\n",
        "\n",
        "\n",
        "print(f'spiculated benign accuracy: {get_sensitivity(model, marked_benign, 0):.3f}')\n",
        "print(f'unspiculated benign accuracy: {get_sensitivity(model, unmarked_benign, 0):.3f}')\n",
        "print(f'spiculated malignant accuracy: {get_sensitivity(model, marked_malignant, 1):.3f}')\n",
        "print(f'unspiculated malignant accuracy: {get_sensitivity(model, unmarked_malignant, 1):.3f}')\n",
        "\n",
        "print(f'Total accuracy: {get_sensitivity(model, all_test_imgs, all_labels, label_tensor=True):.3f}')"
      ],
      "metadata": {
        "colab": {
          "base_uri": "https://localhost:8080/"
        },
        "id": "uLmZBVdP8b1s",
        "outputId": "6df2cb78-ed7c-4b48-e109-af4fb270e6dc"
      },
      "execution_count": 69,
      "outputs": [
        {
          "output_type": "stream",
          "name": "stdout",
          "text": [
            "spiculated benign accuracy: 0.571\n",
            "unspiculated benign accuracy: 0.821\n",
            "spiculated malignant accuracy: 0.841\n",
            "unspiculated malignant accuracy: 0.649\n",
            "Total accuracy: 0.777\n"
          ]
        }
      ]
    }
  ],
  "metadata": {
    "language_info": {
      "name": "python"
    },
    "orig_nbformat": 4,
    "colab": {
      "name": "lidc_cnn_ERM.ipynb",
      "provenance": [],
      "include_colab_link": true
    },
    "kernelspec": {
      "name": "python3",
      "display_name": "Python 3"
    },
    "gpuClass": "standard",
    "accelerator": "GPU"
  },
  "nbformat": 4,
  "nbformat_minor": 0
}