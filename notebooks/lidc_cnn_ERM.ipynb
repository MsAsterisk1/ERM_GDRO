{
  "cells": [
    {
      "cell_type": "markdown",
      "metadata": {
        "id": "view-in-github",
        "colab_type": "text"
      },
      "source": [
        "<a href=\"https://colab.research.google.com/github/mtzig/LIDC_GDRO/blob/main/notebooks/lidc_cnn_ERM.ipynb\" target=\"_parent\"><img src=\"https://colab.research.google.com/assets/colab-badge.svg\" alt=\"Open In Colab\"/></a>"
      ]
    },
    {
      "cell_type": "markdown",
      "metadata": {
        "id": "aXP5BUZY7SbH"
      },
      "source": [
        "#ERM CNN Model for Malignancy"
      ]
    },
    {
      "cell_type": "markdown",
      "source": [
        "#First We setup the repo"
      ],
      "metadata": {
        "id": "3mlU0-uy8Ez3"
      }
    },
    {
      "cell_type": "code",
      "execution_count": 542,
      "metadata": {
        "colab": {
          "base_uri": "https://localhost:8080/"
        },
        "id": "DMqJTbcB7SbG",
        "outputId": "f107215c-3598-45c8-bdb9-5e3f1d6e45a8"
      },
      "outputs": [
        {
          "output_type": "stream",
          "name": "stdout",
          "text": [
            "Cloning into 'LIDC_GDRO'...\n",
            "remote: Enumerating objects: 3180, done.\u001b[K\n",
            "remote: Counting objects: 100% (255/255), done.\u001b[K\n",
            "remote: Compressing objects: 100% (98/98), done.\u001b[K\n",
            "remote: Total 3180 (delta 157), reused 255 (delta 157), pack-reused 2925\u001b[K\n",
            "Receiving objects: 100% (3180/3180), 44.66 MiB | 24.89 MiB/s, done.\n",
            "Resolving deltas: 100% (2969/2969), done.\n",
            "Checking out files: 100% (5391/5391), done.\n",
            "/content/LIDC_GDRO\n"
          ]
        }
      ],
      "source": [
        "# Only run if on Colab\n",
        "#%cd .. #run this on local machine\n",
        "\n",
        "\n",
        "!git clone https://github.com/mtzig/LIDC_GDRO.git\n",
        "%cd /content/LIDC_GDRO"
      ]
    },
    {
      "cell_type": "code",
      "execution_count": 818,
      "metadata": {
        "id": "FfxoU2RZ7SbI",
        "colab": {
          "base_uri": "https://localhost:8080/"
        },
        "outputId": "04b6b617-c758-4fba-db5f-77afcb503b33"
      },
      "outputs": [
        {
          "output_type": "stream",
          "name": "stdout",
          "text": [
            "Updating ecf7216..6417d90\n",
            "Fast-forward\n",
            " main.py => data_util.py  |  93 \u001b[32m+\u001b[m\u001b[31m-----\u001b[m\n",
            " loss.py                  |  51 \u001b[32m++\u001b[m\u001b[31m--\u001b[m\n",
            " notebooks/results.ipynb  | 735 \u001b[31m-----------------------------------------------\u001b[m\n",
            " notebooks/run_test.ipynb | 503 \u001b[32m++++++++++++++++++++++++++++++++\u001b[m\n",
            " train.py                 |   7 \u001b[32m+\u001b[m\u001b[31m-\u001b[m\n",
            " 5 files changed, 541 insertions(+), 848 deletions(-)\n",
            " rename main.py => data_util.py (54%)\n",
            " delete mode 100644 notebooks/results.ipynb\n",
            " create mode 100644 notebooks/run_test.ipynb\n"
          ]
        }
      ],
      "source": [
        "!git pull"
      ]
    },
    {
      "cell_type": "code",
      "source": [
        "%load_ext autoreload\n",
        "%autoreload 2"
      ],
      "metadata": {
        "id": "BoTdOzRN7hbW",
        "colab": {
          "base_uri": "https://localhost:8080/"
        },
        "outputId": "5b2dbf17-6e5b-430f-8081-0a44dbd136c4"
      },
      "execution_count": 543,
      "outputs": [
        {
          "output_type": "stream",
          "name": "stdout",
          "text": [
            "The autoreload extension is already loaded. To reload it, use:\n",
            "  %reload_ext autoreload\n"
          ]
        }
      ]
    },
    {
      "cell_type": "code",
      "source": [
        "import os\n",
        "import torch\n",
        "import pandas as pd\n",
        "import numpy as np\n",
        "from dataloaders import InfiniteDataLoader\n",
        "from datasets import NoduleDataset, SubclassedNoduleDataset\n",
        "from models import VGGNet, ResNet18\n",
        "from loss import ERMLoss, GDROLossAlt\n",
        "from train import train\n",
        "from torch.optim.lr_scheduler import ReduceLROnPlateau\n",
        "\n",
        "import torchvision"
      ],
      "metadata": {
        "id": "Gor5x5428B0V"
      },
      "execution_count": 547,
      "outputs": []
    },
    {
      "cell_type": "code",
      "source": [
        "if torch.cuda.is_available():\n",
        "    print(\"Good to go!\")\n",
        "    DEVICE = torch.device(\"cuda\")\n",
        "else:\n",
        "    print(\"Using cpu\")\n",
        "    DEVICE = torch.device(\"cpu\")"
      ],
      "metadata": {
        "colab": {
          "base_uri": "https://localhost:8080/"
        },
        "id": "X6Vy4YCE8UHA",
        "outputId": "db92659f-8b25-40b0-abc9-b9408b3157bb"
      },
      "execution_count": 4,
      "outputs": [
        {
          "output_type": "stream",
          "name": "stdout",
          "text": [
            "Good to go!\n"
          ]
        }
      ]
    },
    {
      "cell_type": "markdown",
      "source": [
        "#Test Models"
      ],
      "metadata": {
        "id": "SFdoHrHh6aNo"
      }
    },
    {
      "cell_type": "code",
      "source": [
        "import torch.nn as nn\n",
        "\n",
        "class testModel(nn.Module):\n",
        "\n",
        "    def __init__(self, device='cpu', pretrained=True, freeze=True):\n",
        "        super(testModel, self).__init__()\n",
        "\n",
        "        self.model = torchvision.models.resnet18(pretrained=pretrained).to(device) #torch.hub.load('pytorch/vision:v0.10.0', 'googlenet', pretrained=True).to(device)\n",
        "        \n",
        "        # if pretrained and freeze:\n",
        "        #     for param in self.model.parameters():\n",
        "        #         param.requires_grad = False\n",
        "\n",
        "\n",
        "        #     for param in self.model.layer4.parameters():\n",
        "        #         param.requires_grad = True\n",
        "\n",
        "        self.model.fc = nn.Sequential(\n",
        "          nn.Linear(in_features=512, out_features=36, bias=True, device=device),\n",
        "          nn.ReLU(inplace=True),\n",
        "          nn.Dropout(p=0.5, inplace=False),\n",
        "          nn.Linear(in_features=36, out_features=2, bias=True, device=device)\n",
        "          # nn.Linear(in_features=36, out_features=1, bias=True, device=device)\n",
        "        )\n",
        "\n",
        "        for layer in self.model.fc:\n",
        "            if hasattr(layer, 'weight'):\n",
        "                nn.init.xavier_uniform_(layer.weight)\n",
        "\n",
        "    def forward(self, x):\n",
        "        return self.model(x).squeeze()\n"
      ],
      "metadata": {
        "id": "vw7pTVUU6dK1"
      },
      "execution_count": 820,
      "outputs": []
    },
    {
      "cell_type": "markdown",
      "source": [
        "#Next We get our data"
      ],
      "metadata": {
        "id": "XHCAFpSD8WpI"
      }
    },
    {
      "cell_type": "markdown",
      "source": [
        "## First some functions to retrive the data"
      ],
      "metadata": {
        "id": "62LXFK8v-vdb"
      }
    },
    {
      "cell_type": "code",
      "source": [
        "def getNormed(this_array, this_min = 0, this_max = 255, set_to_int = True):\n",
        "    \n",
        "    rat = (this_max - this_min)/(this_array.max() - this_array.min())\n",
        "    this_array = this_array * rat\n",
        "    this_array -= this_array.min()\n",
        "    this_array += this_min\n",
        "    if set_to_int:\n",
        "        return this_array.to(dtype= torch.int)\n",
        "    return this_array"
      ],
      "metadata": {
        "id": "XHRheK019LX8"
      },
      "execution_count": 6,
      "outputs": []
    },
    {
      "cell_type": "code",
      "source": [
        "def getImages(image_folder):\n",
        "    '''\n",
        "        Input:\n",
        "        image_folder: directory of the image files\n",
        "\n",
        "        Output:\n",
        "        m1: list of the labels encountered (1,2,4,5)\n",
        "        m2: list of binary labels encountered (benign, malignant)\n",
        "        diff: list of any nodes with discrepency to CSV labels\n",
        "\n",
        "    '''\n",
        "    upscale = torchvision.transforms.Resize(71)\n",
        "\n",
        "    train_img = []\n",
        "    train_label = []\n",
        "    train_subclasses = []\n",
        "\n",
        "    marked_benign = []\n",
        "    unmarked_benign = []\n",
        "    \n",
        "    marked_malignant = []\n",
        "    unmarked_malignant = []\n",
        "\n",
        "    \n",
        "\n",
        "    lidc = pd.read_csv('./data/lidc_spic_subgrouped.csv')\n",
        "    train_test = pd.read_csv('./data/lidc_train_test_split_stratified.csv')\n",
        "    for dir1 in os.listdir(image_folder):\n",
        "  \n",
        "        if dir1 == 'Malignancy_3':\n",
        "            continue\n",
        "\n",
        "        for file in os.listdir(os.path.join(image_folder, dir1)):\n",
        "\n",
        "\n",
        "            temp_nodule_ID = file.split('.')[0]\n",
        "            subtype = lidc[lidc['noduleID']==int(temp_nodule_ID)]['subgroup'].iloc[0]\n",
        "            malignancy = lidc[lidc['noduleID']==int(temp_nodule_ID)]['malignancy'].iloc[0]\n",
        "            spiculation = lidc[lidc['noduleID']==int(temp_nodule_ID)]['malignancy'].iloc[0]\n",
        "            \n",
        "            train_type = train_test[train_test['noduleID'] ==int(temp_nodule_ID)]['dataset'].iloc[0]\n",
        "            \n",
        "            \n",
        "            image = np.loadtxt(os.path.join(image_folder, dir1,file))\n",
        "            image = torch.from_numpy(image).to(DEVICE)\n",
        "            \n",
        "\n",
        "            \n",
        "            # rgb_image = torch.stack((image,image,image), dim = 0)\n",
        "            # rgb_image = getNormed(rgb_image)\n",
        "            rgb_image = getNormed(image)\n",
        "            rgb_image = rgb_image / 255\n",
        "\n",
        "            img_ch1 = rgb_image.unsqueeze(dim=0)\n",
        "            img_ch2 = upscale(rgb_image[15:56,15:56].unsqueeze(dim=0))\n",
        "            img_ch3 = upscale(rgb_image[25:46,25:46].unsqueeze(dim=0))\n",
        "            # rgb_image = rgb_image#[:,15:56, 15:56]\n",
        "            rgb_image = torch.cat([img_ch1,img_ch2,img_ch3])\n",
        "\n",
        "            rgb_image_90 = torchvision.transforms.functional.rotate(rgb_image, 90)\n",
        "            rgb_image_180 = torchvision.transforms.functional.rotate(rgb_image, 180)\n",
        "            rgb_image_270 = torchvision.transforms.functional.rotate(rgb_image, 270)\n",
        "\n",
        "            #rgb_image = upscale(rgb_image)\n",
        "\n",
        "            \n",
        "            \n",
        "            if train_type == 'train':\n",
        "                train_img.append(rgb_image)\n",
        "                train_img.append(rgb_image_90)\n",
        "                train_img.append(rgb_image_180)\n",
        "                train_img.append(rgb_image_270)\n",
        "                # train_label.append(torch.tensor(1).to(DEVICE).to(torch.float32) if malignancy > 3 else torch.tensor(0).to(DEVICE).to(torch.float32))\n",
        "                # train_label.append(torch.tensor(0.25 * (malignancy-1)).to(DEVICE).to(torch.float32)) \n",
        "                train_label.extend([torch.tensor(1).to(DEVICE) if malignancy > 3 else torch.tensor(0).to(DEVICE)]*4)\n",
        "\n",
        "                if subtype == 'marked_benign':\n",
        "                  train_subclasses.extend([torch.tensor(0).to(DEVICE)]*4)\n",
        "                elif subtype == 'unmarked_benign':\n",
        "                  train_subclasses.extend([torch.tensor(1).to(DEVICE)]*4)\n",
        "                elif subtype == 'marked_malignant':\n",
        "                  train_subclasses.extend([torch.tensor(2).to(DEVICE)]*4)\n",
        "                else:\n",
        "                  train_subclasses.extend([torch.tensor(3).to(DEVICE)]*4)\n",
        "\n",
        "\n",
        "                \n",
        "                continue\n",
        "            \n",
        "            if subtype == 'marked_benign':\n",
        "                image_array = marked_benign\n",
        "            elif subtype == 'unmarked_benign':\n",
        "                image_array = unmarked_benign\n",
        "            elif subtype == 'marked_malignant':\n",
        "                image_array = marked_malignant\n",
        "            else:\n",
        "                image_array = unmarked_malignant\n",
        "            \n",
        "            image_array.append(rgb_image)\n",
        " \n",
        "\n",
        "\n",
        "    return train_img, train_label, train_subclasses, marked_benign, unmarked_benign, marked_malignant, unmarked_malignant"
      ],
      "metadata": {
        "id": "TQF8Ig1z-ld5"
      },
      "execution_count": 550,
      "outputs": []
    },
    {
      "cell_type": "markdown",
      "source": [
        "## Now we get the data"
      ],
      "metadata": {
        "id": "znDlzTCe-1AX"
      }
    },
    {
      "cell_type": "code",
      "source": [
        "train_img, train_label, train_subclasses, marked_benign, unmarked_benign, marked_malignant, unmarked_malignant = getImages('./LIDC(MaxSlices)_Nodules(fixed)')"
      ],
      "metadata": {
        "id": "vq6T0fX4-6FA"
      },
      "execution_count": 551,
      "outputs": []
    },
    {
      "cell_type": "code",
      "source": [
        "# train_dataset_spic = NoduleDataset(train_img, train_spic_label)\n",
        "train_dataset = SubclassedNoduleDataset(train_img, train_label, train_subclasses)"
      ],
      "metadata": {
        "id": "Pi25v4H0-7d4"
      },
      "execution_count": 554,
      "outputs": []
    },
    {
      "cell_type": "code",
      "source": [
        "len(train_subclasses)"
      ],
      "metadata": {
        "id": "rdJk4t5E_D06",
        "outputId": "64dd6d8f-a80f-4084-d1f8-132937c6f187",
        "colab": {
          "base_uri": "https://localhost:8080/"
        }
      },
      "execution_count": 552,
      "outputs": [
        {
          "output_type": "execute_result",
          "data": {
            "text/plain": [
              "4840"
            ]
          },
          "metadata": {},
          "execution_count": 552
        }
      ]
    },
    {
      "cell_type": "code",
      "source": [
        "train_set, val_set = torch.utils.data.random_split(train_dataset, [4640, 200])\n",
        "# train_spic_set, val_spic_set = torch.utils.data.random_split(train_dataset_spic, [1000, 210])\n",
        "\n",
        "# train_spic_loader = InfiniteDataLoader(train_spic_set, 128)\n",
        "# val_spic_loader = InfiniteDataLoader(val_spic_set, len(val_spic_set))\n",
        "\n",
        "train_loader = InfiniteDataLoader(train_set, 128) #200 epochs\n",
        "val_loader = InfiniteDataLoader(val_set, len(val_set))\n",
        "\n",
        "# train_loader = InfiniteDataLoader(train_set, 128)"
      ],
      "metadata": {
        "id": "0pRQhnBJ_EUJ"
      },
      "execution_count": 576,
      "outputs": []
    },
    {
      "cell_type": "markdown",
      "source": [
        "#Now we create the model and setup training"
      ],
      "metadata": {
        "id": "zxegLjbZ5Dex"
      }
    },
    {
      "cell_type": "markdown",
      "source": [
        "First we make our model"
      ],
      "metadata": {
        "id": "bScAw_b25T1z"
      }
    },
    {
      "cell_type": "code",
      "source": [
        "model = testModel(device=DEVICE, pretrained=True, freeze=False)"
      ],
      "metadata": {
        "id": "iAG-NHBe5KE6"
      },
      "execution_count": 808,
      "outputs": []
    },
    {
      "cell_type": "code",
      "source": [
        "# loss_fn = ERMLoss(model,torch.nn.CrossEntropyLoss(),{}, subclassed=True)\n",
        "loss_fn = GDROLossAlt(model,torch.nn.CrossEntropyLoss(),0.5, 4) \n",
        "\n",
        "# loss_fn = ERMLoss(model,torch.nn.functional.binary_cross_entropy_with_logits,{})\n",
        "optimizer = torch.optim.Adam(model.parameters(), lr=0.0005, weight_decay=0.005)#lr=0.001, weight_decay=0.005)\n"
      ],
      "metadata": {
        "id": "RmxOUGwp5WDm"
      },
      "execution_count": 809,
      "outputs": []
    },
    {
      "cell_type": "markdown",
      "source": [
        "We also make learning rate scheduler"
      ],
      "metadata": {
        "id": "5Q6lWeSjMwVC"
      }
    },
    {
      "cell_type": "code",
      "source": [
        "scheduler = ReduceLROnPlateau(optimizer, mode='max', factor=0.2, patience=2, verbose=True)"
      ],
      "metadata": {
        "id": "DAR_w5zNMy9w"
      },
      "execution_count": 810,
      "outputs": []
    },
    {
      "cell_type": "markdown",
      "source": [
        "##Now we train the model"
      ],
      "metadata": {
        "id": "jHLB-GyZ7M2u"
      }
    },
    {
      "cell_type": "code",
      "source": [
        "epochs = 10#40\n",
        "\n",
        "for epoch in range(epochs):\n",
        "    print(f\"Epoch {epoch + 1}/{epochs}\")\n",
        "\n",
        "    # train(train_spic_loader, model, loss_fn, optimizer, verbose=True)\n",
        "    train(train_loader, model, loss_fn, optimizer, verbose=True)\n",
        "    model.eval()\n",
        "    with torch.no_grad():\n",
        "      # X,y = next(val_spic_loader)\n",
        "      X,y, _ = next(val_loader)\n",
        "      logits = model(X)\n",
        "      # results = torch.sigmoid(logits)\n",
        "      results = torch.max(logits, dim=1)[1]\n",
        "      # accuracy = torch.sum(torch.round(results) == y)/X.shape[0]\n",
        "      accuracy = torch.sum(results == y)/X.shape[0]\n",
        "\n",
        "    print(f'cv accuracy {accuracy}')\n",
        "    scheduler.step(accuracy)"
      ],
      "metadata": {
        "colab": {
          "base_uri": "https://localhost:8080/"
        },
        "id": "WEkXaPy15b4c",
        "outputId": "f9442536-9405-45eb-9a5d-dbeed3b935bd"
      },
      "execution_count": 811,
      "outputs": [
        {
          "output_type": "stream",
          "name": "stdout",
          "text": [
            "Epoch 1/10\n",
            "Average training loss: 0.8623091354966164\n",
            "cv accuracy 0.6899999976158142\n",
            "Epoch 2/10\n",
            "Average training loss: 0.5630013719201088\n",
            "cv accuracy 0.550000011920929\n",
            "Epoch 3/10\n",
            "Average training loss: 0.5924212973978784\n",
            "cv accuracy 0.7899999618530273\n",
            "Epoch 4/10\n",
            "Average training loss: 0.5900669967134794\n",
            "cv accuracy 0.6499999761581421\n",
            "Epoch 5/10\n",
            "Average training loss: 0.48777128838830525\n",
            "cv accuracy 0.7649999856948853\n",
            "Epoch 6/10\n",
            "Average training loss: 0.44204965399371254\n",
            "cv accuracy 0.675000011920929\n",
            "Epoch 00006: reducing learning rate of group 0 to 1.0000e-04.\n",
            "Epoch 7/10\n",
            "Average training loss: 0.42446620389819145\n",
            "cv accuracy 0.8399999737739563\n",
            "Epoch 8/10\n",
            "Average training loss: 0.43429336241549915\n",
            "cv accuracy 0.7799999713897705\n",
            "Epoch 9/10\n",
            "Average training loss: 0.38135456293821335\n",
            "cv accuracy 0.8100000023841858\n",
            "Epoch 10/10\n",
            "Average training loss: 0.30411922310789424\n",
            "cv accuracy 0.7949999570846558\n",
            "Epoch 00010: reducing learning rate of group 0 to 2.0000e-05.\n"
          ]
        }
      ]
    },
    {
      "cell_type": "markdown",
      "source": [
        "#Lastly We evaluate model performance"
      ],
      "metadata": {
        "id": "ZYpAh47-7Qb9"
      }
    },
    {
      "cell_type": "markdown",
      "source": [
        "We first create a simple function to get sensitivities"
      ],
      "metadata": {
        "id": "q2O87Mt_7W_E"
      }
    },
    {
      "cell_type": "code",
      "source": [
        "def get_sensitivity(model, imgs, label, label_tensor = False):\n",
        "  '''\n",
        "  Inputs:\n",
        "  model: the model to use\n",
        "  img: list of imgs in the class\n",
        "  label: either 0 or 1 depending on the ground truth of subclass\n",
        "  label_tensor: if True, then label is tensor of ground truth\n",
        "\n",
        "  Output:\n",
        "  accuracy: accuracy for this subgroup\n",
        "\n",
        "  '''\n",
        "  # results = torch.sigmoid(model(torch.stack(imgs).to(DEVICE)))\n",
        "  results = torch.max(model(torch.stack(imgs).to(DEVICE)),dim=1)[1]\n",
        "  if label_tensor:\n",
        "    truth = label\n",
        "  elif label == 1:\n",
        "    truth = torch.ones(len(imgs), device=DEVICE)\n",
        "  else:\n",
        "    truth = torch.zeros(len(imgs), device=DEVICE)\n",
        "  \n",
        "  # accuracy = torch.sum(torch.round(results) == truth)/len(imgs)\n",
        "  accuracy = torch.sum(results == truth)/len(imgs)\n",
        "\n",
        "  return accuracy"
      ],
      "metadata": {
        "id": "lWp3Z6kH7L0a"
      },
      "execution_count": 794,
      "outputs": []
    },
    {
      "cell_type": "markdown",
      "source": [
        "##Model Performance on Test Set"
      ],
      "metadata": {
        "id": "jqL4pnBH8gG3"
      }
    },
    {
      "cell_type": "code",
      "source": [
        "#spaghetti code-esque way to get imgs and labels for entire test set\n",
        "all_test_imgs = marked_benign+unmarked_benign+marked_malignant+unmarked_malignant\n",
        "all_labels = torch.tensor([0 for _ in marked_benign+unmarked_benign]+[1 for _ in marked_malignant+unmarked_malignant], device=DEVICE)\n",
        "\n",
        "\n",
        "print(f'spiculated benign accuracy: {get_sensitivity(model, marked_benign, 0):.3f}')\n",
        "print(f'unspiculated benign accuracy: {get_sensitivity(model, unmarked_benign, 0):.3f}')\n",
        "print(f'spiculated malignant accuracy: {get_sensitivity(model, marked_malignant, 1):.3f}')\n",
        "print(f'unspiculated malignant accuracy: {get_sensitivity(model, unmarked_malignant, 1):.3f}')\n",
        "\n",
        "print(f'Total accuracy: {get_sensitivity(model, all_test_imgs, all_labels, label_tensor=True):.3f}')"
      ],
      "metadata": {
        "colab": {
          "base_uri": "https://localhost:8080/"
        },
        "id": "uLmZBVdP8b1s",
        "outputId": "d29ba935-a013-4431-9fc1-40c92745f23f"
      },
      "execution_count": 812,
      "outputs": [
        {
          "output_type": "stream",
          "name": "stdout",
          "text": [
            "spiculated benign accuracy: 0.762\n",
            "unspiculated benign accuracy: 0.869\n",
            "spiculated malignant accuracy: 0.793\n",
            "unspiculated malignant accuracy: 0.614\n",
            "Total accuracy: 0.793\n"
          ]
        }
      ]
    },
    {
      "cell_type": "markdown",
      "source": [
        "# Run of 30 test"
      ],
      "metadata": {
        "id": "_VAPWFg9DaGj"
      }
    },
    {
      "cell_type": "code",
      "source": [
        "accuracies = []\n",
        "for run in range(1,11):\n",
        "  model = testModel(device=DEVICE, pretrained=True, freeze=False)\n",
        "  loss_fn = ERMLoss(model,torch.nn.CrossEntropyLoss(),{}) #torch.nn.functional.binary_cross_entropy_with_logits\n",
        "  optimizer = torch.optim.Adam(model.parameters(), lr=0.0005, weight_decay=0.005)#lr=0.001, weight_decay=0.005)\n",
        "  scheduler = ReduceLROnPlateau(optimizer, mode='max', factor=0.2, patience=2, verbose=True)\n",
        "\n",
        "  epochs = 10\n",
        "\n",
        "  for epoch in range(epochs):\n",
        "    print(f\"Epoch {epoch + 1}/{epochs}\")\n",
        "\n",
        "    # train(train_spic_loader, model, loss_fn, optimizer, verbose=True)\n",
        "    train(train_loader, model, loss_fn, optimizer, verbose=True)\n",
        "\n",
        "    model.eval()\n",
        "    with torch.no_grad():\n",
        "      # X,y = next(val_spic_loader)\n",
        "      X,y = next(val_loader)\n",
        "      logits = model(X)\n",
        "      # results = torch.sigmoid(logits)\n",
        "      results = torch.max(logits, dim=1)[1]\n",
        "      # accuracy = torch.sum(torch.round(results) == y)/X.shape[0]\n",
        "      accuracy = torch.sum(results == y)/X.shape[0]\n",
        "\n",
        "    print(f'cv accuracy {accuracy}')\n",
        "    scheduler.step(accuracy)\n",
        "\n",
        "  all_test_imgs = marked_benign+unmarked_benign+marked_malignant+unmarked_malignant\n",
        "  all_labels = torch.tensor([0 for _ in marked_benign+unmarked_benign]+[1 for _ in marked_malignant+unmarked_malignant], device=DEVICE)\n",
        "\n",
        "\n",
        "  print(f'spiculated benign accuracy: {get_sensitivity(model, marked_benign, 0):.3f}')\n",
        "  print(f'unspiculated benign accuracy: {get_sensitivity(model, unmarked_benign, 0):.3f}')\n",
        "  print(f'spiculated malignant accuracy: {get_sensitivity(model, marked_malignant, 1):.3f}')\n",
        "  print(f'unspiculated malignant accuracy: {get_sensitivity(model, unmarked_malignant, 1):.3f}')\n",
        "\n",
        "  print(f'Total accuracy: {get_sensitivity(model, all_test_imgs, all_labels, label_tensor=True):.3f}')\n",
        "  accuracies.append((get_sensitivity(model, marked_benign, 0),\n",
        "                     get_sensitivity(model, unmarked_benign, 0),\n",
        "                     get_sensitivity(model, marked_malignant, 1),\n",
        "                     get_sensitivity(model, unmarked_malignant, 1),\n",
        "                     get_sensitivity(model, all_test_imgs, all_labels, label_tensor=True)))"
      ],
      "metadata": {
        "colab": {
          "base_uri": "https://localhost:8080/"
        },
        "id": "On1AuFGsDZxV",
        "outputId": "0da90129-96b9-4f8f-bed0-3e89c047229b"
      },
      "execution_count": 505,
      "outputs": [
        {
          "output_type": "stream",
          "name": "stdout",
          "text": [
            "Epoch 1/10\n",
            "Average training loss: 0.8367070828874906\n",
            "cv accuracy 0.7549999952316284\n",
            "Epoch 2/10\n",
            "Average training loss: 0.3788029021686978\n",
            "cv accuracy 0.7799999713897705\n",
            "Epoch 3/10\n",
            "Average training loss: 0.28433745933903587\n",
            "cv accuracy 0.8149999976158142\n",
            "Epoch 4/10\n",
            "Average training loss: 0.22291363817122248\n",
            "cv accuracy 0.8149999976158142\n",
            "Epoch 5/10\n",
            "Average training loss: 0.18402280078993904\n",
            "cv accuracy 0.8349999785423279\n",
            "Epoch 6/10\n",
            "Average training loss: 0.17301404455469716\n",
            "cv accuracy 0.8449999690055847\n",
            "Epoch 7/10\n",
            "Average training loss: 0.14012491765121618\n",
            "cv accuracy 0.8199999928474426\n",
            "Epoch 8/10\n",
            "Average training loss: 0.11557818488735291\n",
            "cv accuracy 0.8199999928474426\n",
            "Epoch 9/10\n",
            "Average training loss: 0.14876266206718153\n",
            "cv accuracy 0.7649999856948853\n",
            "Epoch 00009: reducing learning rate of group 0 to 1.0000e-04.\n",
            "Epoch 10/10\n",
            "Average training loss: 0.07026229809141821\n",
            "cv accuracy 0.8650000095367432\n",
            "spiculated benign accuracy: 0.810\n",
            "unspiculated benign accuracy: 0.883\n",
            "spiculated malignant accuracy: 0.756\n",
            "unspiculated malignant accuracy: 0.614\n",
            "Total accuracy: 0.793\n",
            "Epoch 1/10\n",
            "Average training loss: 0.8539309832784865\n",
            "cv accuracy 0.7799999713897705\n",
            "Epoch 2/10\n",
            "Average training loss: 0.37853603313366574\n",
            "cv accuracy 0.7599999904632568\n",
            "Epoch 3/10\n",
            "Average training loss: 0.2825943740705649\n",
            "cv accuracy 0.7749999761581421\n",
            "Epoch 4/10\n",
            "Average training loss: 0.23054593470361498\n",
            "cv accuracy 0.8050000071525574\n",
            "Epoch 5/10\n",
            "Average training loss: 0.1800204058074289\n",
            "cv accuracy 0.8449999690055847\n",
            "Epoch 6/10\n",
            "Average training loss: 0.15321479220357206\n",
            "cv accuracy 0.8499999642372131\n",
            "Epoch 7/10\n",
            "Average training loss: 0.14361458199305666\n",
            "cv accuracy 0.7549999952316284\n",
            "Epoch 8/10\n",
            "Average training loss: 0.13927831624945006\n",
            "cv accuracy 0.7699999809265137\n",
            "Epoch 9/10\n",
            "Average training loss: 0.09658603571976225\n",
            "cv accuracy 0.85999995470047\n",
            "Epoch 10/10\n",
            "Average training loss: 0.13158027299990258\n",
            "cv accuracy 0.7999999523162842\n",
            "spiculated benign accuracy: 0.905\n",
            "unspiculated benign accuracy: 0.883\n",
            "spiculated malignant accuracy: 0.756\n",
            "unspiculated malignant accuracy: 0.614\n",
            "Total accuracy: 0.800\n",
            "Epoch 1/10\n",
            "Average training loss: 0.7699019801285532\n",
            "cv accuracy 0.675000011920929\n",
            "Epoch 2/10\n",
            "Average training loss: 0.38840153565009433\n",
            "cv accuracy 0.7599999904632568\n",
            "Epoch 3/10\n",
            "Average training loss: 0.2911021208597554\n",
            "cv accuracy 0.8399999737739563\n",
            "Epoch 4/10\n",
            "Average training loss: 0.2184147776828872\n",
            "cv accuracy 0.8149999976158142\n",
            "Epoch 5/10\n",
            "Average training loss: 0.16597569775250223\n",
            "cv accuracy 0.8399999737739563\n",
            "Epoch 6/10\n",
            "Average training loss: 0.15492949655486477\n",
            "cv accuracy 0.7149999737739563\n",
            "Epoch 00006: reducing learning rate of group 0 to 1.0000e-04.\n",
            "Epoch 7/10\n",
            "Average training loss: 0.10944923592938317\n",
            "cv accuracy 0.8849999904632568\n",
            "Epoch 8/10\n",
            "Average training loss: 0.044996839922128454\n",
            "cv accuracy 0.8449999690055847\n",
            "Epoch 9/10\n",
            "Average training loss: 0.02671886790388574\n",
            "cv accuracy 0.875\n",
            "Epoch 10/10\n",
            "Average training loss: 0.011247533629001636\n",
            "cv accuracy 0.875\n",
            "Epoch 00010: reducing learning rate of group 0 to 2.0000e-05.\n",
            "spiculated benign accuracy: 0.857\n",
            "unspiculated benign accuracy: 0.903\n",
            "spiculated malignant accuracy: 0.768\n",
            "unspiculated malignant accuracy: 0.684\n",
            "Total accuracy: 0.823\n",
            "Epoch 1/10\n",
            "Average training loss: 0.8324264958500862\n",
            "cv accuracy 0.7199999690055847\n",
            "Epoch 2/10\n",
            "Average training loss: 0.37825911823246217\n",
            "cv accuracy 0.7899999618530273\n",
            "Epoch 3/10\n",
            "Average training loss: 0.29982369765639305\n",
            "cv accuracy 0.8149999976158142\n",
            "Epoch 4/10\n",
            "Average training loss: 0.24403896431128183\n",
            "cv accuracy 0.7549999952316284\n",
            "Epoch 5/10\n",
            "Average training loss: 0.18992906767461035\n",
            "cv accuracy 0.8100000023841858\n",
            "Epoch 6/10\n",
            "Average training loss: 0.17339744605123997\n",
            "cv accuracy 0.7699999809265137\n",
            "Epoch 00006: reducing learning rate of group 0 to 1.0000e-04.\n",
            "Epoch 7/10\n",
            "Average training loss: 0.12497559852070278\n",
            "cv accuracy 0.7749999761581421\n",
            "Epoch 8/10\n",
            "Average training loss: 0.06686373634470834\n",
            "cv accuracy 0.7999999523162842\n",
            "Epoch 9/10\n",
            "Average training loss: 0.03936323293277787\n",
            "cv accuracy 0.824999988079071\n",
            "Epoch 10/10\n",
            "Average training loss: 0.022885108198453154\n",
            "cv accuracy 0.7699999809265137\n",
            "spiculated benign accuracy: 0.905\n",
            "unspiculated benign accuracy: 0.848\n",
            "spiculated malignant accuracy: 0.793\n",
            "unspiculated malignant accuracy: 0.649\n",
            "Total accuracy: 0.800\n",
            "Epoch 1/10\n",
            "Average training loss: 0.7117981240153313\n",
            "cv accuracy 0.73499995470047\n",
            "Epoch 2/10\n",
            "Average training loss: 0.388000247379144\n",
            "cv accuracy 0.7799999713897705\n",
            "Epoch 3/10\n",
            "Average training loss: 0.29475553209582966\n",
            "cv accuracy 0.7249999642372131\n",
            "Epoch 4/10\n",
            "Average training loss: 0.2340567269259029\n",
            "cv accuracy 0.7899999618530273\n",
            "Epoch 5/10\n",
            "Average training loss: 0.1605671335839563\n",
            "cv accuracy 0.7949999570846558\n",
            "Epoch 6/10\n",
            "Average training loss: 0.15165971633460787\n",
            "cv accuracy 0.7999999523162842\n",
            "Epoch 7/10\n",
            "Average training loss: 0.14597535764591563\n",
            "cv accuracy 0.7899999618530273\n",
            "Epoch 8/10\n",
            "Average training loss: 0.1227700003526277\n",
            "cv accuracy 0.8299999833106995\n",
            "Epoch 9/10\n",
            "Average training loss: 0.09897515457123518\n",
            "cv accuracy 0.7799999713897705\n",
            "Epoch 10/10\n",
            "Average training loss: 0.1238404694530699\n",
            "cv accuracy 0.7699999809265137\n",
            "spiculated benign accuracy: 0.857\n",
            "unspiculated benign accuracy: 0.931\n",
            "spiculated malignant accuracy: 0.646\n",
            "unspiculated malignant accuracy: 0.614\n",
            "Total accuracy: 0.790\n",
            "Epoch 1/10\n",
            "Average training loss: 0.7371722343895171\n",
            "cv accuracy 0.8549999594688416\n",
            "Epoch 2/10\n",
            "Average training loss: 0.3574280163480176\n",
            "cv accuracy 0.824999988079071\n",
            "Epoch 3/10\n",
            "Average training loss: 0.2929798641966449\n",
            "cv accuracy 0.824999988079071\n",
            "Epoch 4/10\n",
            "Average training loss: 0.22001096689038807\n",
            "cv accuracy 0.8349999785423279\n",
            "Epoch 00004: reducing learning rate of group 0 to 1.0000e-04.\n",
            "Epoch 5/10\n",
            "Average training loss: 0.1559066323356496\n",
            "cv accuracy 0.7699999809265137\n",
            "Epoch 6/10\n",
            "Average training loss: 0.09158848288158576\n",
            "cv accuracy 0.8399999737739563\n",
            "Epoch 7/10\n",
            "Average training loss: 0.05328415541185273\n",
            "cv accuracy 0.7999999523162842\n",
            "Epoch 00007: reducing learning rate of group 0 to 2.0000e-05.\n",
            "Epoch 8/10\n",
            "Average training loss: 0.04472510881411532\n",
            "cv accuracy 0.8149999976158142\n",
            "Epoch 9/10\n",
            "Average training loss: 0.026021565388267238\n",
            "cv accuracy 0.8149999976158142\n",
            "Epoch 10/10\n",
            "Average training loss: 0.021965495853995282\n",
            "cv accuracy 0.8149999976158142\n",
            "Epoch 00010: reducing learning rate of group 0 to 4.0000e-06.\n",
            "spiculated benign accuracy: 0.762\n",
            "unspiculated benign accuracy: 0.834\n",
            "spiculated malignant accuracy: 0.793\n",
            "unspiculated malignant accuracy: 0.649\n",
            "Total accuracy: 0.784\n",
            "Epoch 1/10\n",
            "Average training loss: 0.74065529803435\n",
            "cv accuracy 0.7049999833106995\n",
            "Epoch 2/10\n",
            "Average training loss: 0.37426140738858116\n",
            "cv accuracy 0.8050000071525574\n",
            "Epoch 3/10\n",
            "Average training loss: 0.2885930848618348\n",
            "cv accuracy 0.7849999666213989\n",
            "Epoch 4/10\n",
            "Average training loss: 0.20334331567088762\n",
            "cv accuracy 0.699999988079071\n",
            "Epoch 5/10\n",
            "Average training loss: 0.17094752854771084\n",
            "cv accuracy 0.8449999690055847\n",
            "Epoch 6/10\n",
            "Average training loss: 0.15732452790770265\n",
            "cv accuracy 0.8100000023841858\n",
            "Epoch 7/10\n",
            "Average training loss: 0.1281183780067497\n",
            "cv accuracy 0.8549999594688416\n",
            "Epoch 8/10\n",
            "Average training loss: 0.14687535849710306\n",
            "cv accuracy 0.8050000071525574\n",
            "Epoch 9/10\n",
            "Average training loss: 0.1210078185217248\n",
            "cv accuracy 0.8399999737739563\n",
            "Epoch 10/10\n",
            "Average training loss: 0.10184554848819971\n",
            "cv accuracy 0.8650000095367432\n",
            "spiculated benign accuracy: 0.714\n",
            "unspiculated benign accuracy: 0.841\n",
            "spiculated malignant accuracy: 0.817\n",
            "unspiculated malignant accuracy: 0.702\n",
            "Total accuracy: 0.800\n",
            "Epoch 1/10\n",
            "Average training loss: 0.7161828974882761\n",
            "cv accuracy 0.7699999809265137\n",
            "Epoch 2/10\n",
            "Average training loss: 0.3732994770010312\n",
            "cv accuracy 0.85999995470047\n",
            "Epoch 3/10\n",
            "Average training loss: 0.31906964464320076\n",
            "cv accuracy 0.7699999809265137\n",
            "Epoch 4/10\n",
            "Average training loss: 0.23833629695905578\n",
            "cv accuracy 0.8299999833106995\n",
            "Epoch 5/10\n",
            "Average training loss: 0.23106630105111334\n",
            "cv accuracy 0.7549999952316284\n",
            "Epoch 00005: reducing learning rate of group 0 to 1.0000e-04.\n",
            "Epoch 6/10\n",
            "Average training loss: 0.14602629095315933\n",
            "cv accuracy 0.8199999928474426\n",
            "Epoch 7/10\n",
            "Average training loss: 0.07507593360626036\n",
            "cv accuracy 0.7999999523162842\n",
            "Epoch 8/10\n",
            "Average training loss: 0.04417615024269455\n",
            "cv accuracy 0.8449999690055847\n",
            "Epoch 00008: reducing learning rate of group 0 to 2.0000e-05.\n",
            "Epoch 9/10\n",
            "Average training loss: 0.033150987699627876\n",
            "cv accuracy 0.8399999737739563\n",
            "Epoch 10/10\n",
            "Average training loss: 0.019649055851106014\n",
            "cv accuracy 0.8299999833106995\n",
            "spiculated benign accuracy: 0.810\n",
            "unspiculated benign accuracy: 0.834\n",
            "spiculated malignant accuracy: 0.805\n",
            "unspiculated malignant accuracy: 0.737\n",
            "Total accuracy: 0.807\n",
            "Epoch 1/10\n",
            "Average training loss: 0.803664080798626\n",
            "cv accuracy 0.7849999666213989\n",
            "Epoch 2/10\n",
            "Average training loss: 0.39370126442776787\n",
            "cv accuracy 0.7699999809265137\n",
            "Epoch 3/10\n",
            "Average training loss: 0.2896909887591998\n",
            "cv accuracy 0.7899999618530273\n",
            "Epoch 4/10\n",
            "Average training loss: 0.21567832988997301\n",
            "cv accuracy 0.8199999928474426\n",
            "Epoch 5/10\n",
            "Average training loss: 0.20645794106854332\n",
            "cv accuracy 0.7549999952316284\n",
            "Epoch 6/10\n",
            "Average training loss: 0.1725669801235199\n",
            "cv accuracy 0.8899999856948853\n",
            "Epoch 7/10\n",
            "Average training loss: 0.12508955504745245\n",
            "cv accuracy 0.7899999618530273\n",
            "Epoch 8/10\n",
            "Average training loss: 0.12888366108139357\n",
            "cv accuracy 0.824999988079071\n",
            "Epoch 9/10\n",
            "Average training loss: 0.1466942916934689\n",
            "cv accuracy 0.7400000095367432\n",
            "Epoch 00009: reducing learning rate of group 0 to 1.0000e-04.\n",
            "Epoch 10/10\n",
            "Average training loss: 0.07575281414513786\n",
            "cv accuracy 0.8349999785423279\n",
            "spiculated benign accuracy: 0.905\n",
            "unspiculated benign accuracy: 0.848\n",
            "spiculated malignant accuracy: 0.756\n",
            "unspiculated malignant accuracy: 0.614\n",
            "Total accuracy: 0.784\n",
            "Epoch 1/10\n",
            "Average training loss: 0.7483389377593994\n",
            "cv accuracy 0.7649999856948853\n",
            "Epoch 2/10\n",
            "Average training loss: 0.3787137178911103\n",
            "cv accuracy 0.8650000095367432\n",
            "Epoch 3/10\n",
            "Average training loss: 0.26725873226920766\n",
            "cv accuracy 0.8199999928474426\n",
            "Epoch 4/10\n",
            "Average training loss: 0.23514033916095892\n",
            "cv accuracy 0.8349999785423279\n",
            "Epoch 5/10\n",
            "Average training loss: 0.18795700702402326\n",
            "cv accuracy 0.7599999904632568\n",
            "Epoch 00005: reducing learning rate of group 0 to 1.0000e-04.\n",
            "Epoch 6/10\n",
            "Average training loss: 0.11788207147684363\n",
            "cv accuracy 0.875\n",
            "Epoch 7/10\n",
            "Average training loss: 0.07079503762846191\n",
            "cv accuracy 0.7999999523162842\n",
            "Epoch 8/10\n",
            "Average training loss: 0.028728441335260868\n",
            "cv accuracy 0.8399999737739563\n",
            "Epoch 9/10\n",
            "Average training loss: 0.02006788739365422\n",
            "cv accuracy 0.7999999523162842\n",
            "Epoch 00009: reducing learning rate of group 0 to 2.0000e-05.\n",
            "Epoch 10/10\n",
            "Average training loss: 0.020632645567982562\n",
            "cv accuracy 0.7899999618530273\n",
            "spiculated benign accuracy: 0.857\n",
            "unspiculated benign accuracy: 0.848\n",
            "spiculated malignant accuracy: 0.829\n",
            "unspiculated malignant accuracy: 0.614\n",
            "Total accuracy: 0.800\n"
          ]
        }
      ]
    },
    {
      "cell_type": "code",
      "source": [
        "len(accuracies)"
      ],
      "metadata": {
        "colab": {
          "base_uri": "https://localhost:8080/"
        },
        "id": "0Y6oQ7-WIgsY",
        "outputId": "6baf652b-9cc5-4003-c310-b8aa12e41cbe"
      },
      "execution_count": 506,
      "outputs": [
        {
          "output_type": "execute_result",
          "data": {
            "text/plain": [
              "10"
            ]
          },
          "metadata": {},
          "execution_count": 506
        }
      ]
    },
    {
      "cell_type": "code",
      "source": [
        "total_acc = list(map(lambda x:x[-1], accuracies), )"
      ],
      "metadata": {
        "id": "aDK6p__uIjeH"
      },
      "execution_count": 507,
      "outputs": []
    },
    {
      "cell_type": "code",
      "source": [
        "sum(total_acc)/len(total_acc)"
      ],
      "metadata": {
        "colab": {
          "base_uri": "https://localhost:8080/"
        },
        "id": "Pw-7G5JdIw6Y",
        "outputId": "9730b577-5f46-4ec6-f515-efe516005832"
      },
      "execution_count": 508,
      "outputs": [
        {
          "output_type": "execute_result",
          "data": {
            "text/plain": [
              "tensor(0.7980, device='cuda:0')"
            ]
          },
          "metadata": {},
          "execution_count": 508
        }
      ]
    },
    {
      "cell_type": "code",
      "source": [
        "accuracies = list(map(lambda x:(float(i) for i in x), accuracies))"
      ],
      "metadata": {
        "id": "HF0WKGhZJUXG"
      },
      "execution_count": 509,
      "outputs": []
    },
    {
      "cell_type": "code",
      "source": [
        "df = pd.DataFrame(accuracies, columns = ['marked_benign', 'unmarked_benign', 'marked_malignant', 'unmarked_malignant', 'entire'])"
      ],
      "metadata": {
        "id": "-LtVK8rqIyj6"
      },
      "execution_count": 510,
      "outputs": []
    },
    {
      "cell_type": "code",
      "source": [
        "df.head()"
      ],
      "metadata": {
        "colab": {
          "base_uri": "https://localhost:8080/",
          "height": 206
        },
        "id": "gV0ZtZ7ZI5Pd",
        "outputId": "4361ad97-39ca-427c-d04d-0cf85095da34"
      },
      "execution_count": 511,
      "outputs": [
        {
          "output_type": "execute_result",
          "data": {
            "text/plain": [
              "   marked_benign  unmarked_benign  marked_malignant  unmarked_malignant  \\\n",
              "0       0.809524         0.882759          0.756098            0.614035   \n",
              "1       0.904762         0.882759          0.756098            0.614035   \n",
              "2       0.857143         0.903448          0.768293            0.684211   \n",
              "3       0.904762         0.848276          0.792683            0.649123   \n",
              "4       0.857143         0.931035          0.646341            0.614035   \n",
              "\n",
              "     entire  \n",
              "0  0.793443  \n",
              "1  0.800000  \n",
              "2  0.822951  \n",
              "3  0.800000  \n",
              "4  0.790164  "
            ],
            "text/html": [
              "\n",
              "  <div id=\"df-41b9150c-4266-4415-9bd5-04a227f7e748\">\n",
              "    <div class=\"colab-df-container\">\n",
              "      <div>\n",
              "<style scoped>\n",
              "    .dataframe tbody tr th:only-of-type {\n",
              "        vertical-align: middle;\n",
              "    }\n",
              "\n",
              "    .dataframe tbody tr th {\n",
              "        vertical-align: top;\n",
              "    }\n",
              "\n",
              "    .dataframe thead th {\n",
              "        text-align: right;\n",
              "    }\n",
              "</style>\n",
              "<table border=\"1\" class=\"dataframe\">\n",
              "  <thead>\n",
              "    <tr style=\"text-align: right;\">\n",
              "      <th></th>\n",
              "      <th>marked_benign</th>\n",
              "      <th>unmarked_benign</th>\n",
              "      <th>marked_malignant</th>\n",
              "      <th>unmarked_malignant</th>\n",
              "      <th>entire</th>\n",
              "    </tr>\n",
              "  </thead>\n",
              "  <tbody>\n",
              "    <tr>\n",
              "      <th>0</th>\n",
              "      <td>0.809524</td>\n",
              "      <td>0.882759</td>\n",
              "      <td>0.756098</td>\n",
              "      <td>0.614035</td>\n",
              "      <td>0.793443</td>\n",
              "    </tr>\n",
              "    <tr>\n",
              "      <th>1</th>\n",
              "      <td>0.904762</td>\n",
              "      <td>0.882759</td>\n",
              "      <td>0.756098</td>\n",
              "      <td>0.614035</td>\n",
              "      <td>0.800000</td>\n",
              "    </tr>\n",
              "    <tr>\n",
              "      <th>2</th>\n",
              "      <td>0.857143</td>\n",
              "      <td>0.903448</td>\n",
              "      <td>0.768293</td>\n",
              "      <td>0.684211</td>\n",
              "      <td>0.822951</td>\n",
              "    </tr>\n",
              "    <tr>\n",
              "      <th>3</th>\n",
              "      <td>0.904762</td>\n",
              "      <td>0.848276</td>\n",
              "      <td>0.792683</td>\n",
              "      <td>0.649123</td>\n",
              "      <td>0.800000</td>\n",
              "    </tr>\n",
              "    <tr>\n",
              "      <th>4</th>\n",
              "      <td>0.857143</td>\n",
              "      <td>0.931035</td>\n",
              "      <td>0.646341</td>\n",
              "      <td>0.614035</td>\n",
              "      <td>0.790164</td>\n",
              "    </tr>\n",
              "  </tbody>\n",
              "</table>\n",
              "</div>\n",
              "      <button class=\"colab-df-convert\" onclick=\"convertToInteractive('df-41b9150c-4266-4415-9bd5-04a227f7e748')\"\n",
              "              title=\"Convert this dataframe to an interactive table.\"\n",
              "              style=\"display:none;\">\n",
              "        \n",
              "  <svg xmlns=\"http://www.w3.org/2000/svg\" height=\"24px\"viewBox=\"0 0 24 24\"\n",
              "       width=\"24px\">\n",
              "    <path d=\"M0 0h24v24H0V0z\" fill=\"none\"/>\n",
              "    <path d=\"M18.56 5.44l.94 2.06.94-2.06 2.06-.94-2.06-.94-.94-2.06-.94 2.06-2.06.94zm-11 1L8.5 8.5l.94-2.06 2.06-.94-2.06-.94L8.5 2.5l-.94 2.06-2.06.94zm10 10l.94 2.06.94-2.06 2.06-.94-2.06-.94-.94-2.06-.94 2.06-2.06.94z\"/><path d=\"M17.41 7.96l-1.37-1.37c-.4-.4-.92-.59-1.43-.59-.52 0-1.04.2-1.43.59L10.3 9.45l-7.72 7.72c-.78.78-.78 2.05 0 2.83L4 21.41c.39.39.9.59 1.41.59.51 0 1.02-.2 1.41-.59l7.78-7.78 2.81-2.81c.8-.78.8-2.07 0-2.86zM5.41 20L4 18.59l7.72-7.72 1.47 1.35L5.41 20z\"/>\n",
              "  </svg>\n",
              "      </button>\n",
              "      \n",
              "  <style>\n",
              "    .colab-df-container {\n",
              "      display:flex;\n",
              "      flex-wrap:wrap;\n",
              "      gap: 12px;\n",
              "    }\n",
              "\n",
              "    .colab-df-convert {\n",
              "      background-color: #E8F0FE;\n",
              "      border: none;\n",
              "      border-radius: 50%;\n",
              "      cursor: pointer;\n",
              "      display: none;\n",
              "      fill: #1967D2;\n",
              "      height: 32px;\n",
              "      padding: 0 0 0 0;\n",
              "      width: 32px;\n",
              "    }\n",
              "\n",
              "    .colab-df-convert:hover {\n",
              "      background-color: #E2EBFA;\n",
              "      box-shadow: 0px 1px 2px rgba(60, 64, 67, 0.3), 0px 1px 3px 1px rgba(60, 64, 67, 0.15);\n",
              "      fill: #174EA6;\n",
              "    }\n",
              "\n",
              "    [theme=dark] .colab-df-convert {\n",
              "      background-color: #3B4455;\n",
              "      fill: #D2E3FC;\n",
              "    }\n",
              "\n",
              "    [theme=dark] .colab-df-convert:hover {\n",
              "      background-color: #434B5C;\n",
              "      box-shadow: 0px 1px 3px 1px rgba(0, 0, 0, 0.15);\n",
              "      filter: drop-shadow(0px 1px 2px rgba(0, 0, 0, 0.3));\n",
              "      fill: #FFFFFF;\n",
              "    }\n",
              "  </style>\n",
              "\n",
              "      <script>\n",
              "        const buttonEl =\n",
              "          document.querySelector('#df-41b9150c-4266-4415-9bd5-04a227f7e748 button.colab-df-convert');\n",
              "        buttonEl.style.display =\n",
              "          google.colab.kernel.accessAllowed ? 'block' : 'none';\n",
              "\n",
              "        async function convertToInteractive(key) {\n",
              "          const element = document.querySelector('#df-41b9150c-4266-4415-9bd5-04a227f7e748');\n",
              "          const dataTable =\n",
              "            await google.colab.kernel.invokeFunction('convertToInteractive',\n",
              "                                                     [key], {});\n",
              "          if (!dataTable) return;\n",
              "\n",
              "          const docLinkHtml = 'Like what you see? Visit the ' +\n",
              "            '<a target=\"_blank\" href=https://colab.research.google.com/notebooks/data_table.ipynb>data table notebook</a>'\n",
              "            + ' to learn more about interactive tables.';\n",
              "          element.innerHTML = '';\n",
              "          dataTable['output_type'] = 'display_data';\n",
              "          await google.colab.output.renderOutput(dataTable, element);\n",
              "          const docLink = document.createElement('div');\n",
              "          docLink.innerHTML = docLinkHtml;\n",
              "          element.appendChild(docLink);\n",
              "        }\n",
              "      </script>\n",
              "    </div>\n",
              "  </div>\n",
              "  "
            ]
          },
          "metadata": {},
          "execution_count": 511
        }
      ]
    },
    {
      "cell_type": "code",
      "source": [
        "df.to_csv('cnn_erm_accuracies.csv')"
      ],
      "metadata": {
        "id": "yEnoVvURI7dK"
      },
      "execution_count": 512,
      "outputs": []
    },
    {
      "cell_type": "code",
      "source": [
        "boxplot = df.boxplot(column=['marked_benign', 'unmarked_benign', 'marked_malignant', 'unmarked_malignant', 'entire'], figsize = (10,10))  "
      ],
      "metadata": {
        "colab": {
          "base_uri": "https://localhost:8080/",
          "height": 592
        },
        "id": "fADDGXegdvPU",
        "outputId": "661a87d2-425e-40ce-e9d2-76c19010bac8"
      },
      "execution_count": 513,
      "outputs": [
        {
          "output_type": "display_data",
          "data": {
            "text/plain": [
              "<Figure size 720x720 with 1 Axes>"
            ],
            "image/png": "[encoded data removed]"
          },
          "metadata": {
            "needs_background": "light"
          }
        }
      ]
    },
    {
      "cell_type": "code",
      "source": [
        ""
      ],
      "metadata": {
        "id": "diyXOH-bdyjX"
      },
      "execution_count": null,
      "outputs": []
    }
  ],
  "metadata": {
    "language_info": {
      "name": "python"
    },
    "orig_nbformat": 4,
    "colab": {
      "name": "lidc_cnn_ERM.ipynb",
      "provenance": [],
      "include_colab_link": true
    },
    "kernelspec": {
      "name": "python3",
      "display_name": "Python 3"
    },
    "gpuClass": "standard",
    "accelerator": "GPU"
  },
  "nbformat": 4,
  "nbformat_minor": 0
}