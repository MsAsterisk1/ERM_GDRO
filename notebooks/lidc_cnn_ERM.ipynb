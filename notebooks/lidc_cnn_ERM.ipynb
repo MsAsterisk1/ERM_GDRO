{
  "cells": [
    {
      "cell_type": "markdown",
      "metadata": {
        "id": "view-in-github",
        "colab_type": "text"
      },
      "source": [
        "<a href=\"https://colab.research.google.com/github/mtzig/LIDC_GDRO/blob/main/notebooks/lidc_cnn_ERM.ipynb\" target=\"_parent\"><img src=\"https://colab.research.google.com/assets/colab-badge.svg\" alt=\"Open In Colab\"/></a>"
      ]
    },
    {
      "cell_type": "markdown",
      "metadata": {
        "id": "aXP5BUZY7SbH"
      },
      "source": [
        "#ERM CNN Model for Malignancy"
      ]
    },
    {
      "cell_type": "markdown",
      "source": [
        "#First We setup the repo"
      ],
      "metadata": {
        "id": "3mlU0-uy8Ez3"
      }
    },
    {
      "cell_type": "code",
      "execution_count": 4,
      "metadata": {
        "id": "DMqJTbcB7SbG",
        "outputId": "88b8e5a4-8192-4de6-d2d7-7c2130d3528c",
        "colab": {
          "base_uri": "https://localhost:8080/"
        }
      },
      "outputs": [
        {
          "output_type": "stream",
          "name": "stdout",
          "text": [
            "Cloning into 'LIDC_GDRO'...\n",
            "remote: Enumerating objects: 3040, done.\u001b[K\n",
            "remote: Counting objects: 100% (115/115), done.\u001b[K\n",
            "remote: Compressing objects: 100% (82/82), done.\u001b[K\n",
            "remote: Total 3040 (delta 61), reused 77 (delta 33), pack-reused 2925\u001b[K\n",
            "Receiving objects: 100% (3040/3040), 39.77 MiB | 27.41 MiB/s, done.\n",
            "Resolving deltas: 100% (2873/2873), done.\n",
            "Checking out files: 100% (5384/5384), done.\n",
            "/content/LIDC_GDRO\n"
          ]
        }
      ],
      "source": [
        "# Only run if on Colab\n",
        "\n",
        "!git clone https://github.com/mtzig/LIDC_GDRO.git\n",
        "%cd /content/LIDC_GDRO"
      ]
    },
    {
      "cell_type": "code",
      "execution_count": null,
      "metadata": {
        "id": "FfxoU2RZ7SbI"
      },
      "outputs": [],
      "source": [
        "#!git pull"
      ]
    },
    {
      "cell_type": "code",
      "source": [
        "%load_ext autoreload\n",
        "%autoreload 2"
      ],
      "metadata": {
        "id": "BoTdOzRN7hbW"
      },
      "execution_count": 2,
      "outputs": []
    },
    {
      "cell_type": "code",
      "source": [
        "import os\n",
        "import torch\n",
        "import pandas as pd\n",
        "import numpy as np\n",
        "from datasets import NoduleDataset\n",
        "from dataloaders import SubtypedDataLoader"
      ],
      "metadata": {
        "id": "Gor5x5428B0V"
      },
      "execution_count": 5,
      "outputs": []
    },
    {
      "cell_type": "code",
      "source": [
        "if torch.cuda.is_available():\n",
        "    print(\"Good to go!\")\n",
        "    DEVICE = torch.device(\"cuda\")\n",
        "else:\n",
        "    print(\"Using cpu\")\n",
        "    DEVICE = torch.device(\"cpu\")"
      ],
      "metadata": {
        "id": "X6Vy4YCE8UHA",
        "outputId": "7f381b0b-2324-4794-e6c1-574c179a91f9",
        "colab": {
          "base_uri": "https://localhost:8080/"
        }
      },
      "execution_count": 6,
      "outputs": [
        {
          "output_type": "stream",
          "name": "stdout",
          "text": [
            "Using cpu\n"
          ]
        }
      ]
    },
    {
      "cell_type": "markdown",
      "source": [
        "#Next We get our data"
      ],
      "metadata": {
        "id": "XHCAFpSD8WpI"
      }
    }
  ],
  "metadata": {
    "language_info": {
      "name": "python"
    },
    "orig_nbformat": 4,
    "colab": {
      "name": "lidc_cnn_ERM.ipynb",
      "provenance": [],
      "include_colab_link": true
    },
    "kernelspec": {
      "name": "python3",
      "display_name": "Python 3"
    },
    "gpuClass": "standard"
  },
  "nbformat": 4,
  "nbformat_minor": 0
}