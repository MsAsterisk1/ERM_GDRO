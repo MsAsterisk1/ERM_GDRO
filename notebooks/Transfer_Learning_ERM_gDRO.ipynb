{
 "cells": [
  {
   "cell_type": "markdown",
   "id": "ab65c8f4",
   "metadata": {},
   "source": [
    "#LIDC Transfer Learning Model: ERM and gDRO Comparisons\n",
    "\n",
    "Thomas Zeng 7/8/2022\n",
    "\n",
    "In this notebook, we do data analysis to compare results on the ERM and gDRO model. Both models had exactly the same hyperparameters except for loss function and were trained 50 times."
   ]
  },
  {
   "cell_type": "markdown",
   "id": "1f1c7826",
   "metadata": {},
   "source": [
    "##Notebook Setup"
   ]
  },
  {
   "cell_type": "code",
   "execution_count": 1,
   "id": "f793075c",
   "metadata": {},
   "outputs": [],
   "source": [
    "%load_ext autoreload\n",
    "%autoreload 2"
   ]
  },
  {
   "cell_type": "code",
   "execution_count": 2,
   "id": "31c7eb67",
   "metadata": {},
   "outputs": [],
   "source": [
    "import pandas as pd\n",
    "import numpy as np\n",
    "import seaborn as sns\n",
    "import matplotlib.pyplot as plt\n",
    "from scipy.stats import ttest_ind"
   ]
  },
  {
   "cell_type": "markdown",
   "id": "5934a833",
   "metadata": {},
   "source": [
    "##Get Dataframes"
   ]
  },
  {
   "cell_type": "code",
   "execution_count": 3,
   "id": "1e0ec43b",
   "metadata": {},
   "outputs": [],
   "source": [
    "names = {'entire': 'overall', \n",
    "         'marked_benign':'spiculated benign', \n",
    "         'unmarked_benign':'unspiculated benign', \n",
    "         'marked_malignant':'spiculated malignant',\n",
    "         'unmarked_malignant':'unspiculated malignant'}"
   ]
  },
  {
   "cell_type": "code",
   "execution_count": 4,
   "id": "6280ca96",
   "metadata": {},
   "outputs": [
    {
     "data": {
      "text/html": [
       "<div>\n",
       "<style scoped>\n",
       "    .dataframe tbody tr th:only-of-type {\n",
       "        vertical-align: middle;\n",
       "    }\n",
       "\n",
       "    .dataframe tbody tr th {\n",
       "        vertical-align: top;\n",
       "    }\n",
       "\n",
       "    .dataframe thead th {\n",
       "        text-align: right;\n",
       "    }\n",
       "</style>\n",
       "<table border=\"1\" class=\"dataframe\">\n",
       "  <thead>\n",
       "    <tr style=\"text-align: right;\">\n",
       "      <th></th>\n",
       "      <th>overall</th>\n",
       "      <th>spiculated benign</th>\n",
       "      <th>unspiculated benign</th>\n",
       "      <th>spiculated malignant</th>\n",
       "      <th>unspiculated malignant</th>\n",
       "    </tr>\n",
       "  </thead>\n",
       "  <tbody>\n",
       "    <tr>\n",
       "      <th>0</th>\n",
       "      <td>0.849180</td>\n",
       "      <td>0.736842</td>\n",
       "      <td>0.913669</td>\n",
       "      <td>0.876404</td>\n",
       "      <td>0.689655</td>\n",
       "    </tr>\n",
       "    <tr>\n",
       "      <th>1</th>\n",
       "      <td>0.822951</td>\n",
       "      <td>0.588235</td>\n",
       "      <td>0.827338</td>\n",
       "      <td>0.868132</td>\n",
       "      <td>0.810345</td>\n",
       "    </tr>\n",
       "    <tr>\n",
       "      <th>2</th>\n",
       "      <td>0.773770</td>\n",
       "      <td>0.793103</td>\n",
       "      <td>0.772414</td>\n",
       "      <td>0.835616</td>\n",
       "      <td>0.689655</td>\n",
       "    </tr>\n",
       "    <tr>\n",
       "      <th>3</th>\n",
       "      <td>0.845902</td>\n",
       "      <td>0.764706</td>\n",
       "      <td>0.836735</td>\n",
       "      <td>0.912500</td>\n",
       "      <td>0.803279</td>\n",
       "    </tr>\n",
       "    <tr>\n",
       "      <th>4</th>\n",
       "      <td>0.868852</td>\n",
       "      <td>0.842105</td>\n",
       "      <td>0.910345</td>\n",
       "      <td>0.883721</td>\n",
       "      <td>0.745455</td>\n",
       "    </tr>\n",
       "  </tbody>\n",
       "</table>\n",
       "</div>"
      ],
      "text/plain": [
       "    overall  spiculated benign  unspiculated benign  spiculated malignant  \\\n",
       "0  0.849180           0.736842             0.913669              0.876404   \n",
       "1  0.822951           0.588235             0.827338              0.868132   \n",
       "2  0.773770           0.793103             0.772414              0.835616   \n",
       "3  0.845902           0.764706             0.836735              0.912500   \n",
       "4  0.868852           0.842105             0.910345              0.883721   \n",
       "\n",
       "   unspiculated malignant  \n",
       "0                0.689655  \n",
       "1                0.810345  \n",
       "2                0.689655  \n",
       "3                0.803279  \n",
       "4                0.745455  "
      ]
     },
     "execution_count": 4,
     "metadata": {},
     "output_type": "execute_result"
    }
   ],
   "source": [
    "df_erm = pd.read_csv('../data/cnn_erm_accuracies.csv', index_col=0)\n",
    "df_erm.rename(columns=names, inplace=True)\n",
    "df_erm.head()"
   ]
  },
  {
   "cell_type": "code",
   "execution_count": 5,
   "id": "f3172bd6",
   "metadata": {},
   "outputs": [
    {
     "data": {
      "text/html": [
       "<div>\n",
       "<style scoped>\n",
       "    .dataframe tbody tr th:only-of-type {\n",
       "        vertical-align: middle;\n",
       "    }\n",
       "\n",
       "    .dataframe tbody tr th {\n",
       "        vertical-align: top;\n",
       "    }\n",
       "\n",
       "    .dataframe thead th {\n",
       "        text-align: right;\n",
       "    }\n",
       "</style>\n",
       "<table border=\"1\" class=\"dataframe\">\n",
       "  <thead>\n",
       "    <tr style=\"text-align: right;\">\n",
       "      <th></th>\n",
       "      <th>overall</th>\n",
       "      <th>spiculated benign</th>\n",
       "      <th>unspiculated benign</th>\n",
       "      <th>spiculated malignant</th>\n",
       "      <th>unspiculated malignant</th>\n",
       "    </tr>\n",
       "  </thead>\n",
       "  <tbody>\n",
       "    <tr>\n",
       "      <th>0</th>\n",
       "      <td>0.832787</td>\n",
       "      <td>0.791667</td>\n",
       "      <td>0.872180</td>\n",
       "      <td>0.895349</td>\n",
       "      <td>0.677419</td>\n",
       "    </tr>\n",
       "    <tr>\n",
       "      <th>1</th>\n",
       "      <td>0.855738</td>\n",
       "      <td>0.785714</td>\n",
       "      <td>0.892617</td>\n",
       "      <td>0.886076</td>\n",
       "      <td>0.734694</td>\n",
       "    </tr>\n",
       "    <tr>\n",
       "      <th>2</th>\n",
       "      <td>0.822951</td>\n",
       "      <td>0.764706</td>\n",
       "      <td>0.876812</td>\n",
       "      <td>0.791667</td>\n",
       "      <td>0.759259</td>\n",
       "    </tr>\n",
       "    <tr>\n",
       "      <th>3</th>\n",
       "      <td>0.800000</td>\n",
       "      <td>1.000000</td>\n",
       "      <td>0.813433</td>\n",
       "      <td>0.817204</td>\n",
       "      <td>0.666667</td>\n",
       "    </tr>\n",
       "    <tr>\n",
       "      <th>4</th>\n",
       "      <td>0.839344</td>\n",
       "      <td>0.850000</td>\n",
       "      <td>0.867550</td>\n",
       "      <td>0.862069</td>\n",
       "      <td>0.702128</td>\n",
       "    </tr>\n",
       "  </tbody>\n",
       "</table>\n",
       "</div>"
      ],
      "text/plain": [
       "    overall  spiculated benign  unspiculated benign  spiculated malignant  \\\n",
       "0  0.832787           0.791667             0.872180              0.895349   \n",
       "1  0.855738           0.785714             0.892617              0.886076   \n",
       "2  0.822951           0.764706             0.876812              0.791667   \n",
       "3  0.800000           1.000000             0.813433              0.817204   \n",
       "4  0.839344           0.850000             0.867550              0.862069   \n",
       "\n",
       "   unspiculated malignant  \n",
       "0                0.677419  \n",
       "1                0.734694  \n",
       "2                0.759259  \n",
       "3                0.666667  \n",
       "4                0.702128  "
      ]
     },
     "execution_count": 5,
     "metadata": {},
     "output_type": "execute_result"
    }
   ],
   "source": [
    "df_gdro = pd.read_csv('../data/cnn_gdro_accuracies.csv', index_col=0)\n",
    "df_gdro.rename(columns=names, inplace=True)\n",
    "df_gdro.head()"
   ]
  },
  {
   "cell_type": "markdown",
   "id": "f0c27914",
   "metadata": {},
   "source": [
    "##Data Analysis "
   ]
  },
  {
   "cell_type": "markdown",
   "id": "986d9e29",
   "metadata": {},
   "source": [
    "###First we look at the mean overall accuracies and mean subgroup sensitivities"
   ]
  },
  {
   "cell_type": "code",
   "execution_count": 6,
   "id": "28e33253",
   "metadata": {},
   "outputs": [
    {
     "data": {
      "text/plain": [
       "overall                   0.832393\n",
       "spiculated benign         0.768231\n",
       "unspiculated benign       0.867646\n",
       "spiculated malignant      0.865414\n",
       "unspiculated malignant    0.710276\n",
       "dtype: float64"
      ]
     },
     "execution_count": 6,
     "metadata": {},
     "output_type": "execute_result"
    }
   ],
   "source": [
    "df_erm.mean()"
   ]
  },
  {
   "cell_type": "code",
   "execution_count": 7,
   "id": "ce1c14b8",
   "metadata": {},
   "outputs": [
    {
     "data": {
      "text/plain": [
       "overall                   0.827213\n",
       "spiculated benign         0.775939\n",
       "unspiculated benign       0.856396\n",
       "spiculated malignant      0.861041\n",
       "unspiculated malignant    0.720941\n",
       "dtype: float64"
      ]
     },
     "execution_count": 7,
     "metadata": {},
     "output_type": "execute_result"
    }
   ],
   "source": [
    "df_gdro.mean()"
   ]
  },
  {
   "cell_type": "markdown",
   "id": "82f28305",
   "metadata": {},
   "source": [
    "###Now We plost histograms"
   ]
  },
  {
   "cell_type": "code",
   "execution_count": 8,
   "id": "b80d476c",
   "metadata": {},
   "outputs": [],
   "source": [
    "bins = np.arange(0.4,1,0.05)"
   ]
  },
  {
   "cell_type": "code",
   "execution_count": 9,
   "id": "43a4a303",
   "metadata": {},
   "outputs": [
    {
     "data": {
      "image/png": "[encoded data removed]",
      "text/plain": [
       "<Figure size 432x288 with 1 Axes>"
      ]
     },
     "metadata": {
      "needs_background": "light"
     },
     "output_type": "display_data"
    },
    {
     "data": {
      "image/png": "[encoded data removed]",
      "text/plain": [
       "<Figure size 432x288 with 1 Axes>"
      ]
     },
     "metadata": {
      "needs_background": "light"
     },
     "output_type": "display_data"
    },
    {
     "data": {
      "image/png": "[encoded data removed]",
      "text/plain": [
       "<Figure size 432x288 with 1 Axes>"
      ]
     },
     "metadata": {
      "needs_background": "light"
     },
     "output_type": "display_data"
    },
    {
     "data": {
      "image/png": "[encoded data removed]",
      "text/plain": [
       "<Figure size 432x288 with 1 Axes>"
      ]
     },
     "metadata": {
      "needs_background": "light"
     },
     "output_type": "display_data"
    },
    {
     "data": {
      "image/png": "[encoded data removed]",
      "text/plain": [
       "<Figure size 432x288 with 1 Axes>"
      ]
     },
     "metadata": {
      "needs_background": "light"
     },
     "output_type": "display_data"
    }
   ],
   "source": [
    "for idx, col in enumerate(df_erm.columns):\n",
    "    plt.figure(idx)\n",
    "    plt.ylim(0,40)\n",
    "    sns.histplot(df_erm[col],bins=bins)"
   ]
  },
  {
   "cell_type": "code",
   "execution_count": 10,
   "id": "728d71da",
   "metadata": {},
   "outputs": [
    {
     "data": {
      "image/png": "[encoded data removed]",
      "text/plain": [
       "<Figure size 432x288 with 1 Axes>"
      ]
     },
     "metadata": {
      "needs_background": "light"
     },
     "output_type": "display_data"
    },
    {
     "data": {
      "image/png": "[encoded data removed]",
      "text/plain": [
       "<Figure size 432x288 with 1 Axes>"
      ]
     },
     "metadata": {
      "needs_background": "light"
     },
     "output_type": "display_data"
    },
    {
     "data": {
      "image/png": "[encoded data removed]",
      "text/plain": [
       "<Figure size 432x288 with 1 Axes>"
      ]
     },
     "metadata": {
      "needs_background": "light"
     },
     "output_type": "display_data"
    },
    {
     "data": {
      "image/png": "[encoded data removed]",
      "text/plain": [
       "<Figure size 432x288 with 1 Axes>"
      ]
     },
     "metadata": {
      "needs_background": "light"
     },
     "output_type": "display_data"
    },
    {
     "data": {
      "image/png": "[encoded data removed]",
      "text/plain": [
       "<Figure size 432x288 with 1 Axes>"
      ]
     },
     "metadata": {
      "needs_background": "light"
     },
     "output_type": "display_data"
    }
   ],
   "source": [
    "for idx, col in enumerate(df_gdro.columns):\n",
    "    plt.figure(idx)\n",
    "    plt.ylim(0,40)\n",
    "    sns.histplot(df_gdro[col],bins=bins)"
   ]
  },
  {
   "cell_type": "markdown",
   "id": "35024590",
   "metadata": {},
   "source": [
    "###Now We make boxplots"
   ]
  },
  {
   "cell_type": "code",
   "execution_count": 11,
   "id": "7a62a42f",
   "metadata": {},
   "outputs": [
    {
     "data": {
      "text/plain": [
       "(0.4, 1.01)"
      ]
     },
     "execution_count": 11,
     "metadata": {},
     "output_type": "execute_result"
    },
    {
     "data": {
      "image/png": "[encoded data removed]",
      "text/plain": [
       "<Figure size 1080x720 with 1 Axes>"
      ]
     },
     "metadata": {
      "needs_background": "light"
     },
     "output_type": "display_data"
    }
   ],
   "source": [
    "df_erm.boxplot(grid=False,figsize=(15,10)).set_ylim(0.4, 1.01)"
   ]
  },
  {
   "cell_type": "code",
   "execution_count": 12,
   "id": "f9ab97ba",
   "metadata": {},
   "outputs": [
    {
     "data": {
      "text/plain": [
       "(0.4, 1.01)"
      ]
     },
     "execution_count": 12,
     "metadata": {},
     "output_type": "execute_result"
    },
    {
     "data": {
      "image/png": "[encoded data removed]",
      "text/plain": [
       "<Figure size 1080x720 with 1 Axes>"
      ]
     },
     "metadata": {
      "needs_background": "light"
     },
     "output_type": "display_data"
    }
   ],
   "source": [
    "df_gdro.boxplot(grid=False,figsize=(15,10)).set_ylim(0.4, 1.01)"
   ]
  },
  {
   "cell_type": "markdown",
   "id": "1bb856f8",
   "metadata": {},
   "source": [
    "###Now We do T-Testing"
   ]
  },
  {
   "cell_type": "code",
   "execution_count": 13,
   "id": "4b1efa1b",
   "metadata": {},
   "outputs": [
    {
     "name": "stdout",
     "output_type": "stream",
     "text": [
      "overall                 0.302\n",
      "spiculated benign       0.742\n",
      "unspiculated benign     0.117\n",
      "spiculated malignant    0.64\n",
      "unspiculated malignant  0.46\n"
     ]
    }
   ],
   "source": [
    "ttests = zip(df_erm.columns, ttest_ind(df_erm, df_gdro)[1])\n",
    "for name, val in ttests:\n",
    "    print(f'{name:<23} {val:.3}')"
   ]
  }
 ],
 "metadata": {
  "kernelspec": {
   "display_name": "REU",
   "language": "python",
   "name": "reu"
  },
  "language_info": {
   "codemirror_mode": {
    "name": "ipython",
    "version": 3
   },
   "file_extension": ".py",
   "mimetype": "text/x-python",
   "name": "python",
   "nbconvert_exporter": "python",
   "pygments_lexer": "ipython3",
   "version": "3.10.5"
  }
 },
 "nbformat": 4,
 "nbformat_minor": 5
}
