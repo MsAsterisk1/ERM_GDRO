{
 "cells": [
  {
   "cell_type": "markdown",
   "id": "ab65c8f4",
   "metadata": {},
   "source": [
    "#LIDC Transfer Learning Model: ERM and gDRO Comparisons\n",
    "\n",
    "Thomas Zeng 7/8/2022\n",
    "\n",
    "In this notebook, we do data analysis to compare results on the ERM and gDRO model. Both models had exactly the same hyperparameters except for loss function and were trained 50 times."
   ]
  },
  {
   "cell_type": "markdown",
   "id": "1f1c7826",
   "metadata": {},
   "source": [
    "##Notebook Setup"
   ]
  },
  {
   "cell_type": "code",
   "execution_count": 2,
   "id": "f793075c",
   "metadata": {},
   "outputs": [],
   "source": [
    "%load_ext autoreload\n",
    "%autoreload 2"
   ]
  },
  {
   "cell_type": "code",
   "execution_count": 3,
   "id": "31c7eb67",
   "metadata": {},
   "outputs": [],
   "source": [
    "import pandas as pd\n",
    "import numpy as np\n",
    "import seaborn as sns\n",
    "import matplotlib.pyplot as plt\n",
    "from scipy.stats import ttest_ind\n",
    "import statsmodels.api as sm"
   ]
  },
  {
   "cell_type": "markdown",
   "id": "5934a833",
   "metadata": {},
   "source": [
    "##Get Dataframes"
   ]
  },
  {
   "cell_type": "code",
   "execution_count": 3,
   "id": "1e0ec43b",
   "metadata": {},
   "outputs": [],
   "source": [
    "# names = {'entire': 'overall', \n",
    "#          'marked_benign':'spiculated benign', \n",
    "#          'unmarked_benign':'unspiculated benign', \n",
    "#          'marked_malignant':'spiculated malignant',\n",
    "#          'unmarked_malignant':'unspiculated malignant'}"
   ]
  },
  {
   "cell_type": "code",
   "execution_count": 41,
   "id": "6280ca96",
   "metadata": {},
   "outputs": [
    {
     "data": {
      "text/html": [
       "<div>\n",
       "<style scoped>\n",
       "    .dataframe tbody tr th:only-of-type {\n",
       "        vertical-align: middle;\n",
       "    }\n",
       "\n",
       "    .dataframe tbody tr th {\n",
       "        vertical-align: top;\n",
       "    }\n",
       "\n",
       "    .dataframe thead th {\n",
       "        text-align: right;\n",
       "    }\n",
       "</style>\n",
       "<table border=\"1\" class=\"dataframe\">\n",
       "  <thead>\n",
       "    <tr style=\"text-align: right;\">\n",
       "      <th></th>\n",
       "      <th>entire</th>\n",
       "      <th>0</th>\n",
       "      <th>1</th>\n",
       "      <th>2</th>\n",
       "      <th>4</th>\n",
       "    </tr>\n",
       "  </thead>\n",
       "  <tbody>\n",
       "    <tr>\n",
       "      <th>0</th>\n",
       "      <td>0.867110</td>\n",
       "      <td>0.864865</td>\n",
       "      <td>0.830986</td>\n",
       "      <td>0.842105</td>\n",
       "      <td>0.976744</td>\n",
       "    </tr>\n",
       "    <tr>\n",
       "      <th>1</th>\n",
       "      <td>0.883721</td>\n",
       "      <td>0.839286</td>\n",
       "      <td>0.868852</td>\n",
       "      <td>0.916667</td>\n",
       "      <td>0.954545</td>\n",
       "    </tr>\n",
       "    <tr>\n",
       "      <th>2</th>\n",
       "      <td>0.873754</td>\n",
       "      <td>0.877358</td>\n",
       "      <td>0.808219</td>\n",
       "      <td>0.897727</td>\n",
       "      <td>0.941176</td>\n",
       "    </tr>\n",
       "    <tr>\n",
       "      <th>3</th>\n",
       "      <td>0.853821</td>\n",
       "      <td>0.902913</td>\n",
       "      <td>0.685714</td>\n",
       "      <td>0.858974</td>\n",
       "      <td>0.980000</td>\n",
       "    </tr>\n",
       "    <tr>\n",
       "      <th>4</th>\n",
       "      <td>0.850498</td>\n",
       "      <td>0.821782</td>\n",
       "      <td>0.792683</td>\n",
       "      <td>0.901408</td>\n",
       "      <td>0.936170</td>\n",
       "    </tr>\n",
       "  </tbody>\n",
       "</table>\n",
       "</div>"
      ],
      "text/plain": [
       "     entire         0         1         2         4\n",
       "0  0.867110  0.864865  0.830986  0.842105  0.976744\n",
       "1  0.883721  0.839286  0.868852  0.916667  0.954545\n",
       "2  0.873754  0.877358  0.808219  0.897727  0.941176\n",
       "3  0.853821  0.902913  0.685714  0.858974  0.980000\n",
       "4  0.850498  0.821782  0.792683  0.901408  0.936170"
      ]
     },
     "execution_count": 41,
     "metadata": {},
     "output_type": "execute_result"
    }
   ],
   "source": [
    "df_erm = pd.read_csv('../data/cluser_fixed_erm_spic_results.csv', index_col=0)\n",
    "# df_erm.rename(columns=names, inplace=True)\n",
    "df_erm.head()"
   ]
  },
  {
   "cell_type": "code",
   "execution_count": 42,
   "id": "f3172bd6",
   "metadata": {},
   "outputs": [
    {
     "data": {
      "text/html": [
       "<div>\n",
       "<style scoped>\n",
       "    .dataframe tbody tr th:only-of-type {\n",
       "        vertical-align: middle;\n",
       "    }\n",
       "\n",
       "    .dataframe tbody tr th {\n",
       "        vertical-align: top;\n",
       "    }\n",
       "\n",
       "    .dataframe thead th {\n",
       "        text-align: right;\n",
       "    }\n",
       "</style>\n",
       "<table border=\"1\" class=\"dataframe\">\n",
       "  <thead>\n",
       "    <tr style=\"text-align: right;\">\n",
       "      <th></th>\n",
       "      <th>entire</th>\n",
       "      <th>0</th>\n",
       "      <th>1</th>\n",
       "      <th>2</th>\n",
       "      <th>4</th>\n",
       "    </tr>\n",
       "  </thead>\n",
       "  <tbody>\n",
       "    <tr>\n",
       "      <th>0</th>\n",
       "      <td>0.890365</td>\n",
       "      <td>0.876106</td>\n",
       "      <td>0.837500</td>\n",
       "      <td>0.971831</td>\n",
       "      <td>0.891892</td>\n",
       "    </tr>\n",
       "    <tr>\n",
       "      <th>1</th>\n",
       "      <td>0.873754</td>\n",
       "      <td>0.863309</td>\n",
       "      <td>0.836364</td>\n",
       "      <td>0.943662</td>\n",
       "      <td>0.833333</td>\n",
       "    </tr>\n",
       "    <tr>\n",
       "      <th>2</th>\n",
       "      <td>0.880399</td>\n",
       "      <td>0.870968</td>\n",
       "      <td>0.777778</td>\n",
       "      <td>0.948052</td>\n",
       "      <td>0.945946</td>\n",
       "    </tr>\n",
       "    <tr>\n",
       "      <th>3</th>\n",
       "      <td>0.870432</td>\n",
       "      <td>0.834711</td>\n",
       "      <td>0.914286</td>\n",
       "      <td>0.853333</td>\n",
       "      <td>0.942857</td>\n",
       "    </tr>\n",
       "    <tr>\n",
       "      <th>4</th>\n",
       "      <td>0.893688</td>\n",
       "      <td>0.936364</td>\n",
       "      <td>0.875000</td>\n",
       "      <td>0.841463</td>\n",
       "      <td>0.918919</td>\n",
       "    </tr>\n",
       "  </tbody>\n",
       "</table>\n",
       "</div>"
      ],
      "text/plain": [
       "     entire         0         1         2         4\n",
       "0  0.890365  0.876106  0.837500  0.971831  0.891892\n",
       "1  0.873754  0.863309  0.836364  0.943662  0.833333\n",
       "2  0.880399  0.870968  0.777778  0.948052  0.945946\n",
       "3  0.870432  0.834711  0.914286  0.853333  0.942857\n",
       "4  0.893688  0.936364  0.875000  0.841463  0.918919"
      ]
     },
     "execution_count": 42,
     "metadata": {},
     "output_type": "execute_result"
    }
   ],
   "source": [
    "df_gdro = pd.read_csv('../data/cluser_fixed_gdro_spic_results.csv', index_col=0)\n",
    "# df_gdro.rename(columns=names, inplace=True)\n",
    "df_gdro.head()"
   ]
  },
  {
   "cell_type": "markdown",
   "id": "f0c27914",
   "metadata": {},
   "source": [
    "##Data Analysis "
   ]
  },
  {
   "cell_type": "markdown",
   "id": "986d9e29",
   "metadata": {},
   "source": [
    "###First we look at the mean overall accuracies and mean subgroup sensitivities"
   ]
  },
  {
   "cell_type": "code",
   "execution_count": 43,
   "id": "28e33253",
   "metadata": {},
   "outputs": [
    {
     "data": {
      "text/plain": [
       "entire    0.880155\n",
       "0         0.872931\n",
       "1         0.843388\n",
       "2         0.908024\n",
       "4         0.911513\n",
       "dtype: float64"
      ]
     },
     "execution_count": 43,
     "metadata": {},
     "output_type": "execute_result"
    }
   ],
   "source": [
    "df_erm.mean()"
   ]
  },
  {
   "cell_type": "code",
   "execution_count": 44,
   "id": "ce1c14b8",
   "metadata": {},
   "outputs": [
    {
     "data": {
      "text/plain": [
       "entire    0.878117\n",
       "0         0.867209\n",
       "1         0.837411\n",
       "2         0.909076\n",
       "4         0.916225\n",
       "dtype: float64"
      ]
     },
     "execution_count": 44,
     "metadata": {},
     "output_type": "execute_result"
    }
   ],
   "source": [
    "df_gdro.mean()"
   ]
  },
  {
   "cell_type": "markdown",
   "id": "82f28305",
   "metadata": {},
   "source": [
    "###Now We plost histograms"
   ]
  },
  {
   "cell_type": "code",
   "execution_count": 45,
   "id": "b80d476c",
   "metadata": {},
   "outputs": [],
   "source": [
    "bins = np.arange(0.4,1,0.05)"
   ]
  },
  {
   "cell_type": "code",
   "execution_count": 46,
   "id": "43a4a303",
   "metadata": {},
   "outputs": [
    {
     "data": {
      "image/png": "[encoded data removed]",
      "text/plain": [
       "<Figure size 432x288 with 1 Axes>"
      ]
     },
     "metadata": {
      "needs_background": "light"
     },
     "output_type": "display_data"
    },
    {
     "data": {
      "image/png": "[encoded data removed]",
      "text/plain": [
       "<Figure size 432x288 with 1 Axes>"
      ]
     },
     "metadata": {
      "needs_background": "light"
     },
     "output_type": "display_data"
    },
    {
     "data": {
      "image/png": "[encoded data removed]",
      "text/plain": [
       "<Figure size 432x288 with 1 Axes>"
      ]
     },
     "metadata": {
      "needs_background": "light"
     },
     "output_type": "display_data"
    },
    {
     "data": {
      "image/png": "[encoded data removed]",
      "text/plain": [
       "<Figure size 432x288 with 1 Axes>"
      ]
     },
     "metadata": {
      "needs_background": "light"
     },
     "output_type": "display_data"
    },
    {
     "data": {
      "image/png": "[encoded data removed]",
      "text/plain": [
       "<Figure size 432x288 with 1 Axes>"
      ]
     },
     "metadata": {
      "needs_background": "light"
     },
     "output_type": "display_data"
    }
   ],
   "source": [
    "for idx, col in enumerate(df_erm.columns):\n",
    "    plt.figure(idx)\n",
    "    plt.ylim(0,300)\n",
    "    sns.histplot(df_erm[col],bins=bins)"
   ]
  },
  {
   "cell_type": "code",
   "execution_count": 47,
   "id": "728d71da",
   "metadata": {},
   "outputs": [
    {
     "data": {
      "image/png": "[encoded data removed]",
      "text/plain": [
       "<Figure size 432x288 with 1 Axes>"
      ]
     },
     "metadata": {
      "needs_background": "light"
     },
     "output_type": "display_data"
    },
    {
     "data": {
      "image/png": "[encoded data removed]",
      "text/plain": [
       "<Figure size 432x288 with 1 Axes>"
      ]
     },
     "metadata": {
      "needs_background": "light"
     },
     "output_type": "display_data"
    },
    {
     "data": {
      "image/png": "[encoded data removed]",
      "text/plain": [
       "<Figure size 432x288 with 1 Axes>"
      ]
     },
     "metadata": {
      "needs_background": "light"
     },
     "output_type": "display_data"
    },
    {
     "data": {
      "image/png": "[encoded data removed]",
      "text/plain": [
       "<Figure size 432x288 with 1 Axes>"
      ]
     },
     "metadata": {
      "needs_background": "light"
     },
     "output_type": "display_data"
    },
    {
     "data": {
      "image/png": "[encoded data removed]",
      "text/plain": [
       "<Figure size 432x288 with 1 Axes>"
      ]
     },
     "metadata": {
      "needs_background": "light"
     },
     "output_type": "display_data"
    }
   ],
   "source": [
    "for idx, col in enumerate(df_gdro.columns):\n",
    "    plt.figure(idx)\n",
    "    plt.ylim(0,300)\n",
    "    sns.histplot(df_gdro[col],bins=bins)"
   ]
  },
  {
   "cell_type": "code",
   "execution_count": 48,
   "id": "7c3c199c",
   "metadata": {},
   "outputs": [
    {
     "data": {
      "image/png": "[encoded data removed]",
      "text/plain": [
       "<Figure size 432x288 with 1 Axes>"
      ]
     },
     "metadata": {
      "needs_background": "light"
     },
     "output_type": "display_data"
    }
   ],
   "source": [
    "fig = sm.qqplot(df_gdro['2'], line='s')\n",
    "plt.show()"
   ]
  },
  {
   "cell_type": "code",
   "execution_count": 49,
   "id": "a4ac7924",
   "metadata": {},
   "outputs": [
    {
     "data": {
      "text/plain": [
       "0.0004467582554780936"
      ]
     },
     "execution_count": 49,
     "metadata": {},
     "output_type": "execute_result"
    }
   ],
   "source": [
    "df_gdro['entire'].var()"
   ]
  },
  {
   "cell_type": "code",
   "execution_count": 50,
   "id": "35636c7b",
   "metadata": {},
   "outputs": [
    {
     "data": {
      "text/plain": [
       "0.0003386669843273877"
      ]
     },
     "execution_count": 50,
     "metadata": {},
     "output_type": "execute_result"
    }
   ],
   "source": [
    "df_erm['entire'].var()"
   ]
  },
  {
   "cell_type": "markdown",
   "id": "35024590",
   "metadata": {},
   "source": [
    "###Now We make boxplots"
   ]
  },
  {
   "cell_type": "code",
   "execution_count": 51,
   "id": "7a62a42f",
   "metadata": {},
   "outputs": [
    {
     "data": {
      "text/plain": [
       "(0.4, 1.01)"
      ]
     },
     "execution_count": 51,
     "metadata": {},
     "output_type": "execute_result"
    },
    {
     "data": {
      "image/png": "[encoded data removed]",
      "text/plain": [
       "<Figure size 1080x720 with 1 Axes>"
      ]
     },
     "metadata": {
      "needs_background": "light"
     },
     "output_type": "display_data"
    }
   ],
   "source": [
    "df_erm.boxplot(grid=False,figsize=(15,10)).set_ylim(0.4, 1.01)"
   ]
  },
  {
   "cell_type": "code",
   "execution_count": 52,
   "id": "f9ab97ba",
   "metadata": {},
   "outputs": [
    {
     "data": {
      "text/plain": [
       "(0.4, 1.01)"
      ]
     },
     "execution_count": 52,
     "metadata": {},
     "output_type": "execute_result"
    },
    {
     "data": {
      "image/png": "[encoded data removed]",
      "text/plain": [
       "<Figure size 1080x720 with 1 Axes>"
      ]
     },
     "metadata": {
      "needs_background": "light"
     },
     "output_type": "display_data"
    }
   ],
   "source": [
    "df_gdro.boxplot(grid=False,figsize=(15,10)).set_ylim(0.4, 1.01)"
   ]
  },
  {
   "cell_type": "markdown",
   "id": "1bb856f8",
   "metadata": {},
   "source": [
    "###Now We do T-Testing"
   ]
  },
  {
   "cell_type": "code",
   "execution_count": 53,
   "id": "4b1efa1b",
   "metadata": {},
   "outputs": [
    {
     "name": "stdout",
     "output_type": "stream",
     "text": [
      "entire                  0.208\n",
      "0                       0.049\n",
      "1                       0.128\n",
      "2                       0.714\n",
      "4                       0.277\n"
     ]
    }
   ],
   "source": [
    "ttests = zip(df_erm.columns, ttest_ind(df_erm, df_gdro)[1])\n",
    "for name, val in ttests:\n",
    "    print(f'{name:<23} {val:.3}')"
   ]
  }
 ],
 "metadata": {
  "kernelspec": {
   "display_name": "Python 3 (ipykernel)",
   "language": "python",
   "name": "python3"
  },
  "language_info": {
   "codemirror_mode": {
    "name": "ipython",
    "version": 3
   },
   "file_extension": ".py",
   "mimetype": "text/x-python",
   "name": "python",
   "nbconvert_exporter": "python",
   "pygments_lexer": "ipython3",
   "version": "3.9.12"
  }
 },
 "nbformat": 4,
 "nbformat_minor": 5
}
