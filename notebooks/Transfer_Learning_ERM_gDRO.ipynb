{
 "cells": [
  {
   "cell_type": "markdown",
   "id": "ab65c8f4",
   "metadata": {},
   "source": [
    "#LIDC Transfer Learning Model: ERM and gDRO Comparisons\n",
    "\n",
    "Thomas Zeng 7/8/2022\n",
    "\n",
    "In this notebook, we do data analysis to compare results on the ERM and gDRO model. Both models had exactly the same hyperparameters except for loss function and were trained 50 times."
   ]
  },
  {
   "cell_type": "markdown",
   "id": "1f1c7826",
   "metadata": {},
   "source": [
    "##Notebook Setup"
   ]
  },
  {
   "cell_type": "code",
   "execution_count": 2,
   "id": "f793075c",
   "metadata": {},
   "outputs": [],
   "source": [
    "%load_ext autoreload\n",
    "%autoreload 2"
   ]
  },
  {
   "cell_type": "code",
   "execution_count": 3,
   "id": "31c7eb67",
   "metadata": {},
   "outputs": [],
   "source": [
    "import pandas as pd\n",
    "import numpy as np\n",
    "import seaborn as sns\n",
    "import matplotlib.pyplot as plt\n",
    "from scipy.stats import ttest_ind\n",
    "import statsmodels.api as sm"
   ]
  },
  {
   "cell_type": "markdown",
   "id": "5934a833",
   "metadata": {},
   "source": [
    "##Get Dataframes"
   ]
  },
  {
   "cell_type": "code",
   "execution_count": 3,
   "id": "1e0ec43b",
   "metadata": {},
   "outputs": [],
   "source": [
    "# names = {'entire': 'overall', \n",
    "#          'marked_benign':'spiculated benign', \n",
    "#          'unmarked_benign':'unspiculated benign', \n",
    "#          'marked_malignant':'spiculated malignant',\n",
    "#          'unmarked_malignant':'unspiculated malignant'}"
   ]
  },
  {
   "cell_type": "code",
   "execution_count": 4,
   "id": "6280ca96",
   "metadata": {},
   "outputs": [
    {
     "data": {
      "text/html": [
       "<div>\n",
       "<style scoped>\n",
       "    .dataframe tbody tr th:only-of-type {\n",
       "        vertical-align: middle;\n",
       "    }\n",
       "\n",
       "    .dataframe tbody tr th {\n",
       "        vertical-align: top;\n",
       "    }\n",
       "\n",
       "    .dataframe thead th {\n",
       "        text-align: right;\n",
       "    }\n",
       "</style>\n",
       "<table border=\"1\" class=\"dataframe\">\n",
       "  <thead>\n",
       "    <tr style=\"text-align: right;\">\n",
       "      <th></th>\n",
       "      <th>entire</th>\n",
       "      <th>0</th>\n",
       "      <th>1</th>\n",
       "      <th>2</th>\n",
       "    </tr>\n",
       "  </thead>\n",
       "  <tbody>\n",
       "    <tr>\n",
       "      <th>0</th>\n",
       "      <td>0.887043</td>\n",
       "      <td>0.851852</td>\n",
       "      <td>0.930233</td>\n",
       "      <td>0.956522</td>\n",
       "    </tr>\n",
       "    <tr>\n",
       "      <th>1</th>\n",
       "      <td>0.897010</td>\n",
       "      <td>0.900552</td>\n",
       "      <td>0.829787</td>\n",
       "      <td>0.931507</td>\n",
       "    </tr>\n",
       "    <tr>\n",
       "      <th>2</th>\n",
       "      <td>0.873754</td>\n",
       "      <td>0.837838</td>\n",
       "      <td>0.891892</td>\n",
       "      <td>0.949367</td>\n",
       "    </tr>\n",
       "    <tr>\n",
       "      <th>3</th>\n",
       "      <td>0.830565</td>\n",
       "      <td>0.805405</td>\n",
       "      <td>0.840909</td>\n",
       "      <td>0.888889</td>\n",
       "    </tr>\n",
       "    <tr>\n",
       "      <th>4</th>\n",
       "      <td>0.860465</td>\n",
       "      <td>0.819672</td>\n",
       "      <td>0.868421</td>\n",
       "      <td>0.950000</td>\n",
       "    </tr>\n",
       "  </tbody>\n",
       "</table>\n",
       "</div>"
      ],
      "text/plain": [
       "     entire         0         1         2\n",
       "0  0.887043  0.851852  0.930233  0.956522\n",
       "1  0.897010  0.900552  0.829787  0.931507\n",
       "2  0.873754  0.837838  0.891892  0.949367\n",
       "3  0.830565  0.805405  0.840909  0.888889\n",
       "4  0.860465  0.819672  0.868421  0.950000"
      ]
     },
     "execution_count": 4,
     "metadata": {},
     "output_type": "execute_result"
    }
   ],
   "source": [
    "df_erm = pd.read_csv('../data/cluser_fixed_erm_results.csv', index_col=0)\n",
    "# df_erm.rename(columns=names, inplace=True)\n",
    "df_erm.head()"
   ]
  },
  {
   "cell_type": "code",
   "execution_count": 5,
   "id": "f3172bd6",
   "metadata": {},
   "outputs": [
    {
     "data": {
      "text/html": [
       "<div>\n",
       "<style scoped>\n",
       "    .dataframe tbody tr th:only-of-type {\n",
       "        vertical-align: middle;\n",
       "    }\n",
       "\n",
       "    .dataframe tbody tr th {\n",
       "        vertical-align: top;\n",
       "    }\n",
       "\n",
       "    .dataframe thead th {\n",
       "        text-align: right;\n",
       "    }\n",
       "</style>\n",
       "<table border=\"1\" class=\"dataframe\">\n",
       "  <thead>\n",
       "    <tr style=\"text-align: right;\">\n",
       "      <th></th>\n",
       "      <th>entire</th>\n",
       "      <th>0</th>\n",
       "      <th>1</th>\n",
       "      <th>2</th>\n",
       "    </tr>\n",
       "  </thead>\n",
       "  <tbody>\n",
       "    <tr>\n",
       "      <th>0</th>\n",
       "      <td>0.840532</td>\n",
       "      <td>0.818681</td>\n",
       "      <td>0.800000</td>\n",
       "      <td>0.911392</td>\n",
       "    </tr>\n",
       "    <tr>\n",
       "      <th>1</th>\n",
       "      <td>0.900332</td>\n",
       "      <td>0.895522</td>\n",
       "      <td>0.941176</td>\n",
       "      <td>0.893939</td>\n",
       "    </tr>\n",
       "    <tr>\n",
       "      <th>2</th>\n",
       "      <td>0.843854</td>\n",
       "      <td>0.814070</td>\n",
       "      <td>0.851852</td>\n",
       "      <td>0.920000</td>\n",
       "    </tr>\n",
       "    <tr>\n",
       "      <th>3</th>\n",
       "      <td>0.823920</td>\n",
       "      <td>0.803279</td>\n",
       "      <td>0.865385</td>\n",
       "      <td>0.848485</td>\n",
       "    </tr>\n",
       "    <tr>\n",
       "      <th>4</th>\n",
       "      <td>0.823920</td>\n",
       "      <td>0.715116</td>\n",
       "      <td>0.951220</td>\n",
       "      <td>0.977273</td>\n",
       "    </tr>\n",
       "  </tbody>\n",
       "</table>\n",
       "</div>"
      ],
      "text/plain": [
       "     entire         0         1         2\n",
       "0  0.840532  0.818681  0.800000  0.911392\n",
       "1  0.900332  0.895522  0.941176  0.893939\n",
       "2  0.843854  0.814070  0.851852  0.920000\n",
       "3  0.823920  0.803279  0.865385  0.848485\n",
       "4  0.823920  0.715116  0.951220  0.977273"
      ]
     },
     "execution_count": 5,
     "metadata": {},
     "output_type": "execute_result"
    }
   ],
   "source": [
    "df_gdro = pd.read_csv('../data/cluser_fixed_gdro_results.csv', index_col=0)\n",
    "# df_gdro.rename(columns=names, inplace=True)\n",
    "df_gdro.head()"
   ]
  },
  {
   "cell_type": "markdown",
   "id": "f0c27914",
   "metadata": {},
   "source": [
    "##Data Analysis "
   ]
  },
  {
   "cell_type": "markdown",
   "id": "986d9e29",
   "metadata": {},
   "source": [
    "###First we look at the mean overall accuracies and mean subgroup sensitivities"
   ]
  },
  {
   "cell_type": "code",
   "execution_count": 6,
   "id": "28e33253",
   "metadata": {},
   "outputs": [
    {
     "data": {
      "text/plain": [
       "entire    0.852802\n",
       "0         0.826560\n",
       "1         0.865738\n",
       "2         0.909278\n",
       "dtype: float64"
      ]
     },
     "execution_count": 6,
     "metadata": {},
     "output_type": "execute_result"
    }
   ],
   "source": [
    "df_erm.mean()"
   ]
  },
  {
   "cell_type": "code",
   "execution_count": 7,
   "id": "ce1c14b8",
   "metadata": {},
   "outputs": [
    {
     "data": {
      "text/plain": [
       "entire    0.846478\n",
       "0         0.808389\n",
       "1         0.875172\n",
       "2         0.921892\n",
       "dtype: float64"
      ]
     },
     "execution_count": 7,
     "metadata": {},
     "output_type": "execute_result"
    }
   ],
   "source": [
    "df_gdro.mean()"
   ]
  },
  {
   "cell_type": "markdown",
   "id": "82f28305",
   "metadata": {},
   "source": [
    "###Now We plost histograms"
   ]
  },
  {
   "cell_type": "code",
   "execution_count": 18,
   "id": "b80d476c",
   "metadata": {},
   "outputs": [],
   "source": [
    "bins = np.arange(0.4,1,0.001)"
   ]
  },
  {
   "cell_type": "code",
   "execution_count": 20,
   "id": "43a4a303",
   "metadata": {},
   "outputs": [
    {
     "data": {
      "image/png": "[encoded data removed]",
      "text/plain": [
       "<Figure size 432x288 with 1 Axes>"
      ]
     },
     "metadata": {
      "needs_background": "light"
     },
     "output_type": "display_data"
    },
    {
     "data": {
      "image/png": "[encoded data removed]",
      "text/plain": [
       "<Figure size 432x288 with 1 Axes>"
      ]
     },
     "metadata": {
      "needs_background": "light"
     },
     "output_type": "display_data"
    },
    {
     "data": {
      "image/png": "[encoded data removed]",
      "text/plain": [
       "<Figure size 432x288 with 1 Axes>"
      ]
     },
     "metadata": {
      "needs_background": "light"
     },
     "output_type": "display_data"
    },
    {
     "data": {
      "image/png": "[encoded data removed]",
      "text/plain": [
       "<Figure size 432x288 with 1 Axes>"
      ]
     },
     "metadata": {
      "needs_background": "light"
     },
     "output_type": "display_data"
    }
   ],
   "source": [
    "for idx, col in enumerate(df_erm.columns):\n",
    "    plt.figure(idx)\n",
    "    plt.ylim(0,20)\n",
    "    sns.histplot(df_erm[col],bins=bins)"
   ]
  },
  {
   "cell_type": "code",
   "execution_count": 10,
   "id": "728d71da",
   "metadata": {},
   "outputs": [
    {
     "data": {
      "image/png": "[encoded data removed]",
      "text/plain": [
       "<Figure size 432x288 with 1 Axes>"
      ]
     },
     "metadata": {
      "needs_background": "light"
     },
     "output_type": "display_data"
    },
    {
     "data": {
      "image/png": "[encoded data removed]",
      "text/plain": [
       "<Figure size 432x288 with 1 Axes>"
      ]
     },
     "metadata": {
      "needs_background": "light"
     },
     "output_type": "display_data"
    },
    {
     "data": {
      "image/png": "[encoded data removed]",
      "text/plain": [
       "<Figure size 432x288 with 1 Axes>"
      ]
     },
     "metadata": {
      "needs_background": "light"
     },
     "output_type": "display_data"
    },
    {
     "data": {
      "image/png": "[encoded data removed]",
      "text/plain": [
       "<Figure size 432x288 with 1 Axes>"
      ]
     },
     "metadata": {
      "needs_background": "light"
     },
     "output_type": "display_data"
    }
   ],
   "source": [
    "for idx, col in enumerate(df_gdro.columns):\n",
    "    plt.figure(idx)\n",
    "    plt.ylim(0,300)\n",
    "    sns.histplot(df_gdro[col],bins=bins)"
   ]
  },
  {
   "cell_type": "code",
   "execution_count": 26,
   "id": "878e6532",
   "metadata": {},
   "outputs": [],
   "source": [
    "sm.qqplot??"
   ]
  },
  {
   "cell_type": "code",
   "execution_count": 33,
   "id": "9bbdc57d",
   "metadata": {},
   "outputs": [
    {
     "data": {
      "image/png": "[encoded data removed]",
      "text/plain": [
       "<Figure size 432x288 with 1 Axes>"
      ]
     },
     "metadata": {
      "needs_background": "light"
     },
     "output_type": "display_data"
    }
   ],
   "source": [
    "fig = sm.qqplot(df_gdro['2'], line='s')\n",
    "plt.show()"
   ]
  },
  {
   "cell_type": "code",
   "execution_count": 39,
   "id": "bcd8b995",
   "metadata": {},
   "outputs": [
    {
     "data": {
      "text/plain": [
       "0.0005798429137215584"
      ]
     },
     "execution_count": 39,
     "metadata": {},
     "output_type": "execute_result"
    }
   ],
   "source": [
    "df_gdro['entire'].var()"
   ]
  },
  {
   "cell_type": "code",
   "execution_count": 40,
   "id": "4d252ff8",
   "metadata": {},
   "outputs": [
    {
     "data": {
      "text/plain": [
       "0.000437870744398698"
      ]
     },
     "execution_count": 40,
     "metadata": {},
     "output_type": "execute_result"
    }
   ],
   "source": [
    "df_erm['entire'].var()"
   ]
  },
  {
   "cell_type": "markdown",
   "id": "35024590",
   "metadata": {},
   "source": [
    "###Now We make boxplots"
   ]
  },
  {
   "cell_type": "code",
   "execution_count": 11,
   "id": "7a62a42f",
   "metadata": {},
   "outputs": [
    {
     "data": {
      "text/plain": [
       "(0.4, 1.01)"
      ]
     },
     "execution_count": 11,
     "metadata": {},
     "output_type": "execute_result"
    },
    {
     "data": {
      "image/png": "[encoded data removed]",
      "text/plain": [
       "<Figure size 1080x720 with 1 Axes>"
      ]
     },
     "metadata": {
      "needs_background": "light"
     },
     "output_type": "display_data"
    }
   ],
   "source": [
    "df_erm.boxplot(grid=False,figsize=(15,10)).set_ylim(0.4, 1.01)"
   ]
  },
  {
   "cell_type": "code",
   "execution_count": 12,
   "id": "f9ab97ba",
   "metadata": {},
   "outputs": [
    {
     "data": {
      "text/plain": [
       "(0.4, 1.01)"
      ]
     },
     "execution_count": 12,
     "metadata": {},
     "output_type": "execute_result"
    },
    {
     "data": {
      "image/png": "[encoded data removed]",
      "text/plain": [
       "<Figure size 1080x720 with 1 Axes>"
      ]
     },
     "metadata": {
      "needs_background": "light"
     },
     "output_type": "display_data"
    }
   ],
   "source": [
    "df_gdro.boxplot(grid=False,figsize=(15,10)).set_ylim(0.4, 1.01)"
   ]
  },
  {
   "cell_type": "markdown",
   "id": "1bb856f8",
   "metadata": {},
   "source": [
    "###Now We do T-Testing"
   ]
  },
  {
   "cell_type": "code",
   "execution_count": 13,
   "id": "4b1efa1b",
   "metadata": {},
   "outputs": [
    {
     "name": "stdout",
     "output_type": "stream",
     "text": [
      "entire                  0.000638\n",
      "0                       2.38e-10\n",
      "1                       0.033\n",
      "2                       2.01e-05\n"
     ]
    }
   ],
   "source": [
    "ttests = zip(df_erm.columns, ttest_ind(df_erm, df_gdro)[1])\n",
    "for name, val in ttests:\n",
    "    print(f'{name:<23} {val:.3}')"
   ]
  }
 ],
 "metadata": {
  "kernelspec": {
   "display_name": "Python 3 (ipykernel)",
   "language": "python",
   "name": "python3"
  },
  "language_info": {
   "codemirror_mode": {
    "name": "ipython",
    "version": 3
   },
   "file_extension": ".py",
   "mimetype": "text/x-python",
   "name": "python",
   "nbconvert_exporter": "python",
   "pygments_lexer": "ipython3",
   "version": "3.9.12"
  }
 },
 "nbformat": 4,
 "nbformat_minor": 5
}
