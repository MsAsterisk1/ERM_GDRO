{
 "cells": [
  {
   "cell_type": "code",
   "execution_count": 233,
   "id": "c3deca4b",
   "metadata": {},
   "outputs": [],
   "source": [
    "import pandas as pd\n",
    "import numpy as np\n",
    "import matplotlib.pyplot as plt\n",
    "\n",
    "# from sklearn.preprocessing import StandardScaler\n",
    "from sklearn.decomposition import PCA, SparsePCA, TruncatedSVD \n",
    "from sklearn.cluster import KMeans\n",
    "from sklearn.metrics import silhouette_score\n",
    "from sklearn.manifold import TSNE"
   ]
  },
  {
   "cell_type": "code",
   "execution_count": 235,
   "id": "a99e9237",
   "metadata": {},
   "outputs": [
    {
     "name": "stdout",
     "output_type": "stream",
     "text": [
      "C:\\Users\\tzeng1\\repos\\LIDC_GDRO\\notebooks\n"
     ]
    }
   ],
   "source": [
    "# %cd ./notebooks\n",
    "lidc_cnnFeatures = pd.read_csv('../data/cnn_features (3).csv',index_col=0)"
   ]
  },
  {
   "cell_type": "code",
   "execution_count": 236,
   "id": "cd76981c",
   "metadata": {},
   "outputs": [],
   "source": [
    "lidc = pd.read_csv('../data/LIDC_labels.csv')"
   ]
  },
  {
   "cell_type": "code",
   "execution_count": 237,
   "id": "52074bfb",
   "metadata": {},
   "outputs": [
    {
     "data": {
      "text/html": [
       "<div>\n",
       "<style scoped>\n",
       "    .dataframe tbody tr th:only-of-type {\n",
       "        vertical-align: middle;\n",
       "    }\n",
       "\n",
       "    .dataframe tbody tr th {\n",
       "        vertical-align: top;\n",
       "    }\n",
       "\n",
       "    .dataframe thead th {\n",
       "        text-align: right;\n",
       "    }\n",
       "</style>\n",
       "<table border=\"1\" class=\"dataframe\">\n",
       "  <thead>\n",
       "    <tr style=\"text-align: right;\">\n",
       "      <th></th>\n",
       "      <th>nodule_id</th>\n",
       "      <th>1</th>\n",
       "      <th>2</th>\n",
       "      <th>3</th>\n",
       "      <th>4</th>\n",
       "      <th>5</th>\n",
       "      <th>6</th>\n",
       "      <th>7</th>\n",
       "      <th>8</th>\n",
       "      <th>9</th>\n",
       "      <th>...</th>\n",
       "      <th>503</th>\n",
       "      <th>504</th>\n",
       "      <th>505</th>\n",
       "      <th>506</th>\n",
       "      <th>507</th>\n",
       "      <th>508</th>\n",
       "      <th>509</th>\n",
       "      <th>510</th>\n",
       "      <th>511</th>\n",
       "      <th>512</th>\n",
       "    </tr>\n",
       "  </thead>\n",
       "  <tbody>\n",
       "    <tr>\n",
       "      <th>0</th>\n",
       "      <td>2691</td>\n",
       "      <td>0.000000</td>\n",
       "      <td>0.000000</td>\n",
       "      <td>0.000000</td>\n",
       "      <td>0.000000</td>\n",
       "      <td>0.213397</td>\n",
       "      <td>1.219989</td>\n",
       "      <td>0.000000</td>\n",
       "      <td>0.000000</td>\n",
       "      <td>0.145907</td>\n",
       "      <td>...</td>\n",
       "      <td>0.000000</td>\n",
       "      <td>0.000000</td>\n",
       "      <td>0.00000</td>\n",
       "      <td>0.000000</td>\n",
       "      <td>0.000000</td>\n",
       "      <td>1.686270</td>\n",
       "      <td>1.748938</td>\n",
       "      <td>0.000000</td>\n",
       "      <td>0.000000</td>\n",
       "      <td>0.000000</td>\n",
       "    </tr>\n",
       "    <tr>\n",
       "      <th>1</th>\n",
       "      <td>2185</td>\n",
       "      <td>0.774602</td>\n",
       "      <td>1.016352</td>\n",
       "      <td>0.715805</td>\n",
       "      <td>0.239734</td>\n",
       "      <td>0.758472</td>\n",
       "      <td>1.315181</td>\n",
       "      <td>0.399833</td>\n",
       "      <td>0.083485</td>\n",
       "      <td>0.234024</td>\n",
       "      <td>...</td>\n",
       "      <td>0.002196</td>\n",
       "      <td>0.280764</td>\n",
       "      <td>0.01601</td>\n",
       "      <td>0.078014</td>\n",
       "      <td>0.049616</td>\n",
       "      <td>1.872147</td>\n",
       "      <td>1.109877</td>\n",
       "      <td>0.183929</td>\n",
       "      <td>0.334173</td>\n",
       "      <td>0.002318</td>\n",
       "    </tr>\n",
       "    <tr>\n",
       "      <th>2</th>\n",
       "      <td>2190</td>\n",
       "      <td>0.000000</td>\n",
       "      <td>0.000000</td>\n",
       "      <td>0.000000</td>\n",
       "      <td>0.000000</td>\n",
       "      <td>0.582075</td>\n",
       "      <td>1.415442</td>\n",
       "      <td>0.085088</td>\n",
       "      <td>0.000000</td>\n",
       "      <td>0.067842</td>\n",
       "      <td>...</td>\n",
       "      <td>0.000000</td>\n",
       "      <td>0.000000</td>\n",
       "      <td>0.00000</td>\n",
       "      <td>0.000000</td>\n",
       "      <td>0.354359</td>\n",
       "      <td>2.377559</td>\n",
       "      <td>1.842254</td>\n",
       "      <td>0.025743</td>\n",
       "      <td>0.000000</td>\n",
       "      <td>0.000000</td>\n",
       "    </tr>\n",
       "    <tr>\n",
       "      <th>3</th>\n",
       "      <td>990</td>\n",
       "      <td>0.001542</td>\n",
       "      <td>0.048578</td>\n",
       "      <td>0.000000</td>\n",
       "      <td>0.000000</td>\n",
       "      <td>0.622260</td>\n",
       "      <td>2.050273</td>\n",
       "      <td>0.006325</td>\n",
       "      <td>0.000000</td>\n",
       "      <td>0.111076</td>\n",
       "      <td>...</td>\n",
       "      <td>0.000000</td>\n",
       "      <td>0.000000</td>\n",
       "      <td>0.00000</td>\n",
       "      <td>0.000000</td>\n",
       "      <td>0.890688</td>\n",
       "      <td>2.450668</td>\n",
       "      <td>2.150176</td>\n",
       "      <td>0.097324</td>\n",
       "      <td>0.003312</td>\n",
       "      <td>0.000000</td>\n",
       "    </tr>\n",
       "    <tr>\n",
       "      <th>4</th>\n",
       "      <td>386</td>\n",
       "      <td>0.022453</td>\n",
       "      <td>0.000000</td>\n",
       "      <td>0.007815</td>\n",
       "      <td>0.000000</td>\n",
       "      <td>0.935344</td>\n",
       "      <td>1.723136</td>\n",
       "      <td>0.000000</td>\n",
       "      <td>0.000000</td>\n",
       "      <td>1.313148</td>\n",
       "      <td>...</td>\n",
       "      <td>0.000000</td>\n",
       "      <td>0.000000</td>\n",
       "      <td>0.00000</td>\n",
       "      <td>0.048206</td>\n",
       "      <td>0.792891</td>\n",
       "      <td>2.355183</td>\n",
       "      <td>2.552083</td>\n",
       "      <td>0.145568</td>\n",
       "      <td>0.000000</td>\n",
       "      <td>0.000000</td>\n",
       "    </tr>\n",
       "  </tbody>\n",
       "</table>\n",
       "<p>5 rows × 513 columns</p>\n",
       "</div>"
      ],
      "text/plain": [
       "   nodule_id         1         2         3         4         5         6  \\\n",
       "0       2691  0.000000  0.000000  0.000000  0.000000  0.213397  1.219989   \n",
       "1       2185  0.774602  1.016352  0.715805  0.239734  0.758472  1.315181   \n",
       "2       2190  0.000000  0.000000  0.000000  0.000000  0.582075  1.415442   \n",
       "3        990  0.001542  0.048578  0.000000  0.000000  0.622260  2.050273   \n",
       "4        386  0.022453  0.000000  0.007815  0.000000  0.935344  1.723136   \n",
       "\n",
       "          7         8         9  ...       503       504      505       506  \\\n",
       "0  0.000000  0.000000  0.145907  ...  0.000000  0.000000  0.00000  0.000000   \n",
       "1  0.399833  0.083485  0.234024  ...  0.002196  0.280764  0.01601  0.078014   \n",
       "2  0.085088  0.000000  0.067842  ...  0.000000  0.000000  0.00000  0.000000   \n",
       "3  0.006325  0.000000  0.111076  ...  0.000000  0.000000  0.00000  0.000000   \n",
       "4  0.000000  0.000000  1.313148  ...  0.000000  0.000000  0.00000  0.048206   \n",
       "\n",
       "        507       508       509       510       511       512  \n",
       "0  0.000000  1.686270  1.748938  0.000000  0.000000  0.000000  \n",
       "1  0.049616  1.872147  1.109877  0.183929  0.334173  0.002318  \n",
       "2  0.354359  2.377559  1.842254  0.025743  0.000000  0.000000  \n",
       "3  0.890688  2.450668  2.150176  0.097324  0.003312  0.000000  \n",
       "4  0.792891  2.355183  2.552083  0.145568  0.000000  0.000000  \n",
       "\n",
       "[5 rows x 513 columns]"
      ]
     },
     "execution_count": 237,
     "metadata": {},
     "output_type": "execute_result"
    }
   ],
   "source": [
    "lidc_cnnFeatures.head()"
   ]
  },
  {
   "cell_type": "code",
   "execution_count": 238,
   "id": "bf85e3f4",
   "metadata": {},
   "outputs": [
    {
     "data": {
      "text/html": [
       "<style>#sk-container-id-2 {color: black;background-color: white;}#sk-container-id-2 pre{padding: 0;}#sk-container-id-2 div.sk-toggleable {background-color: white;}#sk-container-id-2 label.sk-toggleable__label {cursor: pointer;display: block;width: 100%;margin-bottom: 0;padding: 0.3em;box-sizing: border-box;text-align: center;}#sk-container-id-2 label.sk-toggleable__label-arrow:before {content: \"▸\";float: left;margin-right: 0.25em;color: #696969;}#sk-container-id-2 label.sk-toggleable__label-arrow:hover:before {color: black;}#sk-container-id-2 div.sk-estimator:hover label.sk-toggleable__label-arrow:before {color: black;}#sk-container-id-2 div.sk-toggleable__content {max-height: 0;max-width: 0;overflow: hidden;text-align: left;background-color: #f0f8ff;}#sk-container-id-2 div.sk-toggleable__content pre {margin: 0.2em;color: black;border-radius: 0.25em;background-color: #f0f8ff;}#sk-container-id-2 input.sk-toggleable__control:checked~div.sk-toggleable__content {max-height: 200px;max-width: 100%;overflow: auto;}#sk-container-id-2 input.sk-toggleable__control:checked~label.sk-toggleable__label-arrow:before {content: \"▾\";}#sk-container-id-2 div.sk-estimator input.sk-toggleable__control:checked~label.sk-toggleable__label {background-color: #d4ebff;}#sk-container-id-2 div.sk-label input.sk-toggleable__control:checked~label.sk-toggleable__label {background-color: #d4ebff;}#sk-container-id-2 input.sk-hidden--visually {border: 0;clip: rect(1px 1px 1px 1px);clip: rect(1px, 1px, 1px, 1px);height: 1px;margin: -1px;overflow: hidden;padding: 0;position: absolute;width: 1px;}#sk-container-id-2 div.sk-estimator {font-family: monospace;background-color: #f0f8ff;border: 1px dotted black;border-radius: 0.25em;box-sizing: border-box;margin-bottom: 0.5em;}#sk-container-id-2 div.sk-estimator:hover {background-color: #d4ebff;}#sk-container-id-2 div.sk-parallel-item::after {content: \"\";width: 100%;border-bottom: 1px solid gray;flex-grow: 1;}#sk-container-id-2 div.sk-label:hover label.sk-toggleable__label {background-color: #d4ebff;}#sk-container-id-2 div.sk-serial::before {content: \"\";position: absolute;border-left: 1px solid gray;box-sizing: border-box;top: 0;bottom: 0;left: 50%;z-index: 0;}#sk-container-id-2 div.sk-serial {display: flex;flex-direction: column;align-items: center;background-color: white;padding-right: 0.2em;padding-left: 0.2em;position: relative;}#sk-container-id-2 div.sk-item {position: relative;z-index: 1;}#sk-container-id-2 div.sk-parallel {display: flex;align-items: stretch;justify-content: center;background-color: white;position: relative;}#sk-container-id-2 div.sk-item::before, #sk-container-id-2 div.sk-parallel-item::before {content: \"\";position: absolute;border-left: 1px solid gray;box-sizing: border-box;top: 0;bottom: 0;left: 50%;z-index: -1;}#sk-container-id-2 div.sk-parallel-item {display: flex;flex-direction: column;z-index: 1;position: relative;background-color: white;}#sk-container-id-2 div.sk-parallel-item:first-child::after {align-self: flex-end;width: 50%;}#sk-container-id-2 div.sk-parallel-item:last-child::after {align-self: flex-start;width: 50%;}#sk-container-id-2 div.sk-parallel-item:only-child::after {width: 0;}#sk-container-id-2 div.sk-dashed-wrapped {border: 1px dashed gray;margin: 0 0.4em 0.5em 0.4em;box-sizing: border-box;padding-bottom: 0.4em;background-color: white;}#sk-container-id-2 div.sk-label label {font-family: monospace;font-weight: bold;display: inline-block;line-height: 1.2em;}#sk-container-id-2 div.sk-label-container {text-align: center;}#sk-container-id-2 div.sk-container {/* jupyter's `normalize.less` sets `[hidden] { display: none; }` but bootstrap.min.css set `[hidden] { display: none !important; }` so we also need the `!important` here to be able to override the default hidden behavior on the sphinx rendered scikit-learn.org. See: https://github.com/scikit-learn/scikit-learn/issues/21755 */display: inline-block !important;position: relative;}#sk-container-id-2 div.sk-text-repr-fallback {display: none;}</style><div id=\"sk-container-id-2\" class=\"sk-top-container\"><div class=\"sk-text-repr-fallback\"><pre>PCA(n_components=512, random_state=4)</pre><b>In a Jupyter environment, please rerun this cell to show the HTML representation or trust the notebook. <br />On GitHub, the HTML representation is unable to render, please try loading this page with nbviewer.org.</b></div><div class=\"sk-container\" hidden><div class=\"sk-item\"><div class=\"sk-estimator sk-toggleable\"><input class=\"sk-toggleable__control sk-hidden--visually\" id=\"sk-estimator-id-2\" type=\"checkbox\" checked><label for=\"sk-estimator-id-2\" class=\"sk-toggleable__label sk-toggleable__label-arrow\">PCA</label><div class=\"sk-toggleable__content\"><pre>PCA(n_components=512, random_state=4)</pre></div></div></div></div></div>"
      ],
      "text/plain": [
       "PCA(n_components=512, random_state=4)"
      ]
     },
     "execution_count": 238,
     "metadata": {},
     "output_type": "execute_result"
    }
   ],
   "source": [
    "X = lidc_cnnFeatures.drop(columns=['nodule_id']).values\n",
    "pca_512 = PCA(n_components=512, random_state=4)\n",
    "pca_512.fit(X)"
   ]
  },
  {
   "cell_type": "code",
   "execution_count": 239,
   "id": "88ea5d0a",
   "metadata": {},
   "outputs": [
    {
     "data": {
      "text/plain": [
       "Text(0, 0.5, 'Cumulative Explained Variance')"
      ]
     },
     "execution_count": 239,
     "metadata": {},
     "output_type": "execute_result"
    },
    {
     "data": {
      "image/png": "[encoded data removed]",
      "text/plain": [
       "<Figure size 432x288 with 1 Axes>"
      ]
     },
     "metadata": {
      "needs_background": "light"
     },
     "output_type": "display_data"
    }
   ],
   "source": [
    "cum_component_variance = np.cumsum(pca_512.explained_variance_ratio_*100)\n",
    "plt.plot(cum_component_variance)\n",
    "plt.xlabel('Number of PCA Components')\n",
    "plt.ylabel('Cumulative Explained Variance')"
   ]
  },
  {
   "cell_type": "code",
   "execution_count": 240,
   "id": "43419b1c",
   "metadata": {},
   "outputs": [
    {
     "data": {
      "text/plain": [
       "93.13911874625937"
      ]
     },
     "execution_count": 240,
     "metadata": {},
     "output_type": "execute_result"
    }
   ],
   "source": [
    "cum_component_variance[10]"
   ]
  },
  {
   "cell_type": "code",
   "execution_count": 241,
   "id": "025ebc60",
   "metadata": {},
   "outputs": [],
   "source": [
    "pca_10 = PCA(n_components=10, random_state=4)\n",
    "pca_10.fit(X)\n",
    "X_pca = pca_10.transform(X)"
   ]
  },
  {
   "cell_type": "code",
   "execution_count": 242,
   "id": "2664c400",
   "metadata": {},
   "outputs": [
    {
     "name": "stderr",
     "output_type": "stream",
     "text": [
      "C:\\Users\\tzeng1\\AppData\\Roaming\\Python\\Python310\\site-packages\\sklearn\\manifold\\_t_sne.py:795: FutureWarning: The default initialization in TSNE will change from 'random' to 'pca' in 1.2.\n",
      "  warnings.warn(\n",
      "C:\\Users\\tzeng1\\AppData\\Roaming\\Python\\Python310\\site-packages\\sklearn\\manifold\\_t_sne.py:805: FutureWarning: The default learning rate in TSNE will change from 200.0 to 'auto' in 1.2.\n",
      "  warnings.warn(\n"
     ]
    }
   ],
   "source": [
    "X_embedded = TSNE(n_components=2, random_state=4).fit_transform(X)"
   ]
  },
  {
   "cell_type": "code",
   "execution_count": 243,
   "id": "2896c3c5",
   "metadata": {},
   "outputs": [],
   "source": [
    "malignancy = [int(lidc[lidc['noduleID'] == id]['malignancy'] > 3) for id in lidc_cnnFeatures['nodule_id']]"
   ]
  },
  {
   "cell_type": "code",
   "execution_count": 244,
   "id": "4c73e122",
   "metadata": {},
   "outputs": [],
   "source": [
    "lidc_TSNE = pd.DataFrame()\n",
    "lidc_TSNE['component_1'] = X_embedded[:,0]\n",
    "lidc_TSNE['component_2'] = X_embedded[:,1]\n",
    "lidc_TSNE['malignancy'] = malignancy"
   ]
  },
  {
   "cell_type": "code",
   "execution_count": 245,
   "id": "dd3281b2",
   "metadata": {},
   "outputs": [],
   "source": [
    "calcification = [int(lidc[lidc['noduleID'] == id]['calcification'] < 6) for id in lidc_cnnFeatures['nodule_id']]\n",
    "lidc_TSNE['calcification'] = calcification"
   ]
  },
  {
   "cell_type": "code",
   "execution_count": 246,
   "id": "be605765",
   "metadata": {},
   "outputs": [
    {
     "data": {
      "text/plain": [
       "malignancy  calcification\n",
       "0           0                636\n",
       "            1                261\n",
       "1           0                589\n",
       "            1                  2\n",
       "dtype: int64"
      ]
     },
     "execution_count": 246,
     "metadata": {},
     "output_type": "execute_result"
    }
   ],
   "source": [
    "lidc_TSNE.groupby(['malignancy', 'calcification']).size()"
   ]
  },
  {
   "cell_type": "code",
   "execution_count": 248,
   "id": "dd8f4bfe",
   "metadata": {},
   "outputs": [
    {
     "data": {
      "image/png": "[encoded data removed]",
      "text/plain": [
       "<Figure size 432x288 with 1 Axes>"
      ]
     },
     "metadata": {
      "needs_background": "light"
     },
     "output_type": "display_data"
    }
   ],
   "source": [
    "fig, ax = plt.subplots()\n",
    "group = lidc_TSNE['calcification']\n",
    "component_1 = lidc_TSNE['component_1'].to_numpy()\n",
    "component_2 = lidc_TSNE['component_2'].to_numpy()\n",
    "# legend = {0:'red', 1:'blue'}\n",
    "\n",
    "for g in np.unique(group):\n",
    "    idx = np.where(group == g)\n",
    "    ax.scatter(component_1[idx], component_2[idx],  label = g, s = 0.2) #c = legend[g],\n",
    "ax.legend()\n",
    "plt.show()"
   ]
  },
  {
   "cell_type": "code",
   "execution_count": 249,
   "id": "587a5357",
   "metadata": {},
   "outputs": [],
   "source": [
    "spiculation = [int(lidc[lidc['noduleID'] == id]['spiculation'] > 1) for id in lidc_cnnFeatures['nodule_id']]\n",
    "lidc_TSNE['spiculation'] = spiculation"
   ]
  },
  {
   "cell_type": "code",
   "execution_count": 250,
   "id": "88610f16",
   "metadata": {},
   "outputs": [
    {
     "data": {
      "image/png": "[encoded data removed]",
      "text/plain": [
       "<Figure size 432x288 with 1 Axes>"
      ]
     },
     "metadata": {
      "needs_background": "light"
     },
     "output_type": "display_data"
    }
   ],
   "source": [
    "fig, ax = plt.subplots()\n",
    "group = lidc_TSNE['malignancy']\n",
    "component_1 = lidc_TSNE['component_1'].to_numpy()\n",
    "component_2 = lidc_TSNE['component_2'].to_numpy()\n",
    "# legend = {0:'red', 1:'blue'}\n",
    "\n",
    "for g in np.unique(group):\n",
    "    idx = np.where(group == g)\n",
    "    ax.scatter(component_1[idx], component_2[idx],  label = g, s = 0.2) #c = legend[g],\n",
    "ax.legend()\n",
    "plt.show()"
   ]
  },
  {
   "cell_type": "code",
   "execution_count": 251,
   "id": "2aedecdb",
   "metadata": {},
   "outputs": [],
   "source": [
    "malig4 = [int(lidc[lidc['noduleID'] == id]['malignancy'] - 1) for id in lidc_cnnFeatures['nodule_id']]\n",
    "lidc_TSNE['malig4'] = malig4"
   ]
  },
  {
   "cell_type": "code",
   "execution_count": 252,
   "id": "fce68fa7",
   "metadata": {},
   "outputs": [
    {
     "data": {
      "image/png": "[encoded data removed]",
      "text/plain": [
       "<Figure size 432x288 with 1 Axes>"
      ]
     },
     "metadata": {
      "needs_background": "light"
     },
     "output_type": "display_data"
    }
   ],
   "source": [
    "fig, ax = plt.subplots()\n",
    "group = lidc_TSNE['malig4']\n",
    "component_1 = lidc_TSNE['component_1'].to_numpy()\n",
    "component_2 = lidc_TSNE['component_2'].to_numpy()\n",
    "# legend = {0:'red', 1:'blue'}\n",
    "\n",
    "for g in np.unique(group):\n",
    "    idx = np.where(group == g)\n",
    "    ax.scatter(component_1[idx], component_2[idx],  label = g, s = 0.2) #c = legend[g],\n",
    "ax.legend()\n",
    "plt.show()"
   ]
  },
  {
   "cell_type": "code",
   "execution_count": 253,
   "id": "f82b98b3",
   "metadata": {},
   "outputs": [],
   "source": [
    "temp = [int(lidc[lidc['noduleID'] == id]['spiculation'] > 1) for id in lidc_cnnFeatures['nodule_id']]\n",
    "lidc_TSNE['temp'] = temp"
   ]
  },
  {
   "cell_type": "code",
   "execution_count": 254,
   "id": "a67a384d",
   "metadata": {},
   "outputs": [
    {
     "data": {
      "image/png": "[encoded data removed]",
      "text/plain": [
       "<Figure size 432x288 with 1 Axes>"
      ]
     },
     "metadata": {
      "needs_background": "light"
     },
     "output_type": "display_data"
    }
   ],
   "source": [
    "fig, ax = plt.subplots()\n",
    "group = lidc_TSNE['temp']\n",
    "component_1 = lidc_TSNE['component_1'].to_numpy()\n",
    "component_2 = lidc_TSNE['component_2'].to_numpy()\n",
    "# legend = {0:'red', 1:'blue'}\n",
    "\n",
    "for g in np.unique(group):\n",
    "    idx = np.where(group == g)\n",
    "    ax.scatter(component_1[idx], component_2[idx],  label = g, s = 0.2) #c = legend[g],\n",
    "ax.legend()\n",
    "plt.show()"
   ]
  },
  {
   "cell_type": "markdown",
   "id": "f4f7bd03",
   "metadata": {},
   "source": [
    "#Cluster Handcrafted features"
   ]
  },
  {
   "cell_type": "code",
   "execution_count": 143,
   "id": "f53ae8dd",
   "metadata": {},
   "outputs": [
    {
     "name": "stdout",
     "output_type": "stream",
     "text": [
      "C:\\Users\\tzeng1\\repos\\LIDC_GDRO\n"
     ]
    }
   ],
   "source": [
    "# %cd LIDC_GDRO\n",
    "from data_util import load_lidc, preprocess_data  \n"
   ]
  },
  {
   "cell_type": "code",
   "execution_count": 144,
   "id": "31cca82d",
   "metadata": {},
   "outputs": [],
   "source": [
    "df = preprocess_data(*load_lidc())"
   ]
  },
  {
   "cell_type": "code",
   "execution_count": 146,
   "id": "d64a6618",
   "metadata": {},
   "outputs": [
    {
     "data": {
      "text/html": [
       "<div>\n",
       "<style scoped>\n",
       "    .dataframe tbody tr th:only-of-type {\n",
       "        vertical-align: middle;\n",
       "    }\n",
       "\n",
       "    .dataframe tbody tr th {\n",
       "        vertical-align: top;\n",
       "    }\n",
       "\n",
       "    .dataframe thead th {\n",
       "        text-align: right;\n",
       "    }\n",
       "</style>\n",
       "<table border=\"1\" class=\"dataframe\">\n",
       "  <thead>\n",
       "    <tr style=\"text-align: right;\">\n",
       "      <th></th>\n",
       "      <th>noduleID</th>\n",
       "      <th>Area</th>\n",
       "      <th>ConvexArea</th>\n",
       "      <th>Perimeter</th>\n",
       "      <th>ConvexPerimeter</th>\n",
       "      <th>EquivDiameter</th>\n",
       "      <th>MajorAxisLength</th>\n",
       "      <th>MinorAxisLength</th>\n",
       "      <th>Elongation</th>\n",
       "      <th>Compactness</th>\n",
       "      <th>...</th>\n",
       "      <th>Energy</th>\n",
       "      <th>Homogeneity</th>\n",
       "      <th>Entropy</th>\n",
       "      <th>x_3rdordermoment</th>\n",
       "      <th>Inversevariance</th>\n",
       "      <th>Sumaverage</th>\n",
       "      <th>Variance</th>\n",
       "      <th>Clustertendency</th>\n",
       "      <th>malignancy</th>\n",
       "      <th>subgroup</th>\n",
       "    </tr>\n",
       "  </thead>\n",
       "  <tbody>\n",
       "    <tr>\n",
       "      <th>0</th>\n",
       "      <td>1</td>\n",
       "      <td>2.786989</td>\n",
       "      <td>2.787828</td>\n",
       "      <td>2.621314</td>\n",
       "      <td>2.454225</td>\n",
       "      <td>2.468314</td>\n",
       "      <td>2.096066</td>\n",
       "      <td>2.748694</td>\n",
       "      <td>-0.570518</td>\n",
       "      <td>1.280735</td>\n",
       "      <td>...</td>\n",
       "      <td>-0.941970</td>\n",
       "      <td>1.182771</td>\n",
       "      <td>1.901636</td>\n",
       "      <td>-0.237301</td>\n",
       "      <td>1.094495</td>\n",
       "      <td>0.581531</td>\n",
       "      <td>-0.074923</td>\n",
       "      <td>0.036838</td>\n",
       "      <td>1</td>\n",
       "      <td>marked_malignant</td>\n",
       "    </tr>\n",
       "    <tr>\n",
       "      <th>1</th>\n",
       "      <td>2</td>\n",
       "      <td>2.208070</td>\n",
       "      <td>1.860850</td>\n",
       "      <td>1.503739</td>\n",
       "      <td>1.900692</td>\n",
       "      <td>2.116778</td>\n",
       "      <td>2.028013</td>\n",
       "      <td>1.857099</td>\n",
       "      <td>0.368191</td>\n",
       "      <td>-0.184960</td>\n",
       "      <td>...</td>\n",
       "      <td>-0.907012</td>\n",
       "      <td>1.393682</td>\n",
       "      <td>1.579543</td>\n",
       "      <td>-0.063547</td>\n",
       "      <td>1.072152</td>\n",
       "      <td>-1.152443</td>\n",
       "      <td>-0.649761</td>\n",
       "      <td>-0.649261</td>\n",
       "      <td>1</td>\n",
       "      <td>unmarked_malignant</td>\n",
       "    </tr>\n",
       "    <tr>\n",
       "      <th>2</th>\n",
       "      <td>3</td>\n",
       "      <td>2.250831</td>\n",
       "      <td>2.167998</td>\n",
       "      <td>2.131948</td>\n",
       "      <td>1.986969</td>\n",
       "      <td>2.143839</td>\n",
       "      <td>1.822497</td>\n",
       "      <td>2.130987</td>\n",
       "      <td>-0.259140</td>\n",
       "      <td>0.917787</td>\n",
       "      <td>...</td>\n",
       "      <td>-0.924491</td>\n",
       "      <td>1.423812</td>\n",
       "      <td>1.802531</td>\n",
       "      <td>-0.247131</td>\n",
       "      <td>1.362616</td>\n",
       "      <td>-0.477880</td>\n",
       "      <td>-0.241693</td>\n",
       "      <td>-0.158040</td>\n",
       "      <td>1</td>\n",
       "      <td>marked_malignant</td>\n",
       "    </tr>\n",
       "    <tr>\n",
       "      <th>3</th>\n",
       "      <td>4</td>\n",
       "      <td>-0.281938</td>\n",
       "      <td>-0.308556</td>\n",
       "      <td>-0.169450</td>\n",
       "      <td>-0.131188</td>\n",
       "      <td>-0.112305</td>\n",
       "      <td>-0.035113</td>\n",
       "      <td>-0.254287</td>\n",
       "      <td>0.706877</td>\n",
       "      <td>-0.144326</td>\n",
       "      <td>...</td>\n",
       "      <td>-0.522478</td>\n",
       "      <td>-0.142953</td>\n",
       "      <td>0.150768</td>\n",
       "      <td>-0.268456</td>\n",
       "      <td>-0.201422</td>\n",
       "      <td>-0.460583</td>\n",
       "      <td>-0.305796</td>\n",
       "      <td>-0.298158</td>\n",
       "      <td>1</td>\n",
       "      <td>marked_malignant</td>\n",
       "    </tr>\n",
       "    <tr>\n",
       "      <th>4</th>\n",
       "      <td>5</td>\n",
       "      <td>-0.002347</td>\n",
       "      <td>-0.076120</td>\n",
       "      <td>0.004412</td>\n",
       "      <td>0.124439</td>\n",
       "      <td>0.266908</td>\n",
       "      <td>-0.017849</td>\n",
       "      <td>0.457045</td>\n",
       "      <td>-1.040008</td>\n",
       "      <td>-0.500777</td>\n",
       "      <td>...</td>\n",
       "      <td>-0.679787</td>\n",
       "      <td>2.580808</td>\n",
       "      <td>0.481121</td>\n",
       "      <td>-0.107827</td>\n",
       "      <td>2.982511</td>\n",
       "      <td>0.166415</td>\n",
       "      <td>-0.106192</td>\n",
       "      <td>-0.042079</td>\n",
       "      <td>1</td>\n",
       "      <td>unmarked_malignant</td>\n",
       "    </tr>\n",
       "  </tbody>\n",
       "</table>\n",
       "<p>5 rows × 67 columns</p>\n",
       "</div>"
      ],
      "text/plain": [
       "   noduleID      Area  ConvexArea  Perimeter  ConvexPerimeter  EquivDiameter  \\\n",
       "0         1  2.786989    2.787828   2.621314         2.454225       2.468314   \n",
       "1         2  2.208070    1.860850   1.503739         1.900692       2.116778   \n",
       "2         3  2.250831    2.167998   2.131948         1.986969       2.143839   \n",
       "3         4 -0.281938   -0.308556  -0.169450        -0.131188      -0.112305   \n",
       "4         5 -0.002347   -0.076120   0.004412         0.124439       0.266908   \n",
       "\n",
       "   MajorAxisLength  MinorAxisLength  Elongation  Compactness  ...    Energy  \\\n",
       "0         2.096066         2.748694   -0.570518     1.280735  ... -0.941970   \n",
       "1         2.028013         1.857099    0.368191    -0.184960  ... -0.907012   \n",
       "2         1.822497         2.130987   -0.259140     0.917787  ... -0.924491   \n",
       "3        -0.035113        -0.254287    0.706877    -0.144326  ... -0.522478   \n",
       "4        -0.017849         0.457045   -1.040008    -0.500777  ... -0.679787   \n",
       "\n",
       "   Homogeneity   Entropy  x_3rdordermoment  Inversevariance  Sumaverage  \\\n",
       "0     1.182771  1.901636         -0.237301         1.094495    0.581531   \n",
       "1     1.393682  1.579543         -0.063547         1.072152   -1.152443   \n",
       "2     1.423812  1.802531         -0.247131         1.362616   -0.477880   \n",
       "3    -0.142953  0.150768         -0.268456        -0.201422   -0.460583   \n",
       "4     2.580808  0.481121         -0.107827         2.982511    0.166415   \n",
       "\n",
       "   Variance  Clustertendency  malignancy            subgroup  \n",
       "0 -0.074923         0.036838           1    marked_malignant  \n",
       "1 -0.649761        -0.649261           1  unmarked_malignant  \n",
       "2 -0.241693        -0.158040           1    marked_malignant  \n",
       "3 -0.305796        -0.298158           1    marked_malignant  \n",
       "4 -0.106192        -0.042079           1  unmarked_malignant  \n",
       "\n",
       "[5 rows x 67 columns]"
      ]
     },
     "execution_count": 146,
     "metadata": {},
     "output_type": "execute_result"
    }
   ],
   "source": [
    "df.head()"
   ]
  },
  {
   "cell_type": "code",
   "execution_count": 156,
   "id": "458b98f8",
   "metadata": {},
   "outputs": [
    {
     "name": "stderr",
     "output_type": "stream",
     "text": [
      "C:\\Users\\tzeng1\\AppData\\Roaming\\Python\\Python310\\site-packages\\sklearn\\manifold\\_t_sne.py:795: FutureWarning: The default initialization in TSNE will change from 'random' to 'pca' in 1.2.\n",
      "  warnings.warn(\n",
      "C:\\Users\\tzeng1\\AppData\\Roaming\\Python\\Python310\\site-packages\\sklearn\\manifold\\_t_sne.py:805: FutureWarning: The default learning rate in TSNE will change from 200.0 to 'auto' in 1.2.\n",
      "  warnings.warn(\n"
     ]
    }
   ],
   "source": [
    "feats = df.drop(columns=['noduleID', 'malignancy', 'subgroup']).values\n",
    "feats_embedded = TSNE(n_components=2, random_state=4).fit_transform(feats)"
   ]
  },
  {
   "cell_type": "code",
   "execution_count": null,
   "id": "d3151262",
   "metadata": {},
   "outputs": [],
   "source": []
  },
  {
   "cell_type": "code",
   "execution_count": 162,
   "id": "3fe59dc6",
   "metadata": {},
   "outputs": [],
   "source": [
    "f_TSNE = pd.DataFrame()\n",
    "f_TSNE['component_1'] = feats_embedded[:,0]\n",
    "f_TSNE['component_2'] = feats_embedded[:,1]\n",
    "f_TSNE['spiculation'] =  [int(lidc[lidc['noduleID'] == id]['spiculation'] > 1) for id in df['noduleID']]"
   ]
  },
  {
   "cell_type": "code",
   "execution_count": 163,
   "id": "5a71d67e",
   "metadata": {},
   "outputs": [
    {
     "data": {
      "image/png": "[encoded data removed]",
      "text/plain": [
       "<Figure size 432x288 with 1 Axes>"
      ]
     },
     "metadata": {
      "needs_background": "light"
     },
     "output_type": "display_data"
    }
   ],
   "source": [
    "fig, ax = plt.subplots()\n",
    "group = f_TSNE['spiculation']\n",
    "component_1 = f_TSNE['component_1'].to_numpy()\n",
    "component_2 = f_TSNE['component_2'].to_numpy()\n",
    "# legend = {0:'red', 1:'blue'}\n",
    "\n",
    "for g in np.unique(group):\n",
    "    idx = np.where(group == g)\n",
    "    ax.scatter(component_1[idx], component_2[idx],  label = g, s = 2) #c = legend[g],\n",
    "ax.legend()\n",
    "plt.show()"
   ]
  },
  {
   "cell_type": "code",
   "execution_count": 171,
   "id": "5e872415",
   "metadata": {},
   "outputs": [],
   "source": [
    "f_TSNE = pd.DataFrame()\n",
    "f_TSNE['component_1'] = feats_embedded[:,0]\n",
    "f_TSNE['component_2'] = feats_embedded[:,1]\n",
    "f_TSNE['subgroup'] =  df['subgroup'].replace(['unmarked_benign', 'marked_benign','unmarked_malignant','marked_malignant'],\n",
    "                        [0, 1,2,3], inplace=False)"
   ]
  },
  {
   "cell_type": "code",
   "execution_count": 172,
   "id": "eefe46ca",
   "metadata": {},
   "outputs": [
    {
     "data": {
      "image/png": "[encoded data removed]",
      "text/plain": [
       "<Figure size 432x288 with 1 Axes>"
      ]
     },
     "metadata": {
      "needs_background": "light"
     },
     "output_type": "display_data"
    }
   ],
   "source": [
    "fig, ax = plt.subplots()\n",
    "group = f_TSNE['subgroup']\n",
    "component_1 = f_TSNE['component_1'].to_numpy()\n",
    "component_2 = f_TSNE['component_2'].to_numpy()\n",
    "# legend = {0:'red', 1:'blue'}\n",
    "\n",
    "for g in np.unique(group):\n",
    "    idx = np.where(group == g)\n",
    "    ax.scatter(component_1[idx], component_2[idx],  label = g, s = 2) #c = legend[g],\n",
    "ax.legend()\n",
    "plt.show()"
   ]
  },
  {
   "cell_type": "markdown",
   "id": "9d5dfdb0",
   "metadata": {},
   "source": [
    "#nonbinary clustering"
   ]
  },
  {
   "cell_type": "code",
   "execution_count": 255,
   "id": "12b472e9",
   "metadata": {},
   "outputs": [
    {
     "data": {
      "text/html": [
       "<div>\n",
       "<style scoped>\n",
       "    .dataframe tbody tr th:only-of-type {\n",
       "        vertical-align: middle;\n",
       "    }\n",
       "\n",
       "    .dataframe tbody tr th {\n",
       "        vertical-align: top;\n",
       "    }\n",
       "\n",
       "    .dataframe thead th {\n",
       "        text-align: right;\n",
       "    }\n",
       "</style>\n",
       "<table border=\"1\" class=\"dataframe\">\n",
       "  <thead>\n",
       "    <tr style=\"text-align: right;\">\n",
       "      <th></th>\n",
       "      <th>nodule_id</th>\n",
       "      <th>1</th>\n",
       "      <th>2</th>\n",
       "      <th>3</th>\n",
       "      <th>4</th>\n",
       "      <th>5</th>\n",
       "      <th>6</th>\n",
       "      <th>7</th>\n",
       "      <th>8</th>\n",
       "      <th>9</th>\n",
       "      <th>...</th>\n",
       "      <th>503</th>\n",
       "      <th>504</th>\n",
       "      <th>505</th>\n",
       "      <th>506</th>\n",
       "      <th>507</th>\n",
       "      <th>508</th>\n",
       "      <th>509</th>\n",
       "      <th>510</th>\n",
       "      <th>511</th>\n",
       "      <th>512</th>\n",
       "    </tr>\n",
       "  </thead>\n",
       "  <tbody>\n",
       "    <tr>\n",
       "      <th>0</th>\n",
       "      <td>745</td>\n",
       "      <td>0.243546</td>\n",
       "      <td>0.057501</td>\n",
       "      <td>0.067942</td>\n",
       "      <td>2.152513</td>\n",
       "      <td>0.338231</td>\n",
       "      <td>0.559077</td>\n",
       "      <td>0.605111</td>\n",
       "      <td>0.974293</td>\n",
       "      <td>0.397155</td>\n",
       "      <td>...</td>\n",
       "      <td>1.079934</td>\n",
       "      <td>0.662654</td>\n",
       "      <td>1.739000</td>\n",
       "      <td>0.513651</td>\n",
       "      <td>1.277169</td>\n",
       "      <td>0.461113</td>\n",
       "      <td>0.041994</td>\n",
       "      <td>0.196274</td>\n",
       "      <td>0.140482</td>\n",
       "      <td>0.358068</td>\n",
       "    </tr>\n",
       "    <tr>\n",
       "      <th>1</th>\n",
       "      <td>1710</td>\n",
       "      <td>0.049085</td>\n",
       "      <td>0.626438</td>\n",
       "      <td>0.011671</td>\n",
       "      <td>2.087344</td>\n",
       "      <td>0.041453</td>\n",
       "      <td>1.677216</td>\n",
       "      <td>0.077726</td>\n",
       "      <td>0.305961</td>\n",
       "      <td>0.248103</td>\n",
       "      <td>...</td>\n",
       "      <td>1.460196</td>\n",
       "      <td>1.669848</td>\n",
       "      <td>1.421879</td>\n",
       "      <td>1.478361</td>\n",
       "      <td>0.362412</td>\n",
       "      <td>0.317035</td>\n",
       "      <td>0.000000</td>\n",
       "      <td>0.371429</td>\n",
       "      <td>0.005394</td>\n",
       "      <td>1.026588</td>\n",
       "    </tr>\n",
       "    <tr>\n",
       "      <th>2</th>\n",
       "      <td>582</td>\n",
       "      <td>0.409458</td>\n",
       "      <td>0.029281</td>\n",
       "      <td>0.093145</td>\n",
       "      <td>1.012813</td>\n",
       "      <td>0.000000</td>\n",
       "      <td>1.213256</td>\n",
       "      <td>0.331956</td>\n",
       "      <td>0.000000</td>\n",
       "      <td>0.881690</td>\n",
       "      <td>...</td>\n",
       "      <td>1.230410</td>\n",
       "      <td>2.013180</td>\n",
       "      <td>2.479790</td>\n",
       "      <td>0.850168</td>\n",
       "      <td>0.601853</td>\n",
       "      <td>4.998841</td>\n",
       "      <td>0.000000</td>\n",
       "      <td>0.000000</td>\n",
       "      <td>0.000000</td>\n",
       "      <td>0.132987</td>\n",
       "    </tr>\n",
       "    <tr>\n",
       "      <th>3</th>\n",
       "      <td>2272</td>\n",
       "      <td>0.992502</td>\n",
       "      <td>0.000000</td>\n",
       "      <td>0.067836</td>\n",
       "      <td>2.260682</td>\n",
       "      <td>0.004698</td>\n",
       "      <td>0.624481</td>\n",
       "      <td>0.368674</td>\n",
       "      <td>0.768810</td>\n",
       "      <td>0.000000</td>\n",
       "      <td>...</td>\n",
       "      <td>0.715790</td>\n",
       "      <td>0.128435</td>\n",
       "      <td>0.700622</td>\n",
       "      <td>0.876479</td>\n",
       "      <td>1.657265</td>\n",
       "      <td>0.113497</td>\n",
       "      <td>0.059833</td>\n",
       "      <td>1.338324</td>\n",
       "      <td>0.715450</td>\n",
       "      <td>1.591362</td>\n",
       "    </tr>\n",
       "    <tr>\n",
       "      <th>4</th>\n",
       "      <td>2667</td>\n",
       "      <td>2.840402</td>\n",
       "      <td>0.312933</td>\n",
       "      <td>0.170272</td>\n",
       "      <td>1.018786</td>\n",
       "      <td>0.039833</td>\n",
       "      <td>1.497198</td>\n",
       "      <td>1.649764</td>\n",
       "      <td>1.282398</td>\n",
       "      <td>0.132180</td>\n",
       "      <td>...</td>\n",
       "      <td>2.246505</td>\n",
       "      <td>0.649839</td>\n",
       "      <td>2.066811</td>\n",
       "      <td>1.097497</td>\n",
       "      <td>0.681480</td>\n",
       "      <td>2.237809</td>\n",
       "      <td>0.133703</td>\n",
       "      <td>2.448350</td>\n",
       "      <td>0.650942</td>\n",
       "      <td>0.375714</td>\n",
       "    </tr>\n",
       "  </tbody>\n",
       "</table>\n",
       "<p>5 rows × 513 columns</p>\n",
       "</div>"
      ],
      "text/plain": [
       "   nodule_id         1         2         3         4         5         6  \\\n",
       "0        745  0.243546  0.057501  0.067942  2.152513  0.338231  0.559077   \n",
       "1       1710  0.049085  0.626438  0.011671  2.087344  0.041453  1.677216   \n",
       "2        582  0.409458  0.029281  0.093145  1.012813  0.000000  1.213256   \n",
       "3       2272  0.992502  0.000000  0.067836  2.260682  0.004698  0.624481   \n",
       "4       2667  2.840402  0.312933  0.170272  1.018786  0.039833  1.497198   \n",
       "\n",
       "          7         8         9  ...       503       504       505       506  \\\n",
       "0  0.605111  0.974293  0.397155  ...  1.079934  0.662654  1.739000  0.513651   \n",
       "1  0.077726  0.305961  0.248103  ...  1.460196  1.669848  1.421879  1.478361   \n",
       "2  0.331956  0.000000  0.881690  ...  1.230410  2.013180  2.479790  0.850168   \n",
       "3  0.368674  0.768810  0.000000  ...  0.715790  0.128435  0.700622  0.876479   \n",
       "4  1.649764  1.282398  0.132180  ...  2.246505  0.649839  2.066811  1.097497   \n",
       "\n",
       "        507       508       509       510       511       512  \n",
       "0  1.277169  0.461113  0.041994  0.196274  0.140482  0.358068  \n",
       "1  0.362412  0.317035  0.000000  0.371429  0.005394  1.026588  \n",
       "2  0.601853  4.998841  0.000000  0.000000  0.000000  0.132987  \n",
       "3  1.657265  0.113497  0.059833  1.338324  0.715450  1.591362  \n",
       "4  0.681480  2.237809  0.133703  2.448350  0.650942  0.375714  \n",
       "\n",
       "[5 rows x 513 columns]"
      ]
     },
     "execution_count": 255,
     "metadata": {},
     "output_type": "execute_result"
    }
   ],
   "source": [
    "lidc_cnnFeatures_nb = pd.read_csv('../data/cnn_features_nonbinary.csv',index_col=0)\n",
    "lidc_cnnFeatures_nb.head()"
   ]
  },
  {
   "cell_type": "code",
   "execution_count": 256,
   "id": "e35ca1a9",
   "metadata": {},
   "outputs": [
    {
     "name": "stderr",
     "output_type": "stream",
     "text": [
      "C:\\Users\\tzeng1\\AppData\\Roaming\\Python\\Python310\\site-packages\\sklearn\\manifold\\_t_sne.py:795: FutureWarning: The default initialization in TSNE will change from 'random' to 'pca' in 1.2.\n",
      "  warnings.warn(\n",
      "C:\\Users\\tzeng1\\AppData\\Roaming\\Python\\Python310\\site-packages\\sklearn\\manifold\\_t_sne.py:805: FutureWarning: The default learning rate in TSNE will change from 200.0 to 'auto' in 1.2.\n",
      "  warnings.warn(\n"
     ]
    }
   ],
   "source": [
    "X = lidc_cnnFeatures_nb.drop(columns=['nodule_id']).values\n",
    "X_embedded = TSNE(n_components=2, random_state=4).fit_transform(X)"
   ]
  },
  {
   "cell_type": "code",
   "execution_count": 257,
   "id": "bc8c3c6e",
   "metadata": {},
   "outputs": [],
   "source": [
    "malignancy = [int(lidc[lidc['noduleID'] == id]['malignancy'] > 3) for id in lidc_cnnFeatures_nb['nodule_id']]\n",
    "malignancy_nb = [int(lidc[lidc['noduleID'] == id]['malignancy']) for id in lidc_cnnFeatures_nb['nodule_id']]"
   ]
  },
  {
   "cell_type": "code",
   "execution_count": 258,
   "id": "a055f8fb",
   "metadata": {},
   "outputs": [],
   "source": [
    "lidc_TSNE = pd.DataFrame()\n",
    "lidc_TSNE['component_1'] = X_embedded[:,0]\n",
    "lidc_TSNE['component_2'] = X_embedded[:,1]\n",
    "lidc_TSNE['malignancy'] = malignancy\n",
    "lidc_TSNE['malignancy_nb'] = malignancy_nb"
   ]
  },
  {
   "cell_type": "code",
   "execution_count": 259,
   "id": "4dd3b53c",
   "metadata": {},
   "outputs": [
    {
     "data": {
      "image/png": "[encoded data removed]",
      "text/plain": [
       "<Figure size 432x288 with 1 Axes>"
      ]
     },
     "metadata": {
      "needs_background": "light"
     },
     "output_type": "display_data"
    }
   ],
   "source": [
    "fig, ax = plt.subplots()\n",
    "group = lidc_TSNE['malignancy_nb']\n",
    "component_1 = lidc_TSNE['component_1'].to_numpy()\n",
    "component_2 = lidc_TSNE['component_2'].to_numpy()\n",
    "# legend = {0:'red', 1:'blue'}\n",
    "\n",
    "for g in np.unique(group):\n",
    "    idx = np.where(group == g)\n",
    "    ax.scatter(component_1[idx], component_2[idx],  label = g, s = .2) #c = legend[g],\n",
    "ax.legend()\n",
    "plt.show()"
   ]
  },
  {
   "cell_type": "code",
   "execution_count": 260,
   "id": "a278589a",
   "metadata": {},
   "outputs": [],
   "source": [
    "temp = [int(lidc[lidc['noduleID'] == id]['spiculation'] > 1) for id in lidc_cnnFeatures_nb['nodule_id']]\n",
    "lidc_TSNE['temp'] = temp"
   ]
  },
  {
   "cell_type": "code",
   "execution_count": 261,
   "id": "bc332bc1",
   "metadata": {},
   "outputs": [
    {
     "data": {
      "image/png": "[encoded data removed]",
      "text/plain": [
       "<Figure size 432x288 with 1 Axes>"
      ]
     },
     "metadata": {
      "needs_background": "light"
     },
     "output_type": "display_data"
    }
   ],
   "source": [
    "fig, ax = plt.subplots()\n",
    "group = lidc_TSNE['temp']\n",
    "component_1 = lidc_TSNE['component_1'].to_numpy()\n",
    "component_2 = lidc_TSNE['component_2'].to_numpy()\n",
    "# legend = {0:'red', 1:'blue'}\n",
    "\n",
    "for g in np.unique(group):\n",
    "    idx = np.where(group == g)\n",
    "    ax.scatter(component_1[idx], component_2[idx],  label = g, s = .2) #c = legend[g],\n",
    "ax.legend()\n",
    "plt.show()"
   ]
  },
  {
   "cell_type": "code",
   "execution_count": 212,
   "id": "5398ff52",
   "metadata": {},
   "outputs": [
    {
     "data": {
      "text/plain": [
       "temp  malignancy\n",
       "0     0             870\n",
       "      1             481\n",
       "1     0              27\n",
       "      1             110\n",
       "dtype: int64"
      ]
     },
     "execution_count": 212,
     "metadata": {},
     "output_type": "execute_result"
    }
   ],
   "source": [
    "lidc_TSNE.groupby(['temp', 'malignancy']).size()"
   ]
  },
  {
   "cell_type": "code",
   "execution_count": null,
   "id": "8c618a61",
   "metadata": {},
   "outputs": [],
   "source": []
  }
 ],
 "metadata": {
  "kernelspec": {
   "display_name": "REU",
   "language": "python",
   "name": "reu"
  },
  "language_info": {
   "codemirror_mode": {
    "name": "ipython",
    "version": 3
   },
   "file_extension": ".py",
   "mimetype": "text/x-python",
   "name": "python",
   "nbconvert_exporter": "python",
   "pygments_lexer": "ipython3",
   "version": "3.10.5"
  }
 },
 "nbformat": 4,
 "nbformat_minor": 5
}
