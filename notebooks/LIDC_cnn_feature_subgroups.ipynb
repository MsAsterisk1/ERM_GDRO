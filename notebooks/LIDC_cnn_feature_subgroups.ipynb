{
 "cells": [
  {
   "cell_type": "markdown",
   "id": "12b88e31",
   "metadata": {
    "colab_type": "text",
    "id": "view-in-github"
   },
   "source": [
    "<a href=\"https://colab.research.google.com/github/mtzig/LIDC_GDRO/blob/main/notebooks/LIDC_cnn_feature_subgroups.ipynb\" target=\"_parent\"><img src=\"https://colab.research.google.com/assets/colab-badge.svg\" alt=\"Open In Colab\"/></a>"
   ]
  },
  {
   "cell_type": "code",
   "execution_count": 1,
   "id": "d1cb7b46",
   "metadata": {
    "id": "d1cb7b46"
   },
   "outputs": [],
   "source": [
    "%load_ext autoreload\n",
    "%autoreload 2"
   ]
  },
  {
   "cell_type": "code",
   "execution_count": 2,
   "id": "0130debc",
   "metadata": {
    "colab": {
     "base_uri": "https://localhost:8080/"
    },
    "id": "0130debc",
    "outputId": "37ef3a02-a3aa-45e1-a031-a195439335aa"
   },
   "outputs": [
    {
     "name": "stdout",
     "output_type": "stream",
     "text": [
      "Cloning into 'LIDC_GDRO'...\n",
      "remote: Enumerating objects: 3471, done.\u001b[K\n",
      "remote: Counting objects: 100% (43/43), done.\u001b[K\n",
      "remote: Compressing objects: 100% (33/33), done.\u001b[K\n",
      "remote: Total 3471 (delta 21), reused 25 (delta 10), pack-reused 3428\u001b[K\n",
      "Receiving objects: 100% (3471/3471), 56.18 MiB | 12.03 MiB/s, done.\n",
      "Resolving deltas: 100% (3169/3169), done.\n",
      "Checking out files: 100% (5390/5390), done.\n",
      "/content/LIDC_GDRO\n"
     ]
    }
   ],
   "source": [
    "!git clone https://github.com/mtzig/LIDC_GDRO.git\n",
    "%cd /content/LIDC_GDRO\n",
    "# %cd .."
   ]
  },
  {
   "cell_type": "code",
   "execution_count": 32,
   "id": "c-QS6S6oD2sC",
   "metadata": {
    "colab": {
     "base_uri": "https://localhost:8080/"
    },
    "id": "c-QS6S6oD2sC",
    "outputId": "44646459-bf70-435b-bf6f-c01cd8d9320d"
   },
   "outputs": [
    {
     "name": "stdout",
     "output_type": "stream",
     "text": [
      "remote: Enumerating objects: 7, done.\u001b[K\n",
      "remote: Counting objects:  14% (1/7)\u001b[K\r",
      "remote: Counting objects:  28% (2/7)\u001b[K\r",
      "remote: Counting objects:  42% (3/7)\u001b[K\r",
      "remote: Counting objects:  57% (4/7)\u001b[K\r",
      "remote: Counting objects:  71% (5/7)\u001b[K\r",
      "remote: Counting objects:  85% (6/7)\u001b[K\r",
      "remote: Counting objects: 100% (7/7)\u001b[K\r",
      "remote: Counting objects: 100% (7/7), done.\u001b[K\n",
      "remote: Compressing objects:  25% (1/4)\u001b[K\r",
      "remote: Compressing objects:  50% (2/4)\u001b[K\r",
      "remote: Compressing objects:  75% (3/4)\u001b[K\r",
      "remote: Compressing objects: 100% (4/4)\u001b[K\r",
      "remote: Compressing objects: 100% (4/4), done.\u001b[K\n",
      "remote: Total 4 (delta 3), reused 0 (delta 0), pack-reused 0\u001b[K\n",
      "Unpacking objects:  25% (1/4)   \r",
      "Unpacking objects:  50% (2/4)   \r",
      "Unpacking objects:  75% (3/4)   \r",
      "Unpacking objects: 100% (4/4)   \r",
      "Unpacking objects: 100% (4/4), done.\n",
      "From https://github.com/mtzig/LIDC_GDRO\n",
      "   4f9327d..b25d445  main       -> origin/main\n",
      "Updating 4f9327d..b25d445\n",
      "Fast-forward\n",
      " notebooks/run_test.ipynb | 4433 \u001b[32m+++++++++++++++++++++++\u001b[m\u001b[31m-----------------------\u001b[m\n",
      " 1 file changed, 2261 insertions(+), 2172 deletions(-)\n"
     ]
    }
   ],
   "source": [
    "# !git pull"
   ]
  },
  {
   "cell_type": "code",
   "execution_count": 29,
   "id": "e96f546a",
   "metadata": {
    "id": "e96f546a"
   },
   "outputs": [],
   "source": [
    "# import os\n",
    "# import torch\n",
    "import pandas as pd\n",
    "# import numpy as np\n",
    "from dataloaders import InfiniteDataLoader\n",
    "from datasets import NoduleDataset, SubclassedNoduleDataset\n",
    "from models import TransferModel, NeuralNetwork\n",
    "from loss import ERMLoss#, GDROLossAlt, GDROLoss\n",
    "from train import train, test\n",
    "from torch.optim.lr_scheduler import ReduceLROnPlateau\n",
    "\n",
    "# import torchvision\n",
    "from torchvision import transforms\n",
    "import torch\n",
    "from image_data_utils import getImages"
   ]
  },
  {
   "cell_type": "code",
   "execution_count": 6,
   "id": "1b918ae9",
   "metadata": {
    "colab": {
     "base_uri": "https://localhost:8080/"
    },
    "id": "1b918ae9",
    "outputId": "d2f87c61-10ea-40c6-feff-4950aa4775d9"
   },
   "outputs": [
    {
     "name": "stdout",
     "output_type": "stream",
     "text": [
      "Good to go!\n"
     ]
    }
   ],
   "source": [
    "if torch.cuda.is_available():\n",
    "    print(\"Good to go!\")\n",
    "    DEVICE = torch.device(\"cuda\")\n",
    "else:\n",
    "    print(\"Using cpu\")\n",
    "    DEVICE = torch.device(\"cpu\")"
   ]
  },
  {
   "cell_type": "markdown",
   "id": "776505f0",
   "metadata": {
    "id": "776505f0"
   },
   "source": [
    "#To derive an upper bound on performance, we first do clustering on entire dataset"
   ]
  },
  {
   "cell_type": "code",
   "execution_count": 7,
   "id": "b886b126",
   "metadata": {
    "id": "b886b126"
   },
   "outputs": [],
   "source": [
    "nodule_id, img_data = getImages(split=False, sublabels=False, binary=True, device=DEVICE)"
   ]
  },
  {
   "cell_type": "code",
   "execution_count": 240,
   "id": "j4PGyPKDE28m",
   "metadata": {
    "id": "j4PGyPKDE28m"
   },
   "outputs": [],
   "source": [
    "# import random\n",
    "# shuffle_data = list(zip(*img_data, nodule_id))\n",
    "# random.shuffle(shuffle_data)\n",
    "# s_d = list(zip(*shuffle_data))\n",
    "# shuffle_data, shuffle_id = s_d[:2], s_d[2]"
   ]
  },
  {
   "cell_type": "code",
   "execution_count": 9,
   "id": "765f1247",
   "metadata": {
    "id": "765f1247"
   },
   "outputs": [],
   "source": [
    "dataset = NoduleDataset(*img_data)\n",
    "loader = InfiniteDataLoader(dataset, batch_size=128)\n",
    "\n",
    "# tr = NoduleDataset(shuffle_data[0][:744],shuffle_data[1][:744])\n",
    "# cv = NoduleDataset(shuffle_data[0][744:],shuffle_data[1][744:])\n",
    "# loader = InfiniteDataLoader(tr, batch_size=128)\n",
    "# cv_loader = InfiniteDataLoader(cv, len(cv))"
   ]
  },
  {
   "cell_type": "markdown",
   "id": "Q-JdaXov5PhX",
   "metadata": {
    "id": "Q-JdaXov5PhX"
   },
   "source": [
    "#Get Waterbirds data"
   ]
  },
  {
   "cell_type": "code",
   "execution_count": null,
   "id": "pgNIYdKO5e5I",
   "metadata": {
    "id": "pgNIYdKO5e5I"
   },
   "outputs": [],
   "source": [
    "# !pip install wilds\n",
    "# from wilds import get_dataset\n",
    "\n",
    "# get_dataset(dataset=\"waterbirds\", download=True)"
   ]
  },
  {
   "cell_type": "code",
   "execution_count": 40,
   "id": "NynEoeLn5eHq",
   "metadata": {
    "id": "NynEoeLn5eHq"
   },
   "outputs": [],
   "source": [
    "# from PIL import Image"
   ]
  },
  {
   "cell_type": "code",
   "execution_count": 35,
   "id": "oZe6Racu60ao",
   "metadata": {
    "id": "oZe6Racu60ao"
   },
   "outputs": [],
   "source": [
    "# metadata_df = pd.read_csv('data/waterbirds_v1.0/metadata.csv')"
   ]
  },
  {
   "cell_type": "code",
   "execution_count": 100,
   "id": "ikgPMT0v7DkW",
   "metadata": {
    "id": "ikgPMT0v7DkW"
   },
   "outputs": [],
   "source": [
    "# convert_resize = transforms.Compose([transforms.ToTensor(), transforms.Resize((100, 100), antialias=True)])\n",
    "\n",
    "# # train_df, val_df, test_df = [metadata_df[metadata_df['split'] == split] for split in [0, 1, 2]]\n",
    "# df = metadata_df\n",
    "# dataset_list = []\n",
    "\n",
    "# # for df in [train_df, val_df, test_df]:\n",
    "# image_tensors = []\n",
    "# for image_path in df['img_filename']:\n",
    "#     image_tensors.append(convert_resize(Image.open('data/waterbirds_v1.0/' + image_path)))\n",
    "\n",
    "# X = torch.stack(image_tensors).to(DEVICE)\n",
    "# y = torch.LongTensor(df['y'].values).to(DEVICE)\n",
    "# c = torch.LongTensor((2 * df['y'] + df['place']).values).to(DEVICE)\n",
    "\n",
    "# dataset = NoduleDataset(X,y)\n",
    "# loader = InfiniteDataLoader(dataset, batch_size=1024)\n"
   ]
  },
  {
   "cell_type": "markdown",
   "id": "AfQzx_UTVFPn",
   "metadata": {
    "id": "AfQzx_UTVFPn"
   },
   "source": [
    "#Train Model"
   ]
  },
  {
   "cell_type": "code",
   "execution_count": 101,
   "id": "d902d7a8",
   "metadata": {
    "id": "d902d7a8"
   },
   "outputs": [],
   "source": [
    "model = TransferModel(freeze=False, binary=False, device=DEVICE)\n",
    "loss_fn = ERMLoss(model,torch.nn.CrossEntropyLoss(),{})\n",
    "optimizer = torch.optim.Adam(model.parameters(), lr=0.0005, weight_decay=0.005)\n",
    "# scheduler = ReduceLROnPlateau(optimizer, mode='max', factor=0.2, patience=2, verbose=True)\n"
   ]
  },
  {
   "cell_type": "code",
   "execution_count": 102,
   "id": "b8fe282e",
   "metadata": {
    "colab": {
     "base_uri": "https://localhost:8080/"
    },
    "id": "b8fe282e",
    "outputId": "fab0d734-668b-4866-c5af-238433bfe828"
   },
   "outputs": [
    {
     "name": "stdout",
     "output_type": "stream",
     "text": [
      "Epoch 1/10\n",
      "Average training loss: 1.4326620589603076\n",
      "Epoch 2/10\n",
      "Average training loss: 0.36047450520775537\n",
      "Epoch 3/10\n",
      "Average training loss: 0.2571727227080952\n",
      "Epoch 4/10\n",
      "Average training loss: 0.17350108379667456\n",
      "Epoch 5/10\n",
      "Average training loss: 0.10063909840854732\n",
      "Epoch 6/10\n",
      "Average training loss: 0.06538872623985464\n",
      "Epoch 7/10\n",
      "Average training loss: 0.049575807018713516\n",
      "Epoch 8/10\n",
      "Average training loss: 0.045176093889908356\n",
      "Epoch 9/10\n",
      "Average training loss: 0.03606704639440233\n",
      "Epoch 10/10\n",
      "Average training loss: 0.04480262490158731\n"
     ]
    }
   ],
   "source": [
    "epochs = 10\n",
    "for epoch in range(epochs):\n",
    "    print(f\"Epoch {epoch + 1}/{epochs}\")\n",
    "    train(loader, model, loss_fn, optimizer, verbose=True)\n",
    "    # accuracy = test(cv_loader, model, subgrouped=False, verbose=True)\n",
    "    # scheduler.step(accuracy)"
   ]
  },
  {
   "cell_type": "markdown",
   "id": "EJbb14GQ0RUH",
   "metadata": {
    "id": "EJbb14GQ0RUH"
   },
   "source": [
    "# Now we extract the features"
   ]
  },
  {
   "cell_type": "code",
   "execution_count": 103,
   "id": "jH_3fO5tID9Z",
   "metadata": {
    "colab": {
     "base_uri": "https://localhost:8080/"
    },
    "id": "jH_3fO5tID9Z",
    "outputId": "dbbdf988-086b-4ee7-c4e3-583d8adff539"
   },
   "outputs": [
    {
     "data": {
      "text/plain": [
       "torch.Size([11788, 3, 100, 100])"
      ]
     },
     "execution_count": 103,
     "metadata": {},
     "output_type": "execute_result"
    }
   ],
   "source": [
    "X.shape"
   ]
  },
  {
   "cell_type": "code",
   "execution_count": 109,
   "id": "X95bdmVT0Hr7",
   "metadata": {
    "id": "X95bdmVT0Hr7"
   },
   "outputs": [],
   "source": [
    "activation = {}\n",
    "def get_activation(name):\n",
    "    def hook(model, input, output):\n",
    "        activation[name] = output.detach()\n",
    "    return hook\n",
    "model.model.avgpool.register_forward_hook(get_activation('avgpool'))\n",
    "# image_tensors = torch.stack(img_data[0])#next(cv_loader)[0]#\n",
    "img_lst = []\n",
    "for n in range(4):\n",
    "  image_tensors = X[n*2947:(n+1)*2947]\n",
    "  model(image_tensors)\n",
    "  image_features = activation['avgpool'].squeeze()\n",
    "  img_lst.append(image_features)\n",
    "\n",
    "image_features = torch.cat(img_lst)"
   ]
  },
  {
   "cell_type": "code",
   "execution_count": 110,
   "id": "vekZk7CT0Z8F",
   "metadata": {
    "colab": {
     "base_uri": "https://localhost:8080/",
     "height": 235
    },
    "id": "vekZk7CT0Z8F",
    "outputId": "2151c0f7-bc1c-41e4-da91-dacfa7cc2265"
   },
   "outputs": [
    {
     "data": {
      "text/html": [
       "\n",
       "  <div id=\"df-9d583e8d-2781-489e-bb32-b293abe24029\">\n",
       "    <div class=\"colab-df-container\">\n",
       "      <div>\n",
       "<style scoped>\n",
       "    .dataframe tbody tr th:only-of-type {\n",
       "        vertical-align: middle;\n",
       "    }\n",
       "\n",
       "    .dataframe tbody tr th {\n",
       "        vertical-align: top;\n",
       "    }\n",
       "\n",
       "    .dataframe thead th {\n",
       "        text-align: right;\n",
       "    }\n",
       "</style>\n",
       "<table border=\"1\" class=\"dataframe\">\n",
       "  <thead>\n",
       "    <tr style=\"text-align: right;\">\n",
       "      <th></th>\n",
       "      <th>nodule_id</th>\n",
       "      <th>1</th>\n",
       "      <th>2</th>\n",
       "      <th>3</th>\n",
       "      <th>4</th>\n",
       "      <th>5</th>\n",
       "      <th>6</th>\n",
       "      <th>7</th>\n",
       "      <th>8</th>\n",
       "      <th>9</th>\n",
       "      <th>...</th>\n",
       "      <th>503</th>\n",
       "      <th>504</th>\n",
       "      <th>505</th>\n",
       "      <th>506</th>\n",
       "      <th>507</th>\n",
       "      <th>508</th>\n",
       "      <th>509</th>\n",
       "      <th>510</th>\n",
       "      <th>511</th>\n",
       "      <th>512</th>\n",
       "    </tr>\n",
       "  </thead>\n",
       "  <tbody>\n",
       "    <tr>\n",
       "      <th>0</th>\n",
       "      <td>3</td>\n",
       "      <td>0.132480</td>\n",
       "      <td>1.350154</td>\n",
       "      <td>0.227531</td>\n",
       "      <td>1.168282</td>\n",
       "      <td>1.103482</td>\n",
       "      <td>1.262426</td>\n",
       "      <td>1.280840</td>\n",
       "      <td>1.719880</td>\n",
       "      <td>0.122746</td>\n",
       "      <td>...</td>\n",
       "      <td>1.147598</td>\n",
       "      <td>1.357856</td>\n",
       "      <td>0.243243</td>\n",
       "      <td>0.233908</td>\n",
       "      <td>0.054262</td>\n",
       "      <td>1.178325</td>\n",
       "      <td>2.860192</td>\n",
       "      <td>0.076642</td>\n",
       "      <td>1.173112</td>\n",
       "      <td>0.822768</td>\n",
       "    </tr>\n",
       "    <tr>\n",
       "      <th>1</th>\n",
       "      <td>3</td>\n",
       "      <td>0.039878</td>\n",
       "      <td>0.814823</td>\n",
       "      <td>0.223859</td>\n",
       "      <td>2.202260</td>\n",
       "      <td>2.262292</td>\n",
       "      <td>1.825692</td>\n",
       "      <td>4.809780</td>\n",
       "      <td>3.336958</td>\n",
       "      <td>0.014433</td>\n",
       "      <td>...</td>\n",
       "      <td>2.215172</td>\n",
       "      <td>2.785909</td>\n",
       "      <td>0.566300</td>\n",
       "      <td>0.081252</td>\n",
       "      <td>0.008564</td>\n",
       "      <td>3.279999</td>\n",
       "      <td>1.831945</td>\n",
       "      <td>0.000000</td>\n",
       "      <td>2.703811</td>\n",
       "      <td>0.283470</td>\n",
       "    </tr>\n",
       "    <tr>\n",
       "      <th>2</th>\n",
       "      <td>2</td>\n",
       "      <td>0.006649</td>\n",
       "      <td>5.879307</td>\n",
       "      <td>0.083068</td>\n",
       "      <td>3.764487</td>\n",
       "      <td>5.562809</td>\n",
       "      <td>6.350974</td>\n",
       "      <td>2.797958</td>\n",
       "      <td>6.021413</td>\n",
       "      <td>0.001117</td>\n",
       "      <td>...</td>\n",
       "      <td>5.501935</td>\n",
       "      <td>4.207202</td>\n",
       "      <td>0.702343</td>\n",
       "      <td>0.025149</td>\n",
       "      <td>0.033757</td>\n",
       "      <td>5.264578</td>\n",
       "      <td>3.893074</td>\n",
       "      <td>0.000000</td>\n",
       "      <td>4.332061</td>\n",
       "      <td>1.223757</td>\n",
       "    </tr>\n",
       "    <tr>\n",
       "      <th>3</th>\n",
       "      <td>3</td>\n",
       "      <td>0.184459</td>\n",
       "      <td>0.736601</td>\n",
       "      <td>0.176486</td>\n",
       "      <td>1.304856</td>\n",
       "      <td>1.672188</td>\n",
       "      <td>1.360541</td>\n",
       "      <td>1.303989</td>\n",
       "      <td>2.358185</td>\n",
       "      <td>0.081280</td>\n",
       "      <td>...</td>\n",
       "      <td>1.793773</td>\n",
       "      <td>1.876769</td>\n",
       "      <td>0.784263</td>\n",
       "      <td>0.186646</td>\n",
       "      <td>0.245599</td>\n",
       "      <td>1.188481</td>\n",
       "      <td>1.145279</td>\n",
       "      <td>0.044460</td>\n",
       "      <td>2.053371</td>\n",
       "      <td>0.132452</td>\n",
       "    </tr>\n",
       "    <tr>\n",
       "      <th>4</th>\n",
       "      <td>3</td>\n",
       "      <td>0.028746</td>\n",
       "      <td>4.905395</td>\n",
       "      <td>0.096091</td>\n",
       "      <td>6.345754</td>\n",
       "      <td>7.720515</td>\n",
       "      <td>6.712750</td>\n",
       "      <td>6.120598</td>\n",
       "      <td>9.365680</td>\n",
       "      <td>0.010902</td>\n",
       "      <td>...</td>\n",
       "      <td>7.565372</td>\n",
       "      <td>3.482023</td>\n",
       "      <td>2.495018</td>\n",
       "      <td>0.026955</td>\n",
       "      <td>0.184290</td>\n",
       "      <td>6.851590</td>\n",
       "      <td>1.492653</td>\n",
       "      <td>0.000000</td>\n",
       "      <td>8.118637</td>\n",
       "      <td>0.760218</td>\n",
       "    </tr>\n",
       "  </tbody>\n",
       "</table>\n",
       "<p>5 rows × 513 columns</p>\n",
       "</div>\n",
       "      <button class=\"colab-df-convert\" onclick=\"convertToInteractive('df-9d583e8d-2781-489e-bb32-b293abe24029')\"\n",
       "              title=\"Convert this dataframe to an interactive table.\"\n",
       "              style=\"display:none;\">\n",
       "        \n",
       "  <svg xmlns=\"http://www.w3.org/2000/svg\" height=\"24px\"viewBox=\"0 0 24 24\"\n",
       "       width=\"24px\">\n",
       "    <path d=\"M0 0h24v24H0V0z\" fill=\"none\"/>\n",
       "    <path d=\"M18.56 5.44l.94 2.06.94-2.06 2.06-.94-2.06-.94-.94-2.06-.94 2.06-2.06.94zm-11 1L8.5 8.5l.94-2.06 2.06-.94-2.06-.94L8.5 2.5l-.94 2.06-2.06.94zm10 10l.94 2.06.94-2.06 2.06-.94-2.06-.94-.94-2.06-.94 2.06-2.06.94z\"/><path d=\"M17.41 7.96l-1.37-1.37c-.4-.4-.92-.59-1.43-.59-.52 0-1.04.2-1.43.59L10.3 9.45l-7.72 7.72c-.78.78-.78 2.05 0 2.83L4 21.41c.39.39.9.59 1.41.59.51 0 1.02-.2 1.41-.59l7.78-7.78 2.81-2.81c.8-.78.8-2.07 0-2.86zM5.41 20L4 18.59l7.72-7.72 1.47 1.35L5.41 20z\"/>\n",
       "  </svg>\n",
       "      </button>\n",
       "      \n",
       "  <style>\n",
       "    .colab-df-container {\n",
       "      display:flex;\n",
       "      flex-wrap:wrap;\n",
       "      gap: 12px;\n",
       "    }\n",
       "\n",
       "    .colab-df-convert {\n",
       "      background-color: #E8F0FE;\n",
       "      border: none;\n",
       "      border-radius: 50%;\n",
       "      cursor: pointer;\n",
       "      display: none;\n",
       "      fill: #1967D2;\n",
       "      height: 32px;\n",
       "      padding: 0 0 0 0;\n",
       "      width: 32px;\n",
       "    }\n",
       "\n",
       "    .colab-df-convert:hover {\n",
       "      background-color: #E2EBFA;\n",
       "      box-shadow: 0px 1px 2px rgba(60, 64, 67, 0.3), 0px 1px 3px 1px rgba(60, 64, 67, 0.15);\n",
       "      fill: #174EA6;\n",
       "    }\n",
       "\n",
       "    [theme=dark] .colab-df-convert {\n",
       "      background-color: #3B4455;\n",
       "      fill: #D2E3FC;\n",
       "    }\n",
       "\n",
       "    [theme=dark] .colab-df-convert:hover {\n",
       "      background-color: #434B5C;\n",
       "      box-shadow: 0px 1px 3px 1px rgba(0, 0, 0, 0.15);\n",
       "      filter: drop-shadow(0px 1px 2px rgba(0, 0, 0, 0.3));\n",
       "      fill: #FFFFFF;\n",
       "    }\n",
       "  </style>\n",
       "\n",
       "      <script>\n",
       "        const buttonEl =\n",
       "          document.querySelector('#df-9d583e8d-2781-489e-bb32-b293abe24029 button.colab-df-convert');\n",
       "        buttonEl.style.display =\n",
       "          google.colab.kernel.accessAllowed ? 'block' : 'none';\n",
       "\n",
       "        async function convertToInteractive(key) {\n",
       "          const element = document.querySelector('#df-9d583e8d-2781-489e-bb32-b293abe24029');\n",
       "          const dataTable =\n",
       "            await google.colab.kernel.invokeFunction('convertToInteractive',\n",
       "                                                     [key], {});\n",
       "          if (!dataTable) return;\n",
       "\n",
       "          const docLinkHtml = 'Like what you see? Visit the ' +\n",
       "            '<a target=\"_blank\" href=https://colab.research.google.com/notebooks/data_table.ipynb>data table notebook</a>'\n",
       "            + ' to learn more about interactive tables.';\n",
       "          element.innerHTML = '';\n",
       "          dataTable['output_type'] = 'display_data';\n",
       "          await google.colab.output.renderOutput(dataTable, element);\n",
       "          const docLink = document.createElement('div');\n",
       "          docLink.innerHTML = docLinkHtml;\n",
       "          element.appendChild(docLink);\n",
       "        }\n",
       "      </script>\n",
       "    </div>\n",
       "  </div>\n",
       "  "
      ],
      "text/plain": [
       "   nodule_id         1         2         3         4         5         6  \\\n",
       "0          3  0.132480  1.350154  0.227531  1.168282  1.103482  1.262426   \n",
       "1          3  0.039878  0.814823  0.223859  2.202260  2.262292  1.825692   \n",
       "2          2  0.006649  5.879307  0.083068  3.764487  5.562809  6.350974   \n",
       "3          3  0.184459  0.736601  0.176486  1.304856  1.672188  1.360541   \n",
       "4          3  0.028746  4.905395  0.096091  6.345754  7.720515  6.712750   \n",
       "\n",
       "          7         8         9  ...       503       504       505       506  \\\n",
       "0  1.280840  1.719880  0.122746  ...  1.147598  1.357856  0.243243  0.233908   \n",
       "1  4.809780  3.336958  0.014433  ...  2.215172  2.785909  0.566300  0.081252   \n",
       "2  2.797958  6.021413  0.001117  ...  5.501935  4.207202  0.702343  0.025149   \n",
       "3  1.303989  2.358185  0.081280  ...  1.793773  1.876769  0.784263  0.186646   \n",
       "4  6.120598  9.365680  0.010902  ...  7.565372  3.482023  2.495018  0.026955   \n",
       "\n",
       "        507       508       509       510       511       512  \n",
       "0  0.054262  1.178325  2.860192  0.076642  1.173112  0.822768  \n",
       "1  0.008564  3.279999  1.831945  0.000000  2.703811  0.283470  \n",
       "2  0.033757  5.264578  3.893074  0.000000  4.332061  1.223757  \n",
       "3  0.245599  1.188481  1.145279  0.044460  2.053371  0.132452  \n",
       "4  0.184290  6.851590  1.492653  0.000000  8.118637  0.760218  \n",
       "\n",
       "[5 rows x 513 columns]"
      ]
     },
     "execution_count": 110,
     "metadata": {},
     "output_type": "execute_result"
    }
   ],
   "source": [
    "cols = []\n",
    "for idx,id in enumerate(c):#enumerate(shuffle_id[744:]):\n",
    "  id = int(id)\n",
    "  cols.append([id] + image_features[idx].cpu().numpy().tolist())\n",
    "lidc_cnnFeatures = pd.DataFrame(cols).rename({0:'nodule_id'}, axis=1)\n",
    "lidc_cnnFeatures.head()"
   ]
  },
  {
   "cell_type": "code",
   "execution_count": 111,
   "id": "X5Qgp0ww02DS",
   "metadata": {
    "id": "X5Qgp0ww02DS"
   },
   "outputs": [],
   "source": [
    "lidc_cnnFeatures.to_csv('cnn_features.csv')\n",
    "torch.save(model.state_dict(), 'cnn_feature_model') #saves weights in file called weights"
   ]
  },
  {
   "cell_type": "markdown",
   "id": "OO3Kusfy056i",
   "metadata": {
    "id": "OO3Kusfy056i"
   },
   "source": [
    "## Now we perform clustering"
   ]
  },
  {
   "cell_type": "code",
   "execution_count": 96,
   "id": "xxjA_gRI1vzL",
   "metadata": {
    "id": "xxjA_gRI1vzL"
   },
   "outputs": [],
   "source": [
    "import pandas as pd\n",
    "import numpy as np\n",
    "import matplotlib.pyplot as plt\n",
    "\n",
    "# from sklearn.preprocessing import StandardScaler\n",
    "from sklearn.decomposition import PCA, SparsePCA, TruncatedSVD \n",
    "from sklearn.cluster import KMeans\n",
    "from sklearn.metrics import silhouette_score\n",
    "from sklearn.manifold import TSNE"
   ]
  },
  {
   "cell_type": "code",
   "execution_count": 98,
   "id": "xEHo2OAn1DiD",
   "metadata": {
    "colab": {
     "base_uri": "https://localhost:8080/",
     "height": 347
    },
    "id": "xEHo2OAn1DiD",
    "outputId": "a1c22627-f107-4757-e63a-c52987720d77"
   },
   "outputs": [
    {
     "ename": "AttributeError",
     "evalue": "ignored",
     "output_type": "error",
     "traceback": [
      "\u001b[0;31m---------------------------------------------------------------------------\u001b[0m",
      "\u001b[0;31mAttributeError\u001b[0m                            Traceback (most recent call last)",
      "\u001b[0;32m<ipython-input-98-8e9324c4fe78>\u001b[0m in \u001b[0;36m<module>\u001b[0;34m()\u001b[0m\n\u001b[1;32m      1\u001b[0m \u001b[0mX\u001b[0m \u001b[0;34m=\u001b[0m \u001b[0mlidc_cnnFeatures\u001b[0m\u001b[0;34m.\u001b[0m\u001b[0mdrop\u001b[0m\u001b[0;34m(\u001b[0m\u001b[0mcolumns\u001b[0m\u001b[0;34m=\u001b[0m\u001b[0;34m[\u001b[0m\u001b[0;34m'nodule_id'\u001b[0m\u001b[0;34m]\u001b[0m\u001b[0;34m)\u001b[0m\u001b[0;34m.\u001b[0m\u001b[0mvalues\u001b[0m\u001b[0;34m\u001b[0m\u001b[0;34m\u001b[0m\u001b[0m\n\u001b[1;32m      2\u001b[0m \u001b[0mpca_512\u001b[0m \u001b[0;34m=\u001b[0m \u001b[0mTruncatedSVD\u001b[0m\u001b[0;34m(\u001b[0m\u001b[0mn_components\u001b[0m\u001b[0;34m=\u001b[0m\u001b[0;36m2\u001b[0m\u001b[0;34m,\u001b[0m \u001b[0mrandom_state\u001b[0m\u001b[0;34m=\u001b[0m\u001b[0;36m4\u001b[0m\u001b[0;34m)\u001b[0m\u001b[0;34m\u001b[0m\u001b[0;34m\u001b[0m\u001b[0m\n\u001b[0;32m----> 3\u001b[0;31m \u001b[0mpca_512\u001b[0m\u001b[0;34m.\u001b[0m\u001b[0mfit\u001b[0m\u001b[0;34m(\u001b[0m\u001b[0mX\u001b[0m\u001b[0;34m)\u001b[0m\u001b[0;34m\u001b[0m\u001b[0;34m\u001b[0m\u001b[0m\n\u001b[0m",
      "\u001b[0;32m/usr/local/lib/python3.7/dist-packages/sklearn/decomposition/_truncated_svd.py\u001b[0m in \u001b[0;36mfit\u001b[0;34m(self, X, y)\u001b[0m\n\u001b[1;32m    171\u001b[0m             \u001b[0mReturns\u001b[0m \u001b[0mthe\u001b[0m \u001b[0mtransformer\u001b[0m \u001b[0mobject\u001b[0m\u001b[0;34m.\u001b[0m\u001b[0;34m\u001b[0m\u001b[0;34m\u001b[0m\u001b[0m\n\u001b[1;32m    172\u001b[0m         \"\"\"\n\u001b[0;32m--> 173\u001b[0;31m         \u001b[0mself\u001b[0m\u001b[0;34m.\u001b[0m\u001b[0mfit_transform\u001b[0m\u001b[0;34m(\u001b[0m\u001b[0mX\u001b[0m\u001b[0;34m)\u001b[0m\u001b[0;34m\u001b[0m\u001b[0;34m\u001b[0m\u001b[0m\n\u001b[0m\u001b[1;32m    174\u001b[0m         \u001b[0;32mreturn\u001b[0m \u001b[0mself\u001b[0m\u001b[0;34m\u001b[0m\u001b[0;34m\u001b[0m\u001b[0m\n\u001b[1;32m    175\u001b[0m \u001b[0;34m\u001b[0m\u001b[0m\n",
      "\u001b[0;32m/usr/local/lib/python3.7/dist-packages/sklearn/decomposition/_truncated_svd.py\u001b[0m in \u001b[0;36mfit_transform\u001b[0;34m(self, X, y)\u001b[0m\n\u001b[1;32m    209\u001b[0m                 )\n\u001b[1;32m    210\u001b[0m             U, Sigma, VT = randomized_svd(\n\u001b[0;32m--> 211\u001b[0;31m                 \u001b[0mX\u001b[0m\u001b[0;34m,\u001b[0m \u001b[0mself\u001b[0m\u001b[0;34m.\u001b[0m\u001b[0mn_components\u001b[0m\u001b[0;34m,\u001b[0m \u001b[0mn_iter\u001b[0m\u001b[0;34m=\u001b[0m\u001b[0mself\u001b[0m\u001b[0;34m.\u001b[0m\u001b[0mn_iter\u001b[0m\u001b[0;34m,\u001b[0m \u001b[0mrandom_state\u001b[0m\u001b[0;34m=\u001b[0m\u001b[0mrandom_state\u001b[0m\u001b[0;34m\u001b[0m\u001b[0;34m\u001b[0m\u001b[0m\n\u001b[0m\u001b[1;32m    212\u001b[0m             )\n\u001b[1;32m    213\u001b[0m         \u001b[0;32melse\u001b[0m\u001b[0;34m:\u001b[0m\u001b[0;34m\u001b[0m\u001b[0;34m\u001b[0m\u001b[0m\n",
      "\u001b[0;32m/usr/local/lib/python3.7/dist-packages/sklearn/utils/extmath.py\u001b[0m in \u001b[0;36mrandomized_svd\u001b[0;34m(M, n_components, n_oversamples, n_iter, power_iteration_normalizer, transpose, flip_sign, random_state)\u001b[0m\n\u001b[1;32m    405\u001b[0m \u001b[0;34m\u001b[0m\u001b[0m\n\u001b[1;32m    406\u001b[0m     \u001b[0;31m# compute the SVD on the thin matrix: (k + p) wide\u001b[0m\u001b[0;34m\u001b[0m\u001b[0;34m\u001b[0m\u001b[0;34m\u001b[0m\u001b[0m\n\u001b[0;32m--> 407\u001b[0;31m     \u001b[0mUhat\u001b[0m\u001b[0;34m,\u001b[0m \u001b[0ms\u001b[0m\u001b[0;34m,\u001b[0m \u001b[0mVt\u001b[0m \u001b[0;34m=\u001b[0m \u001b[0mlinalg\u001b[0m\u001b[0;34m.\u001b[0m\u001b[0msvd\u001b[0m\u001b[0;34m(\u001b[0m\u001b[0mB\u001b[0m\u001b[0;34m,\u001b[0m \u001b[0mfull_matrices\u001b[0m\u001b[0;34m=\u001b[0m\u001b[0;32mFalse\u001b[0m\u001b[0;34m)\u001b[0m\u001b[0;34m\u001b[0m\u001b[0;34m\u001b[0m\u001b[0m\n\u001b[0m\u001b[1;32m    408\u001b[0m \u001b[0;34m\u001b[0m\u001b[0m\n\u001b[1;32m    409\u001b[0m     \u001b[0;32mdel\u001b[0m \u001b[0mB\u001b[0m\u001b[0;34m\u001b[0m\u001b[0;34m\u001b[0m\u001b[0m\n",
      "\u001b[0;32m/usr/local/lib/python3.7/dist-packages/scipy/linalg/decomp_svd.py\u001b[0m in \u001b[0;36msvd\u001b[0;34m(a, full_matrices, compute_uv, overwrite_a, check_finite, lapack_driver)\u001b[0m\n\u001b[1;32m    106\u001b[0m \u001b[0;34m\u001b[0m\u001b[0m\n\u001b[1;32m    107\u001b[0m     \"\"\"\n\u001b[0;32m--> 108\u001b[0;31m     \u001b[0ma1\u001b[0m \u001b[0;34m=\u001b[0m \u001b[0m_asarray_validated\u001b[0m\u001b[0;34m(\u001b[0m\u001b[0ma\u001b[0m\u001b[0;34m,\u001b[0m \u001b[0mcheck_finite\u001b[0m\u001b[0;34m=\u001b[0m\u001b[0mcheck_finite\u001b[0m\u001b[0;34m)\u001b[0m\u001b[0;34m\u001b[0m\u001b[0;34m\u001b[0m\u001b[0m\n\u001b[0m\u001b[1;32m    109\u001b[0m     \u001b[0;32mif\u001b[0m \u001b[0mlen\u001b[0m\u001b[0;34m(\u001b[0m\u001b[0ma1\u001b[0m\u001b[0;34m.\u001b[0m\u001b[0mshape\u001b[0m\u001b[0;34m)\u001b[0m \u001b[0;34m!=\u001b[0m \u001b[0;36m2\u001b[0m\u001b[0;34m:\u001b[0m\u001b[0;34m\u001b[0m\u001b[0;34m\u001b[0m\u001b[0m\n\u001b[1;32m    110\u001b[0m         \u001b[0;32mraise\u001b[0m \u001b[0mValueError\u001b[0m\u001b[0;34m(\u001b[0m\u001b[0;34m'expected matrix'\u001b[0m\u001b[0;34m)\u001b[0m\u001b[0;34m\u001b[0m\u001b[0;34m\u001b[0m\u001b[0m\n",
      "\u001b[0;32m/usr/local/lib/python3.7/dist-packages/scipy/_lib/_util.py\u001b[0m in \u001b[0;36m_asarray_validated\u001b[0;34m(a, check_finite, sparse_ok, objects_ok, mask_ok, as_inexact)\u001b[0m\n\u001b[1;32m    282\u001b[0m     \u001b[0;32mif\u001b[0m \u001b[0;32mnot\u001b[0m \u001b[0msparse_ok\u001b[0m\u001b[0;34m:\u001b[0m\u001b[0;34m\u001b[0m\u001b[0;34m\u001b[0m\u001b[0m\n\u001b[1;32m    283\u001b[0m         \u001b[0;32mimport\u001b[0m \u001b[0mscipy\u001b[0m\u001b[0;34m.\u001b[0m\u001b[0msparse\u001b[0m\u001b[0;34m\u001b[0m\u001b[0;34m\u001b[0m\u001b[0m\n\u001b[0;32m--> 284\u001b[0;31m         \u001b[0;32mif\u001b[0m \u001b[0mscipy\u001b[0m\u001b[0;34m.\u001b[0m\u001b[0msparse\u001b[0m\u001b[0;34m.\u001b[0m\u001b[0missparse\u001b[0m\u001b[0;34m(\u001b[0m\u001b[0ma\u001b[0m\u001b[0;34m)\u001b[0m\u001b[0;34m:\u001b[0m\u001b[0;34m\u001b[0m\u001b[0;34m\u001b[0m\u001b[0m\n\u001b[0m\u001b[1;32m    285\u001b[0m             msg = ('Sparse matrices are not supported by this function. '\n\u001b[1;32m    286\u001b[0m                    \u001b[0;34m'Perhaps one of the scipy.sparse.linalg functions '\u001b[0m\u001b[0;34m\u001b[0m\u001b[0;34m\u001b[0m\u001b[0m\n",
      "\u001b[0;31mAttributeError\u001b[0m: module 'scipy' has no attribute 'sparse'"
     ]
    }
   ],
   "source": [
    "X = lidc_cnnFeatures.drop(columns=['nodule_id']).values\n",
    "pca_512 = TruncatedSVD(n_components=2, random_state=4)\n",
    "pca_512.fit(X)"
   ]
  },
  {
   "cell_type": "code",
   "execution_count": 21,
   "id": "zZsE4IMM1jMu",
   "metadata": {
    "colab": {
     "base_uri": "https://localhost:8080/",
     "height": 296
    },
    "id": "zZsE4IMM1jMu",
    "outputId": "6df99250-24b6-48be-b142-3316aeaf1def"
   },
   "outputs": [
    {
     "data": {
      "text/plain": [
       "Text(0, 0.5, 'Cumulative Explained Variance')"
      ]
     },
     "execution_count": 21,
     "metadata": {},
     "output_type": "execute_result"
    },
    {
     "data": {
      "image/png": "[encoded data removed]",
      "text/plain": [
       "<Figure size 432x288 with 1 Axes>"
      ]
     },
     "metadata": {
      "needs_background": "light"
     },
     "output_type": "display_data"
    }
   ],
   "source": [
    "cum_component_variance = np.cumsum(pca_512.explained_variance_ratio_*100)\n",
    "plt.plot(cum_component_variance)\n",
    "plt.xlabel('Number of PCA Components')\n",
    "plt.ylabel('Cumulative Explained Variance')"
   ]
  },
  {
   "cell_type": "code",
   "execution_count": 22,
   "id": "BYDSXFgj11u7",
   "metadata": {
    "colab": {
     "base_uri": "https://localhost:8080/"
    },
    "id": "BYDSXFgj11u7",
    "outputId": "d471d2d1-ade0-4722-cca8-7bf2e6c5aae4"
   },
   "outputs": [
    {
     "data": {
      "text/plain": [
       "99.7192775931904"
      ]
     },
     "execution_count": 22,
     "metadata": {},
     "output_type": "execute_result"
    }
   ],
   "source": [
    "cum_component_variance[100]"
   ]
  },
  {
   "cell_type": "code",
   "execution_count": 23,
   "id": "_-7c_pyU14QK",
   "metadata": {
    "id": "_-7c_pyU14QK"
   },
   "outputs": [],
   "source": [
    "pca_100 = PCA(n_components=100, random_state=4)\n",
    "pca_100.fit(X)\n",
    "X_pca = pca_100.transform(X)"
   ]
  },
  {
   "cell_type": "code",
   "execution_count": 24,
   "id": "S82uXve-2pGZ",
   "metadata": {
    "colab": {
     "base_uri": "https://localhost:8080/"
    },
    "id": "S82uXve-2pGZ",
    "outputId": "33964532-88ff-42d8-f376-3fe551a92d23"
   },
   "outputs": [
    {
     "name": "stdout",
     "output_type": "stream",
     "text": [
      "For n_clusters = 2 The average silhouette_score is : 0.5547956597082866\n",
      "For n_clusters = 3 The average silhouette_score is : 0.47381100782295904\n",
      "For n_clusters = 4 The average silhouette_score is : 0.4322246047230301\n",
      "For n_clusters = 5 The average silhouette_score is : 0.3310143716704591\n",
      "For n_clusters = 6 The average silhouette_score is : 0.3179455716225505\n",
      "For n_clusters = 7 The average silhouette_score is : 0.2938474448390774\n",
      "For n_clusters = 8 The average silhouette_score is : 0.288521999909058\n",
      "For n_clusters = 9 The average silhouette_score is : 0.24957286051090244\n",
      "For n_clusters = 10 The average silhouette_score is : 0.25818482939444437\n",
      "For n_clusters = 11 The average silhouette_score is : 0.24073506144003978\n",
      "For n_clusters = 12 The average silhouette_score is : 0.23240056815954993\n",
      "For n_clusters = 13 The average silhouette_score is : 0.21867821721369557\n",
      "For n_clusters = 14 The average silhouette_score is : 0.23875260210057295\n",
      "For n_clusters = 15 The average silhouette_score is : 0.22191126368926256\n"
     ]
    }
   ],
   "source": [
    "clusters = [n for n in range(2,16)]\n",
    "silhouette_coefficients = []\n",
    "\n",
    "for cluster in clusters:\n",
    "  kmeans = KMeans(n_clusters=cluster, random_state=420).fit(X_pca)\n",
    "  labels = kmeans.labels_\n",
    "  \n",
    "  silhouette_avg = silhouette_score(X, labels)\n",
    "  silhouette_coefficients.append(silhouette_avg)\n",
    "  print(\"For n_clusters =\",cluster, \"The average silhouette_score is :\",silhouette_avg)"
   ]
  },
  {
   "cell_type": "code",
   "execution_count": 25,
   "id": "Z5WtG48i25Rj",
   "metadata": {
    "colab": {
     "base_uri": "https://localhost:8080/",
     "height": 296
    },
    "id": "Z5WtG48i25Rj",
    "outputId": "d825235d-3b85-4ba5-f390-f498ea05bf92"
   },
   "outputs": [
    {
     "data": {
      "text/plain": [
       "Text(0, 0.5, 'Silhouette Coefficients')"
      ]
     },
     "execution_count": 25,
     "metadata": {},
     "output_type": "execute_result"
    },
    {
     "data": {
      "image/png": "[encoded data removed]",
      "text/plain": [
       "<Figure size 432x288 with 1 Axes>"
      ]
     },
     "metadata": {
      "needs_background": "light"
     },
     "output_type": "display_data"
    }
   ],
   "source": [
    "plt.plot(clusters, silhouette_coefficients)\n",
    "plt.xlabel('Number of Clusters')\n",
    "plt.ylabel('Silhouette Coefficients')"
   ]
  },
  {
   "cell_type": "code",
   "execution_count": 26,
   "id": "o9rKVyIa264Y",
   "metadata": {
    "colab": {
     "base_uri": "https://localhost:8080/"
    },
    "id": "o9rKVyIa264Y",
    "outputId": "f9a24351-5d1d-4b71-e7ac-8afb7613ea20"
   },
   "outputs": [
    {
     "name": "stdout",
     "output_type": "stream",
     "text": [
      "There are 1488 points, and 947 points are in one cluster with 541 in the other.\n"
     ]
    }
   ],
   "source": [
    "kmeans = KMeans(n_clusters=2, random_state=420).fit(X_pca)\n",
    "cluster_labels = kmeans.labels_\n",
    "print(f'There are {len(cluster_labels)} points, and {sum(cluster_labels)} points are in one cluster with {len(cluster_labels)-sum(cluster_labels)} in the other.')"
   ]
  },
  {
   "cell_type": "code",
   "execution_count": 70,
   "id": "lN5fk3sq3d3v",
   "metadata": {
    "colab": {
     "base_uri": "https://localhost:8080/",
     "height": 381
    },
    "id": "lN5fk3sq3d3v",
    "outputId": "b8685de6-3d98-489e-a451-651e7b8e5bc3"
   },
   "outputs": [
    {
     "name": "stderr",
     "output_type": "stream",
     "text": [
      "/usr/local/lib/python3.7/dist-packages/sklearn/manifold/_t_sne.py:783: FutureWarning: The default initialization in TSNE will change from 'random' to 'pca' in 1.2.\n",
      "  FutureWarning,\n",
      "/usr/local/lib/python3.7/dist-packages/sklearn/manifold/_t_sne.py:793: FutureWarning: The default learning rate in TSNE will change from 200.0 to 'auto' in 1.2.\n",
      "  FutureWarning,\n"
     ]
    },
    {
     "ename": "TypeError",
     "evalue": "ignored",
     "output_type": "error",
     "traceback": [
      "\u001b[0;31m---------------------------------------------------------------------------\u001b[0m",
      "\u001b[0;31mTypeError\u001b[0m                                 Traceback (most recent call last)",
      "\u001b[0;32m<ipython-input-70-e22a54c1bf29>\u001b[0m in \u001b[0;36m<module>\u001b[0;34m()\u001b[0m\n\u001b[0;32m----> 1\u001b[0;31m \u001b[0mX_embedded\u001b[0m \u001b[0;34m=\u001b[0m \u001b[0mTSNE\u001b[0m\u001b[0;34m(\u001b[0m\u001b[0mn_components\u001b[0m\u001b[0;34m=\u001b[0m\u001b[0;36m2\u001b[0m\u001b[0;34m,\u001b[0m \u001b[0mrandom_state\u001b[0m\u001b[0;34m=\u001b[0m\u001b[0;36m4\u001b[0m\u001b[0;34m)\u001b[0m\u001b[0;34m.\u001b[0m\u001b[0mfit_transform\u001b[0m\u001b[0;34m(\u001b[0m\u001b[0mX\u001b[0m\u001b[0;34m)\u001b[0m\u001b[0;34m\u001b[0m\u001b[0;34m\u001b[0m\u001b[0m\n\u001b[0m",
      "\u001b[0;32m/usr/local/lib/python3.7/dist-packages/sklearn/manifold/_t_sne.py\u001b[0m in \u001b[0;36mfit_transform\u001b[0;34m(self, X, y)\u001b[0m\n\u001b[1;32m   1106\u001b[0m             \u001b[0mEmbedding\u001b[0m \u001b[0mof\u001b[0m \u001b[0mthe\u001b[0m \u001b[0mtraining\u001b[0m \u001b[0mdata\u001b[0m \u001b[0;32min\u001b[0m \u001b[0mlow\u001b[0m\u001b[0;34m-\u001b[0m\u001b[0mdimensional\u001b[0m \u001b[0mspace\u001b[0m\u001b[0;34m.\u001b[0m\u001b[0;34m\u001b[0m\u001b[0;34m\u001b[0m\u001b[0m\n\u001b[1;32m   1107\u001b[0m         \"\"\"\n\u001b[0;32m-> 1108\u001b[0;31m         \u001b[0membedding\u001b[0m \u001b[0;34m=\u001b[0m \u001b[0mself\u001b[0m\u001b[0;34m.\u001b[0m\u001b[0m_fit\u001b[0m\u001b[0;34m(\u001b[0m\u001b[0mX\u001b[0m\u001b[0;34m)\u001b[0m\u001b[0;34m\u001b[0m\u001b[0;34m\u001b[0m\u001b[0m\n\u001b[0m\u001b[1;32m   1109\u001b[0m         \u001b[0mself\u001b[0m\u001b[0;34m.\u001b[0m\u001b[0membedding_\u001b[0m \u001b[0;34m=\u001b[0m \u001b[0membedding\u001b[0m\u001b[0;34m\u001b[0m\u001b[0;34m\u001b[0m\u001b[0m\n\u001b[1;32m   1110\u001b[0m         \u001b[0;32mreturn\u001b[0m \u001b[0mself\u001b[0m\u001b[0;34m.\u001b[0m\u001b[0membedding_\u001b[0m\u001b[0;34m\u001b[0m\u001b[0;34m\u001b[0m\u001b[0m\n",
      "\u001b[0;32m/usr/local/lib/python3.7/dist-packages/sklearn/manifold/_t_sne.py\u001b[0m in \u001b[0;36m_fit\u001b[0;34m(self, X, skip_num_points)\u001b[0m\n\u001b[1;32m    966\u001b[0m \u001b[0;34m\u001b[0m\u001b[0m\n\u001b[1;32m    967\u001b[0m             \u001b[0;31m# compute the joint probability distribution for the input space\u001b[0m\u001b[0;34m\u001b[0m\u001b[0;34m\u001b[0m\u001b[0;34m\u001b[0m\u001b[0m\n\u001b[0;32m--> 968\u001b[0;31m             \u001b[0mP\u001b[0m \u001b[0;34m=\u001b[0m \u001b[0m_joint_probabilities_nn\u001b[0m\u001b[0;34m(\u001b[0m\u001b[0mdistances_nn\u001b[0m\u001b[0;34m,\u001b[0m \u001b[0mself\u001b[0m\u001b[0;34m.\u001b[0m\u001b[0mperplexity\u001b[0m\u001b[0;34m,\u001b[0m \u001b[0mself\u001b[0m\u001b[0;34m.\u001b[0m\u001b[0mverbose\u001b[0m\u001b[0;34m)\u001b[0m\u001b[0;34m\u001b[0m\u001b[0;34m\u001b[0m\u001b[0m\n\u001b[0m\u001b[1;32m    969\u001b[0m \u001b[0;34m\u001b[0m\u001b[0m\n\u001b[1;32m    970\u001b[0m         \u001b[0;32mif\u001b[0m \u001b[0misinstance\u001b[0m\u001b[0;34m(\u001b[0m\u001b[0mself\u001b[0m\u001b[0;34m.\u001b[0m\u001b[0m_init\u001b[0m\u001b[0;34m,\u001b[0m \u001b[0mnp\u001b[0m\u001b[0;34m.\u001b[0m\u001b[0mndarray\u001b[0m\u001b[0;34m)\u001b[0m\u001b[0;34m:\u001b[0m\u001b[0;34m\u001b[0m\u001b[0;34m\u001b[0m\u001b[0m\n",
      "\u001b[0;32m/usr/local/lib/python3.7/dist-packages/sklearn/manifold/_t_sne.py\u001b[0m in \u001b[0;36m_joint_probabilities_nn\u001b[0;34m(distances, desired_perplexity, verbose)\u001b[0m\n\u001b[1;32m    111\u001b[0m         \u001b[0mshape\u001b[0m\u001b[0;34m=\u001b[0m\u001b[0;34m(\u001b[0m\u001b[0mn_samples\u001b[0m\u001b[0;34m,\u001b[0m \u001b[0mn_samples\u001b[0m\u001b[0;34m)\u001b[0m\u001b[0;34m,\u001b[0m\u001b[0;34m\u001b[0m\u001b[0;34m\u001b[0m\u001b[0m\n\u001b[1;32m    112\u001b[0m     )\n\u001b[0;32m--> 113\u001b[0;31m     \u001b[0mP\u001b[0m \u001b[0;34m=\u001b[0m \u001b[0mP\u001b[0m \u001b[0;34m+\u001b[0m \u001b[0mP\u001b[0m\u001b[0;34m.\u001b[0m\u001b[0mT\u001b[0m\u001b[0;34m\u001b[0m\u001b[0;34m\u001b[0m\u001b[0m\n\u001b[0m\u001b[1;32m    114\u001b[0m \u001b[0;34m\u001b[0m\u001b[0m\n\u001b[1;32m    115\u001b[0m     \u001b[0;31m# Normalize the joint probability distribution\u001b[0m\u001b[0;34m\u001b[0m\u001b[0;34m\u001b[0m\u001b[0;34m\u001b[0m\u001b[0m\n",
      "\u001b[0;31mTypeError\u001b[0m: unsupported operand type(s) for +: 'csr_matrix' and 'csc_matrix'"
     ]
    }
   ],
   "source": [
    "X_embedded = TSNE(n_components=2, random_state=4).fit_transform(X)\n"
   ]
  },
  {
   "cell_type": "code",
   "execution_count": 28,
   "id": "UYILsmCI5f7g",
   "metadata": {
    "id": "UYILsmCI5f7g"
   },
   "outputs": [],
   "source": [
    "# malignancy = list(map(lambda x:int(x), img_data[1]))\n",
    "malignancy = list(map(lambda x:int(x), c.tolist()))\n",
    "\n",
    "# malignancy = list(map(lambda x:int(x), shuffle_data[1][744:]))"
   ]
  },
  {
   "cell_type": "code",
   "execution_count": 30,
   "id": "qKoP2XIr4Ug-",
   "metadata": {
    "id": "qKoP2XIr4Ug-"
   },
   "outputs": [],
   "source": [
    "lidc_TSNE = pd.DataFrame()\n",
    "lidc_TSNE['nodule_id'] = lidc_cnnFeatures['nodule_id']#shuffle_id[744:]\n",
    "lidc_TSNE['cluster_label'] = cluster_labels\n",
    "lidc_TSNE['component_1'] = X_embedded[:,0]\n",
    "lidc_TSNE['component_2'] = X_embedded[:,1]\n",
    "lidc_TSNE['malignancy'] = malignancy"
   ]
  },
  {
   "cell_type": "code",
   "execution_count": 31,
   "id": "_nWBS0TB3h45",
   "metadata": {
    "colab": {
     "base_uri": "https://localhost:8080/",
     "height": 265
    },
    "id": "_nWBS0TB3h45",
    "outputId": "c66ab2e3-2a67-4e67-bbba-939553d6c097"
   },
   "outputs": [
    {
     "data": {
      "image/png": "[encoded data removed]",
      "text/plain": [
       "<Figure size 432x288 with 1 Axes>"
      ]
     },
     "metadata": {
      "needs_background": "light"
     },
     "output_type": "display_data"
    }
   ],
   "source": [
    "fig, ax = plt.subplots()\n",
    "group = lidc_TSNE['malignancy']\n",
    "component_1 = lidc_TSNE['component_1'].to_numpy()\n",
    "component_2 = lidc_TSNE['component_2'].to_numpy()\n",
    "# legend = {0:'red', 1:'blue'}\n",
    "\n",
    "for g in np.unique(group):\n",
    "    idx = np.where(group == g)\n",
    "    ax.scatter(component_1[idx], component_2[idx],  label = g, s = 5) #c = legend[g],\n",
    "ax.legend()\n",
    "plt.show()"
   ]
  },
  {
   "cell_type": "markdown",
   "id": "e9e6d2a8",
   "metadata": {
    "id": "PUSrqGfE4PSi"
   },
   "source": [
    "#Extract handcraft image features"
   ]
  },
  {
   "cell_type": "code",
   "execution_count": 256,
   "id": "64e889bd",
   "metadata": {},
   "outputs": [],
   "source": [
    "from data_util import load_lidc, preprocess_data"
   ]
  },
  {
   "cell_type": "code",
   "execution_count": 257,
   "id": "4cb767d3",
   "metadata": {},
   "outputs": [],
   "source": [
    "df = preprocess_data(*load_lidc())"
   ]
  },
  {
   "cell_type": "code",
   "execution_count": 295,
   "id": "a2ef9f6f",
   "metadata": {},
   "outputs": [],
   "source": [
    "X = torch.tensor(df.drop(columns=['noduleID', 'malignancy', 'subgroup']).values).to(torch.float32)\n",
    "y = torch.tensor(df['malignancy'].values).to(torch.long)\n",
    "c= torch.tensor(df['noduleID'].values)"
   ]
  },
  {
   "cell_type": "code",
   "execution_count": 275,
   "id": "7720a299",
   "metadata": {},
   "outputs": [],
   "source": [
    "dataset = SubclassedNoduleDataset(X,y,c)\n",
    "# loader = InfiniteDataLoader(dataset, batch_size=160)"
   ]
  },
  {
   "cell_type": "code",
   "execution_count": 276,
   "id": "6800112d",
   "metadata": {},
   "outputs": [
    {
     "data": {
      "text/plain": [
       "1417"
      ]
     },
     "execution_count": 276,
     "metadata": {},
     "output_type": "execute_result"
    }
   ],
   "source": [
    "len(dataset)"
   ]
  },
  {
   "cell_type": "code",
   "execution_count": 286,
   "id": "3f74ccb1",
   "metadata": {},
   "outputs": [],
   "source": [
    "tr, tst = torch.utils.data.random_split(dataset, [800,617])"
   ]
  },
  {
   "cell_type": "code",
   "execution_count": 287,
   "id": "407d9d12",
   "metadata": {},
   "outputs": [],
   "source": [
    "loader, tst_loader = InfiniteDataLoader(tr, batch_size=160), InfiniteDataLoader(tst, batch_size=len(tst))"
   ]
  },
  {
   "cell_type": "code",
   "execution_count": 288,
   "id": "f1995b41",
   "metadata": {},
   "outputs": [],
   "source": [
    "model = NeuralNetwork(64,36,36,2)\n",
    "loss_fn = ERMLoss(model,torch.nn.CrossEntropyLoss(),{},subclassed=True)\n",
    "optimizer = torch.optim.Adam(model.parameters(), lr=0.001, weight_decay=0.005)"
   ]
  },
  {
   "cell_type": "code",
   "execution_count": 90,
   "id": "b2da3565",
   "metadata": {},
   "outputs": [],
   "source": [
    "# optimizer = torch.optim.Adam(model.parameters(), lr=0.000001, weight_decay=0.005)"
   ]
  },
  {
   "cell_type": "code",
   "execution_count": 289,
   "id": "2e462d22",
   "metadata": {},
   "outputs": [
    {
     "name": "stdout",
     "output_type": "stream",
     "text": [
      "Epoch 1/20\n",
      "Average training loss: 0.6647556900978089\n",
      "Epoch 2/20\n",
      "Average training loss: 0.6133587718009949\n",
      "Epoch 3/20\n",
      "Average training loss: 0.5679227828979492\n",
      "Epoch 4/20\n",
      "Average training loss: 0.514391016960144\n",
      "Epoch 5/20\n",
      "Average training loss: 0.4578932702541351\n",
      "Epoch 6/20\n",
      "Average training loss: 0.41148294806480407\n",
      "Epoch 7/20\n",
      "Average training loss: 0.39248086214065553\n",
      "Epoch 8/20\n",
      "Average training loss: 0.3390419244766235\n",
      "Epoch 9/20\n",
      "Average training loss: 0.3493757426738739\n",
      "Epoch 10/20\n",
      "Average training loss: 0.38069928884506227\n",
      "Epoch 11/20\n",
      "Average training loss: 0.29849561452865603\n",
      "Epoch 12/20\n",
      "Average training loss: 0.3318291962146759\n",
      "Epoch 13/20\n",
      "Average training loss: 0.30766221284866335\n",
      "Epoch 14/20\n",
      "Average training loss: 0.292696139216423\n",
      "Epoch 15/20\n",
      "Average training loss: 0.2828132927417755\n",
      "Epoch 16/20\n",
      "Average training loss: 0.2912942945957184\n",
      "Epoch 17/20\n",
      "Average training loss: 0.321894234418869\n",
      "Epoch 18/20\n",
      "Average training loss: 0.3179780840873718\n",
      "Epoch 19/20\n",
      "Average training loss: 0.30596821904182436\n",
      "Epoch 20/20\n",
      "Average training loss: 0.280876025557518\n"
     ]
    }
   ],
   "source": [
    "epochs = 20\n",
    "for epoch in range(epochs):\n",
    "    print(f\"Epoch {epoch + 1}/{epochs}\")\n",
    "    train(loader, model, loss_fn, optimizer, verbose=True)"
   ]
  },
  {
   "cell_type": "code",
   "execution_count": 290,
   "id": "edf09c3c",
   "metadata": {},
   "outputs": [],
   "source": [
    "weight = model.linear_relu_stack[0].weight.data\n",
    "bias = model.linear_relu_stack[0].bias.data\n",
    "\n",
    "weight1 = model.linear_relu_stack[2].weight.data\n",
    "bias1 = model.linear_relu_stack[2].bias.data"
   ]
  },
  {
   "cell_type": "code",
   "execution_count": 291,
   "id": "cc3dfc92",
   "metadata": {},
   "outputs": [],
   "source": [
    "# X,_,c = next(tst_loader)"
   ]
  },
  {
   "cell_type": "code",
   "execution_count": 296,
   "id": "205081db",
   "metadata": {},
   "outputs": [],
   "source": [
    "X_trans = (weight @ X.t()).t() + bias\n",
    "X_2 = torch.nn.functional.relu(X_trans)\n",
    "X_final = (weight1@X_2.t()).t() + bias1\n",
    "# X_final = model(X).data"
   ]
  },
  {
   "cell_type": "code",
   "execution_count": 297,
   "id": "f95be9ef",
   "metadata": {
    "scrolled": true
   },
   "outputs": [
    {
     "data": {
      "text/html": [
       "<div>\n",
       "<style scoped>\n",
       "    .dataframe tbody tr th:only-of-type {\n",
       "        vertical-align: middle;\n",
       "    }\n",
       "\n",
       "    .dataframe tbody tr th {\n",
       "        vertical-align: top;\n",
       "    }\n",
       "\n",
       "    .dataframe thead th {\n",
       "        text-align: right;\n",
       "    }\n",
       "</style>\n",
       "<table border=\"1\" class=\"dataframe\">\n",
       "  <thead>\n",
       "    <tr style=\"text-align: right;\">\n",
       "      <th></th>\n",
       "      <th>nodule_id</th>\n",
       "      <th>1</th>\n",
       "      <th>2</th>\n",
       "      <th>3</th>\n",
       "      <th>4</th>\n",
       "      <th>5</th>\n",
       "      <th>6</th>\n",
       "      <th>7</th>\n",
       "      <th>8</th>\n",
       "      <th>9</th>\n",
       "      <th>...</th>\n",
       "      <th>27</th>\n",
       "      <th>28</th>\n",
       "      <th>29</th>\n",
       "      <th>30</th>\n",
       "      <th>31</th>\n",
       "      <th>32</th>\n",
       "      <th>33</th>\n",
       "      <th>34</th>\n",
       "      <th>35</th>\n",
       "      <th>36</th>\n",
       "    </tr>\n",
       "  </thead>\n",
       "  <tbody>\n",
       "    <tr>\n",
       "      <th>0</th>\n",
       "      <td>1</td>\n",
       "      <td>1.251320</td>\n",
       "      <td>0.089963</td>\n",
       "      <td>0.953432</td>\n",
       "      <td>-1.434130</td>\n",
       "      <td>3.029303</td>\n",
       "      <td>1.206498</td>\n",
       "      <td>2.058451</td>\n",
       "      <td>-1.620940</td>\n",
       "      <td>0.989212</td>\n",
       "      <td>...</td>\n",
       "      <td>1.808380</td>\n",
       "      <td>-0.486916</td>\n",
       "      <td>1.874573</td>\n",
       "      <td>0.274014</td>\n",
       "      <td>-0.933040</td>\n",
       "      <td>1.811895</td>\n",
       "      <td>2.095557</td>\n",
       "      <td>-0.668558</td>\n",
       "      <td>3.086583</td>\n",
       "      <td>1.408121</td>\n",
       "    </tr>\n",
       "    <tr>\n",
       "      <th>1</th>\n",
       "      <td>2</td>\n",
       "      <td>1.134337</td>\n",
       "      <td>0.093408</td>\n",
       "      <td>0.765104</td>\n",
       "      <td>-1.027439</td>\n",
       "      <td>2.702240</td>\n",
       "      <td>1.165762</td>\n",
       "      <td>1.795580</td>\n",
       "      <td>-1.152484</td>\n",
       "      <td>0.795335</td>\n",
       "      <td>...</td>\n",
       "      <td>1.604317</td>\n",
       "      <td>-0.407013</td>\n",
       "      <td>1.460032</td>\n",
       "      <td>0.141432</td>\n",
       "      <td>-0.613052</td>\n",
       "      <td>1.394647</td>\n",
       "      <td>1.814111</td>\n",
       "      <td>-0.652740</td>\n",
       "      <td>2.631060</td>\n",
       "      <td>1.307595</td>\n",
       "    </tr>\n",
       "    <tr>\n",
       "      <th>2</th>\n",
       "      <td>3</td>\n",
       "      <td>1.069349</td>\n",
       "      <td>0.026526</td>\n",
       "      <td>0.815630</td>\n",
       "      <td>-1.019015</td>\n",
       "      <td>2.646310</td>\n",
       "      <td>1.171535</td>\n",
       "      <td>1.870733</td>\n",
       "      <td>-1.408318</td>\n",
       "      <td>1.009166</td>\n",
       "      <td>...</td>\n",
       "      <td>1.585907</td>\n",
       "      <td>-0.415032</td>\n",
       "      <td>1.654244</td>\n",
       "      <td>0.178806</td>\n",
       "      <td>-0.927962</td>\n",
       "      <td>1.571154</td>\n",
       "      <td>1.934428</td>\n",
       "      <td>-0.463098</td>\n",
       "      <td>2.613842</td>\n",
       "      <td>1.269580</td>\n",
       "    </tr>\n",
       "    <tr>\n",
       "      <th>3</th>\n",
       "      <td>4</td>\n",
       "      <td>0.173887</td>\n",
       "      <td>-0.173805</td>\n",
       "      <td>0.019649</td>\n",
       "      <td>0.128700</td>\n",
       "      <td>0.365943</td>\n",
       "      <td>0.115916</td>\n",
       "      <td>0.240409</td>\n",
       "      <td>0.217695</td>\n",
       "      <td>0.144729</td>\n",
       "      <td>...</td>\n",
       "      <td>0.230537</td>\n",
       "      <td>0.184732</td>\n",
       "      <td>0.252948</td>\n",
       "      <td>0.076822</td>\n",
       "      <td>0.037769</td>\n",
       "      <td>0.089896</td>\n",
       "      <td>0.298016</td>\n",
       "      <td>0.380804</td>\n",
       "      <td>0.236251</td>\n",
       "      <td>0.179819</td>\n",
       "    </tr>\n",
       "    <tr>\n",
       "      <th>4</th>\n",
       "      <td>5</td>\n",
       "      <td>0.638468</td>\n",
       "      <td>0.136612</td>\n",
       "      <td>0.293359</td>\n",
       "      <td>-0.341745</td>\n",
       "      <td>1.564946</td>\n",
       "      <td>0.668135</td>\n",
       "      <td>0.773058</td>\n",
       "      <td>-0.320953</td>\n",
       "      <td>0.427528</td>\n",
       "      <td>...</td>\n",
       "      <td>0.811816</td>\n",
       "      <td>-0.034961</td>\n",
       "      <td>0.979301</td>\n",
       "      <td>-0.002034</td>\n",
       "      <td>-0.168476</td>\n",
       "      <td>0.552388</td>\n",
       "      <td>0.973380</td>\n",
       "      <td>-0.217124</td>\n",
       "      <td>1.403110</td>\n",
       "      <td>1.007064</td>\n",
       "    </tr>\n",
       "  </tbody>\n",
       "</table>\n",
       "<p>5 rows × 37 columns</p>\n",
       "</div>"
      ],
      "text/plain": [
       "   nodule_id         1         2         3         4         5         6  \\\n",
       "0          1  1.251320  0.089963  0.953432 -1.434130  3.029303  1.206498   \n",
       "1          2  1.134337  0.093408  0.765104 -1.027439  2.702240  1.165762   \n",
       "2          3  1.069349  0.026526  0.815630 -1.019015  2.646310  1.171535   \n",
       "3          4  0.173887 -0.173805  0.019649  0.128700  0.365943  0.115916   \n",
       "4          5  0.638468  0.136612  0.293359 -0.341745  1.564946  0.668135   \n",
       "\n",
       "          7         8         9  ...        27        28        29        30  \\\n",
       "0  2.058451 -1.620940  0.989212  ...  1.808380 -0.486916  1.874573  0.274014   \n",
       "1  1.795580 -1.152484  0.795335  ...  1.604317 -0.407013  1.460032  0.141432   \n",
       "2  1.870733 -1.408318  1.009166  ...  1.585907 -0.415032  1.654244  0.178806   \n",
       "3  0.240409  0.217695  0.144729  ...  0.230537  0.184732  0.252948  0.076822   \n",
       "4  0.773058 -0.320953  0.427528  ...  0.811816 -0.034961  0.979301 -0.002034   \n",
       "\n",
       "         31        32        33        34        35        36  \n",
       "0 -0.933040  1.811895  2.095557 -0.668558  3.086583  1.408121  \n",
       "1 -0.613052  1.394647  1.814111 -0.652740  2.631060  1.307595  \n",
       "2 -0.927962  1.571154  1.934428 -0.463098  2.613842  1.269580  \n",
       "3  0.037769  0.089896  0.298016  0.380804  0.236251  0.179819  \n",
       "4 -0.168476  0.552388  0.973380 -0.217124  1.403110  1.007064  \n",
       "\n",
       "[5 rows x 37 columns]"
      ]
     },
     "execution_count": 297,
     "metadata": {},
     "output_type": "execute_result"
    }
   ],
   "source": [
    "cols = []\n",
    "for idx,id in enumerate(c):#enumerate(shuffle_id[744:]):\n",
    "  id = int(id)\n",
    "  cols.append([id] + X_final[idx].cpu().numpy().tolist())\n",
    "lidc_cnnFeatures = pd.DataFrame(cols).rename({0:'nodule_id'}, axis=1)\n",
    "lidc_cnnFeatures.head()"
   ]
  },
  {
   "cell_type": "code",
   "execution_count": 298,
   "id": "498f4e49",
   "metadata": {},
   "outputs": [],
   "source": [
    "lidc_cnnFeatures.to_csv('cnn_hc_8_features.csv')\n"
   ]
  }
 ],
 "metadata": {
  "accelerator": "GPU",
  "colab": {
   "include_colab_link": true,
   "name": "LIDC_cnn_feature_subgroups.ipynb",
   "provenance": []
  },
  "gpuClass": "standard",
  "kernelspec": {
   "display_name": "REU",
   "language": "python",
   "name": "reu"
  },
  "language_info": {
   "codemirror_mode": {
    "name": "ipython",
    "version": 3
   },
   "file_extension": ".py",
   "mimetype": "text/x-python",
   "name": "python",
   "nbconvert_exporter": "python",
   "pygments_lexer": "ipython3",
   "version": "3.10.5"
  }
 },
 "nbformat": 4,
 "nbformat_minor": 5
}
