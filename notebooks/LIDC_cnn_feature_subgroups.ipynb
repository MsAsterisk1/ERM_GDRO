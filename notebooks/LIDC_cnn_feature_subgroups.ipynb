{
  "cells": [
    {
      "cell_type": "markdown",
      "metadata": {
        "id": "view-in-github",
        "colab_type": "text"
      },
      "source": [
        "<a href=\"https://colab.research.google.com/github/mtzig/LIDC_GDRO/blob/main/notebooks/LIDC_cnn_feature_subgroups.ipynb\" target=\"_parent\"><img src=\"https://colab.research.google.com/assets/colab-badge.svg\" alt=\"Open In Colab\"/></a>"
      ]
    },
    {
      "cell_type": "code",
      "execution_count": 1,
      "id": "d1cb7b46",
      "metadata": {
        "id": "d1cb7b46"
      },
      "outputs": [],
      "source": [
        "%load_ext autoreload\n",
        "%autoreload 2"
      ]
    },
    {
      "cell_type": "code",
      "execution_count": 182,
      "id": "0130debc",
      "metadata": {
        "colab": {
          "base_uri": "https://localhost:8080/"
        },
        "id": "0130debc",
        "outputId": "544b013f-83b7-4a38-f0ec-7a2abc536011"
      },
      "outputs": [
        {
          "output_type": "stream",
          "name": "stdout",
          "text": [
            "fatal: destination path 'LIDC_GDRO' already exists and is not an empty directory.\n",
            "/content/LIDC_GDRO\n"
          ]
        }
      ],
      "source": [
        "!git clone https://github.com/mtzig/LIDC_GDRO.git\n",
        "%cd /content/LIDC_GDRO\n",
        "# %cd .."
      ]
    },
    {
      "cell_type": "code",
      "source": [
        "# !git pull"
      ],
      "metadata": {
        "colab": {
          "base_uri": "https://localhost:8080/"
        },
        "id": "c-QS6S6oD2sC",
        "outputId": "928eabf0-611b-4e5d-c7f8-706c4958e311"
      },
      "id": "c-QS6S6oD2sC",
      "execution_count": 184,
      "outputs": [
        {
          "output_type": "stream",
          "name": "stdout",
          "text": [
            "remote: Enumerating objects: 13, done.\u001b[K\n",
            "remote: Counting objects:   7% (1/13)\u001b[K\rremote: Counting objects:  15% (2/13)\u001b[K\rremote: Counting objects:  23% (3/13)\u001b[K\rremote: Counting objects:  30% (4/13)\u001b[K\rremote: Counting objects:  38% (5/13)\u001b[K\rremote: Counting objects:  46% (6/13)\u001b[K\rremote: Counting objects:  53% (7/13)\u001b[K\rremote: Counting objects:  61% (8/13)\u001b[K\rremote: Counting objects:  69% (9/13)\u001b[K\rremote: Counting objects:  76% (10/13)\u001b[K\rremote: Counting objects:  84% (11/13)\u001b[K\rremote: Counting objects:  92% (12/13)\u001b[K\rremote: Counting objects: 100% (13/13)\u001b[K\rremote: Counting objects: 100% (13/13), done.\u001b[K\n",
            "remote: Compressing objects:  16% (1/6)\u001b[K\rremote: Compressing objects:  33% (2/6)\u001b[K\rremote: Compressing objects:  50% (3/6)\u001b[K\rremote: Compressing objects:  66% (4/6)\u001b[K\rremote: Compressing objects:  83% (5/6)\u001b[K\rremote: Compressing objects: 100% (6/6)\u001b[K\rremote: Compressing objects: 100% (6/6), done.\u001b[K\n",
            "remote: Total 9 (delta 5), reused 5 (delta 3), pack-reused 0\u001b[K\n",
            "Unpacking objects:  11% (1/9)   \rUnpacking objects:  22% (2/9)   \rUnpacking objects:  33% (3/9)   \rUnpacking objects:  44% (4/9)   \rUnpacking objects:  55% (5/9)   \rUnpacking objects:  66% (6/9)   \rUnpacking objects:  77% (7/9)   \rUnpacking objects:  88% (8/9)   \rUnpacking objects: 100% (9/9)   \rUnpacking objects: 100% (9/9), done.\n",
            "From https://github.com/mtzig/LIDC_GDRO\n",
            "   d68bac4..a2892ec  main       -> origin/main\n",
            "Updating d68bac4..a2892ec\n",
            "Fast-forward\n",
            " notebooks/LIDC_cnn_feature_subgroups.ipynb | 1137 \u001b[32m++++++++++++++++++++++++\u001b[m\u001b[31m----\u001b[m\n",
            " train.py                                   |   58 \u001b[32m+\u001b[m\u001b[31m-\u001b[m\n",
            " 2 files changed, 1021 insertions(+), 174 deletions(-)\n"
          ]
        }
      ]
    },
    {
      "cell_type": "code",
      "execution_count": 185,
      "id": "e96f546a",
      "metadata": {
        "id": "e96f546a"
      },
      "outputs": [],
      "source": [
        "# import os\n",
        "# import torch\n",
        "import pandas as pd\n",
        "# import numpy as np\n",
        "from dataloaders import InfiniteDataLoader\n",
        "from datasets import NoduleDataset\n",
        "from models import TransferModel\n",
        "from loss import ERMLoss#, GDROLossAlt, GDROLoss\n",
        "from train import train, test\n",
        "from torch.optim.lr_scheduler import ReduceLROnPlateau\n",
        "\n",
        "# import torchvision\n",
        "import torch\n",
        "from image_data_utils import getImages"
      ]
    },
    {
      "cell_type": "code",
      "execution_count": 186,
      "id": "1b918ae9",
      "metadata": {
        "colab": {
          "base_uri": "https://localhost:8080/"
        },
        "id": "1b918ae9",
        "outputId": "2582af9d-39b1-440f-d641-e0bf55715a7d"
      },
      "outputs": [
        {
          "output_type": "stream",
          "name": "stdout",
          "text": [
            "Good to go!\n"
          ]
        }
      ],
      "source": [
        "if torch.cuda.is_available():\n",
        "    print(\"Good to go!\")\n",
        "    DEVICE = torch.device(\"cuda\")\n",
        "else:\n",
        "    print(\"Using cpu\")\n",
        "    DEVICE = torch.device(\"cpu\")"
      ]
    },
    {
      "cell_type": "markdown",
      "id": "776505f0",
      "metadata": {
        "id": "776505f0"
      },
      "source": [
        "#To derive an upper bound on performance, we first do clustering on entire dataset"
      ]
    },
    {
      "cell_type": "code",
      "execution_count": 238,
      "id": "b886b126",
      "metadata": {
        "id": "b886b126"
      },
      "outputs": [],
      "source": [
        "nodule_id, img_data = getImages(split=False, sublabels=False, binary=False, device=DEVICE)"
      ]
    },
    {
      "cell_type": "code",
      "source": [
        "import random\n",
        "shuffle_data = list(zip(*img_data, nodule_id))\n",
        "random.shuffle(shuffle_data)\n",
        "s_d = list(zip(*shuffle_data))\n",
        "shuffle_data, shuffle_id = s_d[:2], s_d[2]"
      ],
      "metadata": {
        "id": "j4PGyPKDE28m"
      },
      "id": "j4PGyPKDE28m",
      "execution_count": 215,
      "outputs": []
    },
    {
      "cell_type": "code",
      "execution_count": 216,
      "id": "765f1247",
      "metadata": {
        "id": "765f1247"
      },
      "outputs": [],
      "source": [
        "# dataset = NoduleDataset(*img_data)\n",
        "tr = NoduleDataset(shuffle_data[0][:744],shuffle_data[1][:744])\n",
        "cv = NoduleDataset(shuffle_data[0][744:],shuffle_data[1][744:])\n",
        "loader = InfiniteDataLoader(tr, batch_size=128)\n",
        "cv_loader = InfiniteDataLoader(cv, len(cv))"
      ]
    },
    {
      "cell_type": "code",
      "execution_count": 217,
      "id": "d902d7a8",
      "metadata": {
        "id": "d902d7a8"
      },
      "outputs": [],
      "source": [
        "model = TransferModel(freeze=False, binary=False, device=DEVICE)\n",
        "loss_fn = ERMLoss(model,torch.nn.CrossEntropyLoss(),{})\n",
        "optimizer = torch.optim.Adam(model.parameters(), lr=0.0005, weight_decay=0.005)\n",
        "scheduler = ReduceLROnPlateau(optimizer, mode='max', factor=0.2, patience=2, verbose=True)\n"
      ]
    },
    {
      "cell_type": "code",
      "execution_count": 218,
      "id": "b8fe282e",
      "metadata": {
        "colab": {
          "base_uri": "https://localhost:8080/"
        },
        "id": "b8fe282e",
        "outputId": "a6225ba1-bae5-4425-efed-44632df708fd"
      },
      "outputs": [
        {
          "output_type": "stream",
          "name": "stdout",
          "text": [
            "Epoch 1/30\n",
            "Average training loss: 2.3126442193984986\n",
            "Accuracy: 0.396505376344086\n",
            "Epoch 2/30\n",
            "Average training loss: 1.394489598274231\n",
            "Accuracy: 0.46774193548387094\n",
            "Epoch 3/30\n",
            "Average training loss: 1.0497516512870788\n",
            "Accuracy: 0.5241935483870968\n",
            "Epoch 4/30\n",
            "Average training loss: 0.6814910888671875\n",
            "Accuracy: 0.5766129032258065\n",
            "Epoch 5/30\n",
            "Average training loss: 0.6534410357475281\n",
            "Accuracy: 0.6088709677419355\n",
            "Epoch 6/30\n",
            "Average training loss: 0.5219313979148865\n",
            "Accuracy: 0.553763440860215\n",
            "Epoch 7/30\n",
            "Average training loss: 0.42442508935928347\n",
            "Accuracy: 0.581989247311828\n",
            "Epoch 8/30\n",
            "Average training loss: 0.32856125235557554\n",
            "Accuracy: 0.581989247311828\n",
            "Epoch 00008: reducing learning rate of group 0 to 1.0000e-04.\n",
            "Epoch 9/30\n",
            "Average training loss: 0.2844683051109314\n",
            "Accuracy: 0.5806451612903226\n",
            "Epoch 10/30\n",
            "Average training loss: 0.24646483212709427\n",
            "Accuracy: 0.6075268817204301\n",
            "Epoch 11/30\n",
            "Average training loss: 0.2317757487297058\n",
            "Accuracy: 0.5873655913978495\n",
            "Epoch 00011: reducing learning rate of group 0 to 2.0000e-05.\n",
            "Epoch 12/30\n",
            "Average training loss: 0.17954499125480652\n",
            "Accuracy: 0.6532258064516129\n",
            "Epoch 13/30\n",
            "Average training loss: 0.17337357699871064\n",
            "Accuracy: 0.6330645161290323\n",
            "Epoch 14/30\n",
            "Average training loss: 0.15710065215826036\n",
            "Accuracy: 0.5752688172043011\n",
            "Epoch 15/30\n",
            "Average training loss: 0.15989507138729095\n",
            "Accuracy: 0.6129032258064516\n",
            "Epoch 00015: reducing learning rate of group 0 to 4.0000e-06.\n",
            "Epoch 16/30\n",
            "Average training loss: 0.15326310843229293\n",
            "Accuracy: 0.6263440860215054\n",
            "Epoch 17/30\n",
            "Average training loss: 0.13881066292524338\n",
            "Accuracy: 0.6048387096774194\n",
            "Epoch 18/30\n",
            "Average training loss: 0.18183988630771636\n",
            "Accuracy: 0.5779569892473119\n",
            "Epoch 00018: reducing learning rate of group 0 to 8.0000e-07.\n",
            "Epoch 19/30\n",
            "Average training loss: 0.1525842159986496\n",
            "Accuracy: 0.5940860215053764\n",
            "Epoch 20/30\n",
            "Average training loss: 0.15029268115758895\n",
            "Accuracy: 0.6236559139784946\n",
            "Epoch 21/30\n",
            "Average training loss: 0.14532859474420548\n",
            "Accuracy: 0.646505376344086\n",
            "Epoch 00021: reducing learning rate of group 0 to 1.6000e-07.\n",
            "Epoch 22/30\n",
            "Average training loss: 0.1672908753156662\n",
            "Accuracy: 0.6478494623655914\n",
            "Epoch 23/30\n",
            "Average training loss: 0.13475112915039061\n",
            "Accuracy: 0.6102150537634409\n",
            "Epoch 24/30\n",
            "Average training loss: 0.14269129931926727\n",
            "Accuracy: 0.5752688172043011\n",
            "Epoch 00024: reducing learning rate of group 0 to 3.2000e-08.\n",
            "Epoch 25/30\n",
            "Average training loss: 0.15091632753610612\n",
            "Accuracy: 0.5779569892473119\n",
            "Epoch 26/30\n",
            "Average training loss: 0.1537121742963791\n",
            "Accuracy: 0.571236559139785\n",
            "Epoch 27/30\n",
            "Average training loss: 0.160586678981781\n",
            "Accuracy: 0.614247311827957\n",
            "Epoch 00027: reducing learning rate of group 0 to 6.4000e-09.\n",
            "Epoch 28/30\n",
            "Average training loss: 0.14586469680070877\n",
            "Accuracy: 0.5981182795698925\n",
            "Epoch 29/30\n",
            "Average training loss: 0.14475530833005906\n",
            "Accuracy: 0.6061827956989247\n",
            "Epoch 30/30\n",
            "Average training loss: 0.15883609056472778\n",
            "Accuracy: 0.6330645161290323\n"
          ]
        }
      ],
      "source": [
        "epochs = 30\n",
        "for epoch in range(epochs):\n",
        "    print(f\"Epoch {epoch + 1}/{epochs}\")\n",
        "    train(loader, model, loss_fn, optimizer, verbose=True)\n",
        "    accuracy = test(cv_loader, model, subgrouped=False, verbose=True)\n",
        "    scheduler.step(accuracy)"
      ]
    },
    {
      "cell_type": "markdown",
      "source": [
        "# Now we extract the features"
      ],
      "metadata": {
        "id": "EJbb14GQ0RUH"
      },
      "id": "EJbb14GQ0RUH"
    },
    {
      "cell_type": "code",
      "source": [
        "activation = {}\n",
        "def get_activation(name):\n",
        "    def hook(model, input, output):\n",
        "        activation[name] = output.detach()\n",
        "    return hook\n",
        "model.model.avgpool.register_forward_hook(get_activation('avgpool'))\n",
        "image_tensors = next(cv_loader)[0]#torch.stack(img_data[0])\n",
        "model(image_tensors)\n",
        "image_features = activation['avgpool'].squeeze()\n"
      ],
      "metadata": {
        "id": "X95bdmVT0Hr7"
      },
      "id": "X95bdmVT0Hr7",
      "execution_count": 219,
      "outputs": []
    },
    {
      "cell_type": "code",
      "source": [
        "cols = []\n",
        "for idx,id in enumerate(shuffle_id[744:]):\n",
        "  cols.append([id] + image_features[idx].cpu().numpy().tolist())\n",
        "lidc_cnnFeatures = pd.DataFrame(cols).rename({0:'nodule_id'}, axis=1)\n",
        "lidc_cnnFeatures.head()"
      ],
      "metadata": {
        "colab": {
          "base_uri": "https://localhost:8080/",
          "height": 235
        },
        "id": "vekZk7CT0Z8F",
        "outputId": "374d8585-b390-4a31-ec33-e80b94ce3f1a"
      },
      "id": "vekZk7CT0Z8F",
      "execution_count": 220,
      "outputs": [
        {
          "output_type": "execute_result",
          "data": {
            "text/plain": [
              "   nodule_id         1         2         3         4         5         6  \\\n",
              "0       1111  0.402335  2.407429  0.208959  0.014347  0.000000  0.108670   \n",
              "1       2389  1.232365  0.000000  1.233181  0.000000  0.000000  2.094069   \n",
              "2       1989  0.861242  1.381636  0.353474  0.015740  0.688499  0.588821   \n",
              "3       1986  0.337180  0.023455  0.456596  0.248159  0.194800  0.064693   \n",
              "4        419  3.243810  1.032596  0.085550  0.000000  0.000000  0.096834   \n",
              "\n",
              "          7         8         9  ...       503       504       505       506  \\\n",
              "0  0.000000  0.459340  2.996707  ...  0.000000  0.000000  0.000000  2.160160   \n",
              "1  4.903825  1.437941  2.961776  ...  0.769171  2.856882  1.307950  2.356032   \n",
              "2  0.111573  0.139755  0.793373  ...  0.000000  0.408450  0.000000  2.393300   \n",
              "3  0.880458  1.822733  2.296947  ...  0.241488  0.194820  0.484187  0.139054   \n",
              "4  0.000000  2.328475  1.927927  ...  0.000000  0.000000  0.000000  0.724795   \n",
              "\n",
              "        507       508       509       510       511       512  \n",
              "0  0.356605  0.833071  1.297393  1.122951  0.000327  0.070592  \n",
              "1  0.291056  0.000000  0.280540  2.724194  2.561219  1.479563  \n",
              "2  0.667211  1.378567  2.694174  0.432546  0.212082  2.390762  \n",
              "3  0.481399  0.710988  1.962747  0.148901  0.026522  1.697662  \n",
              "4  0.096210  0.712778  0.878881  1.397634  0.126762  0.074872  \n",
              "\n",
              "[5 rows x 513 columns]"
            ],
            "text/html": [
              "\n",
              "  <div id=\"df-a6446361-5d92-410b-ae2f-af1b379d37a3\">\n",
              "    <div class=\"colab-df-container\">\n",
              "      <div>\n",
              "<style scoped>\n",
              "    .dataframe tbody tr th:only-of-type {\n",
              "        vertical-align: middle;\n",
              "    }\n",
              "\n",
              "    .dataframe tbody tr th {\n",
              "        vertical-align: top;\n",
              "    }\n",
              "\n",
              "    .dataframe thead th {\n",
              "        text-align: right;\n",
              "    }\n",
              "</style>\n",
              "<table border=\"1\" class=\"dataframe\">\n",
              "  <thead>\n",
              "    <tr style=\"text-align: right;\">\n",
              "      <th></th>\n",
              "      <th>nodule_id</th>\n",
              "      <th>1</th>\n",
              "      <th>2</th>\n",
              "      <th>3</th>\n",
              "      <th>4</th>\n",
              "      <th>5</th>\n",
              "      <th>6</th>\n",
              "      <th>7</th>\n",
              "      <th>8</th>\n",
              "      <th>9</th>\n",
              "      <th>...</th>\n",
              "      <th>503</th>\n",
              "      <th>504</th>\n",
              "      <th>505</th>\n",
              "      <th>506</th>\n",
              "      <th>507</th>\n",
              "      <th>508</th>\n",
              "      <th>509</th>\n",
              "      <th>510</th>\n",
              "      <th>511</th>\n",
              "      <th>512</th>\n",
              "    </tr>\n",
              "  </thead>\n",
              "  <tbody>\n",
              "    <tr>\n",
              "      <th>0</th>\n",
              "      <td>1111</td>\n",
              "      <td>0.402335</td>\n",
              "      <td>2.407429</td>\n",
              "      <td>0.208959</td>\n",
              "      <td>0.014347</td>\n",
              "      <td>0.000000</td>\n",
              "      <td>0.108670</td>\n",
              "      <td>0.000000</td>\n",
              "      <td>0.459340</td>\n",
              "      <td>2.996707</td>\n",
              "      <td>...</td>\n",
              "      <td>0.000000</td>\n",
              "      <td>0.000000</td>\n",
              "      <td>0.000000</td>\n",
              "      <td>2.160160</td>\n",
              "      <td>0.356605</td>\n",
              "      <td>0.833071</td>\n",
              "      <td>1.297393</td>\n",
              "      <td>1.122951</td>\n",
              "      <td>0.000327</td>\n",
              "      <td>0.070592</td>\n",
              "    </tr>\n",
              "    <tr>\n",
              "      <th>1</th>\n",
              "      <td>2389</td>\n",
              "      <td>1.232365</td>\n",
              "      <td>0.000000</td>\n",
              "      <td>1.233181</td>\n",
              "      <td>0.000000</td>\n",
              "      <td>0.000000</td>\n",
              "      <td>2.094069</td>\n",
              "      <td>4.903825</td>\n",
              "      <td>1.437941</td>\n",
              "      <td>2.961776</td>\n",
              "      <td>...</td>\n",
              "      <td>0.769171</td>\n",
              "      <td>2.856882</td>\n",
              "      <td>1.307950</td>\n",
              "      <td>2.356032</td>\n",
              "      <td>0.291056</td>\n",
              "      <td>0.000000</td>\n",
              "      <td>0.280540</td>\n",
              "      <td>2.724194</td>\n",
              "      <td>2.561219</td>\n",
              "      <td>1.479563</td>\n",
              "    </tr>\n",
              "    <tr>\n",
              "      <th>2</th>\n",
              "      <td>1989</td>\n",
              "      <td>0.861242</td>\n",
              "      <td>1.381636</td>\n",
              "      <td>0.353474</td>\n",
              "      <td>0.015740</td>\n",
              "      <td>0.688499</td>\n",
              "      <td>0.588821</td>\n",
              "      <td>0.111573</td>\n",
              "      <td>0.139755</td>\n",
              "      <td>0.793373</td>\n",
              "      <td>...</td>\n",
              "      <td>0.000000</td>\n",
              "      <td>0.408450</td>\n",
              "      <td>0.000000</td>\n",
              "      <td>2.393300</td>\n",
              "      <td>0.667211</td>\n",
              "      <td>1.378567</td>\n",
              "      <td>2.694174</td>\n",
              "      <td>0.432546</td>\n",
              "      <td>0.212082</td>\n",
              "      <td>2.390762</td>\n",
              "    </tr>\n",
              "    <tr>\n",
              "      <th>3</th>\n",
              "      <td>1986</td>\n",
              "      <td>0.337180</td>\n",
              "      <td>0.023455</td>\n",
              "      <td>0.456596</td>\n",
              "      <td>0.248159</td>\n",
              "      <td>0.194800</td>\n",
              "      <td>0.064693</td>\n",
              "      <td>0.880458</td>\n",
              "      <td>1.822733</td>\n",
              "      <td>2.296947</td>\n",
              "      <td>...</td>\n",
              "      <td>0.241488</td>\n",
              "      <td>0.194820</td>\n",
              "      <td>0.484187</td>\n",
              "      <td>0.139054</td>\n",
              "      <td>0.481399</td>\n",
              "      <td>0.710988</td>\n",
              "      <td>1.962747</td>\n",
              "      <td>0.148901</td>\n",
              "      <td>0.026522</td>\n",
              "      <td>1.697662</td>\n",
              "    </tr>\n",
              "    <tr>\n",
              "      <th>4</th>\n",
              "      <td>419</td>\n",
              "      <td>3.243810</td>\n",
              "      <td>1.032596</td>\n",
              "      <td>0.085550</td>\n",
              "      <td>0.000000</td>\n",
              "      <td>0.000000</td>\n",
              "      <td>0.096834</td>\n",
              "      <td>0.000000</td>\n",
              "      <td>2.328475</td>\n",
              "      <td>1.927927</td>\n",
              "      <td>...</td>\n",
              "      <td>0.000000</td>\n",
              "      <td>0.000000</td>\n",
              "      <td>0.000000</td>\n",
              "      <td>0.724795</td>\n",
              "      <td>0.096210</td>\n",
              "      <td>0.712778</td>\n",
              "      <td>0.878881</td>\n",
              "      <td>1.397634</td>\n",
              "      <td>0.126762</td>\n",
              "      <td>0.074872</td>\n",
              "    </tr>\n",
              "  </tbody>\n",
              "</table>\n",
              "<p>5 rows × 513 columns</p>\n",
              "</div>\n",
              "      <button class=\"colab-df-convert\" onclick=\"convertToInteractive('df-a6446361-5d92-410b-ae2f-af1b379d37a3')\"\n",
              "              title=\"Convert this dataframe to an interactive table.\"\n",
              "              style=\"display:none;\">\n",
              "        \n",
              "  <svg xmlns=\"http://www.w3.org/2000/svg\" height=\"24px\"viewBox=\"0 0 24 24\"\n",
              "       width=\"24px\">\n",
              "    <path d=\"M0 0h24v24H0V0z\" fill=\"none\"/>\n",
              "    <path d=\"M18.56 5.44l.94 2.06.94-2.06 2.06-.94-2.06-.94-.94-2.06-.94 2.06-2.06.94zm-11 1L8.5 8.5l.94-2.06 2.06-.94-2.06-.94L8.5 2.5l-.94 2.06-2.06.94zm10 10l.94 2.06.94-2.06 2.06-.94-2.06-.94-.94-2.06-.94 2.06-2.06.94z\"/><path d=\"M17.41 7.96l-1.37-1.37c-.4-.4-.92-.59-1.43-.59-.52 0-1.04.2-1.43.59L10.3 9.45l-7.72 7.72c-.78.78-.78 2.05 0 2.83L4 21.41c.39.39.9.59 1.41.59.51 0 1.02-.2 1.41-.59l7.78-7.78 2.81-2.81c.8-.78.8-2.07 0-2.86zM5.41 20L4 18.59l7.72-7.72 1.47 1.35L5.41 20z\"/>\n",
              "  </svg>\n",
              "      </button>\n",
              "      \n",
              "  <style>\n",
              "    .colab-df-container {\n",
              "      display:flex;\n",
              "      flex-wrap:wrap;\n",
              "      gap: 12px;\n",
              "    }\n",
              "\n",
              "    .colab-df-convert {\n",
              "      background-color: #E8F0FE;\n",
              "      border: none;\n",
              "      border-radius: 50%;\n",
              "      cursor: pointer;\n",
              "      display: none;\n",
              "      fill: #1967D2;\n",
              "      height: 32px;\n",
              "      padding: 0 0 0 0;\n",
              "      width: 32px;\n",
              "    }\n",
              "\n",
              "    .colab-df-convert:hover {\n",
              "      background-color: #E2EBFA;\n",
              "      box-shadow: 0px 1px 2px rgba(60, 64, 67, 0.3), 0px 1px 3px 1px rgba(60, 64, 67, 0.15);\n",
              "      fill: #174EA6;\n",
              "    }\n",
              "\n",
              "    [theme=dark] .colab-df-convert {\n",
              "      background-color: #3B4455;\n",
              "      fill: #D2E3FC;\n",
              "    }\n",
              "\n",
              "    [theme=dark] .colab-df-convert:hover {\n",
              "      background-color: #434B5C;\n",
              "      box-shadow: 0px 1px 3px 1px rgba(0, 0, 0, 0.15);\n",
              "      filter: drop-shadow(0px 1px 2px rgba(0, 0, 0, 0.3));\n",
              "      fill: #FFFFFF;\n",
              "    }\n",
              "  </style>\n",
              "\n",
              "      <script>\n",
              "        const buttonEl =\n",
              "          document.querySelector('#df-a6446361-5d92-410b-ae2f-af1b379d37a3 button.colab-df-convert');\n",
              "        buttonEl.style.display =\n",
              "          google.colab.kernel.accessAllowed ? 'block' : 'none';\n",
              "\n",
              "        async function convertToInteractive(key) {\n",
              "          const element = document.querySelector('#df-a6446361-5d92-410b-ae2f-af1b379d37a3');\n",
              "          const dataTable =\n",
              "            await google.colab.kernel.invokeFunction('convertToInteractive',\n",
              "                                                     [key], {});\n",
              "          if (!dataTable) return;\n",
              "\n",
              "          const docLinkHtml = 'Like what you see? Visit the ' +\n",
              "            '<a target=\"_blank\" href=https://colab.research.google.com/notebooks/data_table.ipynb>data table notebook</a>'\n",
              "            + ' to learn more about interactive tables.';\n",
              "          element.innerHTML = '';\n",
              "          dataTable['output_type'] = 'display_data';\n",
              "          await google.colab.output.renderOutput(dataTable, element);\n",
              "          const docLink = document.createElement('div');\n",
              "          docLink.innerHTML = docLinkHtml;\n",
              "          element.appendChild(docLink);\n",
              "        }\n",
              "      </script>\n",
              "    </div>\n",
              "  </div>\n",
              "  "
            ]
          },
          "metadata": {},
          "execution_count": 220
        }
      ]
    },
    {
      "cell_type": "code",
      "source": [
        "lidc_cnnFeatures.to_csv('cnn_features.csv')\n",
        "torch.save(model.state_dict(), 'cnn_feature_model') #saves weights in file called weights"
      ],
      "metadata": {
        "id": "X5Qgp0ww02DS"
      },
      "id": "X5Qgp0ww02DS",
      "execution_count": 221,
      "outputs": []
    },
    {
      "cell_type": "markdown",
      "source": [
        "## Now we perform clustering"
      ],
      "metadata": {
        "id": "OO3Kusfy056i"
      },
      "id": "OO3Kusfy056i"
    },
    {
      "cell_type": "code",
      "source": [
        "import pandas as pd\n",
        "import numpy as np\n",
        "import matplotlib.pyplot as plt\n",
        "\n",
        "# from sklearn.preprocessing import StandardScaler\n",
        "from sklearn.decomposition import PCA\n",
        "from sklearn.cluster import KMeans\n",
        "from sklearn.metrics import silhouette_score\n",
        "from sklearn.manifold import TSNE"
      ],
      "metadata": {
        "id": "xxjA_gRI1vzL"
      },
      "id": "xxjA_gRI1vzL",
      "execution_count": 222,
      "outputs": []
    },
    {
      "cell_type": "code",
      "source": [
        "X = lidc_cnnFeatures.drop(columns=['nodule_id']).values\n",
        "pca_512 = PCA(n_components=512, random_state=4)\n",
        "pca_512.fit(X)"
      ],
      "metadata": {
        "colab": {
          "base_uri": "https://localhost:8080/"
        },
        "id": "xEHo2OAn1DiD",
        "outputId": "daf7bd7b-8683-476b-e7a0-aae17286e286"
      },
      "id": "xEHo2OAn1DiD",
      "execution_count": 223,
      "outputs": [
        {
          "output_type": "execute_result",
          "data": {
            "text/plain": [
              "PCA(n_components=512, random_state=4)"
            ]
          },
          "metadata": {},
          "execution_count": 223
        }
      ]
    },
    {
      "cell_type": "code",
      "source": [
        "cum_component_variance = np.cumsum(pca_512.explained_variance_ratio_*100)\n",
        "plt.plot(cum_component_variance)\n",
        "plt.xlabel('Number of PCA Components')\n",
        "plt.ylabel('Cumulative Explained Variance')"
      ],
      "metadata": {
        "colab": {
          "base_uri": "https://localhost:8080/",
          "height": 296
        },
        "id": "zZsE4IMM1jMu",
        "outputId": "2461ce48-5caa-4333-8799-01ebc18340b1"
      },
      "id": "zZsE4IMM1jMu",
      "execution_count": 224,
      "outputs": [
        {
          "output_type": "execute_result",
          "data": {
            "text/plain": [
              "Text(0, 0.5, 'Cumulative Explained Variance')"
            ]
          },
          "metadata": {},
          "execution_count": 224
        },
        {
          "output_type": "display_data",
          "data": {
            "text/plain": [
              "<Figure size 432x288 with 1 Axes>"
            ],
            "image/png": "[encoded data removed]"
          },
          "metadata": {
            "needs_background": "light"
          }
        }
      ]
    },
    {
      "cell_type": "code",
      "source": [
        "cum_component_variance[100]"
      ],
      "metadata": {
        "colab": {
          "base_uri": "https://localhost:8080/"
        },
        "id": "BYDSXFgj11u7",
        "outputId": "e8e35e8c-ae28-4753-b273-cc0b3b46e20b"
      },
      "id": "BYDSXFgj11u7",
      "execution_count": 225,
      "outputs": [
        {
          "output_type": "execute_result",
          "data": {
            "text/plain": [
              "93.20966759255559"
            ]
          },
          "metadata": {},
          "execution_count": 225
        }
      ]
    },
    {
      "cell_type": "code",
      "source": [
        "pca_100 = PCA(n_components=100, random_state=4)\n",
        "pca_100.fit(X)\n",
        "X_pca = pca_100.transform(X)"
      ],
      "metadata": {
        "id": "_-7c_pyU14QK"
      },
      "id": "_-7c_pyU14QK",
      "execution_count": 226,
      "outputs": []
    },
    {
      "cell_type": "code",
      "source": [
        "clusters = [n for n in range(2,16)]\n",
        "silhouette_coefficients = []\n",
        "\n",
        "for cluster in clusters:\n",
        "  kmeans = KMeans(n_clusters=cluster, random_state=420).fit(X_pca)\n",
        "  labels = kmeans.labels_\n",
        "  \n",
        "  silhouette_avg = silhouette_score(X, labels)\n",
        "  silhouette_coefficients.append(silhouette_avg)\n",
        "  print(\"For n_clusters =\",cluster, \"The average silhouette_score is :\",silhouette_avg)"
      ],
      "metadata": {
        "colab": {
          "base_uri": "https://localhost:8080/"
        },
        "id": "S82uXve-2pGZ",
        "outputId": "441f3eeb-dabc-423d-e697-3657e88ea2c4"
      },
      "id": "S82uXve-2pGZ",
      "execution_count": 227,
      "outputs": [
        {
          "output_type": "stream",
          "name": "stdout",
          "text": [
            "For n_clusters = 2 The average silhouette_score is : 0.1711378041504111\n",
            "For n_clusters = 3 The average silhouette_score is : 0.20086387675307582\n",
            "For n_clusters = 4 The average silhouette_score is : 0.1209936068495832\n",
            "For n_clusters = 5 The average silhouette_score is : 0.12082600838525197\n",
            "For n_clusters = 6 The average silhouette_score is : 0.11170913584291037\n",
            "For n_clusters = 7 The average silhouette_score is : 0.10295322343193432\n",
            "For n_clusters = 8 The average silhouette_score is : 0.10161360803501937\n",
            "For n_clusters = 9 The average silhouette_score is : 0.08625026687232701\n",
            "For n_clusters = 10 The average silhouette_score is : 0.09212637647064197\n",
            "For n_clusters = 11 The average silhouette_score is : 0.09209920604298043\n",
            "For n_clusters = 12 The average silhouette_score is : 0.12606663670178384\n",
            "For n_clusters = 13 The average silhouette_score is : 0.0980974335152552\n",
            "For n_clusters = 14 The average silhouette_score is : 0.1165894045692956\n",
            "For n_clusters = 15 The average silhouette_score is : 0.102336922481289\n"
          ]
        }
      ]
    },
    {
      "cell_type": "code",
      "source": [
        "plt.plot(clusters, silhouette_coefficients)\n",
        "plt.xlabel('Number of Clusters')\n",
        "plt.ylabel('Silhouette Coefficients')"
      ],
      "metadata": {
        "colab": {
          "base_uri": "https://localhost:8080/",
          "height": 296
        },
        "id": "Z5WtG48i25Rj",
        "outputId": "e536bec8-a3bb-47cf-a919-a6637993d78a"
      },
      "id": "Z5WtG48i25Rj",
      "execution_count": 228,
      "outputs": [
        {
          "output_type": "execute_result",
          "data": {
            "text/plain": [
              "Text(0, 0.5, 'Silhouette Coefficients')"
            ]
          },
          "metadata": {},
          "execution_count": 228
        },
        {
          "output_type": "display_data",
          "data": {
            "text/plain": [
              "<Figure size 432x288 with 1 Axes>"
            ],
            "image/png": "[encoded data removed]"
          },
          "metadata": {
            "needs_background": "light"
          }
        }
      ]
    },
    {
      "cell_type": "code",
      "source": [
        "kmeans = KMeans(n_clusters=2, random_state=420).fit(X_pca)\n",
        "cluster_labels = kmeans.labels_\n",
        "print(f'There are {len(cluster_labels)} points, and {sum(cluster_labels)} points are in one cluster with {len(cluster_labels)-sum(cluster_labels)} in the other.')"
      ],
      "metadata": {
        "colab": {
          "base_uri": "https://localhost:8080/"
        },
        "id": "o9rKVyIa264Y",
        "outputId": "e3d56580-14b9-4f9f-caae-6e0ad0df5f8d"
      },
      "id": "o9rKVyIa264Y",
      "execution_count": 229,
      "outputs": [
        {
          "output_type": "stream",
          "name": "stdout",
          "text": [
            "There are 744 points, and 300 points are in one cluster with 444 in the other.\n"
          ]
        }
      ]
    },
    {
      "cell_type": "code",
      "source": [
        "X_embedded = TSNE(n_components=2, random_state=4).fit_transform(X)\n"
      ],
      "metadata": {
        "colab": {
          "base_uri": "https://localhost:8080/"
        },
        "id": "lN5fk3sq3d3v",
        "outputId": "789d4ac4-ccca-4d69-a521-da324514d66e"
      },
      "id": "lN5fk3sq3d3v",
      "execution_count": 230,
      "outputs": [
        {
          "output_type": "stream",
          "name": "stderr",
          "text": [
            "/usr/local/lib/python3.7/dist-packages/sklearn/manifold/_t_sne.py:783: FutureWarning: The default initialization in TSNE will change from 'random' to 'pca' in 1.2.\n",
            "  FutureWarning,\n",
            "/usr/local/lib/python3.7/dist-packages/sklearn/manifold/_t_sne.py:793: FutureWarning: The default learning rate in TSNE will change from 200.0 to 'auto' in 1.2.\n",
            "  FutureWarning,\n"
          ]
        }
      ]
    },
    {
      "cell_type": "code",
      "source": [
        "# malignancy = list(map(lambda x:int(x), img_data[1]))\n",
        "malignancy = list(map(lambda x:int(x), shuffle_data[1][744:]))"
      ],
      "metadata": {
        "id": "UYILsmCI5f7g"
      },
      "id": "UYILsmCI5f7g",
      "execution_count": 235,
      "outputs": []
    },
    {
      "cell_type": "code",
      "source": [
        "lidc_TSNE = pd.DataFrame()\n",
        "lidc_TSNE['nodule_id'] = shuffle_id[744:]#lidc_cnnFeatures['nodule_id']\n",
        "lidc_TSNE['cluster_label'] = cluster_labels\n",
        "lidc_TSNE['component_1'] = X_embedded[:,0]\n",
        "lidc_TSNE['component_2'] = X_embedded[:,1]\n",
        "lidc_TSNE['malignancy'] = malignancy"
      ],
      "metadata": {
        "id": "qKoP2XIr4Ug-"
      },
      "id": "qKoP2XIr4Ug-",
      "execution_count": 236,
      "outputs": []
    },
    {
      "cell_type": "code",
      "source": [
        "fig, ax = plt.subplots()\n",
        "group = lidc_TSNE['malignancy']\n",
        "component_1 = lidc_TSNE['component_1'].to_numpy()\n",
        "component_2 = lidc_TSNE['component_2'].to_numpy()\n",
        "# legend = {0:'red', 1:'blue'}\n",
        "\n",
        "for g in np.unique(group):\n",
        "    idx = np.where(group == g)\n",
        "    ax.scatter(component_1[idx], component_2[idx],  label = g, s = 5) #c = legend[g],\n",
        "ax.legend()\n",
        "plt.show()"
      ],
      "metadata": {
        "colab": {
          "base_uri": "https://localhost:8080/",
          "height": 265
        },
        "id": "_nWBS0TB3h45",
        "outputId": "3dfd0699-5479-4103-c02f-4e1589d71cd7"
      },
      "id": "_nWBS0TB3h45",
      "execution_count": 237,
      "outputs": [
        {
          "output_type": "display_data",
          "data": {
            "text/plain": [
              "<Figure size 432x288 with 1 Axes>"
            ],
            "image/png": "[encoded data removed]"
          },
          "metadata": {
            "needs_background": "light"
          }
        }
      ]
    },
    {
      "cell_type": "code",
      "source": [
        ""
      ],
      "metadata": {
        "id": "PUSrqGfE4PSi"
      },
      "id": "PUSrqGfE4PSi",
      "execution_count": null,
      "outputs": []
    }
  ],
  "metadata": {
    "kernelspec": {
      "display_name": "REU",
      "language": "python",
      "name": "reu"
    },
    "language_info": {
      "codemirror_mode": {
        "name": "ipython",
        "version": 3
      },
      "file_extension": ".py",
      "mimetype": "text/x-python",
      "name": "python",
      "nbconvert_exporter": "python",
      "pygments_lexer": "ipython3",
      "version": "3.10.5"
    },
    "colab": {
      "name": "LIDC_cnn_feature_subgroups.ipynb",
      "provenance": [],
      "include_colab_link": true
    },
    "accelerator": "GPU",
    "gpuClass": "standard"
  },
  "nbformat": 4,
  "nbformat_minor": 5
}