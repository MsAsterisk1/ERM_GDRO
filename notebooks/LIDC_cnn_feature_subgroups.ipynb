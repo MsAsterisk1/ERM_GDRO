{
 "cells": [
  {
   "cell_type": "code",
   "execution_count": 1,
   "id": "d1cb7b46",
   "metadata": {},
   "outputs": [],
   "source": [
    "%load_ext autoreload\n",
    "%autoreload 2"
   ]
  },
  {
   "cell_type": "code",
   "execution_count": 2,
   "id": "0130debc",
   "metadata": {},
   "outputs": [
    {
     "name": "stdout",
     "output_type": "stream",
     "text": [
      "C:\\Users\\tzeng1\\repos\\LIDC_GDRO\n"
     ]
    }
   ],
   "source": [
    "%cd .."
   ]
  },
  {
   "cell_type": "code",
   "execution_count": 18,
   "id": "e96f546a",
   "metadata": {},
   "outputs": [],
   "source": [
    "# import os\n",
    "# import torch\n",
    "# import pandas as pd\n",
    "# import numpy as np\n",
    "from dataloaders import InfiniteDataLoader\n",
    "from datasets import NoduleDataset\n",
    "from models import TransferModel\n",
    "from loss import ERMLoss#, GDROLossAlt, GDROLoss\n",
    "from train import train, test\n",
    "# from torch.optim.lr_scheduler import ReduceLROnPlateau\n",
    "\n",
    "# import torchvision\n",
    "import torch\n",
    "from image_data_utils import getImages"
   ]
  },
  {
   "cell_type": "code",
   "execution_count": 4,
   "id": "1b918ae9",
   "metadata": {},
   "outputs": [
    {
     "name": "stdout",
     "output_type": "stream",
     "text": [
      "Using cpu\n"
     ]
    }
   ],
   "source": [
    "if torch.cuda.is_available():\n",
    "    print(\"Good to go!\")\n",
    "    DEVICE = torch.device(\"cuda\")\n",
    "else:\n",
    "    print(\"Using cpu\")\n",
    "    DEVICE = torch.device(\"cpu\")"
   ]
  },
  {
   "cell_type": "markdown",
   "id": "776505f0",
   "metadata": {},
   "source": [
    "#To derive an upper bound on performance, we first do clustering on entire dataset"
   ]
  },
  {
   "cell_type": "code",
   "execution_count": 5,
   "id": "b886b126",
   "metadata": {},
   "outputs": [],
   "source": [
    "nodule_id, img_data = getImages(split=False, sublabels=False, binary=False, device=DEVICE)"
   ]
  },
  {
   "cell_type": "code",
   "execution_count": 13,
   "id": "765f1247",
   "metadata": {},
   "outputs": [],
   "source": [
    "dataset = NoduleDataset(*img_data)\n",
    "loader = InfiniteDataLoader(dataset, batch_size=128)"
   ]
  },
  {
   "cell_type": "code",
   "execution_count": 16,
   "id": "d902d7a8",
   "metadata": {},
   "outputs": [],
   "source": [
    "model = TransferModel(freeze=False, binary=False, device=DEVICE)\n",
    "loss_fn = ERMLoss(model,torch.nn.CrossEntropyLoss(),{})\n",
    "optimizer = torch.optim.Adam(model.parameters(), lr=0.0005, weight_decay=0.005)"
   ]
  },
  {
   "cell_type": "markdown",
   "id": "d3ecc122",
   "metadata": {},
   "source": [
    "epochs = 15\n",
    "for epoch in range(epochs):\n",
    "    print(f\"Epoch {epoch + 1}/{epochs}\")\n",
    "    train(loader, model, loss_fn, optimizer, verbose=True)\n"
   ]
  },
  {
   "cell_type": "code",
   "execution_count": null,
   "id": "b8fe282e",
   "metadata": {},
   "outputs": [],
   "source": []
  }
 ],
 "metadata": {
  "kernelspec": {
   "display_name": "REU",
   "language": "python",
   "name": "reu"
  },
  "language_info": {
   "codemirror_mode": {
    "name": "ipython",
    "version": 3
   },
   "file_extension": ".py",
   "mimetype": "text/x-python",
   "name": "python",
   "nbconvert_exporter": "python",
   "pygments_lexer": "ipython3",
   "version": "3.10.5"
  }
 },
 "nbformat": 4,
 "nbformat_minor": 5
}
