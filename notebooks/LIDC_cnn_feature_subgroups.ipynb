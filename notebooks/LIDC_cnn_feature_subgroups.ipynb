{
  "cells": [
    {
      "cell_type": "markdown",
      "metadata": {
        "id": "view-in-github",
        "colab_type": "text"
      },
      "source": [
        "<a href=\"https://colab.research.google.com/github/mtzig/LIDC_GDRO/blob/main/notebooks/LIDC_cnn_feature_subgroups.ipynb\" target=\"_parent\"><img src=\"https://colab.research.google.com/assets/colab-badge.svg\" alt=\"Open In Colab\"/></a>"
      ]
    },
    {
      "cell_type": "code",
      "execution_count": 1,
      "id": "d1cb7b46",
      "metadata": {
        "id": "d1cb7b46"
      },
      "outputs": [],
      "source": [
        "%load_ext autoreload\n",
        "%autoreload 2"
      ]
    },
    {
      "cell_type": "code",
      "execution_count": 2,
      "id": "0130debc",
      "metadata": {
        "id": "0130debc",
        "outputId": "426ac871-af5a-4135-de77-d870b30bc9da",
        "colab": {
          "base_uri": "https://localhost:8080/"
        }
      },
      "outputs": [
        {
          "output_type": "stream",
          "name": "stdout",
          "text": [
            "Cloning into 'LIDC_GDRO'...\n",
            "remote: Enumerating objects: 3443, done.\u001b[K\n",
            "remote: Counting objects: 100% (15/15), done.\u001b[K\n",
            "remote: Compressing objects: 100% (13/13), done.\u001b[K\n",
            "remote: Total 3443 (delta 4), reused 9 (delta 2), pack-reused 3428\u001b[K\n",
            "Receiving objects: 100% (3443/3443), 55.90 MiB | 19.90 MiB/s, done.\n",
            "Resolving deltas: 100% (3152/3152), done.\n",
            "Checking out files: 100% (5390/5390), done.\n",
            "/content/LIDC_GDRO\n"
          ]
        }
      ],
      "source": [
        "!git clone https://github.com/mtzig/LIDC_GDRO.git\n",
        "%cd /content/LIDC_GDRO\n",
        "# %cd .."
      ]
    },
    {
      "cell_type": "code",
      "execution_count": 12,
      "id": "e96f546a",
      "metadata": {
        "id": "e96f546a"
      },
      "outputs": [],
      "source": [
        "# import os\n",
        "# import torch\n",
        "import pandas as pd\n",
        "# import numpy as np\n",
        "from dataloaders import InfiniteDataLoader\n",
        "from datasets import NoduleDataset\n",
        "from models import TransferModel\n",
        "from loss import ERMLoss#, GDROLossAlt, GDROLoss\n",
        "from train import train, test\n",
        "# from torch.optim.lr_scheduler import ReduceLROnPlateau\n",
        "\n",
        "# import torchvision\n",
        "import torch\n",
        "from image_data_utils import getImages"
      ]
    },
    {
      "cell_type": "code",
      "execution_count": 4,
      "id": "1b918ae9",
      "metadata": {
        "id": "1b918ae9",
        "outputId": "519956d7-0472-4360-ca66-e78578f06ed5",
        "colab": {
          "base_uri": "https://localhost:8080/"
        }
      },
      "outputs": [
        {
          "output_type": "stream",
          "name": "stdout",
          "text": [
            "Good to go!\n"
          ]
        }
      ],
      "source": [
        "if torch.cuda.is_available():\n",
        "    print(\"Good to go!\")\n",
        "    DEVICE = torch.device(\"cuda\")\n",
        "else:\n",
        "    print(\"Using cpu\")\n",
        "    DEVICE = torch.device(\"cpu\")"
      ]
    },
    {
      "cell_type": "markdown",
      "id": "776505f0",
      "metadata": {
        "id": "776505f0"
      },
      "source": [
        "#To derive an upper bound on performance, we first do clustering on entire dataset"
      ]
    },
    {
      "cell_type": "code",
      "execution_count": 9,
      "id": "b886b126",
      "metadata": {
        "id": "b886b126"
      },
      "outputs": [],
      "source": [
        "nodule_id, img_data = getImages(split=False, sublabels=False, binary=False, device=DEVICE)"
      ]
    },
    {
      "cell_type": "code",
      "execution_count": 6,
      "id": "765f1247",
      "metadata": {
        "id": "765f1247"
      },
      "outputs": [],
      "source": [
        "dataset = NoduleDataset(*img_data)\n",
        "loader = InfiniteDataLoader(dataset, batch_size=128)"
      ]
    },
    {
      "cell_type": "code",
      "execution_count": 7,
      "id": "d902d7a8",
      "metadata": {
        "id": "d902d7a8",
        "outputId": "378b1dca-a43b-4242-f15e-bfef31b9483e",
        "colab": {
          "base_uri": "https://localhost:8080/",
          "height": 66,
          "referenced_widgets": [
            "dff3e225d07f443cbc38b847fcb5c7d5",
            "be9beea32b8d4cbbb41d443a887da8dd",
            "09ee33fbef844f9891284d3edf91659d",
            "12ec1442f9904663a3ef9ea12a01ebd3",
            "fdc593d31d1146f8aa2cea7b8fedbf09",
            "2fbfadc56f5845fb8bb4779bcfe8daf9",
            "117ac9677b0f490093af4947eff286f4",
            "8a46897a0164481c95e3730373de8a01",
            "cc1ac646985441feb0e06756f3b165fe",
            "b4339dfd07174229822062c76bcd3cf7",
            "205d374395164da5ae970a7441e4ba9e"
          ]
        }
      },
      "outputs": [
        {
          "output_type": "stream",
          "name": "stderr",
          "text": [
            "Downloading: \"https://download.pytorch.org/models/resnet18-f37072fd.pth\" to /root/.cache/torch/hub/checkpoints/resnet18-f37072fd.pth\n"
          ]
        },
        {
          "output_type": "display_data",
          "data": {
            "text/plain": [
              "  0%|          | 0.00/44.7M [00:00<?, ?B/s]"
            ],
            "application/vnd.jupyter.widget-view+json": {
              "version_major": 2,
              "version_minor": 0,
              "model_id": "dff3e225d07f443cbc38b847fcb5c7d5"
            }
          },
          "metadata": {}
        }
      ],
      "source": [
        "model = TransferModel(freeze=False, binary=False, device=DEVICE)\n",
        "loss_fn = ERMLoss(model,torch.nn.CrossEntropyLoss(),{})\n",
        "optimizer = torch.optim.Adam(model.parameters(), lr=0.0005, weight_decay=0.005)"
      ]
    },
    {
      "cell_type": "code",
      "execution_count": 8,
      "id": "b8fe282e",
      "metadata": {
        "id": "b8fe282e",
        "outputId": "112350ef-9bb7-482a-a8be-0a98daa0b9bf",
        "colab": {
          "base_uri": "https://localhost:8080/"
        }
      },
      "outputs": [
        {
          "output_type": "stream",
          "name": "stdout",
          "text": [
            "Epoch 1/15\n",
            "Average training loss: 1.6096623810854824\n",
            "Epoch 2/15\n",
            "Average training loss: 1.0272845354947178\n",
            "Epoch 3/15\n",
            "Average training loss: 0.7714252851226113\n",
            "Epoch 4/15\n",
            "Average training loss: 0.6268660453232852\n",
            "Epoch 5/15\n",
            "Average training loss: 0.5220643281936646\n",
            "Epoch 6/15\n",
            "Average training loss: 0.43945582888343115\n",
            "Epoch 7/15\n",
            "Average training loss: 0.3556979461149736\n",
            "Epoch 8/15\n",
            "Average training loss: 0.3527693463997407\n",
            "Epoch 9/15\n",
            "Average training loss: 0.2775972959670154\n",
            "Epoch 10/15\n",
            "Average training loss: 0.25271046974442224\n",
            "Epoch 11/15\n",
            "Average training loss: 0.24750975451686166\n",
            "Epoch 12/15\n",
            "Average training loss: 0.22280371324582535\n",
            "Epoch 13/15\n",
            "Average training loss: 0.18296518515456806\n",
            "Epoch 14/15\n",
            "Average training loss: 0.18865948915481567\n",
            "Epoch 15/15\n",
            "Average training loss: 0.19465707716616718\n"
          ]
        }
      ],
      "source": [
        "epochs = 20\n",
        "for epoch in range(epochs):\n",
        "    print(f\"Epoch {epoch + 1}/{epochs}\")\n",
        "    train(loader, model, loss_fn, optimizer, verbose=True)"
      ]
    },
    {
      "cell_type": "markdown",
      "source": [
        "# Now we extract the features"
      ],
      "metadata": {
        "id": "EJbb14GQ0RUH"
      },
      "id": "EJbb14GQ0RUH"
    },
    {
      "cell_type": "code",
      "source": [
        "activation = {}\n",
        "def get_activation(name):\n",
        "    def hook(model, input, output):\n",
        "        activation[name] = output.detach()\n",
        "    return hook\n",
        "model.model.avgpool.register_forward_hook(get_activation('avgpool'))\n",
        "image_tensors = torch.stack(img_data[0])\n",
        "model(image_tensors)\n",
        "image_features = activation['avgpool'].squeeze()\n"
      ],
      "metadata": {
        "id": "X95bdmVT0Hr7"
      },
      "id": "X95bdmVT0Hr7",
      "execution_count": 10,
      "outputs": []
    },
    {
      "cell_type": "code",
      "source": [
        "cols = []\n",
        "for idx,id in enumerate(nodule_id):\n",
        "  cols.append([id] + image_features[idx].cpu().numpy().tolist())\n",
        "lidc_cnnFeatures = pd.DataFrame(cols).rename({0:'nodule_id'}, axis=1)\n",
        "lidc_cnnFeatures.head()"
      ],
      "metadata": {
        "id": "vekZk7CT0Z8F",
        "outputId": "ca07dbe3-4365-41f8-a4fb-6c98cbd01940",
        "colab": {
          "base_uri": "https://localhost:8080/",
          "height": 235
        }
      },
      "id": "vekZk7CT0Z8F",
      "execution_count": 13,
      "outputs": [
        {
          "output_type": "execute_result",
          "data": {
            "text/plain": [
              "   nodule_id         1         2         3         4         5         6  \\\n",
              "0       2691  0.552001  0.007099  0.099501  0.420685  1.410234  0.030461   \n",
              "1       2185  1.547561  0.000000  0.000000  0.889399  2.486399  0.000000   \n",
              "2       2190  1.808401  0.011915  0.100547  0.718175  2.816071  0.037634   \n",
              "3        990  3.043851  0.272301  0.017524  1.063373  3.085476  0.004206   \n",
              "4        386  2.578759  0.000000  0.000000  1.653559  4.426379  0.115955   \n",
              "\n",
              "          7         8         9  ...       503       504       505       506  \\\n",
              "0  0.228956  0.387511  0.108710  ...  2.109688  0.147571  0.038860  0.708355   \n",
              "1  0.676981  0.113101  0.145823  ...  2.294022  0.012451  0.848783  1.158062   \n",
              "2  0.000000  0.000000  0.000000  ...  2.366264  0.799264  0.706379  0.070460   \n",
              "3  0.379519  0.139327  0.000000  ...  2.228153  0.452996  0.655810  0.389889   \n",
              "4  2.132362  0.547618  1.005010  ...  1.326507  0.638974  0.021883  0.342488   \n",
              "\n",
              "        507       508       509       510       511       512  \n",
              "0  0.550058  0.709375  0.160741  0.287429  1.021720  0.234102  \n",
              "1  0.853212  0.118796  0.004371  1.117693  3.343482  0.000000  \n",
              "2  0.000000  1.155147  0.094662  1.005571  0.705891  0.003502  \n",
              "3  0.000881  0.119418  0.222527  0.761036  1.406825  0.000000  \n",
              "4  0.661192  1.192846  0.724254  1.449755  2.335729  0.000310  \n",
              "\n",
              "[5 rows x 513 columns]"
            ],
            "text/html": [
              "\n",
              "  <div id=\"df-d5ec7182-bd98-4196-b0c4-9608a117847a\">\n",
              "    <div class=\"colab-df-container\">\n",
              "      <div>\n",
              "<style scoped>\n",
              "    .dataframe tbody tr th:only-of-type {\n",
              "        vertical-align: middle;\n",
              "    }\n",
              "\n",
              "    .dataframe tbody tr th {\n",
              "        vertical-align: top;\n",
              "    }\n",
              "\n",
              "    .dataframe thead th {\n",
              "        text-align: right;\n",
              "    }\n",
              "</style>\n",
              "<table border=\"1\" class=\"dataframe\">\n",
              "  <thead>\n",
              "    <tr style=\"text-align: right;\">\n",
              "      <th></th>\n",
              "      <th>nodule_id</th>\n",
              "      <th>1</th>\n",
              "      <th>2</th>\n",
              "      <th>3</th>\n",
              "      <th>4</th>\n",
              "      <th>5</th>\n",
              "      <th>6</th>\n",
              "      <th>7</th>\n",
              "      <th>8</th>\n",
              "      <th>9</th>\n",
              "      <th>...</th>\n",
              "      <th>503</th>\n",
              "      <th>504</th>\n",
              "      <th>505</th>\n",
              "      <th>506</th>\n",
              "      <th>507</th>\n",
              "      <th>508</th>\n",
              "      <th>509</th>\n",
              "      <th>510</th>\n",
              "      <th>511</th>\n",
              "      <th>512</th>\n",
              "    </tr>\n",
              "  </thead>\n",
              "  <tbody>\n",
              "    <tr>\n",
              "      <th>0</th>\n",
              "      <td>2691</td>\n",
              "      <td>0.552001</td>\n",
              "      <td>0.007099</td>\n",
              "      <td>0.099501</td>\n",
              "      <td>0.420685</td>\n",
              "      <td>1.410234</td>\n",
              "      <td>0.030461</td>\n",
              "      <td>0.228956</td>\n",
              "      <td>0.387511</td>\n",
              "      <td>0.108710</td>\n",
              "      <td>...</td>\n",
              "      <td>2.109688</td>\n",
              "      <td>0.147571</td>\n",
              "      <td>0.038860</td>\n",
              "      <td>0.708355</td>\n",
              "      <td>0.550058</td>\n",
              "      <td>0.709375</td>\n",
              "      <td>0.160741</td>\n",
              "      <td>0.287429</td>\n",
              "      <td>1.021720</td>\n",
              "      <td>0.234102</td>\n",
              "    </tr>\n",
              "    <tr>\n",
              "      <th>1</th>\n",
              "      <td>2185</td>\n",
              "      <td>1.547561</td>\n",
              "      <td>0.000000</td>\n",
              "      <td>0.000000</td>\n",
              "      <td>0.889399</td>\n",
              "      <td>2.486399</td>\n",
              "      <td>0.000000</td>\n",
              "      <td>0.676981</td>\n",
              "      <td>0.113101</td>\n",
              "      <td>0.145823</td>\n",
              "      <td>...</td>\n",
              "      <td>2.294022</td>\n",
              "      <td>0.012451</td>\n",
              "      <td>0.848783</td>\n",
              "      <td>1.158062</td>\n",
              "      <td>0.853212</td>\n",
              "      <td>0.118796</td>\n",
              "      <td>0.004371</td>\n",
              "      <td>1.117693</td>\n",
              "      <td>3.343482</td>\n",
              "      <td>0.000000</td>\n",
              "    </tr>\n",
              "    <tr>\n",
              "      <th>2</th>\n",
              "      <td>2190</td>\n",
              "      <td>1.808401</td>\n",
              "      <td>0.011915</td>\n",
              "      <td>0.100547</td>\n",
              "      <td>0.718175</td>\n",
              "      <td>2.816071</td>\n",
              "      <td>0.037634</td>\n",
              "      <td>0.000000</td>\n",
              "      <td>0.000000</td>\n",
              "      <td>0.000000</td>\n",
              "      <td>...</td>\n",
              "      <td>2.366264</td>\n",
              "      <td>0.799264</td>\n",
              "      <td>0.706379</td>\n",
              "      <td>0.070460</td>\n",
              "      <td>0.000000</td>\n",
              "      <td>1.155147</td>\n",
              "      <td>0.094662</td>\n",
              "      <td>1.005571</td>\n",
              "      <td>0.705891</td>\n",
              "      <td>0.003502</td>\n",
              "    </tr>\n",
              "    <tr>\n",
              "      <th>3</th>\n",
              "      <td>990</td>\n",
              "      <td>3.043851</td>\n",
              "      <td>0.272301</td>\n",
              "      <td>0.017524</td>\n",
              "      <td>1.063373</td>\n",
              "      <td>3.085476</td>\n",
              "      <td>0.004206</td>\n",
              "      <td>0.379519</td>\n",
              "      <td>0.139327</td>\n",
              "      <td>0.000000</td>\n",
              "      <td>...</td>\n",
              "      <td>2.228153</td>\n",
              "      <td>0.452996</td>\n",
              "      <td>0.655810</td>\n",
              "      <td>0.389889</td>\n",
              "      <td>0.000881</td>\n",
              "      <td>0.119418</td>\n",
              "      <td>0.222527</td>\n",
              "      <td>0.761036</td>\n",
              "      <td>1.406825</td>\n",
              "      <td>0.000000</td>\n",
              "    </tr>\n",
              "    <tr>\n",
              "      <th>4</th>\n",
              "      <td>386</td>\n",
              "      <td>2.578759</td>\n",
              "      <td>0.000000</td>\n",
              "      <td>0.000000</td>\n",
              "      <td>1.653559</td>\n",
              "      <td>4.426379</td>\n",
              "      <td>0.115955</td>\n",
              "      <td>2.132362</td>\n",
              "      <td>0.547618</td>\n",
              "      <td>1.005010</td>\n",
              "      <td>...</td>\n",
              "      <td>1.326507</td>\n",
              "      <td>0.638974</td>\n",
              "      <td>0.021883</td>\n",
              "      <td>0.342488</td>\n",
              "      <td>0.661192</td>\n",
              "      <td>1.192846</td>\n",
              "      <td>0.724254</td>\n",
              "      <td>1.449755</td>\n",
              "      <td>2.335729</td>\n",
              "      <td>0.000310</td>\n",
              "    </tr>\n",
              "  </tbody>\n",
              "</table>\n",
              "<p>5 rows × 513 columns</p>\n",
              "</div>\n",
              "      <button class=\"colab-df-convert\" onclick=\"convertToInteractive('df-d5ec7182-bd98-4196-b0c4-9608a117847a')\"\n",
              "              title=\"Convert this dataframe to an interactive table.\"\n",
              "              style=\"display:none;\">\n",
              "        \n",
              "  <svg xmlns=\"http://www.w3.org/2000/svg\" height=\"24px\"viewBox=\"0 0 24 24\"\n",
              "       width=\"24px\">\n",
              "    <path d=\"M0 0h24v24H0V0z\" fill=\"none\"/>\n",
              "    <path d=\"M18.56 5.44l.94 2.06.94-2.06 2.06-.94-2.06-.94-.94-2.06-.94 2.06-2.06.94zm-11 1L8.5 8.5l.94-2.06 2.06-.94-2.06-.94L8.5 2.5l-.94 2.06-2.06.94zm10 10l.94 2.06.94-2.06 2.06-.94-2.06-.94-.94-2.06-.94 2.06-2.06.94z\"/><path d=\"M17.41 7.96l-1.37-1.37c-.4-.4-.92-.59-1.43-.59-.52 0-1.04.2-1.43.59L10.3 9.45l-7.72 7.72c-.78.78-.78 2.05 0 2.83L4 21.41c.39.39.9.59 1.41.59.51 0 1.02-.2 1.41-.59l7.78-7.78 2.81-2.81c.8-.78.8-2.07 0-2.86zM5.41 20L4 18.59l7.72-7.72 1.47 1.35L5.41 20z\"/>\n",
              "  </svg>\n",
              "      </button>\n",
              "      \n",
              "  <style>\n",
              "    .colab-df-container {\n",
              "      display:flex;\n",
              "      flex-wrap:wrap;\n",
              "      gap: 12px;\n",
              "    }\n",
              "\n",
              "    .colab-df-convert {\n",
              "      background-color: #E8F0FE;\n",
              "      border: none;\n",
              "      border-radius: 50%;\n",
              "      cursor: pointer;\n",
              "      display: none;\n",
              "      fill: #1967D2;\n",
              "      height: 32px;\n",
              "      padding: 0 0 0 0;\n",
              "      width: 32px;\n",
              "    }\n",
              "\n",
              "    .colab-df-convert:hover {\n",
              "      background-color: #E2EBFA;\n",
              "      box-shadow: 0px 1px 2px rgba(60, 64, 67, 0.3), 0px 1px 3px 1px rgba(60, 64, 67, 0.15);\n",
              "      fill: #174EA6;\n",
              "    }\n",
              "\n",
              "    [theme=dark] .colab-df-convert {\n",
              "      background-color: #3B4455;\n",
              "      fill: #D2E3FC;\n",
              "    }\n",
              "\n",
              "    [theme=dark] .colab-df-convert:hover {\n",
              "      background-color: #434B5C;\n",
              "      box-shadow: 0px 1px 3px 1px rgba(0, 0, 0, 0.15);\n",
              "      filter: drop-shadow(0px 1px 2px rgba(0, 0, 0, 0.3));\n",
              "      fill: #FFFFFF;\n",
              "    }\n",
              "  </style>\n",
              "\n",
              "      <script>\n",
              "        const buttonEl =\n",
              "          document.querySelector('#df-d5ec7182-bd98-4196-b0c4-9608a117847a button.colab-df-convert');\n",
              "        buttonEl.style.display =\n",
              "          google.colab.kernel.accessAllowed ? 'block' : 'none';\n",
              "\n",
              "        async function convertToInteractive(key) {\n",
              "          const element = document.querySelector('#df-d5ec7182-bd98-4196-b0c4-9608a117847a');\n",
              "          const dataTable =\n",
              "            await google.colab.kernel.invokeFunction('convertToInteractive',\n",
              "                                                     [key], {});\n",
              "          if (!dataTable) return;\n",
              "\n",
              "          const docLinkHtml = 'Like what you see? Visit the ' +\n",
              "            '<a target=\"_blank\" href=https://colab.research.google.com/notebooks/data_table.ipynb>data table notebook</a>'\n",
              "            + ' to learn more about interactive tables.';\n",
              "          element.innerHTML = '';\n",
              "          dataTable['output_type'] = 'display_data';\n",
              "          await google.colab.output.renderOutput(dataTable, element);\n",
              "          const docLink = document.createElement('div');\n",
              "          docLink.innerHTML = docLinkHtml;\n",
              "          element.appendChild(docLink);\n",
              "        }\n",
              "      </script>\n",
              "    </div>\n",
              "  </div>\n",
              "  "
            ]
          },
          "metadata": {},
          "execution_count": 13
        }
      ]
    },
    {
      "cell_type": "code",
      "source": [
        "lidc_cnnFeatures.to_csv('cnn_features.csv')\n",
        "torch.save(model.state_dict(), 'cnn_feature_model') #saves weights in file called weights"
      ],
      "metadata": {
        "id": "X5Qgp0ww02DS"
      },
      "id": "X5Qgp0ww02DS",
      "execution_count": null,
      "outputs": []
    },
    {
      "cell_type": "markdown",
      "source": [
        "## Now we perform clustering"
      ],
      "metadata": {
        "id": "OO3Kusfy056i"
      },
      "id": "OO3Kusfy056i"
    }
  ],
  "metadata": {
    "kernelspec": {
      "display_name": "REU",
      "language": "python",
      "name": "reu"
    },
    "language_info": {
      "codemirror_mode": {
        "name": "ipython",
        "version": 3
      },
      "file_extension": ".py",
      "mimetype": "text/x-python",
      "name": "python",
      "nbconvert_exporter": "python",
      "pygments_lexer": "ipython3",
      "version": "3.10.5"
    },
    "colab": {
      "name": "LIDC_cnn_feature_subgroups.ipynb",
      "provenance": [],
      "include_colab_link": true
    },
    "accelerator": "GPU",
    "gpuClass": "standard",
    "widgets": {
      "application/vnd.jupyter.widget-state+json": {
        "dff3e225d07f443cbc38b847fcb5c7d5": {
          "model_module": "@jupyter-widgets/controls",
          "model_name": "HBoxModel",
          "model_module_version": "1.5.0",
          "state": {
            "_dom_classes": [],
            "_model_module": "@jupyter-widgets/controls",
            "_model_module_version": "1.5.0",
            "_model_name": "HBoxModel",
            "_view_count": null,
            "_view_module": "@jupyter-widgets/controls",
            "_view_module_version": "1.5.0",
            "_view_name": "HBoxView",
            "box_style": "",
            "children": [
              "IPY_MODEL_be9beea32b8d4cbbb41d443a887da8dd",
              "IPY_MODEL_09ee33fbef844f9891284d3edf91659d",
              "IPY_MODEL_12ec1442f9904663a3ef9ea12a01ebd3"
            ],
            "layout": "IPY_MODEL_fdc593d31d1146f8aa2cea7b8fedbf09"
          }
        },
        "be9beea32b8d4cbbb41d443a887da8dd": {
          "model_module": "@jupyter-widgets/controls",
          "model_name": "HTMLModel",
          "model_module_version": "1.5.0",
          "state": {
            "_dom_classes": [],
            "_model_module": "@jupyter-widgets/controls",
            "_model_module_version": "1.5.0",
            "_model_name": "HTMLModel",
            "_view_count": null,
            "_view_module": "@jupyter-widgets/controls",
            "_view_module_version": "1.5.0",
            "_view_name": "HTMLView",
            "description": "",
            "description_tooltip": null,
            "layout": "IPY_MODEL_2fbfadc56f5845fb8bb4779bcfe8daf9",
            "placeholder": "​",
            "style": "IPY_MODEL_117ac9677b0f490093af4947eff286f4",
            "value": "100%"
          }
        },
        "09ee33fbef844f9891284d3edf91659d": {
          "model_module": "@jupyter-widgets/controls",
          "model_name": "FloatProgressModel",
          "model_module_version": "1.5.0",
          "state": {
            "_dom_classes": [],
            "_model_module": "@jupyter-widgets/controls",
            "_model_module_version": "1.5.0",
            "_model_name": "FloatProgressModel",
            "_view_count": null,
            "_view_module": "@jupyter-widgets/controls",
            "_view_module_version": "1.5.0",
            "_view_name": "ProgressView",
            "bar_style": "success",
            "description": "",
            "description_tooltip": null,
            "layout": "IPY_MODEL_8a46897a0164481c95e3730373de8a01",
            "max": 46830571,
            "min": 0,
            "orientation": "horizontal",
            "style": "IPY_MODEL_cc1ac646985441feb0e06756f3b165fe",
            "value": 46830571
          }
        },
        "12ec1442f9904663a3ef9ea12a01ebd3": {
          "model_module": "@jupyter-widgets/controls",
          "model_name": "HTMLModel",
          "model_module_version": "1.5.0",
          "state": {
            "_dom_classes": [],
            "_model_module": "@jupyter-widgets/controls",
            "_model_module_version": "1.5.0",
            "_model_name": "HTMLModel",
            "_view_count": null,
            "_view_module": "@jupyter-widgets/controls",
            "_view_module_version": "1.5.0",
            "_view_name": "HTMLView",
            "description": "",
            "description_tooltip": null,
            "layout": "IPY_MODEL_b4339dfd07174229822062c76bcd3cf7",
            "placeholder": "​",
            "style": "IPY_MODEL_205d374395164da5ae970a7441e4ba9e",
            "value": " 44.7M/44.7M [00:00&lt;00:00, 193MB/s]"
          }
        },
        "fdc593d31d1146f8aa2cea7b8fedbf09": {
          "model_module": "@jupyter-widgets/base",
          "model_name": "LayoutModel",
          "model_module_version": "1.2.0",
          "state": {
            "_model_module": "@jupyter-widgets/base",
            "_model_module_version": "1.2.0",
            "_model_name": "LayoutModel",
            "_view_count": null,
            "_view_module": "@jupyter-widgets/base",
            "_view_module_version": "1.2.0",
            "_view_name": "LayoutView",
            "align_content": null,
            "align_items": null,
            "align_self": null,
            "border": null,
            "bottom": null,
            "display": null,
            "flex": null,
            "flex_flow": null,
            "grid_area": null,
            "grid_auto_columns": null,
            "grid_auto_flow": null,
            "grid_auto_rows": null,
            "grid_column": null,
            "grid_gap": null,
            "grid_row": null,
            "grid_template_areas": null,
            "grid_template_columns": null,
            "grid_template_rows": null,
            "height": null,
            "justify_content": null,
            "justify_items": null,
            "left": null,
            "margin": null,
            "max_height": null,
            "max_width": null,
            "min_height": null,
            "min_width": null,
            "object_fit": null,
            "object_position": null,
            "order": null,
            "overflow": null,
            "overflow_x": null,
            "overflow_y": null,
            "padding": null,
            "right": null,
            "top": null,
            "visibility": null,
            "width": null
          }
        },
        "2fbfadc56f5845fb8bb4779bcfe8daf9": {
          "model_module": "@jupyter-widgets/base",
          "model_name": "LayoutModel",
          "model_module_version": "1.2.0",
          "state": {
            "_model_module": "@jupyter-widgets/base",
            "_model_module_version": "1.2.0",
            "_model_name": "LayoutModel",
            "_view_count": null,
            "_view_module": "@jupyter-widgets/base",
            "_view_module_version": "1.2.0",
            "_view_name": "LayoutView",
            "align_content": null,
            "align_items": null,
            "align_self": null,
            "border": null,
            "bottom": null,
            "display": null,
            "flex": null,
            "flex_flow": null,
            "grid_area": null,
            "grid_auto_columns": null,
            "grid_auto_flow": null,
            "grid_auto_rows": null,
            "grid_column": null,
            "grid_gap": null,
            "grid_row": null,
            "grid_template_areas": null,
            "grid_template_columns": null,
            "grid_template_rows": null,
            "height": null,
            "justify_content": null,
            "justify_items": null,
            "left": null,
            "margin": null,
            "max_height": null,
            "max_width": null,
            "min_height": null,
            "min_width": null,
            "object_fit": null,
            "object_position": null,
            "order": null,
            "overflow": null,
            "overflow_x": null,
            "overflow_y": null,
            "padding": null,
            "right": null,
            "top": null,
            "visibility": null,
            "width": null
          }
        },
        "117ac9677b0f490093af4947eff286f4": {
          "model_module": "@jupyter-widgets/controls",
          "model_name": "DescriptionStyleModel",
          "model_module_version": "1.5.0",
          "state": {
            "_model_module": "@jupyter-widgets/controls",
            "_model_module_version": "1.5.0",
            "_model_name": "DescriptionStyleModel",
            "_view_count": null,
            "_view_module": "@jupyter-widgets/base",
            "_view_module_version": "1.2.0",
            "_view_name": "StyleView",
            "description_width": ""
          }
        },
        "8a46897a0164481c95e3730373de8a01": {
          "model_module": "@jupyter-widgets/base",
          "model_name": "LayoutModel",
          "model_module_version": "1.2.0",
          "state": {
            "_model_module": "@jupyter-widgets/base",
            "_model_module_version": "1.2.0",
            "_model_name": "LayoutModel",
            "_view_count": null,
            "_view_module": "@jupyter-widgets/base",
            "_view_module_version": "1.2.0",
            "_view_name": "LayoutView",
            "align_content": null,
            "align_items": null,
            "align_self": null,
            "border": null,
            "bottom": null,
            "display": null,
            "flex": null,
            "flex_flow": null,
            "grid_area": null,
            "grid_auto_columns": null,
            "grid_auto_flow": null,
            "grid_auto_rows": null,
            "grid_column": null,
            "grid_gap": null,
            "grid_row": null,
            "grid_template_areas": null,
            "grid_template_columns": null,
            "grid_template_rows": null,
            "height": null,
            "justify_content": null,
            "justify_items": null,
            "left": null,
            "margin": null,
            "max_height": null,
            "max_width": null,
            "min_height": null,
            "min_width": null,
            "object_fit": null,
            "object_position": null,
            "order": null,
            "overflow": null,
            "overflow_x": null,
            "overflow_y": null,
            "padding": null,
            "right": null,
            "top": null,
            "visibility": null,
            "width": null
          }
        },
        "cc1ac646985441feb0e06756f3b165fe": {
          "model_module": "@jupyter-widgets/controls",
          "model_name": "ProgressStyleModel",
          "model_module_version": "1.5.0",
          "state": {
            "_model_module": "@jupyter-widgets/controls",
            "_model_module_version": "1.5.0",
            "_model_name": "ProgressStyleModel",
            "_view_count": null,
            "_view_module": "@jupyter-widgets/base",
            "_view_module_version": "1.2.0",
            "_view_name": "StyleView",
            "bar_color": null,
            "description_width": ""
          }
        },
        "b4339dfd07174229822062c76bcd3cf7": {
          "model_module": "@jupyter-widgets/base",
          "model_name": "LayoutModel",
          "model_module_version": "1.2.0",
          "state": {
            "_model_module": "@jupyter-widgets/base",
            "_model_module_version": "1.2.0",
            "_model_name": "LayoutModel",
            "_view_count": null,
            "_view_module": "@jupyter-widgets/base",
            "_view_module_version": "1.2.0",
            "_view_name": "LayoutView",
            "align_content": null,
            "align_items": null,
            "align_self": null,
            "border": null,
            "bottom": null,
            "display": null,
            "flex": null,
            "flex_flow": null,
            "grid_area": null,
            "grid_auto_columns": null,
            "grid_auto_flow": null,
            "grid_auto_rows": null,
            "grid_column": null,
            "grid_gap": null,
            "grid_row": null,
            "grid_template_areas": null,
            "grid_template_columns": null,
            "grid_template_rows": null,
            "height": null,
            "justify_content": null,
            "justify_items": null,
            "left": null,
            "margin": null,
            "max_height": null,
            "max_width": null,
            "min_height": null,
            "min_width": null,
            "object_fit": null,
            "object_position": null,
            "order": null,
            "overflow": null,
            "overflow_x": null,
            "overflow_y": null,
            "padding": null,
            "right": null,
            "top": null,
            "visibility": null,
            "width": null
          }
        },
        "205d374395164da5ae970a7441e4ba9e": {
          "model_module": "@jupyter-widgets/controls",
          "model_name": "DescriptionStyleModel",
          "model_module_version": "1.5.0",
          "state": {
            "_model_module": "@jupyter-widgets/controls",
            "_model_module_version": "1.5.0",
            "_model_name": "DescriptionStyleModel",
            "_view_count": null,
            "_view_module": "@jupyter-widgets/base",
            "_view_module_version": "1.2.0",
            "_view_name": "StyleView",
            "description_width": ""
          }
        }
      }
    }
  },
  "nbformat": 4,
  "nbformat_minor": 5
}