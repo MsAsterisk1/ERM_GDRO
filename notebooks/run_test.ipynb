{
 "cells": [
  {
   "cell_type": "code",
   "execution_count": 1,
   "id": "81994329",
   "metadata": {},
   "outputs": [
    {
     "name": "stdout",
     "output_type": "stream",
     "text": [
      "C:\\Users\\efurst1\\PycharmProjects\\LIDC_GDRO\n"
     ]
    }
   ],
   "source": [
    "%cd .."
   ]
  },
  {
   "cell_type": "code",
   "execution_count": 2,
   "id": "98c226ac",
   "metadata": {},
   "outputs": [],
   "source": [
    "import data_util\n",
    "import models\n",
    "import torch\n",
    "import loss\n",
    "import train\n",
    "import pandas as pd\n",
    "import numpy as np"
   ]
  },
  {
   "cell_type": "code",
   "execution_count": 3,
   "id": "afd38ac5",
   "metadata": {},
   "outputs": [],
   "source": [
    "device = \"cuda\" if torch.cuda.is_available() else \"cpu\"\n",
    "\n",
    "training_fraction = 0.8\n",
    "batch_size = 160\n",
    "proportional = True\n",
    "\n",
    "is_gdro = True\n",
    "\n",
    "hparams = {\"groupdro_eta\": 0.1}"
   ]
  },
  {
   "cell_type": "code",
   "execution_count": 4,
   "id": "057fb87c",
   "metadata": {},
   "outputs": [],
   "source": [
    "subtype_df = pd.read_csv(\"data/lidc_spic_subgrouped_radiologist.csv\")\n",
    "\n",
    "# import data\n",
    "df = pd.read_csv(\"data/LIDC_individual_radiologists.csv\")\n",
    "# preprocess data (normalization, remove anything that isn't in the chosen features)\n",
    "df = data_util.preprocess_data(df)"
   ]
  },
  {
   "cell_type": "code",
   "execution_count": 94,
   "id": "f3be33f1",
   "metadata": {},
   "outputs": [
    {
     "data": {
      "text/plain": [
       "0.6133909287257019"
      ]
     },
     "execution_count": 94,
     "metadata": {},
     "output_type": "execute_result"
    }
   ],
   "source": [
    "sum(df[\"malignancy\"] == 0) / len(df)"
   ]
  },
  {
   "cell_type": "code",
   "execution_count": 5,
   "id": "215c018f",
   "metadata": {},
   "outputs": [],
   "source": [
    "# get train/test flags\n",
    "train_test = pd.read_csv(\"data/lidc_train_test_radiologist.csv\")\n",
    "\n",
    "# create train/test dataframes\n",
    "training_df = df[df[\"noduleID\"].isin(train_test[train_test[\"dataset\"] == \"train\"][\"noduleID\"].values)]\n",
    "test_df = df[df[\"noduleID\"].isin(train_test[train_test[\"dataset\"] == \"test\"][\"noduleID\"].values)]\n",
    "\n",
    "# use noduleIDs as index, it makes things easier\n",
    "subtype_df.index = subtype_df[\"noduleID\"].values"
   ]
  },
  {
   "cell_type": "markdown",
   "id": "bd326264",
   "metadata": {},
   "source": [
    "# Test convergence of combinations of ERM and GDRO"
   ]
  },
  {
   "cell_type": "code",
   "execution_count": 72,
   "id": "0f094435",
   "metadata": {},
   "outputs": [
    {
     "name": "stdout",
     "output_type": "stream",
     "text": [
      "Running test: Sharp\n",
      "Trial 1/30\n",
      "Trial 2/30\n",
      "Trial 3/30\n",
      "Trial 4/30\n",
      "Trial 5/30\n",
      "Trial 6/30\n",
      "Trial 7/30\n",
      "Trial 8/30\n",
      "Trial 9/30\n",
      "Trial 10/30\n",
      "Trial 11/30\n",
      "Trial 12/30\n",
      "Trial 13/30\n",
      "Trial 14/30\n",
      "Trial 15/30\n",
      "Trial 16/30\n",
      "Trial 17/30\n",
      "Trial 18/30\n",
      "Trial 19/30\n",
      "Trial 20/30\n",
      "Trial 21/30\n",
      "Trial 22/30\n",
      "Trial 23/30\n",
      "Trial 24/30\n",
      "Trial 25/30\n",
      "Trial 26/30\n",
      "Trial 27/30\n",
      "Trial 28/30\n",
      "Trial 29/30\n",
      "Trial 30/30\n",
      "Running test: Smooth\n",
      "Trial 1/30\n",
      "Trial 2/30\n",
      "Trial 3/30\n",
      "Trial 4/30\n",
      "Trial 5/30\n",
      "Trial 6/30\n",
      "Trial 7/30\n",
      "Trial 8/30\n",
      "Trial 9/30\n",
      "Trial 10/30\n",
      "Trial 11/30\n",
      "Trial 12/30\n",
      "Trial 13/30\n",
      "Trial 14/30\n",
      "Trial 15/30\n",
      "Trial 16/30\n",
      "Trial 17/30\n",
      "Trial 18/30\n",
      "Trial 19/30\n",
      "Trial 20/30\n",
      "Trial 21/30\n",
      "Trial 22/30\n",
      "Trial 23/30\n",
      "Trial 24/30\n",
      "Trial 25/30\n",
      "Trial 26/30\n",
      "Trial 27/30\n",
      "Trial 28/30\n",
      "Trial 29/30\n",
      "Trial 30/30\n",
      "Test complete\n"
     ]
    }
   ],
   "source": [
    "N = 30\n",
    "epochs = 100\n",
    "subtypes = [\"Overall\", \"Unspiculated benign\", \"Spiculated benign\", \"Spiculated malignant\", \"Unspiculated malignant\"]\n",
    "\n",
    "test_algorithms = [\"Sharp\", \"Smooth\"]\n",
    "\n",
    "results = {algorithm: np.zeros(epochs * len(subtypes)) for algorithm in test_algorithms}\n",
    "for algorithm in test_algorithms:\n",
    "\n",
    "    print(\"Running test: \" + algorithm)\n",
    "\n",
    "    # create the training and testing dataloaders\n",
    "    train_dataloader = data_util.create_subtyped_dataloader(training_df, subtype_df, batch_size, proportional)\n",
    "    test_dataloader = data_util.create_subtyped_dataloader(test_df, subtype_df, batch_size, proportional)\n",
    "\n",
    "    for n in range(N):\n",
    "\n",
    "        print(f\"Trial {n + 1}/{N}\")\n",
    "\n",
    "        # create and train model\n",
    "        model = models.NeuralNetwork(64, 32, 32, 2)\n",
    "        model.to(device)\n",
    "\n",
    "        loss_fn = loss.ERMGDROLoss(model, torch.nn.CrossEntropyLoss(), hparams)\n",
    "        optimizer = torch.optim.Adam(model.parameters(), lr=0.001, weight_decay=0.005)\n",
    "\n",
    "        for epoch in range(epochs):\n",
    "            if algorithm == \"Sharp\":\n",
    "                loss_fn.t = epoch / epochs < 0.5  # sharp boundary\n",
    "            elif algorithm == \"Smooth\":\n",
    "                loss_fn.t = 1 - (epoch / (epochs - 1))  # linear interpolation\n",
    "            train.train(train_dataloader, model, loss_fn, optimizer)\n",
    "            sensitivities = train.test(test_dataloader, model)\n",
    "            \n",
    "            for i in range(len(subtypes)):\n",
    "                results[algorithm][i * epochs + epoch] += sensitivities[i]\n",
    "    \n",
    "    results[algorithm] /= N\n",
    "\n",
    "results_df = pd.DataFrame(results, index=pd.MultiIndex.from_product([subtypes, range(epochs)], names=[\"subtype\", \"epoch\"]))\n",
    "\n",
    "print(\"Test complete\")"
   ]
  },
  {
   "cell_type": "code",
   "execution_count": 73,
   "id": "2dceece2",
   "metadata": {},
   "outputs": [
    {
     "data": {
      "text/html": [
       "<div>\n",
       "<style scoped>\n",
       "    .dataframe tbody tr th:only-of-type {\n",
       "        vertical-align: middle;\n",
       "    }\n",
       "\n",
       "    .dataframe tbody tr th {\n",
       "        vertical-align: top;\n",
       "    }\n",
       "\n",
       "    .dataframe thead th {\n",
       "        text-align: right;\n",
       "    }\n",
       "</style>\n",
       "<table border=\"1\" class=\"dataframe\">\n",
       "  <thead>\n",
       "    <tr style=\"text-align: right;\">\n",
       "      <th></th>\n",
       "      <th></th>\n",
       "      <th>Sharp</th>\n",
       "      <th>Smooth</th>\n",
       "    </tr>\n",
       "    <tr>\n",
       "      <th>subtype</th>\n",
       "      <th>epoch</th>\n",
       "      <th></th>\n",
       "      <th></th>\n",
       "    </tr>\n",
       "  </thead>\n",
       "  <tbody>\n",
       "    <tr>\n",
       "      <th rowspan=\"5\" valign=\"top\">Overall</th>\n",
       "      <th>0</th>\n",
       "      <td>0.804025</td>\n",
       "      <td>0.800881</td>\n",
       "    </tr>\n",
       "    <tr>\n",
       "      <th>1</th>\n",
       "      <td>0.812411</td>\n",
       "      <td>0.814256</td>\n",
       "    </tr>\n",
       "    <tr>\n",
       "      <th>2</th>\n",
       "      <td>0.817652</td>\n",
       "      <td>0.820964</td>\n",
       "    </tr>\n",
       "    <tr>\n",
       "      <th>3</th>\n",
       "      <td>0.821845</td>\n",
       "      <td>0.825744</td>\n",
       "    </tr>\n",
       "    <tr>\n",
       "      <th>4</th>\n",
       "      <td>0.826415</td>\n",
       "      <td>0.827128</td>\n",
       "    </tr>\n",
       "    <tr>\n",
       "      <th>...</th>\n",
       "      <th>...</th>\n",
       "      <td>...</td>\n",
       "      <td>...</td>\n",
       "    </tr>\n",
       "    <tr>\n",
       "      <th rowspan=\"5\" valign=\"top\">Unspiculated malignant</th>\n",
       "      <th>95</th>\n",
       "      <td>0.774933</td>\n",
       "      <td>0.765600</td>\n",
       "    </tr>\n",
       "    <tr>\n",
       "      <th>96</th>\n",
       "      <td>0.785600</td>\n",
       "      <td>0.748267</td>\n",
       "    </tr>\n",
       "    <tr>\n",
       "      <th>97</th>\n",
       "      <td>0.774133</td>\n",
       "      <td>0.759733</td>\n",
       "    </tr>\n",
       "    <tr>\n",
       "      <th>98</th>\n",
       "      <td>0.752800</td>\n",
       "      <td>0.753867</td>\n",
       "    </tr>\n",
       "    <tr>\n",
       "      <th>99</th>\n",
       "      <td>0.753600</td>\n",
       "      <td>0.738400</td>\n",
       "    </tr>\n",
       "  </tbody>\n",
       "</table>\n",
       "<p>500 rows × 2 columns</p>\n",
       "</div>"
      ],
      "text/plain": [
       "                                 Sharp    Smooth\n",
       "subtype                epoch                    \n",
       "Overall                0      0.804025  0.800881\n",
       "                       1      0.812411  0.814256\n",
       "                       2      0.817652  0.820964\n",
       "                       3      0.821845  0.825744\n",
       "                       4      0.826415  0.827128\n",
       "...                                ...       ...\n",
       "Unspiculated malignant 95     0.774933  0.765600\n",
       "                       96     0.785600  0.748267\n",
       "                       97     0.774133  0.759733\n",
       "                       98     0.752800  0.753867\n",
       "                       99     0.753600  0.738400\n",
       "\n",
       "[500 rows x 2 columns]"
      ]
     },
     "execution_count": 73,
     "metadata": {},
     "output_type": "execute_result"
    }
   ],
   "source": [
    "results_df"
   ]
  },
  {
   "cell_type": "code",
   "execution_count": null,
   "id": "4b842ac1",
   "metadata": {},
   "outputs": [],
   "source": [
    "\"\"\"\n",
    "Test parameters\n",
    "\n",
    "input: 64 engineered features extracted from lidc max-slice images\n",
    "\n",
    "model layer sizes = (64, 32, 32, 2)\n",
    "groupdro_eta = 0.1\n",
    "lr = 0.001\n",
    "weight_decay = 0.005\n",
    "\n",
    "batch_size = 40\n",
    "proportional = True\n",
    "epochs = 40\n",
    "N = 120\n",
    "\n",
    "\"\"\""
   ]
  },
  {
   "cell_type": "code",
   "execution_count": 74,
   "id": "b3ace5d7",
   "metadata": {},
   "outputs": [
    {
     "data": {
      "image/png": "[encoded data removed]",
      "text/plain": [
       "<Figure size 288x576 with 5 Axes>"
      ]
     },
     "metadata": {
      "needs_background": "light"
     },
     "output_type": "display_data"
    }
   ],
   "source": [
    "import matplotlib.pyplot as plt\n",
    "\n",
    "# results_df.unstack(level=0).plot(subplots=True)\n",
    "\n",
    "f, a = plt.subplots(len(subtypes),1)\n",
    "for i in range(len(subtypes)):\n",
    "    results_df.xs(subtypes[i]).plot(kind='line',title=subtypes[i],ax=a[i],figsize=(4,8))"
   ]
  },
  {
   "cell_type": "code",
   "execution_count": 88,
   "id": "a66bc7ad",
   "metadata": {},
   "outputs": [
    {
     "name": "stdout",
     "output_type": "stream",
     "text": [
      "Overall\n"
     ]
    },
    {
     "ename": "TypeError",
     "evalue": "'numpy.float64' object is not iterable",
     "output_type": "error",
     "traceback": [
      "\u001b[1;31m---------------------------------------------------------------------------\u001b[0m",
      "\u001b[1;31mTypeError\u001b[0m                                 Traceback (most recent call last)",
      "Input \u001b[1;32mIn [88]\u001b[0m, in \u001b[0;36m<cell line: 6>\u001b[1;34m()\u001b[0m\n\u001b[0;32m      6\u001b[0m \u001b[38;5;28;01mfor\u001b[39;00m i \u001b[38;5;129;01min\u001b[39;00m \u001b[38;5;28mrange\u001b[39m(\u001b[38;5;241m5\u001b[39m):\n\u001b[0;32m      7\u001b[0m     \u001b[38;5;28mprint\u001b[39m(subtypes[i])\n\u001b[1;32m----> 8\u001b[0m     \u001b[38;5;28mprint\u001b[39m(\u001b[38;5;124mf\u001b[39m\u001b[38;5;124m\"\u001b[39m\u001b[38;5;124mMean Sharp accuracy: \u001b[39m\u001b[38;5;132;01m{\u001b[39;00mstatistics\u001b[38;5;241m.\u001b[39mmean(last_epoch\u001b[38;5;241m.\u001b[39mat[subtypes[i], \u001b[38;5;124m'\u001b[39m\u001b[38;5;124mSharp\u001b[39m\u001b[38;5;124m'\u001b[39m])\u001b[38;5;132;01m}\u001b[39;00m\u001b[38;5;124m\"\u001b[39m)\n\u001b[0;32m      9\u001b[0m     \u001b[38;5;28mprint\u001b[39m(\u001b[38;5;124mf\u001b[39m\u001b[38;5;124m\"\u001b[39m\u001b[38;5;124mMean Smooth accuracy: \u001b[39m\u001b[38;5;132;01m{\u001b[39;00mstatistics\u001b[38;5;241m.\u001b[39mmean(last_epoch\u001b[38;5;241m.\u001b[39mat[subtypes[i], \u001b[38;5;124m'\u001b[39m\u001b[38;5;124mSmooth\u001b[39m\u001b[38;5;124m'\u001b[39m])\u001b[38;5;132;01m}\u001b[39;00m\u001b[38;5;124m\"\u001b[39m)\n\u001b[0;32m     10\u001b[0m     stat, p \u001b[38;5;241m=\u001b[39m ttest_ind(last_epoch\u001b[38;5;241m.\u001b[39mat[subtypes[i], \u001b[38;5;124m\"\u001b[39m\u001b[38;5;124mSharp\u001b[39m\u001b[38;5;124m\"\u001b[39m], last_epoch\u001b[38;5;241m.\u001b[39mat[subtypes[i], \u001b[38;5;124m\"\u001b[39m\u001b[38;5;124mSmooth\u001b[39m\u001b[38;5;124m\"\u001b[39m])\n",
      "File \u001b[1;32m~\\Anaconda3\\lib\\statistics.py:311\u001b[0m, in \u001b[0;36mmean\u001b[1;34m(data)\u001b[0m\n\u001b[0;32m    295\u001b[0m \u001b[38;5;28;01mdef\u001b[39;00m \u001b[38;5;21mmean\u001b[39m(data):\n\u001b[0;32m    296\u001b[0m     \u001b[38;5;124;03m\"\"\"Return the sample arithmetic mean of data.\u001b[39;00m\n\u001b[0;32m    297\u001b[0m \n\u001b[0;32m    298\u001b[0m \u001b[38;5;124;03m    >>> mean([1, 2, 3, 4, 4])\u001b[39;00m\n\u001b[1;32m   (...)\u001b[0m\n\u001b[0;32m    309\u001b[0m \u001b[38;5;124;03m    If ``data`` is empty, StatisticsError will be raised.\u001b[39;00m\n\u001b[0;32m    310\u001b[0m \u001b[38;5;124;03m    \"\"\"\u001b[39;00m\n\u001b[1;32m--> 311\u001b[0m     \u001b[38;5;28;01mif\u001b[39;00m \u001b[38;5;28;43miter\u001b[39;49m\u001b[43m(\u001b[49m\u001b[43mdata\u001b[49m\u001b[43m)\u001b[49m \u001b[38;5;129;01mis\u001b[39;00m data:\n\u001b[0;32m    312\u001b[0m         data \u001b[38;5;241m=\u001b[39m \u001b[38;5;28mlist\u001b[39m(data)\n\u001b[0;32m    313\u001b[0m     n \u001b[38;5;241m=\u001b[39m \u001b[38;5;28mlen\u001b[39m(data)\n",
      "\u001b[1;31mTypeError\u001b[0m: 'numpy.float64' object is not iterable"
     ]
    }
   ],
   "source": [
    "from scipy.stats import ttest_ind\n",
    "import statistics\n",
    "\n",
    "# group_names = [\"Overall\", \"GE MEDICAL SYSTEMS\", \"Unknown\", \"SIEMENS\", \"TOSHIBA\", \"Philips\"]\n",
    "group_names = [\"Overall\", \"unmarked_benign\", \"marked_benign\", \"marked_malignant\", \"unmarked_malignant\"]\n",
    "# group_names = [\"Overall\", \"0benign\", \"1benign\", \"0malignant\", \"1malignant\"]\n",
    "for i in range(5):\n",
    "    print(group_names[i])\n",
    "#     print(f\"Mean ERM accuracy: {statistics.mean(data_clean[i]['ERM'])}\")\n",
    "#     print(f\"Mean GDRO accuracy: {statistics.mean(data_clean[i]['GDRO'])}\")\n",
    "#     print(f\"Mean Combined accuracy: {statistics.mean(data_clean[i]['Combined'])}\")\n",
    "    print(f\"Mean Sharp accuracy: {statistics.mean(data_clean[i]['Sharp'])}\")\n",
    "    print(f\"Mean Smooth accuracy: {statistics.mean(data_clean[i]['Smooth'])}\")\n",
    "    stat, p = ttest_ind(data_clean[i][\"Sharp\"], data_clean[i][\"Smooth\"])\n",
    "    if p < 0.05:\n",
    "        print(f\"{'Sharp' if stat > 0 else 'Smooth'} higher accuracy (p = {p})\")\n",
    "    else:\n",
    "        print(f\"No statistically significant difference (p = {p})\")\n",
    "    print()\n",
    "    "
   ]
  },
  {
   "cell_type": "code",
   "execution_count": null,
   "id": "fd9ea1a9",
   "metadata": {},
   "outputs": [],
   "source": [
    "# old results with flawed malignancy labels + CNN subtypes\n",
    "data_clean0"
   ]
  }
 ],
 "metadata": {
  "kernelspec": {
   "display_name": "Python 3 (ipykernel)",
   "language": "python",
   "name": "python3"
  },
  "language_info": {
   "codemirror_mode": {
    "name": "ipython",
    "version": 3
   },
   "file_extension": ".py",
   "mimetype": "text/x-python",
   "name": "python",
   "nbconvert_exporter": "python",
   "pygments_lexer": "ipython3",
   "version": "3.9.12"
  }
 },
 "nbformat": 4,
 "nbformat_minor": 5
}
