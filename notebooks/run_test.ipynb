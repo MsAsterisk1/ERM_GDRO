{
 "cells": [
  {
   "cell_type": "code",
   "execution_count": 1,
   "id": "f3e227b8",
   "metadata": {
    "colab": {
     "base_uri": "https://localhost:8080/"
    },
    "id": "f3e227b8",
    "outputId": "e4a08b4a-e119-403f-fe35-b22ba4d6e116"
   },
   "outputs": [],
   "source": [
    "%load_ext autoreload\n",
    "%autoreload 2"
   ]
  },
  {
   "cell_type": "code",
   "execution_count": 2,
   "id": "3261d496",
   "metadata": {
    "colab": {
     "base_uri": "https://localhost:8080/"
    },
    "id": "3261d496",
    "outputId": "9206134a-1091-4601-e9cb-c2253cfeb2cf"
   },
   "outputs": [
    {
     "name": "stdout",
     "output_type": "stream",
     "text": [
      "C:\\Users\\efurst1\\PycharmProjects\\LIDC_GDRO\n"
     ]
    }
   ],
   "source": [
    "# For use on local machine\n",
    "%cd .."
   ]
  },
  {
   "cell_type": "code",
   "execution_count": null,
   "id": "5KmIQPaa0vb3",
   "metadata": {
    "colab": {
     "base_uri": "https://localhost:8080/"
    },
    "id": "5KmIQPaa0vb3",
    "outputId": "b1ed0915-3072-4b51-ec8f-9b7abfdfd7f9"
   },
   "outputs": [],
   "source": [
    "# For use in google colab\n",
    "!git clone https://github.com/mtzig/LIDC_GDRO.git\n",
    "%cd LIDC_GDRO/"
   ]
  },
  {
   "cell_type": "code",
   "execution_count": null,
   "id": "78LzL1-VF5AD",
   "metadata": {
    "colab": {
     "base_uri": "https://localhost:8080/"
    },
    "id": "78LzL1-VF5AD",
    "outputId": "e66af07c-a775-4cd1-d132-b8b9c7b97910"
   },
   "outputs": [],
   "source": [
    "!git pull"
   ]
  },
  {
   "cell_type": "code",
   "execution_count": null,
   "id": "TAuuvi9ABVEI",
   "metadata": {
    "colab": {
     "base_uri": "https://localhost:8080/"
    },
    "id": "TAuuvi9ABVEI",
    "outputId": "8d0020aa-6393-4fd2-e5bf-3c050110b029"
   },
   "outputs": [],
   "source": [
    "!git branch"
   ]
  },
  {
   "cell_type": "code",
   "execution_count": 3,
   "id": "699eb945",
   "metadata": {
    "id": "699eb945"
   },
   "outputs": [],
   "source": [
    "from utils import data_utils, image_data_utils\n",
    "import datasets\n",
    "import dataloaders\n",
    "import models\n",
    "import torch\n",
    "import loss\n",
    "import train_eval\n",
    "import pandas as pd\n",
    "import numpy as np\n",
    "import torchvision\n",
    "from torch.optim.lr_scheduler import ReduceLROnPlateau"
   ]
  },
  {
   "cell_type": "code",
   "execution_count": 4,
   "id": "03fab424",
   "metadata": {
    "colab": {
     "base_uri": "https://localhost:8080/"
    },
    "id": "03fab424",
    "outputId": "7fec2520-6246-4a1c-c6c5-fe0f357a39c7"
   },
   "outputs": [
    {
     "name": "stdout",
     "output_type": "stream",
     "text": [
      "Using device cpu\n"
     ]
    }
   ],
   "source": [
    "device = \"cuda\" if torch.cuda.is_available() else \"cpu\"\n",
    "\n",
    "batch_size = 128\n",
    "\n",
    "hparams = {\"eta\": 0.01, \"gamma\": 1}\n",
    "lr = 0.0005\n",
    "weight_decay = 0.005\n",
    "\n",
    "model_class = models.NeuralNetwork\n",
    "model_args = (64, 36, 2)\n",
    "\n",
    "# model_class = models.TransferModel50\n",
    "# model_args = (True, True, device)\n",
    "\n",
    "\n",
    "print(f'Using device {device}')"
   ]
  },
  {
   "cell_type": "markdown",
   "id": "4ee83861",
   "metadata": {
    "id": "4ee83861"
   },
   "source": [
    "# Load and process data"
   ]
  },
  {
   "cell_type": "markdown",
   "id": "80b81d85",
   "metadata": {
    "id": "80b81d85"
   },
   "source": [
    "## LIDC"
   ]
  },
  {
   "cell_type": "code",
   "execution_count": null,
   "id": "c34b7da7",
   "metadata": {
    "colab": {
     "base_uri": "https://localhost:8080/",
     "height": 488
    },
    "id": "c34b7da7",
    "outputId": "62d9c21b-5bac-49e6-ccd7-cbb29cce471c"
   },
   "outputs": [],
   "source": [
    "# get LIDC data\n",
    "\n",
    "df = data_utils.preprocess_data(*data_utils.load_lidc(data_root='data/', feature_path='LIDC_20130817_AllFeatures2D_MaxSlicePerNodule_inLineRatings.csv', subclass_path='subclass_labels/LIDC_data_split_with_cluster.csv'), subclass_column='cluster')\n",
    "df"
   ]
  },
  {
   "cell_type": "code",
   "execution_count": null,
   "id": "215c018f",
   "metadata": {
    "id": "215c018f"
   },
   "outputs": [],
   "source": [
    "# get train/test flags\n",
    "train_split = pd.read_csv(\"data/train_test_splits/LIDC_data_split.csv\")\n",
    "\n",
    "# create train/test dataframes\n",
    "train_df = df[df[\"noduleID\"].isin(train_split[train_split[\"split\"] == 0][\"noduleID\"].values)]\n",
    "val_df = df[df[\"noduleID\"].isin(train_split[train_split[\"split\"] == 1][\"noduleID\"].values)]\n",
    "test_df = df[df[\"noduleID\"].isin(train_split[train_split[\"split\"] == 2][\"noduleID\"].values)]"
   ]
  },
  {
   "cell_type": "code",
   "execution_count": null,
   "id": "baefd71f",
   "metadata": {
    "id": "baefd71f"
   },
   "outputs": [],
   "source": [
    "train_dataloader = data_utils.create_dataloader(train_df, batch_size)\n",
    "val_dataloader = data_utils.create_dataloader(val_df, len(val_df))\n",
    "test_dataloader = data_utils.create_dataloader(test_df, len(test_df))"
   ]
  },
  {
   "cell_type": "markdown",
   "id": "7660cecf",
   "metadata": {
    "id": "7660cecf"
   },
   "source": [
    "## LIDC CNN features"
   ]
  },
  {
   "cell_type": "code",
   "execution_count": null,
   "id": "5427084c",
   "metadata": {
    "id": "5427084c"
   },
   "outputs": [],
   "source": [
    "cnn_train, cnn_val, cnn_test = image_data_utils.get_cnn_features(split_file='./data/subclass_labels/LIDC_data_split_with_cluster.csv')"
   ]
  },
  {
   "cell_type": "code",
   "execution_count": null,
   "id": "5550f4a7",
   "metadata": {
    "id": "5550f4a7"
   },
   "outputs": [],
   "source": [
    "train_dataloader = data_utils.create_dataloader(cnn_train, batch_size=batch_size, is_dataframe=False)\n",
    "val_dataloader = data_utils.create_dataloader(cnn_val, batch_size=batch_size, is_dataframe=False)\n",
    "test_dataloader = data_utils.create_dataloader(cnn_test, batch_size=batch_size, is_dataframe=False)"
   ]
  },
  {
   "cell_type": "markdown",
   "id": "46f66e99",
   "metadata": {
    "id": "46f66e99"
   },
   "source": [
    "## Waterbirds"
   ]
  },
  {
   "cell_type": "code",
   "execution_count": null,
   "id": "uuxjOKFl5Nel",
   "metadata": {
    "colab": {
     "base_uri": "https://localhost:8080/",
     "height": 1000,
     "referenced_widgets": [
      "5d829b78f378484483c27c6129dd404f",
      "e192ae51538a4e718bc1aef4fc59b438",
      "e6b330ae53c140b6a658c8e64e1fe4d3",
      "f00b8d56fb9c42e288b44882d8d268fc",
      "5e4f8ffa3eaf4e9ca4aaf45ebbc8e151",
      "1c91d542815846798625a59fdded01e0",
      "736189395de54b0b8404f85ce77aca0f",
      "b5603b9bfb1c41f2a24381a23cf9c2b4",
      "5adf17f900c949bbb28cedec4f200f41",
      "fcb517860d194984b7ab48b97aa82ae2",
      "5ca6ca51ef344b07ad60ab03577c6ffa"
     ]
    },
    "id": "uuxjOKFl5Nel",
    "outputId": "8e36a986-120c-4e11-ee53-d7fec3c23bba"
   },
   "outputs": [],
   "source": [
    "# download waterbirds through wilds\n",
    "\n",
    "!pip install wilds\n",
    "from wilds import get_dataset\n",
    "\n",
    "get_dataset(dataset=\"waterbirds\", download=True)"
   ]
  },
  {
   "cell_type": "code",
   "execution_count": null,
   "id": "5f4ac03c",
   "metadata": {
    "id": "5f4ac03c"
   },
   "outputs": [],
   "source": [
    "from PIL import Image"
   ]
  },
  {
   "cell_type": "code",
   "execution_count": null,
   "id": "cbbb108e",
   "metadata": {
    "id": "cbbb108e"
   },
   "outputs": [],
   "source": [
    "metadata_df = pd.read_csv('data/waterbirds_v1.0/metadata.csv')"
   ]
  },
  {
   "cell_type": "code",
   "execution_count": null,
   "id": "6c0e29fe",
   "metadata": {
    "id": "6c0e29fe"
   },
   "outputs": [],
   "source": [
    "convert_resize = torchvision.transforms.Compose([torchvision.transforms.ToTensor(), torchvision.transforms.Resize((200, 200), antialias=True)])\n",
    "\n",
    "train_df, val_df, test_df = [metadata_df[metadata_df['split'] == split] for split in [0, 1, 2]]\n",
    "\n",
    "dataset_list = []\n",
    "\n",
    "# If GPU memory is limited, images can be loaded as they are required\n",
    "# This is much slower but may be necessary\n",
    "# If false, all images are loaded up-front, which is also slow but only happens once\n",
    "on_demand = False\n",
    "\n",
    "for df in [train_df, val_df, test_df]:\n",
    "    if on_demand:\n",
    "        dataset_list.append(datasets.OnDemandImageDataset(df, 'data/waterbirds_v1.0/', transform=convert_resize, device=device))\n",
    "    else:\n",
    "        img_tensors = []\n",
    "        for i in range(len(df.index)):\n",
    "            img_path = metadata_df.iloc[i, 1]\n",
    "            img_tensors.append(convert_resize(Image.open('data/waterbirds_v1.0/' + img_path)).squeeze().to(device))\n",
    "        features = torch.stack(img_tensors)\n",
    "        labels = torch.LongTensor([metadata_df.iloc[:, 2]]).squeeze().to(device)\n",
    "        subclasses = torch.LongTensor([2 * metadata_df.iloc[:, 2] + metadata_df.iloc[:, 4]]).squeeze().to(device)\n",
    "\n",
    "        dataset_list.append(datasets.SubclassedDataset(features, labels, subclasses))"
   ]
  },
  {
   "cell_type": "code",
   "execution_count": null,
   "id": "LpHSlphyRC-Z",
   "metadata": {
    "id": "LpHSlphyRC-Z"
   },
   "outputs": [],
   "source": [
    "# smaller dataloaders for prototyping\n",
    "train_dataloader, val_dataloader, test_dataloader = [dataloaders.InfiniteDataLoader(torch.utils.data.Subset(dataset, range(0, len(dataset), 2)), batch_size=batch_size) for dataset in dataset_list]"
   ]
  },
  {
   "cell_type": "code",
   "execution_count": null,
   "id": "91cb9160",
   "metadata": {
    "id": "91cb9160"
   },
   "outputs": [],
   "source": [
    "# full size dataloaders\n",
    "train_dataloader, val_dataloader, test_dataloader = [dataloaders.InfiniteDataLoader(dataset, batch_size=batch_size) for dataset in dataset_list]"
   ]
  },
  {
   "cell_type": "markdown",
   "id": "c71e542c",
   "metadata": {
    "id": "c71e542c"
   },
   "source": [
    "\n",
    "# Test convergence of combinations of ERM and GDRO"
   ]
  },
  {
   "cell_type": "code",
   "execution_count": null,
   "id": "IEeBRPdddJjd",
   "metadata": {
    "id": "IEeBRPdddJjd"
   },
   "outputs": [],
   "source": [
    "N = 100\n",
    "epochs = 100\n",
    "# subtypes = [\"Overall\", \"Unspiculated benign\", \"Spiculated benign\", \"Spiculated malignant\", \"Unspiculated malignant\"]\n",
    "# subtypes = [\"Overall\", \"Land on land\", \"Land on water\", \"Water on land\", \"Water on water\"]\n",
    "subtypes = [\"Overall\", \"Benign\", \"Malignant1\", \"Malignant2\"]\n",
    "\n",
    "# test_algorithms = [\"ERM\", \"GDRO\", \"Sharp\", \"Smooth\", \"ReverseSmooth\", \"Dynamic\", \"ExtraERM\", \"ExtraGDRO\", \"Halfway\"]\n",
    "# test_algorithms = [\"Mix\" + str(t) for t in [0.4, 0.5, 0.6, 0.7, 0.8]]\n",
    "# test_algorithms = [\"ERM\", \"GDRO\", *[\"Dynamic\" + str(t) for t in [0.01, 0.05, 0.1, 0.5]]]\n",
    "test_algorithms = [\"ERM\", \"GDRO\", \"Dynamic\", \"Upweight\"]\n",
    "keep_old =        [False, False, False, False]\n",
    "\n",
    "record_roc_data = False"
   ]
  },
  {
   "cell_type": "code",
   "execution_count": 6,
   "id": "3001211d",
   "metadata": {
    "colab": {
     "base_uri": "https://localhost:8080/"
    },
    "id": "3001211d",
    "outputId": "594e7072-3e54-4285-ae5f-774c86aa9fb8",
    "scrolled": true
   },
   "outputs": [
    {
     "ename": "NameError",
     "evalue": "name 'keep_old' is not defined",
     "output_type": "error",
     "traceback": [
      "\u001b[1;31m---------------------------------------------------------------------------\u001b[0m",
      "\u001b[1;31mNameError\u001b[0m                                 Traceback (most recent call last)",
      "Input \u001b[1;32mIn [6]\u001b[0m, in \u001b[0;36m<cell line: 1>\u001b[1;34m()\u001b[0m\n\u001b[1;32m----> 1\u001b[0m \u001b[38;5;28;01mif\u001b[39;00m \u001b[38;5;129;01mnot\u001b[39;00m \u001b[38;5;28msum\u001b[39m(\u001b[43mkeep_old\u001b[49m):\n\u001b[0;32m      2\u001b[0m     results \u001b[38;5;241m=\u001b[39m {}\n\u001b[0;32m      3\u001b[0m     \u001b[38;5;28;01mif\u001b[39;00m record_roc_data:\n",
      "\u001b[1;31mNameError\u001b[0m: name 'keep_old' is not defined"
     ]
    }
   ],
   "source": [
    "if not sum(keep_old):\n",
    "    results = {}\n",
    "    if record_roc_data:\n",
    "        roc_data = {}  # For ROC curve\n",
    "\n",
    "for a in range(len(test_algorithms)):\n",
    "    algorithm = test_algorithms[a]\n",
    "\n",
    "    if keep_old[a] and algorithm in results:\n",
    "        print(f\"Keeping old results for {algorithm}\")\n",
    "    else:\n",
    "        print(f\"Running test: {algorithm}\")\n",
    "\n",
    "        results[algorithm] = np.zeros(N * epochs * len(subtypes))\n",
    "        if record_roc_data:\n",
    "            roc_data[algorithm] = [None, None]\n",
    "\n",
    "        for n in range(N):\n",
    "\n",
    "            print(f\"Trial {n + 1}/{N}\")\n",
    "\n",
    "            # create and train model\n",
    "            # model = models.NeuralNetwork(64, 32, 32, 2)\n",
    "            # model.to(device)\n",
    "            model = model_class(*model_args).to(device)\n",
    "\n",
    "            if (algorithm == \"ERM\"):\n",
    "                loss_fn = loss.ERMLoss(model, torch.nn.CrossEntropyLoss(), subclassed=True)\n",
    "            elif (algorithm == \"GDRO\"):\n",
    "                loss_fn = loss.GDROLoss(model, torch.nn.CrossEntropyLoss(), hparams[\"eta\"], len(subtypes) - 1, normalize_loss=False)\n",
    "            elif (algorithm == \"NormGDRO\"):\n",
    "                loss_fn = loss.GDROLoss(model, torch.nn.CrossEntropyLoss(), hparams[\"eta\"], len(subtypes) - 1, normalize_loss=True)\n",
    "            elif (algorithm.startswith(\"GDRO\")):\n",
    "                loss_fn = loss.GDROLoss(model, torch.nn.CrossEntropyLoss(), float(algorithm[len(\"GDRO\"):]), len(subtypes) - 1, normalize_loss=True)\n",
    "            elif (algorithm == \"Dynamic\"):\n",
    "                loss_fn = loss.DynamicLoss(model, torch.nn.CrossEntropyLoss(), hparams[\"eta\"], hparams[\"gamma\"], len(subtypes) - 1)\n",
    "            elif (algorithm.startswith(\"Dynamic\")):\n",
    "                loss_fn = loss.DynamicLoss(model, torch.nn.CrossEntropyLoss(), float(algorithm[len(\"Dynamic\"):]), hparams[\"gamma\"], len(subtypes) - 1)\n",
    "            elif (algorithm == \"Upweight\"):\n",
    "                loss_fn = loss.UpweightLoss(model, torch.nn.CrossEntropyLoss(), len(subtypes) - 1)\n",
    "            else:\n",
    "                loss_fn = loss.ERMGDROLoss(model, torch.nn.CrossEntropyLoss(), hparams, len(subtypes) - 1)\n",
    "            optimizer = torch.optim.Adam(model.parameters(), lr=lr, weight_decay=weight_decay)#, momentum=momentum)\n",
    "\n",
    "            # scheduler = ReduceLROnPlateau(optimizer, mode='max', factor=0.2, patience=2, verbose=True)\n",
    "            \n",
    "            for epoch in range(epochs):\n",
    "                print(f'Epoch {epoch + 1} / {epochs}')\n",
    "\n",
    "                if algorithm == \"Sharp\":\n",
    "                    loss_fn.t = epoch / epochs < 0.5  # sharp boundary\n",
    "                elif algorithm == \"Smooth\":\n",
    "                    loss_fn.t = 1 - (epoch / (epochs - 1))  # linear interpolation\n",
    "                elif algorithm == \"ReverseSmooth\":\n",
    "                    loss_fn.t = epoch / (epochs - 1)  # reverse linear interpolation\n",
    "                elif algorithm == \"ExtraERM\":\n",
    "                    loss_fn.t = 2\n",
    "                elif algorithm == \"ExtraGDRO\":\n",
    "                    loss_fn.t = -1\n",
    "                elif algorithm == \"Halfway\":\n",
    "                    loss_fn.t = 0.5\n",
    "                elif algorithm.startswith(\"Mix\"):\n",
    "                    loss_fn.t = float(algorithm[3:])  # ex. algorithm == \"Mix0.5\" => t = 0.5\n",
    "\n",
    "                train_eval.train(train_dataloader, model, loss_fn, optimizer)\n",
    "                sensitivities = train_eval.evaluate(test_dataloader, model, num_subclasses=len(subtypes) - 1)\n",
    "                \n",
    "                # scheduler.step(train_eval.evaluate(val_dataloader, model, num_subclasses=len(subtypes) - 1)[0])\n",
    "\n",
    "                for i in range(len(subtypes)):\n",
    "                    results[algorithm][n * epochs * len(subtypes) + epoch * len(subtypes) + i] = sensitivities[i]\n",
    "            if record_roc_data:\n",
    "                with torch.no_grad():\n",
    "                    preds = model(torch.stack(test_dataloader.dataset.features))\n",
    "                    probabilities = torch.nn.functional.softmax(preds, dim=1)[:, 1]\n",
    "                    labels = test_dataloader.dataset.labels\n",
    "                    if roc_data[algorithm][0] == None:\n",
    "                        roc_data[algorithm][0] = probabilities\n",
    "                        roc_data[algorithm][1] = labels\n",
    "                    else:\n",
    "                        roc_data[algorithm][0] += probabilities\n",
    "        if record_roc_data:\n",
    "            roc_data[algorithm][0] /= N\n",
    "        \n",
    "print(\"Test complete\")\n",
    "\n",
    "results_df = pd.DataFrame(results, index=pd.MultiIndex.from_product([range(N), range(epochs), subtypes], names=[\"trial\", \"epoch\", \"subtype\"]))\n",
    "\n",
    "# Automatically save and download results from colab\n",
    "# from datetime import datetime\n",
    "# results_df.to_csv(f'results_{datetime.now().strftime('%Y%m%d_%H%M%S')}.csv')\n",
    "\n",
    "# from google.colab import files\n",
    "# files.download(f'results_{datetime.now().strftime('%Y%m%d_%H%M%S')}.csv') "
   ]
  },
  {
   "cell_type": "code",
   "execution_count": null,
   "id": "YVvMXK9daGKP",
   "metadata": {
    "colab": {
     "base_uri": "https://localhost:8080/",
     "height": 17
    },
    "id": "YVvMXK9daGKP",
    "outputId": "54061506-a37c-42dc-f00d-fbf395a4864d"
   },
   "outputs": [],
   "source": [
    "from datetime import datetime\n",
    "results_df.to_csv(f'results_{datetime.now().strftime(\"%Y%m%d_%H%M%S\")}.csv')\n",
    "\n",
    "from google.colab import files\n",
    "files.download(f'results_{datetime.now().strftime(\"%Y%m%d_%H%M%S\")}.csv') "
   ]
  },
  {
   "cell_type": "markdown",
   "id": "92f6d8e1",
   "metadata": {},
   "source": [
    "# Results Visualization\n",
    "\n",
    "Data loading and plotting functions to visualize the results given by run.py  \n",
    "Put the path of the folder containing the results in load_dir and run the cells to see results"
   ]
  },
  {
   "cell_type": "code",
   "execution_count": 132,
   "id": "c1550ad5",
   "metadata": {},
   "outputs": [],
   "source": [
    "import matplotlib.pyplot as plt\n",
    "load_root = 'test_results/standardized/'\n",
    "load_dirs = [\n",
    "    'LIDC_CNN_features_CNN_clusters_20220722_112021/',\n",
    "    'LIDC_CNN_features_mal_groups_20220722_112147/',\n",
    "    'LIDC_CNN_features_spic_groups_20220722_112157/',\n",
    "    'LIDC_designed_features_CNN_clusters_20220721_123221/',\n",
    "    'LIDC_designed_features_mal_groups_20220721_123917/',\n",
    "    'LIDC_designed_features_spic_groups_20220721_123936/',\n",
    "    'weight_decay=1.0/LIDC_CNN_features_CNN_clusters_reg_20220721_162108/',\n",
    "    'weight_decay=1.0/LIDC_CNN_features_mal_groups_reg_20220721_162211/',\n",
    "    'weight_decay=1.0/LIDC_CNN_features_spic_groups_reg_20220721_162436/',\n",
    "    'weight_decay=1.0/LIDC_designed_features_CNN_clusters_reg_20220721_161237/',\n",
    "    'weight_decay=1.0/LIDC_designed_features_mal_groups_reg_20220721_161806/',\n",
    "    'weight_decay=1.0/LIDC_designed_features_spic_groups_reg_20220721_161347/',\n",
    "]"
   ]
  },
  {
   "cell_type": "markdown",
   "id": "1c73a452",
   "metadata": {},
   "source": [
    "## Plot overall accuracy, subclass sensitivites, and worst sensitivity per epoch"
   ]
  },
  {
   "cell_type": "code",
   "execution_count": 182,
   "id": "b3ace5d7",
   "metadata": {
    "colab": {
     "base_uri": "https://localhost:8080/",
     "height": 1000
    },
    "id": "b3ace5d7",
    "outputId": "3edc0aad-7547-4bd6-dc43-152afccf2035",
    "scrolled": false
   },
   "outputs": [],
   "source": [
    "def plot_acc():\n",
    "    loaded_accuracies = pd.read_csv(load_dir + 'accuracies.csv')\n",
    "    N = max(loaded_accuracies[\"trial\"]) + 1\n",
    "    epochs = max(loaded_accuracies[\"epoch\"]) + 1\n",
    "    subtypes = list(loaded_accuracies[\"subtype\"].unique())\n",
    "    algorithms = loaded_accuracies.columns\n",
    "\n",
    "    results = loaded_accuracies.drop(columns=[\"subtype\", \"epoch\", \"trial\"]).to_dict('list')\n",
    "    results_df = pd.DataFrame(results, index=pd.MultiIndex.from_product([range(N), range(epochs), subtypes], names=[\"trial\", \"epoch\", \"subtype\"]))\n",
    "\n",
    "    trial_means = results_df.unstack().unstack().mean(axis=0).unstack(level=0).unstack(level=0).stack()\n",
    "    worst_group = trial_means.stack().unstack(level=1).drop(columns=\"Overall\").min(axis=1).unstack()\n",
    "    worst_group.index = pd.MultiIndex.from_tuples([(epoch, \"Lower bound\") for epoch in worst_group.index], names=[\"epoch\", \"subtype\"])\n",
    "    trial_means = pd.concat([trial_means, worst_group])\n",
    "\n",
    "    rolling_window = 1\n",
    "\n",
    "    drop_epochs = []  # list(range(40, 100))\n",
    "\n",
    "    rolling_data = trial_means.unstack(level=1).rolling(rolling_window).mean().stack().drop(drop_epochs, level=0, axis=0, inplace=False)\n",
    "    # reindex epochs from 1\n",
    "    rolling_data.index = pd.MultiIndex.from_tuples(zip(rolling_data.index.get_level_values(0) + 1, rolling_data.index.get_level_values(1)), names=[\"epoch\", \"subtype\"])\n",
    "\n",
    "    plots = [*subtypes, \"Lower bound\"]\n",
    "    plots = [\"Overall\", \"Lower bound\"]\n",
    "    # plots = subtypes[1:]\n",
    "\n",
    "    hide = []\n",
    "\n",
    "    w = 2\n",
    "\n",
    "    f, a = plt.subplots((len(plots) + 1) // w, w)\n",
    "\n",
    "    if len(plots) > w:\n",
    "        a = [ax for a0 in a for ax in a0]\n",
    "\n",
    "    # plot subtypes sensitivity\n",
    "\n",
    "    #legend=None,xlim=[35, 40],ylim=[0.85,0.88],\n",
    "\n",
    "    for i in range(len(plots)):\n",
    "        rolling_data.drop(columns=hide).xs(plots[i], level=1).plot(ylim=[0.5,1],xlabel=\"Epoch\",ylabel=\"Accuracy\",kind='line',title=plots[i],ax=a[i],figsize=(6 * w, 6 * ((len(plots) + 1) // w)),grid=True)"
   ]
  },
  {
   "cell_type": "code",
   "execution_count": 183,
   "id": "6e1b8ce6",
   "metadata": {
    "scrolled": false
   },
   "outputs": [
    {
     "data": {
      "image/png": "[encoded data removed]",
      "text/plain": [
       "<Figure size 864x432 with 2 Axes>"
      ]
     },
     "metadata": {
      "needs_background": "light"
     },
     "output_type": "display_data"
    }
   ],
   "source": [
    "load_dir = load_root + load_dirs[0]\n",
    "plot_acc()"
   ]
  },
  {
   "cell_type": "markdown",
   "id": "6519fc41",
   "metadata": {},
   "source": [
    "## Plot values of q and g (subclass and loss function weights, respectively)"
   ]
  },
  {
   "cell_type": "code",
   "execution_count": 180,
   "id": "51bd0ec3",
   "metadata": {
    "id": "51bd0ec3",
    "scrolled": false
   },
   "outputs": [
    {
     "data": {
      "image/png": "[encoded data removed]",
      "text/plain": [
       "<Figure size 432x288 with 1 Axes>"
      ]
     },
     "metadata": {
      "needs_background": "light"
     },
     "output_type": "display_data"
    },
    {
     "data": {
      "image/png": "[encoded data removed]",
      "text/plain": [
       "<Figure size 432x288 with 1 Axes>"
      ]
     },
     "metadata": {
      "needs_background": "light"
     },
     "output_type": "display_data"
    },
    {
     "data": {
      "image/png": "[encoded data removed]",
      "text/plain": [
       "<Figure size 432x288 with 1 Axes>"
      ]
     },
     "metadata": {
      "needs_background": "light"
     },
     "output_type": "display_data"
    }
   ],
   "source": [
    "def read_q(path):\n",
    "    loaded_data = pd.read_csv(load_dir + 'q.csv').dropna(axis=1)\n",
    "    loaded_data.index = pd.MultiIndex.from_arrays([loaded_data['trial'], loaded_data['epoch'], loaded_data['subtype']], names=['trial', 'epoch', 'subtype'])\n",
    "    saved_subtypes = loaded_data['subtype']\n",
    "    loaded_data.drop(columns=['trial', 'epoch', 'subtype'], inplace=True)\n",
    "    loaded_data = loaded_data.stack().unstack(level=1)\n",
    "    loaded_data.insert(0, -1, np.ones(len(loaded_data.index)) / len(loaded_data.index.levels[1]))\n",
    "    loaded_data.columns += 1\n",
    "    mean_data = loaded_data.stack(level=0).unstack(level=0).mean(axis=1).unstack(level=0).stack(level=0).unstack(level=0)\n",
    "    mean_data = mean_data.unstack(level=1)\n",
    "    mean_data = mean_data.loc[:, pd.MultiIndex.from_product([mean_data.columns.levels[0], saved_subtypes.unique()])]\n",
    "    return mean_data\n",
    "\n",
    "def read_g(path):\n",
    "    loaded_data = pd.read_csv(load_dir + 'g.csv').dropna(axis=1)\n",
    "    loaded_data.index = pd.MultiIndex.from_arrays([loaded_data['trial'], loaded_data['epoch'], loaded_data['loss_fn']], names=['trial', 'epoch', 'loss_fn'])\n",
    "    saved_subtypes = loaded_data['loss_fn']\n",
    "    loaded_data.drop(columns=['trial', 'epoch', 'loss_fn'], inplace=True)\n",
    "    loaded_data = loaded_data.stack().unstack(level=1)\n",
    "    loaded_data.insert(0, -1, np.ones(len(loaded_data.index)) / len(loaded_data.index.levels[1]))\n",
    "    loaded_data.columns += 1\n",
    "    mean_data = loaded_data.stack(level=0).unstack(level=0).mean(axis=1).unstack(level=0).stack(level=0).unstack(level=0)\n",
    "    mean_data = mean_data.unstack(level=1)\n",
    "    mean_data = mean_data.loc[:, pd.MultiIndex.from_product([mean_data.columns.levels[0], saved_subtypes.unique()])]\n",
    "    return mean_data\n",
    "\n",
    "mean_q = read_q(load_dir + 'q.csv')\n",
    "\n",
    "for c in mean_q.columns.levels[0]:\n",
    "    mean_q[c].plot()\n",
    "    \n",
    "mean_g = read_g(load_dir + 'g.csv')\n",
    "for c in mean_g.columns.levels[0]:\n",
    "    mean_g[c].plot(ylim=[0,1])"
   ]
  },
  {
   "cell_type": "markdown",
   "id": "816e2dbd",
   "metadata": {},
   "source": [
    "## Plot ROC Curve"
   ]
  },
  {
   "cell_type": "code",
   "execution_count": 310,
   "id": "08feabdd",
   "metadata": {
    "id": "08feabdd",
    "outputId": "fea72ca6-ebf7-4794-9cd9-6129231ce58b",
    "scrolled": false
   },
   "outputs": [
    {
     "data": {
      "image/png": "[encoded data removed]",
      "text/plain": [
       "<Figure size 288x1152 with 4 Axes>"
      ]
     },
     "metadata": {
      "needs_background": "light"
     },
     "output_type": "display_data"
    }
   ],
   "source": [
    "# ROC curve\n",
    "\n",
    "from sklearn import metrics\n",
    "\n",
    "roc_df = pd.read_csv(load_dir + 'ROC.csv')\n",
    "\n",
    "f, a = plt.subplots(len(roc_df.columns) - 1, 1, figsize=(4,4 * (len(roc_df.columns) - 1)))\n",
    "\n",
    "for i in range(len(roc_df.columns) - 1):\n",
    "    c = roc_df.drop(columns='labels').columns[i]\n",
    "    \n",
    "    y_true = roc_df['labels']\n",
    "    y_score = roc_df[c]\n",
    "\n",
    "    fpr, tpr, thresholds = metrics.roc_curve(y_true, y_score, pos_label=1)\n",
    "    auc = metrics.auc(fpr, tpr)\n",
    "    a[i].plot(fpr, tpr, 'b')\n",
    "    a[i].set_title(f'{c} (AUC = {auc})')"
   ]
  },
  {
   "cell_type": "code",
   "execution_count": 164,
   "id": "04df8c04",
   "metadata": {},
   "outputs": [
    {
     "data": {
      "text/html": [
       "<div>\n",
       "<style scoped>\n",
       "    .dataframe tbody tr th:only-of-type {\n",
       "        vertical-align: middle;\n",
       "    }\n",
       "\n",
       "    .dataframe tbody tr th {\n",
       "        vertical-align: top;\n",
       "    }\n",
       "\n",
       "    .dataframe thead th {\n",
       "        text-align: right;\n",
       "    }\n",
       "</style>\n",
       "<table border=\"1\" class=\"dataframe\">\n",
       "  <thead>\n",
       "    <tr style=\"text-align: right;\">\n",
       "      <th></th>\n",
       "      <th>ERMLoss</th>\n",
       "      <th>GDROLoss</th>\n",
       "      <th>DynamicLoss</th>\n",
       "      <th>UpweightLoss</th>\n",
       "    </tr>\n",
       "    <tr>\n",
       "      <th>subtype</th>\n",
       "      <th></th>\n",
       "      <th></th>\n",
       "      <th></th>\n",
       "      <th></th>\n",
       "    </tr>\n",
       "  </thead>\n",
       "  <tbody>\n",
       "    <tr>\n",
       "      <th>Lower bound</th>\n",
       "      <td>13</td>\n",
       "      <td>16</td>\n",
       "      <td>16</td>\n",
       "      <td>15</td>\n",
       "    </tr>\n",
       "    <tr>\n",
       "      <th>Overall</th>\n",
       "      <td>15</td>\n",
       "      <td>18</td>\n",
       "      <td>16</td>\n",
       "      <td>15</td>\n",
       "    </tr>\n",
       "    <tr>\n",
       "      <th>Spiculated benign</th>\n",
       "      <td>0</td>\n",
       "      <td>34</td>\n",
       "      <td>0</td>\n",
       "      <td>37</td>\n",
       "    </tr>\n",
       "    <tr>\n",
       "      <th>Spiculated malignant</th>\n",
       "      <td>13</td>\n",
       "      <td>0</td>\n",
       "      <td>16</td>\n",
       "      <td>0</td>\n",
       "    </tr>\n",
       "    <tr>\n",
       "      <th>Unspiculated benign</th>\n",
       "      <td>0</td>\n",
       "      <td>96</td>\n",
       "      <td>0</td>\n",
       "      <td>62</td>\n",
       "    </tr>\n",
       "    <tr>\n",
       "      <th>Unspiculated malignant</th>\n",
       "      <td>13</td>\n",
       "      <td>0</td>\n",
       "      <td>16</td>\n",
       "      <td>11</td>\n",
       "    </tr>\n",
       "  </tbody>\n",
       "</table>\n",
       "</div>"
      ],
      "text/plain": [
       "                        ERMLoss  GDROLoss  DynamicLoss  UpweightLoss\n",
       "subtype                                                             \n",
       "Lower bound                  13        16           16            15\n",
       "Overall                      15        18           16            15\n",
       "Spiculated benign             0        34            0            37\n",
       "Spiculated malignant         13         0           16             0\n",
       "Unspiculated benign           0        96            0            62\n",
       "Unspiculated malignant       13         0           16            11"
      ]
     },
     "execution_count": 164,
     "metadata": {},
     "output_type": "execute_result"
    }
   ],
   "source": [
    "loaded_accuracies = pd.read_csv(load_dir + 'accuracies.csv')\n",
    "N = max(loaded_accuracies[\"trial\"]) + 1\n",
    "epochs = max(loaded_accuracies[\"epoch\"]) + 1\n",
    "subtypes = list(loaded_accuracies[\"subtype\"].unique())\n",
    "algorithms = loaded_accuracies.columns\n",
    "\n",
    "results = loaded_accuracies.drop(columns=[\"subtype\", \"epoch\", \"trial\"]).to_dict('list')\n",
    "results_df = pd.DataFrame(results, index=pd.MultiIndex.from_product([range(N), range(epochs), subtypes], names=[\"trial\", \"epoch\", \"subtype\"]))\n",
    "\n",
    "trial_means = results_df.unstack().unstack().mean(axis=0).unstack(level=0).unstack(level=0).stack()\n",
    "worst_group = trial_means.stack().unstack(level=1).drop(columns=\"Overall\").min(axis=1).unstack()\n",
    "worst_group.index = pd.MultiIndex.from_tuples([(epoch, \"Lower bound\") for epoch in worst_group.index], names=[\"epoch\", \"subtype\"])\n",
    "trial_means = pd.concat([trial_means, worst_group])\n",
    "trial_means.stack().unstack(level=0).idxmax(axis=1).unstack(level=1)"
   ]
  },
  {
   "cell_type": "code",
   "execution_count": 165,
   "id": "865a7600",
   "metadata": {},
   "outputs": [
    {
     "data": {
      "text/html": [
       "<div>\n",
       "<style scoped>\n",
       "    .dataframe tbody tr th:only-of-type {\n",
       "        vertical-align: middle;\n",
       "    }\n",
       "\n",
       "    .dataframe tbody tr th {\n",
       "        vertical-align: top;\n",
       "    }\n",
       "\n",
       "    .dataframe thead th {\n",
       "        text-align: right;\n",
       "    }\n",
       "</style>\n",
       "<table border=\"1\" class=\"dataframe\">\n",
       "  <thead>\n",
       "    <tr style=\"text-align: right;\">\n",
       "      <th></th>\n",
       "      <th>ERMLoss</th>\n",
       "      <th>GDROLoss</th>\n",
       "      <th>DynamicLoss</th>\n",
       "      <th>UpweightLoss</th>\n",
       "    </tr>\n",
       "    <tr>\n",
       "      <th>subtype</th>\n",
       "      <th></th>\n",
       "      <th></th>\n",
       "      <th></th>\n",
       "      <th></th>\n",
       "    </tr>\n",
       "  </thead>\n",
       "  <tbody>\n",
       "    <tr>\n",
       "      <th>Lower bound</th>\n",
       "      <td>0.689351</td>\n",
       "      <td>0.718182</td>\n",
       "      <td>0.707922</td>\n",
       "      <td>0.719386</td>\n",
       "    </tr>\n",
       "    <tr>\n",
       "      <th>Overall</th>\n",
       "      <td>0.753223</td>\n",
       "      <td>0.754219</td>\n",
       "      <td>0.754684</td>\n",
       "      <td>0.755316</td>\n",
       "    </tr>\n",
       "    <tr>\n",
       "      <th>Spiculated benign</th>\n",
       "      <td>0.887101</td>\n",
       "      <td>0.860870</td>\n",
       "      <td>0.887971</td>\n",
       "      <td>0.865217</td>\n",
       "    </tr>\n",
       "    <tr>\n",
       "      <th>Spiculated malignant</th>\n",
       "      <td>0.689351</td>\n",
       "      <td>0.758312</td>\n",
       "      <td>0.707922</td>\n",
       "      <td>0.759740</td>\n",
       "    </tr>\n",
       "    <tr>\n",
       "      <th>Unspiculated benign</th>\n",
       "      <td>0.837544</td>\n",
       "      <td>0.732632</td>\n",
       "      <td>0.841140</td>\n",
       "      <td>0.732281</td>\n",
       "    </tr>\n",
       "    <tr>\n",
       "      <th>Unspiculated malignant</th>\n",
       "      <td>0.743902</td>\n",
       "      <td>0.796341</td>\n",
       "      <td>0.756098</td>\n",
       "      <td>0.795854</td>\n",
       "    </tr>\n",
       "  </tbody>\n",
       "</table>\n",
       "</div>"
      ],
      "text/plain": [
       "                         ERMLoss  GDROLoss  DynamicLoss  UpweightLoss\n",
       "subtype                                                              \n",
       "Lower bound             0.689351  0.718182     0.707922      0.719386\n",
       "Overall                 0.753223  0.754219     0.754684      0.755316\n",
       "Spiculated benign       0.887101  0.860870     0.887971      0.865217\n",
       "Spiculated malignant    0.689351  0.758312     0.707922      0.759740\n",
       "Unspiculated benign     0.837544  0.732632     0.841140      0.732281\n",
       "Unspiculated malignant  0.743902  0.796341     0.756098      0.795854"
      ]
     },
     "execution_count": 165,
     "metadata": {},
     "output_type": "execute_result"
    }
   ],
   "source": [
    "trial_means.stack().unstack(level=0).max(axis=1).unstack(level=1)"
   ]
  },
  {
   "cell_type": "code",
   "execution_count": 131,
   "id": "917b8efb",
   "metadata": {
    "id": "917b8efb",
    "outputId": "4022df32-f613-4a79-e424-fdb6f9424849",
    "scrolled": false
   },
   "outputs": [
    {
     "name": "stdout",
     "output_type": "stream",
     "text": [
      "Overall\n",
      "ERMLoss: 0.8786378737541526\n",
      "GDROLoss: 0.8752159468438537\n",
      "ERMLoss greater with p = 0.00\n",
      "\n",
      "ERMLoss: 0.8786378737541526\n",
      "DynamicLoss: 0.8789368770764119\n",
      "No significant difference with p = 0.61\n",
      "\n",
      "ERMLoss: 0.8786378737541526\n",
      "UpweightLoss: 0.8750830564784053\n",
      "ERMLoss greater with p = 0.00\n",
      "\n",
      "\n",
      "Benign\n",
      "ERMLoss: 0.8971270718232046\n",
      "GDROLoss: 0.8874585635359115\n",
      "ERMLoss greater with p = 0.00\n",
      "\n",
      "ERMLoss: 0.8971270718232046\n",
      "DynamicLoss: 0.8977348066298344\n",
      "No significant difference with p = 0.55\n",
      "\n",
      "ERMLoss: 0.8971270718232046\n",
      "UpweightLoss: 0.8869613259668506\n",
      "ERMLoss greater with p = 0.00\n",
      "\n",
      "\n",
      "Malignant 1\n",
      "ERMLoss: 1.0\n",
      "GDROLoss: 1.0\n",
      "No significant difference with p = nan\n",
      "\n",
      "ERMLoss: 1.0\n",
      "DynamicLoss: 1.0\n",
      "No significant difference with p = nan\n",
      "\n",
      "ERMLoss: 1.0\n",
      "UpweightLoss: 1.0\n",
      "No significant difference with p = nan\n",
      "\n",
      "\n",
      "Malignant 2\n",
      "ERMLoss: 0.7842168674698796\n",
      "GDROLoss: 0.7928915662650604\n",
      "GDROLoss greater with p = 0.00\n",
      "\n",
      "ERMLoss: 0.7842168674698796\n",
      "DynamicLoss: 0.7839759036144579\n",
      "No significant difference with p = 0.71\n",
      "\n",
      "ERMLoss: 0.7842168674698796\n",
      "UpweightLoss: 0.7934939759036148\n",
      "UpweightLoss greater with p = 0.00\n",
      "\n",
      "\n"
     ]
    },
    {
     "data": {
      "image/png": "[encoded data removed]",
      "text/plain": [
       "<Figure size 576x2304 with 5 Axes>"
      ]
     },
     "metadata": {
      "needs_background": "light"
     },
     "output_type": "display_data"
    }
   ],
   "source": [
    "# statisitical tests comparing to ERM\n",
    "from scipy.stats import ttest_ind\n",
    "from IPython.display import display\n",
    "import seaborn as sns\n",
    "\n",
    "significance_threshold = 0.05\n",
    "\n",
    "ttest_dataframes = {}\n",
    "\n",
    "loaded_accuracies = pd.read_csv(load_dir + 'accuracies.csv')\n",
    "N = max(loaded_accuracies[\"trial\"]) + 1\n",
    "epochs = max(loaded_accuracies[\"epoch\"]) + 1\n",
    "subtypes = list(loaded_accuracies[\"subtype\"].unique())\n",
    "algorithms = loaded_accuracies.columns\n",
    "\n",
    "results = loaded_accuracies.drop(columns=[\"subtype\", \"epoch\", \"trial\"]).to_dict('list')\n",
    "results_df = pd.DataFrame(results, index=pd.MultiIndex.from_product([range(N), range(epochs), subtypes], names=[\"trial\", \"epoch\", \"subtype\"]))\n",
    "\n",
    "f, a = plt.subplots(len(subtypes) + 1,1, sharey=True, figsize=(8,32))\n",
    "\n",
    "for s in range(len(subtypes)):\n",
    "#     print(subtype)\n",
    "#     print()\n",
    "    epoch = 20  # epochs - 1\n",
    "\n",
    "    subtype_data = results_df.xs(subtypes[s], level=2).xs(epoch, level=1)\n",
    "    subtype_data.plot(title=subtypes[s], kind='box', ax=a[s])\n",
    "    \n",
    "    # worst group data\n",
    "    # results_df.stack().unstack(level=2).min(axis=1).unstack().xs(epochs - 1, level=1).plot(title='worst', kind='box', ax=a[-1])\n",
    "\n",
    "    \n",
    "    erm_data = subtype_data[\"ERMLoss\"].values\n",
    "\n",
    "    print(subtypes[s])\n",
    "    for algorithm in results_df.columns:\n",
    "        if algorithm != \"ERMLoss\":\n",
    "            algorithm_data = subtype_data[algorithm].values\n",
    "            stat, p = ttest_ind(algorithm_data, erm_data)\n",
    "\n",
    "            print(f'ERMLoss: {erm_data.mean()}')\n",
    "            print(f'{algorithm}: {algorithm_data.mean()}')\n",
    "            if p < significance_threshold:\n",
    "                print(f'{algorithm if stat > 0 else \"ERMLoss\"} greater with p = {p:.2f}')\n",
    "            else:\n",
    "                print(f'No significant difference with p = {p:.2f}')\n",
    "            print()\n",
    "    print()"
   ]
  },
  {
   "cell_type": "code",
   "execution_count": null,
   "id": "32d053ff",
   "metadata": {
    "id": "32d053ff",
    "outputId": "adb5cf23-3d73-4e92-ebf2-149aacbab50b"
   },
   "outputs": [],
   "source": [
    "results_df.xs(subtype, level=2).xs(epochs - 1, level=1)"
   ]
  },
  {
   "cell_type": "code",
   "execution_count": null,
   "id": "uP_UoRwJa6n7",
   "metadata": {
    "id": "uP_UoRwJa6n7"
   },
   "outputs": [],
   "source": [
    "# save results\n",
    "results_df.to_csv('test_results/LIDC__fc64_36_36_2__Adam__eta_0_05__gamma_1_0__lr_0_001__weightdecay_0_0001__momentum_0_9.csv')"
   ]
  },
  {
   "cell_type": "markdown",
   "id": "4dcf2579",
   "metadata": {
    "id": "4dcf2579"
   },
   "source": [
    "# GDRO Demonstration"
   ]
  },
  {
   "cell_type": "code",
   "execution_count": null,
   "id": "e867ae89",
   "metadata": {
    "colab": {
     "base_uri": "https://localhost:8080/",
     "height": 340
    },
    "id": "e867ae89",
    "outputId": "61c9dfb4-6d8e-44dd-ed99-09651e1b4cb6"
   },
   "outputs": [],
   "source": [
    "epochs = 30\n",
    "N = 1\n",
    "\n",
    "q_data = {}\n",
    "\n",
    "for n in range(N):\n",
    "\n",
    "    q_data[f'Trial_{n}'] = []\n",
    "    \n",
    "    model = model_class(*model_args).to(device)\n",
    "\n",
    "    loss_fn = loss.ERMGDROLoss(model, torch.nn.CrossEntropyLoss(), hparams[\"eta\"], len(subtypes) - 1)\n",
    "    optimizer = torch.optim.Adam(model.parameters(), lr=lr, weight_decay=weight_decay)\n",
    "\n",
    "    loss_fn.t = 0\n",
    "\n",
    "    q_data[f'Trial_{n}'].extend([1 / (len(subtypes) - 1) for i in range(len(subtypes) - 1)])\n",
    "    for epoch in range(epochs):\n",
    "        train_eval.train(train_dataloader, model, loss_fn, optimizer)\n",
    "        q_data[f'Trial_{n}'].extend(loss_fn.gdro.q.tolist())"
   ]
  },
  {
   "cell_type": "markdown",
   "id": "099c42e2",
   "metadata": {
    "id": "099c42e2"
   },
   "source": [
    "# Combining CNN features and engineered features"
   ]
  },
  {
   "cell_type": "code",
   "execution_count": null,
   "id": "26eae0f1",
   "metadata": {
    "id": "26eae0f1"
   },
   "outputs": [],
   "source": [
    "cnn_df = pd.read_csv('data/cnn_features.csv')\n",
    "for c in range(2, len(cnn_df.columns)):\n",
    "    cnn_df.columns.values[c] = f'CNN_{cnn_df.columns.values[c]}'\n",
    "\n",
    "eng_df = pd.read_csv('data/LIDC_20130817_AllFeatures2D_MaxSlicePerNodule_inLineRatings.csv')"
   ]
  },
  {
   "cell_type": "code",
   "execution_count": null,
   "id": "8e3dd0cb",
   "metadata": {
    "id": "8e3dd0cb"
   },
   "outputs": [],
   "source": [
    "cnn_df = cnn_df[cnn_df['nodule_id'].isin(np.intersect1d(cnn_df['nodule_id'].values, eng_df['noduleID'].values))]\n",
    "eng_df = eng_df[eng_df['noduleID'].isin(np.intersect1d(cnn_df['nodule_id'].values, eng_df['noduleID'].values))]"
   ]
  },
  {
   "cell_type": "code",
   "execution_count": null,
   "id": "95d791fb",
   "metadata": {
    "id": "95d791fb"
   },
   "outputs": [],
   "source": [
    "concat_df = eng_df.copy()"
   ]
  },
  {
   "cell_type": "code",
   "execution_count": null,
   "id": "9a3d238e",
   "metadata": {
    "id": "9a3d238e"
   },
   "outputs": [],
   "source": [
    "cnn_df.index = cnn_df['nodule_id']\n",
    "for i in concat_df.index:\n",
    "    for col in cnn_df.columns[2:]:\n",
    "        concat_df.at[i, col] = cnn_df.at[concat_df.at[i, 'noduleID'], col]"
   ]
  },
  {
   "cell_type": "code",
   "execution_count": null,
   "id": "fe0006e9",
   "metadata": {
    "id": "fe0006e9",
    "outputId": "f1c61f52-0ed9-4cfe-e5d9-d5bd3d1ad060"
   },
   "outputs": [],
   "source": [
    "concat_df.drop(columns='Unnamed: 0').to_csv('data/AllFeatures2D_MaxSlice_with_CNN.csv', index=False)"
   ]
  },
  {
   "cell_type": "code",
   "execution_count": null,
   "id": "a31cba2a",
   "metadata": {
    "id": "a31cba2a"
   },
   "outputs": [],
   "source": [
    "feature_file='./data/erm_cluster_cnn_features_1.csv'\n",
    "split_file='./data/subclass_labels/LIDC_data_split_with_cluster.csv'\n",
    "device='cpu'\n",
    "subclass='cluster'\n",
    "df_features = pd.read_csv(feature_file, index_col=0)\n",
    "df_splits = pd.read_csv(split_file, index_col=0)\n",
    "df = df_features.sort_values('noduleID')\n",
    "df['clusters'] = df_splits[subclass]\n",
    "df['malignancy_b'] = df_splits['malignancy_b']\n",
    "\n",
    "dfs = []\n",
    "for i in range(3):\n",
    "    dfs.append(df[df_splits['split'] == i])\n",
    "\n",
    "datas = []\n",
    "for d in dfs:\n",
    "    X = torch.unbind(\n",
    "        torch.tensor(d.drop(['noduleID', 'clusters', 'malignancy_b'], axis=1).values,\n",
    "                     device=device, dtype=torch.float32))\n",
    "    y = torch.unbind(torch.tensor(d['malignancy_b'].values, device=device))\n",
    "    c = torch.unbind(torch.tensor(d['clusters'].values, device=device))\n",
    "    datas.append((X, y, c))"
   ]
  },
  {
   "cell_type": "code",
   "execution_count": null,
   "id": "b7a10477",
   "metadata": {},
   "outputs": [],
   "source": [
    "dfs[0].head()"
   ]
  },
  {
   "cell_type": "code",
   "execution_count": null,
   "id": "3cebc516",
   "metadata": {},
   "outputs": [],
   "source": [
    "x = [1,2,3,4,5]\n",
    "y = [6,7,8,9,10]\n",
    "c = [0,0,0,0,0]\n",
    "dl = dataloaders.InfiniteDataLoader(datasets.SubclassedDataset(x, y, c), batch_size=5)"
   ]
  },
  {
   "cell_type": "code",
   "execution_count": null,
   "id": "dff48ebf",
   "metadata": {},
   "outputs": [],
   "source": [
    "next(dl)"
   ]
  },
  {
   "cell_type": "code",
   "execution_count": null,
   "id": "31eefc9b",
   "metadata": {},
   "outputs": [],
   "source": [
    "dl = iter(torch.utils.data.DataLoader(\n",
    "            datasets.SubclassedDataset(x, y, c),\n",
    "            batch_size=5\n",
    "        ))"
   ]
  },
  {
   "cell_type": "code",
   "execution_count": null,
   "id": "8239b7e2",
   "metadata": {},
   "outputs": [],
   "source": [
    "next(iter(dl))"
   ]
  },
  {
   "cell_type": "code",
   "execution_count": null,
   "id": "5b69ef4c",
   "metadata": {},
   "outputs": [],
   "source": [
    "torch.stack([torch.Tensor([1])])"
   ]
  },
  {
   "cell_type": "code",
   "execution_count": null,
   "id": "25ee3182",
   "metadata": {},
   "outputs": [],
   "source": [
    "sum(pd.read_csv('data/subclass_labels/LIDC_data_split_with_cluster.csv')['cluster'] == 0)"
   ]
  },
  {
   "cell_type": "code",
   "execution_count": null,
   "id": "493ca11e",
   "metadata": {},
   "outputs": [],
   "source": [
    "sum(pd.read_csv('data/subclass_labels/LIDC_data_split_with_cluster.csv')['cluster'] == 1)"
   ]
  },
  {
   "cell_type": "code",
   "execution_count": null,
   "id": "a20bd7d3",
   "metadata": {},
   "outputs": [],
   "source": [
    "sum(pd.read_csv('data/subclass_labels/LIDC_data_split_with_cluster.csv')['cluster'] == 2)"
   ]
  },
  {
   "cell_type": "code",
   "execution_count": null,
   "id": "25e4dd4a",
   "metadata": {},
   "outputs": [],
   "source": []
  }
 ],
 "metadata": {
  "accelerator": "GPU",
  "colab": {
   "name": "run_test.ipynb",
   "provenance": []
  },
  "gpuClass": "standard",
  "kernelspec": {
   "display_name": "REU",
   "language": "python",
   "name": "reu"
  },
  "language_info": {
   "codemirror_mode": {
    "name": "ipython",
    "version": 3
   },
   "file_extension": ".py",
   "mimetype": "text/x-python",
   "name": "python",
   "nbconvert_exporter": "python",
   "pygments_lexer": "ipython3",
   "version": "3.9.12"
  },
  "widgets": {
   "application/vnd.jupyter.widget-state+json": {
    "1c91d542815846798625a59fdded01e0": {
     "model_module": "@jupyter-widgets/base",
     "model_module_version": "1.2.0",
     "model_name": "LayoutModel",
     "state": {
      "_model_module": "@jupyter-widgets/base",
      "_model_module_version": "1.2.0",
      "_model_name": "LayoutModel",
      "_view_count": null,
      "_view_module": "@jupyter-widgets/base",
      "_view_module_version": "1.2.0",
      "_view_name": "LayoutView",
      "align_content": null,
      "align_items": null,
      "align_self": null,
      "border": null,
      "bottom": null,
      "display": null,
      "flex": null,
      "flex_flow": null,
      "grid_area": null,
      "grid_auto_columns": null,
      "grid_auto_flow": null,
      "grid_auto_rows": null,
      "grid_column": null,
      "grid_gap": null,
      "grid_row": null,
      "grid_template_areas": null,
      "grid_template_columns": null,
      "grid_template_rows": null,
      "height": null,
      "justify_content": null,
      "justify_items": null,
      "left": null,
      "margin": null,
      "max_height": null,
      "max_width": null,
      "min_height": null,
      "min_width": null,
      "object_fit": null,
      "object_position": null,
      "order": null,
      "overflow": null,
      "overflow_x": null,
      "overflow_y": null,
      "padding": null,
      "right": null,
      "top": null,
      "visibility": null,
      "width": null
     }
    },
    "5adf17f900c949bbb28cedec4f200f41": {
     "model_module": "@jupyter-widgets/controls",
     "model_module_version": "1.5.0",
     "model_name": "ProgressStyleModel",
     "state": {
      "_model_module": "@jupyter-widgets/controls",
      "_model_module_version": "1.5.0",
      "_model_name": "ProgressStyleModel",
      "_view_count": null,
      "_view_module": "@jupyter-widgets/base",
      "_view_module_version": "1.2.0",
      "_view_name": "StyleView",
      "bar_color": null,
      "description_width": ""
     }
    },
    "5ca6ca51ef344b07ad60ab03577c6ffa": {
     "model_module": "@jupyter-widgets/controls",
     "model_module_version": "1.5.0",
     "model_name": "DescriptionStyleModel",
     "state": {
      "_model_module": "@jupyter-widgets/controls",
      "_model_module_version": "1.5.0",
      "_model_name": "DescriptionStyleModel",
      "_view_count": null,
      "_view_module": "@jupyter-widgets/base",
      "_view_module_version": "1.2.0",
      "_view_name": "StyleView",
      "description_width": ""
     }
    },
    "5d829b78f378484483c27c6129dd404f": {
     "model_module": "@jupyter-widgets/controls",
     "model_module_version": "1.5.0",
     "model_name": "HBoxModel",
     "state": {
      "_dom_classes": [],
      "_model_module": "@jupyter-widgets/controls",
      "_model_module_version": "1.5.0",
      "_model_name": "HBoxModel",
      "_view_count": null,
      "_view_module": "@jupyter-widgets/controls",
      "_view_module_version": "1.5.0",
      "_view_name": "HBoxView",
      "box_style": "",
      "children": [
       "IPY_MODEL_e192ae51538a4e718bc1aef4fc59b438",
       "IPY_MODEL_e6b330ae53c140b6a658c8e64e1fe4d3",
       "IPY_MODEL_f00b8d56fb9c42e288b44882d8d268fc"
      ],
      "layout": "IPY_MODEL_5e4f8ffa3eaf4e9ca4aaf45ebbc8e151"
     }
    },
    "5e4f8ffa3eaf4e9ca4aaf45ebbc8e151": {
     "model_module": "@jupyter-widgets/base",
     "model_module_version": "1.2.0",
     "model_name": "LayoutModel",
     "state": {
      "_model_module": "@jupyter-widgets/base",
      "_model_module_version": "1.2.0",
      "_model_name": "LayoutModel",
      "_view_count": null,
      "_view_module": "@jupyter-widgets/base",
      "_view_module_version": "1.2.0",
      "_view_name": "LayoutView",
      "align_content": null,
      "align_items": null,
      "align_self": null,
      "border": null,
      "bottom": null,
      "display": null,
      "flex": null,
      "flex_flow": null,
      "grid_area": null,
      "grid_auto_columns": null,
      "grid_auto_flow": null,
      "grid_auto_rows": null,
      "grid_column": null,
      "grid_gap": null,
      "grid_row": null,
      "grid_template_areas": null,
      "grid_template_columns": null,
      "grid_template_rows": null,
      "height": null,
      "justify_content": null,
      "justify_items": null,
      "left": null,
      "margin": null,
      "max_height": null,
      "max_width": null,
      "min_height": null,
      "min_width": null,
      "object_fit": null,
      "object_position": null,
      "order": null,
      "overflow": null,
      "overflow_x": null,
      "overflow_y": null,
      "padding": null,
      "right": null,
      "top": null,
      "visibility": null,
      "width": null
     }
    },
    "736189395de54b0b8404f85ce77aca0f": {
     "model_module": "@jupyter-widgets/controls",
     "model_module_version": "1.5.0",
     "model_name": "DescriptionStyleModel",
     "state": {
      "_model_module": "@jupyter-widgets/controls",
      "_model_module_version": "1.5.0",
      "_model_name": "DescriptionStyleModel",
      "_view_count": null,
      "_view_module": "@jupyter-widgets/base",
      "_view_module_version": "1.2.0",
      "_view_name": "StyleView",
      "description_width": ""
     }
    },
    "b5603b9bfb1c41f2a24381a23cf9c2b4": {
     "model_module": "@jupyter-widgets/base",
     "model_module_version": "1.2.0",
     "model_name": "LayoutModel",
     "state": {
      "_model_module": "@jupyter-widgets/base",
      "_model_module_version": "1.2.0",
      "_model_name": "LayoutModel",
      "_view_count": null,
      "_view_module": "@jupyter-widgets/base",
      "_view_module_version": "1.2.0",
      "_view_name": "LayoutView",
      "align_content": null,
      "align_items": null,
      "align_self": null,
      "border": null,
      "bottom": null,
      "display": null,
      "flex": null,
      "flex_flow": null,
      "grid_area": null,
      "grid_auto_columns": null,
      "grid_auto_flow": null,
      "grid_auto_rows": null,
      "grid_column": null,
      "grid_gap": null,
      "grid_row": null,
      "grid_template_areas": null,
      "grid_template_columns": null,
      "grid_template_rows": null,
      "height": null,
      "justify_content": null,
      "justify_items": null,
      "left": null,
      "margin": null,
      "max_height": null,
      "max_width": null,
      "min_height": null,
      "min_width": null,
      "object_fit": null,
      "object_position": null,
      "order": null,
      "overflow": null,
      "overflow_x": null,
      "overflow_y": null,
      "padding": null,
      "right": null,
      "top": null,
      "visibility": null,
      "width": "20px"
     }
    },
    "e192ae51538a4e718bc1aef4fc59b438": {
     "model_module": "@jupyter-widgets/controls",
     "model_module_version": "1.5.0",
     "model_name": "HTMLModel",
     "state": {
      "_dom_classes": [],
      "_model_module": "@jupyter-widgets/controls",
      "_model_module_version": "1.5.0",
      "_model_name": "HTMLModel",
      "_view_count": null,
      "_view_module": "@jupyter-widgets/controls",
      "_view_module_version": "1.5.0",
      "_view_name": "HTMLView",
      "description": "",
      "description_tooltip": null,
      "layout": "IPY_MODEL_1c91d542815846798625a59fdded01e0",
      "placeholder": "​",
      "style": "IPY_MODEL_736189395de54b0b8404f85ce77aca0f",
      "value": ""
     }
    },
    "e6b330ae53c140b6a658c8e64e1fe4d3": {
     "model_module": "@jupyter-widgets/controls",
     "model_module_version": "1.5.0",
     "model_name": "FloatProgressModel",
     "state": {
      "_dom_classes": [],
      "_model_module": "@jupyter-widgets/controls",
      "_model_module_version": "1.5.0",
      "_model_name": "FloatProgressModel",
      "_view_count": null,
      "_view_module": "@jupyter-widgets/controls",
      "_view_module_version": "1.5.0",
      "_view_name": "ProgressView",
      "bar_style": "success",
      "description": "",
      "description_tooltip": null,
      "layout": "IPY_MODEL_b5603b9bfb1c41f2a24381a23cf9c2b4",
      "max": 1,
      "min": 0,
      "orientation": "horizontal",
      "style": "IPY_MODEL_5adf17f900c949bbb28cedec4f200f41",
      "value": 1
     }
    },
    "f00b8d56fb9c42e288b44882d8d268fc": {
     "model_module": "@jupyter-widgets/controls",
     "model_module_version": "1.5.0",
     "model_name": "HTMLModel",
     "state": {
      "_dom_classes": [],
      "_model_module": "@jupyter-widgets/controls",
      "_model_module_version": "1.5.0",
      "_model_name": "HTMLModel",
      "_view_count": null,
      "_view_module": "@jupyter-widgets/controls",
      "_view_module_version": "1.5.0",
      "_view_name": "HTMLView",
      "description": "",
      "description_tooltip": null,
      "layout": "IPY_MODEL_fcb517860d194984b7ab48b97aa82ae2",
      "placeholder": "​",
      "style": "IPY_MODEL_5ca6ca51ef344b07ad60ab03577c6ffa",
      "value": " 489291776/? [01:47&lt;00:00, 4873979.34Byte/s]"
     }
    },
    "fcb517860d194984b7ab48b97aa82ae2": {
     "model_module": "@jupyter-widgets/base",
     "model_module_version": "1.2.0",
     "model_name": "LayoutModel",
     "state": {
      "_model_module": "@jupyter-widgets/base",
      "_model_module_version": "1.2.0",
      "_model_name": "LayoutModel",
      "_view_count": null,
      "_view_module": "@jupyter-widgets/base",
      "_view_module_version": "1.2.0",
      "_view_name": "LayoutView",
      "align_content": null,
      "align_items": null,
      "align_self": null,
      "border": null,
      "bottom": null,
      "display": null,
      "flex": null,
      "flex_flow": null,
      "grid_area": null,
      "grid_auto_columns": null,
      "grid_auto_flow": null,
      "grid_auto_rows": null,
      "grid_column": null,
      "grid_gap": null,
      "grid_row": null,
      "grid_template_areas": null,
      "grid_template_columns": null,
      "grid_template_rows": null,
      "height": null,
      "justify_content": null,
      "justify_items": null,
      "left": null,
      "margin": null,
      "max_height": null,
      "max_width": null,
      "min_height": null,
      "min_width": null,
      "object_fit": null,
      "object_position": null,
      "order": null,
      "overflow": null,
      "overflow_x": null,
      "overflow_y": null,
      "padding": null,
      "right": null,
      "top": null,
      "visibility": null,
      "width": null
     }
    }
   }
  }
 },
 "nbformat": 4,
 "nbformat_minor": 5
}
