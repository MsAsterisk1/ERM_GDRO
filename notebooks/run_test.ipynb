{
 "cells": [
  {
   "cell_type": "code",
   "execution_count": 1,
   "id": "f3e227b8",
   "metadata": {
    "id": "f3e227b8"
   },
   "outputs": [],
   "source": [
    "%load_ext autoreload\n",
    "%autoreload 2"
   ]
  },
  {
   "cell_type": "code",
   "execution_count": 2,
   "id": "3261d496",
   "metadata": {
    "colab": {
     "base_uri": "https://localhost:8080/"
    },
    "id": "3261d496",
    "outputId": "9206134a-1091-4601-e9cb-c2253cfeb2cf"
   },
   "outputs": [
    {
     "name": "stdout",
     "output_type": "stream",
     "text": [
      "C:\\Users\\efurst1\\PycharmProjects\\LIDC_GDRO\n"
     ]
    }
   ],
   "source": [
    "# For use on local machine\n",
    "%cd .."
   ]
  },
  {
   "cell_type": "code",
   "execution_count": 2,
   "id": "5KmIQPaa0vb3",
   "metadata": {
    "colab": {
     "base_uri": "https://localhost:8080/"
    },
    "id": "5KmIQPaa0vb3",
    "outputId": "57d5c383-e059-4d1e-f932-964e5d0f6c5b"
   },
   "outputs": [
    {
     "name": "stdout",
     "output_type": "stream",
     "text": [
      "Cloning into 'LIDC_GDRO'...\n",
      "remote: Enumerating objects: 4523, done.\u001b[K\n",
      "remote: Counting objects: 100% (1095/1095), done.\u001b[K\n",
      "remote: Compressing objects: 100% (532/532), done.\u001b[K\n",
      "remote: Total 4523 (delta 604), reused 1047 (delta 560), pack-reused 3428\u001b[K\n",
      "Receiving objects: 100% (4523/4523), 141.92 MiB | 15.55 MiB/s, done.\n",
      "Resolving deltas: 100% (3752/3752), done.\n",
      "Checking out files: 100% (5464/5464), done.\n",
      "/content/LIDC_GDRO\n"
     ]
    }
   ],
   "source": [
    "# For use in google colab\n",
    "!git clone https://github.com/mtzig/LIDC_GDRO.git\n",
    "%cd LIDC_GDRO/"
   ]
  },
  {
   "cell_type": "code",
   "execution_count": 22,
   "id": "78LzL1-VF5AD",
   "metadata": {
    "colab": {
     "base_uri": "https://localhost:8080/"
    },
    "id": "78LzL1-VF5AD",
    "outputId": "acd7da65-aa76-4f77-d8e0-2a07ed6747e8"
   },
   "outputs": [
    {
     "name": "stdout",
     "output_type": "stream",
     "text": [
      "remote: Enumerating objects: 19, done.\u001b[K\n",
      "remote: Counting objects:   5% (1/19)\u001b[K\r",
      "remote: Counting objects:  10% (2/19)\u001b[K\r",
      "remote: Counting objects:  15% (3/19)\u001b[K\r",
      "remote: Counting objects:  21% (4/19)\u001b[K\r",
      "remote: Counting objects:  26% (5/19)\u001b[K\r",
      "remote: Counting objects:  31% (6/19)\u001b[K\r",
      "remote: Counting objects:  36% (7/19)\u001b[K\r",
      "remote: Counting objects:  42% (8/19)\u001b[K\r",
      "remote: Counting objects:  47% (9/19)\u001b[K\r",
      "remote: Counting objects:  52% (10/19)\u001b[K\r",
      "remote: Counting objects:  57% (11/19)\u001b[K\r",
      "remote: Counting objects:  63% (12/19)\u001b[K\r",
      "remote: Counting objects:  68% (13/19)\u001b[K\r",
      "remote: Counting objects:  73% (14/19)\u001b[K\r",
      "remote: Counting objects:  78% (15/19)\u001b[K\r",
      "remote: Counting objects:  84% (16/19)\u001b[K\r",
      "remote: Counting objects:  89% (17/19)\u001b[K\r",
      "remote: Counting objects:  94% (18/19)\u001b[K\r",
      "remote: Counting objects: 100% (19/19)\u001b[K\r",
      "remote: Counting objects: 100% (19/19), done.\u001b[K\n",
      "remote: Compressing objects:  12% (1/8)\u001b[K\r",
      "remote: Compressing objects:  25% (2/8)\u001b[K\r",
      "remote: Compressing objects:  37% (3/8)\u001b[K\r",
      "remote: Compressing objects:  50% (4/8)\u001b[K\r",
      "remote: Compressing objects:  62% (5/8)\u001b[K\r",
      "remote: Compressing objects:  75% (6/8)\u001b[K\r",
      "remote: Compressing objects:  87% (7/8)\u001b[K\r",
      "remote: Compressing objects: 100% (8/8)\u001b[K\r",
      "remote: Compressing objects: 100% (8/8), done.\u001b[K\n",
      "remote: Total 15 (delta 9), reused 13 (delta 7), pack-reused 0\u001b[K\n",
      "Unpacking objects:   6% (1/15)   \r",
      "Unpacking objects:  13% (2/15)   \r",
      "Unpacking objects:  20% (3/15)   \r",
      "Unpacking objects:  26% (4/15)   \r",
      "Unpacking objects:  33% (5/15)   \r",
      "Unpacking objects:  40% (6/15)   \r",
      "Unpacking objects:  46% (7/15)   \r",
      "Unpacking objects:  53% (8/15)   \r",
      "Unpacking objects:  60% (9/15)   \r",
      "Unpacking objects:  66% (10/15)   \r",
      "Unpacking objects:  73% (11/15)   \r",
      "Unpacking objects:  80% (12/15)   \r",
      "Unpacking objects:  86% (13/15)   \r",
      "Unpacking objects:  93% (14/15)   \r",
      "Unpacking objects: 100% (15/15)   \r",
      "Unpacking objects: 100% (15/15), done.\n",
      "From https://github.com/mtzig/LIDC_GDRO\n",
      "   fb7848c..9ced8e8  main       -> origin/main\n",
      "Updating fb7848c..9ced8e8\n",
      "Fast-forward\n",
      " utils/cluster_utils.py    | 29 \u001b[32m+++++++++++++++++++++++++++++\u001b[m\n",
      " utils/image_data_utils.py |  2 \u001b[32m+\u001b[m\u001b[31m-\u001b[m\n",
      " 2 files changed, 30 insertions(+), 1 deletion(-)\n"
     ]
    }
   ],
   "source": [
    "!git pull"
   ]
  },
  {
   "cell_type": "code",
   "execution_count": 4,
   "id": "TAuuvi9ABVEI",
   "metadata": {
    "colab": {
     "base_uri": "https://localhost:8080/"
    },
    "id": "TAuuvi9ABVEI",
    "outputId": "099b0332-448a-4b1c-ebbc-b188145a0416"
   },
   "outputs": [
    {
     "name": "stdout",
     "output_type": "stream",
     "text": [
      "* \u001b[32mmain\u001b[m\n"
     ]
    }
   ],
   "source": [
    "!git branch"
   ]
  },
  {
   "cell_type": "code",
   "execution_count": 3,
   "id": "699eb945",
   "metadata": {
    "id": "699eb945"
   },
   "outputs": [],
   "source": [
    "from utils import data_utils, image_data_utils\n",
    "import datasets\n",
    "import dataloaders\n",
    "import models\n",
    "import torch\n",
    "import loss\n",
    "import train_eval\n",
    "import pandas as pd\n",
    "import numpy as np\n",
    "import torchvision\n",
    "from torch.optim.lr_scheduler import ReduceLROnPlateau"
   ]
  },
  {
   "cell_type": "code",
   "execution_count": 4,
   "id": "03fab424",
   "metadata": {
    "colab": {
     "base_uri": "https://localhost:8080/"
    },
    "id": "03fab424",
    "outputId": "e1c1c1ab-80c6-45e0-b148-fbe9def3d99a"
   },
   "outputs": [
    {
     "name": "stdout",
     "output_type": "stream",
     "text": [
      "Using device cpu\n"
     ]
    }
   ],
   "source": [
    "device = \"cuda\" if torch.cuda.is_available() else \"cpu\"\n",
    "\n",
    "batch_size = 128\n",
    "\n",
    "hparams = {\"eta\": 0.01, \"gamma\": 1.5}\n",
    "lr = 0.0005\n",
    "weight_decay = 0.005\n",
    "\n",
    "# model_class = models.NeuralNetwork\n",
    "# model_args = (512, 64, 36, 2)\n",
    "\n",
    "model_class = models.TransferModel18\n",
    "model_args = (True, False, True, device)\n",
    "\n",
    "\n",
    "print(f'Using device {device}')"
   ]
  },
  {
   "cell_type": "markdown",
   "id": "4ee83861",
   "metadata": {
    "id": "4ee83861"
   },
   "source": [
    "# Load and process data"
   ]
  },
  {
   "cell_type": "markdown",
   "id": "80b81d85",
   "metadata": {
    "id": "80b81d85"
   },
   "source": [
    "## LIDC"
   ]
  },
  {
   "cell_type": "code",
   "execution_count": null,
   "id": "c34b7da7",
   "metadata": {
    "colab": {
     "base_uri": "https://localhost:8080/",
     "height": 488
    },
    "id": "c34b7da7",
    "outputId": "62d9c21b-5bac-49e6-ccd7-cbb29cce471c"
   },
   "outputs": [
    {
     "data": {
      "text/html": [
       "<div>\n",
       "<style scoped>\n",
       "    .dataframe tbody tr th:only-of-type {\n",
       "        vertical-align: middle;\n",
       "    }\n",
       "\n",
       "    .dataframe tbody tr th {\n",
       "        vertical-align: top;\n",
       "    }\n",
       "\n",
       "    .dataframe thead th {\n",
       "        text-align: right;\n",
       "    }\n",
       "</style>\n",
       "<table border=\"1\" class=\"dataframe\">\n",
       "  <thead>\n",
       "    <tr style=\"text-align: right;\">\n",
       "      <th></th>\n",
       "      <th>noduleID</th>\n",
       "      <th>Area</th>\n",
       "      <th>ConvexArea</th>\n",
       "      <th>Perimeter</th>\n",
       "      <th>ConvexPerimeter</th>\n",
       "      <th>EquivDiameter</th>\n",
       "      <th>MajorAxisLength</th>\n",
       "      <th>MinorAxisLength</th>\n",
       "      <th>Elongation</th>\n",
       "      <th>Compactness</th>\n",
       "      <th>...</th>\n",
       "      <th>Energy</th>\n",
       "      <th>Homogeneity</th>\n",
       "      <th>Entropy</th>\n",
       "      <th>x_3rdordermoment</th>\n",
       "      <th>Inversevariance</th>\n",
       "      <th>Sumaverage</th>\n",
       "      <th>Variance</th>\n",
       "      <th>Clustertendency</th>\n",
       "      <th>malignancy</th>\n",
       "      <th>subclass</th>\n",
       "    </tr>\n",
       "  </thead>\n",
       "  <tbody>\n",
       "    <tr>\n",
       "      <th>0</th>\n",
       "      <td>1</td>\n",
       "      <td>2.858687</td>\n",
       "      <td>2.860629</td>\n",
       "      <td>2.688148</td>\n",
       "      <td>2.516192</td>\n",
       "      <td>2.529142</td>\n",
       "      <td>2.152152</td>\n",
       "      <td>2.813053</td>\n",
       "      <td>-0.566245</td>\n",
       "      <td>1.320561</td>\n",
       "      <td>...</td>\n",
       "      <td>-0.963124</td>\n",
       "      <td>1.215927</td>\n",
       "      <td>1.947525</td>\n",
       "      <td>-0.236002</td>\n",
       "      <td>1.126182</td>\n",
       "      <td>0.600376</td>\n",
       "      <td>-0.063268</td>\n",
       "      <td>0.050018</td>\n",
       "      <td>1</td>\n",
       "      <td>2.0</td>\n",
       "    </tr>\n",
       "    <tr>\n",
       "      <th>1</th>\n",
       "      <td>2</td>\n",
       "      <td>2.269679</td>\n",
       "      <td>1.917109</td>\n",
       "      <td>1.552253</td>\n",
       "      <td>1.954211</td>\n",
       "      <td>2.172407</td>\n",
       "      <td>2.083068</td>\n",
       "      <td>1.908277</td>\n",
       "      <td>0.372004</td>\n",
       "      <td>-0.174280</td>\n",
       "      <td>...</td>\n",
       "      <td>-0.927742</td>\n",
       "      <td>1.430238</td>\n",
       "      <td>1.621591</td>\n",
       "      <td>-0.058623</td>\n",
       "      <td>1.103481</td>\n",
       "      <td>-1.146938</td>\n",
       "      <td>-0.645093</td>\n",
       "      <td>-0.643952</td>\n",
       "      <td>1</td>\n",
       "      <td>1.0</td>\n",
       "    </tr>\n",
       "    <tr>\n",
       "      <th>2</th>\n",
       "      <td>3</td>\n",
       "      <td>2.313185</td>\n",
       "      <td>2.229738</td>\n",
       "      <td>2.190760</td>\n",
       "      <td>2.041805</td>\n",
       "      <td>2.199868</td>\n",
       "      <td>1.874439</td>\n",
       "      <td>2.186214</td>\n",
       "      <td>-0.255019</td>\n",
       "      <td>0.950395</td>\n",
       "      <td>...</td>\n",
       "      <td>-0.945433</td>\n",
       "      <td>1.460853</td>\n",
       "      <td>1.847238</td>\n",
       "      <td>-0.246037</td>\n",
       "      <td>1.398599</td>\n",
       "      <td>-0.467185</td>\n",
       "      <td>-0.232066</td>\n",
       "      <td>-0.147096</td>\n",
       "      <td>1</td>\n",
       "      <td>2.0</td>\n",
       "    </tr>\n",
       "    <tr>\n",
       "      <th>3</th>\n",
       "      <td>4</td>\n",
       "      <td>-0.263723</td>\n",
       "      <td>-0.291010</td>\n",
       "      <td>-0.148363</td>\n",
       "      <td>-0.108683</td>\n",
       "      <td>-0.089644</td>\n",
       "      <td>-0.011315</td>\n",
       "      <td>-0.234322</td>\n",
       "      <td>0.710524</td>\n",
       "      <td>-0.132838</td>\n",
       "      <td>...</td>\n",
       "      <td>-0.538540</td>\n",
       "      <td>-0.131171</td>\n",
       "      <td>0.175778</td>\n",
       "      <td>-0.267807</td>\n",
       "      <td>-0.190498</td>\n",
       "      <td>-0.449756</td>\n",
       "      <td>-0.296948</td>\n",
       "      <td>-0.288822</td>\n",
       "      <td>1</td>\n",
       "      <td>1.0</td>\n",
       "    </tr>\n",
       "    <tr>\n",
       "      <th>4</th>\n",
       "      <td>5</td>\n",
       "      <td>0.020741</td>\n",
       "      <td>-0.054425</td>\n",
       "      <td>0.028349</td>\n",
       "      <td>0.150845</td>\n",
       "      <td>0.295177</td>\n",
       "      <td>0.006211</td>\n",
       "      <td>0.487526</td>\n",
       "      <td>-1.035506</td>\n",
       "      <td>-0.496377</td>\n",
       "      <td>...</td>\n",
       "      <td>-0.697759</td>\n",
       "      <td>2.636502</td>\n",
       "      <td>0.510070</td>\n",
       "      <td>-0.103826</td>\n",
       "      <td>3.044449</td>\n",
       "      <td>0.182066</td>\n",
       "      <td>-0.094918</td>\n",
       "      <td>-0.029805</td>\n",
       "      <td>1</td>\n",
       "      <td>1.0</td>\n",
       "    </tr>\n",
       "    <tr>\n",
       "      <th>...</th>\n",
       "      <td>...</td>\n",
       "      <td>...</td>\n",
       "      <td>...</td>\n",
       "      <td>...</td>\n",
       "      <td>...</td>\n",
       "      <td>...</td>\n",
       "      <td>...</td>\n",
       "      <td>...</td>\n",
       "      <td>...</td>\n",
       "      <td>...</td>\n",
       "      <td>...</td>\n",
       "      <td>...</td>\n",
       "      <td>...</td>\n",
       "      <td>...</td>\n",
       "      <td>...</td>\n",
       "      <td>...</td>\n",
       "      <td>...</td>\n",
       "      <td>...</td>\n",
       "      <td>...</td>\n",
       "      <td>...</td>\n",
       "      <td>...</td>\n",
       "    </tr>\n",
       "    <tr>\n",
       "      <th>2682</th>\n",
       "      <td>2687</td>\n",
       "      <td>-0.240296</td>\n",
       "      <td>-0.257212</td>\n",
       "      <td>-0.100039</td>\n",
       "      <td>-0.083864</td>\n",
       "      <td>-0.054589</td>\n",
       "      <td>0.003926</td>\n",
       "      <td>-0.153305</td>\n",
       "      <td>0.475334</td>\n",
       "      <td>-0.047636</td>\n",
       "      <td>...</td>\n",
       "      <td>-0.538540</td>\n",
       "      <td>1.154695</td>\n",
       "      <td>0.192493</td>\n",
       "      <td>-0.247935</td>\n",
       "      <td>1.080780</td>\n",
       "      <td>-1.299447</td>\n",
       "      <td>-0.640346</td>\n",
       "      <td>-0.630920</td>\n",
       "      <td>1</td>\n",
       "      <td>1.0</td>\n",
       "    </tr>\n",
       "    <tr>\n",
       "      <th>2683</th>\n",
       "      <td>2688</td>\n",
       "      <td>-0.611773</td>\n",
       "      <td>-0.589556</td>\n",
       "      <td>-0.677492</td>\n",
       "      <td>-0.727535</td>\n",
       "      <td>-0.749732</td>\n",
       "      <td>-0.699862</td>\n",
       "      <td>-0.750687</td>\n",
       "      <td>0.057965</td>\n",
       "      <td>-0.302033</td>\n",
       "      <td>...</td>\n",
       "      <td>0.505227</td>\n",
       "      <td>-0.841459</td>\n",
       "      <td>-0.810383</td>\n",
       "      <td>0.107726</td>\n",
       "      <td>-1.075852</td>\n",
       "      <td>-0.253673</td>\n",
       "      <td>-0.268991</td>\n",
       "      <td>-0.306741</td>\n",
       "      <td>0</td>\n",
       "      <td>0.0</td>\n",
       "    </tr>\n",
       "    <tr>\n",
       "      <th>2684</th>\n",
       "      <td>2689</td>\n",
       "      <td>-0.601733</td>\n",
       "      <td>-0.589556</td>\n",
       "      <td>-0.665766</td>\n",
       "      <td>-0.722959</td>\n",
       "      <td>-0.724538</td>\n",
       "      <td>-0.776367</td>\n",
       "      <td>-0.636464</td>\n",
       "      <td>-0.813931</td>\n",
       "      <td>-0.344997</td>\n",
       "      <td>...</td>\n",
       "      <td>0.346008</td>\n",
       "      <td>0.181111</td>\n",
       "      <td>-0.710095</td>\n",
       "      <td>-0.272345</td>\n",
       "      <td>-0.383460</td>\n",
       "      <td>-1.321234</td>\n",
       "      <td>-0.724218</td>\n",
       "      <td>-0.753098</td>\n",
       "      <td>0</td>\n",
       "      <td>0.0</td>\n",
       "    </tr>\n",
       "    <tr>\n",
       "      <th>2685</th>\n",
       "      <td>2690</td>\n",
       "      <td>0.368791</td>\n",
       "      <td>0.300451</td>\n",
       "      <td>0.443243</td>\n",
       "      <td>0.588025</td>\n",
       "      <td>0.683606</td>\n",
       "      <td>0.488672</td>\n",
       "      <td>0.810378</td>\n",
       "      <td>-0.554397</td>\n",
       "      <td>-0.128012</td>\n",
       "      <td>...</td>\n",
       "      <td>-0.803905</td>\n",
       "      <td>1.093463</td>\n",
       "      <td>0.869434</td>\n",
       "      <td>-0.119738</td>\n",
       "      <td>0.989974</td>\n",
       "      <td>0.731098</td>\n",
       "      <td>-0.221516</td>\n",
       "      <td>-0.153612</td>\n",
       "      <td>1</td>\n",
       "      <td>1.0</td>\n",
       "    </tr>\n",
       "    <tr>\n",
       "      <th>2686</th>\n",
       "      <td>2691</td>\n",
       "      <td>-0.548187</td>\n",
       "      <td>-0.547309</td>\n",
       "      <td>-0.592570</td>\n",
       "      <td>-0.605445</td>\n",
       "      <td>-0.599703</td>\n",
       "      <td>-0.690597</td>\n",
       "      <td>-0.476771</td>\n",
       "      <td>-0.973798</td>\n",
       "      <td>-0.443380</td>\n",
       "      <td>...</td>\n",
       "      <td>0.505227</td>\n",
       "      <td>-0.174033</td>\n",
       "      <td>-0.810383</td>\n",
       "      <td>-0.095690</td>\n",
       "      <td>-0.723980</td>\n",
       "      <td>-0.314676</td>\n",
       "      <td>-0.510583</td>\n",
       "      <td>-0.502226</td>\n",
       "      <td>0</td>\n",
       "      <td>0.0</td>\n",
       "    </tr>\n",
       "  </tbody>\n",
       "</table>\n",
       "<p>1488 rows × 67 columns</p>\n",
       "</div>"
      ],
      "text/plain": [
       "      noduleID      Area  ConvexArea  Perimeter  ConvexPerimeter  \\\n",
       "0            1  2.858687    2.860629   2.688148         2.516192   \n",
       "1            2  2.269679    1.917109   1.552253         1.954211   \n",
       "2            3  2.313185    2.229738   2.190760         2.041805   \n",
       "3            4 -0.263723   -0.291010  -0.148363        -0.108683   \n",
       "4            5  0.020741   -0.054425   0.028349         0.150845   \n",
       "...        ...       ...         ...        ...              ...   \n",
       "2682      2687 -0.240296   -0.257212  -0.100039        -0.083864   \n",
       "2683      2688 -0.611773   -0.589556  -0.677492        -0.727535   \n",
       "2684      2689 -0.601733   -0.589556  -0.665766        -0.722959   \n",
       "2685      2690  0.368791    0.300451   0.443243         0.588025   \n",
       "2686      2691 -0.548187   -0.547309  -0.592570        -0.605445   \n",
       "\n",
       "      EquivDiameter  MajorAxisLength  MinorAxisLength  Elongation  \\\n",
       "0          2.529142         2.152152         2.813053   -0.566245   \n",
       "1          2.172407         2.083068         1.908277    0.372004   \n",
       "2          2.199868         1.874439         2.186214   -0.255019   \n",
       "3         -0.089644        -0.011315        -0.234322    0.710524   \n",
       "4          0.295177         0.006211         0.487526   -1.035506   \n",
       "...             ...              ...              ...         ...   \n",
       "2682      -0.054589         0.003926        -0.153305    0.475334   \n",
       "2683      -0.749732        -0.699862        -0.750687    0.057965   \n",
       "2684      -0.724538        -0.776367        -0.636464   -0.813931   \n",
       "2685       0.683606         0.488672         0.810378   -0.554397   \n",
       "2686      -0.599703        -0.690597        -0.476771   -0.973798   \n",
       "\n",
       "      Compactness  ...    Energy  Homogeneity   Entropy  x_3rdordermoment  \\\n",
       "0        1.320561  ... -0.963124     1.215927  1.947525         -0.236002   \n",
       "1       -0.174280  ... -0.927742     1.430238  1.621591         -0.058623   \n",
       "2        0.950395  ... -0.945433     1.460853  1.847238         -0.246037   \n",
       "3       -0.132838  ... -0.538540    -0.131171  0.175778         -0.267807   \n",
       "4       -0.496377  ... -0.697759     2.636502  0.510070         -0.103826   \n",
       "...           ...  ...       ...          ...       ...               ...   \n",
       "2682    -0.047636  ... -0.538540     1.154695  0.192493         -0.247935   \n",
       "2683    -0.302033  ...  0.505227    -0.841459 -0.810383          0.107726   \n",
       "2684    -0.344997  ...  0.346008     0.181111 -0.710095         -0.272345   \n",
       "2685    -0.128012  ... -0.803905     1.093463  0.869434         -0.119738   \n",
       "2686    -0.443380  ...  0.505227    -0.174033 -0.810383         -0.095690   \n",
       "\n",
       "      Inversevariance  Sumaverage  Variance  Clustertendency  malignancy  \\\n",
       "0            1.126182    0.600376 -0.063268         0.050018           1   \n",
       "1            1.103481   -1.146938 -0.645093        -0.643952           1   \n",
       "2            1.398599   -0.467185 -0.232066        -0.147096           1   \n",
       "3           -0.190498   -0.449756 -0.296948        -0.288822           1   \n",
       "4            3.044449    0.182066 -0.094918        -0.029805           1   \n",
       "...               ...         ...       ...              ...         ...   \n",
       "2682         1.080780   -1.299447 -0.640346        -0.630920           1   \n",
       "2683        -1.075852   -0.253673 -0.268991        -0.306741           0   \n",
       "2684        -0.383460   -1.321234 -0.724218        -0.753098           0   \n",
       "2685         0.989974    0.731098 -0.221516        -0.153612           1   \n",
       "2686        -0.723980   -0.314676 -0.510583        -0.502226           0   \n",
       "\n",
       "      subclass  \n",
       "0          2.0  \n",
       "1          1.0  \n",
       "2          2.0  \n",
       "3          1.0  \n",
       "4          1.0  \n",
       "...        ...  \n",
       "2682       1.0  \n",
       "2683       0.0  \n",
       "2684       0.0  \n",
       "2685       1.0  \n",
       "2686       0.0  \n",
       "\n",
       "[1488 rows x 67 columns]"
      ]
     },
     "execution_count": 277,
     "metadata": {},
     "output_type": "execute_result"
    }
   ],
   "source": [
    "# get LIDC data\n",
    "\n",
    "df = data_utils.preprocess_data(\n",
    "    *data_utils.load_lidc(\n",
    "        data_root='data/',\n",
    "        feature_path='LIDC_20130817_AllFeatures2D_MaxSlicePerNodule_inLineRatings.csv',\n",
    "        subclass_path='subclass_labels/mode_label.csv'),#'train_test_splits/LIDC_data_split.csv'),\n",
    "    subclass_column='cluster')\n",
    "df"
   ]
  },
  {
   "cell_type": "code",
   "execution_count": null,
   "id": "215c018f",
   "metadata": {
    "id": "215c018f"
   },
   "outputs": [],
   "source": [
    "# get train/test flags\n",
    "train_split = pd.read_csv(\"data/train_test_splits/LIDC_data_split.csv\")\n",
    "\n",
    "# create train/test dataframes\n",
    "train_df = df[df[\"noduleID\"].isin(train_split[train_split[\"split\"] == 0][\"noduleID\"].values)]\n",
    "val_df = df[df[\"noduleID\"].isin(train_split[train_split[\"split\"] == 1][\"noduleID\"].values)]\n",
    "test_df = df[df[\"noduleID\"].isin(train_split[train_split[\"split\"] == 2][\"noduleID\"].values)]"
   ]
  },
  {
   "cell_type": "code",
   "execution_count": null,
   "id": "baefd71f",
   "metadata": {
    "id": "baefd71f"
   },
   "outputs": [],
   "source": [
    "train_dataloader = data_utils.create_dataloader(train_df, batch_size)\n",
    "val_dataloader = data_utils.create_dataloader(val_df, len(val_df))\n",
    "test_dataloader = data_utils.create_dataloader(test_df, len(test_df))"
   ]
  },
  {
   "cell_type": "markdown",
   "id": "7660cecf",
   "metadata": {
    "id": "7660cecf"
   },
   "source": [
    "## LIDC CNN features"
   ]
  },
  {
   "cell_type": "code",
   "execution_count": 8,
   "id": "5427084c",
   "metadata": {
    "id": "5427084c"
   },
   "outputs": [],
   "source": [
    "cnn_train, cnn_val, cnn_test = image_data_utils.get_features()"
   ]
  },
  {
   "cell_type": "code",
   "execution_count": 9,
   "id": "5550f4a7",
   "metadata": {
    "id": "5550f4a7"
   },
   "outputs": [],
   "source": [
    "train_dataloader = data_utils.create_dataloader(cnn_train, batch_size=batch_size, is_dataframe=False)\n",
    "val_dataloader = data_utils.create_dataloader(cnn_val, batch_size=batch_size, is_dataframe=False)\n",
    "test_dataloader = data_utils.create_dataloader(cnn_test, batch_size=batch_size, is_dataframe=False)"
   ]
  },
  {
   "cell_type": "markdown",
   "id": "ZWxu2eCu5gK0",
   "metadata": {
    "id": "ZWxu2eCu5gK0"
   },
   "source": [
    "# LIDC Images"
   ]
  },
  {
   "cell_type": "code",
   "execution_count": 77,
   "id": "VucdIyZL5eOi",
   "metadata": {
    "id": "VucdIyZL5eOi"
   },
   "outputs": [],
   "source": [
    "img_train, img_val, img_test = image_data_utils.get_features(subclass='spic_groups', images=True, device=device, subclass_file='data/train_test_splits/LIDC_data_split.csv')\n",
    "train_dataloader = data_utils.create_dataloader(img_train, batch_size=batch_size, is_dataframe=False)\n",
    "val_dataloader = data_utils.create_dataloader(img_val, batch_size=batch_size, is_dataframe=False)\n",
    "test_dataloader = data_utils.create_dataloader(img_test, batch_size=batch_size, is_dataframe=False)"
   ]
  },
  {
   "cell_type": "markdown",
   "id": "46f66e99",
   "metadata": {
    "id": "46f66e99"
   },
   "source": [
    "## Waterbirds"
   ]
  },
  {
   "cell_type": "code",
   "execution_count": null,
   "id": "uuxjOKFl5Nel",
   "metadata": {
    "id": "uuxjOKFl5Nel"
   },
   "outputs": [],
   "source": [
    "# download waterbirds through wilds\n",
    "\n",
    "!pip install wilds\n",
    "from wilds import get_dataset\n",
    "\n",
    "get_dataset(dataset=\"waterbirds\", download=True)"
   ]
  },
  {
   "cell_type": "code",
   "execution_count": null,
   "id": "5f4ac03c",
   "metadata": {
    "id": "5f4ac03c"
   },
   "outputs": [],
   "source": [
    "from PIL import Image"
   ]
  },
  {
   "cell_type": "code",
   "execution_count": null,
   "id": "cbbb108e",
   "metadata": {
    "id": "cbbb108e"
   },
   "outputs": [],
   "source": [
    "metadata_df = pd.read_csv('data/waterbirds_v1.0/metadata.csv')"
   ]
  },
  {
   "cell_type": "code",
   "execution_count": null,
   "id": "6c0e29fe",
   "metadata": {
    "id": "6c0e29fe"
   },
   "outputs": [],
   "source": [
    "convert_resize = torchvision.transforms.Compose([torchvision.transforms.ToTensor(), torchvision.transforms.Resize((200, 200), antialias=True)])\n",
    "\n",
    "train_df, val_df, test_df = [metadata_df[metadata_df['split'] == split] for split in [0, 1, 2]]\n",
    "\n",
    "dataset_list = []\n",
    "\n",
    "# If GPU memory is limited, images can be loaded as they are required\n",
    "# This is much slower but may be necessary\n",
    "# If false, all images are loaded up-front, which is also slow but only happens once\n",
    "on_demand = False\n",
    "\n",
    "for df in [train_df, val_df, test_df]:\n",
    "    if on_demand:\n",
    "        dataset_list.append(datasets.OnDemandImageDataset(df, 'data/waterbirds_v1.0/', transform=convert_resize, device=device))\n",
    "    else:\n",
    "        img_tensors = []\n",
    "        for i in range(len(df.index)):\n",
    "            img_path = metadata_df.iloc[i, 1]\n",
    "            img_tensors.append(convert_resize(Image.open('data/waterbirds_v1.0/' + img_path)).squeeze().to(device))\n",
    "        features = torch.stack(img_tensors)\n",
    "        labels = torch.LongTensor([metadata_df.iloc[:, 2]]).squeeze().to(device)\n",
    "        subclasses = torch.LongTensor([2 * metadata_df.iloc[:, 2] + metadata_df.iloc[:, 4]]).squeeze().to(device)\n",
    "\n",
    "        dataset_list.append(datasets.SubclassedDataset(features, labels, subclasses))"
   ]
  },
  {
   "cell_type": "code",
   "execution_count": null,
   "id": "LpHSlphyRC-Z",
   "metadata": {
    "id": "LpHSlphyRC-Z"
   },
   "outputs": [],
   "source": [
    "# smaller dataloaders for prototyping\n",
    "train_dataloader, val_dataloader, test_dataloader = [dataloaders.InfiniteDataLoader(torch.utils.data.Subset(dataset, range(0, len(dataset), 2)), batch_size=batch_size) for dataset in dataset_list]"
   ]
  },
  {
   "cell_type": "code",
   "execution_count": null,
   "id": "91cb9160",
   "metadata": {
    "id": "91cb9160"
   },
   "outputs": [],
   "source": [
    "# full size dataloaders\n",
    "train_dataloader, val_dataloader, test_dataloader = [dataloaders.InfiniteDataLoader(dataset, batch_size=batch_size) for dataset in dataset_list]"
   ]
  },
  {
   "cell_type": "markdown",
   "id": "c71e542c",
   "metadata": {
    "id": "c71e542c"
   },
   "source": [
    "\n",
    "# Test convergence of combinations of ERM and GDRO"
   ]
  },
  {
   "cell_type": "code",
   "execution_count": 78,
   "id": "IEeBRPdddJjd",
   "metadata": {
    "id": "IEeBRPdddJjd"
   },
   "outputs": [],
   "source": [
    "N = 100\n",
    "epochs = 20\n",
    "subtypes = [\"Overall\", \"Unspiculated benign\", \"Spiculated benign\", \"Spiculated malignant\", \"Unspiculated malignant\"]\n",
    "# subtypes = [\"Overall\", \"Land on land\", \"Land on water\", \"Water on land\", \"Water on water\"]\n",
    "# subtypes = [\"Overall\", \"Likely Benign\", \"Somewhat Benign\", \"Somewhat Malignant\", \"Likely Malignant\"]\n",
    "\n",
    "# test_algorithms = [\"ERM\", \"GDRO\", \"Sharp\", \"Smooth\", \"ReverseSmooth\", \"Dynamic\", \"ExtraERM\", \"ExtraGDRO\", \"Halfway\"]\n",
    "# test_algorithms = [\"Mix\" + str(t) for t in [0.4, 0.5, 0.6, 0.7, 0.8]]\n",
    "# test_algorithms = [\"ERM\", \"GDRO\", *[\"Dynamic\" + str(t) for t in [0.01, 0.05, 0.1, 0.5]]]\n",
    "test_algorithms = [\"ERM\", \"GDRO\"]\n",
    "keep_old =        [False, False]\n",
    "\n",
    "record_roc_data = False"
   ]
  },
  {
   "cell_type": "code",
   "execution_count": null,
   "id": "3001211d",
   "metadata": {
    "colab": {
     "base_uri": "https://localhost:8080/"
    },
    "id": "3001211d",
    "outputId": "e0e53806-27b9-4e5c-dd81-dfca16a2c4b0",
    "scrolled": true
   },
   "outputs": [
    {
     "name": "stdout",
     "output_type": "stream",
     "text": [
      "Running test: ERM\n",
      "Trial 1/100\n"
     ]
    },
    {
     "name": "stderr",
     "output_type": "stream",
     "text": [
      "/usr/local/lib/python3.7/dist-packages/torchvision/models/_utils.py:209: UserWarning: The parameter 'pretrained' is deprecated since 0.13 and will be removed in 0.15, please use 'weights' instead.\n",
      "  f\"The parameter '{pretrained_param}' is deprecated since 0.13 and will be removed in 0.15, \"\n",
      "/usr/local/lib/python3.7/dist-packages/torchvision/models/_utils.py:223: UserWarning: Arguments other than a weight enum or `None` for 'weights' are deprecated since 0.13 and will be removed in 0.15. The current behavior is equivalent to passing `weights=ResNet18_Weights.IMAGENET1K_V1`. You can also use `weights=ResNet18_Weights.DEFAULT` to get the most up-to-date weights.\n",
      "  warnings.warn(msg)\n"
     ]
    },
    {
     "name": "stdout",
     "output_type": "stream",
     "text": [
      "Trial 2/100\n",
      "Trial 3/100\n",
      "Trial 4/100\n",
      "Trial 5/100\n",
      "Trial 6/100\n",
      "Trial 7/100\n",
      "Trial 8/100\n",
      "Trial 9/100\n",
      "Trial 10/100\n",
      "Trial 11/100\n",
      "Trial 12/100\n",
      "Trial 13/100\n",
      "Trial 14/100\n",
      "Trial 15/100\n",
      "Trial 16/100\n",
      "Trial 17/100\n",
      "Trial 18/100\n",
      "Trial 19/100\n",
      "Trial 20/100\n",
      "Trial 21/100\n",
      "Trial 22/100\n",
      "Trial 23/100\n",
      "Trial 24/100\n",
      "Trial 25/100\n",
      "Trial 26/100\n",
      "Trial 27/100\n",
      "Trial 28/100\n",
      "Trial 29/100\n",
      "Trial 30/100\n",
      "Trial 31/100\n",
      "Trial 32/100\n",
      "Trial 33/100\n",
      "Trial 34/100\n",
      "Trial 35/100\n",
      "Trial 36/100\n",
      "Trial 37/100\n",
      "Trial 38/100\n",
      "Trial 39/100\n",
      "Trial 40/100\n",
      "Trial 41/100\n",
      "Trial 42/100\n",
      "Trial 43/100\n",
      "Trial 44/100\n",
      "Trial 45/100\n",
      "Trial 46/100\n",
      "Trial 47/100\n",
      "Trial 48/100\n",
      "Trial 49/100\n",
      "Trial 50/100\n",
      "Trial 51/100\n",
      "Trial 52/100\n",
      "Trial 53/100\n",
      "Trial 54/100\n",
      "Trial 55/100\n",
      "Trial 56/100\n"
     ]
    }
   ],
   "source": [
    "if not sum(keep_old):\n",
    "    results = {}\n",
    "    if record_roc_data:\n",
    "        roc_data = {}  # For ROC curve\n",
    "\n",
    "for a in range(len(test_algorithms)):\n",
    "    algorithm = test_algorithms[a]\n",
    "\n",
    "    if keep_old[a] and algorithm in results:\n",
    "        print(f\"Keeping old results for {algorithm}\")\n",
    "    else:\n",
    "        print(f\"Running test: {algorithm}\")\n",
    "\n",
    "        results[algorithm] = np.zeros(N * epochs * len(subtypes))\n",
    "        if record_roc_data:\n",
    "            roc_data[algorithm] = [None, None]\n",
    "\n",
    "        for n in range(N):\n",
    "\n",
    "            print(f\"Trial {n + 1}/{N}\")\n",
    "\n",
    "            # create and train model\n",
    "            # model = models.NeuralNetwork(64, 32, 32, 2)\n",
    "            # model.to(device)\n",
    "            model = model_class(*model_args).to(device)\n",
    "\n",
    "            if (algorithm == \"ERM\"):\n",
    "                loss_fn = loss.ERMLoss(model, torch.nn.CrossEntropyLoss())\n",
    "            elif (algorithm == \"GDRO\"):\n",
    "                loss_fn = loss.GDROLoss(model, torch.nn.CrossEntropyLoss(), hparams[\"eta\"], len(subtypes) - 1, normalize_loss=False)\n",
    "            elif (algorithm == \"NormGDRO\"):\n",
    "                loss_fn = loss.GDROLoss(model, torch.nn.CrossEntropyLoss(), hparams[\"eta\"], len(subtypes) - 1, normalize_loss=True)\n",
    "            elif (algorithm.startswith(\"GDRO\")):\n",
    "                loss_fn = loss.GDROLoss(model, torch.nn.CrossEntropyLoss(), float(algorithm[len(\"GDRO\"):]), len(subtypes) - 1, normalize_loss=True)\n",
    "            elif (algorithm == \"Dynamic\"):\n",
    "                loss_fn = loss.DynamicLoss(model, torch.nn.CrossEntropyLoss(), hparams[\"eta\"], hparams[\"gamma\"], len(subtypes) - 1, norm_fn=torch.nn.Softmax(dim=0))\n",
    "            elif (algorithm.startswith(\"Dynamic\")):\n",
    "                loss_fn = loss.DynamicLoss(model, torch.nn.CrossEntropyLoss(), float(algorithm[len(\"Dynamic\"):]), hparams[\"gamma\"], len(subtypes) - 1)\n",
    "            elif (algorithm == \"Upweight\"):\n",
    "                loss_fn = loss.UpweightLoss(model, torch.nn.CrossEntropyLoss(), len(subtypes) - 1)\n",
    "            else:\n",
    "                loss_fn = loss.ERMGDROLoss(model, torch.nn.CrossEntropyLoss(), hparams, len(subtypes) - 1)\n",
    "            optimizer = torch.optim.Adam(model.parameters(), lr=lr, weight_decay=weight_decay)#, momentum=momentum)\n",
    "\n",
    "            # scheduler = ReduceLROnPlateau(optimizer, mode='max', factor=0.2, patience=2, verbose=True)\n",
    "            \n",
    "            for epoch in range(epochs):\n",
    "                # print(f'Epoch {epoch + 1} / {epochs}')\n",
    "\n",
    "                if algorithm == \"Sharp\":\n",
    "                    loss_fn.t = epoch / epochs < 0.5  # sharp boundary\n",
    "                elif algorithm == \"Smooth\":\n",
    "                    loss_fn.t = 1 - (epoch / (epochs - 1))  # linear interpolation\n",
    "                elif algorithm == \"ReverseSmooth\":\n",
    "                    loss_fn.t = epoch / (epochs - 1)  # reverse linear interpolation\n",
    "                elif algorithm == \"ExtraERM\":\n",
    "                    loss_fn.t = 2\n",
    "                elif algorithm == \"ExtraGDRO\":\n",
    "                    loss_fn.t = -1\n",
    "                elif algorithm == \"Halfway\":\n",
    "                    loss_fn.t = 0.5\n",
    "                elif algorithm.startswith(\"Mix\"):\n",
    "                    loss_fn.t = float(algorithm[3:])  # ex. algorithm == \"Mix0.5\" => t = 0.5\n",
    "\n",
    "                train_eval.train(train_dataloader, model, loss_fn, optimizer)\n",
    "                sensitivities = train_eval.evaluate(test_dataloader, model, num_subclasses=len(subtypes) - 1)\n",
    "                \n",
    "                # scheduler.step(train_eval.evaluate(val_dataloader, model, num_subclasses=len(subtypes) - 1)[0])\n",
    "\n",
    "                for i in range(len(subtypes)):\n",
    "                    results[algorithm][n * epochs * len(subtypes) + epoch * len(subtypes) + i] = sensitivities[i]\n",
    "            if record_roc_data:\n",
    "                with torch.no_grad():\n",
    "                    preds = model(torch.stack(test_dataloader.dataset.features))\n",
    "                    probabilities = torch.nn.functional.softmax(preds, dim=1)[:, 1]\n",
    "                    labels = test_dataloader.dataset.labels\n",
    "                    if roc_data[algorithm][0] == None:\n",
    "                        roc_data[algorithm][0] = probabilities\n",
    "                        roc_data[algorithm][1] = labels\n",
    "                    else:\n",
    "                        roc_data[algorithm][0] += probabilities\n",
    "        if record_roc_data:\n",
    "            roc_data[algorithm][0] /= N\n",
    "        \n",
    "print(\"Test complete\")\n",
    "\n",
    "results_df = pd.DataFrame(results, index=pd.MultiIndex.from_product([range(N), range(epochs), subtypes], names=[\"trial\", \"epoch\", \"subtype\"]))\n",
    "\n",
    "# Automatically save and download results from colab\n",
    "from datetime import datetime\n",
    "now = \"end_to_end_spic_groups\"#datetime.now().strftime(\"%Y%m%d_%H%M%S\")\n",
    "results_df.to_csv(f'results_{now}.csv')\n",
    "\n",
    "from google.colab import files\n",
    "files.download(f'results_{now}.csv') "
   ]
  },
  {
   "cell_type": "code",
   "execution_count": 72,
   "id": "YVvMXK9daGKP",
   "metadata": {
    "colab": {
     "base_uri": "https://localhost:8080/",
     "height": 17
    },
    "id": "YVvMXK9daGKP",
    "outputId": "4e7d7458-67fb-4a3e-aa71-f79ac1b0fdcf"
   },
   "outputs": [
    {
     "data": {
      "application/javascript": [
       "\n",
       "    async function download(id, filename, size) {\n",
       "      if (!google.colab.kernel.accessAllowed) {\n",
       "        return;\n",
       "      }\n",
       "      const div = document.createElement('div');\n",
       "      const label = document.createElement('label');\n",
       "      label.textContent = `Downloading \"${filename}\": `;\n",
       "      div.appendChild(label);\n",
       "      const progress = document.createElement('progress');\n",
       "      progress.max = size;\n",
       "      div.appendChild(progress);\n",
       "      document.body.appendChild(div);\n",
       "\n",
       "      const buffers = [];\n",
       "      let downloaded = 0;\n",
       "\n",
       "      const channel = await google.colab.kernel.comms.open(id);\n",
       "      // Send a message to notify the kernel that we're ready.\n",
       "      channel.send({})\n",
       "\n",
       "      for await (const message of channel.messages) {\n",
       "        // Send a message to notify the kernel that we're ready.\n",
       "        channel.send({})\n",
       "        if (message.buffers) {\n",
       "          for (const buffer of message.buffers) {\n",
       "            buffers.push(buffer);\n",
       "            downloaded += buffer.byteLength;\n",
       "            progress.value = downloaded;\n",
       "          }\n",
       "        }\n",
       "      }\n",
       "      const blob = new Blob(buffers, {type: 'application/binary'});\n",
       "      const a = document.createElement('a');\n",
       "      a.href = window.URL.createObjectURL(blob);\n",
       "      a.download = filename;\n",
       "      div.appendChild(a);\n",
       "      a.click();\n",
       "      div.remove();\n",
       "    }\n",
       "  "
      ],
      "text/plain": [
       "<IPython.core.display.Javascript object>"
      ]
     },
     "metadata": {},
     "output_type": "display_data"
    },
    {
     "data": {
      "application/javascript": [
       "download(\"download_66fa2dc5-6442-4751-97e1-b61ffdd48ec1\", \"results_20220726_184209.csv\", 213461)"
      ],
      "text/plain": [
       "<IPython.core.display.Javascript object>"
      ]
     },
     "metadata": {},
     "output_type": "display_data"
    }
   ],
   "source": [
    "from datetime import datetime\n",
    "now = datetime.now().strftime(\"%Y%m%d_%H%M%S\")\n",
    "results_df.to_csv(f'results_{now}.csv')\n",
    "\n",
    "from google.colab import files\n",
    "files.download(f'results_{now}.csv') "
   ]
  },
  {
   "cell_type": "markdown",
   "id": "92f6d8e1",
   "metadata": {
    "id": "92f6d8e1"
   },
   "source": [
    "# Results Visualization\n",
    "\n",
    "Data loading and plotting functions to visualize the results given by run.py  \n",
    "Put the path of the folder containing the results in load_dir and run the cells to see results"
   ]
  },
  {
   "cell_type": "code",
   "execution_count": 8,
   "id": "c1550ad5",
   "metadata": {
    "id": "c1550ad5"
   },
   "outputs": [],
   "source": [
    "import matplotlib.pyplot as plt\n",
    "load_root = 'test_results/'\n",
    "load_dirs = [\n",
    "    'LIDC_CNN_features_CNN_clusters_20220727_110802/',\n",
    "    'LIDC_CNN_features_mal_groups_20220722_112147/',\n",
    "    'LIDC_CNN_features_spic_groups_20220727_110422/',\n",
    "    'LIDC_designed_features_CNN_clusters_20220727_110110/',\n",
    "    'LIDC_designed_features_mal_groups_20220727_105545/',\n",
    "    'LIDC_designed_features_spic_groups_20220727_110025/',\n",
    "    'LIDC_E2E_cluster/',\n",
    "    'LIDC_E2E_mal_groups/',\n",
    "    'LIDC_E2E_spic_groups/'\n",
    "]"
   ]
  },
  {
   "cell_type": "markdown",
   "id": "1c73a452",
   "metadata": {
    "id": "1c73a452"
   },
   "source": [
    "## Plot overall accuracy, subclass sensitivites, and worst sensitivity per epoch"
   ]
  },
  {
   "cell_type": "code",
   "execution_count": 13,
   "id": "b3ace5d7",
   "metadata": {
    "id": "b3ace5d7",
    "scrolled": false
   },
   "outputs": [],
   "source": [
    "def plot_acc(results_df=None):\n",
    "    global subtypes\n",
    "    global N\n",
    "    global epochs\n",
    "    global algorithms\n",
    "    \n",
    "    if results_df is None:\n",
    "        loaded_accuracies = pd.read_csv(load_dir + 'accuracies.csv')\n",
    "        N = max(loaded_accuracies[\"trial\"]) + 1\n",
    "        epochs = max(loaded_accuracies[\"epoch\"]) + 1\n",
    "        subtypes = list(loaded_accuracies[\"subtype\"].unique())\n",
    "        algorithms = loaded_accuracies.columns\n",
    "\n",
    "        results = loaded_accuracies.drop(columns=[\"subtype\", \"epoch\", \"trial\"]).to_dict('list')\n",
    "        results_df = pd.DataFrame(results, index=pd.MultiIndex.from_product([range(N), range(epochs), subtypes], names=[\"trial\", \"epoch\", \"subtype\"]))\n",
    "    \n",
    "    trial_means = results_df.stack().unstack(level=0).mean(axis=1).unstack(level=2)\n",
    "    worst_group = trial_means.stack().unstack(level=1).drop(columns=\"Overall\").min(axis=1).unstack()\n",
    "    worst_group.index = pd.MultiIndex.from_tuples([(epoch, \"Lower bound\") for epoch in worst_group.index], names=[\"epoch\", \"subtype\"])\n",
    "    trial_means = pd.concat([trial_means, worst_group])\n",
    "    \n",
    "    trial_stds = results_df.stack().unstack(level=0).std(axis=1).unstack(level=2)\n",
    "\n",
    "    drop_epochs = []  # list(range(40, 100))\n",
    "\n",
    "    trial_means.drop(drop_epochs, level=0, axis=0, inplace=True)\n",
    "    # reindex epochs from 1\n",
    "    trial_means.index = pd.MultiIndex.from_tuples(zip(trial_means.index.get_level_values(0) + 1, trial_means.index.get_level_values(1)), names=[\"epoch\", \"subtype\"])\n",
    "    trial_stds.index = pd.MultiIndex.from_tuples(zip(trial_stds.index.get_level_values(0) + 1, trial_stds.index.get_level_values(1)), names=[\"epoch\", \"subtype\"])\n",
    "    \n",
    "    plots = [*subtypes, \"Lower bound\"]\n",
    "    # plots = [\"Overall\", \"Lower bound\", *subtypes[1:]]\n",
    "    # plots = subtypes[1:]\n",
    "\n",
    "    hide = []#[\"DynamicLoss\", \"UpweightLoss\"]\n",
    "\n",
    "    w = 2\n",
    "\n",
    "    f, a = plt.subplots((len(plots) + 1) // w, w)\n",
    "\n",
    "    if len(plots) > w:\n",
    "        a = [ax for a0 in a for ax in a0]\n",
    "\n",
    "    # plot subtypes sensitivity\n",
    "\n",
    "    #legend=None,xlim=[35, 40],ylim=[0.85,0.88],\n",
    "\n",
    "    for i in range(len(plots)):\n",
    "        plot_data = trial_means.drop(columns=hide).xs(plots[i], level=1)\n",
    "        plot_data.plot(ylim=[0.5,1],xlabel=\"Epoch\",ylabel=\"Accuracy\",kind='line',title=plots[i],ax=a[i],figsize=(6 * w, 6 * ((len(plots) + 1) // w)),grid=True)\n",
    "        if plots[i] != \"Lower bound\":\n",
    "            plot_stds = trial_stds.drop(columns=hide).xs(key=plots[i], level=1)\n",
    "            for col in plot_data.columns:\n",
    "                a[i].fill_between(list(plot_data.index), plot_data[col] + 2 * plot_stds[col], plot_data[col] - 2 * plot_stds[col], alpha=0.25)\n",
    "        "
   ]
  },
  {
   "cell_type": "code",
   "execution_count": 18,
   "id": "6e1b8ce6",
   "metadata": {
    "colab": {
     "base_uri": "https://localhost:8080/",
     "height": 1000
    },
    "id": "6e1b8ce6",
    "outputId": "b1538dcf-ce63-45fc-e591-4b2cbc3c4f58",
    "scrolled": false
   },
   "outputs": [
    {
     "data": {
      "image/png": "[encoded data removed]",
      "text/plain": [
       "<Figure size 864x1296 with 6 Axes>"
      ]
     },
     "metadata": {
      "needs_background": "light"
     },
     "output_type": "display_data"
    }
   ],
   "source": [
    "load_dir = load_root + 'LIDC_E2E_mal_groups/'# + load_dirs[3]\n",
    "plot_acc()"
   ]
  },
  {
   "cell_type": "code",
   "execution_count": 19,
   "id": "E4X11ykAAunM",
   "metadata": {
    "colab": {
     "base_uri": "https://localhost:8080/",
     "height": 1000
    },
    "id": "E4X11ykAAunM",
    "outputId": "59725333-309d-4151-c19b-74974e9b66e1"
   },
   "outputs": [
    {
     "name": "stdout",
     "output_type": "stream",
     "text": [
      "Overall\n",
      "ERM: 0.8704318936877076\n",
      "GDRO: 0.8706312292358802\n",
      "No significant difference with p = 0.90\n",
      "\n",
      "\n",
      "Likely Benign\n",
      "ERM: 0.9448529411764705\n",
      "GDRO: 0.9435294117647058\n",
      "No significant difference with p = 0.47\n",
      "\n",
      "\n",
      "Somewhat Benign\n",
      "ERM: 0.8687610619469028\n",
      "GDRO: 0.8645132743362831\n",
      "No significant difference with p = 0.21\n",
      "\n",
      "\n",
      "Somewhat Malignant\n",
      "ERM: 0.7444444444444442\n",
      "GDRO: 0.7522222222222222\n",
      "No significant difference with p = 0.09\n",
      "\n",
      "\n",
      "Likely Malignant\n",
      "ERM: 0.9579166666666669\n",
      "GDRO: 0.959375\n",
      "No significant difference with p = 0.68\n",
      "\n",
      "\n"
     ]
    },
    {
     "data": {
      "image/png": "[encoded data removed]",
      "text/plain": [
       "<Figure size 576x2304 with 6 Axes>"
      ]
     },
     "metadata": {
      "needs_background": "light"
     },
     "output_type": "display_data"
    }
   ],
   "source": [
    "# statisitical tests comparing to ERM\n",
    "from scipy.stats import ttest_ind\n",
    "\n",
    "significance_threshold = 0.05\n",
    "\n",
    "ttest_dataframes = {}\n",
    "\n",
    "loaded_accuracies = pd.read_csv(load_dir + 'accuracies.csv')\n",
    "N = max(loaded_accuracies[\"trial\"]) + 1\n",
    "epochs = max(loaded_accuracies[\"epoch\"]) + 1\n",
    "subtypes = list(loaded_accuracies[\"subtype\"].unique())\n",
    "algorithms = loaded_accuracies.columns\n",
    "\n",
    "results = loaded_accuracies.drop(columns=[\"subtype\", \"epoch\", \"trial\"]).to_dict('list')\n",
    "results_df = pd.DataFrame(results, index=pd.MultiIndex.from_product([range(N), range(epochs), subtypes], names=[\"trial\", \"epoch\", \"subtype\"]))\n",
    "\n",
    "f, a = plt.subplots(len(subtypes) + 1,1, sharey=True, figsize=(8,32))\n",
    "\n",
    "for s in range(len(subtypes)):\n",
    "    epoch = epochs - 1\n",
    "\n",
    "    subtype_data = results_df.xs(subtypes[s], level=2).xs(epoch, level=1)\n",
    "    subtype_data.plot(title=subtypes[s], kind='box', ax=a[s])\n",
    "    \n",
    "    # worst group data\n",
    "    # results_df.stack().unstack(level=2).min(axis=1).unstack().xs(epochs - 1, level=1).plot(title='worst', kind='box', ax=a[-1])\n",
    "    \n",
    "    erm_data = subtype_data[\"ERM\"].values\n",
    "\n",
    "    print(subtypes[s])\n",
    "    for algorithm in results_df.columns:\n",
    "        if algorithm in [\"DynamicLoss\", \"UpweightLoss\"]:\n",
    "            continue\n",
    "        if algorithm != \"ERM\":\n",
    "            algorithm_data = subtype_data[algorithm].values\n",
    "            stat, p = ttest_ind(algorithm_data, erm_data)\n",
    "\n",
    "            print(f'ERM: {erm_data.mean()}')\n",
    "            print(f'{algorithm}: {algorithm_data.mean()}')\n",
    "            if p < significance_threshold:\n",
    "                print(f'{algorithm if stat > 0 else \"ERM\"} greater with p = {p:.2f}')\n",
    "            else:\n",
    "                print(f'No significant difference with p = {p:.2f}')\n",
    "            print()\n",
    "    print()"
   ]
  },
  {
   "cell_type": "markdown",
   "id": "6519fc41",
   "metadata": {
    "id": "6519fc41"
   },
   "source": [
    "## Plot values of q and g (subclass and loss function weights, respectively)"
   ]
  },
  {
   "cell_type": "code",
   "execution_count": 332,
   "id": "51bd0ec3",
   "metadata": {
    "id": "51bd0ec3",
    "outputId": "954b7e5c-34a0-4b43-a5dc-b35ec01f2af2",
    "scrolled": false
   },
   "outputs": [
    {
     "data": {
      "image/png": "[encoded data removed]",
      "text/plain": [
       "<Figure size 432x288 with 1 Axes>"
      ]
     },
     "metadata": {
      "needs_background": "light"
     },
     "output_type": "display_data"
    },
    {
     "data": {
      "image/png": "[encoded data removed]",
      "text/plain": [
       "<Figure size 432x288 with 1 Axes>"
      ]
     },
     "metadata": {
      "needs_background": "light"
     },
     "output_type": "display_data"
    },
    {
     "data": {
      "image/png": "[encoded data removed]",
      "text/plain": [
       "<Figure size 432x288 with 1 Axes>"
      ]
     },
     "metadata": {
      "needs_background": "light"
     },
     "output_type": "display_data"
    }
   ],
   "source": [
    "def read_q(path):\n",
    "    loaded_data = pd.read_csv(load_dir + 'q.csv').dropna(axis=1)\n",
    "    loaded_data.index = pd.MultiIndex.from_arrays([loaded_data['trial'], loaded_data['epoch'], loaded_data['subtype']], names=['trial', 'epoch', 'subtype'])\n",
    "    saved_subtypes = loaded_data['subtype']\n",
    "    loaded_data.drop(columns=['trial', 'epoch', 'subtype'], inplace=True)\n",
    "    loaded_data = loaded_data.stack().unstack(level=1)\n",
    "    loaded_data.insert(0, -1, np.ones(len(loaded_data.index)) / len(loaded_data.index.levels[1]))\n",
    "    loaded_data.columns += 1\n",
    "    mean_data = loaded_data.stack(level=0).unstack(level=0).mean(axis=1).unstack(level=0).stack(level=0).unstack(level=0)\n",
    "    mean_data = mean_data.unstack(level=1)\n",
    "    mean_data = mean_data.loc[:, pd.MultiIndex.from_product([mean_data.columns.levels[0], saved_subtypes.unique()])]\n",
    "    return mean_data\n",
    "\n",
    "def read_g(path):\n",
    "    loaded_data = pd.read_csv(load_dir + 'g.csv').dropna(axis=1)\n",
    "    loaded_data.index = pd.MultiIndex.from_arrays([loaded_data['trial'], loaded_data['epoch'], loaded_data['loss_fn']], names=['trial', 'epoch', 'loss_fn'])\n",
    "    saved_subtypes = loaded_data['loss_fn']\n",
    "    loaded_data.drop(columns=['trial', 'epoch', 'loss_fn'], inplace=True)\n",
    "    loaded_data = loaded_data.stack().unstack(level=1)\n",
    "    loaded_data.insert(0, -1, np.ones(len(loaded_data.index)) / len(loaded_data.index.levels[1]))\n",
    "    loaded_data.columns += 1\n",
    "    mean_data = loaded_data.stack(level=0).unstack(level=0).mean(axis=1).unstack(level=0).stack(level=0).unstack(level=0)\n",
    "    mean_data = mean_data.unstack(level=1)\n",
    "    mean_data = mean_data.loc[:, pd.MultiIndex.from_product([mean_data.columns.levels[0], saved_subtypes.unique()])]\n",
    "    return mean_data\n",
    "\n",
    "mean_q = read_q(load_dir + 'q.csv')\n",
    "\n",
    "for c in mean_q.columns.levels[0]:\n",
    "    mean_q[c].plot(ylim=[0,1])\n",
    "    \n",
    "mean_g = read_g(load_dir + 'g.csv')\n",
    "for c in mean_g.columns.levels[0]:\n",
    "    mean_g[c].plot(ylim=[0,1])"
   ]
  },
  {
   "cell_type": "markdown",
   "id": "816e2dbd",
   "metadata": {
    "id": "816e2dbd"
   },
   "source": [
    "## Plot ROC Curve"
   ]
  },
  {
   "cell_type": "code",
   "execution_count": null,
   "id": "08feabdd",
   "metadata": {
    "id": "08feabdd",
    "outputId": "fea72ca6-ebf7-4794-9cd9-6129231ce58b",
    "scrolled": false
   },
   "outputs": [
    {
     "data": {
      "image/png": "[encoded data removed]",
      "text/plain": [
       "<Figure size 288x1152 with 4 Axes>"
      ]
     },
     "metadata": {
      "needs_background": "light"
     },
     "output_type": "display_data"
    }
   ],
   "source": [
    "# ROC curve\n",
    "\n",
    "from sklearn import metrics\n",
    "\n",
    "roc_df = pd.read_csv(load_dir + 'ROC.csv')\n",
    "\n",
    "f, a = plt.subplots(len(roc_df.columns) - 1, 1, figsize=(4,4 * (len(roc_df.columns) - 1)))\n",
    "\n",
    "for i in range(len(roc_df.columns) - 1):\n",
    "    c = roc_df.drop(columns='labels').columns[i]\n",
    "    \n",
    "    y_true = roc_df['labels']\n",
    "    y_score = roc_df[c]\n",
    "\n",
    "    fpr, tpr, thresholds = metrics.roc_curve(y_true, y_score, pos_label=1)\n",
    "    auc = metrics.auc(fpr, tpr)\n",
    "    a[i].plot(fpr, tpr, 'b')\n",
    "    a[i].set_title(f'{c} (AUC = {auc})')"
   ]
  },
  {
   "cell_type": "code",
   "execution_count": null,
   "id": "04df8c04",
   "metadata": {
    "id": "04df8c04",
    "outputId": "5c2dc492-3b15-4dca-dfed-5c4027192155"
   },
   "outputs": [
    {
     "data": {
      "text/html": [
       "<div>\n",
       "<style scoped>\n",
       "    .dataframe tbody tr th:only-of-type {\n",
       "        vertical-align: middle;\n",
       "    }\n",
       "\n",
       "    .dataframe tbody tr th {\n",
       "        vertical-align: top;\n",
       "    }\n",
       "\n",
       "    .dataframe thead th {\n",
       "        text-align: right;\n",
       "    }\n",
       "</style>\n",
       "<table border=\"1\" class=\"dataframe\">\n",
       "  <thead>\n",
       "    <tr style=\"text-align: right;\">\n",
       "      <th></th>\n",
       "      <th>ERMLoss</th>\n",
       "      <th>GDROLoss</th>\n",
       "      <th>DynamicLoss</th>\n",
       "      <th>UpweightLoss</th>\n",
       "    </tr>\n",
       "    <tr>\n",
       "      <th>subtype</th>\n",
       "      <th></th>\n",
       "      <th></th>\n",
       "      <th></th>\n",
       "      <th></th>\n",
       "    </tr>\n",
       "  </thead>\n",
       "  <tbody>\n",
       "    <tr>\n",
       "      <th>Lower bound</th>\n",
       "      <td>13</td>\n",
       "      <td>16</td>\n",
       "      <td>16</td>\n",
       "      <td>15</td>\n",
       "    </tr>\n",
       "    <tr>\n",
       "      <th>Overall</th>\n",
       "      <td>15</td>\n",
       "      <td>18</td>\n",
       "      <td>16</td>\n",
       "      <td>15</td>\n",
       "    </tr>\n",
       "    <tr>\n",
       "      <th>Spiculated benign</th>\n",
       "      <td>0</td>\n",
       "      <td>34</td>\n",
       "      <td>0</td>\n",
       "      <td>37</td>\n",
       "    </tr>\n",
       "    <tr>\n",
       "      <th>Spiculated malignant</th>\n",
       "      <td>13</td>\n",
       "      <td>0</td>\n",
       "      <td>16</td>\n",
       "      <td>0</td>\n",
       "    </tr>\n",
       "    <tr>\n",
       "      <th>Unspiculated benign</th>\n",
       "      <td>0</td>\n",
       "      <td>96</td>\n",
       "      <td>0</td>\n",
       "      <td>62</td>\n",
       "    </tr>\n",
       "    <tr>\n",
       "      <th>Unspiculated malignant</th>\n",
       "      <td>13</td>\n",
       "      <td>0</td>\n",
       "      <td>16</td>\n",
       "      <td>11</td>\n",
       "    </tr>\n",
       "  </tbody>\n",
       "</table>\n",
       "</div>"
      ],
      "text/plain": [
       "                        ERMLoss  GDROLoss  DynamicLoss  UpweightLoss\n",
       "subtype                                                             \n",
       "Lower bound                  13        16           16            15\n",
       "Overall                      15        18           16            15\n",
       "Spiculated benign             0        34            0            37\n",
       "Spiculated malignant         13         0           16             0\n",
       "Unspiculated benign           0        96            0            62\n",
       "Unspiculated malignant       13         0           16            11"
      ]
     },
     "execution_count": 164,
     "metadata": {},
     "output_type": "execute_result"
    }
   ],
   "source": [
    "loaded_accuracies = pd.read_csv(load_dir + 'accuracies.csv')\n",
    "N = max(loaded_accuracies[\"trial\"]) + 1\n",
    "epochs = max(loaded_accuracies[\"epoch\"]) + 1\n",
    "subtypes = list(loaded_accuracies[\"subtype\"].unique())\n",
    "algorithms = loaded_accuracies.columns\n",
    "\n",
    "results = loaded_accuracies.drop(columns=[\"subtype\", \"epoch\", \"trial\"]).to_dict('list')\n",
    "results_df = pd.DataFrame(results, index=pd.MultiIndex.from_product([range(N), range(epochs), subtypes], names=[\"trial\", \"epoch\", \"subtype\"]))\n",
    "\n",
    "trial_means = results_df.unstack().unstack().mean(axis=0).unstack(level=0).unstack(level=0).stack()\n",
    "worst_group = trial_means.stack().unstack(level=1).drop(columns=\"Overall\").min(axis=1).unstack()\n",
    "worst_group.index = pd.MultiIndex.from_tuples([(epoch, \"Lower bound\") for epoch in worst_group.index], names=[\"epoch\", \"subtype\"])\n",
    "trial_means = pd.concat([trial_means, worst_group])\n",
    "trial_means.stack().unstack(level=0).idxmax(axis=1).unstack(level=1)"
   ]
  },
  {
   "cell_type": "code",
   "execution_count": null,
   "id": "865a7600",
   "metadata": {
    "id": "865a7600",
    "outputId": "e63fe78b-ddbc-4ae4-e066-b645398a31cf"
   },
   "outputs": [
    {
     "data": {
      "text/html": [
       "<div>\n",
       "<style scoped>\n",
       "    .dataframe tbody tr th:only-of-type {\n",
       "        vertical-align: middle;\n",
       "    }\n",
       "\n",
       "    .dataframe tbody tr th {\n",
       "        vertical-align: top;\n",
       "    }\n",
       "\n",
       "    .dataframe thead th {\n",
       "        text-align: right;\n",
       "    }\n",
       "</style>\n",
       "<table border=\"1\" class=\"dataframe\">\n",
       "  <thead>\n",
       "    <tr style=\"text-align: right;\">\n",
       "      <th></th>\n",
       "      <th>ERMLoss</th>\n",
       "      <th>GDROLoss</th>\n",
       "      <th>DynamicLoss</th>\n",
       "      <th>UpweightLoss</th>\n",
       "    </tr>\n",
       "    <tr>\n",
       "      <th>subtype</th>\n",
       "      <th></th>\n",
       "      <th></th>\n",
       "      <th></th>\n",
       "      <th></th>\n",
       "    </tr>\n",
       "  </thead>\n",
       "  <tbody>\n",
       "    <tr>\n",
       "      <th>Lower bound</th>\n",
       "      <td>0.689351</td>\n",
       "      <td>0.718182</td>\n",
       "      <td>0.707922</td>\n",
       "      <td>0.719386</td>\n",
       "    </tr>\n",
       "    <tr>\n",
       "      <th>Overall</th>\n",
       "      <td>0.753223</td>\n",
       "      <td>0.754219</td>\n",
       "      <td>0.754684</td>\n",
       "      <td>0.755316</td>\n",
       "    </tr>\n",
       "    <tr>\n",
       "      <th>Spiculated benign</th>\n",
       "      <td>0.887101</td>\n",
       "      <td>0.860870</td>\n",
       "      <td>0.887971</td>\n",
       "      <td>0.865217</td>\n",
       "    </tr>\n",
       "    <tr>\n",
       "      <th>Spiculated malignant</th>\n",
       "      <td>0.689351</td>\n",
       "      <td>0.758312</td>\n",
       "      <td>0.707922</td>\n",
       "      <td>0.759740</td>\n",
       "    </tr>\n",
       "    <tr>\n",
       "      <th>Unspiculated benign</th>\n",
       "      <td>0.837544</td>\n",
       "      <td>0.732632</td>\n",
       "      <td>0.841140</td>\n",
       "      <td>0.732281</td>\n",
       "    </tr>\n",
       "    <tr>\n",
       "      <th>Unspiculated malignant</th>\n",
       "      <td>0.743902</td>\n",
       "      <td>0.796341</td>\n",
       "      <td>0.756098</td>\n",
       "      <td>0.795854</td>\n",
       "    </tr>\n",
       "  </tbody>\n",
       "</table>\n",
       "</div>"
      ],
      "text/plain": [
       "                         ERMLoss  GDROLoss  DynamicLoss  UpweightLoss\n",
       "subtype                                                              \n",
       "Lower bound             0.689351  0.718182     0.707922      0.719386\n",
       "Overall                 0.753223  0.754219     0.754684      0.755316\n",
       "Spiculated benign       0.887101  0.860870     0.887971      0.865217\n",
       "Spiculated malignant    0.689351  0.758312     0.707922      0.759740\n",
       "Unspiculated benign     0.837544  0.732632     0.841140      0.732281\n",
       "Unspiculated malignant  0.743902  0.796341     0.756098      0.795854"
      ]
     },
     "execution_count": 165,
     "metadata": {},
     "output_type": "execute_result"
    }
   ],
   "source": [
    "trial_means.stack().unstack(level=0).max(axis=1).unstack(level=1)"
   ]
  },
  {
   "cell_type": "code",
   "execution_count": null,
   "id": "917b8efb",
   "metadata": {
    "id": "917b8efb",
    "outputId": "4022df32-f613-4a79-e424-fdb6f9424849",
    "scrolled": false
   },
   "outputs": [
    {
     "name": "stdout",
     "output_type": "stream",
     "text": [
      "Overall\n",
      "ERM: 0.8628737541528239\n",
      "GDRO: 0.8520348837209302\n",
      "ERM greater with p = 0.00\n",
      "\n",
      "\n",
      "Benign\n",
      "ERM: 0.8968232044198896\n",
      "GDRO: 0.8422651933701658\n",
      "ERM greater with p = 0.00\n",
      "\n",
      "\n",
      "Malignant1\n",
      "ERM: 0.7159810126582279\n",
      "GDRO: 0.7976265822784809\n",
      "GDRO greater with p = 0.00\n",
      "\n",
      "\n",
      "Malignant2\n",
      "ERM: 0.9960365853658537\n",
      "GDRO: 1.0\n",
      "GDRO greater with p = 0.00\n",
      "\n",
      "\n"
     ]
    },
    {
     "data": {
      "image/png": "[encoded data removed]",
      "text/plain": [
       "<Figure size 576x2304 with 5 Axes>"
      ]
     },
     "metadata": {
      "needs_background": "light"
     },
     "output_type": "display_data"
    }
   ],
   "source": [
    "# statisitical tests comparing to ERM\n",
    "from scipy.stats import ttest_ind\n",
    "from IPython.display import display\n",
    "import seaborn as sns\n",
    "\n",
    "significance_threshold = 0.05\n",
    "\n",
    "ttest_dataframes = {}\n",
    "\n",
    "loaded_accuracies = pd.read_csv('C:\\\\Users\\\\efurst1\\\\Downloads\\\\results_20220725_212250.csv')#load_dir + 'accuracies.csv')\n",
    "N = max(loaded_accuracies[\"trial\"]) + 1\n",
    "epochs = max(loaded_accuracies[\"epoch\"]) + 1\n",
    "subtypes = list(loaded_accuracies[\"subtype\"].unique())\n",
    "algorithms = loaded_accuracies.columns\n",
    "\n",
    "results = loaded_accuracies.drop(columns=[\"subtype\", \"epoch\", \"trial\"]).to_dict('list')\n",
    "results_df = pd.DataFrame(results, index=pd.MultiIndex.from_product([range(N), range(epochs), subtypes], names=[\"trial\", \"epoch\", \"subtype\"]))\n",
    "\n",
    "f, a = plt.subplots(len(subtypes) + 1,1, sharey=True, figsize=(8,32))\n",
    "\n",
    "for s in range(len(subtypes)):\n",
    "#     print(subtype)\n",
    "#     print()\n",
    "    epoch = 2  # epochs - 1\n",
    "\n",
    "    subtype_data = results_df.xs(subtypes[s], level=2).xs(epoch, level=1)\n",
    "    subtype_data.plot(title=subtypes[s], kind='box', ax=a[s])\n",
    "    \n",
    "    # worst group data\n",
    "    # results_df.stack().unstack(level=2).min(axis=1).unstack().xs(epochs - 1, level=1).plot(title='worst', kind='box', ax=a[-1])\n",
    "\n",
    "    \n",
    "    erm_data = subtype_data[\"ERM\"].values\n",
    "\n",
    "    print(subtypes[s])\n",
    "    for algorithm in results_df.columns:\n",
    "        if algorithm != \"ERM\":\n",
    "            algorithm_data = subtype_data[algorithm].values\n",
    "            stat, p = ttest_ind(algorithm_data, erm_data)\n",
    "\n",
    "            print(f'ERM: {erm_data.mean()}')\n",
    "            print(f'{algorithm}: {algorithm_data.mean()}')\n",
    "            if p < significance_threshold:\n",
    "                print(f'{algorithm if stat > 0 else \"ERM\"} greater with p = {p:.2f}')\n",
    "            else:\n",
    "                print(f'No significant difference with p = {p:.2f}')\n",
    "            print()\n",
    "    print()"
   ]
  },
  {
   "cell_type": "code",
   "execution_count": 54,
   "id": "4d3edbaa",
   "metadata": {},
   "outputs": [],
   "source": [
    "semantic_feature_names = ['Subtlety', 'InternalStructure', 'Calcification', 'Sphericity', 'Margin', 'Lobulation', 'Spiculation', 'Texture', 'Malignancy']"
   ]
  },
  {
   "cell_type": "code",
   "execution_count": 55,
   "id": "25e4dd4a",
   "metadata": {
    "id": "25e4dd4a"
   },
   "outputs": [],
   "source": [
    "df = pd.read_csv('data/LIDC_20130817_AllFeatures2D_MaxSlicePerNodule_inLineRatings.csv')\n",
    "\n",
    "for n in semantic_feature_names:\n",
    "    df[n.lower()] = df[[n + '_1', n + '_2', n + '_3', n + '_4']].replace(0, np.nan).mode(axis=1).mean(axis=1).apply(np.ceil).astype(int)"
   ]
  },
  {
   "cell_type": "code",
   "execution_count": 63,
   "id": "8e2b515c",
   "metadata": {},
   "outputs": [],
   "source": [
    "df.to_csv('data/LIDC_20130817_AllFeatures2D_MaxSlicePerNodule_inLineRatings.csv')"
   ]
  },
  {
   "cell_type": "code",
   "execution_count": 76,
   "id": "0d371228",
   "metadata": {},
   "outputs": [],
   "source": [
    "no_mal3 = df[df['malignancy'] != 3]"
   ]
  },
  {
   "cell_type": "code",
   "execution_count": 78,
   "id": "69006fd2",
   "metadata": {},
   "outputs": [],
   "source": [
    "import os\n",
    "in_images = no_mal3[no_mal3['noduleID'].isin(list(map(lambda x: int(x.replace('.txt', '')), os.listdir('data/LIDC(MaxSlices)_Nodules'))))]"
   ]
  },
  {
   "cell_type": "code",
   "execution_count": 79,
   "id": "e6406ea3",
   "metadata": {},
   "outputs": [],
   "source": [
    "spic_subtypes = in_images[['noduleID', 'spiculation', 'malignancy']]"
   ]
  },
  {
   "cell_type": "code",
   "execution_count": 83,
   "id": "7c12da03",
   "metadata": {},
   "outputs": [
    {
     "name": "stderr",
     "output_type": "stream",
     "text": [
      "C:\\Users\\efurst1\\AppData\\Local\\Temp\\ipykernel_16912\\1440420070.py:1: SettingWithCopyWarning: \n",
      "A value is trying to be set on a copy of a slice from a DataFrame.\n",
      "Try using .loc[row_indexer,col_indexer] = value instead\n",
      "\n",
      "See the caveats in the documentation: https://pandas.pydata.org/pandas-docs/stable/user_guide/indexing.html#returning-a-view-versus-a-copy\n",
      "  spic_subtypes['spicb'] = (spic_subtypes['spiculation'] > 1).astype(int)\n"
     ]
    }
   ],
   "source": [
    "spic_subtypes['spicb'] = (spic_subtypes['spiculation'] > 1).astype(int)"
   ]
  },
  {
   "cell_type": "code",
   "execution_count": 86,
   "id": "ffc940c6",
   "metadata": {},
   "outputs": [
    {
     "name": "stderr",
     "output_type": "stream",
     "text": [
      "C:\\Users\\efurst1\\AppData\\Local\\Temp\\ipykernel_16912\\407178938.py:1: SettingWithCopyWarning: \n",
      "A value is trying to be set on a copy of a slice from a DataFrame.\n",
      "Try using .loc[row_indexer,col_indexer] = value instead\n",
      "\n",
      "See the caveats in the documentation: https://pandas.pydata.org/pandas-docs/stable/user_guide/indexing.html#returning-a-view-versus-a-copy\n",
      "  spic_subtypes['malb'] = (spic_subtypes['malignancy'] > 3).astype(int)\n"
     ]
    }
   ],
   "source": [
    "spic_subtypes['malb'] = (spic_subtypes['malignancy'] > 3).astype(int)"
   ]
  },
  {
   "cell_type": "code",
   "execution_count": 112,
   "id": "9b6079d1",
   "metadata": {},
   "outputs": [
    {
     "name": "stderr",
     "output_type": "stream",
     "text": [
      "C:\\Users\\efurst1\\AppData\\Local\\Temp\\ipykernel_16912\\2737252206.py:1: SettingWithCopyWarning: \n",
      "A value is trying to be set on a copy of a slice from a DataFrame.\n",
      "Try using .loc[row_indexer,col_indexer] = value instead\n",
      "\n",
      "See the caveats in the documentation: https://pandas.pydata.org/pandas-docs/stable/user_guide/indexing.html#returning-a-view-versus-a-copy\n",
      "  spic_subtypes['spic_subclass'] = list(map(lambda x: [0,3,1,2][x], 2 * spic_subtypes['spicb'] + spic_subtypes['malb']))\n"
     ]
    }
   ],
   "source": [
    "spic_subtypes['spic_subclass'] = list(map(lambda x: [0,3,1,2][x], 2 * spic_subtypes['spicb'] + spic_subtypes['malb']))"
   ]
  },
  {
   "cell_type": "code",
   "execution_count": 113,
   "id": "af71c2f8",
   "metadata": {},
   "outputs": [
    {
     "name": "stderr",
     "output_type": "stream",
     "text": [
      "C:\\Users\\efurst1\\AppData\\Local\\Temp\\ipykernel_16912\\2823220019.py:1: SettingWithCopyWarning: \n",
      "A value is trying to be set on a copy of a slice from a DataFrame.\n",
      "Try using .loc[row_indexer,col_indexer] = value instead\n",
      "\n",
      "See the caveats in the documentation: https://pandas.pydata.org/pandas-docs/stable/user_guide/indexing.html#returning-a-view-versus-a-copy\n",
      "  spic_subtypes['mal_subclass'] = list(map(lambda x: [1,2,4,5].index(x), spic_subtypes['malignancy']))\n"
     ]
    }
   ],
   "source": [
    "spic_subtypes['mal_subclass'] = list(map(lambda x: [1,2,4,5].index(x), spic_subtypes['malignancy']))"
   ]
  },
  {
   "cell_type": "code",
   "execution_count": null,
   "id": "6eb2a13f",
   "metadata": {},
   "outputs": [],
   "source": [
    "[0,3,1,2]"
   ]
  },
  {
   "cell_type": "code",
   "execution_count": 114,
   "id": "a9d6f10a",
   "metadata": {},
   "outputs": [
    {
     "name": "stderr",
     "output_type": "stream",
     "text": [
      "C:\\Users\\efurst1\\AppData\\Local\\Temp\\ipykernel_16912\\3259273149.py:1: SettingWithCopyWarning: \n",
      "A value is trying to be set on a copy of a slice from a DataFrame.\n",
      "Try using .loc[row_indexer,col_indexer] = value instead\n",
      "\n",
      "See the caveats in the documentation: https://pandas.pydata.org/pandas-docs/stable/user_guide/indexing.html#returning-a-view-versus-a-copy\n",
      "  spic_subtypes['spic_subclass_name'] = list(map(lambda x: [\"Unspiculated Benign\", \"Spiculated Benign\", \"Spiculated Malignant\", \"Unspiculated Malignant\"][x], spic_subtypes['spic_subclass']))\n"
     ]
    }
   ],
   "source": [
    "spic_subtypes['spic_subclass_name'] = list(map(lambda x: [\"Unspiculated Benign\", \"Spiculated Benign\", \"Spiculated Malignant\", \"Unspiculated Malignant\"][x], spic_subtypes['spic_subclass']))"
   ]
  },
  {
   "cell_type": "code",
   "execution_count": 116,
   "id": "2e2e9fd5",
   "metadata": {},
   "outputs": [
    {
     "name": "stderr",
     "output_type": "stream",
     "text": [
      "C:\\Users\\efurst1\\AppData\\Local\\Temp\\ipykernel_16912\\3283806219.py:1: SettingWithCopyWarning: \n",
      "A value is trying to be set on a copy of a slice from a DataFrame.\n",
      "Try using .loc[row_indexer,col_indexer] = value instead\n",
      "\n",
      "See the caveats in the documentation: https://pandas.pydata.org/pandas-docs/stable/user_guide/indexing.html#returning-a-view-versus-a-copy\n",
      "  spic_subtypes['mal_subclass_name'] = list(map(lambda x: [\"Highly Unlikely\", \"Moderately Unlikely\", \"Moderately Suspicious\", \"Highly Suspicious\"][x], spic_subtypes['mal_subclass']))\n"
     ]
    }
   ],
   "source": [
    "spic_subtypes['mal_subclass_name'] = list(map(lambda x: [\"Highly Unlikely\", \"Moderately Unlikely\", \"Moderately Suspicious\", \"Highly Suspicious\"][x], spic_subtypes['mal_subclass']))"
   ]
  },
  {
   "cell_type": "code",
   "execution_count": 137,
   "id": "2973ff2e",
   "metadata": {},
   "outputs": [],
   "source": [
    "clusters = pd.read_csv('data/subclass_labels/mode_label (2).csv')"
   ]
  },
  {
   "cell_type": "code",
   "execution_count": 138,
   "id": "82257b73",
   "metadata": {},
   "outputs": [
    {
     "name": "stderr",
     "output_type": "stream",
     "text": [
      "C:\\Users\\efurst1\\AppData\\Local\\Temp\\ipykernel_16912\\2315709388.py:3: SettingWithCopyWarning: \n",
      "A value is trying to be set on a copy of a slice from a DataFrame.\n",
      "Try using .loc[row_indexer,col_indexer] = value instead\n",
      "\n",
      "See the caveats in the documentation: https://pandas.pydata.org/pandas-docs/stable/user_guide/indexing.html#returning-a-view-versus-a-copy\n",
      "  spic_subtypes['cluster'] = spic_subtypes['cluster'].astype(int)\n"
     ]
    }
   ],
   "source": [
    "for i in clusters.index:\n",
    "    spic_subtypes.loc[spic_subtypes['noduleID'] == clusters.at[i, 'noduleID'], 'cluster'] = clusters.at[i, 'cluster'].astype(int)\n",
    "spic_subtypes['cluster'] = spic_subtypes['cluster'].astype(int)"
   ]
  },
  {
   "cell_type": "code",
   "execution_count": 139,
   "id": "bbb90cde",
   "metadata": {},
   "outputs": [
    {
     "name": "stderr",
     "output_type": "stream",
     "text": [
      "C:\\Users\\efurst1\\AppData\\Local\\Temp\\ipykernel_16912\\1983669941.py:1: SettingWithCopyWarning: \n",
      "A value is trying to be set on a copy of a slice from a DataFrame.\n",
      "Try using .loc[row_indexer,col_indexer] = value instead\n",
      "\n",
      "See the caveats in the documentation: https://pandas.pydata.org/pandas-docs/stable/user_guide/indexing.html#returning-a-view-versus-a-copy\n",
      "  spic_subtypes['cluster_name'] = list(map(lambda x: [\"Predominantly Benign\", \"Somewhat Benign\", \"Somewhat Malignant\", \"Predominantly Malignant\"][x], spic_subtypes['cluster']))\n"
     ]
    }
   ],
   "source": [
    "spic_subtypes['cluster_name'] = list(map(lambda x: [\"Predominantly Benign\", \"Somewhat Benign\", \"Somewhat Malignant\", \"Predominantly Malignant\"][x], spic_subtypes['cluster']))"
   ]
  },
  {
   "cell_type": "code",
   "execution_count": 142,
   "id": "8b3c588b",
   "metadata": {},
   "outputs": [],
   "source": [
    "spic_subtypes[['noduleID', 'spic_subclass', 'spic_subclass_name', 'mal_subclass', 'mal_subclass_name', 'cluster', 'cluster_name']].to_csv('data/subclass_labels/subclasses.csv', index=False)"
   ]
  },
  {
   "cell_type": "code",
   "execution_count": 143,
   "id": "cb9223ff",
   "metadata": {},
   "outputs": [
    {
     "data": {
      "text/plain": [
       "[781, 116, 387, 204]"
      ]
     },
     "execution_count": 143,
     "metadata": {},
     "output_type": "execute_result"
    }
   ],
   "source": [
    "[sum(spic_subtypes['spic_subclass'] == n) for n in range(4)]"
   ]
  },
  {
   "cell_type": "code",
   "execution_count": 164,
   "id": "43ff1311",
   "metadata": {},
   "outputs": [],
   "source": [
    "semantic = pd.read_csv('data/LIDC_semantic_spiculation_malignancy.csv')"
   ]
  },
  {
   "cell_type": "code",
   "execution_count": 165,
   "id": "fd2032c2",
   "metadata": {},
   "outputs": [],
   "source": [
    "semantic = semantic[semantic['malignancy'] != 3]\n",
    "import os\n",
    "semantic = semantic[semantic['noduleID'].isin(list(map(lambda x: int(x.replace('.txt', '')), os.listdir('data/LIDC(MaxSlices)_Nodules'))))]\n",
    "semantic['spicb'] = (semantic['spiculation'] > 1).astype(int)\n",
    "semantic['malb'] = (semantic['malignancy'] > 3).astype(int)\n",
    "semantic['spic_subclass'] = list(map(lambda x: [0,3,1,2][x], 2 * spic_subtypes['spicb'] + spic_subtypes['malb']))"
   ]
  },
  {
   "cell_type": "code",
   "execution_count": 153,
   "id": "6ec19563",
   "metadata": {},
   "outputs": [
    {
     "data": {
      "text/plain": [
       "[781, 116, 387, 204]"
      ]
     },
     "execution_count": 153,
     "metadata": {},
     "output_type": "execute_result"
    }
   ],
   "source": [
    "[sum(semantic['spic_subclass'] == n) for n in range(4)]"
   ]
  },
  {
   "cell_type": "code",
   "execution_count": 166,
   "id": "aaba29f8",
   "metadata": {},
   "outputs": [
    {
     "data": {
      "text/plain": [
       "mal_b  spic_b\n",
       "0      0         781\n",
       "       1         116\n",
       "1      0         204\n",
       "       1         387\n",
       "dtype: int64"
      ]
     },
     "execution_count": 166,
     "metadata": {},
     "output_type": "execute_result"
    }
   ],
   "source": [
    "semantic['spic_b'] = np.where(semantic['spiculation'] > 1, 1, 0)\n",
    "semantic = semantic[semantic['malignancy'] != 3]\n",
    "semantic['mal_b'] = np.where(semantic['malignancy'] > 3, 1, 0)\n",
    "semantic.groupby(['mal_b', 'spic_b']).size()"
   ]
  },
  {
   "cell_type": "code",
   "execution_count": 167,
   "id": "52110504",
   "metadata": {},
   "outputs": [],
   "source": [
    "datasplit = pd.read_csv('data/train_test_splits/LIDC_data_split.csv')\n",
    "datasplit['malignancy2'] = semantic['malignancy']"
   ]
  },
  {
   "cell_type": "code",
   "execution_count": 169,
   "id": "de0accdc",
   "metadata": {},
   "outputs": [
    {
     "data": {
      "text/plain": [
       "0       5\n",
       "1       5\n",
       "2       5\n",
       "3       4\n",
       "4       4\n",
       "       ..\n",
       "2675    4\n",
       "2676    2\n",
       "2677    2\n",
       "2678    5\n",
       "2679    2\n",
       "Name: malignancy, Length: 1488, dtype: int64"
      ]
     },
     "execution_count": 169,
     "metadata": {},
     "output_type": "execute_result"
    }
   ],
   "source": [
    "semantic['malignancy']"
   ]
  },
  {
   "cell_type": "code",
   "execution_count": null,
   "id": "7ecdb070",
   "metadata": {},
   "outputs": [],
   "source": []
  }
 ],
 "metadata": {
  "accelerator": "GPU",
  "colab": {
   "name": "run_test.ipynb",
   "provenance": []
  },
  "gpuClass": "standard",
  "kernelspec": {
   "display_name": "REU",
   "language": "python",
   "name": "reu"
  },
  "language_info": {
   "codemirror_mode": {
    "name": "ipython",
    "version": 3
   },
   "file_extension": ".py",
   "mimetype": "text/x-python",
   "name": "python",
   "nbconvert_exporter": "python",
   "pygments_lexer": "ipython3",
   "version": "3.9.12"
  }
 },
 "nbformat": 4,
 "nbformat_minor": 5
}
