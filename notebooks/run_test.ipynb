{
  "cells": [
    {
      "cell_type": "code",
      "execution_count": 1,
      "id": "f3e227b8",
      "metadata": {
        "id": "f3e227b8"
      },
      "outputs": [],
      "source": [
        "%load_ext autoreload\n",
        "%autoreload 2"
      ]
    },
    {
      "cell_type": "code",
      "execution_count": null,
      "id": "3261d496",
      "metadata": {
        "id": "3261d496",
        "outputId": "61866abd-b83d-4e99-8d07-cf0db9565699"
      },
      "outputs": [
        {
          "name": "stdout",
          "output_type": "stream",
          "text": [
            "C:\\Users\\efurst1\\PycharmProjects\\LIDC_GDRO\n"
          ]
        }
      ],
      "source": [
        "# For use on local machine\n",
        "%cd .."
      ]
    },
    {
      "cell_type": "code",
      "source": [
        "# For use in google colab\n",
        "!git clone https://github.com/mtzig/LIDC_GDRO.git\n",
        "%cd LIDC_GDRO/"
      ],
      "metadata": {
        "colab": {
          "base_uri": "https://localhost:8080/"
        },
        "id": "5KmIQPaa0vb3",
        "outputId": "91964cc5-43a5-4461-8c5e-41826934980d"
      },
      "id": "5KmIQPaa0vb3",
      "execution_count": 2,
      "outputs": [
        {
          "output_type": "stream",
          "name": "stdout",
          "text": [
            "fatal: destination path 'LIDC_GDRO' already exists and is not an empty directory.\n",
            "/content/LIDC_GDRO\n"
          ]
        }
      ]
    },
    {
      "cell_type": "code",
      "source": [
        "!git pull"
      ],
      "metadata": {
        "colab": {
          "base_uri": "https://localhost:8080/"
        },
        "id": "78LzL1-VF5AD",
        "outputId": "d9eccb5e-b4bf-44cf-d459-5328138a409f"
      },
      "id": "78LzL1-VF5AD",
      "execution_count": 3,
      "outputs": [
        {
          "output_type": "stream",
          "name": "stdout",
          "text": [
            "Already up to date.\n"
          ]
        }
      ]
    },
    {
      "cell_type": "code",
      "execution_count": 4,
      "id": "699eb945",
      "metadata": {
        "id": "699eb945"
      },
      "outputs": [],
      "source": [
        "import data_util\n",
        "import datasets\n",
        "import dataloaders\n",
        "import models\n",
        "import torch\n",
        "import loss\n",
        "import train\n",
        "import pandas as pd\n",
        "import numpy as np\n",
        "import torchvision"
      ]
    },
    {
      "cell_type": "code",
      "source": [
        "class TransferModel18(torch.nn.Module):\n",
        "\n",
        "    def __init__(self, pretrained=True, freeze=True, binary = True, device='cpu'):\n",
        "        super(TransferModel18, self).__init__()\n",
        "\n",
        "        self.model = torchvision.models.resnet18(pretrained=pretrained).to(device)\n",
        "        \n",
        "        if freeze:\n",
        "            for param in self.model.parameters():\n",
        "                param.requires_grad = False\n",
        "\n",
        "\n",
        "            # for param in self.model.layer4.parameters():\n",
        "            #     param.requires_grad = True\n",
        "        \n",
        "        out_feats = 2 if binary else 4\n",
        "        self.model.fc = torch.nn.Sequential(\n",
        "          torch.nn.Linear(in_features=512, out_features=36, bias=True, device=device),\n",
        "          torch.nn.ReLU(inplace=True),\n",
        "          # nn.Dropout(p=0.5, inplace=False),\n",
        "          torch.nn.Linear(in_features=36, out_features=out_feats, bias=True, device=device)\n",
        "        )\n",
        "\n",
        "        for layer in self.model.fc:\n",
        "            if hasattr(layer, 'weight'):\n",
        "                torch.nn.init.xavier_uniform_(layer.weight)\n",
        "\n",
        "    def forward(self, x):\n",
        "        return self.model(x).squeeze()\n",
        "\n",
        "\n",
        "class TransferModel50(torch.nn.Module):\n",
        "\n",
        "    def __init__(self, pretrained=True, freeze=True, binary = True, device='cpu'):\n",
        "        super(TransferModel50, self).__init__()\n",
        "\n",
        "        self.model = torchvision.models.resnet50(pretrained=pretrained).to(device)\n",
        "        \n",
        "        if freeze:\n",
        "            for param in self.model.parameters():\n",
        "                param.requires_grad = False\n",
        "\n",
        "\n",
        "            # for param in self.model.layer4.parameters():\n",
        "            #     param.requires_grad = True\n",
        "        \n",
        "        out_feats = 2 if binary else 4\n",
        "        self.model.fc = torch.nn.Sequential(\n",
        "          torch.nn.Linear(in_features=2048, out_features=out_feats, bias=True, device=device),\n",
        "        )\n",
        "\n",
        "        for layer in self.model.fc:\n",
        "            if hasattr(layer, 'weight'):\n",
        "                torch.nn.init.xavier_uniform_(layer.weight)\n",
        "\n",
        "    def forward(self, x):\n",
        "        return self.model(x).squeeze()"
      ],
      "metadata": {
        "id": "x6oWUXS7lJ4p"
      },
      "id": "x6oWUXS7lJ4p",
      "execution_count": 5,
      "outputs": []
    },
    {
      "cell_type": "code",
      "execution_count": 20,
      "id": "03fab424",
      "metadata": {
        "colab": {
          "base_uri": "https://localhost:8080/",
          "height": 35
        },
        "id": "03fab424",
        "outputId": "124aa9ed-676e-4dad-f339-7130afa11f8b"
      },
      "outputs": [
        {
          "output_type": "execute_result",
          "data": {
            "text/plain": [
              "'cuda'"
            ],
            "application/vnd.google.colaboratory.intrinsic+json": {
              "type": "string"
            }
          },
          "metadata": {},
          "execution_count": 20
        }
      ],
      "source": [
        "device = \"cuda\" if torch.cuda.is_available() else \"cpu\"\n",
        "\n",
        "training_fraction = 0.8\n",
        "batch_size = 128\n",
        "proportional = True\n",
        "\n",
        "is_gdro = True\n",
        "\n",
        "hparams = {\"eta\": 0.01, \"gamma\": 1}\n",
        "lr = 0.001\n",
        "weight_decay = 0.0001\n",
        "momentum = 0.9\n",
        "\n",
        "model_class = TransferModel50\n",
        "model_args = (True, False, True, device)\n",
        "\n",
        "\n",
        "device"
      ]
    },
    {
      "cell_type": "markdown",
      "id": "4ee83861",
      "metadata": {
        "id": "4ee83861"
      },
      "source": [
        "# Load and process data"
      ]
    },
    {
      "cell_type": "markdown",
      "id": "80b81d85",
      "metadata": {
        "id": "80b81d85"
      },
      "source": [
        "## LIDC"
      ]
    },
    {
      "cell_type": "code",
      "execution_count": 28,
      "id": "c34b7da7",
      "metadata": {
        "id": "c34b7da7",
        "outputId": "fbd0de45-00b7-484e-c23c-0505f93c3457",
        "colab": {
          "base_uri": "https://localhost:8080/",
          "height": 399
        }
      },
      "outputs": [
        {
          "output_type": "error",
          "ename": "ValueError",
          "evalue": "ignored",
          "traceback": [
            "\u001b[0;31m---------------------------------------------------------------------------\u001b[0m",
            "\u001b[0;31mValueError\u001b[0m                                Traceback (most recent call last)",
            "\u001b[0;32m<ipython-input-28-ff2f8c68704f>\u001b[0m in \u001b[0;36m<module>\u001b[0;34m()\u001b[0m\n\u001b[1;32m      1\u001b[0m \u001b[0;31m# get LIDC data\u001b[0m\u001b[0;34m\u001b[0m\u001b[0;34m\u001b[0m\u001b[0;34m\u001b[0m\u001b[0m\n\u001b[1;32m      2\u001b[0m \u001b[0;34m\u001b[0m\u001b[0m\n\u001b[0;32m----> 3\u001b[0;31m \u001b[0mdf\u001b[0m \u001b[0;34m=\u001b[0m \u001b[0mdata_util\u001b[0m\u001b[0;34m.\u001b[0m\u001b[0mpreprocess_data\u001b[0m\u001b[0;34m(\u001b[0m\u001b[0;34m*\u001b[0m\u001b[0mdata_util\u001b[0m\u001b[0;34m.\u001b[0m\u001b[0mload_lidc\u001b[0m\u001b[0;34m(\u001b[0m\u001b[0;34m)\u001b[0m\u001b[0;34m)\u001b[0m\u001b[0;34m\u001b[0m\u001b[0;34m\u001b[0m\u001b[0m\n\u001b[0m\u001b[1;32m      4\u001b[0m \u001b[0mdf\u001b[0m\u001b[0;34m\u001b[0m\u001b[0;34m\u001b[0m\u001b[0m\n",
            "\u001b[0;32m/content/LIDC_GDRO/data_util.py\u001b[0m in \u001b[0;36mpreprocess_data\u001b[0;34m(df, subtype_df)\u001b[0m\n\u001b[1;32m     64\u001b[0m \u001b[0;34m\u001b[0m\u001b[0m\n\u001b[1;32m     65\u001b[0m     \u001b[0;32mfor\u001b[0m \u001b[0mi\u001b[0m \u001b[0;32min\u001b[0m \u001b[0mdf\u001b[0m\u001b[0;34m.\u001b[0m\u001b[0mindex\u001b[0m\u001b[0;34m:\u001b[0m\u001b[0;34m\u001b[0m\u001b[0;34m\u001b[0m\u001b[0m\n\u001b[0;32m---> 66\u001b[0;31m         \u001b[0mdf\u001b[0m\u001b[0;34m.\u001b[0m\u001b[0mat\u001b[0m\u001b[0;34m[\u001b[0m\u001b[0mi\u001b[0m\u001b[0;34m,\u001b[0m \u001b[0msubclass_label_name\u001b[0m\u001b[0;34m]\u001b[0m \u001b[0;34m=\u001b[0m \u001b[0msubtype_df\u001b[0m\u001b[0;34m.\u001b[0m\u001b[0mat\u001b[0m\u001b[0;34m[\u001b[0m\u001b[0mdf\u001b[0m\u001b[0;34m.\u001b[0m\u001b[0mat\u001b[0m\u001b[0;34m[\u001b[0m\u001b[0mi\u001b[0m\u001b[0;34m,\u001b[0m \u001b[0mid_name\u001b[0m\u001b[0;34m]\u001b[0m\u001b[0;34m,\u001b[0m \u001b[0msubclass_label_name\u001b[0m\u001b[0;34m]\u001b[0m\u001b[0;34m\u001b[0m\u001b[0;34m\u001b[0m\u001b[0m\n\u001b[0m\u001b[1;32m     67\u001b[0m \u001b[0;34m\u001b[0m\u001b[0m\n\u001b[1;32m     68\u001b[0m     \u001b[0mprint\u001b[0m\u001b[0;34m(\u001b[0m\u001b[0;34m\"checkpoint\"\u001b[0m\u001b[0;34m)\u001b[0m\u001b[0;34m\u001b[0m\u001b[0;34m\u001b[0m\u001b[0m\n",
            "\u001b[0;32m/usr/local/lib/python3.7/dist-packages/pandas/core/indexing.py\u001b[0m in \u001b[0;36m__setitem__\u001b[0;34m(self, key, value)\u001b[0m\n\u001b[1;32m   2284\u001b[0m             \u001b[0;32mreturn\u001b[0m\u001b[0;34m\u001b[0m\u001b[0;34m\u001b[0m\u001b[0m\n\u001b[1;32m   2285\u001b[0m \u001b[0;34m\u001b[0m\u001b[0m\n\u001b[0;32m-> 2286\u001b[0;31m         \u001b[0;32mreturn\u001b[0m \u001b[0msuper\u001b[0m\u001b[0;34m(\u001b[0m\u001b[0;34m)\u001b[0m\u001b[0;34m.\u001b[0m\u001b[0m__setitem__\u001b[0m\u001b[0;34m(\u001b[0m\u001b[0mkey\u001b[0m\u001b[0;34m,\u001b[0m \u001b[0mvalue\u001b[0m\u001b[0;34m)\u001b[0m\u001b[0;34m\u001b[0m\u001b[0;34m\u001b[0m\u001b[0m\n\u001b[0m\u001b[1;32m   2287\u001b[0m \u001b[0;34m\u001b[0m\u001b[0m\n\u001b[1;32m   2288\u001b[0m \u001b[0;34m\u001b[0m\u001b[0m\n",
            "\u001b[0;32m/usr/local/lib/python3.7/dist-packages/pandas/core/indexing.py\u001b[0m in \u001b[0;36m__setitem__\u001b[0;34m(self, key, value)\u001b[0m\n\u001b[1;32m   2235\u001b[0m             \u001b[0;32mraise\u001b[0m \u001b[0mValueError\u001b[0m\u001b[0;34m(\u001b[0m\u001b[0;34m\"Not enough indexers for scalar access (setting)!\"\u001b[0m\u001b[0;34m)\u001b[0m\u001b[0;34m\u001b[0m\u001b[0;34m\u001b[0m\u001b[0m\n\u001b[1;32m   2236\u001b[0m \u001b[0;34m\u001b[0m\u001b[0m\n\u001b[0;32m-> 2237\u001b[0;31m         \u001b[0mself\u001b[0m\u001b[0;34m.\u001b[0m\u001b[0mobj\u001b[0m\u001b[0;34m.\u001b[0m\u001b[0m_set_value\u001b[0m\u001b[0;34m(\u001b[0m\u001b[0;34m*\u001b[0m\u001b[0mkey\u001b[0m\u001b[0;34m,\u001b[0m \u001b[0mvalue\u001b[0m\u001b[0;34m=\u001b[0m\u001b[0mvalue\u001b[0m\u001b[0;34m,\u001b[0m \u001b[0mtakeable\u001b[0m\u001b[0;34m=\u001b[0m\u001b[0mself\u001b[0m\u001b[0;34m.\u001b[0m\u001b[0m_takeable\u001b[0m\u001b[0;34m)\u001b[0m\u001b[0;34m\u001b[0m\u001b[0;34m\u001b[0m\u001b[0m\n\u001b[0m\u001b[1;32m   2238\u001b[0m \u001b[0;34m\u001b[0m\u001b[0m\n\u001b[1;32m   2239\u001b[0m \u001b[0;34m\u001b[0m\u001b[0m\n",
            "\u001b[0;32m/usr/local/lib/python3.7/dist-packages/pandas/core/frame.py\u001b[0m in \u001b[0;36m_set_value\u001b[0;34m(self, index, col, value, takeable)\u001b[0m\n\u001b[1;32m   3824\u001b[0m             \u001b[0mvalidate_numeric_casting\u001b[0m\u001b[0;34m(\u001b[0m\u001b[0mseries\u001b[0m\u001b[0;34m.\u001b[0m\u001b[0mdtype\u001b[0m\u001b[0;34m,\u001b[0m \u001b[0mvalue\u001b[0m\u001b[0;34m)\u001b[0m\u001b[0;34m\u001b[0m\u001b[0;34m\u001b[0m\u001b[0m\n\u001b[1;32m   3825\u001b[0m \u001b[0;34m\u001b[0m\u001b[0m\n\u001b[0;32m-> 3826\u001b[0;31m             \u001b[0mseries\u001b[0m\u001b[0;34m.\u001b[0m\u001b[0m_values\u001b[0m\u001b[0;34m[\u001b[0m\u001b[0mloc\u001b[0m\u001b[0;34m]\u001b[0m \u001b[0;34m=\u001b[0m \u001b[0mvalue\u001b[0m\u001b[0;34m\u001b[0m\u001b[0;34m\u001b[0m\u001b[0m\n\u001b[0m\u001b[1;32m   3827\u001b[0m             \u001b[0;31m# Note: trying to use series._set_value breaks tests in\u001b[0m\u001b[0;34m\u001b[0m\u001b[0;34m\u001b[0m\u001b[0;34m\u001b[0m\u001b[0m\n\u001b[1;32m   3828\u001b[0m             \u001b[0;31m#  tests.frame.indexing.test_indexing and tests.indexing.test_partial\u001b[0m\u001b[0;34m\u001b[0m\u001b[0;34m\u001b[0m\u001b[0;34m\u001b[0m\u001b[0m\n",
            "\u001b[0;31mValueError\u001b[0m: could not convert string to float: 'marked_malignant'"
          ]
        }
      ],
      "source": [
        "# get LIDC data\n",
        "\n",
        "df = data_util.preprocess_data(*data_util.load_lidc())\n",
        "df"
      ]
    },
    {
      "cell_type": "code",
      "execution_count": null,
      "id": "215c018f",
      "metadata": {
        "id": "215c018f"
      },
      "outputs": [],
      "source": [
        "# get train/test flags\n",
        "train_test = pd.read_csv(\"data/lidc_train_test_split_stratified.csv\")\n",
        "\n",
        "# create train/test dataframes\n",
        "training_df = df[df[\"noduleID\"].isin(train_test[train_test[\"dataset\"] == \"train\"][\"noduleID\"].values)]\n",
        "test_df = df[df[\"noduleID\"].isin(train_test[train_test[\"dataset\"] == \"test\"][\"noduleID\"].values)]"
      ]
    },
    {
      "cell_type": "code",
      "source": [
        ""
      ],
      "metadata": {
        "id": "mc5KMfrsQIYZ"
      },
      "id": "mc5KMfrsQIYZ",
      "execution_count": null,
      "outputs": []
    },
    {
      "cell_type": "markdown",
      "id": "46f66e99",
      "metadata": {
        "id": "46f66e99"
      },
      "source": [
        "## Waterbirds"
      ]
    },
    {
      "cell_type": "code",
      "source": [
        "# download waterbirds through wilds\n",
        "\n",
        "!pip install wilds\n",
        "from wilds import get_dataset\n",
        "\n",
        "get_dataset(dataset=\"waterbirds\", download=True)"
      ],
      "metadata": {
        "colab": {
          "base_uri": "https://localhost:8080/"
        },
        "id": "uuxjOKFl5Nel",
        "outputId": "dd457fc5-d8dc-41b2-e280-44ce0c35a24b"
      },
      "id": "uuxjOKFl5Nel",
      "execution_count": 7,
      "outputs": [
        {
          "output_type": "stream",
          "name": "stdout",
          "text": [
            "Looking in indexes: https://pypi.org/simple, https://us-python.pkg.dev/colab-wheels/public/simple/\n",
            "Requirement already satisfied: wilds in /usr/local/lib/python3.7/dist-packages (2.0.0)\n",
            "Requirement already satisfied: scikit-learn>=0.20.0 in /usr/local/lib/python3.7/dist-packages (from wilds) (1.0.2)\n",
            "Requirement already satisfied: pandas>=1.1.0 in /usr/local/lib/python3.7/dist-packages (from wilds) (1.3.5)\n",
            "Requirement already satisfied: torchvision>=0.8.2 in /usr/local/lib/python3.7/dist-packages (from wilds) (0.13.0+cu113)\n",
            "Requirement already satisfied: numpy>=1.19.1 in /usr/local/lib/python3.7/dist-packages (from wilds) (1.21.6)\n",
            "Requirement already satisfied: pytz>=2020.4 in /usr/local/lib/python3.7/dist-packages (from wilds) (2022.1)\n",
            "Requirement already satisfied: torch>=1.7.0 in /usr/local/lib/python3.7/dist-packages (from wilds) (1.12.0+cu113)\n",
            "Requirement already satisfied: ogb>=1.2.6 in /usr/local/lib/python3.7/dist-packages (from wilds) (1.3.3)\n",
            "Requirement already satisfied: scipy>=1.5.4 in /usr/local/lib/python3.7/dist-packages (from wilds) (1.5.4)\n",
            "Requirement already satisfied: tqdm>=4.53.0 in /usr/local/lib/python3.7/dist-packages (from wilds) (4.64.0)\n",
            "Requirement already satisfied: pillow>=7.2.0 in /usr/local/lib/python3.7/dist-packages (from wilds) (9.2.0)\n",
            "Requirement already satisfied: outdated>=0.2.0 in /usr/local/lib/python3.7/dist-packages (from wilds) (0.2.1)\n",
            "Requirement already satisfied: urllib3>=1.24.0 in /usr/local/lib/python3.7/dist-packages (from ogb>=1.2.6->wilds) (1.24.3)\n",
            "Requirement already satisfied: six>=1.12.0 in /usr/local/lib/python3.7/dist-packages (from ogb>=1.2.6->wilds) (1.15.0)\n",
            "Requirement already satisfied: littleutils in /usr/local/lib/python3.7/dist-packages (from outdated>=0.2.0->wilds) (0.2.2)\n",
            "Requirement already satisfied: requests in /usr/local/lib/python3.7/dist-packages (from outdated>=0.2.0->wilds) (2.23.0)\n",
            "Requirement already satisfied: python-dateutil>=2.7.3 in /usr/local/lib/python3.7/dist-packages (from pandas>=1.1.0->wilds) (2.8.2)\n",
            "Requirement already satisfied: joblib>=0.11 in /usr/local/lib/python3.7/dist-packages (from scikit-learn>=0.20.0->wilds) (1.1.0)\n",
            "Requirement already satisfied: threadpoolctl>=2.0.0 in /usr/local/lib/python3.7/dist-packages (from scikit-learn>=0.20.0->wilds) (3.1.0)\n",
            "Requirement already satisfied: typing-extensions in /usr/local/lib/python3.7/dist-packages (from torch>=1.7.0->wilds) (4.1.1)\n",
            "Requirement already satisfied: certifi>=2017.4.17 in /usr/local/lib/python3.7/dist-packages (from requests->outdated>=0.2.0->wilds) (2022.6.15)\n",
            "Requirement already satisfied: idna<3,>=2.5 in /usr/local/lib/python3.7/dist-packages (from requests->outdated>=0.2.0->wilds) (2.10)\n",
            "Requirement already satisfied: chardet<4,>=3.0.2 in /usr/local/lib/python3.7/dist-packages (from requests->outdated>=0.2.0->wilds) (3.0.4)\n"
          ]
        },
        {
          "output_type": "execute_result",
          "data": {
            "text/plain": [
              "<wilds.datasets.waterbirds_dataset.WaterbirdsDataset at 0x7fddf0c444d0>"
            ]
          },
          "metadata": {},
          "execution_count": 7
        }
      ]
    },
    {
      "cell_type": "code",
      "execution_count": 7,
      "id": "5f4ac03c",
      "metadata": {
        "id": "5f4ac03c"
      },
      "outputs": [],
      "source": [
        "from PIL import Image"
      ]
    },
    {
      "cell_type": "code",
      "execution_count": 8,
      "id": "cbbb108e",
      "metadata": {
        "id": "cbbb108e"
      },
      "outputs": [],
      "source": [
        "metadata_df = pd.read_csv('data/waterbirds_v1.0/metadata.csv')"
      ]
    },
    {
      "cell_type": "code",
      "source": [
        "from torchvision import transforms\n",
        "class OnDemandWaterbirdsDataset(torch.utils.data.Dataset):\n",
        "    def __init__(self, metadata, root_dir, transform, device):\n",
        "        '''\n",
        "        INPUTS:\n",
        "        metadata: metadata dataframe storing the image paths, labels, and subclasses\n",
        "        root_dir: the directory where the image files are stored\n",
        "        transform: the transform to apply to the image when it is loaded\n",
        "        device to move tensors to as they are loaded\n",
        "\n",
        "        '''\n",
        "\n",
        "        self.metadata = metadata\n",
        "        self.root_dir = root_dir\n",
        "        self.transform = transform\n",
        "        self.device = device\n",
        "\n",
        "    def __len__(self):\n",
        "        return len(self.metadata)\n",
        "\n",
        "    def __getitem__(self, idx):\n",
        "        if torch.is_tensor(idx):\n",
        "            idx = idx.tolist()\n",
        "\n",
        "        # column 1: image path\n",
        "        img_path = self.metadata.iloc[idx, 1]\n",
        "        img_tensor = self.transform(Image.open(self.root_dir + img_path)).squeeze().to(self.device)\n",
        "\n",
        "        # column 2: image label\n",
        "        label = torch.LongTensor([self.metadata.iloc[idx, 2]]).squeeze().to(self.device)\n",
        "\n",
        "        # column 4 contains the confounding label, which is combined with column 2 to get the subclass\n",
        "        subclass = torch.LongTensor([2 * self.metadata.iloc[idx, 2] + self.metadata.iloc[idx, 4]]).squeeze().to(self.device)\n",
        "\n",
        "        return img_tensor, label, subclass"
      ],
      "metadata": {
        "id": "UMVCGl8vg9__"
      },
      "id": "UMVCGl8vg9__",
      "execution_count": 9,
      "outputs": []
    },
    {
      "cell_type": "code",
      "execution_count": 10,
      "id": "6c0e29fe",
      "metadata": {
        "id": "6c0e29fe"
      },
      "outputs": [],
      "source": [
        "convert_resize = torchvision.transforms.Compose([torchvision.transforms.ToTensor(), torchvision.transforms.Resize((200, 200), antialias=True)])\n",
        "\n",
        "train_df, val_df, test_df = [metadata_df[metadata_df['split'] == split] for split in [0, 1, 2]]\n",
        "\n",
        "dataset_list = []\n",
        "\n",
        "for df in [train_df, val_df, test_df]:\n",
        "    dataset_list.append(OnDemandWaterbirdsDataset(df, 'data/waterbirds_v1.0/', transform=convert_resize, device=device))"
      ]
    },
    {
      "cell_type": "code",
      "source": [
        "# smaller dataloaders for prototyping\n",
        "train_dataloader, test_dataloader, _ = [dataloaders.InfiniteDataLoader(torch.utils.data.Subset(dataset, range(0, len(dataset), 2)), batch_size=batch_size) for dataset in dataset_list]"
      ],
      "metadata": {
        "id": "LpHSlphyRC-Z"
      },
      "id": "LpHSlphyRC-Z",
      "execution_count": 11,
      "outputs": []
    },
    {
      "cell_type": "code",
      "execution_count": 19,
      "id": "91cb9160",
      "metadata": {
        "id": "91cb9160"
      },
      "outputs": [],
      "source": [
        "# full size dataloaders\n",
        "train_dataloader, test_dataloader, _ = [dataloaders.InfiniteDataLoader(dataset, batch_size=batch_size) for dataset in dataset_list]"
      ]
    },
    {
      "cell_type": "markdown",
      "id": "c71e542c",
      "metadata": {
        "id": "c71e542c"
      },
      "source": [
        "\n",
        "# Test convergence of combinations of ERM and GDRO"
      ]
    },
    {
      "cell_type": "code",
      "source": [
        "N = 1\n",
        "epochs = 15\n",
        "# subtypes = [\"Overall\", \"Unspiculated benign\", \"Spiculated benign\", \"Spiculated malignant\", \"Unspiculated malignant\"]\n",
        "subtypes = [\"Overall\", \"Land on land\", \"Land on water\", \"Water on land\", \"Water on water\"]\n",
        "\n",
        "# test_algorithms = [\"ERM\", \"GDRO\", \"Sharp\", \"Smooth\", \"ReverseSmooth\", \"Dynamic\", \"ExtraERM\", \"ExtraGDRO\", \"Halfway\"]\n",
        "# test_algorithms = [\"Mix\" + str(t) for t in [0.4, 0.5, 0.6, 0.7, 0.8]]\n",
        "# test_algorithms = [\"ERM\", \"GDRO\", *[\"Dynamic\" + str(t) for t in [0.01, 0.05, 0.1, 0.5]]]\n",
        "test_algorithms = [\"ERM\", \"GDRO\", \"Dynamic\"]\n",
        "keep_old =        [True, True, False]"
      ],
      "metadata": {
        "id": "IEeBRPdddJjd"
      },
      "id": "IEeBRPdddJjd",
      "execution_count": 12,
      "outputs": []
    },
    {
      "cell_type": "code",
      "execution_count": 21,
      "id": "3001211d",
      "metadata": {
        "colab": {
          "base_uri": "https://localhost:8080/"
        },
        "id": "3001211d",
        "outputId": "abe9a7ea-de4f-45b3-8f8c-625803e3ec91"
      },
      "outputs": [
        {
          "output_type": "stream",
          "name": "stdout",
          "text": [
            "Keeping old results for ERM\n",
            "Keeping old results for GDRO\n",
            "Running test: Dynamic\n",
            "Trial 1/1\n"
          ]
        },
        {
          "output_type": "stream",
          "name": "stderr",
          "text": [
            "/usr/local/lib/python3.7/dist-packages/torchvision/models/_utils.py:209: UserWarning: The parameter 'pretrained' is deprecated since 0.13 and will be removed in 0.15, please use 'weights' instead.\n",
            "  f\"The parameter '{pretrained_param}' is deprecated since 0.13 and will be removed in 0.15, \"\n",
            "/usr/local/lib/python3.7/dist-packages/torchvision/models/_utils.py:223: UserWarning: Arguments other than a weight enum or `None` for 'weights' are deprecated since 0.13 and will be removed in 0.15. The current behavior is equivalent to passing `weights=ResNet50_Weights.IMAGENET1K_V1`. You can also use `weights=ResNet50_Weights.DEFAULT` to get the most up-to-date weights.\n",
            "  warnings.warn(msg)\n"
          ]
        },
        {
          "output_type": "stream",
          "name": "stdout",
          "text": [
            "Epoch 1 / 15\n",
            "(0.564453125, 0.9411764705882353, 0.17040358744394618, 0.3902439024390244, 0.9672131147540983)\n",
            "tensor([0.4781, 0.5219], device='cuda:0') tensor([0.2261, 0.2479, 0.2654, 0.2606], device='cuda:0')\n",
            "Epoch 2 / 15\n",
            "(0.681640625, 0.9792746113989638, 0.5353535353535354, 0.1, 0.7868852459016393)\n",
            "tensor([0.4908, 0.5092], device='cuda:0') tensor([0.2035, 0.2615, 0.2936, 0.2414], device='cuda:0')\n",
            "Epoch 3 / 15\n",
            "(0.775390625, 0.9853658536585366, 0.700507614213198, 0.12, 0.85)\n",
            "tensor([0.5065, 0.4935], device='cuda:0') tensor([0.1867, 0.2669, 0.3198, 0.2266], device='cuda:0')\n",
            "Epoch 4 / 15\n",
            "(0.759765625, 0.994535519125683, 0.6398104265402843, 0.2631578947368421, 0.9344262295081968)\n",
            "tensor([0.5307, 0.4693], device='cuda:0') tensor([0.1787, 0.2703, 0.3297, 0.2213], device='cuda:0')\n",
            "Epoch 5 / 15\n",
            "(0.7265625, 0.9938271604938271, 0.6061946902654868, 0.17647058823529413, 0.8904109589041096)\n",
            "tensor([0.5559, 0.4441], device='cuda:0') tensor([0.1752, 0.2713, 0.3341, 0.2193], device='cuda:0')\n",
            "Epoch 6 / 15\n",
            "(0.740234375, 1.0, 0.573394495412844, 0.3, 0.9230769230769231)\n",
            "tensor([0.5720, 0.4280], device='cuda:0') tensor([0.1708, 0.2699, 0.3437, 0.2155], device='cuda:0')\n",
            "Epoch 7 / 15\n",
            "(0.771484375, 0.9947368421052631, 0.6129032258064516, 0.4166666666666667, 0.881578947368421)\n",
            "tensor([0.5876, 0.4124], device='cuda:0') tensor([0.1681, 0.2719, 0.3468, 0.2133], device='cuda:0')\n",
            "Epoch 8 / 15\n",
            "(0.783203125, 1.0, 0.6298076923076923, 0.28205128205128205, 0.8983050847457628)\n",
            "tensor([0.5990, 0.4010], device='cuda:0') tensor([0.1666, 0.2710, 0.3501, 0.2123], device='cuda:0')\n",
            "Epoch 9 / 15\n",
            "(0.775390625, 0.9899497487437185, 0.6349206349206349, 0.32727272727272727, 0.8985507246376812)\n",
            "tensor([0.6102, 0.3898], device='cuda:0') tensor([0.1655, 0.2719, 0.3511, 0.2115], device='cuda:0')\n",
            "Epoch 10 / 15\n",
            "(0.7421875, 0.9884393063583815, 0.5844748858447488, 0.3404255319148936, 0.8904109589041096)\n",
            "tensor([0.6175, 0.3825], device='cuda:0') tensor([0.1644, 0.2710, 0.3536, 0.2110], device='cuda:0')\n",
            "Epoch 11 / 15\n",
            "(0.740234375, 1.0, 0.5412844036697247, 0.375, 0.8840579710144928)\n",
            "tensor([0.6251, 0.3749], device='cuda:0') tensor([0.1636, 0.2717, 0.3544, 0.2103], device='cuda:0')\n",
            "Epoch 12 / 15\n",
            "(0.767578125, 1.0, 0.6607929515418502, 0.38095238095238093, 0.9347826086956522)\n",
            "tensor([0.6305, 0.3695], device='cuda:0') tensor([0.1631, 0.2718, 0.3552, 0.2099], device='cuda:0')\n",
            "Epoch 13 / 15\n",
            "(0.759765625, 0.9828571428571429, 0.6339285714285714, 0.3125, 0.9230769230769231)\n",
            "tensor([0.6361, 0.3639], device='cuda:0') tensor([0.1627, 0.2718, 0.3560, 0.2096], device='cuda:0')\n",
            "Epoch 14 / 15\n",
            "(0.7578125, 0.9890710382513661, 0.6103286384976526, 0.4482758620689655, 0.8793103448275862)\n",
            "tensor([0.6404, 0.3596], device='cuda:0') tensor([0.1623, 0.2715, 0.3568, 0.2094], device='cuda:0')\n",
            "Epoch 15 / 15\n",
            "(0.798828125, 0.9864253393665159, 0.6358695652173914, 0.4782608695652174, 0.8524590163934426)\n",
            "tensor([0.6435, 0.3565], device='cuda:0') tensor([0.1615, 0.2713, 0.3586, 0.2086], device='cuda:0')\n",
            "Test complete\n"
          ]
        }
      ],
      "source": [
        "if not sum(keep_old):\n",
        "  results = {}\n",
        "\n",
        "for a in range(len(test_algorithms)):\n",
        "    algorithm = test_algorithms[a]\n",
        "\n",
        "    if keep_old[a] and algorithm in results:\n",
        "      print(f\"Keeping old results for {algorithm}\")\n",
        "    else:\n",
        "      print(f\"Running test: {algorithm}\")\n",
        "\n",
        "      results[algorithm] = np.zeros(N * epochs * len(subtypes))\n",
        "\n",
        "      # create the training and testing dataloaders\n",
        "  #     if algorithm == \"ERM\":\n",
        "  #         train_dataloader = data_util.create_dataloader(training_df, batch_size)\n",
        "  #     else:\n",
        "  #         train_dataloader = data_util.create_subtyped_dataloader(training_df, subtype_df, batch_size, proportional)\n",
        "  #     test_dataloader = data_util.create_subtyped_dataloader(test_df, subtype_df, batch_size, proportional)\n",
        "      \n",
        "      # train_dataloader = data_util.create_dataloader(training_df, batch_size)\n",
        "      # test_dataloader = data_util.create_dataloader(test_df, batch_size)\n",
        "\n",
        "      for n in range(N):\n",
        "\n",
        "          print(f\"Trial {n + 1}/{N}\")\n",
        "\n",
        "          # create and train model\n",
        "          # model = models.NeuralNetwork(64, 32, 32, 2)\n",
        "          # model.to(device)\n",
        "          model = model_class(*model_args)\n",
        "\n",
        "          if (algorithm == \"ERM\"):\n",
        "              loss_fn = loss.ERMLoss(model, torch.nn.CrossEntropyLoss(), hparams, subclassed=True)\n",
        "          elif (algorithm == \"GDRO\"):\n",
        "              loss_fn = loss.GDROLossAlt(model, torch.nn.CrossEntropyLoss(), hparams[\"eta\"], 4, normalize_loss=False)\n",
        "          elif (algorithm.startswith(\"GDRO\")):\n",
        "              loss_fn = loss.GDROLossAlt(model, torch.nn.CrossEntropyLoss(), float(algorithm[len(\"GDRO\"):]), 4, normalize_loss=True)\n",
        "          elif (algorithm == \"Dynamic\"):\n",
        "              loss_fn = loss.DynamicERMGDROLossAlt(model, torch.nn.CrossEntropyLoss(), hparams[\"eta\"], hparams[\"gamma\"], 4)\n",
        "          elif (algorithm.startswith(\"Dynamic\")):\n",
        "              loss_fn = loss.DynamicERMGDROLossAlt(model, torch.nn.CrossEntropyLoss(), float(algorithm[len(\"Dynamic\"):]), hparams[\"gamma\"], 4)\n",
        "          else:\n",
        "              loss_fn = loss.ERMGDROLoss(model, torch.nn.CrossEntropyLoss(), hparams, 4)\n",
        "          optimizer = torch.optim.SGD(model.parameters(), lr=lr, weight_decay=weight_decay, momentum=momentum)\n",
        "\n",
        "          for epoch in range(epochs):\n",
        "              print(f'Epoch {epoch + 1} / {epochs}')\n",
        "\n",
        "              if algorithm == \"Sharp\":\n",
        "                  loss_fn.t = epoch / epochs < 0.5  # sharp boundary\n",
        "              elif algorithm == \"Smooth\":\n",
        "                  loss_fn.t = 1 - (epoch / (epochs - 1))  # linear interpolation\n",
        "              elif algorithm == \"ReverseSmooth\":\n",
        "                  loss_fn.t = epoch / (epochs - 1)  # reverse linear interpolation\n",
        "              elif algorithm == \"ExtraERM\":\n",
        "                  loss_fn.t = 2\n",
        "              elif algorithm == \"ExtraGDRO\":\n",
        "                  loss_fn.t = -1\n",
        "              elif algorithm == \"Halfway\":\n",
        "                  loss_fn.t = 0.5\n",
        "              elif algorithm.startswith(\"Mix\"):\n",
        "                  loss_fn.t = float(algorithm[3:])  # ex. algorithm == \"Mix0.5\" => t = 0.5\n",
        "\n",
        "              train.train(train_dataloader, model, loss_fn, optimizer)\n",
        "              sensitivities = train.test(test_dataloader, model)\n",
        "              print(sensitivities)\n",
        "\n",
        "              print(loss_fn.g, loss_fn.q)\n",
        "\n",
        "              for i in range(len(subtypes)):\n",
        "                  results[algorithm][n * epochs * len(subtypes) + epoch * len(subtypes) + i] = sensitivities[i]\n",
        "\n",
        "print(\"Test complete\")"
      ]
    },
    {
      "cell_type": "code",
      "source": [
        "results_df = pd.DataFrame(results, index=pd.MultiIndex.from_product([range(N), range(epochs), subtypes], names=[\"trial\", \"epoch\", \"subtype\"]))"
      ],
      "metadata": {
        "id": "glUDAbPN5Xda"
      },
      "id": "glUDAbPN5Xda",
      "execution_count": 22,
      "outputs": []
    },
    {
      "cell_type": "code",
      "execution_count": 23,
      "id": "0a478b90",
      "metadata": {
        "colab": {
          "base_uri": "https://localhost:8080/",
          "height": 455
        },
        "id": "0a478b90",
        "outputId": "45846203-c975-4a16-ec1a-9e3b452035aa"
      },
      "outputs": [
        {
          "output_type": "execute_result",
          "data": {
            "text/plain": [
              "                         ERM      GDRO   Dynamic\n",
              "subtype      epoch                              \n",
              "Land on land 0      0.988636  0.984293  0.941176\n",
              "             1      0.994764  0.931937  0.979275\n",
              "             2      1.000000  0.994505  0.985366\n",
              "             3      1.000000  0.988764  0.994536\n",
              "             4      1.000000  0.988571  0.993827\n",
              "...                      ...       ...       ...\n",
              "Worst        10     0.320755  0.709677  0.375000\n",
              "             11     0.385965  0.656109  0.380952\n",
              "             12     0.342105  0.712446  0.312500\n",
              "             13     0.482143  0.700000  0.448276\n",
              "             14     0.452830  0.716346  0.478261\n",
              "\n",
              "[90 rows x 3 columns]"
            ],
            "text/html": [
              "\n",
              "  <div id=\"df-ec1288bf-67e7-4c14-a558-2abe31393fa4\">\n",
              "    <div class=\"colab-df-container\">\n",
              "      <div>\n",
              "<style scoped>\n",
              "    .dataframe tbody tr th:only-of-type {\n",
              "        vertical-align: middle;\n",
              "    }\n",
              "\n",
              "    .dataframe tbody tr th {\n",
              "        vertical-align: top;\n",
              "    }\n",
              "\n",
              "    .dataframe thead th {\n",
              "        text-align: right;\n",
              "    }\n",
              "</style>\n",
              "<table border=\"1\" class=\"dataframe\">\n",
              "  <thead>\n",
              "    <tr style=\"text-align: right;\">\n",
              "      <th></th>\n",
              "      <th></th>\n",
              "      <th>ERM</th>\n",
              "      <th>GDRO</th>\n",
              "      <th>Dynamic</th>\n",
              "    </tr>\n",
              "    <tr>\n",
              "      <th>subtype</th>\n",
              "      <th>epoch</th>\n",
              "      <th></th>\n",
              "      <th></th>\n",
              "      <th></th>\n",
              "    </tr>\n",
              "  </thead>\n",
              "  <tbody>\n",
              "    <tr>\n",
              "      <th rowspan=\"5\" valign=\"top\">Land on land</th>\n",
              "      <th>0</th>\n",
              "      <td>0.988636</td>\n",
              "      <td>0.984293</td>\n",
              "      <td>0.941176</td>\n",
              "    </tr>\n",
              "    <tr>\n",
              "      <th>1</th>\n",
              "      <td>0.994764</td>\n",
              "      <td>0.931937</td>\n",
              "      <td>0.979275</td>\n",
              "    </tr>\n",
              "    <tr>\n",
              "      <th>2</th>\n",
              "      <td>1.000000</td>\n",
              "      <td>0.994505</td>\n",
              "      <td>0.985366</td>\n",
              "    </tr>\n",
              "    <tr>\n",
              "      <th>3</th>\n",
              "      <td>1.000000</td>\n",
              "      <td>0.988764</td>\n",
              "      <td>0.994536</td>\n",
              "    </tr>\n",
              "    <tr>\n",
              "      <th>4</th>\n",
              "      <td>1.000000</td>\n",
              "      <td>0.988571</td>\n",
              "      <td>0.993827</td>\n",
              "    </tr>\n",
              "    <tr>\n",
              "      <th>...</th>\n",
              "      <th>...</th>\n",
              "      <td>...</td>\n",
              "      <td>...</td>\n",
              "      <td>...</td>\n",
              "    </tr>\n",
              "    <tr>\n",
              "      <th rowspan=\"5\" valign=\"top\">Worst</th>\n",
              "      <th>10</th>\n",
              "      <td>0.320755</td>\n",
              "      <td>0.709677</td>\n",
              "      <td>0.375000</td>\n",
              "    </tr>\n",
              "    <tr>\n",
              "      <th>11</th>\n",
              "      <td>0.385965</td>\n",
              "      <td>0.656109</td>\n",
              "      <td>0.380952</td>\n",
              "    </tr>\n",
              "    <tr>\n",
              "      <th>12</th>\n",
              "      <td>0.342105</td>\n",
              "      <td>0.712446</td>\n",
              "      <td>0.312500</td>\n",
              "    </tr>\n",
              "    <tr>\n",
              "      <th>13</th>\n",
              "      <td>0.482143</td>\n",
              "      <td>0.700000</td>\n",
              "      <td>0.448276</td>\n",
              "    </tr>\n",
              "    <tr>\n",
              "      <th>14</th>\n",
              "      <td>0.452830</td>\n",
              "      <td>0.716346</td>\n",
              "      <td>0.478261</td>\n",
              "    </tr>\n",
              "  </tbody>\n",
              "</table>\n",
              "<p>90 rows × 3 columns</p>\n",
              "</div>\n",
              "      <button class=\"colab-df-convert\" onclick=\"convertToInteractive('df-ec1288bf-67e7-4c14-a558-2abe31393fa4')\"\n",
              "              title=\"Convert this dataframe to an interactive table.\"\n",
              "              style=\"display:none;\">\n",
              "        \n",
              "  <svg xmlns=\"http://www.w3.org/2000/svg\" height=\"24px\"viewBox=\"0 0 24 24\"\n",
              "       width=\"24px\">\n",
              "    <path d=\"M0 0h24v24H0V0z\" fill=\"none\"/>\n",
              "    <path d=\"M18.56 5.44l.94 2.06.94-2.06 2.06-.94-2.06-.94-.94-2.06-.94 2.06-2.06.94zm-11 1L8.5 8.5l.94-2.06 2.06-.94-2.06-.94L8.5 2.5l-.94 2.06-2.06.94zm10 10l.94 2.06.94-2.06 2.06-.94-2.06-.94-.94-2.06-.94 2.06-2.06.94z\"/><path d=\"M17.41 7.96l-1.37-1.37c-.4-.4-.92-.59-1.43-.59-.52 0-1.04.2-1.43.59L10.3 9.45l-7.72 7.72c-.78.78-.78 2.05 0 2.83L4 21.41c.39.39.9.59 1.41.59.51 0 1.02-.2 1.41-.59l7.78-7.78 2.81-2.81c.8-.78.8-2.07 0-2.86zM5.41 20L4 18.59l7.72-7.72 1.47 1.35L5.41 20z\"/>\n",
              "  </svg>\n",
              "      </button>\n",
              "      \n",
              "  <style>\n",
              "    .colab-df-container {\n",
              "      display:flex;\n",
              "      flex-wrap:wrap;\n",
              "      gap: 12px;\n",
              "    }\n",
              "\n",
              "    .colab-df-convert {\n",
              "      background-color: #E8F0FE;\n",
              "      border: none;\n",
              "      border-radius: 50%;\n",
              "      cursor: pointer;\n",
              "      display: none;\n",
              "      fill: #1967D2;\n",
              "      height: 32px;\n",
              "      padding: 0 0 0 0;\n",
              "      width: 32px;\n",
              "    }\n",
              "\n",
              "    .colab-df-convert:hover {\n",
              "      background-color: #E2EBFA;\n",
              "      box-shadow: 0px 1px 2px rgba(60, 64, 67, 0.3), 0px 1px 3px 1px rgba(60, 64, 67, 0.15);\n",
              "      fill: #174EA6;\n",
              "    }\n",
              "\n",
              "    [theme=dark] .colab-df-convert {\n",
              "      background-color: #3B4455;\n",
              "      fill: #D2E3FC;\n",
              "    }\n",
              "\n",
              "    [theme=dark] .colab-df-convert:hover {\n",
              "      background-color: #434B5C;\n",
              "      box-shadow: 0px 1px 3px 1px rgba(0, 0, 0, 0.15);\n",
              "      filter: drop-shadow(0px 1px 2px rgba(0, 0, 0, 0.3));\n",
              "      fill: #FFFFFF;\n",
              "    }\n",
              "  </style>\n",
              "\n",
              "      <script>\n",
              "        const buttonEl =\n",
              "          document.querySelector('#df-ec1288bf-67e7-4c14-a558-2abe31393fa4 button.colab-df-convert');\n",
              "        buttonEl.style.display =\n",
              "          google.colab.kernel.accessAllowed ? 'block' : 'none';\n",
              "\n",
              "        async function convertToInteractive(key) {\n",
              "          const element = document.querySelector('#df-ec1288bf-67e7-4c14-a558-2abe31393fa4');\n",
              "          const dataTable =\n",
              "            await google.colab.kernel.invokeFunction('convertToInteractive',\n",
              "                                                     [key], {});\n",
              "          if (!dataTable) return;\n",
              "\n",
              "          const docLinkHtml = 'Like what you see? Visit the ' +\n",
              "            '<a target=\"_blank\" href=https://colab.research.google.com/notebooks/data_table.ipynb>data table notebook</a>'\n",
              "            + ' to learn more about interactive tables.';\n",
              "          element.innerHTML = '';\n",
              "          dataTable['output_type'] = 'display_data';\n",
              "          await google.colab.output.renderOutput(dataTable, element);\n",
              "          const docLink = document.createElement('div');\n",
              "          docLink.innerHTML = docLinkHtml;\n",
              "          element.appendChild(docLink);\n",
              "        }\n",
              "      </script>\n",
              "    </div>\n",
              "  </div>\n",
              "  "
            ]
          },
          "metadata": {},
          "execution_count": 23
        }
      ],
      "source": [
        "trial_means = results_df.unstack().unstack().mean().unstack(level=0).unstack(level=1).stack()\n",
        "worst_group = trial_means.unstack(level=1).min().unstack(level=0)\n",
        "worst_group.index = pd.MultiIndex.from_product([[\"Worst\"], worst_group.index], names=[\"subtype\", \"epoch\"])\n",
        "worst_concat = pd.concat([trial_means.unstack(level=1).stack(), worst_group])\n",
        "worst_concat"
      ]
    },
    {
      "cell_type": "code",
      "execution_count": 26,
      "id": "b3ace5d7",
      "metadata": {
        "scrolled": true,
        "colab": {
          "base_uri": "https://localhost:8080/",
          "height": 1000
        },
        "id": "b3ace5d7",
        "outputId": "32077c16-c7ed-405f-801e-9b84db0b82a8"
      },
      "outputs": [
        {
          "output_type": "display_data",
          "data": {
            "text/plain": [
              "<Figure size 864x2304 with 6 Axes>"
            ],
            "image/png": "[encoded data removed]"
          },
          "metadata": {
            "needs_background": "light"
          }
        }
      ],
      "source": [
        "import matplotlib.pyplot as plt\n",
        "\n",
        "rolling_window = 1\n",
        "\n",
        "rolling_data = worst_concat.unstack(level=0).rolling(rolling_window).mean().unstack().unstack(level=0)\n",
        "\n",
        "plots = [*subtypes, \"Worst\"]\n",
        "\n",
        "hide = []\n",
        "\n",
        "f, a = plt.subplots(len(plots),1, sharey=True)\n",
        "# plot subtypes sensitivity\n",
        "for i in range(len(plots)):\n",
        "    rolling_data.drop(columns=hide).rolling(rolling_window).mean().xs(plots[i]).plot(kind='line',title=plots[i],ax=a[i],figsize=(12,32),grid=True)"
      ]
    },
    {
      "cell_type": "code",
      "source": [
        "# save results\n",
        "results_df.to_csv('waterbirds_resnet50_224x224_halfdata.csv')"
      ],
      "metadata": {
        "id": "uP_UoRwJa6n7"
      },
      "id": "uP_UoRwJa6n7",
      "execution_count": 27,
      "outputs": []
    },
    {
      "cell_type": "code",
      "source": [
        "results = pd.read_csv('waterbirds_resnet50_200x200_halfdata.csv').drop(columns=[\"subtype\", \"epoch\", \"trial\"]).to_dict('list')"
      ],
      "metadata": {
        "id": "Oaw1ZyCUdlaR"
      },
      "id": "Oaw1ZyCUdlaR",
      "execution_count": 14,
      "outputs": []
    },
    {
      "cell_type": "markdown",
      "id": "4dcf2579",
      "metadata": {
        "id": "4dcf2579"
      },
      "source": [
        "# GDRO Demonstration"
      ]
    },
    {
      "cell_type": "code",
      "execution_count": 14,
      "id": "e867ae89",
      "metadata": {
        "id": "e867ae89",
        "outputId": "27894167-ff5f-4e06-dc30-de45dd80acaa",
        "colab": {
          "base_uri": "https://localhost:8080/"
        }
      },
      "outputs": [
        {
          "output_type": "stream",
          "name": "stderr",
          "text": [
            "/usr/local/lib/python3.7/dist-packages/torchvision/models/_utils.py:209: UserWarning: The parameter 'pretrained' is deprecated since 0.13 and will be removed in 0.15, please use 'weights' instead.\n",
            "  f\"The parameter '{pretrained_param}' is deprecated since 0.13 and will be removed in 0.15, \"\n",
            "/usr/local/lib/python3.7/dist-packages/torchvision/models/_utils.py:223: UserWarning: Arguments other than a weight enum or `None` for 'weights' are deprecated since 0.13 and will be removed in 0.15. The current behavior is equivalent to passing `weights=ResNet50_Weights.IMAGENET1K_V1`. You can also use `weights=ResNet50_Weights.DEFAULT` to get the most up-to-date weights.\n",
            "  warnings.warn(msg)\n"
          ]
        }
      ],
      "source": [
        "epochs = 30\n",
        "N = 1\n",
        "\n",
        "q_data = {}\n",
        "\n",
        "for n in range(N):\n",
        "\n",
        "    q_data[f'Trial_{n}'] = []\n",
        "    \n",
        "    model = model_class(*model_args)\n",
        "\n",
        "    loss_fn = loss.ERMGDROLoss(model, torch.nn.CrossEntropyLoss(), hparams, len(subtypes) - 1, normalize_loss=True, subclassed=True)\n",
        "    optimizer = torch.optim.Adam(model.parameters(), lr=lr, weight_decay=weight_decay)\n",
        "\n",
        "    loss_fn.t = 0\n",
        "\n",
        "    q_data[f'Trial_{n}'].extend([1 / (len(subtypes) - 1) for i in range(len(subtypes) - 1)])\n",
        "    for epoch in range(epochs):\n",
        "        train.train(train_dataloader, model, loss_fn, optimizer)\n",
        "        q_data[f'Trial_{n}'].extend(loss_fn.gdro.q.tolist())"
      ]
    },
    {
      "cell_type": "code",
      "execution_count": 15,
      "id": "51bd0ec3",
      "metadata": {
        "id": "51bd0ec3"
      },
      "outputs": [],
      "source": [
        "q_df = pd.DataFrame(q_data, index=pd.MultiIndex.from_product([range(epochs + 1), subtypes[1:]], names=['epoch', 'subtype'])).mean(axis=1).unstack()\n",
        "# columns get rearranged into alphabetical order, this swaps them back\n",
        "q_df = q_df[subtypes[1:]]"
      ]
    },
    {
      "cell_type": "code",
      "execution_count": 16,
      "id": "3a3a33da",
      "metadata": {
        "colab": {
          "base_uri": "https://localhost:8080/",
          "height": 312
        },
        "id": "3a3a33da",
        "outputId": "4d1d8e4e-3442-455e-fa17-7b9edb54e85b"
      },
      "outputs": [
        {
          "output_type": "execute_result",
          "data": {
            "text/plain": [
              "<matplotlib.axes._subplots.AxesSubplot at 0x7fb3945ad310>"
            ]
          },
          "metadata": {},
          "execution_count": 16
        },
        {
          "output_type": "display_data",
          "data": {
            "text/plain": [
              "<Figure size 432x288 with 1 Axes>"
            ],
            "image/png": "[encoded data removed]"
          },
          "metadata": {
            "needs_background": "light"
          }
        }
      ],
      "source": [
        "q_df.plot(xlabel=\"epoch\", ylabel=\"q\", title=f\"Values of q over time (eta={hparams['groupdro_eta']}, Pure GDRO)\")"
      ]
    },
    {
      "cell_type": "markdown",
      "id": "099c42e2",
      "metadata": {
        "id": "099c42e2"
      },
      "source": [
        "# Combining CNN features and engineered features"
      ]
    },
    {
      "cell_type": "code",
      "execution_count": null,
      "id": "26eae0f1",
      "metadata": {
        "id": "26eae0f1"
      },
      "outputs": [],
      "source": [
        "cnn_df = pd.read_csv('data/cnn_features.csv')\n",
        "for c in range(2, len(cnn_df.columns)):\n",
        "    cnn_df.columns.values[c] = f'CNN_{cnn_df.columns.values[c]}'\n",
        "\n",
        "eng_df = pd.read_csv('data/LIDC_20130817_AllFeatures2D_MaxSlicePerNodule_inLineRatings.csv')"
      ]
    },
    {
      "cell_type": "code",
      "execution_count": null,
      "id": "8e3dd0cb",
      "metadata": {
        "id": "8e3dd0cb"
      },
      "outputs": [],
      "source": [
        "cnn_df = cnn_df[cnn_df['nodule_id'].isin(np.intersect1d(cnn_df['nodule_id'].values, eng_df['noduleID'].values))]\n",
        "eng_df = eng_df[eng_df['noduleID'].isin(np.intersect1d(cnn_df['nodule_id'].values, eng_df['noduleID'].values))]"
      ]
    },
    {
      "cell_type": "code",
      "execution_count": null,
      "id": "95d791fb",
      "metadata": {
        "id": "95d791fb"
      },
      "outputs": [],
      "source": [
        "concat_df = eng_df.copy()"
      ]
    },
    {
      "cell_type": "code",
      "execution_count": null,
      "id": "9a3d238e",
      "metadata": {
        "id": "9a3d238e"
      },
      "outputs": [],
      "source": [
        "cnn_df.index = cnn_df['nodule_id']\n",
        "for i in concat_df.index:\n",
        "    for col in cnn_df.columns[2:]:\n",
        "        concat_df.at[i, col] = cnn_df.at[concat_df.at[i, 'noduleID'], col]"
      ]
    },
    {
      "cell_type": "code",
      "execution_count": null,
      "id": "fe0006e9",
      "metadata": {
        "id": "fe0006e9",
        "outputId": "f1c61f52-0ed9-4cfe-e5d9-d5bd3d1ad060"
      },
      "outputs": [
        {
          "data": {
            "text/html": [
              "<div>\n",
              "<style scoped>\n",
              "    .dataframe tbody tr th:only-of-type {\n",
              "        vertical-align: middle;\n",
              "    }\n",
              "\n",
              "    .dataframe tbody tr th {\n",
              "        vertical-align: top;\n",
              "    }\n",
              "\n",
              "    .dataframe thead th {\n",
              "        text-align: right;\n",
              "    }\n",
              "</style>\n",
              "<table border=\"1\" class=\"dataframe\">\n",
              "  <thead>\n",
              "    <tr style=\"text-align: right;\">\n",
              "      <th></th>\n",
              "      <th>InstanceID</th>\n",
              "      <th>StudyInstanceUID</th>\n",
              "      <th>SeriesInstanceUid</th>\n",
              "      <th>RadiologistID</th>\n",
              "      <th>noduleID</th>\n",
              "      <th>DicomImage</th>\n",
              "      <th>FilePath</th>\n",
              "      <th>subtlety</th>\n",
              "      <th>internalStructure</th>\n",
              "      <th>calcification</th>\n",
              "      <th>...</th>\n",
              "      <th>CNN_27</th>\n",
              "      <th>CNN_28</th>\n",
              "      <th>CNN_29</th>\n",
              "      <th>CNN_30</th>\n",
              "      <th>CNN_31</th>\n",
              "      <th>CNN_32</th>\n",
              "      <th>CNN_33</th>\n",
              "      <th>CNN_34</th>\n",
              "      <th>CNN_35</th>\n",
              "      <th>CNN_36</th>\n",
              "    </tr>\n",
              "  </thead>\n",
              "  <tbody>\n",
              "    <tr>\n",
              "      <th>0</th>\n",
              "      <td>4</td>\n",
              "      <td>1.3.6.1.4.1.14519.5.2.1.6279.6001.298806137288...</td>\n",
              "      <td>1.3.6.1.4.1.14519.5.2.1.6279.6001.179049373636...</td>\n",
              "      <td>1</td>\n",
              "      <td>1</td>\n",
              "      <td>present</td>\n",
              "      <td>C:\\LIDC_FULL\\LIDC-IDRI\\LIDC-IDRI-0001\\1.3.6.1....</td>\n",
              "      <td>5</td>\n",
              "      <td>1</td>\n",
              "      <td>6</td>\n",
              "      <td>...</td>\n",
              "      <td>-5.395743</td>\n",
              "      <td>1.582677</td>\n",
              "      <td>-4.063280</td>\n",
              "      <td>-5.070021</td>\n",
              "      <td>3.163702</td>\n",
              "      <td>5.290330</td>\n",
              "      <td>-2.523472</td>\n",
              "      <td>3.713529</td>\n",
              "      <td>-0.649701</td>\n",
              "      <td>4.314638</td>\n",
              "    </tr>\n",
              "    <tr>\n",
              "      <th>1</th>\n",
              "      <td>75</td>\n",
              "      <td>1.3.6.1.4.1.14519.5.2.1.6279.6001.490157381160...</td>\n",
              "      <td>1.3.6.1.4.1.14519.5.2.1.6279.6001.619372068417...</td>\n",
              "      <td>4</td>\n",
              "      <td>2</td>\n",
              "      <td>present</td>\n",
              "      <td>C:\\LIDC_FULL\\LIDC-IDRI\\LIDC-IDRI-0002\\1.3.6.1....</td>\n",
              "      <td>1</td>\n",
              "      <td>1</td>\n",
              "      <td>6</td>\n",
              "      <td>...</td>\n",
              "      <td>-5.850334</td>\n",
              "      <td>5.002493</td>\n",
              "      <td>-3.661947</td>\n",
              "      <td>-3.624461</td>\n",
              "      <td>3.235335</td>\n",
              "      <td>-3.922062</td>\n",
              "      <td>-2.210064</td>\n",
              "      <td>6.059101</td>\n",
              "      <td>-0.500276</td>\n",
              "      <td>5.508437</td>\n",
              "    </tr>\n",
              "    <tr>\n",
              "      <th>2</th>\n",
              "      <td>134</td>\n",
              "      <td>1.3.6.1.4.1.14519.5.2.1.6279.6001.101370605276...</td>\n",
              "      <td>1.3.6.1.4.1.14519.5.2.1.6279.6001.170706757615...</td>\n",
              "      <td>4</td>\n",
              "      <td>3</td>\n",
              "      <td>present</td>\n",
              "      <td>C:\\LIDC_FULL\\LIDC-IDRI\\LIDC-IDRI-0003\\1.3.6.1....</td>\n",
              "      <td>5</td>\n",
              "      <td>1</td>\n",
              "      <td>6</td>\n",
              "      <td>...</td>\n",
              "      <td>-4.822973</td>\n",
              "      <td>2.920556</td>\n",
              "      <td>-5.047228</td>\n",
              "      <td>-5.552570</td>\n",
              "      <td>3.489042</td>\n",
              "      <td>0.851557</td>\n",
              "      <td>-2.870659</td>\n",
              "      <td>6.073289</td>\n",
              "      <td>-0.647323</td>\n",
              "      <td>6.486247</td>\n",
              "    </tr>\n",
              "    <tr>\n",
              "      <th>3</th>\n",
              "      <td>143</td>\n",
              "      <td>1.3.6.1.4.1.14519.5.2.1.6279.6001.101370605276...</td>\n",
              "      <td>1.3.6.1.4.1.14519.5.2.1.6279.6001.170706757615...</td>\n",
              "      <td>4</td>\n",
              "      <td>4</td>\n",
              "      <td>present</td>\n",
              "      <td>C:\\LIDC_FULL\\LIDC-IDRI\\LIDC-IDRI-0003\\1.3.6.1....</td>\n",
              "      <td>3</td>\n",
              "      <td>1</td>\n",
              "      <td>6</td>\n",
              "      <td>...</td>\n",
              "      <td>-7.574823</td>\n",
              "      <td>7.260141</td>\n",
              "      <td>-6.138217</td>\n",
              "      <td>-6.386428</td>\n",
              "      <td>4.904528</td>\n",
              "      <td>-2.540447</td>\n",
              "      <td>-2.647656</td>\n",
              "      <td>8.163655</td>\n",
              "      <td>-0.035022</td>\n",
              "      <td>8.056358</td>\n",
              "    </tr>\n",
              "    <tr>\n",
              "      <th>4</th>\n",
              "      <td>118</td>\n",
              "      <td>1.3.6.1.4.1.14519.5.2.1.6279.6001.101370605276...</td>\n",
              "      <td>1.3.6.1.4.1.14519.5.2.1.6279.6001.170706757615...</td>\n",
              "      <td>3</td>\n",
              "      <td>5</td>\n",
              "      <td>present</td>\n",
              "      <td>C:\\LIDC_FULL\\LIDC-IDRI\\LIDC-IDRI-0003\\1.3.6.1....</td>\n",
              "      <td>4</td>\n",
              "      <td>1</td>\n",
              "      <td>6</td>\n",
              "      <td>...</td>\n",
              "      <td>-7.165000</td>\n",
              "      <td>6.356084</td>\n",
              "      <td>-6.882338</td>\n",
              "      <td>-5.712488</td>\n",
              "      <td>5.102713</td>\n",
              "      <td>-2.921033</td>\n",
              "      <td>-2.749318</td>\n",
              "      <td>9.136231</td>\n",
              "      <td>-0.171229</td>\n",
              "      <td>8.867806</td>\n",
              "    </tr>\n",
              "    <tr>\n",
              "      <th>...</th>\n",
              "      <td>...</td>\n",
              "      <td>...</td>\n",
              "      <td>...</td>\n",
              "      <td>...</td>\n",
              "      <td>...</td>\n",
              "      <td>...</td>\n",
              "      <td>...</td>\n",
              "      <td>...</td>\n",
              "      <td>...</td>\n",
              "      <td>...</td>\n",
              "      <td>...</td>\n",
              "      <td>...</td>\n",
              "      <td>...</td>\n",
              "      <td>...</td>\n",
              "      <td>...</td>\n",
              "      <td>...</td>\n",
              "      <td>...</td>\n",
              "      <td>...</td>\n",
              "      <td>...</td>\n",
              "      <td>...</td>\n",
              "      <td>...</td>\n",
              "    </tr>\n",
              "    <tr>\n",
              "      <th>2681</th>\n",
              "      <td>30321</td>\n",
              "      <td>1.3.6.1.4.1.14519.5.2.1.6279.6001.112366982107...</td>\n",
              "      <td>1.3.6.1.4.1.14519.5.2.1.6279.6001.265453131727...</td>\n",
              "      <td>2</td>\n",
              "      <td>2686</td>\n",
              "      <td>present</td>\n",
              "      <td>C:\\LIDC_FULL\\LIDC-IDRI\\LIDC-IDRI-0770\\1.3.6.1....</td>\n",
              "      <td>5</td>\n",
              "      <td>1</td>\n",
              "      <td>6</td>\n",
              "      <td>...</td>\n",
              "      <td>-4.363398</td>\n",
              "      <td>1.216722</td>\n",
              "      <td>-3.386296</td>\n",
              "      <td>-4.855748</td>\n",
              "      <td>2.966221</td>\n",
              "      <td>5.028000</td>\n",
              "      <td>-2.105534</td>\n",
              "      <td>4.931665</td>\n",
              "      <td>-0.734520</td>\n",
              "      <td>4.226719</td>\n",
              "    </tr>\n",
              "    <tr>\n",
              "      <th>2682</th>\n",
              "      <td>32539</td>\n",
              "      <td>1.3.6.1.4.1.14519.5.2.1.6279.6001.213747445868...</td>\n",
              "      <td>1.3.6.1.4.1.14519.5.2.1.6279.6001.232071262560...</td>\n",
              "      <td>2</td>\n",
              "      <td>2687</td>\n",
              "      <td>present</td>\n",
              "      <td>C:\\LIDC_FULL\\LIDC-IDRI\\LIDC-IDRI-0815\\1.3.6.1....</td>\n",
              "      <td>4</td>\n",
              "      <td>1</td>\n",
              "      <td>6</td>\n",
              "      <td>...</td>\n",
              "      <td>-5.684091</td>\n",
              "      <td>4.747817</td>\n",
              "      <td>-3.803551</td>\n",
              "      <td>-3.821561</td>\n",
              "      <td>3.346258</td>\n",
              "      <td>-2.903088</td>\n",
              "      <td>-2.005761</td>\n",
              "      <td>5.487472</td>\n",
              "      <td>-0.402588</td>\n",
              "      <td>5.502116</td>\n",
              "    </tr>\n",
              "    <tr>\n",
              "      <th>2683</th>\n",
              "      <td>35559</td>\n",
              "      <td>1.3.6.1.4.1.14519.5.2.1.6279.6001.323769537371...</td>\n",
              "      <td>1.3.6.1.4.1.14519.5.2.1.6279.6001.299806338046...</td>\n",
              "      <td>4</td>\n",
              "      <td>2688</td>\n",
              "      <td>present</td>\n",
              "      <td>C:\\LIDC_FULL\\LIDC-IDRI\\LIDC-IDRI-0871\\1.3.6.1....</td>\n",
              "      <td>4</td>\n",
              "      <td>1</td>\n",
              "      <td>6</td>\n",
              "      <td>...</td>\n",
              "      <td>0.528109</td>\n",
              "      <td>-2.443759</td>\n",
              "      <td>3.613519</td>\n",
              "      <td>5.157967</td>\n",
              "      <td>-0.401557</td>\n",
              "      <td>-2.264581</td>\n",
              "      <td>4.815277</td>\n",
              "      <td>-1.387713</td>\n",
              "      <td>-0.522287</td>\n",
              "      <td>-1.254572</td>\n",
              "    </tr>\n",
              "    <tr>\n",
              "      <th>2684</th>\n",
              "      <td>37212</td>\n",
              "      <td>1.3.6.1.4.1.14519.5.2.1.6279.6001.232772963487...</td>\n",
              "      <td>1.3.6.1.4.1.14519.5.2.1.6279.6001.338875090785...</td>\n",
              "      <td>4</td>\n",
              "      <td>2689</td>\n",
              "      <td>present</td>\n",
              "      <td>C:\\LIDC_FULL\\LIDC-IDRI\\LIDC-IDRI-0916\\1.3.6.1....</td>\n",
              "      <td>1</td>\n",
              "      <td>1</td>\n",
              "      <td>6</td>\n",
              "      <td>...</td>\n",
              "      <td>1.710828</td>\n",
              "      <td>-2.952641</td>\n",
              "      <td>4.176023</td>\n",
              "      <td>7.256946</td>\n",
              "      <td>-0.778750</td>\n",
              "      <td>-2.928508</td>\n",
              "      <td>6.510663</td>\n",
              "      <td>-2.376418</td>\n",
              "      <td>-0.569608</td>\n",
              "      <td>-1.775246</td>\n",
              "    </tr>\n",
              "    <tr>\n",
              "      <th>2685</th>\n",
              "      <td>37968</td>\n",
              "      <td>1.3.6.1.4.1.14519.5.2.1.6279.6001.618911015325...</td>\n",
              "      <td>1.3.6.1.4.1.14519.5.2.1.6279.6001.313835996725...</td>\n",
              "      <td>2</td>\n",
              "      <td>2690</td>\n",
              "      <td>present</td>\n",
              "      <td>C:\\LIDC_FULL\\LIDC-IDRI\\LIDC-IDRI-0939\\1.3.6.1....</td>\n",
              "      <td>5</td>\n",
              "      <td>1</td>\n",
              "      <td>6</td>\n",
              "      <td>...</td>\n",
              "      <td>-7.286749</td>\n",
              "      <td>6.407821</td>\n",
              "      <td>-6.462684</td>\n",
              "      <td>-5.537876</td>\n",
              "      <td>4.853304</td>\n",
              "      <td>-4.337426</td>\n",
              "      <td>-3.211644</td>\n",
              "      <td>8.265660</td>\n",
              "      <td>-0.298396</td>\n",
              "      <td>8.983835</td>\n",
              "    </tr>\n",
              "  </tbody>\n",
              "</table>\n",
              "<p>1515 rows × 159 columns</p>\n",
              "</div>"
            ],
            "text/plain": [
              "      InstanceID                                   StudyInstanceUID  \\\n",
              "0              4  1.3.6.1.4.1.14519.5.2.1.6279.6001.298806137288...   \n",
              "1             75  1.3.6.1.4.1.14519.5.2.1.6279.6001.490157381160...   \n",
              "2            134  1.3.6.1.4.1.14519.5.2.1.6279.6001.101370605276...   \n",
              "3            143  1.3.6.1.4.1.14519.5.2.1.6279.6001.101370605276...   \n",
              "4            118  1.3.6.1.4.1.14519.5.2.1.6279.6001.101370605276...   \n",
              "...          ...                                                ...   \n",
              "2681       30321  1.3.6.1.4.1.14519.5.2.1.6279.6001.112366982107...   \n",
              "2682       32539  1.3.6.1.4.1.14519.5.2.1.6279.6001.213747445868...   \n",
              "2683       35559  1.3.6.1.4.1.14519.5.2.1.6279.6001.323769537371...   \n",
              "2684       37212  1.3.6.1.4.1.14519.5.2.1.6279.6001.232772963487...   \n",
              "2685       37968  1.3.6.1.4.1.14519.5.2.1.6279.6001.618911015325...   \n",
              "\n",
              "                                      SeriesInstanceUid  RadiologistID  \\\n",
              "0     1.3.6.1.4.1.14519.5.2.1.6279.6001.179049373636...              1   \n",
              "1     1.3.6.1.4.1.14519.5.2.1.6279.6001.619372068417...              4   \n",
              "2     1.3.6.1.4.1.14519.5.2.1.6279.6001.170706757615...              4   \n",
              "3     1.3.6.1.4.1.14519.5.2.1.6279.6001.170706757615...              4   \n",
              "4     1.3.6.1.4.1.14519.5.2.1.6279.6001.170706757615...              3   \n",
              "...                                                 ...            ...   \n",
              "2681  1.3.6.1.4.1.14519.5.2.1.6279.6001.265453131727...              2   \n",
              "2682  1.3.6.1.4.1.14519.5.2.1.6279.6001.232071262560...              2   \n",
              "2683  1.3.6.1.4.1.14519.5.2.1.6279.6001.299806338046...              4   \n",
              "2684  1.3.6.1.4.1.14519.5.2.1.6279.6001.338875090785...              4   \n",
              "2685  1.3.6.1.4.1.14519.5.2.1.6279.6001.313835996725...              2   \n",
              "\n",
              "      noduleID DicomImage                                           FilePath  \\\n",
              "0            1    present  C:\\LIDC_FULL\\LIDC-IDRI\\LIDC-IDRI-0001\\1.3.6.1....   \n",
              "1            2    present  C:\\LIDC_FULL\\LIDC-IDRI\\LIDC-IDRI-0002\\1.3.6.1....   \n",
              "2            3    present  C:\\LIDC_FULL\\LIDC-IDRI\\LIDC-IDRI-0003\\1.3.6.1....   \n",
              "3            4    present  C:\\LIDC_FULL\\LIDC-IDRI\\LIDC-IDRI-0003\\1.3.6.1....   \n",
              "4            5    present  C:\\LIDC_FULL\\LIDC-IDRI\\LIDC-IDRI-0003\\1.3.6.1....   \n",
              "...        ...        ...                                                ...   \n",
              "2681      2686    present  C:\\LIDC_FULL\\LIDC-IDRI\\LIDC-IDRI-0770\\1.3.6.1....   \n",
              "2682      2687    present  C:\\LIDC_FULL\\LIDC-IDRI\\LIDC-IDRI-0815\\1.3.6.1....   \n",
              "2683      2688    present  C:\\LIDC_FULL\\LIDC-IDRI\\LIDC-IDRI-0871\\1.3.6.1....   \n",
              "2684      2689    present  C:\\LIDC_FULL\\LIDC-IDRI\\LIDC-IDRI-0916\\1.3.6.1....   \n",
              "2685      2690    present  C:\\LIDC_FULL\\LIDC-IDRI\\LIDC-IDRI-0939\\1.3.6.1....   \n",
              "\n",
              "      subtlety  internalStructure  calcification  ...    CNN_27    CNN_28  \\\n",
              "0            5                  1              6  ... -5.395743  1.582677   \n",
              "1            1                  1              6  ... -5.850334  5.002493   \n",
              "2            5                  1              6  ... -4.822973  2.920556   \n",
              "3            3                  1              6  ... -7.574823  7.260141   \n",
              "4            4                  1              6  ... -7.165000  6.356084   \n",
              "...        ...                ...            ...  ...       ...       ...   \n",
              "2681         5                  1              6  ... -4.363398  1.216722   \n",
              "2682         4                  1              6  ... -5.684091  4.747817   \n",
              "2683         4                  1              6  ...  0.528109 -2.443759   \n",
              "2684         1                  1              6  ...  1.710828 -2.952641   \n",
              "2685         5                  1              6  ... -7.286749  6.407821   \n",
              "\n",
              "        CNN_29    CNN_30    CNN_31    CNN_32    CNN_33    CNN_34    CNN_35  \\\n",
              "0    -4.063280 -5.070021  3.163702  5.290330 -2.523472  3.713529 -0.649701   \n",
              "1    -3.661947 -3.624461  3.235335 -3.922062 -2.210064  6.059101 -0.500276   \n",
              "2    -5.047228 -5.552570  3.489042  0.851557 -2.870659  6.073289 -0.647323   \n",
              "3    -6.138217 -6.386428  4.904528 -2.540447 -2.647656  8.163655 -0.035022   \n",
              "4    -6.882338 -5.712488  5.102713 -2.921033 -2.749318  9.136231 -0.171229   \n",
              "...        ...       ...       ...       ...       ...       ...       ...   \n",
              "2681 -3.386296 -4.855748  2.966221  5.028000 -2.105534  4.931665 -0.734520   \n",
              "2682 -3.803551 -3.821561  3.346258 -2.903088 -2.005761  5.487472 -0.402588   \n",
              "2683  3.613519  5.157967 -0.401557 -2.264581  4.815277 -1.387713 -0.522287   \n",
              "2684  4.176023  7.256946 -0.778750 -2.928508  6.510663 -2.376418 -0.569608   \n",
              "2685 -6.462684 -5.537876  4.853304 -4.337426 -3.211644  8.265660 -0.298396   \n",
              "\n",
              "        CNN_36  \n",
              "0     4.314638  \n",
              "1     5.508437  \n",
              "2     6.486247  \n",
              "3     8.056358  \n",
              "4     8.867806  \n",
              "...        ...  \n",
              "2681  4.226719  \n",
              "2682  5.502116  \n",
              "2683 -1.254572  \n",
              "2684 -1.775246  \n",
              "2685  8.983835  \n",
              "\n",
              "[1515 rows x 159 columns]"
            ]
          },
          "execution_count": 99,
          "metadata": {},
          "output_type": "execute_result"
        }
      ],
      "source": [
        "concat_df.drop(columns='Unnamed: 0').to_csv('data/AllFeatures2D_MaxSlice_with_CNN.csv', index=False)"
      ]
    },
    {
      "cell_type": "code",
      "execution_count": null,
      "id": "794d0390",
      "metadata": {
        "id": "794d0390"
      },
      "outputs": [],
      "source": [
        "# code to get max slice data from the all slices set\n",
        "\n",
        "# all_slices = pd.read_csv('data/LIDC_20130817_AllFeatures2D_AllSlices_MattEdited.csv')\n",
        "# max_slices = []\n",
        "\n",
        "# nodule_radiologist_pairings = set(zip(all_slices[\"RadiologistID\"], all_slices[\"noduleID\"]))\n",
        "\n",
        "# for radiologist_id, nodule_id in nodule_radiologist_pairings:\n",
        "#     nodule_data = all_slices.loc[(all_slices[\"RadiologistID\"] == radiologist_id) & (all_slices[\"noduleID\"] == nodule_id), :]\n",
        "    \n",
        "#     max_slice = nodule_data.iloc[np.argmax(nodule_data[\"Area\"]), :]\n",
        "#     max_slices.append(max_slice)\n",
        "\n",
        "# max_slice_df = pd.DataFrame(max_slices).sort_values([\"noduleID\", \"RadiologistID\"], axis=0).reset_index().drop(columns=\"index\")\n",
        "# max_slice_df"
      ]
    },
    {
      "cell_type": "code",
      "source": [
        "maxslice_df = pd.read_csv('data/LIDC_20130817_AllFeatures2D_MaxSlicePerNodule_inLineRatings.csv')"
      ],
      "metadata": {
        "id": "RifxktzhbJQk"
      },
      "id": "RifxktzhbJQk",
      "execution_count": null,
      "outputs": []
    },
    {
      "cell_type": "code",
      "source": [
        "correct_semantic_df = pd.read_csv('data/LIDC_labels.csv')"
      ],
      "metadata": {
        "id": "5l__44k3bNSw"
      },
      "id": "5l__44k3bNSw",
      "execution_count": null,
      "outputs": []
    },
    {
      "cell_type": "code",
      "source": [
        "correct_semantic_df.index = correct_semantic_df['noduleID'].values"
      ],
      "metadata": {
        "id": "3COfRasfcK8p"
      },
      "id": "3COfRasfcK8p",
      "execution_count": null,
      "outputs": []
    },
    {
      "cell_type": "code",
      "source": [
        "for i in maxslice_df.index:\n",
        "  maxslice_df.loc[i, ['subtlety', 'internalStructure', 'calcification', 'sphericity', 'margin', 'lobulation', 'spiculation', 'texture', 'malignancy']] = correct_semantic_df.loc[maxslice_df.at[i, 'noduleID'], ['subtlety', 'internalStructure', 'calcification', 'sphericity', 'margin', 'lobulation', 'spiculation', 'texture', 'malignancy']].values"
      ],
      "metadata": {
        "id": "_dIOtzc5cMx_"
      },
      "id": "_dIOtzc5cMx_",
      "execution_count": null,
      "outputs": []
    },
    {
      "cell_type": "code",
      "source": [
        "maxslice_df[['subtlety', 'internalStructure', 'calcification', 'sphericity', 'margin', 'lobulation', 'spiculation', 'texture', 'malignancy']]"
      ],
      "metadata": {
        "colab": {
          "base_uri": "https://localhost:8080/",
          "height": 424
        },
        "id": "FrKb38K5e597",
        "outputId": "b944fce3-26ee-47ce-9da6-f799ee34f924"
      },
      "id": "FrKb38K5e597",
      "execution_count": null,
      "outputs": [
        {
          "output_type": "execute_result",
          "data": {
            "text/plain": [
              "      subtlety  internalStructure  calcification  sphericity  margin  \\\n",
              "0            5                1.0            6.0           3       4   \n",
              "1            2                1.0            6.0           4       2   \n",
              "2            5                1.0            6.0           4       3   \n",
              "3            4                1.0            6.0           4       4   \n",
              "4            4                1.0            6.0           5       5   \n",
              "...        ...                ...            ...         ...     ...   \n",
              "2682         4                1.0            6.0           2       5   \n",
              "2683         3                1.0            6.0           3       4   \n",
              "2684         3                1.0            6.0           5       4   \n",
              "2685         5                1.0            6.0           3       5   \n",
              "2686         2                1.0            6.0           4       3   \n",
              "\n",
              "      lobulation  spiculation  texture  malignancy  \n",
              "0              3            5        5         5.0  \n",
              "1              1            1        2         5.0  \n",
              "2              2            2        4         5.0  \n",
              "3              1            2        5         4.0  \n",
              "4              1            1        5         4.0  \n",
              "...          ...          ...      ...         ...  \n",
              "2682           2            2        4         4.0  \n",
              "2683           1            1        5         2.0  \n",
              "2684           1            1        4         2.0  \n",
              "2685           3            2        5         5.0  \n",
              "2686           2            1        3         2.0  \n",
              "\n",
              "[2687 rows x 9 columns]"
            ],
            "text/html": [
              "\n",
              "  <div id=\"df-9831aca4-2678-404b-a2b8-d011fd93cc26\">\n",
              "    <div class=\"colab-df-container\">\n",
              "      <div>\n",
              "<style scoped>\n",
              "    .dataframe tbody tr th:only-of-type {\n",
              "        vertical-align: middle;\n",
              "    }\n",
              "\n",
              "    .dataframe tbody tr th {\n",
              "        vertical-align: top;\n",
              "    }\n",
              "\n",
              "    .dataframe thead th {\n",
              "        text-align: right;\n",
              "    }\n",
              "</style>\n",
              "<table border=\"1\" class=\"dataframe\">\n",
              "  <thead>\n",
              "    <tr style=\"text-align: right;\">\n",
              "      <th></th>\n",
              "      <th>subtlety</th>\n",
              "      <th>internalStructure</th>\n",
              "      <th>calcification</th>\n",
              "      <th>sphericity</th>\n",
              "      <th>margin</th>\n",
              "      <th>lobulation</th>\n",
              "      <th>spiculation</th>\n",
              "      <th>texture</th>\n",
              "      <th>malignancy</th>\n",
              "    </tr>\n",
              "  </thead>\n",
              "  <tbody>\n",
              "    <tr>\n",
              "      <th>0</th>\n",
              "      <td>5</td>\n",
              "      <td>1.0</td>\n",
              "      <td>6.0</td>\n",
              "      <td>3</td>\n",
              "      <td>4</td>\n",
              "      <td>3</td>\n",
              "      <td>5</td>\n",
              "      <td>5</td>\n",
              "      <td>5.0</td>\n",
              "    </tr>\n",
              "    <tr>\n",
              "      <th>1</th>\n",
              "      <td>2</td>\n",
              "      <td>1.0</td>\n",
              "      <td>6.0</td>\n",
              "      <td>4</td>\n",
              "      <td>2</td>\n",
              "      <td>1</td>\n",
              "      <td>1</td>\n",
              "      <td>2</td>\n",
              "      <td>5.0</td>\n",
              "    </tr>\n",
              "    <tr>\n",
              "      <th>2</th>\n",
              "      <td>5</td>\n",
              "      <td>1.0</td>\n",
              "      <td>6.0</td>\n",
              "      <td>4</td>\n",
              "      <td>3</td>\n",
              "      <td>2</td>\n",
              "      <td>2</td>\n",
              "      <td>4</td>\n",
              "      <td>5.0</td>\n",
              "    </tr>\n",
              "    <tr>\n",
              "      <th>3</th>\n",
              "      <td>4</td>\n",
              "      <td>1.0</td>\n",
              "      <td>6.0</td>\n",
              "      <td>4</td>\n",
              "      <td>4</td>\n",
              "      <td>1</td>\n",
              "      <td>2</td>\n",
              "      <td>5</td>\n",
              "      <td>4.0</td>\n",
              "    </tr>\n",
              "    <tr>\n",
              "      <th>4</th>\n",
              "      <td>4</td>\n",
              "      <td>1.0</td>\n",
              "      <td>6.0</td>\n",
              "      <td>5</td>\n",
              "      <td>5</td>\n",
              "      <td>1</td>\n",
              "      <td>1</td>\n",
              "      <td>5</td>\n",
              "      <td>4.0</td>\n",
              "    </tr>\n",
              "    <tr>\n",
              "      <th>...</th>\n",
              "      <td>...</td>\n",
              "      <td>...</td>\n",
              "      <td>...</td>\n",
              "      <td>...</td>\n",
              "      <td>...</td>\n",
              "      <td>...</td>\n",
              "      <td>...</td>\n",
              "      <td>...</td>\n",
              "      <td>...</td>\n",
              "    </tr>\n",
              "    <tr>\n",
              "      <th>2682</th>\n",
              "      <td>4</td>\n",
              "      <td>1.0</td>\n",
              "      <td>6.0</td>\n",
              "      <td>2</td>\n",
              "      <td>5</td>\n",
              "      <td>2</td>\n",
              "      <td>2</td>\n",
              "      <td>4</td>\n",
              "      <td>4.0</td>\n",
              "    </tr>\n",
              "    <tr>\n",
              "      <th>2683</th>\n",
              "      <td>3</td>\n",
              "      <td>1.0</td>\n",
              "      <td>6.0</td>\n",
              "      <td>3</td>\n",
              "      <td>4</td>\n",
              "      <td>1</td>\n",
              "      <td>1</td>\n",
              "      <td>5</td>\n",
              "      <td>2.0</td>\n",
              "    </tr>\n",
              "    <tr>\n",
              "      <th>2684</th>\n",
              "      <td>3</td>\n",
              "      <td>1.0</td>\n",
              "      <td>6.0</td>\n",
              "      <td>5</td>\n",
              "      <td>4</td>\n",
              "      <td>1</td>\n",
              "      <td>1</td>\n",
              "      <td>4</td>\n",
              "      <td>2.0</td>\n",
              "    </tr>\n",
              "    <tr>\n",
              "      <th>2685</th>\n",
              "      <td>5</td>\n",
              "      <td>1.0</td>\n",
              "      <td>6.0</td>\n",
              "      <td>3</td>\n",
              "      <td>5</td>\n",
              "      <td>3</td>\n",
              "      <td>2</td>\n",
              "      <td>5</td>\n",
              "      <td>5.0</td>\n",
              "    </tr>\n",
              "    <tr>\n",
              "      <th>2686</th>\n",
              "      <td>2</td>\n",
              "      <td>1.0</td>\n",
              "      <td>6.0</td>\n",
              "      <td>4</td>\n",
              "      <td>3</td>\n",
              "      <td>2</td>\n",
              "      <td>1</td>\n",
              "      <td>3</td>\n",
              "      <td>2.0</td>\n",
              "    </tr>\n",
              "  </tbody>\n",
              "</table>\n",
              "<p>2687 rows × 9 columns</p>\n",
              "</div>\n",
              "      <button class=\"colab-df-convert\" onclick=\"convertToInteractive('df-9831aca4-2678-404b-a2b8-d011fd93cc26')\"\n",
              "              title=\"Convert this dataframe to an interactive table.\"\n",
              "              style=\"display:none;\">\n",
              "        \n",
              "  <svg xmlns=\"http://www.w3.org/2000/svg\" height=\"24px\"viewBox=\"0 0 24 24\"\n",
              "       width=\"24px\">\n",
              "    <path d=\"M0 0h24v24H0V0z\" fill=\"none\"/>\n",
              "    <path d=\"M18.56 5.44l.94 2.06.94-2.06 2.06-.94-2.06-.94-.94-2.06-.94 2.06-2.06.94zm-11 1L8.5 8.5l.94-2.06 2.06-.94-2.06-.94L8.5 2.5l-.94 2.06-2.06.94zm10 10l.94 2.06.94-2.06 2.06-.94-2.06-.94-.94-2.06-.94 2.06-2.06.94z\"/><path d=\"M17.41 7.96l-1.37-1.37c-.4-.4-.92-.59-1.43-.59-.52 0-1.04.2-1.43.59L10.3 9.45l-7.72 7.72c-.78.78-.78 2.05 0 2.83L4 21.41c.39.39.9.59 1.41.59.51 0 1.02-.2 1.41-.59l7.78-7.78 2.81-2.81c.8-.78.8-2.07 0-2.86zM5.41 20L4 18.59l7.72-7.72 1.47 1.35L5.41 20z\"/>\n",
              "  </svg>\n",
              "      </button>\n",
              "      \n",
              "  <style>\n",
              "    .colab-df-container {\n",
              "      display:flex;\n",
              "      flex-wrap:wrap;\n",
              "      gap: 12px;\n",
              "    }\n",
              "\n",
              "    .colab-df-convert {\n",
              "      background-color: #E8F0FE;\n",
              "      border: none;\n",
              "      border-radius: 50%;\n",
              "      cursor: pointer;\n",
              "      display: none;\n",
              "      fill: #1967D2;\n",
              "      height: 32px;\n",
              "      padding: 0 0 0 0;\n",
              "      width: 32px;\n",
              "    }\n",
              "\n",
              "    .colab-df-convert:hover {\n",
              "      background-color: #E2EBFA;\n",
              "      box-shadow: 0px 1px 2px rgba(60, 64, 67, 0.3), 0px 1px 3px 1px rgba(60, 64, 67, 0.15);\n",
              "      fill: #174EA6;\n",
              "    }\n",
              "\n",
              "    [theme=dark] .colab-df-convert {\n",
              "      background-color: #3B4455;\n",
              "      fill: #D2E3FC;\n",
              "    }\n",
              "\n",
              "    [theme=dark] .colab-df-convert:hover {\n",
              "      background-color: #434B5C;\n",
              "      box-shadow: 0px 1px 3px 1px rgba(0, 0, 0, 0.15);\n",
              "      filter: drop-shadow(0px 1px 2px rgba(0, 0, 0, 0.3));\n",
              "      fill: #FFFFFF;\n",
              "    }\n",
              "  </style>\n",
              "\n",
              "      <script>\n",
              "        const buttonEl =\n",
              "          document.querySelector('#df-9831aca4-2678-404b-a2b8-d011fd93cc26 button.colab-df-convert');\n",
              "        buttonEl.style.display =\n",
              "          google.colab.kernel.accessAllowed ? 'block' : 'none';\n",
              "\n",
              "        async function convertToInteractive(key) {\n",
              "          const element = document.querySelector('#df-9831aca4-2678-404b-a2b8-d011fd93cc26');\n",
              "          const dataTable =\n",
              "            await google.colab.kernel.invokeFunction('convertToInteractive',\n",
              "                                                     [key], {});\n",
              "          if (!dataTable) return;\n",
              "\n",
              "          const docLinkHtml = 'Like what you see? Visit the ' +\n",
              "            '<a target=\"_blank\" href=https://colab.research.google.com/notebooks/data_table.ipynb>data table notebook</a>'\n",
              "            + ' to learn more about interactive tables.';\n",
              "          element.innerHTML = '';\n",
              "          dataTable['output_type'] = 'display_data';\n",
              "          await google.colab.output.renderOutput(dataTable, element);\n",
              "          const docLink = document.createElement('div');\n",
              "          docLink.innerHTML = docLinkHtml;\n",
              "          element.appendChild(docLink);\n",
              "        }\n",
              "      </script>\n",
              "    </div>\n",
              "  </div>\n",
              "  "
            ]
          },
          "metadata": {},
          "execution_count": 82
        }
      ]
    },
    {
      "cell_type": "code",
      "source": [
        ""
      ],
      "metadata": {
        "colab": {
          "base_uri": "https://localhost:8080/",
          "height": 424
        },
        "id": "8TXCuNFSgYxh",
        "outputId": "a847de04-6d6b-452b-857e-4f0012daac8d"
      },
      "id": "8TXCuNFSgYxh",
      "execution_count": null,
      "outputs": [
        {
          "output_type": "execute_result",
          "data": {
            "text/plain": [
              "      subtlety  internalStructure  calcification  sphericity  margin  \\\n",
              "0            5                  1              6           3       3   \n",
              "1            1                  1              6           3       2   \n",
              "2            5                  1              6           5       4   \n",
              "3            3                  1              6           5       5   \n",
              "4            4                  1              6           4       5   \n",
              "...        ...                ...            ...         ...     ...   \n",
              "2682         4                  1              6           2       5   \n",
              "2683         4                  1              6           4       5   \n",
              "2684         1                  1              6           5       2   \n",
              "2685         5                  1              6           3       4   \n",
              "2686         3                  1              6           4       4   \n",
              "\n",
              "      lobulation  spiculation  texture  malignancy  \n",
              "0              3            4        5         5.0  \n",
              "1              1            1        2         5.0  \n",
              "2              1            5        4         5.0  \n",
              "3              1            1        5         4.0  \n",
              "4              1            1        5         5.0  \n",
              "...          ...          ...      ...         ...  \n",
              "2682           2            2        4         4.0  \n",
              "2683           1            1        5         2.0  \n",
              "2684           1            1        2         2.0  \n",
              "2685           3            2        5         5.0  \n",
              "2686           1            1        5         3.0  \n",
              "\n",
              "[2687 rows x 9 columns]"
            ],
            "text/html": [
              "\n",
              "  <div id=\"df-0c65ddc3-f550-4395-a487-f038773e0e1e\">\n",
              "    <div class=\"colab-df-container\">\n",
              "      <div>\n",
              "<style scoped>\n",
              "    .dataframe tbody tr th:only-of-type {\n",
              "        vertical-align: middle;\n",
              "    }\n",
              "\n",
              "    .dataframe tbody tr th {\n",
              "        vertical-align: top;\n",
              "    }\n",
              "\n",
              "    .dataframe thead th {\n",
              "        text-align: right;\n",
              "    }\n",
              "</style>\n",
              "<table border=\"1\" class=\"dataframe\">\n",
              "  <thead>\n",
              "    <tr style=\"text-align: right;\">\n",
              "      <th></th>\n",
              "      <th>subtlety</th>\n",
              "      <th>internalStructure</th>\n",
              "      <th>calcification</th>\n",
              "      <th>sphericity</th>\n",
              "      <th>margin</th>\n",
              "      <th>lobulation</th>\n",
              "      <th>spiculation</th>\n",
              "      <th>texture</th>\n",
              "      <th>malignancy</th>\n",
              "    </tr>\n",
              "  </thead>\n",
              "  <tbody>\n",
              "    <tr>\n",
              "      <th>0</th>\n",
              "      <td>5</td>\n",
              "      <td>1</td>\n",
              "      <td>6</td>\n",
              "      <td>3</td>\n",
              "      <td>3</td>\n",
              "      <td>3</td>\n",
              "      <td>4</td>\n",
              "      <td>5</td>\n",
              "      <td>5.0</td>\n",
              "    </tr>\n",
              "    <tr>\n",
              "      <th>1</th>\n",
              "      <td>1</td>\n",
              "      <td>1</td>\n",
              "      <td>6</td>\n",
              "      <td>3</td>\n",
              "      <td>2</td>\n",
              "      <td>1</td>\n",
              "      <td>1</td>\n",
              "      <td>2</td>\n",
              "      <td>5.0</td>\n",
              "    </tr>\n",
              "    <tr>\n",
              "      <th>2</th>\n",
              "      <td>5</td>\n",
              "      <td>1</td>\n",
              "      <td>6</td>\n",
              "      <td>5</td>\n",
              "      <td>4</td>\n",
              "      <td>1</td>\n",
              "      <td>5</td>\n",
              "      <td>4</td>\n",
              "      <td>5.0</td>\n",
              "    </tr>\n",
              "    <tr>\n",
              "      <th>3</th>\n",
              "      <td>3</td>\n",
              "      <td>1</td>\n",
              "      <td>6</td>\n",
              "      <td>5</td>\n",
              "      <td>5</td>\n",
              "      <td>1</td>\n",
              "      <td>1</td>\n",
              "      <td>5</td>\n",
              "      <td>4.0</td>\n",
              "    </tr>\n",
              "    <tr>\n",
              "      <th>4</th>\n",
              "      <td>4</td>\n",
              "      <td>1</td>\n",
              "      <td>6</td>\n",
              "      <td>4</td>\n",
              "      <td>5</td>\n",
              "      <td>1</td>\n",
              "      <td>1</td>\n",
              "      <td>5</td>\n",
              "      <td>5.0</td>\n",
              "    </tr>\n",
              "    <tr>\n",
              "      <th>...</th>\n",
              "      <td>...</td>\n",
              "      <td>...</td>\n",
              "      <td>...</td>\n",
              "      <td>...</td>\n",
              "      <td>...</td>\n",
              "      <td>...</td>\n",
              "      <td>...</td>\n",
              "      <td>...</td>\n",
              "      <td>...</td>\n",
              "    </tr>\n",
              "    <tr>\n",
              "      <th>2682</th>\n",
              "      <td>4</td>\n",
              "      <td>1</td>\n",
              "      <td>6</td>\n",
              "      <td>2</td>\n",
              "      <td>5</td>\n",
              "      <td>2</td>\n",
              "      <td>2</td>\n",
              "      <td>4</td>\n",
              "      <td>4.0</td>\n",
              "    </tr>\n",
              "    <tr>\n",
              "      <th>2683</th>\n",
              "      <td>4</td>\n",
              "      <td>1</td>\n",
              "      <td>6</td>\n",
              "      <td>4</td>\n",
              "      <td>5</td>\n",
              "      <td>1</td>\n",
              "      <td>1</td>\n",
              "      <td>5</td>\n",
              "      <td>2.0</td>\n",
              "    </tr>\n",
              "    <tr>\n",
              "      <th>2684</th>\n",
              "      <td>1</td>\n",
              "      <td>1</td>\n",
              "      <td>6</td>\n",
              "      <td>5</td>\n",
              "      <td>2</td>\n",
              "      <td>1</td>\n",
              "      <td>1</td>\n",
              "      <td>2</td>\n",
              "      <td>2.0</td>\n",
              "    </tr>\n",
              "    <tr>\n",
              "      <th>2685</th>\n",
              "      <td>5</td>\n",
              "      <td>1</td>\n",
              "      <td>6</td>\n",
              "      <td>3</td>\n",
              "      <td>4</td>\n",
              "      <td>3</td>\n",
              "      <td>2</td>\n",
              "      <td>5</td>\n",
              "      <td>5.0</td>\n",
              "    </tr>\n",
              "    <tr>\n",
              "      <th>2686</th>\n",
              "      <td>3</td>\n",
              "      <td>1</td>\n",
              "      <td>6</td>\n",
              "      <td>4</td>\n",
              "      <td>4</td>\n",
              "      <td>1</td>\n",
              "      <td>1</td>\n",
              "      <td>5</td>\n",
              "      <td>3.0</td>\n",
              "    </tr>\n",
              "  </tbody>\n",
              "</table>\n",
              "<p>2687 rows × 9 columns</p>\n",
              "</div>\n",
              "      <button class=\"colab-df-convert\" onclick=\"convertToInteractive('df-0c65ddc3-f550-4395-a487-f038773e0e1e')\"\n",
              "              title=\"Convert this dataframe to an interactive table.\"\n",
              "              style=\"display:none;\">\n",
              "        \n",
              "  <svg xmlns=\"http://www.w3.org/2000/svg\" height=\"24px\"viewBox=\"0 0 24 24\"\n",
              "       width=\"24px\">\n",
              "    <path d=\"M0 0h24v24H0V0z\" fill=\"none\"/>\n",
              "    <path d=\"M18.56 5.44l.94 2.06.94-2.06 2.06-.94-2.06-.94-.94-2.06-.94 2.06-2.06.94zm-11 1L8.5 8.5l.94-2.06 2.06-.94-2.06-.94L8.5 2.5l-.94 2.06-2.06.94zm10 10l.94 2.06.94-2.06 2.06-.94-2.06-.94-.94-2.06-.94 2.06-2.06.94z\"/><path d=\"M17.41 7.96l-1.37-1.37c-.4-.4-.92-.59-1.43-.59-.52 0-1.04.2-1.43.59L10.3 9.45l-7.72 7.72c-.78.78-.78 2.05 0 2.83L4 21.41c.39.39.9.59 1.41.59.51 0 1.02-.2 1.41-.59l7.78-7.78 2.81-2.81c.8-.78.8-2.07 0-2.86zM5.41 20L4 18.59l7.72-7.72 1.47 1.35L5.41 20z\"/>\n",
              "  </svg>\n",
              "      </button>\n",
              "      \n",
              "  <style>\n",
              "    .colab-df-container {\n",
              "      display:flex;\n",
              "      flex-wrap:wrap;\n",
              "      gap: 12px;\n",
              "    }\n",
              "\n",
              "    .colab-df-convert {\n",
              "      background-color: #E8F0FE;\n",
              "      border: none;\n",
              "      border-radius: 50%;\n",
              "      cursor: pointer;\n",
              "      display: none;\n",
              "      fill: #1967D2;\n",
              "      height: 32px;\n",
              "      padding: 0 0 0 0;\n",
              "      width: 32px;\n",
              "    }\n",
              "\n",
              "    .colab-df-convert:hover {\n",
              "      background-color: #E2EBFA;\n",
              "      box-shadow: 0px 1px 2px rgba(60, 64, 67, 0.3), 0px 1px 3px 1px rgba(60, 64, 67, 0.15);\n",
              "      fill: #174EA6;\n",
              "    }\n",
              "\n",
              "    [theme=dark] .colab-df-convert {\n",
              "      background-color: #3B4455;\n",
              "      fill: #D2E3FC;\n",
              "    }\n",
              "\n",
              "    [theme=dark] .colab-df-convert:hover {\n",
              "      background-color: #434B5C;\n",
              "      box-shadow: 0px 1px 3px 1px rgba(0, 0, 0, 0.15);\n",
              "      filter: drop-shadow(0px 1px 2px rgba(0, 0, 0, 0.3));\n",
              "      fill: #FFFFFF;\n",
              "    }\n",
              "  </style>\n",
              "\n",
              "      <script>\n",
              "        const buttonEl =\n",
              "          document.querySelector('#df-0c65ddc3-f550-4395-a487-f038773e0e1e button.colab-df-convert');\n",
              "        buttonEl.style.display =\n",
              "          google.colab.kernel.accessAllowed ? 'block' : 'none';\n",
              "\n",
              "        async function convertToInteractive(key) {\n",
              "          const element = document.querySelector('#df-0c65ddc3-f550-4395-a487-f038773e0e1e');\n",
              "          const dataTable =\n",
              "            await google.colab.kernel.invokeFunction('convertToInteractive',\n",
              "                                                     [key], {});\n",
              "          if (!dataTable) return;\n",
              "\n",
              "          const docLinkHtml = 'Like what you see? Visit the ' +\n",
              "            '<a target=\"_blank\" href=https://colab.research.google.com/notebooks/data_table.ipynb>data table notebook</a>'\n",
              "            + ' to learn more about interactive tables.';\n",
              "          element.innerHTML = '';\n",
              "          dataTable['output_type'] = 'display_data';\n",
              "          await google.colab.output.renderOutput(dataTable, element);\n",
              "          const docLink = document.createElement('div');\n",
              "          docLink.innerHTML = docLinkHtml;\n",
              "          element.appendChild(docLink);\n",
              "        }\n",
              "      </script>\n",
              "    </div>\n",
              "  </div>\n",
              "  "
            ]
          },
          "metadata": {},
          "execution_count": 83
        }
      ]
    },
    {
      "cell_type": "code",
      "source": [
        "maxslice_df.to_csv('data/LIDC_20130817_AllFeatures2D_MaxSlicePerNodule_inLineRatings.csv')"
      ],
      "metadata": {
        "id": "AufSy9I8gslk"
      },
      "id": "AufSy9I8gslk",
      "execution_count": null,
      "outputs": []
    },
    {
      "cell_type": "code",
      "source": [
        "test_dataset"
      ],
      "metadata": {
        "id": "mwy05jD-sUz-",
        "outputId": "e0954a9a-b0b9-4b3b-9f46-168226754285",
        "colab": {
          "base_uri": "https://localhost:8080/"
        }
      },
      "id": "mwy05jD-sUz-",
      "execution_count": 67,
      "outputs": [
        {
          "output_type": "execute_result",
          "data": {
            "text/plain": [
              "<__main__.OnDemandWaterbirdsDataset at 0x7fe15c4bee10>"
            ]
          },
          "metadata": {},
          "execution_count": 67
        }
      ]
    },
    {
      "cell_type": "code",
      "source": [
        "test_loader = dataloaders.InfiniteDataLoader(test_dataset, 4)"
      ],
      "metadata": {
        "id": "t1e5-TlZzS8_"
      },
      "id": "t1e5-TlZzS8_",
      "execution_count": 82,
      "outputs": []
    },
    {
      "cell_type": "code",
      "source": [
        "to_image = torchvision.transforms.ToPILImage()\n",
        "to_image(next(iter(test_loader))[0].squeeze()[0])"
      ],
      "metadata": {
        "id": "bEP_AUarzZmQ",
        "outputId": "0438db37-a5fc-477e-c70a-0272fec29b9c",
        "colab": {
          "base_uri": "https://localhost:8080/",
          "height": 217
        }
      },
      "id": "bEP_AUarzZmQ",
      "execution_count": 93,
      "outputs": [
        {
          "output_type": "execute_result",
          "data": {
            "text/plain": [
              "<PIL.Image.Image image mode=RGB size=200x200>"
            ],
            "image/png": "[encoded data removed]"
          },
          "metadata": {},
          "execution_count": 93
        }
      ]
    },
    {
      "cell_type": "code",
      "source": [
        "next(iter(test_loader))[0].squeeze()"
      ],
      "metadata": {
        "id": "RkIiwvSizhQ-",
        "outputId": "60ad6dc3-faef-416c-d2be-998b4c2a3226",
        "colab": {
          "base_uri": "https://localhost:8080/"
        }
      },
      "id": "RkIiwvSizhQ-",
      "execution_count": 91,
      "outputs": [
        {
          "output_type": "execute_result",
          "data": {
            "text/plain": [
              "tensor([[[[0.2675, 0.3391, 0.3197,  ..., 0.2923, 0.4666, 0.3925],\n",
              "          [0.3006, 0.3665, 0.3618,  ..., 0.3159, 0.5047, 0.3659],\n",
              "          [0.2775, 0.3658, 0.3619,  ..., 0.3267, 0.3394, 0.2482],\n",
              "          ...,\n",
              "          [0.0819, 0.1514, 0.2360,  ..., 0.7976, 0.5740, 0.1655],\n",
              "          [0.2273, 0.1637, 0.1929,  ..., 0.9357, 0.5133, 0.1262],\n",
              "          [0.3615, 0.3426, 0.2790,  ..., 0.9345, 0.4706, 0.1360]],\n",
              "\n",
              "         [[0.2448, 0.3075, 0.2795,  ..., 0.3262, 0.4785, 0.3932],\n",
              "          [0.2793, 0.3362, 0.3227,  ..., 0.3427, 0.5138, 0.3694],\n",
              "          [0.2586, 0.3378, 0.3253,  ..., 0.3566, 0.3528, 0.2537],\n",
              "          ...,\n",
              "          [0.1546, 0.2236, 0.3138,  ..., 0.7818, 0.5257, 0.1149],\n",
              "          [0.3329, 0.2608, 0.2852,  ..., 0.9235, 0.4622, 0.0714],\n",
              "          [0.4940, 0.4593, 0.3864,  ..., 0.9179, 0.4147, 0.0765]],\n",
              "\n",
              "         [[0.3275, 0.3833, 0.3433,  ..., 0.2984, 0.4811, 0.4223],\n",
              "          [0.3539, 0.4053, 0.3807,  ..., 0.3661, 0.5474, 0.3906],\n",
              "          [0.3204, 0.3953, 0.3687,  ..., 0.3937, 0.3871, 0.2692],\n",
              "          ...,\n",
              "          [0.0457, 0.1470, 0.2463,  ..., 0.8377, 0.6662, 0.2844],\n",
              "          [0.1771, 0.1542, 0.2048,  ..., 0.9649, 0.6002, 0.2364],\n",
              "          [0.3113, 0.3363, 0.3017,  ..., 0.9628, 0.5565, 0.2430]]],\n",
              "\n",
              "\n",
              "        [[[0.1097, 0.2875, 0.4352,  ..., 0.0553, 0.0588, 0.0588],\n",
              "          [0.1994, 0.2730, 0.3713,  ..., 0.0578, 0.0542, 0.0649],\n",
              "          [0.0930, 0.2408, 0.3207,  ..., 0.0626, 0.0584, 0.0724],\n",
              "          ...,\n",
              "          [0.2681, 0.4546, 0.5823,  ..., 0.0593, 0.0656, 0.0651],\n",
              "          [0.3156, 0.5478, 0.5451,  ..., 0.0642, 0.0645, 0.0591],\n",
              "          [0.0955, 0.2521, 0.1848,  ..., 0.0657, 0.0670, 0.0606]],\n",
              "\n",
              "         [[0.1662, 0.3210, 0.4786,  ..., 0.0463, 0.0553, 0.0545],\n",
              "          [0.2537, 0.3059, 0.4124,  ..., 0.0501, 0.0494, 0.0589],\n",
              "          [0.1417, 0.2675, 0.3617,  ..., 0.0602, 0.0539, 0.0624],\n",
              "          ...,\n",
              "          [0.2681, 0.4546, 0.5823,  ..., 0.0515, 0.0578, 0.0572],\n",
              "          [0.3156, 0.5478, 0.5451,  ..., 0.0563, 0.0566, 0.0513],\n",
              "          [0.0955, 0.2521, 0.1848,  ..., 0.0578, 0.0592, 0.0527]],\n",
              "\n",
              "         [[0.2242, 0.3397, 0.4718,  ..., 0.0273, 0.0581, 0.0748],\n",
              "          [0.2870, 0.3012, 0.3824,  ..., 0.0304, 0.0419, 0.0632],\n",
              "          [0.1482, 0.2385, 0.3098,  ..., 0.0319, 0.0285, 0.0398],\n",
              "          ...,\n",
              "          [0.2680, 0.4545, 0.5776,  ..., 0.0552, 0.0616, 0.0611],\n",
              "          [0.3156, 0.5478, 0.5404,  ..., 0.0602, 0.0605, 0.0552],\n",
              "          [0.0955, 0.2521, 0.1802,  ..., 0.0617, 0.0631, 0.0567]]],\n",
              "\n",
              "\n",
              "        [[[0.6078, 0.6078, 0.6078,  ..., 0.5503, 0.5490, 0.5490],\n",
              "          [0.6078, 0.6078, 0.6078,  ..., 0.5503, 0.5490, 0.5490],\n",
              "          [0.6067, 0.6067, 0.6067,  ..., 0.5499, 0.5490, 0.5490],\n",
              "          ...,\n",
              "          [0.1642, 0.1543, 0.1611,  ..., 0.2328, 0.2457, 0.2458],\n",
              "          [0.0828, 0.0975, 0.1220,  ..., 0.2249, 0.2451, 0.2379],\n",
              "          [0.0985, 0.1109, 0.1108,  ..., 0.2423, 0.2332, 0.2167]],\n",
              "\n",
              "         [[0.6078, 0.6078, 0.6078,  ..., 0.5503, 0.5490, 0.5490],\n",
              "          [0.6078, 0.6078, 0.6078,  ..., 0.5503, 0.5490, 0.5490],\n",
              "          [0.6067, 0.6067, 0.6067,  ..., 0.5499, 0.5490, 0.5490],\n",
              "          ...,\n",
              "          [0.2074, 0.1974, 0.2042,  ..., 0.2602, 0.2692, 0.2693],\n",
              "          [0.1353, 0.1500, 0.1714,  ..., 0.2606, 0.2748, 0.2615],\n",
              "          [0.1534, 0.1658, 0.1618,  ..., 0.2802, 0.2646, 0.2402]],\n",
              "\n",
              "         [[0.6078, 0.6078, 0.6078,  ..., 0.5582, 0.5569, 0.5569],\n",
              "          [0.6078, 0.6078, 0.6078,  ..., 0.5582, 0.5569, 0.5569],\n",
              "          [0.6067, 0.6067, 0.6067,  ..., 0.5578, 0.5569, 0.5569],\n",
              "          ...,\n",
              "          [0.2152, 0.2053, 0.2121,  ..., 0.2511, 0.2614, 0.2614],\n",
              "          [0.1400, 0.1547, 0.1772,  ..., 0.2483, 0.2649, 0.2536],\n",
              "          [0.1573, 0.1697, 0.1670,  ..., 0.2671, 0.2541, 0.2324]]],\n",
              "\n",
              "\n",
              "        [[[0.3999, 0.4215, 0.4529,  ..., 0.2620, 0.2426, 0.2398],\n",
              "          [0.3110, 0.4297, 0.4073,  ..., 0.4607, 0.2230, 0.2283],\n",
              "          [0.3171, 0.4015, 0.3679,  ..., 0.4313, 0.2151, 0.2068],\n",
              "          ...,\n",
              "          [0.8082, 0.7212, 0.8160,  ..., 0.8356, 0.8377, 0.8405],\n",
              "          [0.7359, 0.7412, 0.8348,  ..., 0.8452, 0.8445, 0.8453],\n",
              "          [0.8130, 0.8427, 0.8357,  ..., 0.8647, 0.8622, 0.8599]],\n",
              "\n",
              "         [[0.3399, 0.3664, 0.4075,  ..., 0.1918, 0.1735, 0.1777],\n",
              "          [0.2590, 0.3793, 0.3636,  ..., 0.4058, 0.1683, 0.1821],\n",
              "          [0.2752, 0.3598, 0.3286,  ..., 0.3924, 0.1769, 0.1741],\n",
              "          ...,\n",
              "          [0.8004, 0.7133, 0.8082,  ..., 0.8278, 0.8299, 0.8327],\n",
              "          [0.7281, 0.7334, 0.8270,  ..., 0.8374, 0.8367, 0.8375],\n",
              "          [0.8051, 0.8348, 0.8278,  ..., 0.8568, 0.8543, 0.8521]],\n",
              "\n",
              "         [[0.3424, 0.3668, 0.4060,  ..., 0.1389, 0.1095, 0.1022],\n",
              "          [0.2591, 0.3793, 0.3618,  ..., 0.3595, 0.1127, 0.1125],\n",
              "          [0.2699, 0.3544, 0.3220,  ..., 0.3593, 0.1325, 0.1175],\n",
              "          ...,\n",
              "          [0.8043, 0.7173, 0.8121,  ..., 0.8395, 0.8416, 0.8444],\n",
              "          [0.7320, 0.7373, 0.8309,  ..., 0.8491, 0.8484, 0.8492],\n",
              "          [0.8090, 0.8387, 0.8317,  ..., 0.8686, 0.8661, 0.8638]]]],\n",
              "       device='cuda:0')"
            ]
          },
          "metadata": {},
          "execution_count": 91
        }
      ]
    },
    {
      "cell_type": "code",
      "source": [
        ""
      ],
      "metadata": {
        "id": "D4k6GILt0cP5"
      },
      "id": "D4k6GILt0cP5",
      "execution_count": null,
      "outputs": []
    }
  ],
  "metadata": {
    "kernelspec": {
      "display_name": "REU",
      "language": "python",
      "name": "reu"
    },
    "language_info": {
      "codemirror_mode": {
        "name": "ipython",
        "version": 3
      },
      "file_extension": ".py",
      "mimetype": "text/x-python",
      "name": "python",
      "nbconvert_exporter": "python",
      "pygments_lexer": "ipython3",
      "version": "3.9.12"
    },
    "colab": {
      "name": "run_test.ipynb",
      "provenance": []
    },
    "accelerator": "GPU",
    "gpuClass": "standard"
  },
  "nbformat": 4,
  "nbformat_minor": 5
}