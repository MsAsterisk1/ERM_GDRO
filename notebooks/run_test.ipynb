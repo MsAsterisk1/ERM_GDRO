{
  "cells": [
    {
      "cell_type": "code",
      "execution_count": 2,
      "id": "f3e227b8",
      "metadata": {
        "id": "f3e227b8"
      },
      "outputs": [],
      "source": [
        "%load_ext autoreload\n",
        "%autoreload 2"
      ]
    },
    {
      "cell_type": "code",
      "execution_count": null,
      "id": "3261d496",
      "metadata": {
        "colab": {
          "base_uri": "https://localhost:8080/"
        },
        "id": "3261d496",
        "outputId": "9206134a-1091-4601-e9cb-c2253cfeb2cf"
      },
      "outputs": [
        {
          "name": "stdout",
          "output_type": "stream",
          "text": [
            "C:\\Users\\efurst1\\PycharmProjects\\LIDC_GDRO\n"
          ]
        }
      ],
      "source": [
        "# For use on local machine\n",
        "%cd .."
      ]
    },
    {
      "cell_type": "code",
      "execution_count": 3,
      "id": "5KmIQPaa0vb3",
      "metadata": {
        "colab": {
          "base_uri": "https://localhost:8080/"
        },
        "id": "5KmIQPaa0vb3",
        "outputId": "6ddd45d5-bc03-4540-c030-5c647102b2dc"
      },
      "outputs": [
        {
          "output_type": "stream",
          "name": "stdout",
          "text": [
            "Cloning into 'LIDC_GDRO'...\n",
            "remote: Enumerating objects: 4671, done.\u001b[K\n",
            "remote: Counting objects: 100% (1243/1243), done.\u001b[K\n",
            "remote: Compressing objects: 100% (560/560), done.\u001b[K\n",
            "remote: Total 4671 (delta 696), reused 1220 (delta 677), pack-reused 3428\u001b[K\n",
            "Receiving objects: 100% (4671/4671), 149.58 MiB | 21.24 MiB/s, done.\n",
            "Resolving deltas: 100% (3844/3844), done.\n",
            "Checking out files: 100% (5452/5452), done.\n",
            "/content/LIDC_GDRO\n"
          ]
        }
      ],
      "source": [
        "# For use in google colab\n",
        "!git clone https://github.com/mtzig/LIDC_GDRO.git\n",
        "%cd LIDC_GDRO/"
      ]
    },
    {
      "cell_type": "code",
      "execution_count": 4,
      "id": "78LzL1-VF5AD",
      "metadata": {
        "colab": {
          "base_uri": "https://localhost:8080/"
        },
        "id": "78LzL1-VF5AD",
        "outputId": "c9ebfbc9-0098-479e-82c1-c186fb12a3ff"
      },
      "outputs": [
        {
          "output_type": "stream",
          "name": "stdout",
          "text": [
            "Already up to date.\n"
          ]
        }
      ],
      "source": [
        "!git pull"
      ]
    },
    {
      "cell_type": "code",
      "execution_count": 4,
      "id": "TAuuvi9ABVEI",
      "metadata": {
        "colab": {
          "base_uri": "https://localhost:8080/"
        },
        "id": "TAuuvi9ABVEI",
        "outputId": "06c5078a-3282-42fc-8ea5-9a262b48d819"
      },
      "outputs": [
        {
          "output_type": "stream",
          "name": "stdout",
          "text": [
            "* \u001b[32mmain\u001b[m\n"
          ]
        }
      ],
      "source": [
        "!git branch"
      ]
    },
    {
      "cell_type": "code",
      "execution_count": 11,
      "id": "699eb945",
      "metadata": {
        "id": "699eb945"
      },
      "outputs": [],
      "source": [
        "from utils import data_utils, image_data_utils\n",
        "import datasets\n",
        "import dataloaders\n",
        "import models\n",
        "import torch\n",
        "import loss\n",
        "import train_eval\n",
        "import pandas as pd\n",
        "import numpy as np\n",
        "import torchvision\n",
        "from torch.optim.lr_scheduler import ReduceLROnPlateau"
      ]
    },
    {
      "cell_type": "code",
      "execution_count": 12,
      "id": "03fab424",
      "metadata": {
        "colab": {
          "base_uri": "https://localhost:8080/"
        },
        "id": "03fab424",
        "outputId": "a059844b-6ed8-4057-ef4a-16200034815a"
      },
      "outputs": [
        {
          "output_type": "stream",
          "name": "stdout",
          "text": [
            "Using device cuda\n"
          ]
        }
      ],
      "source": [
        "device = \"cuda\" if torch.cuda.is_available() else \"cpu\"\n",
        "\n",
        "batch_size = 128\n",
        "\n",
        "hparams = {\"eta\": 0.01, \"gamma\": 1.5}\n",
        "lr = 0.0005\n",
        "weight_decay = 0.005\n",
        "\n",
        "# model_class = models.NeuralNetwork\n",
        "# model_args = (512, 64, 36, 2)\n",
        "\n",
        "model_class = models.TransferModel18\n",
        "model_args = (True, False, True, device)\n",
        "\n",
        "\n",
        "print(f'Using device {device}')"
      ]
    },
    {
      "cell_type": "markdown",
      "id": "4ee83861",
      "metadata": {
        "id": "4ee83861"
      },
      "source": [
        "# Load and process data"
      ]
    },
    {
      "cell_type": "markdown",
      "id": "80b81d85",
      "metadata": {
        "id": "80b81d85"
      },
      "source": [
        "## LIDC"
      ]
    },
    {
      "cell_type": "code",
      "execution_count": null,
      "id": "c34b7da7",
      "metadata": {
        "colab": {
          "base_uri": "https://localhost:8080/",
          "height": 488
        },
        "id": "c34b7da7",
        "outputId": "62d9c21b-5bac-49e6-ccd7-cbb29cce471c"
      },
      "outputs": [
        {
          "data": {
            "text/html": [
              "<div>\n",
              "<style scoped>\n",
              "    .dataframe tbody tr th:only-of-type {\n",
              "        vertical-align: middle;\n",
              "    }\n",
              "\n",
              "    .dataframe tbody tr th {\n",
              "        vertical-align: top;\n",
              "    }\n",
              "\n",
              "    .dataframe thead th {\n",
              "        text-align: right;\n",
              "    }\n",
              "</style>\n",
              "<table border=\"1\" class=\"dataframe\">\n",
              "  <thead>\n",
              "    <tr style=\"text-align: right;\">\n",
              "      <th></th>\n",
              "      <th>noduleID</th>\n",
              "      <th>Area</th>\n",
              "      <th>ConvexArea</th>\n",
              "      <th>Perimeter</th>\n",
              "      <th>ConvexPerimeter</th>\n",
              "      <th>EquivDiameter</th>\n",
              "      <th>MajorAxisLength</th>\n",
              "      <th>MinorAxisLength</th>\n",
              "      <th>Elongation</th>\n",
              "      <th>Compactness</th>\n",
              "      <th>...</th>\n",
              "      <th>Energy</th>\n",
              "      <th>Homogeneity</th>\n",
              "      <th>Entropy</th>\n",
              "      <th>x_3rdordermoment</th>\n",
              "      <th>Inversevariance</th>\n",
              "      <th>Sumaverage</th>\n",
              "      <th>Variance</th>\n",
              "      <th>Clustertendency</th>\n",
              "      <th>malignancy</th>\n",
              "      <th>subclass</th>\n",
              "    </tr>\n",
              "  </thead>\n",
              "  <tbody>\n",
              "    <tr>\n",
              "      <th>0</th>\n",
              "      <td>1</td>\n",
              "      <td>2.858687</td>\n",
              "      <td>2.860629</td>\n",
              "      <td>2.688148</td>\n",
              "      <td>2.516192</td>\n",
              "      <td>2.529142</td>\n",
              "      <td>2.152152</td>\n",
              "      <td>2.813053</td>\n",
              "      <td>-0.566245</td>\n",
              "      <td>1.320561</td>\n",
              "      <td>...</td>\n",
              "      <td>-0.963124</td>\n",
              "      <td>1.215927</td>\n",
              "      <td>1.947525</td>\n",
              "      <td>-0.236002</td>\n",
              "      <td>1.126182</td>\n",
              "      <td>0.600376</td>\n",
              "      <td>-0.063268</td>\n",
              "      <td>0.050018</td>\n",
              "      <td>1</td>\n",
              "      <td>2.0</td>\n",
              "    </tr>\n",
              "    <tr>\n",
              "      <th>1</th>\n",
              "      <td>2</td>\n",
              "      <td>2.269679</td>\n",
              "      <td>1.917109</td>\n",
              "      <td>1.552253</td>\n",
              "      <td>1.954211</td>\n",
              "      <td>2.172407</td>\n",
              "      <td>2.083068</td>\n",
              "      <td>1.908277</td>\n",
              "      <td>0.372004</td>\n",
              "      <td>-0.174280</td>\n",
              "      <td>...</td>\n",
              "      <td>-0.927742</td>\n",
              "      <td>1.430238</td>\n",
              "      <td>1.621591</td>\n",
              "      <td>-0.058623</td>\n",
              "      <td>1.103481</td>\n",
              "      <td>-1.146938</td>\n",
              "      <td>-0.645093</td>\n",
              "      <td>-0.643952</td>\n",
              "      <td>1</td>\n",
              "      <td>1.0</td>\n",
              "    </tr>\n",
              "    <tr>\n",
              "      <th>2</th>\n",
              "      <td>3</td>\n",
              "      <td>2.313185</td>\n",
              "      <td>2.229738</td>\n",
              "      <td>2.190760</td>\n",
              "      <td>2.041805</td>\n",
              "      <td>2.199868</td>\n",
              "      <td>1.874439</td>\n",
              "      <td>2.186214</td>\n",
              "      <td>-0.255019</td>\n",
              "      <td>0.950395</td>\n",
              "      <td>...</td>\n",
              "      <td>-0.945433</td>\n",
              "      <td>1.460853</td>\n",
              "      <td>1.847238</td>\n",
              "      <td>-0.246037</td>\n",
              "      <td>1.398599</td>\n",
              "      <td>-0.467185</td>\n",
              "      <td>-0.232066</td>\n",
              "      <td>-0.147096</td>\n",
              "      <td>1</td>\n",
              "      <td>2.0</td>\n",
              "    </tr>\n",
              "    <tr>\n",
              "      <th>3</th>\n",
              "      <td>4</td>\n",
              "      <td>-0.263723</td>\n",
              "      <td>-0.291010</td>\n",
              "      <td>-0.148363</td>\n",
              "      <td>-0.108683</td>\n",
              "      <td>-0.089644</td>\n",
              "      <td>-0.011315</td>\n",
              "      <td>-0.234322</td>\n",
              "      <td>0.710524</td>\n",
              "      <td>-0.132838</td>\n",
              "      <td>...</td>\n",
              "      <td>-0.538540</td>\n",
              "      <td>-0.131171</td>\n",
              "      <td>0.175778</td>\n",
              "      <td>-0.267807</td>\n",
              "      <td>-0.190498</td>\n",
              "      <td>-0.449756</td>\n",
              "      <td>-0.296948</td>\n",
              "      <td>-0.288822</td>\n",
              "      <td>1</td>\n",
              "      <td>1.0</td>\n",
              "    </tr>\n",
              "    <tr>\n",
              "      <th>4</th>\n",
              "      <td>5</td>\n",
              "      <td>0.020741</td>\n",
              "      <td>-0.054425</td>\n",
              "      <td>0.028349</td>\n",
              "      <td>0.150845</td>\n",
              "      <td>0.295177</td>\n",
              "      <td>0.006211</td>\n",
              "      <td>0.487526</td>\n",
              "      <td>-1.035506</td>\n",
              "      <td>-0.496377</td>\n",
              "      <td>...</td>\n",
              "      <td>-0.697759</td>\n",
              "      <td>2.636502</td>\n",
              "      <td>0.510070</td>\n",
              "      <td>-0.103826</td>\n",
              "      <td>3.044449</td>\n",
              "      <td>0.182066</td>\n",
              "      <td>-0.094918</td>\n",
              "      <td>-0.029805</td>\n",
              "      <td>1</td>\n",
              "      <td>1.0</td>\n",
              "    </tr>\n",
              "    <tr>\n",
              "      <th>...</th>\n",
              "      <td>...</td>\n",
              "      <td>...</td>\n",
              "      <td>...</td>\n",
              "      <td>...</td>\n",
              "      <td>...</td>\n",
              "      <td>...</td>\n",
              "      <td>...</td>\n",
              "      <td>...</td>\n",
              "      <td>...</td>\n",
              "      <td>...</td>\n",
              "      <td>...</td>\n",
              "      <td>...</td>\n",
              "      <td>...</td>\n",
              "      <td>...</td>\n",
              "      <td>...</td>\n",
              "      <td>...</td>\n",
              "      <td>...</td>\n",
              "      <td>...</td>\n",
              "      <td>...</td>\n",
              "      <td>...</td>\n",
              "      <td>...</td>\n",
              "    </tr>\n",
              "    <tr>\n",
              "      <th>2682</th>\n",
              "      <td>2687</td>\n",
              "      <td>-0.240296</td>\n",
              "      <td>-0.257212</td>\n",
              "      <td>-0.100039</td>\n",
              "      <td>-0.083864</td>\n",
              "      <td>-0.054589</td>\n",
              "      <td>0.003926</td>\n",
              "      <td>-0.153305</td>\n",
              "      <td>0.475334</td>\n",
              "      <td>-0.047636</td>\n",
              "      <td>...</td>\n",
              "      <td>-0.538540</td>\n",
              "      <td>1.154695</td>\n",
              "      <td>0.192493</td>\n",
              "      <td>-0.247935</td>\n",
              "      <td>1.080780</td>\n",
              "      <td>-1.299447</td>\n",
              "      <td>-0.640346</td>\n",
              "      <td>-0.630920</td>\n",
              "      <td>1</td>\n",
              "      <td>1.0</td>\n",
              "    </tr>\n",
              "    <tr>\n",
              "      <th>2683</th>\n",
              "      <td>2688</td>\n",
              "      <td>-0.611773</td>\n",
              "      <td>-0.589556</td>\n",
              "      <td>-0.677492</td>\n",
              "      <td>-0.727535</td>\n",
              "      <td>-0.749732</td>\n",
              "      <td>-0.699862</td>\n",
              "      <td>-0.750687</td>\n",
              "      <td>0.057965</td>\n",
              "      <td>-0.302033</td>\n",
              "      <td>...</td>\n",
              "      <td>0.505227</td>\n",
              "      <td>-0.841459</td>\n",
              "      <td>-0.810383</td>\n",
              "      <td>0.107726</td>\n",
              "      <td>-1.075852</td>\n",
              "      <td>-0.253673</td>\n",
              "      <td>-0.268991</td>\n",
              "      <td>-0.306741</td>\n",
              "      <td>0</td>\n",
              "      <td>0.0</td>\n",
              "    </tr>\n",
              "    <tr>\n",
              "      <th>2684</th>\n",
              "      <td>2689</td>\n",
              "      <td>-0.601733</td>\n",
              "      <td>-0.589556</td>\n",
              "      <td>-0.665766</td>\n",
              "      <td>-0.722959</td>\n",
              "      <td>-0.724538</td>\n",
              "      <td>-0.776367</td>\n",
              "      <td>-0.636464</td>\n",
              "      <td>-0.813931</td>\n",
              "      <td>-0.344997</td>\n",
              "      <td>...</td>\n",
              "      <td>0.346008</td>\n",
              "      <td>0.181111</td>\n",
              "      <td>-0.710095</td>\n",
              "      <td>-0.272345</td>\n",
              "      <td>-0.383460</td>\n",
              "      <td>-1.321234</td>\n",
              "      <td>-0.724218</td>\n",
              "      <td>-0.753098</td>\n",
              "      <td>0</td>\n",
              "      <td>0.0</td>\n",
              "    </tr>\n",
              "    <tr>\n",
              "      <th>2685</th>\n",
              "      <td>2690</td>\n",
              "      <td>0.368791</td>\n",
              "      <td>0.300451</td>\n",
              "      <td>0.443243</td>\n",
              "      <td>0.588025</td>\n",
              "      <td>0.683606</td>\n",
              "      <td>0.488672</td>\n",
              "      <td>0.810378</td>\n",
              "      <td>-0.554397</td>\n",
              "      <td>-0.128012</td>\n",
              "      <td>...</td>\n",
              "      <td>-0.803905</td>\n",
              "      <td>1.093463</td>\n",
              "      <td>0.869434</td>\n",
              "      <td>-0.119738</td>\n",
              "      <td>0.989974</td>\n",
              "      <td>0.731098</td>\n",
              "      <td>-0.221516</td>\n",
              "      <td>-0.153612</td>\n",
              "      <td>1</td>\n",
              "      <td>1.0</td>\n",
              "    </tr>\n",
              "    <tr>\n",
              "      <th>2686</th>\n",
              "      <td>2691</td>\n",
              "      <td>-0.548187</td>\n",
              "      <td>-0.547309</td>\n",
              "      <td>-0.592570</td>\n",
              "      <td>-0.605445</td>\n",
              "      <td>-0.599703</td>\n",
              "      <td>-0.690597</td>\n",
              "      <td>-0.476771</td>\n",
              "      <td>-0.973798</td>\n",
              "      <td>-0.443380</td>\n",
              "      <td>...</td>\n",
              "      <td>0.505227</td>\n",
              "      <td>-0.174033</td>\n",
              "      <td>-0.810383</td>\n",
              "      <td>-0.095690</td>\n",
              "      <td>-0.723980</td>\n",
              "      <td>-0.314676</td>\n",
              "      <td>-0.510583</td>\n",
              "      <td>-0.502226</td>\n",
              "      <td>0</td>\n",
              "      <td>0.0</td>\n",
              "    </tr>\n",
              "  </tbody>\n",
              "</table>\n",
              "<p>1488 rows × 67 columns</p>\n",
              "</div>"
            ],
            "text/plain": [
              "      noduleID      Area  ConvexArea  Perimeter  ConvexPerimeter  \\\n",
              "0            1  2.858687    2.860629   2.688148         2.516192   \n",
              "1            2  2.269679    1.917109   1.552253         1.954211   \n",
              "2            3  2.313185    2.229738   2.190760         2.041805   \n",
              "3            4 -0.263723   -0.291010  -0.148363        -0.108683   \n",
              "4            5  0.020741   -0.054425   0.028349         0.150845   \n",
              "...        ...       ...         ...        ...              ...   \n",
              "2682      2687 -0.240296   -0.257212  -0.100039        -0.083864   \n",
              "2683      2688 -0.611773   -0.589556  -0.677492        -0.727535   \n",
              "2684      2689 -0.601733   -0.589556  -0.665766        -0.722959   \n",
              "2685      2690  0.368791    0.300451   0.443243         0.588025   \n",
              "2686      2691 -0.548187   -0.547309  -0.592570        -0.605445   \n",
              "\n",
              "      EquivDiameter  MajorAxisLength  MinorAxisLength  Elongation  \\\n",
              "0          2.529142         2.152152         2.813053   -0.566245   \n",
              "1          2.172407         2.083068         1.908277    0.372004   \n",
              "2          2.199868         1.874439         2.186214   -0.255019   \n",
              "3         -0.089644        -0.011315        -0.234322    0.710524   \n",
              "4          0.295177         0.006211         0.487526   -1.035506   \n",
              "...             ...              ...              ...         ...   \n",
              "2682      -0.054589         0.003926        -0.153305    0.475334   \n",
              "2683      -0.749732        -0.699862        -0.750687    0.057965   \n",
              "2684      -0.724538        -0.776367        -0.636464   -0.813931   \n",
              "2685       0.683606         0.488672         0.810378   -0.554397   \n",
              "2686      -0.599703        -0.690597        -0.476771   -0.973798   \n",
              "\n",
              "      Compactness  ...    Energy  Homogeneity   Entropy  x_3rdordermoment  \\\n",
              "0        1.320561  ... -0.963124     1.215927  1.947525         -0.236002   \n",
              "1       -0.174280  ... -0.927742     1.430238  1.621591         -0.058623   \n",
              "2        0.950395  ... -0.945433     1.460853  1.847238         -0.246037   \n",
              "3       -0.132838  ... -0.538540    -0.131171  0.175778         -0.267807   \n",
              "4       -0.496377  ... -0.697759     2.636502  0.510070         -0.103826   \n",
              "...           ...  ...       ...          ...       ...               ...   \n",
              "2682    -0.047636  ... -0.538540     1.154695  0.192493         -0.247935   \n",
              "2683    -0.302033  ...  0.505227    -0.841459 -0.810383          0.107726   \n",
              "2684    -0.344997  ...  0.346008     0.181111 -0.710095         -0.272345   \n",
              "2685    -0.128012  ... -0.803905     1.093463  0.869434         -0.119738   \n",
              "2686    -0.443380  ...  0.505227    -0.174033 -0.810383         -0.095690   \n",
              "\n",
              "      Inversevariance  Sumaverage  Variance  Clustertendency  malignancy  \\\n",
              "0            1.126182    0.600376 -0.063268         0.050018           1   \n",
              "1            1.103481   -1.146938 -0.645093        -0.643952           1   \n",
              "2            1.398599   -0.467185 -0.232066        -0.147096           1   \n",
              "3           -0.190498   -0.449756 -0.296948        -0.288822           1   \n",
              "4            3.044449    0.182066 -0.094918        -0.029805           1   \n",
              "...               ...         ...       ...              ...         ...   \n",
              "2682         1.080780   -1.299447 -0.640346        -0.630920           1   \n",
              "2683        -1.075852   -0.253673 -0.268991        -0.306741           0   \n",
              "2684        -0.383460   -1.321234 -0.724218        -0.753098           0   \n",
              "2685         0.989974    0.731098 -0.221516        -0.153612           1   \n",
              "2686        -0.723980   -0.314676 -0.510583        -0.502226           0   \n",
              "\n",
              "      subclass  \n",
              "0          2.0  \n",
              "1          1.0  \n",
              "2          2.0  \n",
              "3          1.0  \n",
              "4          1.0  \n",
              "...        ...  \n",
              "2682       1.0  \n",
              "2683       0.0  \n",
              "2684       0.0  \n",
              "2685       1.0  \n",
              "2686       0.0  \n",
              "\n",
              "[1488 rows x 67 columns]"
            ]
          },
          "execution_count": 277,
          "metadata": {},
          "output_type": "execute_result"
        }
      ],
      "source": [
        "# get LIDC data\n",
        "\n",
        "df = data_utils.preprocess_data(\n",
        "    *data_utils.load_lidc(\n",
        "        data_root='data/',\n",
        "        feature_path='LIDC_20130817_AllFeatures2D_MaxSlicePerNodule_inLineRatings.csv',\n",
        "        subclass_path='subclass_labels/mode_label.csv'),#'train_test_splits/LIDC_data_split.csv'),\n",
        "    subclass_column='cluster')\n",
        "df"
      ]
    },
    {
      "cell_type": "code",
      "execution_count": null,
      "id": "215c018f",
      "metadata": {
        "id": "215c018f"
      },
      "outputs": [],
      "source": [
        "# get train/test flags\n",
        "train_split = pd.read_csv(\"data/train_test_splits/LIDC_data_split.csv\")\n",
        "\n",
        "# create train/test dataframes\n",
        "train_df = df[df[\"noduleID\"].isin(train_split[train_split[\"split\"] == 0][\"noduleID\"].values)]\n",
        "val_df = df[df[\"noduleID\"].isin(train_split[train_split[\"split\"] == 1][\"noduleID\"].values)]\n",
        "test_df = df[df[\"noduleID\"].isin(train_split[train_split[\"split\"] == 2][\"noduleID\"].values)]"
      ]
    },
    {
      "cell_type": "code",
      "execution_count": null,
      "id": "baefd71f",
      "metadata": {
        "id": "baefd71f"
      },
      "outputs": [],
      "source": [
        "train_dataloader = data_utils.create_dataloader(train_df, batch_size)\n",
        "val_dataloader = data_utils.create_dataloader(val_df, len(val_df))\n",
        "test_dataloader = data_utils.create_dataloader(test_df, len(test_df))"
      ]
    },
    {
      "cell_type": "markdown",
      "id": "7660cecf",
      "metadata": {
        "id": "7660cecf"
      },
      "source": [
        "## LIDC CNN features"
      ]
    },
    {
      "cell_type": "code",
      "execution_count": 8,
      "id": "5427084c",
      "metadata": {
        "id": "5427084c"
      },
      "outputs": [],
      "source": [
        "cnn_train, cnn_val, cnn_test = image_data_utils.get_features()"
      ]
    },
    {
      "cell_type": "code",
      "execution_count": 9,
      "id": "5550f4a7",
      "metadata": {
        "id": "5550f4a7"
      },
      "outputs": [],
      "source": [
        "train_dataloader = data_utils.create_dataloader(cnn_train, batch_size=batch_size, is_dataframe=False)\n",
        "val_dataloader = data_utils.create_dataloader(cnn_val, batch_size=batch_size, is_dataframe=False)\n",
        "test_dataloader = data_utils.create_dataloader(cnn_test, batch_size=batch_size, is_dataframe=False)"
      ]
    },
    {
      "cell_type": "markdown",
      "source": [
        "# LIDC Images"
      ],
      "metadata": {
        "id": "ZWxu2eCu5gK0"
      },
      "id": "ZWxu2eCu5gK0"
    },
    {
      "cell_type": "code",
      "source": [
        "img_train, img_val, img_test = image_data_utils.get_features(subclass='spic_groups', images=True, device=device, subclass_file='data/train_test_splits/LIDC_data_split.csv')\n",
        "train_dataloader = data_utils.create_dataloader(img_train, batch_size=batch_size, is_dataframe=False)\n",
        "val_dataloader = data_utils.create_dataloader(img_val, batch_size=batch_size, is_dataframe=False)\n",
        "test_dataloader = data_utils.create_dataloader(img_test, batch_size=batch_size, is_dataframe=False)"
      ],
      "metadata": {
        "id": "VucdIyZL5eOi"
      },
      "id": "VucdIyZL5eOi",
      "execution_count": 13,
      "outputs": []
    },
    {
      "cell_type": "markdown",
      "id": "46f66e99",
      "metadata": {
        "id": "46f66e99"
      },
      "source": [
        "## Waterbirds"
      ]
    },
    {
      "cell_type": "code",
      "execution_count": null,
      "id": "uuxjOKFl5Nel",
      "metadata": {
        "id": "uuxjOKFl5Nel"
      },
      "outputs": [],
      "source": [
        "# download waterbirds through wilds\n",
        "\n",
        "!pip install wilds\n",
        "from wilds import get_dataset\n",
        "\n",
        "get_dataset(dataset=\"waterbirds\", download=True)"
      ]
    },
    {
      "cell_type": "code",
      "execution_count": null,
      "id": "5f4ac03c",
      "metadata": {
        "id": "5f4ac03c"
      },
      "outputs": [],
      "source": [
        "from PIL import Image"
      ]
    },
    {
      "cell_type": "code",
      "execution_count": null,
      "id": "cbbb108e",
      "metadata": {
        "id": "cbbb108e"
      },
      "outputs": [],
      "source": [
        "metadata_df = pd.read_csv('data/waterbirds_v1.0/metadata.csv')"
      ]
    },
    {
      "cell_type": "code",
      "execution_count": null,
      "id": "6c0e29fe",
      "metadata": {
        "id": "6c0e29fe"
      },
      "outputs": [],
      "source": [
        "convert_resize = torchvision.transforms.Compose([torchvision.transforms.ToTensor(), torchvision.transforms.Resize((200, 200), antialias=True)])\n",
        "\n",
        "train_df, val_df, test_df = [metadata_df[metadata_df['split'] == split] for split in [0, 1, 2]]\n",
        "\n",
        "dataset_list = []\n",
        "\n",
        "# If GPU memory is limited, images can be loaded as they are required\n",
        "# This is much slower but may be necessary\n",
        "# If false, all images are loaded up-front, which is also slow but only happens once\n",
        "on_demand = False\n",
        "\n",
        "for df in [train_df, val_df, test_df]:\n",
        "    if on_demand:\n",
        "        dataset_list.append(datasets.OnDemandImageDataset(df, 'data/waterbirds_v1.0/', transform=convert_resize, device=device))\n",
        "    else:\n",
        "        img_tensors = []\n",
        "        for i in range(len(df.index)):\n",
        "            img_path = metadata_df.iloc[i, 1]\n",
        "            img_tensors.append(convert_resize(Image.open('data/waterbirds_v1.0/' + img_path)).squeeze().to(device))\n",
        "        features = torch.stack(img_tensors)\n",
        "        labels = torch.LongTensor([metadata_df.iloc[:, 2]]).squeeze().to(device)\n",
        "        subclasses = torch.LongTensor([2 * metadata_df.iloc[:, 2] + metadata_df.iloc[:, 4]]).squeeze().to(device)\n",
        "\n",
        "        dataset_list.append(datasets.SubclassedDataset(features, labels, subclasses))"
      ]
    },
    {
      "cell_type": "code",
      "execution_count": null,
      "id": "LpHSlphyRC-Z",
      "metadata": {
        "id": "LpHSlphyRC-Z"
      },
      "outputs": [],
      "source": [
        "# smaller dataloaders for prototyping\n",
        "train_dataloader, val_dataloader, test_dataloader = [dataloaders.InfiniteDataLoader(torch.utils.data.Subset(dataset, range(0, len(dataset), 2)), batch_size=batch_size) for dataset in dataset_list]"
      ]
    },
    {
      "cell_type": "code",
      "execution_count": null,
      "id": "91cb9160",
      "metadata": {
        "id": "91cb9160"
      },
      "outputs": [],
      "source": [
        "# full size dataloaders\n",
        "train_dataloader, val_dataloader, test_dataloader = [dataloaders.InfiniteDataLoader(dataset, batch_size=batch_size) for dataset in dataset_list]"
      ]
    },
    {
      "cell_type": "markdown",
      "id": "c71e542c",
      "metadata": {
        "id": "c71e542c"
      },
      "source": [
        "\n",
        "# Test convergence of combinations of ERM and GDRO"
      ]
    },
    {
      "cell_type": "code",
      "execution_count": 56,
      "id": "IEeBRPdddJjd",
      "metadata": {
        "id": "IEeBRPdddJjd"
      },
      "outputs": [],
      "source": [
        "N = 50\n",
        "epochs = 20\n",
        "subtypes = [\"Overall\", \"Unspiculated benign\", \"Spiculated benign\", \"Spiculated malignant\", \"Unspiculated malignant\"]\n",
        "# subtypes = [\"Overall\", \"Land on land\", \"Land on water\", \"Water on land\", \"Water on water\"]\n",
        "# subtypes = [\"Overall\", \"Likely Benign\", \"Somewhat Benign\", \"Somewhat Malignant\", \"Likely Malignant\"]\n",
        "\n",
        "# test_algorithms = [\"ERM\", \"GDRO\", \"Sharp\", \"Smooth\", \"ReverseSmooth\", \"Dynamic\", \"ExtraERM\", \"ExtraGDRO\", \"Halfway\"]\n",
        "# test_algorithms = [\"Mix\" + str(t) for t in [0.4, 0.5, 0.6, 0.7, 0.8]]\n",
        "# test_algorithms = [\"ERM\", \"GDRO\", *[\"Dynamic\" + str(t) for t in [0.01, 0.05, 0.1, 0.5]]]\n",
        "test_algorithms = [\"ERM\", \"GDRO\"]\n",
        "keep_old =        [False, False]\n",
        "\n",
        "record_roc_data = False"
      ]
    },
    {
      "cell_type": "code",
      "execution_count": 15,
      "id": "3001211d",
      "metadata": {
        "colab": {
          "base_uri": "https://localhost:8080/",
          "height": 1000,
          "referenced_widgets": [
            "ad89080a25894848a233357d6f09b409",
            "a37a830e0a5b4fd8a5040d1792d752a5",
            "aa3210fcf9a54aa795eba4976c656312",
            "e0b8538659b64a81ade654ad64c206d2",
            "64e57ec1190d45be8d34a6e1d9a7cf01",
            "4397ba6489f946468a18f6fc2bae2b4a",
            "6f5264abf3b74ce7a4e7a3515718e852",
            "bad6639877b74f92827c3a5b0f5e44ee",
            "742d88cc300c420897a34638cc3b32fa",
            "7760a6a628b54f73837527b35d9654de",
            "73580e9492184fbdb3b2658a2b12f298"
          ]
        },
        "id": "3001211d",
        "outputId": "28c91806-05a9-4e1f-f7ec-74a080a76bcc",
        "scrolled": true
      },
      "outputs": [
        {
          "output_type": "stream",
          "name": "stdout",
          "text": [
            "Running test: ERM\n",
            "Trial 1/50\n"
          ]
        },
        {
          "output_type": "stream",
          "name": "stderr",
          "text": [
            "/usr/local/lib/python3.7/dist-packages/torchvision/models/_utils.py:209: UserWarning: The parameter 'pretrained' is deprecated since 0.13 and will be removed in 0.15, please use 'weights' instead.\n",
            "  f\"The parameter '{pretrained_param}' is deprecated since 0.13 and will be removed in 0.15, \"\n",
            "/usr/local/lib/python3.7/dist-packages/torchvision/models/_utils.py:223: UserWarning: Arguments other than a weight enum or `None` for 'weights' are deprecated since 0.13 and will be removed in 0.15. The current behavior is equivalent to passing `weights=ResNet18_Weights.IMAGENET1K_V1`. You can also use `weights=ResNet18_Weights.DEFAULT` to get the most up-to-date weights.\n",
            "  warnings.warn(msg)\n",
            "Downloading: \"https://download.pytorch.org/models/resnet18-f37072fd.pth\" to /root/.cache/torch/hub/checkpoints/resnet18-f37072fd.pth\n"
          ]
        },
        {
          "output_type": "display_data",
          "data": {
            "text/plain": [
              "  0%|          | 0.00/44.7M [00:00<?, ?B/s]"
            ],
            "application/vnd.jupyter.widget-view+json": {
              "version_major": 2,
              "version_minor": 0,
              "model_id": "ad89080a25894848a233357d6f09b409"
            }
          },
          "metadata": {}
        },
        {
          "output_type": "stream",
          "name": "stdout",
          "text": [
            "Trial 2/50\n",
            "Trial 3/50\n",
            "Trial 4/50\n",
            "Trial 5/50\n",
            "Trial 6/50\n",
            "Trial 7/50\n",
            "Trial 8/50\n",
            "Trial 9/50\n",
            "Trial 10/50\n",
            "Trial 11/50\n",
            "Trial 12/50\n",
            "Trial 13/50\n",
            "Trial 14/50\n",
            "Trial 15/50\n",
            "Trial 16/50\n",
            "Trial 17/50\n",
            "Trial 18/50\n",
            "Trial 19/50\n",
            "Trial 20/50\n",
            "Trial 21/50\n",
            "Trial 22/50\n",
            "Trial 23/50\n",
            "Trial 24/50\n",
            "Trial 25/50\n",
            "Trial 26/50\n",
            "Trial 27/50\n",
            "Trial 28/50\n",
            "Trial 29/50\n",
            "Trial 30/50\n",
            "Trial 31/50\n",
            "Trial 32/50\n",
            "Trial 33/50\n",
            "Trial 34/50\n",
            "Trial 35/50\n",
            "Trial 36/50\n",
            "Trial 37/50\n",
            "Trial 38/50\n",
            "Trial 39/50\n",
            "Trial 40/50\n",
            "Trial 41/50\n",
            "Trial 42/50\n",
            "Trial 43/50\n",
            "Trial 44/50\n",
            "Trial 45/50\n",
            "Trial 46/50\n",
            "Trial 47/50\n",
            "Trial 48/50\n",
            "Trial 49/50\n",
            "Trial 50/50\n",
            "Running test: GDRO\n",
            "Trial 1/50\n",
            "Trial 2/50\n",
            "Trial 3/50\n",
            "Trial 4/50\n",
            "Trial 5/50\n",
            "Trial 6/50\n",
            "Trial 7/50\n",
            "Trial 8/50\n",
            "Trial 9/50\n",
            "Trial 10/50\n",
            "Trial 11/50\n",
            "Trial 12/50\n",
            "Trial 13/50\n",
            "Trial 14/50\n",
            "Trial 15/50\n",
            "Trial 16/50\n",
            "Trial 17/50\n",
            "Trial 18/50\n",
            "Trial 19/50\n",
            "Trial 20/50\n",
            "Trial 21/50\n",
            "Trial 22/50\n",
            "Trial 23/50\n",
            "Trial 24/50\n",
            "Trial 25/50\n",
            "Trial 26/50\n",
            "Trial 27/50\n",
            "Trial 28/50\n",
            "Trial 29/50\n",
            "Trial 30/50\n",
            "Trial 31/50\n",
            "Trial 32/50\n",
            "Trial 33/50\n",
            "Trial 34/50\n",
            "Trial 35/50\n",
            "Trial 36/50\n",
            "Trial 37/50\n",
            "Trial 38/50\n",
            "Trial 39/50\n",
            "Trial 40/50\n",
            "Trial 41/50\n",
            "Trial 42/50\n",
            "Trial 43/50\n",
            "Trial 44/50\n",
            "Trial 45/50\n",
            "Trial 46/50\n",
            "Trial 47/50\n",
            "Trial 48/50\n",
            "Trial 49/50\n",
            "Trial 50/50\n",
            "Test complete\n"
          ]
        },
        {
          "output_type": "display_data",
          "data": {
            "text/plain": [
              "<IPython.core.display.Javascript object>"
            ],
            "application/javascript": [
              "\n",
              "    async function download(id, filename, size) {\n",
              "      if (!google.colab.kernel.accessAllowed) {\n",
              "        return;\n",
              "      }\n",
              "      const div = document.createElement('div');\n",
              "      const label = document.createElement('label');\n",
              "      label.textContent = `Downloading \"${filename}\": `;\n",
              "      div.appendChild(label);\n",
              "      const progress = document.createElement('progress');\n",
              "      progress.max = size;\n",
              "      div.appendChild(progress);\n",
              "      document.body.appendChild(div);\n",
              "\n",
              "      const buffers = [];\n",
              "      let downloaded = 0;\n",
              "\n",
              "      const channel = await google.colab.kernel.comms.open(id);\n",
              "      // Send a message to notify the kernel that we're ready.\n",
              "      channel.send({})\n",
              "\n",
              "      for await (const message of channel.messages) {\n",
              "        // Send a message to notify the kernel that we're ready.\n",
              "        channel.send({})\n",
              "        if (message.buffers) {\n",
              "          for (const buffer of message.buffers) {\n",
              "            buffers.push(buffer);\n",
              "            downloaded += buffer.byteLength;\n",
              "            progress.value = downloaded;\n",
              "          }\n",
              "        }\n",
              "      }\n",
              "      const blob = new Blob(buffers, {type: 'application/binary'});\n",
              "      const a = document.createElement('a');\n",
              "      a.href = window.URL.createObjectURL(blob);\n",
              "      a.download = filename;\n",
              "      div.appendChild(a);\n",
              "      a.click();\n",
              "      div.remove();\n",
              "    }\n",
              "  "
            ]
          },
          "metadata": {}
        },
        {
          "output_type": "display_data",
          "data": {
            "text/plain": [
              "<IPython.core.display.Javascript object>"
            ],
            "application/javascript": [
              "download(\"download_3c6f8d7a-145d-4cae-a51e-45312024bca8\", \"results_end_to_end_spic_groups.csv\", 300961)"
            ]
          },
          "metadata": {}
        }
      ],
      "source": [
        "if not sum(keep_old):\n",
        "    results = {}\n",
        "    if record_roc_data:\n",
        "        roc_data = {}  # For ROC curve\n",
        "\n",
        "\n",
        "for a in range(len(test_algorithms)):\n",
        "    algorithm = test_algorithms[a]\n",
        "\n",
        "    if keep_old[a] and algorithm in results:\n",
        "        print(f\"Keeping old results for {algorithm}\")\n",
        "    else:\n",
        "        print(f\"Running test: {algorithm}\")\n",
        "\n",
        "        results[algorithm] = np.zeros(N * epochs * len(subtypes))\n",
        "        if record_roc_data:\n",
        "            roc_data[algorithm] = [None, None]\n",
        "\n",
        "        for n in range(N):\n",
        "\n",
        "            print(f\"Trial {n + 1}/{N}\")\n",
        "\n",
        "            # create and train model\n",
        "            # model = models.NeuralNetwork(64, 32, 32, 2)\n",
        "            # model.to(device)\n",
        "            model = model_class(*model_args).to(device)\n",
        "\n",
        "            if (algorithm == \"ERM\"):\n",
        "                loss_fn = loss.ERMLoss(model, torch.nn.CrossEntropyLoss())\n",
        "            elif (algorithm == \"GDRO\"):\n",
        "                loss_fn = loss.GDROLoss(model, torch.nn.CrossEntropyLoss(), hparams[\"eta\"], len(subtypes) - 1, normalize_loss=False)\n",
        "            elif (algorithm == \"NormGDRO\"):\n",
        "                loss_fn = loss.GDROLoss(model, torch.nn.CrossEntropyLoss(), hparams[\"eta\"], len(subtypes) - 1, normalize_loss=True)\n",
        "            elif (algorithm.startswith(\"GDRO\")):\n",
        "                loss_fn = loss.GDROLoss(model, torch.nn.CrossEntropyLoss(), float(algorithm[len(\"GDRO\"):]), len(subtypes) - 1, normalize_loss=True)\n",
        "            elif (algorithm == \"Dynamic\"):\n",
        "                loss_fn = loss.DynamicLoss(model, torch.nn.CrossEntropyLoss(), hparams[\"eta\"], hparams[\"gamma\"], len(subtypes) - 1, norm_fn=torch.nn.Softmax(dim=0))\n",
        "            elif (algorithm.startswith(\"Dynamic\")):\n",
        "                loss_fn = loss.DynamicLoss(model, torch.nn.CrossEntropyLoss(), float(algorithm[len(\"Dynamic\"):]), hparams[\"gamma\"], len(subtypes) - 1)\n",
        "            elif (algorithm == \"Upweight\"):\n",
        "                loss_fn = loss.UpweightLoss(model, torch.nn.CrossEntropyLoss(), len(subtypes) - 1)\n",
        "            else:\n",
        "                loss_fn = loss.ERMGDROLoss(model, torch.nn.CrossEntropyLoss(), hparams, len(subtypes) - 1)\n",
        "            optimizer = torch.optim.Adam(model.parameters(), lr=lr, weight_decay=weight_decay)#, momentum=momentum)\n",
        "\n",
        "            # scheduler = ReduceLROnPlateau(optimizer, mode='max', factor=0.2, patience=2, verbose=True)\n",
        "            \n",
        "            for epoch in range(epochs):\n",
        "                # print(f'Epoch {epoch + 1} / {epochs}')\n",
        "\n",
        "                if algorithm == \"Sharp\":\n",
        "                    loss_fn.t = epoch / epochs < 0.5  # sharp boundary\n",
        "                elif algorithm == \"Smooth\":\n",
        "                    loss_fn.t = 1 - (epoch / (epochs - 1))  # linear interpolation\n",
        "                elif algorithm == \"ReverseSmooth\":\n",
        "                    loss_fn.t = epoch / (epochs - 1)  # reverse linear interpolation\n",
        "                elif algorithm == \"ExtraERM\":\n",
        "                    loss_fn.t = 2\n",
        "                elif algorithm == \"ExtraGDRO\":\n",
        "                    loss_fn.t = -1\n",
        "                elif algorithm == \"Halfway\":\n",
        "                    loss_fn.t = 0.5\n",
        "                elif algorithm.startswith(\"Mix\"):\n",
        "                    loss_fn.t = float(algorithm[3:])  # ex. algorithm == \"Mix0.5\" => t = 0.5\n",
        "\n",
        "                train_eval.train(train_dataloader, model, loss_fn, optimizer)\n",
        "                sensitivities = train_eval.evaluate(val_dataloader, model, num_subclasses=len(subtypes) - 1)\n",
        "                \n",
        "                # scheduler.step(train_eval.evaluate(val_dataloader, model, num_subclasses=len(subtypes) - 1)[0])\n",
        "\n",
        "                for i in range(len(subtypes)):\n",
        "                    results[algorithm][n * epochs * len(subtypes) + epoch * len(subtypes) + i] = sensitivities[i]\n",
        "            if record_roc_data:\n",
        "                with torch.no_grad():\n",
        "                    preds = model(torch.stack(test_dataloader.dataset.features))\n",
        "                    probabilities = torch.nn.functional.softmax(preds, dim=1)[:, 1]\n",
        "                    labels = test_dataloader.dataset.labels\n",
        "                    if roc_data[algorithm][0] == None:\n",
        "                        roc_data[algorithm][0] = probabilities\n",
        "                        roc_data[algorithm][1] = labels\n",
        "                    else:\n",
        "                        roc_data[algorithm][0] += probabilities\n",
        "        if record_roc_data:\n",
        "            roc_data[algorithm][0] /= N\n",
        "\n",
        "results_df = pd.DataFrame(results, index=pd.MultiIndex.from_product([range(N), range(epochs), subtypes], names=[\"trial\", \"epoch\", \"subtype\"]))\n",
        "\n",
        "# Automatically save and download results from colab\n",
        "from datetime import datetime\n",
        "now = \"end_to_end_spic_groups\"#datetime.now().strftime(\"%Y%m%d_%H%M%S\")\n",
        "results_df.to_csv(f'results_{now}.csv')\n",
        "\n",
        "from google.colab import files\n",
        "files.download(f'results_{now}.csv') \n",
        "\n",
        "print(\"Test complete\")"
      ]
    },
    {
      "cell_type": "code",
      "execution_count": 72,
      "id": "YVvMXK9daGKP",
      "metadata": {
        "colab": {
          "base_uri": "https://localhost:8080/",
          "height": 17
        },
        "id": "YVvMXK9daGKP",
        "outputId": "4e7d7458-67fb-4a3e-aa71-f79ac1b0fdcf"
      },
      "outputs": [
        {
          "output_type": "display_data",
          "data": {
            "text/plain": [
              "<IPython.core.display.Javascript object>"
            ],
            "application/javascript": [
              "\n",
              "    async function download(id, filename, size) {\n",
              "      if (!google.colab.kernel.accessAllowed) {\n",
              "        return;\n",
              "      }\n",
              "      const div = document.createElement('div');\n",
              "      const label = document.createElement('label');\n",
              "      label.textContent = `Downloading \"${filename}\": `;\n",
              "      div.appendChild(label);\n",
              "      const progress = document.createElement('progress');\n",
              "      progress.max = size;\n",
              "      div.appendChild(progress);\n",
              "      document.body.appendChild(div);\n",
              "\n",
              "      const buffers = [];\n",
              "      let downloaded = 0;\n",
              "\n",
              "      const channel = await google.colab.kernel.comms.open(id);\n",
              "      // Send a message to notify the kernel that we're ready.\n",
              "      channel.send({})\n",
              "\n",
              "      for await (const message of channel.messages) {\n",
              "        // Send a message to notify the kernel that we're ready.\n",
              "        channel.send({})\n",
              "        if (message.buffers) {\n",
              "          for (const buffer of message.buffers) {\n",
              "            buffers.push(buffer);\n",
              "            downloaded += buffer.byteLength;\n",
              "            progress.value = downloaded;\n",
              "          }\n",
              "        }\n",
              "      }\n",
              "      const blob = new Blob(buffers, {type: 'application/binary'});\n",
              "      const a = document.createElement('a');\n",
              "      a.href = window.URL.createObjectURL(blob);\n",
              "      a.download = filename;\n",
              "      div.appendChild(a);\n",
              "      a.click();\n",
              "      div.remove();\n",
              "    }\n",
              "  "
            ]
          },
          "metadata": {}
        },
        {
          "output_type": "display_data",
          "data": {
            "text/plain": [
              "<IPython.core.display.Javascript object>"
            ],
            "application/javascript": [
              "download(\"download_66fa2dc5-6442-4751-97e1-b61ffdd48ec1\", \"results_20220726_184209.csv\", 213461)"
            ]
          },
          "metadata": {}
        }
      ],
      "source": [
        "from datetime import datetime\n",
        "now = datetime.now().strftime(\"%Y%m%d_%H%M%S\")\n",
        "results_df.to_csv(f'results_{now}.csv')\n",
        "\n",
        "from google.colab import files\n",
        "files.download(f'results_{now}.csv') "
      ]
    },
    {
      "cell_type": "markdown",
      "id": "92f6d8e1",
      "metadata": {
        "id": "92f6d8e1"
      },
      "source": [
        "# Results Visualization\n",
        "\n",
        "Data loading and plotting functions to visualize the results given by run.py  \n",
        "Put the path of the folder containing the results in load_dir and run the cells to see results"
      ]
    },
    {
      "cell_type": "code",
      "execution_count": 17,
      "id": "c1550ad5",
      "metadata": {
        "id": "c1550ad5"
      },
      "outputs": [],
      "source": [
        "import matplotlib.pyplot as plt\n",
        "load_root = 'test_results/standardized/'\n",
        "load_dirs = [\n",
        "    'LIDC_CNN_features_CNN_clusters_20220722_112021/',\n",
        "    'LIDC_CNN_features_mal_groups_20220722_112147/',\n",
        "    'LIDC_CNN_features_spic_groups_20220722_112157/',\n",
        "    'LIDC_designed_features_CNN_clusters_20220721_123221/',\n",
        "    'LIDC_designed_features_mal_groups_20220721_123917/',\n",
        "    'LIDC_designed_features_spic_groups_20220721_123936/',\n",
        "    'weight_decay=1.0/LIDC_CNN_features_CNN_clusters_reg_20220721_162108/',\n",
        "    'weight_decay=1.0/LIDC_CNN_features_mal_groups_reg_20220721_162211/',\n",
        "    'weight_decay=1.0/LIDC_CNN_features_spic_groups_reg_20220721_162436/',\n",
        "    'weight_decay=1.0/LIDC_designed_features_CNN_clusters_reg_20220721_161237/',\n",
        "    'weight_decay=1.0/LIDC_designed_features_mal_groups_reg_20220721_161806/',\n",
        "    'weight_decay=1.0/LIDC_designed_features_spic_groups_reg_20220721_161347/',\n",
        "]"
      ]
    },
    {
      "cell_type": "markdown",
      "id": "1c73a452",
      "metadata": {
        "id": "1c73a452"
      },
      "source": [
        "## Plot overall accuracy, subclass sensitivites, and worst sensitivity per epoch"
      ]
    },
    {
      "cell_type": "code",
      "execution_count": 54,
      "id": "b3ace5d7",
      "metadata": {
        "id": "b3ace5d7",
        "scrolled": false
      },
      "outputs": [],
      "source": [
        "def plot_acc(results_df=None):\n",
        "    global subtypes\n",
        "    global N\n",
        "    global epochs\n",
        "    global algorithms\n",
        "    \n",
        "    if results_df is None:\n",
        "        loaded_accuracies = pd.read_csv(load_dir + 'accuracies.csv')\n",
        "        N = max(loaded_accuracies[\"trial\"]) + 1\n",
        "        epochs = max(loaded_accuracies[\"epoch\"]) + 1\n",
        "        subtypes = list(loaded_accuracies[\"subtype\"].unique())\n",
        "        algorithms = loaded_accuracies.columns\n",
        "\n",
        "        results = loaded_accuracies.drop(columns=[\"subtype\", \"epoch\", \"trial\"]).to_dict('list')\n",
        "        results_df = pd.DataFrame(results, index=pd.MultiIndex.from_product([range(N), range(epochs), subtypes], names=[\"trial\", \"epoch\", \"subtype\"]))\n",
        "    \n",
        "    trial_means = results_df.stack().unstack(level=0).mean(axis=1).unstack(level=2)\n",
        "    worst_group = trial_means.stack().unstack(level=1).drop(columns=\"Overall\").min(axis=1).unstack()\n",
        "    worst_group.index = pd.MultiIndex.from_tuples([(epoch, \"Lower bound\") for epoch in worst_group.index], names=[\"epoch\", \"subtype\"])\n",
        "    trial_means = pd.concat([trial_means, worst_group])\n",
        "    \n",
        "    trial_stds = results_df.stack().unstack(level=0).std(axis=1).unstack(level=2)\n",
        "\n",
        "    trial_upper = results_df.stack().unstack(level=0).quantile(0.975, axis=1).unstack(level=2)\n",
        "    trial_lower = results_df.stack().unstack(level=0).quantile(0.025, axis=1).unstack(level=2)\n",
        "\n",
        "    drop_epochs = []  # list(range(40, 100))\n",
        "\n",
        "    trial_means.drop(drop_epochs, level=0, axis=0, inplace=True)\n",
        "    # reindex epochs from 1\n",
        "    trial_means.index = pd.MultiIndex.from_tuples(zip(trial_means.index.get_level_values(0) + 1, trial_means.index.get_level_values(1)), names=[\"epoch\", \"subtype\"])\n",
        "    trial_stds.index = pd.MultiIndex.from_tuples(zip(trial_stds.index.get_level_values(0) + 1, trial_stds.index.get_level_values(1)), names=[\"epoch\", \"subtype\"])\n",
        "    trial_upper.index = pd.MultiIndex.from_tuples(zip(trial_upper.index.get_level_values(0) + 1, trial_upper.index.get_level_values(1)), names=[\"epoch\", \"subtype\"])\n",
        "    trial_lower.index = pd.MultiIndex.from_tuples(zip(trial_lower.index.get_level_values(0) + 1, trial_lower.index.get_level_values(1)), names=[\"epoch\", \"subtype\"])\n",
        "    \n",
        "    plots = [*subtypes, \"Lower bound\"]\n",
        "    # plots = [\"Overall\", \"Lower bound\", *subtypes[1:]]\n",
        "    # plots = subtypes[1:]\n",
        "\n",
        "    hide = []#[\"DynamicLoss\", \"UpweightLoss\"]\n",
        "\n",
        "    w = 2\n",
        "\n",
        "    f, a = plt.subplots((len(plots) + 1) // w, w)\n",
        "\n",
        "    if len(plots) > w:\n",
        "        a = [ax for a0 in a for ax in a0]\n",
        "\n",
        "    # plot subtypes sensitivity\n",
        "\n",
        "    #legend=None,xlim=[35, 40],ylim=[0.85,0.88],\n",
        "\n",
        "    for i in range(len(plots)):\n",
        "        plot_data = trial_means.drop(columns=hide).xs(plots[i], level=1)\n",
        "        plot_data.plot(ylim=[0.5,1],xlabel=\"Epoch\",ylabel=\"Accuracy\",kind='line',title=plots[i],ax=a[i],figsize=(6 * w, 6 * ((len(plots) + 1) // w)),grid=True)\n",
        "        if plots[i] != \"Lower bound\":\n",
        "            plot_stds = trial_stds.drop(columns=hide).xs(key=plots[i], level=1)\n",
        "            plot_upper = trial_upper.drop(columns=hide).xs(key=plots[i], level=1)\n",
        "            plot_lower = trial_lower.drop(columns=hide).xs(key=plots[i], level=1)\n",
        "            for col in plot_data.columns:\n",
        "                a[i].fill_between(list(plot_data.index), plot_upper[col], plot_lower[col], alpha=0.25)\n",
        "        "
      ]
    },
    {
      "cell_type": "code",
      "execution_count": 55,
      "id": "6e1b8ce6",
      "metadata": {
        "scrolled": false,
        "colab": {
          "base_uri": "https://localhost:8080/",
          "height": 1000
        },
        "id": "6e1b8ce6",
        "outputId": "cfda555b-10ea-4fcc-c65c-07af1e9e16be"
      },
      "outputs": [
        {
          "output_type": "display_data",
          "data": {
            "text/plain": [
              "<Figure size 864x1296 with 6 Axes>"
            ],
            "image/png": "[encoded data removed]"
          },
          "metadata": {
            "needs_background": "light"
          }
        }
      ],
      "source": [
        "load_dir = load_root + load_dirs[0]\n",
        "plot_acc(results_df)"
      ]
    },
    {
      "cell_type": "code",
      "source": [
        "# statisitical tests comparing to ERM\n",
        "from scipy.stats import ttest_ind\n",
        "\n",
        "significance_threshold = 0.05\n",
        "\n",
        "ttest_dataframes = {}\n",
        "\n",
        "# loaded_accuracies = pd.read_csv('C:\\\\Users\\\\efurst1\\\\Downloads\\\\results_20220725_212250.csv')#load_dir + 'accuracies.csv')\n",
        "# N = max(loaded_accuracies[\"trial\"]) + 1\n",
        "# epochs = max(loaded_accuracies[\"epoch\"]) + 1\n",
        "# subtypes = list(loaded_accuracies[\"subtype\"].unique())\n",
        "# algorithms = loaded_accuracies.columns\n",
        "\n",
        "# results = loaded_accuracies.drop(columns=[\"subtype\", \"epoch\", \"trial\"]).to_dict('list')\n",
        "# results_df = pd.DataFrame(results, index=pd.MultiIndex.from_product([range(N), range(epochs), subtypes], names=[\"trial\", \"epoch\", \"subtype\"]))\n",
        "\n",
        "f, a = plt.subplots(len(subtypes) + 1,1, sharey=True, figsize=(8,32))\n",
        "\n",
        "for s in range(len(subtypes)):\n",
        "#     print(subtype)\n",
        "#     print()\n",
        "    epoch = epochs - 1\n",
        "\n",
        "    subtype_data = results_df.xs(subtypes[s], level=2).xs(epoch, level=1)\n",
        "    # print(subtype_data)\n",
        "    subtype_data.plot(title=subtypes[s], kind='box', ax=a[s])\n",
        "    \n",
        "    # worst group data\n",
        "    # results_df.stack().unstack(level=2).min(axis=1).unstack().xs(epochs - 1, level=1).plot(title='worst', kind='box', ax=a[-1])\n",
        "\n",
        "    \n",
        "    erm_data = subtype_data[\"ERM\"].values\n",
        "\n",
        "    print(subtypes[s])\n",
        "    for algorithm in results_df.columns:\n",
        "        if algorithm != \"ERM\":\n",
        "            algorithm_data = subtype_data[algorithm].values\n",
        "            stat, p = ttest_ind(algorithm_data, erm_data)\n",
        "\n",
        "            print(f'ERM: {erm_data.mean()}')\n",
        "            print(f'{algorithm}: {algorithm_data.mean()}')\n",
        "            if p < significance_threshold:\n",
        "                print(f'{algorithm if stat > 0 else \"ERM\"} greater with p = {p:.2f}')\n",
        "            else:\n",
        "                print(f'No significant difference with p = {p:.2f}')\n",
        "            print()\n",
        "    print()"
      ],
      "metadata": {
        "colab": {
          "base_uri": "https://localhost:8080/",
          "height": 1000
        },
        "id": "E4X11ykAAunM",
        "outputId": "dc6464b4-d4ba-4b15-8c47-4686d9de0656"
      },
      "id": "E4X11ykAAunM",
      "execution_count": 53,
      "outputs": [
        {
          "output_type": "stream",
          "name": "stdout",
          "text": [
            "Overall\n",
            "ERM: 0.8117006802721088\n",
            "GDRO: 0.8119727891156462\n",
            "No significant difference with p = 0.95\n",
            "\n",
            "\n",
            "Unspiculated benign\n",
            "ERM: 0.8868421052631578\n",
            "GDRO: 0.861842105263158\n",
            "ERM greater with p = 0.02\n",
            "\n",
            "\n",
            "Spiculated benign\n",
            "ERM: 0.7492307692307691\n",
            "GDRO: 0.6907692307692307\n",
            "ERM greater with p = 0.01\n",
            "\n",
            "\n",
            "Spiculated malignant\n",
            "ERM: 0.6773913043478259\n",
            "GDRO: 0.7356521739130435\n",
            "GDRO greater with p = 0.00\n",
            "\n",
            "\n",
            "Unspiculated malignant\n",
            "ERM: 0.76\n",
            "GDRO: 0.7988571428571427\n",
            "GDRO greater with p = 0.04\n",
            "\n",
            "\n"
          ]
        },
        {
          "output_type": "display_data",
          "data": {
            "text/plain": [
              "<Figure size 576x2304 with 6 Axes>"
            ],
            "image/png": "[encoded data removed]"
          },
          "metadata": {
            "needs_background": "light"
          }
        }
      ]
    },
    {
      "cell_type": "code",
      "source": [
        "results_df.xs(key=\"Overall\", level=\"subtype\").xs(key=19, level=\"epoch\").boxplot()"
      ],
      "metadata": {
        "id": "3dWEzQele6Ov",
        "outputId": "b5e3a97d-3eae-4cbc-bc1e-7957afc26515",
        "colab": {
          "base_uri": "https://localhost:8080/",
          "height": 282
        }
      },
      "id": "3dWEzQele6Ov",
      "execution_count": 51,
      "outputs": [
        {
          "output_type": "execute_result",
          "data": {
            "text/plain": [
              "<matplotlib.axes._subplots.AxesSubplot at 0x7fa82f976710>"
            ]
          },
          "metadata": {},
          "execution_count": 51
        },
        {
          "output_type": "display_data",
          "data": {
            "text/plain": [
              "<Figure size 432x288 with 1 Axes>"
            ],
            "image/png": "[encoded data removed]"
          },
          "metadata": {
            "needs_background": "light"
          }
        }
      ]
    },
    {
      "cell_type": "markdown",
      "id": "6519fc41",
      "metadata": {
        "id": "6519fc41"
      },
      "source": [
        "## Plot values of q and g (subclass and loss function weights, respectively)"
      ]
    },
    {
      "cell_type": "code",
      "execution_count": null,
      "id": "51bd0ec3",
      "metadata": {
        "id": "51bd0ec3",
        "scrolled": false,
        "outputId": "954b7e5c-34a0-4b43-a5dc-b35ec01f2af2"
      },
      "outputs": [
        {
          "data": {
            "image/png": "[encoded data removed]",
            "text/plain": [
              "<Figure size 432x288 with 1 Axes>"
            ]
          },
          "metadata": {
            "needs_background": "light"
          },
          "output_type": "display_data"
        },
        {
          "data": {
            "image/png": "[encoded data removed]",
            "text/plain": [
              "<Figure size 432x288 with 1 Axes>"
            ]
          },
          "metadata": {
            "needs_background": "light"
          },
          "output_type": "display_data"
        },
        {
          "data": {
            "image/png": "[encoded data removed]",
            "text/plain": [
              "<Figure size 432x288 with 1 Axes>"
            ]
          },
          "metadata": {
            "needs_background": "light"
          },
          "output_type": "display_data"
        }
      ],
      "source": [
        "def read_q(path):\n",
        "    loaded_data = pd.read_csv(load_dir + 'q.csv').dropna(axis=1)\n",
        "    loaded_data.index = pd.MultiIndex.from_arrays([loaded_data['trial'], loaded_data['epoch'], loaded_data['subtype']], names=['trial', 'epoch', 'subtype'])\n",
        "    saved_subtypes = loaded_data['subtype']\n",
        "    loaded_data.drop(columns=['trial', 'epoch', 'subtype'], inplace=True)\n",
        "    loaded_data = loaded_data.stack().unstack(level=1)\n",
        "    loaded_data.insert(0, -1, np.ones(len(loaded_data.index)) / len(loaded_data.index.levels[1]))\n",
        "    loaded_data.columns += 1\n",
        "    mean_data = loaded_data.stack(level=0).unstack(level=0).mean(axis=1).unstack(level=0).stack(level=0).unstack(level=0)\n",
        "    mean_data = mean_data.unstack(level=1)\n",
        "    mean_data = mean_data.loc[:, pd.MultiIndex.from_product([mean_data.columns.levels[0], saved_subtypes.unique()])]\n",
        "    return mean_data\n",
        "\n",
        "def read_g(path):\n",
        "    loaded_data = pd.read_csv(load_dir + 'g.csv').dropna(axis=1)\n",
        "    loaded_data.index = pd.MultiIndex.from_arrays([loaded_data['trial'], loaded_data['epoch'], loaded_data['loss_fn']], names=['trial', 'epoch', 'loss_fn'])\n",
        "    saved_subtypes = loaded_data['loss_fn']\n",
        "    loaded_data.drop(columns=['trial', 'epoch', 'loss_fn'], inplace=True)\n",
        "    loaded_data = loaded_data.stack().unstack(level=1)\n",
        "    loaded_data.insert(0, -1, np.ones(len(loaded_data.index)) / len(loaded_data.index.levels[1]))\n",
        "    loaded_data.columns += 1\n",
        "    mean_data = loaded_data.stack(level=0).unstack(level=0).mean(axis=1).unstack(level=0).stack(level=0).unstack(level=0)\n",
        "    mean_data = mean_data.unstack(level=1)\n",
        "    mean_data = mean_data.loc[:, pd.MultiIndex.from_product([mean_data.columns.levels[0], saved_subtypes.unique()])]\n",
        "    return mean_data\n",
        "\n",
        "mean_q = read_q(load_dir + 'q.csv')\n",
        "\n",
        "for c in mean_q.columns.levels[0]:\n",
        "    mean_q[c].plot()\n",
        "    \n",
        "mean_g = read_g(load_dir + 'g.csv')\n",
        "for c in mean_g.columns.levels[0]:\n",
        "    mean_g[c].plot(ylim=[0,1])"
      ]
    },
    {
      "cell_type": "markdown",
      "id": "816e2dbd",
      "metadata": {
        "id": "816e2dbd"
      },
      "source": [
        "## Plot ROC Curve"
      ]
    },
    {
      "cell_type": "code",
      "execution_count": null,
      "id": "08feabdd",
      "metadata": {
        "id": "08feabdd",
        "outputId": "fea72ca6-ebf7-4794-9cd9-6129231ce58b",
        "scrolled": false
      },
      "outputs": [
        {
          "data": {
            "image/png": "[encoded data removed]",
            "text/plain": [
              "<Figure size 288x1152 with 4 Axes>"
            ]
          },
          "metadata": {
            "needs_background": "light"
          },
          "output_type": "display_data"
        }
      ],
      "source": [
        "# ROC curve\n",
        "\n",
        "from sklearn import metrics\n",
        "\n",
        "roc_df = pd.read_csv(load_dir + 'ROC.csv')\n",
        "\n",
        "f, a = plt.subplots(len(roc_df.columns) - 1, 1, figsize=(4,4 * (len(roc_df.columns) - 1)))\n",
        "\n",
        "for i in range(len(roc_df.columns) - 1):\n",
        "    c = roc_df.drop(columns='labels').columns[i]\n",
        "    \n",
        "    y_true = roc_df['labels']\n",
        "    y_score = roc_df[c]\n",
        "\n",
        "    fpr, tpr, thresholds = metrics.roc_curve(y_true, y_score, pos_label=1)\n",
        "    auc = metrics.auc(fpr, tpr)\n",
        "    a[i].plot(fpr, tpr, 'b')\n",
        "    a[i].set_title(f'{c} (AUC = {auc})')"
      ]
    },
    {
      "cell_type": "code",
      "execution_count": null,
      "id": "04df8c04",
      "metadata": {
        "id": "04df8c04",
        "outputId": "5c2dc492-3b15-4dca-dfed-5c4027192155"
      },
      "outputs": [
        {
          "data": {
            "text/html": [
              "<div>\n",
              "<style scoped>\n",
              "    .dataframe tbody tr th:only-of-type {\n",
              "        vertical-align: middle;\n",
              "    }\n",
              "\n",
              "    .dataframe tbody tr th {\n",
              "        vertical-align: top;\n",
              "    }\n",
              "\n",
              "    .dataframe thead th {\n",
              "        text-align: right;\n",
              "    }\n",
              "</style>\n",
              "<table border=\"1\" class=\"dataframe\">\n",
              "  <thead>\n",
              "    <tr style=\"text-align: right;\">\n",
              "      <th></th>\n",
              "      <th>ERMLoss</th>\n",
              "      <th>GDROLoss</th>\n",
              "      <th>DynamicLoss</th>\n",
              "      <th>UpweightLoss</th>\n",
              "    </tr>\n",
              "    <tr>\n",
              "      <th>subtype</th>\n",
              "      <th></th>\n",
              "      <th></th>\n",
              "      <th></th>\n",
              "      <th></th>\n",
              "    </tr>\n",
              "  </thead>\n",
              "  <tbody>\n",
              "    <tr>\n",
              "      <th>Lower bound</th>\n",
              "      <td>13</td>\n",
              "      <td>16</td>\n",
              "      <td>16</td>\n",
              "      <td>15</td>\n",
              "    </tr>\n",
              "    <tr>\n",
              "      <th>Overall</th>\n",
              "      <td>15</td>\n",
              "      <td>18</td>\n",
              "      <td>16</td>\n",
              "      <td>15</td>\n",
              "    </tr>\n",
              "    <tr>\n",
              "      <th>Spiculated benign</th>\n",
              "      <td>0</td>\n",
              "      <td>34</td>\n",
              "      <td>0</td>\n",
              "      <td>37</td>\n",
              "    </tr>\n",
              "    <tr>\n",
              "      <th>Spiculated malignant</th>\n",
              "      <td>13</td>\n",
              "      <td>0</td>\n",
              "      <td>16</td>\n",
              "      <td>0</td>\n",
              "    </tr>\n",
              "    <tr>\n",
              "      <th>Unspiculated benign</th>\n",
              "      <td>0</td>\n",
              "      <td>96</td>\n",
              "      <td>0</td>\n",
              "      <td>62</td>\n",
              "    </tr>\n",
              "    <tr>\n",
              "      <th>Unspiculated malignant</th>\n",
              "      <td>13</td>\n",
              "      <td>0</td>\n",
              "      <td>16</td>\n",
              "      <td>11</td>\n",
              "    </tr>\n",
              "  </tbody>\n",
              "</table>\n",
              "</div>"
            ],
            "text/plain": [
              "                        ERMLoss  GDROLoss  DynamicLoss  UpweightLoss\n",
              "subtype                                                             \n",
              "Lower bound                  13        16           16            15\n",
              "Overall                      15        18           16            15\n",
              "Spiculated benign             0        34            0            37\n",
              "Spiculated malignant         13         0           16             0\n",
              "Unspiculated benign           0        96            0            62\n",
              "Unspiculated malignant       13         0           16            11"
            ]
          },
          "execution_count": 164,
          "metadata": {},
          "output_type": "execute_result"
        }
      ],
      "source": [
        "loaded_accuracies = pd.read_csv(load_dir + 'accuracies.csv')\n",
        "N = max(loaded_accuracies[\"trial\"]) + 1\n",
        "epochs = max(loaded_accuracies[\"epoch\"]) + 1\n",
        "subtypes = list(loaded_accuracies[\"subtype\"].unique())\n",
        "algorithms = loaded_accuracies.columns\n",
        "\n",
        "results = loaded_accuracies.drop(columns=[\"subtype\", \"epoch\", \"trial\"]).to_dict('list')\n",
        "results_df = pd.DataFrame(results, index=pd.MultiIndex.from_product([range(N), range(epochs), subtypes], names=[\"trial\", \"epoch\", \"subtype\"]))\n",
        "\n",
        "trial_means = results_df.unstack().unstack().mean(axis=0).unstack(level=0).unstack(level=0).stack()\n",
        "worst_group = trial_means.stack().unstack(level=1).drop(columns=\"Overall\").min(axis=1).unstack()\n",
        "worst_group.index = pd.MultiIndex.from_tuples([(epoch, \"Lower bound\") for epoch in worst_group.index], names=[\"epoch\", \"subtype\"])\n",
        "trial_means = pd.concat([trial_means, worst_group])\n",
        "trial_means.stack().unstack(level=0).idxmax(axis=1).unstack(level=1)"
      ]
    },
    {
      "cell_type": "code",
      "execution_count": null,
      "id": "865a7600",
      "metadata": {
        "id": "865a7600",
        "outputId": "e63fe78b-ddbc-4ae4-e066-b645398a31cf"
      },
      "outputs": [
        {
          "data": {
            "text/html": [
              "<div>\n",
              "<style scoped>\n",
              "    .dataframe tbody tr th:only-of-type {\n",
              "        vertical-align: middle;\n",
              "    }\n",
              "\n",
              "    .dataframe tbody tr th {\n",
              "        vertical-align: top;\n",
              "    }\n",
              "\n",
              "    .dataframe thead th {\n",
              "        text-align: right;\n",
              "    }\n",
              "</style>\n",
              "<table border=\"1\" class=\"dataframe\">\n",
              "  <thead>\n",
              "    <tr style=\"text-align: right;\">\n",
              "      <th></th>\n",
              "      <th>ERMLoss</th>\n",
              "      <th>GDROLoss</th>\n",
              "      <th>DynamicLoss</th>\n",
              "      <th>UpweightLoss</th>\n",
              "    </tr>\n",
              "    <tr>\n",
              "      <th>subtype</th>\n",
              "      <th></th>\n",
              "      <th></th>\n",
              "      <th></th>\n",
              "      <th></th>\n",
              "    </tr>\n",
              "  </thead>\n",
              "  <tbody>\n",
              "    <tr>\n",
              "      <th>Lower bound</th>\n",
              "      <td>0.689351</td>\n",
              "      <td>0.718182</td>\n",
              "      <td>0.707922</td>\n",
              "      <td>0.719386</td>\n",
              "    </tr>\n",
              "    <tr>\n",
              "      <th>Overall</th>\n",
              "      <td>0.753223</td>\n",
              "      <td>0.754219</td>\n",
              "      <td>0.754684</td>\n",
              "      <td>0.755316</td>\n",
              "    </tr>\n",
              "    <tr>\n",
              "      <th>Spiculated benign</th>\n",
              "      <td>0.887101</td>\n",
              "      <td>0.860870</td>\n",
              "      <td>0.887971</td>\n",
              "      <td>0.865217</td>\n",
              "    </tr>\n",
              "    <tr>\n",
              "      <th>Spiculated malignant</th>\n",
              "      <td>0.689351</td>\n",
              "      <td>0.758312</td>\n",
              "      <td>0.707922</td>\n",
              "      <td>0.759740</td>\n",
              "    </tr>\n",
              "    <tr>\n",
              "      <th>Unspiculated benign</th>\n",
              "      <td>0.837544</td>\n",
              "      <td>0.732632</td>\n",
              "      <td>0.841140</td>\n",
              "      <td>0.732281</td>\n",
              "    </tr>\n",
              "    <tr>\n",
              "      <th>Unspiculated malignant</th>\n",
              "      <td>0.743902</td>\n",
              "      <td>0.796341</td>\n",
              "      <td>0.756098</td>\n",
              "      <td>0.795854</td>\n",
              "    </tr>\n",
              "  </tbody>\n",
              "</table>\n",
              "</div>"
            ],
            "text/plain": [
              "                         ERMLoss  GDROLoss  DynamicLoss  UpweightLoss\n",
              "subtype                                                              \n",
              "Lower bound             0.689351  0.718182     0.707922      0.719386\n",
              "Overall                 0.753223  0.754219     0.754684      0.755316\n",
              "Spiculated benign       0.887101  0.860870     0.887971      0.865217\n",
              "Spiculated malignant    0.689351  0.758312     0.707922      0.759740\n",
              "Unspiculated benign     0.837544  0.732632     0.841140      0.732281\n",
              "Unspiculated malignant  0.743902  0.796341     0.756098      0.795854"
            ]
          },
          "execution_count": 165,
          "metadata": {},
          "output_type": "execute_result"
        }
      ],
      "source": [
        "trial_means.stack().unstack(level=0).max(axis=1).unstack(level=1)"
      ]
    },
    {
      "cell_type": "code",
      "execution_count": null,
      "id": "917b8efb",
      "metadata": {
        "id": "917b8efb",
        "outputId": "4022df32-f613-4a79-e424-fdb6f9424849",
        "scrolled": false
      },
      "outputs": [
        {
          "name": "stdout",
          "output_type": "stream",
          "text": [
            "Overall\n",
            "ERM: 0.8628737541528239\n",
            "GDRO: 0.8520348837209302\n",
            "ERM greater with p = 0.00\n",
            "\n",
            "\n",
            "Benign\n",
            "ERM: 0.8968232044198896\n",
            "GDRO: 0.8422651933701658\n",
            "ERM greater with p = 0.00\n",
            "\n",
            "\n",
            "Malignant1\n",
            "ERM: 0.7159810126582279\n",
            "GDRO: 0.7976265822784809\n",
            "GDRO greater with p = 0.00\n",
            "\n",
            "\n",
            "Malignant2\n",
            "ERM: 0.9960365853658537\n",
            "GDRO: 1.0\n",
            "GDRO greater with p = 0.00\n",
            "\n",
            "\n"
          ]
        },
        {
          "data": {
            "image/png": "[encoded data removed]",
            "text/plain": [
              "<Figure size 576x2304 with 5 Axes>"
            ]
          },
          "metadata": {
            "needs_background": "light"
          },
          "output_type": "display_data"
        }
      ],
      "source": [
        "# statisitical tests comparing to ERM\n",
        "from scipy.stats import ttest_ind\n",
        "from IPython.display import display\n",
        "import seaborn as sns\n",
        "\n",
        "significance_threshold = 0.05\n",
        "\n",
        "ttest_dataframes = {}\n",
        "\n",
        "loaded_accuracies = pd.read_csv('C:\\\\Users\\\\efurst1\\\\Downloads\\\\results_20220725_212250.csv')#load_dir + 'accuracies.csv')\n",
        "N = max(loaded_accuracies[\"trial\"]) + 1\n",
        "epochs = max(loaded_accuracies[\"epoch\"]) + 1\n",
        "subtypes = list(loaded_accuracies[\"subtype\"].unique())\n",
        "algorithms = loaded_accuracies.columns\n",
        "\n",
        "results = loaded_accuracies.drop(columns=[\"subtype\", \"epoch\", \"trial\"]).to_dict('list')\n",
        "results_df = pd.DataFrame(results, index=pd.MultiIndex.from_product([range(N), range(epochs), subtypes], names=[\"trial\", \"epoch\", \"subtype\"]))\n",
        "\n",
        "f, a = plt.subplots(len(subtypes) + 1,1, sharey=True, figsize=(8,32))\n",
        "\n",
        "for s in range(len(subtypes)):\n",
        "#     print(subtype)\n",
        "#     print()\n",
        "    epoch = 2  # epochs - 1\n",
        "\n",
        "    subtype_data = results_df.xs(subtypes[s], level=2).xs(epoch, level=1)\n",
        "    subtype_data.plot(title=subtypes[s], kind='box', ax=a[s])\n",
        "    \n",
        "    # worst group data\n",
        "    # results_df.stack().unstack(level=2).min(axis=1).unstack().xs(epochs - 1, level=1).plot(title='worst', kind='box', ax=a[-1])\n",
        "\n",
        "    \n",
        "    erm_data = subtype_data[\"ERM\"].values\n",
        "\n",
        "    print(subtypes[s])\n",
        "    for algorithm in results_df.columns:\n",
        "        if algorithm != \"ERM\":\n",
        "            algorithm_data = subtype_data[algorithm].values\n",
        "            stat, p = ttest_ind(algorithm_data, erm_data)\n",
        "\n",
        "            print(f'ERM: {erm_data.mean()}')\n",
        "            print(f'{algorithm}: {algorithm_data.mean()}')\n",
        "            if p < significance_threshold:\n",
        "                print(f'{algorithm if stat > 0 else \"ERM\"} greater with p = {p:.2f}')\n",
        "            else:\n",
        "                print(f'No significant difference with p = {p:.2f}')\n",
        "            print()\n",
        "    print()"
      ]
    },
    {
      "cell_type": "code",
      "execution_count": null,
      "id": "32d053ff",
      "metadata": {
        "id": "32d053ff"
      },
      "outputs": [],
      "source": [
        "results_df.xs(subtype, level=2).xs(epochs - 1, level=1)"
      ]
    },
    {
      "cell_type": "code",
      "execution_count": null,
      "id": "uP_UoRwJa6n7",
      "metadata": {
        "id": "uP_UoRwJa6n7"
      },
      "outputs": [],
      "source": [
        "# save results\n",
        "results_df.to_csv('test_results/LIDC__fc64_36_36_2__Adam__eta_0_05__gamma_1_0__lr_0_001__weightdecay_0_0001__momentum_0_9.csv')"
      ]
    },
    {
      "cell_type": "markdown",
      "id": "4dcf2579",
      "metadata": {
        "id": "4dcf2579"
      },
      "source": [
        "# GDRO Demonstration"
      ]
    },
    {
      "cell_type": "code",
      "execution_count": null,
      "id": "e867ae89",
      "metadata": {
        "id": "e867ae89"
      },
      "outputs": [],
      "source": [
        "epochs = 30\n",
        "N = 1\n",
        "\n",
        "q_data = {}\n",
        "\n",
        "for n in range(N):\n",
        "\n",
        "    q_data[f'Trial_{n}'] = []\n",
        "    \n",
        "    model = model_class(*model_args).to(device)\n",
        "\n",
        "    loss_fn = loss.ERMGDROLoss(model, torch.nn.CrossEntropyLoss(), hparams[\"eta\"], len(subtypes) - 1)\n",
        "    optimizer = torch.optim.Adam(model.parameters(), lr=lr, weight_decay=weight_decay)\n",
        "\n",
        "    loss_fn.t = 0\n",
        "\n",
        "    q_data[f'Trial_{n}'].extend([1 / (len(subtypes) - 1) for i in range(len(subtypes) - 1)])\n",
        "    for epoch in range(epochs):\n",
        "        train_eval.train(train_dataloader, model, loss_fn, optimizer)\n",
        "        q_data[f'Trial_{n}'].extend(loss_fn.gdro.q.tolist())"
      ]
    },
    {
      "cell_type": "markdown",
      "id": "099c42e2",
      "metadata": {
        "id": "099c42e2"
      },
      "source": [
        "# Combining CNN features and engineered features"
      ]
    },
    {
      "cell_type": "code",
      "execution_count": null,
      "id": "26eae0f1",
      "metadata": {
        "id": "26eae0f1"
      },
      "outputs": [],
      "source": [
        "cnn_df = pd.read_csv('data/cnn_features.csv')\n",
        "for c in range(2, len(cnn_df.columns)):\n",
        "    cnn_df.columns.values[c] = f'CNN_{cnn_df.columns.values[c]}'\n",
        "\n",
        "eng_df = pd.read_csv('data/LIDC_20130817_AllFeatures2D_MaxSlicePerNodule_inLineRatings.csv')"
      ]
    },
    {
      "cell_type": "code",
      "execution_count": null,
      "id": "8e3dd0cb",
      "metadata": {
        "id": "8e3dd0cb"
      },
      "outputs": [],
      "source": [
        "cnn_df = cnn_df[cnn_df['nodule_id'].isin(np.intersect1d(cnn_df['nodule_id'].values, eng_df['noduleID'].values))]\n",
        "eng_df = eng_df[eng_df['noduleID'].isin(np.intersect1d(cnn_df['nodule_id'].values, eng_df['noduleID'].values))]"
      ]
    },
    {
      "cell_type": "code",
      "execution_count": null,
      "id": "95d791fb",
      "metadata": {
        "id": "95d791fb"
      },
      "outputs": [],
      "source": [
        "concat_df = eng_df.copy()"
      ]
    },
    {
      "cell_type": "code",
      "execution_count": null,
      "id": "9a3d238e",
      "metadata": {
        "id": "9a3d238e"
      },
      "outputs": [],
      "source": [
        "cnn_df.index = cnn_df['nodule_id']\n",
        "for i in concat_df.index:\n",
        "    for col in cnn_df.columns[2:]:\n",
        "        concat_df.at[i, col] = cnn_df.at[concat_df.at[i, 'noduleID'], col]"
      ]
    },
    {
      "cell_type": "code",
      "execution_count": null,
      "id": "fe0006e9",
      "metadata": {
        "id": "fe0006e9"
      },
      "outputs": [],
      "source": [
        "concat_df.drop(columns='Unnamed: 0').to_csv('data/AllFeatures2D_MaxSlice_with_CNN.csv', index=False)"
      ]
    },
    {
      "cell_type": "code",
      "execution_count": null,
      "id": "a31cba2a",
      "metadata": {
        "id": "a31cba2a"
      },
      "outputs": [],
      "source": [
        "feature_file='./data/erm_cluster_cnn_features_1.csv'\n",
        "split_file='./data/subclass_labels/LIDC_data_split_with_cluster.csv'\n",
        "device='cpu'\n",
        "subclass='cluster'\n",
        "df_features = pd.read_csv(feature_file, index_col=0)\n",
        "df_splits = pd.read_csv(split_file, index_col=0)\n",
        "df = df_features.sort_values('noduleID')\n",
        "df['clusters'] = df_splits[subclass]\n",
        "df['malignancy_b'] = df_splits['malignancy_b']\n",
        "\n",
        "dfs = []\n",
        "for i in range(3):\n",
        "    dfs.append(df[df_splits['split'] == i])\n",
        "\n",
        "datas = []\n",
        "for d in dfs:\n",
        "    X = torch.unbind(\n",
        "        torch.tensor(d.drop(['noduleID', 'clusters', 'malignancy_b'], axis=1).values,\n",
        "                     device=device, dtype=torch.float32))\n",
        "    y = torch.unbind(torch.tensor(d['malignancy_b'].values, device=device))\n",
        "    c = torch.unbind(torch.tensor(d['clusters'].values, device=device))\n",
        "    datas.append((X, y, c))"
      ]
    },
    {
      "cell_type": "code",
      "execution_count": null,
      "id": "b7a10477",
      "metadata": {
        "id": "b7a10477"
      },
      "outputs": [],
      "source": [
        "dfs[0].head()"
      ]
    },
    {
      "cell_type": "code",
      "execution_count": null,
      "id": "3cebc516",
      "metadata": {
        "id": "3cebc516"
      },
      "outputs": [],
      "source": [
        "x = [1,2,3,4,5]\n",
        "y = [6,7,8,9,10]\n",
        "c = [0,0,0,0,0]\n",
        "dl = dataloaders.InfiniteDataLoader(datasets.SubclassedDataset(x, y, c), batch_size=5)"
      ]
    },
    {
      "cell_type": "code",
      "execution_count": null,
      "id": "dff48ebf",
      "metadata": {
        "id": "dff48ebf"
      },
      "outputs": [],
      "source": [
        "next(dl)"
      ]
    },
    {
      "cell_type": "code",
      "execution_count": null,
      "id": "31eefc9b",
      "metadata": {
        "id": "31eefc9b"
      },
      "outputs": [],
      "source": [
        "dl = iter(torch.utils.data.DataLoader(\n",
        "            datasets.SubclassedDataset(x, y, c),\n",
        "            batch_size=5\n",
        "        ))"
      ]
    },
    {
      "cell_type": "code",
      "execution_count": null,
      "id": "8239b7e2",
      "metadata": {
        "id": "8239b7e2"
      },
      "outputs": [],
      "source": [
        "next(iter(dl))"
      ]
    },
    {
      "cell_type": "code",
      "execution_count": null,
      "id": "5b69ef4c",
      "metadata": {
        "id": "5b69ef4c"
      },
      "outputs": [],
      "source": [
        "torch.stack([torch.Tensor([1])])"
      ]
    },
    {
      "cell_type": "code",
      "execution_count": null,
      "id": "25ee3182",
      "metadata": {
        "id": "25ee3182"
      },
      "outputs": [],
      "source": [
        "sum(pd.read_csv('data/subclass_labels/LIDC_data_split_with_cluster.csv')['cluster'] == 0)"
      ]
    },
    {
      "cell_type": "code",
      "execution_count": null,
      "id": "493ca11e",
      "metadata": {
        "id": "493ca11e"
      },
      "outputs": [],
      "source": [
        "sum(pd.read_csv('data/subclass_labels/LIDC_data_split_with_cluster.csv')['cluster'] == 1)"
      ]
    },
    {
      "cell_type": "code",
      "execution_count": null,
      "id": "a20bd7d3",
      "metadata": {
        "id": "a20bd7d3"
      },
      "outputs": [],
      "source": [
        "sum(pd.read_csv('data/subclass_labels/LIDC_data_split_with_cluster.csv')['cluster'] == 2)"
      ]
    },
    {
      "cell_type": "code",
      "execution_count": null,
      "id": "25e4dd4a",
      "metadata": {
        "id": "25e4dd4a"
      },
      "outputs": [],
      "source": [
        ""
      ]
    }
  ],
  "metadata": {
    "accelerator": "GPU",
    "colab": {
      "name": "run_test.ipynb",
      "provenance": []
    },
    "gpuClass": "standard",
    "kernelspec": {
      "display_name": "Python 3",
      "name": "python3"
    },
    "language_info": {
      "name": "python"
    },
    "widgets": {
      "application/vnd.jupyter.widget-state+json": {
        "ad89080a25894848a233357d6f09b409": {
          "model_module": "@jupyter-widgets/controls",
          "model_name": "HBoxModel",
          "model_module_version": "1.5.0",
          "state": {
            "_dom_classes": [],
            "_model_module": "@jupyter-widgets/controls",
            "_model_module_version": "1.5.0",
            "_model_name": "HBoxModel",
            "_view_count": null,
            "_view_module": "@jupyter-widgets/controls",
            "_view_module_version": "1.5.0",
            "_view_name": "HBoxView",
            "box_style": "",
            "children": [
              "IPY_MODEL_a37a830e0a5b4fd8a5040d1792d752a5",
              "IPY_MODEL_aa3210fcf9a54aa795eba4976c656312",
              "IPY_MODEL_e0b8538659b64a81ade654ad64c206d2"
            ],
            "layout": "IPY_MODEL_64e57ec1190d45be8d34a6e1d9a7cf01"
          }
        },
        "a37a830e0a5b4fd8a5040d1792d752a5": {
          "model_module": "@jupyter-widgets/controls",
          "model_name": "HTMLModel",
          "model_module_version": "1.5.0",
          "state": {
            "_dom_classes": [],
            "_model_module": "@jupyter-widgets/controls",
            "_model_module_version": "1.5.0",
            "_model_name": "HTMLModel",
            "_view_count": null,
            "_view_module": "@jupyter-widgets/controls",
            "_view_module_version": "1.5.0",
            "_view_name": "HTMLView",
            "description": "",
            "description_tooltip": null,
            "layout": "IPY_MODEL_4397ba6489f946468a18f6fc2bae2b4a",
            "placeholder": "​",
            "style": "IPY_MODEL_6f5264abf3b74ce7a4e7a3515718e852",
            "value": "100%"
          }
        },
        "aa3210fcf9a54aa795eba4976c656312": {
          "model_module": "@jupyter-widgets/controls",
          "model_name": "FloatProgressModel",
          "model_module_version": "1.5.0",
          "state": {
            "_dom_classes": [],
            "_model_module": "@jupyter-widgets/controls",
            "_model_module_version": "1.5.0",
            "_model_name": "FloatProgressModel",
            "_view_count": null,
            "_view_module": "@jupyter-widgets/controls",
            "_view_module_version": "1.5.0",
            "_view_name": "ProgressView",
            "bar_style": "success",
            "description": "",
            "description_tooltip": null,
            "layout": "IPY_MODEL_bad6639877b74f92827c3a5b0f5e44ee",
            "max": 46830571,
            "min": 0,
            "orientation": "horizontal",
            "style": "IPY_MODEL_742d88cc300c420897a34638cc3b32fa",
            "value": 46830571
          }
        },
        "e0b8538659b64a81ade654ad64c206d2": {
          "model_module": "@jupyter-widgets/controls",
          "model_name": "HTMLModel",
          "model_module_version": "1.5.0",
          "state": {
            "_dom_classes": [],
            "_model_module": "@jupyter-widgets/controls",
            "_model_module_version": "1.5.0",
            "_model_name": "HTMLModel",
            "_view_count": null,
            "_view_module": "@jupyter-widgets/controls",
            "_view_module_version": "1.5.0",
            "_view_name": "HTMLView",
            "description": "",
            "description_tooltip": null,
            "layout": "IPY_MODEL_7760a6a628b54f73837527b35d9654de",
            "placeholder": "​",
            "style": "IPY_MODEL_73580e9492184fbdb3b2658a2b12f298",
            "value": " 44.7M/44.7M [00:00&lt;00:00, 114MB/s]"
          }
        },
        "64e57ec1190d45be8d34a6e1d9a7cf01": {
          "model_module": "@jupyter-widgets/base",
          "model_name": "LayoutModel",
          "model_module_version": "1.2.0",
          "state": {
            "_model_module": "@jupyter-widgets/base",
            "_model_module_version": "1.2.0",
            "_model_name": "LayoutModel",
            "_view_count": null,
            "_view_module": "@jupyter-widgets/base",
            "_view_module_version": "1.2.0",
            "_view_name": "LayoutView",
            "align_content": null,
            "align_items": null,
            "align_self": null,
            "border": null,
            "bottom": null,
            "display": null,
            "flex": null,
            "flex_flow": null,
            "grid_area": null,
            "grid_auto_columns": null,
            "grid_auto_flow": null,
            "grid_auto_rows": null,
            "grid_column": null,
            "grid_gap": null,
            "grid_row": null,
            "grid_template_areas": null,
            "grid_template_columns": null,
            "grid_template_rows": null,
            "height": null,
            "justify_content": null,
            "justify_items": null,
            "left": null,
            "margin": null,
            "max_height": null,
            "max_width": null,
            "min_height": null,
            "min_width": null,
            "object_fit": null,
            "object_position": null,
            "order": null,
            "overflow": null,
            "overflow_x": null,
            "overflow_y": null,
            "padding": null,
            "right": null,
            "top": null,
            "visibility": null,
            "width": null
          }
        },
        "4397ba6489f946468a18f6fc2bae2b4a": {
          "model_module": "@jupyter-widgets/base",
          "model_name": "LayoutModel",
          "model_module_version": "1.2.0",
          "state": {
            "_model_module": "@jupyter-widgets/base",
            "_model_module_version": "1.2.0",
            "_model_name": "LayoutModel",
            "_view_count": null,
            "_view_module": "@jupyter-widgets/base",
            "_view_module_version": "1.2.0",
            "_view_name": "LayoutView",
            "align_content": null,
            "align_items": null,
            "align_self": null,
            "border": null,
            "bottom": null,
            "display": null,
            "flex": null,
            "flex_flow": null,
            "grid_area": null,
            "grid_auto_columns": null,
            "grid_auto_flow": null,
            "grid_auto_rows": null,
            "grid_column": null,
            "grid_gap": null,
            "grid_row": null,
            "grid_template_areas": null,
            "grid_template_columns": null,
            "grid_template_rows": null,
            "height": null,
            "justify_content": null,
            "justify_items": null,
            "left": null,
            "margin": null,
            "max_height": null,
            "max_width": null,
            "min_height": null,
            "min_width": null,
            "object_fit": null,
            "object_position": null,
            "order": null,
            "overflow": null,
            "overflow_x": null,
            "overflow_y": null,
            "padding": null,
            "right": null,
            "top": null,
            "visibility": null,
            "width": null
          }
        },
        "6f5264abf3b74ce7a4e7a3515718e852": {
          "model_module": "@jupyter-widgets/controls",
          "model_name": "DescriptionStyleModel",
          "model_module_version": "1.5.0",
          "state": {
            "_model_module": "@jupyter-widgets/controls",
            "_model_module_version": "1.5.0",
            "_model_name": "DescriptionStyleModel",
            "_view_count": null,
            "_view_module": "@jupyter-widgets/base",
            "_view_module_version": "1.2.0",
            "_view_name": "StyleView",
            "description_width": ""
          }
        },
        "bad6639877b74f92827c3a5b0f5e44ee": {
          "model_module": "@jupyter-widgets/base",
          "model_name": "LayoutModel",
          "model_module_version": "1.2.0",
          "state": {
            "_model_module": "@jupyter-widgets/base",
            "_model_module_version": "1.2.0",
            "_model_name": "LayoutModel",
            "_view_count": null,
            "_view_module": "@jupyter-widgets/base",
            "_view_module_version": "1.2.0",
            "_view_name": "LayoutView",
            "align_content": null,
            "align_items": null,
            "align_self": null,
            "border": null,
            "bottom": null,
            "display": null,
            "flex": null,
            "flex_flow": null,
            "grid_area": null,
            "grid_auto_columns": null,
            "grid_auto_flow": null,
            "grid_auto_rows": null,
            "grid_column": null,
            "grid_gap": null,
            "grid_row": null,
            "grid_template_areas": null,
            "grid_template_columns": null,
            "grid_template_rows": null,
            "height": null,
            "justify_content": null,
            "justify_items": null,
            "left": null,
            "margin": null,
            "max_height": null,
            "max_width": null,
            "min_height": null,
            "min_width": null,
            "object_fit": null,
            "object_position": null,
            "order": null,
            "overflow": null,
            "overflow_x": null,
            "overflow_y": null,
            "padding": null,
            "right": null,
            "top": null,
            "visibility": null,
            "width": null
          }
        },
        "742d88cc300c420897a34638cc3b32fa": {
          "model_module": "@jupyter-widgets/controls",
          "model_name": "ProgressStyleModel",
          "model_module_version": "1.5.0",
          "state": {
            "_model_module": "@jupyter-widgets/controls",
            "_model_module_version": "1.5.0",
            "_model_name": "ProgressStyleModel",
            "_view_count": null,
            "_view_module": "@jupyter-widgets/base",
            "_view_module_version": "1.2.0",
            "_view_name": "StyleView",
            "bar_color": null,
            "description_width": ""
          }
        },
        "7760a6a628b54f73837527b35d9654de": {
          "model_module": "@jupyter-widgets/base",
          "model_name": "LayoutModel",
          "model_module_version": "1.2.0",
          "state": {
            "_model_module": "@jupyter-widgets/base",
            "_model_module_version": "1.2.0",
            "_model_name": "LayoutModel",
            "_view_count": null,
            "_view_module": "@jupyter-widgets/base",
            "_view_module_version": "1.2.0",
            "_view_name": "LayoutView",
            "align_content": null,
            "align_items": null,
            "align_self": null,
            "border": null,
            "bottom": null,
            "display": null,
            "flex": null,
            "flex_flow": null,
            "grid_area": null,
            "grid_auto_columns": null,
            "grid_auto_flow": null,
            "grid_auto_rows": null,
            "grid_column": null,
            "grid_gap": null,
            "grid_row": null,
            "grid_template_areas": null,
            "grid_template_columns": null,
            "grid_template_rows": null,
            "height": null,
            "justify_content": null,
            "justify_items": null,
            "left": null,
            "margin": null,
            "max_height": null,
            "max_width": null,
            "min_height": null,
            "min_width": null,
            "object_fit": null,
            "object_position": null,
            "order": null,
            "overflow": null,
            "overflow_x": null,
            "overflow_y": null,
            "padding": null,
            "right": null,
            "top": null,
            "visibility": null,
            "width": null
          }
        },
        "73580e9492184fbdb3b2658a2b12f298": {
          "model_module": "@jupyter-widgets/controls",
          "model_name": "DescriptionStyleModel",
          "model_module_version": "1.5.0",
          "state": {
            "_model_module": "@jupyter-widgets/controls",
            "_model_module_version": "1.5.0",
            "_model_name": "DescriptionStyleModel",
            "_view_count": null,
            "_view_module": "@jupyter-widgets/base",
            "_view_module_version": "1.2.0",
            "_view_name": "StyleView",
            "description_width": ""
          }
        }
      }
    }
  },
  "nbformat": 4,
  "nbformat_minor": 5
}