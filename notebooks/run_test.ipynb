{
 "cells": [
  {
   "cell_type": "code",
   "execution_count": 1,
   "id": "f3e227b8",
   "metadata": {
    "id": "f3e227b8"
   },
   "outputs": [],
   "source": [
    "%load_ext autoreload\n",
    "%autoreload 2"
   ]
  },
  {
   "cell_type": "code",
   "execution_count": 2,
   "id": "3261d496",
   "metadata": {
    "colab": {
     "base_uri": "https://localhost:8080/"
    },
    "id": "3261d496",
    "outputId": "9206134a-1091-4601-e9cb-c2253cfeb2cf"
   },
   "outputs": [
    {
     "name": "stdout",
     "output_type": "stream",
     "text": [
      "C:\\Users\\efurst1\\PycharmProjects\\LIDC_GDRO\n"
     ]
    }
   ],
   "source": [
    "# For use on local machine\n",
    "%cd .."
   ]
  },
  {
   "cell_type": "code",
   "execution_count": 2,
   "id": "5KmIQPaa0vb3",
   "metadata": {
    "colab": {
     "base_uri": "https://localhost:8080/"
    },
    "id": "5KmIQPaa0vb3",
    "outputId": "afbb728c-ad6d-4ce6-d18f-647647c22994"
   },
   "outputs": [
    {
     "name": "stdout",
     "output_type": "stream",
     "text": [
      "fatal: destination path 'LIDC_GDRO' already exists and is not an empty directory.\n",
      "/content/LIDC_GDRO\n"
     ]
    }
   ],
   "source": [
    "# For use in google colab\n",
    "!git clone https://github.com/mtzig/LIDC_GDRO.git\n",
    "%cd LIDC_GDRO/"
   ]
  },
  {
   "cell_type": "code",
   "execution_count": 3,
   "id": "78LzL1-VF5AD",
   "metadata": {
    "colab": {
     "base_uri": "https://localhost:8080/"
    },
    "id": "78LzL1-VF5AD",
    "outputId": "f61ae650-9cce-489b-fb17-b58f84346041"
   },
   "outputs": [
    {
     "name": "stdout",
     "output_type": "stream",
     "text": [
      "Already up to date.\n"
     ]
    }
   ],
   "source": [
    "!git pull"
   ]
  },
  {
   "cell_type": "code",
   "execution_count": 4,
   "id": "TAuuvi9ABVEI",
   "metadata": {
    "colab": {
     "base_uri": "https://localhost:8080/"
    },
    "id": "TAuuvi9ABVEI",
    "outputId": "b6729e73-8722-4cd1-cb8f-ff975ce7d64d"
   },
   "outputs": [
    {
     "name": "stdout",
     "output_type": "stream",
     "text": [
      "Already on 'cleaning'\n",
      "Your branch is up to date with 'origin/cleaning'.\n"
     ]
    }
   ],
   "source": [
    "!git checkout cleaning"
   ]
  },
  {
   "cell_type": "code",
   "execution_count": 3,
   "id": "699eb945",
   "metadata": {
    "id": "699eb945"
   },
   "outputs": [],
   "source": [
    "from utils import data_utils, image_data_utils\n",
    "import datasets\n",
    "import dataloaders\n",
    "import models\n",
    "import torch\n",
    "import loss\n",
    "import train_eval\n",
    "import pandas as pd\n",
    "import numpy as np\n",
    "import torchvision\n",
    "from torch.optim.lr_scheduler import ReduceLROnPlateau"
   ]
  },
  {
   "cell_type": "code",
   "execution_count": 6,
   "id": "03fab424",
   "metadata": {
    "colab": {
     "base_uri": "https://localhost:8080/"
    },
    "id": "03fab424",
    "outputId": "c459e422-23b5-4ef8-f38e-cba2b4907a95"
   },
   "outputs": [
    {
     "name": "stdout",
     "output_type": "stream",
     "text": [
      "Using device cuda\n"
     ]
    }
   ],
   "source": [
    "device = \"cuda\" if torch.cuda.is_available() else \"cpu\"\n",
    "\n",
    "batch_size = 128\n",
    "\n",
    "hparams = {\"eta\": 0.5, \"gamma\": 1}\n",
    "lr = 0.0005\n",
    "weight_decay = 0.005\n",
    "# momentum = 0\n",
    "\n",
    "# model_class = models.NeuralNetwork\n",
    "# model_args = (512, 64, 36, 2)\n",
    "\n",
    "model_class = models.TransferModel50\n",
    "model_args = (True, True, device)\n",
    "\n",
    "\n",
    "print(f'Using device {device}')"
   ]
  },
  {
   "cell_type": "markdown",
   "id": "4ee83861",
   "metadata": {
    "id": "4ee83861"
   },
   "source": [
    "# Load and process data"
   ]
  },
  {
   "cell_type": "markdown",
   "id": "80b81d85",
   "metadata": {
    "id": "80b81d85"
   },
   "source": [
    "## LIDC"
   ]
  },
  {
   "cell_type": "code",
   "execution_count": null,
   "id": "c34b7da7",
   "metadata": {
    "colab": {
     "base_uri": "https://localhost:8080/",
     "height": 399
    },
    "id": "c34b7da7",
    "outputId": "fbd0de45-00b7-484e-c23c-0505f93c3457"
   },
   "outputs": [
    {
     "data": {
      "text/html": [
       "<div>\n",
       "<style scoped>\n",
       "    .dataframe tbody tr th:only-of-type {\n",
       "        vertical-align: middle;\n",
       "    }\n",
       "\n",
       "    .dataframe tbody tr th {\n",
       "        vertical-align: top;\n",
       "    }\n",
       "\n",
       "    .dataframe thead th {\n",
       "        text-align: right;\n",
       "    }\n",
       "</style>\n",
       "<table border=\"1\" class=\"dataframe\">\n",
       "  <thead>\n",
       "    <tr style=\"text-align: right;\">\n",
       "      <th></th>\n",
       "      <th>noduleID</th>\n",
       "      <th>Area</th>\n",
       "      <th>ConvexArea</th>\n",
       "      <th>Perimeter</th>\n",
       "      <th>ConvexPerimeter</th>\n",
       "      <th>EquivDiameter</th>\n",
       "      <th>MajorAxisLength</th>\n",
       "      <th>MinorAxisLength</th>\n",
       "      <th>Elongation</th>\n",
       "      <th>Compactness</th>\n",
       "      <th>...</th>\n",
       "      <th>Energy</th>\n",
       "      <th>Homogeneity</th>\n",
       "      <th>Entropy</th>\n",
       "      <th>x_3rdordermoment</th>\n",
       "      <th>Inversevariance</th>\n",
       "      <th>Sumaverage</th>\n",
       "      <th>Variance</th>\n",
       "      <th>Clustertendency</th>\n",
       "      <th>malignancy</th>\n",
       "      <th>subclass</th>\n",
       "    </tr>\n",
       "  </thead>\n",
       "  <tbody>\n",
       "    <tr>\n",
       "      <th>0</th>\n",
       "      <td>1</td>\n",
       "      <td>2.786989</td>\n",
       "      <td>2.787828</td>\n",
       "      <td>2.621314</td>\n",
       "      <td>2.454225</td>\n",
       "      <td>2.468314</td>\n",
       "      <td>2.096066</td>\n",
       "      <td>2.748694</td>\n",
       "      <td>-0.570518</td>\n",
       "      <td>1.280735</td>\n",
       "      <td>...</td>\n",
       "      <td>-0.941970</td>\n",
       "      <td>1.182771</td>\n",
       "      <td>1.901636</td>\n",
       "      <td>-0.237301</td>\n",
       "      <td>1.094495</td>\n",
       "      <td>0.581531</td>\n",
       "      <td>-0.074923</td>\n",
       "      <td>0.036838</td>\n",
       "      <td>1</td>\n",
       "      <td>marked_malignant</td>\n",
       "    </tr>\n",
       "    <tr>\n",
       "      <th>1</th>\n",
       "      <td>2</td>\n",
       "      <td>2.208070</td>\n",
       "      <td>1.860850</td>\n",
       "      <td>1.503739</td>\n",
       "      <td>1.900692</td>\n",
       "      <td>2.116778</td>\n",
       "      <td>2.028013</td>\n",
       "      <td>1.857099</td>\n",
       "      <td>0.368191</td>\n",
       "      <td>-0.184960</td>\n",
       "      <td>...</td>\n",
       "      <td>-0.907012</td>\n",
       "      <td>1.393682</td>\n",
       "      <td>1.579543</td>\n",
       "      <td>-0.063547</td>\n",
       "      <td>1.072152</td>\n",
       "      <td>-1.152443</td>\n",
       "      <td>-0.649761</td>\n",
       "      <td>-0.649261</td>\n",
       "      <td>1</td>\n",
       "      <td>unmarked_malignant</td>\n",
       "    </tr>\n",
       "    <tr>\n",
       "      <th>2</th>\n",
       "      <td>3</td>\n",
       "      <td>2.250831</td>\n",
       "      <td>2.167998</td>\n",
       "      <td>2.131948</td>\n",
       "      <td>1.986969</td>\n",
       "      <td>2.143839</td>\n",
       "      <td>1.822497</td>\n",
       "      <td>2.130987</td>\n",
       "      <td>-0.259140</td>\n",
       "      <td>0.917787</td>\n",
       "      <td>...</td>\n",
       "      <td>-0.924491</td>\n",
       "      <td>1.423812</td>\n",
       "      <td>1.802531</td>\n",
       "      <td>-0.247131</td>\n",
       "      <td>1.362616</td>\n",
       "      <td>-0.477880</td>\n",
       "      <td>-0.241693</td>\n",
       "      <td>-0.158040</td>\n",
       "      <td>1</td>\n",
       "      <td>marked_malignant</td>\n",
       "    </tr>\n",
       "    <tr>\n",
       "      <th>3</th>\n",
       "      <td>4</td>\n",
       "      <td>-0.281938</td>\n",
       "      <td>-0.308556</td>\n",
       "      <td>-0.169450</td>\n",
       "      <td>-0.131188</td>\n",
       "      <td>-0.112305</td>\n",
       "      <td>-0.035113</td>\n",
       "      <td>-0.254287</td>\n",
       "      <td>0.706877</td>\n",
       "      <td>-0.144326</td>\n",
       "      <td>...</td>\n",
       "      <td>-0.522478</td>\n",
       "      <td>-0.142953</td>\n",
       "      <td>0.150768</td>\n",
       "      <td>-0.268456</td>\n",
       "      <td>-0.201422</td>\n",
       "      <td>-0.460583</td>\n",
       "      <td>-0.305796</td>\n",
       "      <td>-0.298158</td>\n",
       "      <td>1</td>\n",
       "      <td>marked_malignant</td>\n",
       "    </tr>\n",
       "    <tr>\n",
       "      <th>4</th>\n",
       "      <td>5</td>\n",
       "      <td>-0.002347</td>\n",
       "      <td>-0.076120</td>\n",
       "      <td>0.004412</td>\n",
       "      <td>0.124439</td>\n",
       "      <td>0.266908</td>\n",
       "      <td>-0.017849</td>\n",
       "      <td>0.457045</td>\n",
       "      <td>-1.040008</td>\n",
       "      <td>-0.500777</td>\n",
       "      <td>...</td>\n",
       "      <td>-0.679787</td>\n",
       "      <td>2.580808</td>\n",
       "      <td>0.481121</td>\n",
       "      <td>-0.107827</td>\n",
       "      <td>2.982511</td>\n",
       "      <td>0.166415</td>\n",
       "      <td>-0.106192</td>\n",
       "      <td>-0.042079</td>\n",
       "      <td>1</td>\n",
       "      <td>unmarked_malignant</td>\n",
       "    </tr>\n",
       "    <tr>\n",
       "      <th>...</th>\n",
       "      <td>...</td>\n",
       "      <td>...</td>\n",
       "      <td>...</td>\n",
       "      <td>...</td>\n",
       "      <td>...</td>\n",
       "      <td>...</td>\n",
       "      <td>...</td>\n",
       "      <td>...</td>\n",
       "      <td>...</td>\n",
       "      <td>...</td>\n",
       "      <td>...</td>\n",
       "      <td>...</td>\n",
       "      <td>...</td>\n",
       "      <td>...</td>\n",
       "      <td>...</td>\n",
       "      <td>...</td>\n",
       "      <td>...</td>\n",
       "      <td>...</td>\n",
       "      <td>...</td>\n",
       "      <td>...</td>\n",
       "      <td>...</td>\n",
       "    </tr>\n",
       "    <tr>\n",
       "      <th>2681</th>\n",
       "      <td>2686</td>\n",
       "      <td>0.849585</td>\n",
       "      <td>1.069459</td>\n",
       "      <td>1.451416</td>\n",
       "      <td>1.508525</td>\n",
       "      <td>1.126116</td>\n",
       "      <td>1.302069</td>\n",
       "      <td>1.377140</td>\n",
       "      <td>-0.009162</td>\n",
       "      <td>1.618966</td>\n",
       "      <td>...</td>\n",
       "      <td>-0.907012</td>\n",
       "      <td>0.574143</td>\n",
       "      <td>1.538249</td>\n",
       "      <td>-0.280163</td>\n",
       "      <td>0.290133</td>\n",
       "      <td>-0.162218</td>\n",
       "      <td>-0.100981</td>\n",
       "      <td>-0.013089</td>\n",
       "      <td>1</td>\n",
       "      <td>marked_malignant</td>\n",
       "    </tr>\n",
       "    <tr>\n",
       "      <th>2682</th>\n",
       "      <td>2687</td>\n",
       "      <td>-0.258913</td>\n",
       "      <td>-0.275351</td>\n",
       "      <td>-0.121906</td>\n",
       "      <td>-0.106743</td>\n",
       "      <td>-0.077760</td>\n",
       "      <td>-0.020100</td>\n",
       "      <td>-0.174450</td>\n",
       "      <td>0.471571</td>\n",
       "      <td>-0.060785</td>\n",
       "      <td>...</td>\n",
       "      <td>-0.522478</td>\n",
       "      <td>1.122511</td>\n",
       "      <td>0.167286</td>\n",
       "      <td>-0.248991</td>\n",
       "      <td>1.049808</td>\n",
       "      <td>-1.303787</td>\n",
       "      <td>-0.645070</td>\n",
       "      <td>-0.636376</td>\n",
       "      <td>1</td>\n",
       "      <td>marked_malignant</td>\n",
       "    </tr>\n",
       "    <tr>\n",
       "      <th>2683</th>\n",
       "      <td>2688</td>\n",
       "      <td>-0.624027</td>\n",
       "      <td>-0.601868</td>\n",
       "      <td>-0.690046</td>\n",
       "      <td>-0.740736</td>\n",
       "      <td>-0.762772</td>\n",
       "      <td>-0.713385</td>\n",
       "      <td>-0.763129</td>\n",
       "      <td>0.053998</td>\n",
       "      <td>-0.310221</td>\n",
       "      <td>...</td>\n",
       "      <td>0.508773</td>\n",
       "      <td>-0.841972</td>\n",
       "      <td>-0.823771</td>\n",
       "      <td>0.099402</td>\n",
       "      <td>-1.072814</td>\n",
       "      <td>-0.265997</td>\n",
       "      <td>-0.278174</td>\n",
       "      <td>-0.315875</td>\n",
       "      <td>0</td>\n",
       "      <td>unmarked_benign</td>\n",
       "    </tr>\n",
       "    <tr>\n",
       "      <th>2684</th>\n",
       "      <td>2689</td>\n",
       "      <td>-0.614159</td>\n",
       "      <td>-0.601868</td>\n",
       "      <td>-0.678509</td>\n",
       "      <td>-0.736229</td>\n",
       "      <td>-0.737945</td>\n",
       "      <td>-0.788747</td>\n",
       "      <td>-0.650570</td>\n",
       "      <td>-0.818325</td>\n",
       "      <td>-0.352348</td>\n",
       "      <td>...</td>\n",
       "      <td>0.351464</td>\n",
       "      <td>0.164374</td>\n",
       "      <td>-0.724665</td>\n",
       "      <td>-0.272902</td>\n",
       "      <td>-0.391340</td>\n",
       "      <td>-1.325408</td>\n",
       "      <td>-0.727934</td>\n",
       "      <td>-0.757168</td>\n",
       "      <td>0</td>\n",
       "      <td>unmarked_benign</td>\n",
       "    </tr>\n",
       "    <tr>\n",
       "      <th>2685</th>\n",
       "      <td>2690</td>\n",
       "      <td>0.339741</td>\n",
       "      <td>0.272535</td>\n",
       "      <td>0.412615</td>\n",
       "      <td>0.555045</td>\n",
       "      <td>0.649676</td>\n",
       "      <td>0.457412</td>\n",
       "      <td>0.775194</td>\n",
       "      <td>-0.558664</td>\n",
       "      <td>-0.139594</td>\n",
       "      <td>...</td>\n",
       "      <td>-0.784660</td>\n",
       "      <td>1.062251</td>\n",
       "      <td>0.836250</td>\n",
       "      <td>-0.123413</td>\n",
       "      <td>0.960435</td>\n",
       "      <td>0.711255</td>\n",
       "      <td>-0.231270</td>\n",
       "      <td>-0.164482</td>\n",
       "      <td>1</td>\n",
       "      <td>marked_malignant</td>\n",
       "    </tr>\n",
       "  </tbody>\n",
       "</table>\n",
       "<p>1417 rows × 67 columns</p>\n",
       "</div>"
      ],
      "text/plain": [
       "      noduleID      Area  ConvexArea  Perimeter  ConvexPerimeter  \\\n",
       "0            1  2.786989    2.787828   2.621314         2.454225   \n",
       "1            2  2.208070    1.860850   1.503739         1.900692   \n",
       "2            3  2.250831    2.167998   2.131948         1.986969   \n",
       "3            4 -0.281938   -0.308556  -0.169450        -0.131188   \n",
       "4            5 -0.002347   -0.076120   0.004412         0.124439   \n",
       "...        ...       ...         ...        ...              ...   \n",
       "2681      2686  0.849585    1.069459   1.451416         1.508525   \n",
       "2682      2687 -0.258913   -0.275351  -0.121906        -0.106743   \n",
       "2683      2688 -0.624027   -0.601868  -0.690046        -0.740736   \n",
       "2684      2689 -0.614159   -0.601868  -0.678509        -0.736229   \n",
       "2685      2690  0.339741    0.272535   0.412615         0.555045   \n",
       "\n",
       "      EquivDiameter  MajorAxisLength  MinorAxisLength  Elongation  \\\n",
       "0          2.468314         2.096066         2.748694   -0.570518   \n",
       "1          2.116778         2.028013         1.857099    0.368191   \n",
       "2          2.143839         1.822497         2.130987   -0.259140   \n",
       "3         -0.112305        -0.035113        -0.254287    0.706877   \n",
       "4          0.266908        -0.017849         0.457045   -1.040008   \n",
       "...             ...              ...              ...         ...   \n",
       "2681       1.126116         1.302069         1.377140   -0.009162   \n",
       "2682      -0.077760        -0.020100        -0.174450    0.471571   \n",
       "2683      -0.762772        -0.713385        -0.763129    0.053998   \n",
       "2684      -0.737945        -0.788747        -0.650570   -0.818325   \n",
       "2685       0.649676         0.457412         0.775194   -0.558664   \n",
       "\n",
       "      Compactness  ...    Energy  Homogeneity   Entropy  x_3rdordermoment  \\\n",
       "0        1.280735  ... -0.941970     1.182771  1.901636         -0.237301   \n",
       "1       -0.184960  ... -0.907012     1.393682  1.579543         -0.063547   \n",
       "2        0.917787  ... -0.924491     1.423812  1.802531         -0.247131   \n",
       "3       -0.144326  ... -0.522478    -0.142953  0.150768         -0.268456   \n",
       "4       -0.500777  ... -0.679787     2.580808  0.481121         -0.107827   \n",
       "...           ...  ...       ...          ...       ...               ...   \n",
       "2681     1.618966  ... -0.907012     0.574143  1.538249         -0.280163   \n",
       "2682    -0.060785  ... -0.522478     1.122511  0.167286         -0.248991   \n",
       "2683    -0.310221  ...  0.508773    -0.841972 -0.823771          0.099402   \n",
       "2684    -0.352348  ...  0.351464     0.164374 -0.724665         -0.272902   \n",
       "2685    -0.139594  ... -0.784660     1.062251  0.836250         -0.123413   \n",
       "\n",
       "      Inversevariance  Sumaverage  Variance  Clustertendency  malignancy  \\\n",
       "0            1.094495    0.581531 -0.074923         0.036838           1   \n",
       "1            1.072152   -1.152443 -0.649761        -0.649261           1   \n",
       "2            1.362616   -0.477880 -0.241693        -0.158040           1   \n",
       "3           -0.201422   -0.460583 -0.305796        -0.298158           1   \n",
       "4            2.982511    0.166415 -0.106192        -0.042079           1   \n",
       "...               ...         ...       ...              ...         ...   \n",
       "2681         0.290133   -0.162218 -0.100981        -0.013089           1   \n",
       "2682         1.049808   -1.303787 -0.645070        -0.636376           1   \n",
       "2683        -1.072814   -0.265997 -0.278174        -0.315875           0   \n",
       "2684        -0.391340   -1.325408 -0.727934        -0.757168           0   \n",
       "2685         0.960435    0.711255 -0.231270        -0.164482           1   \n",
       "\n",
       "                subclass  \n",
       "0       marked_malignant  \n",
       "1     unmarked_malignant  \n",
       "2       marked_malignant  \n",
       "3       marked_malignant  \n",
       "4     unmarked_malignant  \n",
       "...                  ...  \n",
       "2681    marked_malignant  \n",
       "2682    marked_malignant  \n",
       "2683     unmarked_benign  \n",
       "2684     unmarked_benign  \n",
       "2685    marked_malignant  \n",
       "\n",
       "[1417 rows x 67 columns]"
      ]
     },
     "execution_count": 199,
     "metadata": {},
     "output_type": "execute_result"
    }
   ],
   "source": [
    "# get LIDC data\n",
    "\n",
    "df = data_utils.preprocess_data(*data_utils.load_lidc(data_root=\"data/\"))\n",
    "df"
   ]
  },
  {
   "cell_type": "code",
   "execution_count": null,
   "id": "215c018f",
   "metadata": {
    "id": "215c018f"
   },
   "outputs": [],
   "source": [
    "# get train/test flags\n",
    "train_split = pd.read_csv(\"data/train_test_splits/LIDC_data_split.csv\")\n",
    "\n",
    "# create train/test dataframes\n",
    "train_df = df[df[\"noduleID\"].isin(train_split[train_split[\"split\"] == 0][\"noduleID\"].values)]\n",
    "val_df = df[df[\"noduleID\"].isin(train_split[train_split[\"split\"] == 1][\"noduleID\"].values)]\n",
    "test_df = df[df[\"noduleID\"].isin(train_split[train_split[\"split\"] == 2][\"noduleID\"].values)]"
   ]
  },
  {
   "cell_type": "code",
   "execution_count": null,
   "id": "baefd71f",
   "metadata": {
    "id": "baefd71f"
   },
   "outputs": [],
   "source": [
    "train_dataloader = data_utils.create_dataloader(train_df, batch_size)\n",
    "val_dataloader = data_utils.create_dataloader(val_df, batch_size)\n",
    "test_dataloader = data_utils.create_dataloader(test_df, batch_size)"
   ]
  },
  {
   "cell_type": "markdown",
   "id": "7660cecf",
   "metadata": {
    "id": "7660cecf"
   },
   "source": [
    "## LIDC CNN features"
   ]
  },
  {
   "cell_type": "code",
   "execution_count": null,
   "id": "5427084c",
   "metadata": {
    "id": "5427084c"
   },
   "outputs": [],
   "source": [
    "cnn_train, cnn_val, cnn_test = image_data_utils.get_cnn_features(split_file='./data/subclass_labels/LIDC_data_split_with_cluster.csv')"
   ]
  },
  {
   "cell_type": "code",
   "execution_count": null,
   "id": "5550f4a7",
   "metadata": {
    "id": "5550f4a7"
   },
   "outputs": [],
   "source": [
    "train_dataloader = data_util.create_dataloader(cnn_train, batch_size=batch_size, is_dataframe=False)\n",
    "val_dataloader = data_util.create_dataloader(cnn_val, batch_size=batch_size, is_dataframe=False)\n",
    "test_dataloader = data_util.create_dataloader(cnn_test, batch_size=batch_size, is_dataframe=False)"
   ]
  },
  {
   "cell_type": "markdown",
   "id": "46f66e99",
   "metadata": {
    "id": "46f66e99"
   },
   "source": [
    "## Waterbirds"
   ]
  },
  {
   "cell_type": "code",
   "execution_count": 13,
   "id": "uuxjOKFl5Nel",
   "metadata": {
    "colab": {
     "base_uri": "https://localhost:8080/",
     "height": 1000,
     "referenced_widgets": [
      "5d829b78f378484483c27c6129dd404f",
      "e192ae51538a4e718bc1aef4fc59b438",
      "e6b330ae53c140b6a658c8e64e1fe4d3",
      "f00b8d56fb9c42e288b44882d8d268fc",
      "5e4f8ffa3eaf4e9ca4aaf45ebbc8e151",
      "1c91d542815846798625a59fdded01e0",
      "736189395de54b0b8404f85ce77aca0f",
      "b5603b9bfb1c41f2a24381a23cf9c2b4",
      "5adf17f900c949bbb28cedec4f200f41",
      "fcb517860d194984b7ab48b97aa82ae2",
      "5ca6ca51ef344b07ad60ab03577c6ffa"
     ]
    },
    "id": "uuxjOKFl5Nel",
    "outputId": "8e36a986-120c-4e11-ee53-d7fec3c23bba"
   },
   "outputs": [
    {
     "name": "stdout",
     "output_type": "stream",
     "text": [
      "Looking in indexes: https://pypi.org/simple, https://us-python.pkg.dev/colab-wheels/public/simple/\n",
      "Collecting wilds\n",
      "  Downloading wilds-2.0.0-py3-none-any.whl (126 kB)\n",
      "\u001b[K     |████████████████████████████████| 126 kB 5.2 MB/s \n",
      "\u001b[?25hRequirement already satisfied: tqdm>=4.53.0 in /usr/local/lib/python3.7/dist-packages (from wilds) (4.64.0)\n",
      "Collecting outdated>=0.2.0\n",
      "  Downloading outdated-0.2.1-py3-none-any.whl (7.5 kB)\n",
      "Requirement already satisfied: torch>=1.7.0 in /usr/local/lib/python3.7/dist-packages (from wilds) (1.12.0+cu113)\n",
      "Requirement already satisfied: scikit-learn>=0.20.0 in /usr/local/lib/python3.7/dist-packages (from wilds) (1.0.2)\n",
      "Requirement already satisfied: scipy>=1.5.4 in /usr/local/lib/python3.7/dist-packages (from wilds) (1.7.3)\n",
      "Collecting pillow>=7.2.0\n",
      "  Downloading Pillow-9.2.0-cp37-cp37m-manylinux_2_17_x86_64.manylinux2014_x86_64.whl (3.1 MB)\n",
      "\u001b[K     |████████████████████████████████| 3.1 MB 45.6 MB/s \n",
      "\u001b[?25hRequirement already satisfied: pandas>=1.1.0 in /usr/local/lib/python3.7/dist-packages (from wilds) (1.3.5)\n",
      "Requirement already satisfied: pytz>=2020.4 in /usr/local/lib/python3.7/dist-packages (from wilds) (2022.1)\n",
      "Requirement already satisfied: torchvision>=0.8.2 in /usr/local/lib/python3.7/dist-packages (from wilds) (0.13.0+cu113)\n",
      "Collecting ogb>=1.2.6\n",
      "  Downloading ogb-1.3.3-py3-none-any.whl (78 kB)\n",
      "\u001b[K     |████████████████████████████████| 78 kB 8.1 MB/s \n",
      "\u001b[?25hRequirement already satisfied: numpy>=1.19.1 in /usr/local/lib/python3.7/dist-packages (from wilds) (1.21.6)\n",
      "Requirement already satisfied: six>=1.12.0 in /usr/local/lib/python3.7/dist-packages (from ogb>=1.2.6->wilds) (1.15.0)\n",
      "Requirement already satisfied: urllib3>=1.24.0 in /usr/local/lib/python3.7/dist-packages (from ogb>=1.2.6->wilds) (1.24.3)\n",
      "Requirement already satisfied: requests in /usr/local/lib/python3.7/dist-packages (from outdated>=0.2.0->wilds) (2.23.0)\n",
      "Collecting littleutils\n",
      "  Downloading littleutils-0.2.2.tar.gz (6.6 kB)\n",
      "Requirement already satisfied: python-dateutil>=2.7.3 in /usr/local/lib/python3.7/dist-packages (from pandas>=1.1.0->wilds) (2.8.2)\n",
      "Requirement already satisfied: threadpoolctl>=2.0.0 in /usr/local/lib/python3.7/dist-packages (from scikit-learn>=0.20.0->wilds) (3.1.0)\n",
      "Requirement already satisfied: joblib>=0.11 in /usr/local/lib/python3.7/dist-packages (from scikit-learn>=0.20.0->wilds) (1.1.0)\n",
      "Requirement already satisfied: typing-extensions in /usr/local/lib/python3.7/dist-packages (from torch>=1.7.0->wilds) (4.1.1)\n",
      "Requirement already satisfied: idna<3,>=2.5 in /usr/local/lib/python3.7/dist-packages (from requests->outdated>=0.2.0->wilds) (2.10)\n",
      "Requirement already satisfied: certifi>=2017.4.17 in /usr/local/lib/python3.7/dist-packages (from requests->outdated>=0.2.0->wilds) (2022.6.15)\n",
      "Requirement already satisfied: chardet<4,>=3.0.2 in /usr/local/lib/python3.7/dist-packages (from requests->outdated>=0.2.0->wilds) (3.0.4)\n",
      "Building wheels for collected packages: littleutils\n",
      "  Building wheel for littleutils (setup.py) ... \u001b[?25l\u001b[?25hdone\n",
      "  Created wheel for littleutils: filename=littleutils-0.2.2-py3-none-any.whl size=7048 sha256=fa03be99fbc5b52e288c1ce5b05c7b3217c82b4121af2327032a97d12f187d08\n",
      "  Stored in directory: /root/.cache/pip/wheels/d6/64/cd/32819b511a488e4993f2fab909a95330289c3f4e0f6ef4676d\n",
      "Successfully built littleutils\n",
      "Installing collected packages: littleutils, pillow, outdated, ogb, wilds\n",
      "  Attempting uninstall: pillow\n",
      "    Found existing installation: Pillow 7.1.2\n",
      "    Uninstalling Pillow-7.1.2:\n",
      "      Successfully uninstalled Pillow-7.1.2\n",
      "\u001b[31mERROR: pip's dependency resolver does not currently take into account all the packages that are installed. This behaviour is the source of the following dependency conflicts.\n",
      "albumentations 0.1.12 requires imgaug<0.2.7,>=0.2.5, but you have imgaug 0.2.9 which is incompatible.\u001b[0m\n",
      "Successfully installed littleutils-0.2.2 ogb-1.3.3 outdated-0.2.1 pillow-9.2.0 wilds-2.0.0\n"
     ]
    },
    {
     "data": {
      "application/vnd.colab-display-data+json": {
       "pip_warning": {
        "packages": [
         "PIL"
        ]
       }
      }
     },
     "metadata": {},
     "output_type": "display_data"
    },
    {
     "name": "stdout",
     "output_type": "stream",
     "text": [
      "Downloading dataset to data/waterbirds_v1.0...\n",
      "You can also download the dataset manually at https://wilds.stanford.edu/downloads.\n",
      "Downloading https://worksheets.codalab.org/rest/bundles/0x505056d5cdea4e4eaa0e242cbfe2daa4/contents/blob/ to data/waterbirds_v1.0/archive.tar.gz\n"
     ]
    },
    {
     "data": {
      "application/vnd.jupyter.widget-view+json": {
       "model_id": "5d829b78f378484483c27c6129dd404f",
       "version_major": 2,
       "version_minor": 0
      },
      "text/plain": [
       "0Byte [00:00, ?Byte/s]"
      ]
     },
     "metadata": {},
     "output_type": "display_data"
    },
    {
     "name": "stdout",
     "output_type": "stream",
     "text": [
      "Extracting data/waterbirds_v1.0/archive.tar.gz to data/waterbirds_v1.0\n",
      "\n",
      "It took 1.89 minutes to download and uncompress the dataset.\n",
      "\n"
     ]
    },
    {
     "data": {
      "text/plain": [
       "<wilds.datasets.waterbirds_dataset.WaterbirdsDataset at 0x7fe867300490>"
      ]
     },
     "execution_count": 13,
     "metadata": {},
     "output_type": "execute_result"
    }
   ],
   "source": [
    "# download waterbirds through wilds\n",
    "\n",
    "!pip install wilds\n",
    "from wilds import get_dataset\n",
    "\n",
    "get_dataset(dataset=\"waterbirds\", download=True)"
   ]
  },
  {
   "cell_type": "code",
   "execution_count": 7,
   "id": "5f4ac03c",
   "metadata": {
    "id": "5f4ac03c"
   },
   "outputs": [],
   "source": [
    "from PIL import Image"
   ]
  },
  {
   "cell_type": "code",
   "execution_count": 8,
   "id": "cbbb108e",
   "metadata": {
    "id": "cbbb108e"
   },
   "outputs": [],
   "source": [
    "metadata_df = pd.read_csv('data/waterbirds_v1.0/metadata.csv')"
   ]
  },
  {
   "cell_type": "code",
   "execution_count": 9,
   "id": "6c0e29fe",
   "metadata": {
    "id": "6c0e29fe"
   },
   "outputs": [],
   "source": [
    "convert_resize = torchvision.transforms.Compose([torchvision.transforms.ToTensor(), torchvision.transforms.Resize((200, 200), antialias=True)])\n",
    "\n",
    "train_df, val_df, test_df = [metadata_df[metadata_df['split'] == split] for split in [0, 1, 2]]\n",
    "\n",
    "dataset_list = []\n",
    "\n",
    "# If GPU memory is limited, images can be loaded as they are required\n",
    "# This is much slower but may be necessary\n",
    "# If false, all images are loaded up-front, which is also slow but only happens once\n",
    "on_demand = False\n",
    "\n",
    "for df in [train_df, val_df, test_df]:\n",
    "    if on_demand:\n",
    "        dataset_list.append(datasets.OnDemandImageDataset(df, 'data/waterbirds_v1.0/', transform=convert_resize, device=device))\n",
    "    else:\n",
    "        img_tensors = []\n",
    "        for i in range(len(df.index)):\n",
    "            img_path = metadata_df.iloc[i, 1]\n",
    "            img_tensors.append(convert_resize(Image.open('data/waterbirds_v1.0/' + img_path)).squeeze().to(device))\n",
    "        features = torch.stack(img_tensors)\n",
    "        labels = torch.LongTensor([metadata_df.iloc[:, 2]]).squeeze().to(device)\n",
    "        subclasses = torch.LongTensor([2 * metadata_df.iloc[:, 2] + metadata_df.iloc[:, 4]]).squeeze().to(device)\n",
    "\n",
    "        dataset_list.append(datasets.SubclassedDataset(features, labels, subclasses))"
   ]
  },
  {
   "cell_type": "code",
   "execution_count": 14,
   "id": "LpHSlphyRC-Z",
   "metadata": {
    "id": "LpHSlphyRC-Z"
   },
   "outputs": [],
   "source": [
    "# smaller dataloaders for prototyping\n",
    "train_dataloader, val_dataloader, test_dataloader = [dataloaders.InfiniteDataLoader(torch.utils.data.Subset(dataset, range(0, len(dataset), 2)), batch_size=batch_size) for dataset in dataset_list]"
   ]
  },
  {
   "cell_type": "code",
   "execution_count": null,
   "id": "91cb9160",
   "metadata": {
    "id": "91cb9160"
   },
   "outputs": [],
   "source": [
    "# full size dataloaders\n",
    "train_dataloader, val_dataloader, test_dataloader = [dataloaders.InfiniteDataLoader(dataset, batch_size=batch_size) for dataset in dataset_list]"
   ]
  },
  {
   "cell_type": "markdown",
   "id": "c71e542c",
   "metadata": {
    "id": "c71e542c"
   },
   "source": [
    "\n",
    "# Test convergence of combinations of ERM and GDRO"
   ]
  },
  {
   "cell_type": "code",
   "execution_count": 15,
   "id": "IEeBRPdddJjd",
   "metadata": {
    "id": "IEeBRPdddJjd"
   },
   "outputs": [],
   "source": [
    "N = 5\n",
    "epochs = 20\n",
    "# subtypes = [\"Overall\", \"Unspiculated benign\", \"Spiculated benign\", \"Spiculated malignant\", \"Unspiculated malignant\"]\n",
    "subtypes = [\"Overall\", \"Land on land\", \"Land on water\", \"Water on land\", \"Water on water\"]\n",
    "# subtypes = [\"Overall\", \"Benign\", \"Malignant1\", \"Malignant2\"]\n",
    "\n",
    "# test_algorithms = [\"ERM\", \"GDRO\", \"Sharp\", \"Smooth\", \"ReverseSmooth\", \"Dynamic\", \"ExtraERM\", \"ExtraGDRO\", \"Halfway\"]\n",
    "# test_algorithms = [\"Mix\" + str(t) for t in [0.4, 0.5, 0.6, 0.7, 0.8]]\n",
    "# test_algorithms = [\"ERM\", \"GDRO\", *[\"Dynamic\" + str(t) for t in [0.01, 0.05, 0.1, 0.5]]]\n",
    "test_algorithms = [\"ERM\", \"GDRO\"]\n",
    "keep_old =        [False, False]\n",
    "\n",
    "record_roc_data = False"
   ]
  },
  {
   "cell_type": "code",
   "execution_count": 16,
   "id": "3001211d",
   "metadata": {
    "colab": {
     "base_uri": "https://localhost:8080/",
     "height": 568
    },
    "id": "3001211d",
    "outputId": "505ef86a-9bb0-4d2a-aed3-419f0388901d",
    "scrolled": true
   },
   "outputs": [
    {
     "name": "stdout",
     "output_type": "stream",
     "text": [
      "Running test: ERM\n",
      "Trial 1/5\n"
     ]
    },
    {
     "name": "stderr",
     "output_type": "stream",
     "text": [
      "/usr/local/lib/python3.7/dist-packages/torchvision/models/_utils.py:209: UserWarning: The parameter 'pretrained' is deprecated since 0.13 and will be removed in 0.15, please use 'weights' instead.\n",
      "  f\"The parameter '{pretrained_param}' is deprecated since 0.13 and will be removed in 0.15, \"\n",
      "/usr/local/lib/python3.7/dist-packages/torchvision/models/_utils.py:223: UserWarning: Arguments other than a weight enum or `None` for 'weights' are deprecated since 0.13 and will be removed in 0.15. The current behavior is equivalent to passing `weights=ResNet50_Weights.IMAGENET1K_V1`. You can also use `weights=ResNet50_Weights.DEFAULT` to get the most up-to-date weights.\n",
      "  warnings.warn(msg)\n"
     ]
    },
    {
     "name": "stdout",
     "output_type": "stream",
     "text": [
      "Epoch 1 / 20\n",
      "Epoch 2 / 20\n",
      "Epoch 3 / 20\n",
      "Epoch 4 / 20\n",
      "Epoch 5 / 20\n"
     ]
    },
    {
     "ename": "KeyboardInterrupt",
     "evalue": "ignored",
     "output_type": "error",
     "traceback": [
      "\u001b[0;31m---------------------------------------------------------------------------\u001b[0m",
      "\u001b[0;31mKeyboardInterrupt\u001b[0m                         Traceback (most recent call last)",
      "\u001b[0;32m<ipython-input-16-bc86466352d8>\u001b[0m in \u001b[0;36m<module>\u001b[0;34m()\u001b[0m\n\u001b[1;32m     63\u001b[0m                     \u001b[0mloss_fn\u001b[0m\u001b[0;34m.\u001b[0m\u001b[0mt\u001b[0m \u001b[0;34m=\u001b[0m \u001b[0mfloat\u001b[0m\u001b[0;34m(\u001b[0m\u001b[0malgorithm\u001b[0m\u001b[0;34m[\u001b[0m\u001b[0;36m3\u001b[0m\u001b[0;34m:\u001b[0m\u001b[0;34m]\u001b[0m\u001b[0;34m)\u001b[0m  \u001b[0;31m# ex. algorithm == \"Mix0.5\" => t = 0.5\u001b[0m\u001b[0;34m\u001b[0m\u001b[0;34m\u001b[0m\u001b[0m\n\u001b[1;32m     64\u001b[0m \u001b[0;34m\u001b[0m\u001b[0m\n\u001b[0;32m---> 65\u001b[0;31m                 \u001b[0mtrain_eval\u001b[0m\u001b[0;34m.\u001b[0m\u001b[0mtrain\u001b[0m\u001b[0;34m(\u001b[0m\u001b[0mtrain_dataloader\u001b[0m\u001b[0;34m,\u001b[0m \u001b[0mmodel\u001b[0m\u001b[0;34m,\u001b[0m \u001b[0mloss_fn\u001b[0m\u001b[0;34m,\u001b[0m \u001b[0moptimizer\u001b[0m\u001b[0;34m)\u001b[0m\u001b[0;34m\u001b[0m\u001b[0;34m\u001b[0m\u001b[0m\n\u001b[0m\u001b[1;32m     66\u001b[0m                 \u001b[0msensitivities\u001b[0m \u001b[0;34m=\u001b[0m \u001b[0mtrain_eval\u001b[0m\u001b[0;34m.\u001b[0m\u001b[0mevaluate\u001b[0m\u001b[0;34m(\u001b[0m\u001b[0mtest_dataloader\u001b[0m\u001b[0;34m,\u001b[0m \u001b[0mmodel\u001b[0m\u001b[0;34m,\u001b[0m \u001b[0mnum_subclasses\u001b[0m\u001b[0;34m=\u001b[0m\u001b[0mlen\u001b[0m\u001b[0;34m(\u001b[0m\u001b[0msubtypes\u001b[0m\u001b[0;34m)\u001b[0m \u001b[0;34m-\u001b[0m \u001b[0;36m1\u001b[0m\u001b[0;34m)\u001b[0m\u001b[0;34m\u001b[0m\u001b[0;34m\u001b[0m\u001b[0m\n\u001b[1;32m     67\u001b[0m \u001b[0;34m\u001b[0m\u001b[0m\n",
      "\u001b[0;32m/content/LIDC_GDRO/train_eval.py\u001b[0m in \u001b[0;36mtrain\u001b[0;34m(dataloader, model, loss_fn, optimizer, verbose)\u001b[0m\n\u001b[1;32m     14\u001b[0m \u001b[0;34m\u001b[0m\u001b[0m\n\u001b[1;32m     15\u001b[0m         \u001b[0mloss\u001b[0m \u001b[0;34m=\u001b[0m \u001b[0mloss_fn\u001b[0m\u001b[0;34m(\u001b[0m\u001b[0mnext\u001b[0m\u001b[0;34m(\u001b[0m\u001b[0mdataloader\u001b[0m\u001b[0;34m)\u001b[0m\u001b[0;34m)\u001b[0m\u001b[0;34m\u001b[0m\u001b[0;34m\u001b[0m\u001b[0m\n\u001b[0;32m---> 16\u001b[0;31m         \u001b[0mavg_loss\u001b[0m \u001b[0;34m+=\u001b[0m \u001b[0mloss\u001b[0m\u001b[0;34m.\u001b[0m\u001b[0mitem\u001b[0m\u001b[0;34m(\u001b[0m\u001b[0;34m)\u001b[0m\u001b[0;34m\u001b[0m\u001b[0;34m\u001b[0m\u001b[0m\n\u001b[0m\u001b[1;32m     17\u001b[0m \u001b[0;34m\u001b[0m\u001b[0m\n\u001b[1;32m     18\u001b[0m         \u001b[0;31m# Backpropagation\u001b[0m\u001b[0;34m\u001b[0m\u001b[0;34m\u001b[0m\u001b[0;34m\u001b[0m\u001b[0m\n",
      "\u001b[0;31mKeyboardInterrupt\u001b[0m: "
     ]
    }
   ],
   "source": [
    "if not sum(keep_old):\n",
    "    results = {}\n",
    "    if record_roc_data:\n",
    "        roc_data = {}  # For ROC curve\n",
    "\n",
    "for a in range(len(test_algorithms)):\n",
    "    algorithm = test_algorithms[a]\n",
    "\n",
    "    if keep_old[a] and algorithm in results:\n",
    "        print(f\"Keeping old results for {algorithm}\")\n",
    "    else:\n",
    "        print(f\"Running test: {algorithm}\")\n",
    "\n",
    "        results[algorithm] = np.zeros(N * epochs * len(subtypes))\n",
    "        if record_roc_data:\n",
    "            roc_data[algorithm] = [None, None]\n",
    "\n",
    "        for n in range(N):\n",
    "\n",
    "            print(f\"Trial {n + 1}/{N}\")\n",
    "\n",
    "            # create and train model\n",
    "            # model = models.NeuralNetwork(64, 32, 32, 2)\n",
    "            # model.to(device)\n",
    "            model = model_class(*model_args)\n",
    "\n",
    "            if (algorithm == \"ERM\"):\n",
    "                loss_fn = loss.ERMLoss(model, torch.nn.CrossEntropyLoss(), hparams, subclassed=True)\n",
    "            elif (algorithm == \"GDRO\"):\n",
    "                loss_fn = loss.GDROLossAlt(model, torch.nn.CrossEntropyLoss(), hparams[\"eta\"], len(subtypes) - 1, normalize_loss=False)\n",
    "            elif (algorithm == \"NormGDRO\"):\n",
    "                loss_fn = loss.GDROLossAlt(model, torch.nn.CrossEntropyLoss(), hparams[\"eta\"], len(subtypes) - 1, normalize_loss=True)\n",
    "            elif (algorithm.startswith(\"GDRO\")):\n",
    "                loss_fn = loss.GDROLossAlt(model, torch.nn.CrossEntropyLoss(), float(algorithm[len(\"GDRO\"):]), len(subtypes) - 1, normalize_loss=True)\n",
    "            elif (algorithm == \"Dynamic\"):\n",
    "                loss_fn = loss.DynamicERMGDROLossAlt(model, torch.nn.CrossEntropyLoss(), hparams[\"eta\"], hparams[\"gamma\"], len(subtypes) - 1)\n",
    "            elif (algorithm.startswith(\"Dynamic\")):\n",
    "                loss_fn = loss.DynamicERMGDROLossAlt(model, torch.nn.CrossEntropyLoss(), float(algorithm[len(\"Dynamic\"):]), hparams[\"gamma\"], len(subtypes) - 1)\n",
    "            elif (algorithm == \"Upweight\"):\n",
    "                loss_fn = loss.UpweightSmall(model, torch.nn.CrossEntropyLoss(), len(subtypes) - 1)\n",
    "            else:\n",
    "                loss_fn = loss.ERMGDROLoss(model, torch.nn.CrossEntropyLoss(), hparams, len(subtypes) - 1)\n",
    "            optimizer = torch.optim.Adam(model.parameters(), lr=lr, weight_decay=weight_decay)#, momentum=momentum)\n",
    "\n",
    "            scheduler = ReduceLROnPlateau(optimizer, mode='max', factor=0.2, patience=2, verbose=True)\n",
    "            \n",
    "            for epoch in range(epochs):\n",
    "                print(f'Epoch {epoch + 1} / {epochs}')\n",
    "\n",
    "                if algorithm == \"Sharp\":\n",
    "                    loss_fn.t = epoch / epochs < 0.5  # sharp boundary\n",
    "                elif algorithm == \"Smooth\":\n",
    "                    loss_fn.t = 1 - (epoch / (epochs - 1))  # linear interpolation\n",
    "                elif algorithm == \"ReverseSmooth\":\n",
    "                    loss_fn.t = epoch / (epochs - 1)  # reverse linear interpolation\n",
    "                elif algorithm == \"ExtraERM\":\n",
    "                    loss_fn.t = 2\n",
    "                elif algorithm == \"ExtraGDRO\":\n",
    "                    loss_fn.t = -1\n",
    "                elif algorithm == \"Halfway\":\n",
    "                    loss_fn.t = 0.5\n",
    "                elif algorithm.startswith(\"Mix\"):\n",
    "                    loss_fn.t = float(algorithm[3:])  # ex. algorithm == \"Mix0.5\" => t = 0.5\n",
    "\n",
    "                train_eval.train(train_dataloader, model, loss_fn, optimizer)\n",
    "                sensitivities = train_eval.evaluate(test_dataloader, model, num_subclasses=len(subtypes) - 1)\n",
    "                \n",
    "                scheduler.step(train_eval.evaluate(val_dataloader, model, num_subclasses=len(subtypes) - 1)[0])\n",
    "\n",
    "                for i in range(len(subtypes)):\n",
    "                    results[algorithm][n * epochs * len(subtypes) + epoch * len(subtypes) + i] = sensitivities[i]\n",
    "            if record_roc_data:\n",
    "                with torch.no_grad():\n",
    "                    preds = model(torch.stack(test_dataloader.dataset.features))\n",
    "                    probabilities = torch.nn.functional.softmax(preds, dim=1)[:, 1]\n",
    "                    labels = test_dataloader.dataset.labels\n",
    "                    if roc_data[algorithm][0] == None:\n",
    "                        roc_data[algorithm][0] = probabilities\n",
    "                        roc_data[algorithm][1] = labels\n",
    "                    else:\n",
    "                        roc_data[algorithm][0] += probabilities\n",
    "        if record_roc_data:\n",
    "            roc_data[algorithm][0] /= N\n",
    "        \n",
    "print(\"Test complete\")\n",
    "\n",
    "results_df = pd.DataFrame(results, index=pd.MultiIndex.from_product([range(N), range(epochs), subtypes], names=[\"trial\", \"epoch\", \"subtype\"]))\n",
    "\n",
    "worst_group = results_df.stack().unstack(level=2).min(axis=1).unstack()\n",
    "worst_group.index = pd.MultiIndex.from_tuples([(*idx, \"Worst\") for idx in worst_group.index], names=[\"trial\", \"epoch\", \"subtype\"])\n",
    "\n",
    "worst_concat = pd.concat([results_df, worst_group])\n",
    "trial_means = worst_concat.unstack().unstack().mean(axis=0).unstack(level=0).unstack(level=0).stack()\n",
    "\n",
    "# Automatically save and download results from colab\n",
    "# results_df.to_csv('results.csv')\n",
    "\n",
    "# from google.colab import files\n",
    "# from datetime import datetime\n",
    "# files.download(f'results_{datetime.now().strftime('%Y%m%d_%H%M%S')}.csv') "
   ]
  },
  {
   "cell_type": "code",
   "execution_count": null,
   "id": "b3ace5d7",
   "metadata": {
    "colab": {
     "base_uri": "https://localhost:8080/",
     "height": 1000
    },
    "id": "b3ace5d7",
    "outputId": "a820d351-cc2d-444f-dab7-a57a1a8e85ef",
    "scrolled": false
   },
   "outputs": [
    {
     "data": {
      "image/png": "[encoded data removed]",
      "text/plain": [
       "<Figure size 1728x2592 with 5 Axes>"
      ]
     },
     "metadata": {
      "needs_background": "light"
     },
     "output_type": "display_data"
    }
   ],
   "source": [
    "import matplotlib.pyplot as plt\n",
    "\n",
    "rolling_window = 1\n",
    "\n",
    "rolling_data = trial_means.unstack(level=1).rolling(rolling_window).mean().stack()\n",
    "# reindex epochs from 1\n",
    "rolling_data.index = pd.MultiIndex.from_tuples(zip(rolling_data.index.get_level_values(0) + 1, rolling_data.index.get_level_values(1)), names=[\"epoch\", \"subtype\"])\n",
    "\n",
    "plots = [*subtypes, \"Worst\"]\n",
    "\n",
    "hide = []\n",
    "\n",
    "f, a = plt.subplots(len(plots), 1, sharey=True)\n",
    "\n",
    "# plot subtypes sensitivity\n",
    "\n",
    "#legend=None,xlim=[55, 60],ylim=[0.85,0.88],\n",
    "\n",
    "for i in range(len(plots)):\n",
    "    rolling_data.drop(columns=hide).xs(plots[i], level=1).plot(xlabel=\"Epoch\",ylabel=\"Accuracy\",kind='line',title=plots[i],ax=a[i],figsize=(24,36),grid=True)"
   ]
  },
  {
   "cell_type": "code",
   "execution_count": null,
   "id": "08feabdd",
   "metadata": {
    "id": "08feabdd",
    "outputId": "fea72ca6-ebf7-4794-9cd9-6129231ce58b",
    "scrolled": true
   },
   "outputs": [
    {
     "ename": "AttributeError",
     "evalue": "'tuple' object has no attribute 'numpy'",
     "output_type": "error",
     "traceback": [
      "\u001b[1;31m---------------------------------------------------------------------------\u001b[0m",
      "\u001b[1;31mAttributeError\u001b[0m                            Traceback (most recent call last)",
      "Input \u001b[1;32mIn [235]\u001b[0m, in \u001b[0;36m<cell line: 5>\u001b[1;34m()\u001b[0m\n\u001b[0;32m      5\u001b[0m \u001b[38;5;28;01mfor\u001b[39;00m i \u001b[38;5;129;01min\u001b[39;00m \u001b[38;5;28mrange\u001b[39m(\u001b[38;5;28mlen\u001b[39m(ROCData)):\n\u001b[0;32m      6\u001b[0m     algorithm \u001b[38;5;241m=\u001b[39m \u001b[38;5;28mlist\u001b[39m(ROCData\u001b[38;5;241m.\u001b[39mkeys())[i]\n\u001b[1;32m----> 7\u001b[0m     y_true \u001b[38;5;241m=\u001b[39m \u001b[43mROCData\u001b[49m\u001b[43m[\u001b[49m\u001b[43malgorithm\u001b[49m\u001b[43m]\u001b[49m\u001b[43m[\u001b[49m\u001b[38;5;241;43m1\u001b[39;49m\u001b[43m]\u001b[49m\u001b[38;5;241;43m.\u001b[39;49m\u001b[43mnumpy\u001b[49m()\n\u001b[0;32m      8\u001b[0m     y_score \u001b[38;5;241m=\u001b[39m ROCData[algorithm][\u001b[38;5;241m0\u001b[39m]\u001b[38;5;241m.\u001b[39mnumpy()\n\u001b[0;32m     10\u001b[0m     fpr, tpr, thresholds \u001b[38;5;241m=\u001b[39m metrics\u001b[38;5;241m.\u001b[39mroc_curve(y_true, y_score, pos_label\u001b[38;5;241m=\u001b[39m\u001b[38;5;241m1\u001b[39m)\n",
      "\u001b[1;31mAttributeError\u001b[0m: 'tuple' object has no attribute 'numpy'"
     ]
    },
    {
     "data": {
      "image/png": "[encoded data removed]",
      "text/plain": [
       "<Figure size 432x288 with 2 Axes>"
      ]
     },
     "metadata": {
      "needs_background": "light"
     },
     "output_type": "display_data"
    }
   ],
   "source": [
    "# ROC curve\n",
    "\n",
    "from sklearn import metrics\n",
    "\n",
    "f, a = plt.subplots(len(roc_data), 1)\n",
    "\n",
    "for i in range(len(roc_data)):\n",
    "    algorithm = list(roc_data.keys())[i]\n",
    "    y_true = roc_data[algorithm][1].numpy()\n",
    "    y_score = roc_data[algorithm][0].numpy()\n",
    "\n",
    "    fpr, tpr, thresholds = metrics.roc_curve(y_true, y_score, pos_label=1)\n",
    "    auc = metrics.auc(fpr, tpr)\n",
    "    print(auc)\n",
    "    a[i].plot(fpr, tpr, 'b')\n",
    "    a[i].set_title(algorithm)"
   ]
  },
  {
   "cell_type": "code",
   "execution_count": null,
   "id": "917b8efb",
   "metadata": {
    "id": "917b8efb",
    "outputId": "4022df32-f613-4a79-e424-fdb6f9424849",
    "scrolled": false
   },
   "outputs": [
    {
     "name": "stdout",
     "output_type": "stream",
     "text": [
      "Overall\n",
      "ERM: 0.8796744791666666\n",
      "GDRO: 0.8780338541666667\n",
      "No significant difference with p = 0.33\n",
      "\n",
      "Benign\n",
      "ERM: 0.8872537084652428\n",
      "GDRO: 0.8789717009363407\n",
      "ERM greater with p = 0.00\n",
      "\n",
      "Malignant1\n",
      "ERM: 0.7750641813979885\n",
      "GDRO: 0.7995500169821625\n",
      "GDRO greater with p = 0.00\n",
      "\n",
      "Malignant2\n",
      "ERM: 0.9200355649827967\n",
      "GDRO: 0.9192837708118256\n",
      "No significant difference with p = 0.78\n",
      "\n"
     ]
    },
    {
     "data": {
      "image/png": "[encoded data removed]",
      "text/plain": [
       "<Figure size 576x2304 with 5 Axes>"
      ]
     },
     "metadata": {
      "needs_background": "light"
     },
     "output_type": "display_data"
    }
   ],
   "source": [
    "# statisitical tests comparing to ERM\n",
    "from scipy.stats import ttest_ind\n",
    "from IPython.display import display\n",
    "import seaborn as sns\n",
    "\n",
    "significance_threshold = 0.05\n",
    "\n",
    "ttest_dataframes = {}\n",
    "\n",
    "f, a = plt.subplots(len(subtypes) + 1,1, sharey=True, figsize=(8,32))\n",
    "\n",
    "for s in range(len(subtypes)):\n",
    "#     print(subtype)\n",
    "#     print()\n",
    "    subtype_data = results_df.xs(subtypes[s], level=2).xs(epochs - 1, level=1)\n",
    "    subtype_data.plot(title=subtypes[s], kind='box', ax=a[s])\n",
    "    \n",
    "    # worst group data\n",
    "    # results_df.stack().unstack(level=2).min(axis=1).unstack().xs(epochs - 1, level=1).plot(title='worst', kind='box', ax=a[-1])\n",
    "\n",
    "    \n",
    "    erm_data = subtype_data[\"ERM\"].values\n",
    "\n",
    "    print(subtypes[s])\n",
    "    for algorithm in results_df.columns:\n",
    "        if algorithm != \"ERM\":\n",
    "            algorithm_data = subtype_data[algorithm].values\n",
    "            stat, p = ttest_ind(algorithm_data, erm_data)\n",
    "\n",
    "            print(f'ERM: {erm_data.mean()}')\n",
    "            print(f'{algorithm}: {algorithm_data.mean()}')\n",
    "            if p < significance_threshold:\n",
    "                print(f'{algorithm if stat > 0 else \"ERM\"} greater with p = {p:.2f}')\n",
    "            else:\n",
    "                print(f'No significant difference with p = {p:.2f}')\n",
    "            print()"
   ]
  },
  {
   "cell_type": "code",
   "execution_count": null,
   "id": "32d053ff",
   "metadata": {
    "id": "32d053ff",
    "outputId": "adb5cf23-3d73-4e92-ebf2-149aacbab50b"
   },
   "outputs": [
    {
     "data": {
      "text/html": [
       "<div>\n",
       "<style scoped>\n",
       "    .dataframe tbody tr th:only-of-type {\n",
       "        vertical-align: middle;\n",
       "    }\n",
       "\n",
       "    .dataframe tbody tr th {\n",
       "        vertical-align: top;\n",
       "    }\n",
       "\n",
       "    .dataframe thead th {\n",
       "        text-align: right;\n",
       "    }\n",
       "</style>\n",
       "<table border=\"1\" class=\"dataframe\">\n",
       "  <thead>\n",
       "    <tr style=\"text-align: right;\">\n",
       "      <th></th>\n",
       "      <th>ERM</th>\n",
       "      <th>GDRO</th>\n",
       "      <th>Dynamic</th>\n",
       "      <th>Upweight</th>\n",
       "    </tr>\n",
       "    <tr>\n",
       "      <th>trial</th>\n",
       "      <th></th>\n",
       "      <th></th>\n",
       "      <th></th>\n",
       "      <th></th>\n",
       "    </tr>\n",
       "  </thead>\n",
       "  <tbody>\n",
       "    <tr>\n",
       "      <th>0</th>\n",
       "      <td>0.859375</td>\n",
       "      <td>0.898438</td>\n",
       "      <td>0.890625</td>\n",
       "      <td>0.855469</td>\n",
       "    </tr>\n",
       "    <tr>\n",
       "      <th>1</th>\n",
       "      <td>0.867188</td>\n",
       "      <td>0.843750</td>\n",
       "      <td>0.878906</td>\n",
       "      <td>0.847656</td>\n",
       "    </tr>\n",
       "    <tr>\n",
       "      <th>2</th>\n",
       "      <td>0.851562</td>\n",
       "      <td>0.867188</td>\n",
       "      <td>0.878906</td>\n",
       "      <td>0.855469</td>\n",
       "    </tr>\n",
       "    <tr>\n",
       "      <th>3</th>\n",
       "      <td>0.851562</td>\n",
       "      <td>0.851562</td>\n",
       "      <td>0.886719</td>\n",
       "      <td>0.914062</td>\n",
       "    </tr>\n",
       "    <tr>\n",
       "      <th>4</th>\n",
       "      <td>0.882812</td>\n",
       "      <td>0.832031</td>\n",
       "      <td>0.902344</td>\n",
       "      <td>0.882812</td>\n",
       "    </tr>\n",
       "    <tr>\n",
       "      <th>5</th>\n",
       "      <td>0.882812</td>\n",
       "      <td>0.832031</td>\n",
       "      <td>0.890625</td>\n",
       "      <td>0.847656</td>\n",
       "    </tr>\n",
       "    <tr>\n",
       "      <th>6</th>\n",
       "      <td>0.859375</td>\n",
       "      <td>0.894531</td>\n",
       "      <td>0.902344</td>\n",
       "      <td>0.859375</td>\n",
       "    </tr>\n",
       "    <tr>\n",
       "      <th>7</th>\n",
       "      <td>0.894531</td>\n",
       "      <td>0.777344</td>\n",
       "      <td>0.863281</td>\n",
       "      <td>0.921875</td>\n",
       "    </tr>\n",
       "    <tr>\n",
       "      <th>8</th>\n",
       "      <td>0.882812</td>\n",
       "      <td>0.832031</td>\n",
       "      <td>0.875000</td>\n",
       "      <td>0.871094</td>\n",
       "    </tr>\n",
       "    <tr>\n",
       "      <th>9</th>\n",
       "      <td>0.859375</td>\n",
       "      <td>0.835938</td>\n",
       "      <td>0.886719</td>\n",
       "      <td>0.914062</td>\n",
       "    </tr>\n",
       "    <tr>\n",
       "      <th>10</th>\n",
       "      <td>0.875000</td>\n",
       "      <td>0.894531</td>\n",
       "      <td>0.859375</td>\n",
       "      <td>0.851562</td>\n",
       "    </tr>\n",
       "    <tr>\n",
       "      <th>11</th>\n",
       "      <td>0.855469</td>\n",
       "      <td>0.851562</td>\n",
       "      <td>0.890625</td>\n",
       "      <td>0.875000</td>\n",
       "    </tr>\n",
       "    <tr>\n",
       "      <th>12</th>\n",
       "      <td>0.894531</td>\n",
       "      <td>0.878906</td>\n",
       "      <td>0.867188</td>\n",
       "      <td>0.878906</td>\n",
       "    </tr>\n",
       "    <tr>\n",
       "      <th>13</th>\n",
       "      <td>0.878906</td>\n",
       "      <td>0.859375</td>\n",
       "      <td>0.882812</td>\n",
       "      <td>0.871094</td>\n",
       "    </tr>\n",
       "    <tr>\n",
       "      <th>14</th>\n",
       "      <td>0.886719</td>\n",
       "      <td>0.855469</td>\n",
       "      <td>0.859375</td>\n",
       "      <td>0.859375</td>\n",
       "    </tr>\n",
       "    <tr>\n",
       "      <th>15</th>\n",
       "      <td>0.847656</td>\n",
       "      <td>0.835938</td>\n",
       "      <td>0.855469</td>\n",
       "      <td>0.886719</td>\n",
       "    </tr>\n",
       "    <tr>\n",
       "      <th>16</th>\n",
       "      <td>0.863281</td>\n",
       "      <td>0.871094</td>\n",
       "      <td>0.863281</td>\n",
       "      <td>0.878906</td>\n",
       "    </tr>\n",
       "    <tr>\n",
       "      <th>17</th>\n",
       "      <td>0.867188</td>\n",
       "      <td>0.832031</td>\n",
       "      <td>0.886719</td>\n",
       "      <td>0.878906</td>\n",
       "    </tr>\n",
       "    <tr>\n",
       "      <th>18</th>\n",
       "      <td>0.898438</td>\n",
       "      <td>0.847656</td>\n",
       "      <td>0.886719</td>\n",
       "      <td>0.878906</td>\n",
       "    </tr>\n",
       "    <tr>\n",
       "      <th>19</th>\n",
       "      <td>0.925781</td>\n",
       "      <td>0.871094</td>\n",
       "      <td>0.898438</td>\n",
       "      <td>0.824219</td>\n",
       "    </tr>\n",
       "  </tbody>\n",
       "</table>\n",
       "</div>"
      ],
      "text/plain": [
       "            ERM      GDRO   Dynamic  Upweight\n",
       "trial                                        \n",
       "0      0.859375  0.898438  0.890625  0.855469\n",
       "1      0.867188  0.843750  0.878906  0.847656\n",
       "2      0.851562  0.867188  0.878906  0.855469\n",
       "3      0.851562  0.851562  0.886719  0.914062\n",
       "4      0.882812  0.832031  0.902344  0.882812\n",
       "5      0.882812  0.832031  0.890625  0.847656\n",
       "6      0.859375  0.894531  0.902344  0.859375\n",
       "7      0.894531  0.777344  0.863281  0.921875\n",
       "8      0.882812  0.832031  0.875000  0.871094\n",
       "9      0.859375  0.835938  0.886719  0.914062\n",
       "10     0.875000  0.894531  0.859375  0.851562\n",
       "11     0.855469  0.851562  0.890625  0.875000\n",
       "12     0.894531  0.878906  0.867188  0.878906\n",
       "13     0.878906  0.859375  0.882812  0.871094\n",
       "14     0.886719  0.855469  0.859375  0.859375\n",
       "15     0.847656  0.835938  0.855469  0.886719\n",
       "16     0.863281  0.871094  0.863281  0.878906\n",
       "17     0.867188  0.832031  0.886719  0.878906\n",
       "18     0.898438  0.847656  0.886719  0.878906\n",
       "19     0.925781  0.871094  0.898438  0.824219"
      ]
     },
     "execution_count": 105,
     "metadata": {},
     "output_type": "execute_result"
    }
   ],
   "source": [
    "results_df.xs(subtype, level=2).xs(epochs - 1, level=1)"
   ]
  },
  {
   "cell_type": "code",
   "execution_count": null,
   "id": "uP_UoRwJa6n7",
   "metadata": {
    "id": "uP_UoRwJa6n7"
   },
   "outputs": [],
   "source": [
    "# save results\n",
    "results_df.to_csv('test_results/LIDC__fc64_36_36_2__Adam__eta_0_05__gamma_1_0__lr_0_001__weightdecay_0_0001__momentum_0_9.csv')"
   ]
  },
  {
   "cell_type": "code",
   "execution_count": null,
   "id": "Oaw1ZyCUdlaR",
   "metadata": {
    "id": "Oaw1ZyCUdlaR",
    "outputId": "441bd276-2f56-436f-f186-6f765bac65db"
   },
   "outputs": [
    {
     "ename": "NameError",
     "evalue": "name 'pd' is not defined",
     "output_type": "error",
     "traceback": [
      "\u001b[1;31m---------------------------------------------------------------------------\u001b[0m",
      "\u001b[1;31mNameError\u001b[0m                                 Traceback (most recent call last)",
      "Input \u001b[1;32mIn [1]\u001b[0m, in \u001b[0;36m<cell line: 1>\u001b[1;34m()\u001b[0m\n\u001b[1;32m----> 1\u001b[0m loaded_df \u001b[38;5;241m=\u001b[39m \u001b[43mpd\u001b[49m\u001b[38;5;241m.\u001b[39mread_csv(\u001b[38;5;124m'\u001b[39m\u001b[38;5;124mtest_results/results(1).csv\u001b[39m\u001b[38;5;124m'\u001b[39m)\n\u001b[0;32m      2\u001b[0m N \u001b[38;5;241m=\u001b[39m \u001b[38;5;28mmax\u001b[39m(loaded_df[\u001b[38;5;124m\"\u001b[39m\u001b[38;5;124mtrial\u001b[39m\u001b[38;5;124m\"\u001b[39m]) \u001b[38;5;241m+\u001b[39m \u001b[38;5;241m1\u001b[39m\n\u001b[0;32m      3\u001b[0m epochs \u001b[38;5;241m=\u001b[39m \u001b[38;5;28mmax\u001b[39m(loaded_df[\u001b[38;5;124m\"\u001b[39m\u001b[38;5;124mepoch\u001b[39m\u001b[38;5;124m\"\u001b[39m]) \u001b[38;5;241m+\u001b[39m \u001b[38;5;241m1\u001b[39m\n",
      "\u001b[1;31mNameError\u001b[0m: name 'pd' is not defined"
     ]
    }
   ],
   "source": [
    "loaded_df = pd.read_csv('test_results/results(1).csv')\n",
    "N = max(loaded_df[\"trial\"]) + 1\n",
    "epochs = max(loaded_df[\"epoch\"]) + 1\n",
    "subtypes = list(loaded_df[\"subtype\"].unique())\n",
    "algorithms = loaded_df.columns\n",
    "\n",
    "results = loaded_df.drop(columns=[\"subtype\", \"epoch\", \"trial\"]).to_dict('list')"
   ]
  },
  {
   "cell_type": "markdown",
   "id": "4dcf2579",
   "metadata": {
    "id": "4dcf2579"
   },
   "source": [
    "# GDRO Demonstration"
   ]
  },
  {
   "cell_type": "code",
   "execution_count": null,
   "id": "e867ae89",
   "metadata": {
    "colab": {
     "base_uri": "https://localhost:8080/"
    },
    "id": "e867ae89",
    "outputId": "27894167-ff5f-4e06-dc30-de45dd80acaa"
   },
   "outputs": [
    {
     "name": "stderr",
     "output_type": "stream",
     "text": [
      "/usr/local/lib/python3.7/dist-packages/torchvision/models/_utils.py:209: UserWarning: The parameter 'pretrained' is deprecated since 0.13 and will be removed in 0.15, please use 'weights' instead.\n",
      "  f\"The parameter '{pretrained_param}' is deprecated since 0.13 and will be removed in 0.15, \"\n",
      "/usr/local/lib/python3.7/dist-packages/torchvision/models/_utils.py:223: UserWarning: Arguments other than a weight enum or `None` for 'weights' are deprecated since 0.13 and will be removed in 0.15. The current behavior is equivalent to passing `weights=ResNet50_Weights.IMAGENET1K_V1`. You can also use `weights=ResNet50_Weights.DEFAULT` to get the most up-to-date weights.\n",
      "  warnings.warn(msg)\n"
     ]
    }
   ],
   "source": [
    "epochs = 30\n",
    "N = 1\n",
    "\n",
    "q_data = {}\n",
    "\n",
    "for n in range(N):\n",
    "\n",
    "    q_data[f'Trial_{n}'] = []\n",
    "    \n",
    "    model = model_class(*model_args)\n",
    "\n",
    "    loss_fn = loss.ERMGDROLoss(model, torch.nn.CrossEntropyLoss(), hparams, len(subtypes) - 1, normalize_loss=True, subclassed=True)\n",
    "    optimizer = torch.optim.Adam(model.parameters(), lr=lr, weight_decay=weight_decay)\n",
    "\n",
    "    loss_fn.t = 0\n",
    "\n",
    "    q_data[f'Trial_{n}'].extend([1 / (len(subtypes) - 1) for i in range(len(subtypes) - 1)])\n",
    "    for epoch in range(epochs):\n",
    "        train.train(train_dataloader, model, loss_fn, optimizer)\n",
    "        q_data[f'Trial_{n}'].extend(loss_fn.gdro.q.tolist())"
   ]
  },
  {
   "cell_type": "code",
   "execution_count": null,
   "id": "51bd0ec3",
   "metadata": {
    "id": "51bd0ec3"
   },
   "outputs": [],
   "source": [
    "q_df = pd.DataFrame(q_data, index=pd.MultiIndex.from_product([range(epochs + 1), subtypes[1:]], names=['epoch', 'subtype'])).mean(axis=1).unstack()\n",
    "# columns get rearranged into alphabetical order, this swaps them back\n",
    "q_df = q_df[subtypes[1:]]"
   ]
  },
  {
   "cell_type": "code",
   "execution_count": null,
   "id": "3a3a33da",
   "metadata": {
    "colab": {
     "base_uri": "https://localhost:8080/",
     "height": 312
    },
    "id": "3a3a33da",
    "outputId": "4d1d8e4e-3442-455e-fa17-7b9edb54e85b"
   },
   "outputs": [
    {
     "data": {
      "text/plain": [
       "<matplotlib.axes._subplots.AxesSubplot at 0x7fb3945ad310>"
      ]
     },
     "execution_count": 16,
     "metadata": {},
     "output_type": "execute_result"
    },
    {
     "data": {
      "image/png": "[encoded data removed]",
      "text/plain": [
       "<Figure size 432x288 with 1 Axes>"
      ]
     },
     "metadata": {
      "needs_background": "light"
     },
     "output_type": "display_data"
    }
   ],
   "source": [
    "q_df.plot(xlabel=\"epoch\", ylabel=\"q\", title=f\"Values of q over time (eta={hparams['groupdro_eta']}, Pure GDRO)\")"
   ]
  },
  {
   "cell_type": "markdown",
   "id": "099c42e2",
   "metadata": {
    "id": "099c42e2"
   },
   "source": [
    "# Combining CNN features and engineered features"
   ]
  },
  {
   "cell_type": "code",
   "execution_count": null,
   "id": "26eae0f1",
   "metadata": {
    "id": "26eae0f1"
   },
   "outputs": [],
   "source": [
    "cnn_df = pd.read_csv('data/cnn_features.csv')\n",
    "for c in range(2, len(cnn_df.columns)):\n",
    "    cnn_df.columns.values[c] = f'CNN_{cnn_df.columns.values[c]}'\n",
    "\n",
    "eng_df = pd.read_csv('data/LIDC_20130817_AllFeatures2D_MaxSlicePerNodule_inLineRatings.csv')"
   ]
  },
  {
   "cell_type": "code",
   "execution_count": null,
   "id": "8e3dd0cb",
   "metadata": {
    "id": "8e3dd0cb"
   },
   "outputs": [],
   "source": [
    "cnn_df = cnn_df[cnn_df['nodule_id'].isin(np.intersect1d(cnn_df['nodule_id'].values, eng_df['noduleID'].values))]\n",
    "eng_df = eng_df[eng_df['noduleID'].isin(np.intersect1d(cnn_df['nodule_id'].values, eng_df['noduleID'].values))]"
   ]
  },
  {
   "cell_type": "code",
   "execution_count": null,
   "id": "95d791fb",
   "metadata": {
    "id": "95d791fb"
   },
   "outputs": [],
   "source": [
    "concat_df = eng_df.copy()"
   ]
  },
  {
   "cell_type": "code",
   "execution_count": null,
   "id": "9a3d238e",
   "metadata": {
    "id": "9a3d238e"
   },
   "outputs": [],
   "source": [
    "cnn_df.index = cnn_df['nodule_id']\n",
    "for i in concat_df.index:\n",
    "    for col in cnn_df.columns[2:]:\n",
    "        concat_df.at[i, col] = cnn_df.at[concat_df.at[i, 'noduleID'], col]"
   ]
  },
  {
   "cell_type": "code",
   "execution_count": null,
   "id": "fe0006e9",
   "metadata": {
    "id": "fe0006e9",
    "outputId": "f1c61f52-0ed9-4cfe-e5d9-d5bd3d1ad060"
   },
   "outputs": [
    {
     "data": {
      "text/html": [
       "<div>\n",
       "<style scoped>\n",
       "    .dataframe tbody tr th:only-of-type {\n",
       "        vertical-align: middle;\n",
       "    }\n",
       "\n",
       "    .dataframe tbody tr th {\n",
       "        vertical-align: top;\n",
       "    }\n",
       "\n",
       "    .dataframe thead th {\n",
       "        text-align: right;\n",
       "    }\n",
       "</style>\n",
       "<table border=\"1\" class=\"dataframe\">\n",
       "  <thead>\n",
       "    <tr style=\"text-align: right;\">\n",
       "      <th></th>\n",
       "      <th>InstanceID</th>\n",
       "      <th>StudyInstanceUID</th>\n",
       "      <th>SeriesInstanceUid</th>\n",
       "      <th>RadiologistID</th>\n",
       "      <th>noduleID</th>\n",
       "      <th>DicomImage</th>\n",
       "      <th>FilePath</th>\n",
       "      <th>subtlety</th>\n",
       "      <th>internalStructure</th>\n",
       "      <th>calcification</th>\n",
       "      <th>...</th>\n",
       "      <th>CNN_27</th>\n",
       "      <th>CNN_28</th>\n",
       "      <th>CNN_29</th>\n",
       "      <th>CNN_30</th>\n",
       "      <th>CNN_31</th>\n",
       "      <th>CNN_32</th>\n",
       "      <th>CNN_33</th>\n",
       "      <th>CNN_34</th>\n",
       "      <th>CNN_35</th>\n",
       "      <th>CNN_36</th>\n",
       "    </tr>\n",
       "  </thead>\n",
       "  <tbody>\n",
       "    <tr>\n",
       "      <th>0</th>\n",
       "      <td>4</td>\n",
       "      <td>1.3.6.1.4.1.14519.5.2.1.6279.6001.298806137288...</td>\n",
       "      <td>1.3.6.1.4.1.14519.5.2.1.6279.6001.179049373636...</td>\n",
       "      <td>1</td>\n",
       "      <td>1</td>\n",
       "      <td>present</td>\n",
       "      <td>C:\\LIDC_FULL\\LIDC-IDRI\\LIDC-IDRI-0001\\1.3.6.1....</td>\n",
       "      <td>5</td>\n",
       "      <td>1</td>\n",
       "      <td>6</td>\n",
       "      <td>...</td>\n",
       "      <td>-5.395743</td>\n",
       "      <td>1.582677</td>\n",
       "      <td>-4.063280</td>\n",
       "      <td>-5.070021</td>\n",
       "      <td>3.163702</td>\n",
       "      <td>5.290330</td>\n",
       "      <td>-2.523472</td>\n",
       "      <td>3.713529</td>\n",
       "      <td>-0.649701</td>\n",
       "      <td>4.314638</td>\n",
       "    </tr>\n",
       "    <tr>\n",
       "      <th>1</th>\n",
       "      <td>75</td>\n",
       "      <td>1.3.6.1.4.1.14519.5.2.1.6279.6001.490157381160...</td>\n",
       "      <td>1.3.6.1.4.1.14519.5.2.1.6279.6001.619372068417...</td>\n",
       "      <td>4</td>\n",
       "      <td>2</td>\n",
       "      <td>present</td>\n",
       "      <td>C:\\LIDC_FULL\\LIDC-IDRI\\LIDC-IDRI-0002\\1.3.6.1....</td>\n",
       "      <td>1</td>\n",
       "      <td>1</td>\n",
       "      <td>6</td>\n",
       "      <td>...</td>\n",
       "      <td>-5.850334</td>\n",
       "      <td>5.002493</td>\n",
       "      <td>-3.661947</td>\n",
       "      <td>-3.624461</td>\n",
       "      <td>3.235335</td>\n",
       "      <td>-3.922062</td>\n",
       "      <td>-2.210064</td>\n",
       "      <td>6.059101</td>\n",
       "      <td>-0.500276</td>\n",
       "      <td>5.508437</td>\n",
       "    </tr>\n",
       "    <tr>\n",
       "      <th>2</th>\n",
       "      <td>134</td>\n",
       "      <td>1.3.6.1.4.1.14519.5.2.1.6279.6001.101370605276...</td>\n",
       "      <td>1.3.6.1.4.1.14519.5.2.1.6279.6001.170706757615...</td>\n",
       "      <td>4</td>\n",
       "      <td>3</td>\n",
       "      <td>present</td>\n",
       "      <td>C:\\LIDC_FULL\\LIDC-IDRI\\LIDC-IDRI-0003\\1.3.6.1....</td>\n",
       "      <td>5</td>\n",
       "      <td>1</td>\n",
       "      <td>6</td>\n",
       "      <td>...</td>\n",
       "      <td>-4.822973</td>\n",
       "      <td>2.920556</td>\n",
       "      <td>-5.047228</td>\n",
       "      <td>-5.552570</td>\n",
       "      <td>3.489042</td>\n",
       "      <td>0.851557</td>\n",
       "      <td>-2.870659</td>\n",
       "      <td>6.073289</td>\n",
       "      <td>-0.647323</td>\n",
       "      <td>6.486247</td>\n",
       "    </tr>\n",
       "    <tr>\n",
       "      <th>3</th>\n",
       "      <td>143</td>\n",
       "      <td>1.3.6.1.4.1.14519.5.2.1.6279.6001.101370605276...</td>\n",
       "      <td>1.3.6.1.4.1.14519.5.2.1.6279.6001.170706757615...</td>\n",
       "      <td>4</td>\n",
       "      <td>4</td>\n",
       "      <td>present</td>\n",
       "      <td>C:\\LIDC_FULL\\LIDC-IDRI\\LIDC-IDRI-0003\\1.3.6.1....</td>\n",
       "      <td>3</td>\n",
       "      <td>1</td>\n",
       "      <td>6</td>\n",
       "      <td>...</td>\n",
       "      <td>-7.574823</td>\n",
       "      <td>7.260141</td>\n",
       "      <td>-6.138217</td>\n",
       "      <td>-6.386428</td>\n",
       "      <td>4.904528</td>\n",
       "      <td>-2.540447</td>\n",
       "      <td>-2.647656</td>\n",
       "      <td>8.163655</td>\n",
       "      <td>-0.035022</td>\n",
       "      <td>8.056358</td>\n",
       "    </tr>\n",
       "    <tr>\n",
       "      <th>4</th>\n",
       "      <td>118</td>\n",
       "      <td>1.3.6.1.4.1.14519.5.2.1.6279.6001.101370605276...</td>\n",
       "      <td>1.3.6.1.4.1.14519.5.2.1.6279.6001.170706757615...</td>\n",
       "      <td>3</td>\n",
       "      <td>5</td>\n",
       "      <td>present</td>\n",
       "      <td>C:\\LIDC_FULL\\LIDC-IDRI\\LIDC-IDRI-0003\\1.3.6.1....</td>\n",
       "      <td>4</td>\n",
       "      <td>1</td>\n",
       "      <td>6</td>\n",
       "      <td>...</td>\n",
       "      <td>-7.165000</td>\n",
       "      <td>6.356084</td>\n",
       "      <td>-6.882338</td>\n",
       "      <td>-5.712488</td>\n",
       "      <td>5.102713</td>\n",
       "      <td>-2.921033</td>\n",
       "      <td>-2.749318</td>\n",
       "      <td>9.136231</td>\n",
       "      <td>-0.171229</td>\n",
       "      <td>8.867806</td>\n",
       "    </tr>\n",
       "    <tr>\n",
       "      <th>...</th>\n",
       "      <td>...</td>\n",
       "      <td>...</td>\n",
       "      <td>...</td>\n",
       "      <td>...</td>\n",
       "      <td>...</td>\n",
       "      <td>...</td>\n",
       "      <td>...</td>\n",
       "      <td>...</td>\n",
       "      <td>...</td>\n",
       "      <td>...</td>\n",
       "      <td>...</td>\n",
       "      <td>...</td>\n",
       "      <td>...</td>\n",
       "      <td>...</td>\n",
       "      <td>...</td>\n",
       "      <td>...</td>\n",
       "      <td>...</td>\n",
       "      <td>...</td>\n",
       "      <td>...</td>\n",
       "      <td>...</td>\n",
       "      <td>...</td>\n",
       "    </tr>\n",
       "    <tr>\n",
       "      <th>2681</th>\n",
       "      <td>30321</td>\n",
       "      <td>1.3.6.1.4.1.14519.5.2.1.6279.6001.112366982107...</td>\n",
       "      <td>1.3.6.1.4.1.14519.5.2.1.6279.6001.265453131727...</td>\n",
       "      <td>2</td>\n",
       "      <td>2686</td>\n",
       "      <td>present</td>\n",
       "      <td>C:\\LIDC_FULL\\LIDC-IDRI\\LIDC-IDRI-0770\\1.3.6.1....</td>\n",
       "      <td>5</td>\n",
       "      <td>1</td>\n",
       "      <td>6</td>\n",
       "      <td>...</td>\n",
       "      <td>-4.363398</td>\n",
       "      <td>1.216722</td>\n",
       "      <td>-3.386296</td>\n",
       "      <td>-4.855748</td>\n",
       "      <td>2.966221</td>\n",
       "      <td>5.028000</td>\n",
       "      <td>-2.105534</td>\n",
       "      <td>4.931665</td>\n",
       "      <td>-0.734520</td>\n",
       "      <td>4.226719</td>\n",
       "    </tr>\n",
       "    <tr>\n",
       "      <th>2682</th>\n",
       "      <td>32539</td>\n",
       "      <td>1.3.6.1.4.1.14519.5.2.1.6279.6001.213747445868...</td>\n",
       "      <td>1.3.6.1.4.1.14519.5.2.1.6279.6001.232071262560...</td>\n",
       "      <td>2</td>\n",
       "      <td>2687</td>\n",
       "      <td>present</td>\n",
       "      <td>C:\\LIDC_FULL\\LIDC-IDRI\\LIDC-IDRI-0815\\1.3.6.1....</td>\n",
       "      <td>4</td>\n",
       "      <td>1</td>\n",
       "      <td>6</td>\n",
       "      <td>...</td>\n",
       "      <td>-5.684091</td>\n",
       "      <td>4.747817</td>\n",
       "      <td>-3.803551</td>\n",
       "      <td>-3.821561</td>\n",
       "      <td>3.346258</td>\n",
       "      <td>-2.903088</td>\n",
       "      <td>-2.005761</td>\n",
       "      <td>5.487472</td>\n",
       "      <td>-0.402588</td>\n",
       "      <td>5.502116</td>\n",
       "    </tr>\n",
       "    <tr>\n",
       "      <th>2683</th>\n",
       "      <td>35559</td>\n",
       "      <td>1.3.6.1.4.1.14519.5.2.1.6279.6001.323769537371...</td>\n",
       "      <td>1.3.6.1.4.1.14519.5.2.1.6279.6001.299806338046...</td>\n",
       "      <td>4</td>\n",
       "      <td>2688</td>\n",
       "      <td>present</td>\n",
       "      <td>C:\\LIDC_FULL\\LIDC-IDRI\\LIDC-IDRI-0871\\1.3.6.1....</td>\n",
       "      <td>4</td>\n",
       "      <td>1</td>\n",
       "      <td>6</td>\n",
       "      <td>...</td>\n",
       "      <td>0.528109</td>\n",
       "      <td>-2.443759</td>\n",
       "      <td>3.613519</td>\n",
       "      <td>5.157967</td>\n",
       "      <td>-0.401557</td>\n",
       "      <td>-2.264581</td>\n",
       "      <td>4.815277</td>\n",
       "      <td>-1.387713</td>\n",
       "      <td>-0.522287</td>\n",
       "      <td>-1.254572</td>\n",
       "    </tr>\n",
       "    <tr>\n",
       "      <th>2684</th>\n",
       "      <td>37212</td>\n",
       "      <td>1.3.6.1.4.1.14519.5.2.1.6279.6001.232772963487...</td>\n",
       "      <td>1.3.6.1.4.1.14519.5.2.1.6279.6001.338875090785...</td>\n",
       "      <td>4</td>\n",
       "      <td>2689</td>\n",
       "      <td>present</td>\n",
       "      <td>C:\\LIDC_FULL\\LIDC-IDRI\\LIDC-IDRI-0916\\1.3.6.1....</td>\n",
       "      <td>1</td>\n",
       "      <td>1</td>\n",
       "      <td>6</td>\n",
       "      <td>...</td>\n",
       "      <td>1.710828</td>\n",
       "      <td>-2.952641</td>\n",
       "      <td>4.176023</td>\n",
       "      <td>7.256946</td>\n",
       "      <td>-0.778750</td>\n",
       "      <td>-2.928508</td>\n",
       "      <td>6.510663</td>\n",
       "      <td>-2.376418</td>\n",
       "      <td>-0.569608</td>\n",
       "      <td>-1.775246</td>\n",
       "    </tr>\n",
       "    <tr>\n",
       "      <th>2685</th>\n",
       "      <td>37968</td>\n",
       "      <td>1.3.6.1.4.1.14519.5.2.1.6279.6001.618911015325...</td>\n",
       "      <td>1.3.6.1.4.1.14519.5.2.1.6279.6001.313835996725...</td>\n",
       "      <td>2</td>\n",
       "      <td>2690</td>\n",
       "      <td>present</td>\n",
       "      <td>C:\\LIDC_FULL\\LIDC-IDRI\\LIDC-IDRI-0939\\1.3.6.1....</td>\n",
       "      <td>5</td>\n",
       "      <td>1</td>\n",
       "      <td>6</td>\n",
       "      <td>...</td>\n",
       "      <td>-7.286749</td>\n",
       "      <td>6.407821</td>\n",
       "      <td>-6.462684</td>\n",
       "      <td>-5.537876</td>\n",
       "      <td>4.853304</td>\n",
       "      <td>-4.337426</td>\n",
       "      <td>-3.211644</td>\n",
       "      <td>8.265660</td>\n",
       "      <td>-0.298396</td>\n",
       "      <td>8.983835</td>\n",
       "    </tr>\n",
       "  </tbody>\n",
       "</table>\n",
       "<p>1515 rows × 159 columns</p>\n",
       "</div>"
      ],
      "text/plain": [
       "      InstanceID                                   StudyInstanceUID  \\\n",
       "0              4  1.3.6.1.4.1.14519.5.2.1.6279.6001.298806137288...   \n",
       "1             75  1.3.6.1.4.1.14519.5.2.1.6279.6001.490157381160...   \n",
       "2            134  1.3.6.1.4.1.14519.5.2.1.6279.6001.101370605276...   \n",
       "3            143  1.3.6.1.4.1.14519.5.2.1.6279.6001.101370605276...   \n",
       "4            118  1.3.6.1.4.1.14519.5.2.1.6279.6001.101370605276...   \n",
       "...          ...                                                ...   \n",
       "2681       30321  1.3.6.1.4.1.14519.5.2.1.6279.6001.112366982107...   \n",
       "2682       32539  1.3.6.1.4.1.14519.5.2.1.6279.6001.213747445868...   \n",
       "2683       35559  1.3.6.1.4.1.14519.5.2.1.6279.6001.323769537371...   \n",
       "2684       37212  1.3.6.1.4.1.14519.5.2.1.6279.6001.232772963487...   \n",
       "2685       37968  1.3.6.1.4.1.14519.5.2.1.6279.6001.618911015325...   \n",
       "\n",
       "                                      SeriesInstanceUid  RadiologistID  \\\n",
       "0     1.3.6.1.4.1.14519.5.2.1.6279.6001.179049373636...              1   \n",
       "1     1.3.6.1.4.1.14519.5.2.1.6279.6001.619372068417...              4   \n",
       "2     1.3.6.1.4.1.14519.5.2.1.6279.6001.170706757615...              4   \n",
       "3     1.3.6.1.4.1.14519.5.2.1.6279.6001.170706757615...              4   \n",
       "4     1.3.6.1.4.1.14519.5.2.1.6279.6001.170706757615...              3   \n",
       "...                                                 ...            ...   \n",
       "2681  1.3.6.1.4.1.14519.5.2.1.6279.6001.265453131727...              2   \n",
       "2682  1.3.6.1.4.1.14519.5.2.1.6279.6001.232071262560...              2   \n",
       "2683  1.3.6.1.4.1.14519.5.2.1.6279.6001.299806338046...              4   \n",
       "2684  1.3.6.1.4.1.14519.5.2.1.6279.6001.338875090785...              4   \n",
       "2685  1.3.6.1.4.1.14519.5.2.1.6279.6001.313835996725...              2   \n",
       "\n",
       "      noduleID DicomImage                                           FilePath  \\\n",
       "0            1    present  C:\\LIDC_FULL\\LIDC-IDRI\\LIDC-IDRI-0001\\1.3.6.1....   \n",
       "1            2    present  C:\\LIDC_FULL\\LIDC-IDRI\\LIDC-IDRI-0002\\1.3.6.1....   \n",
       "2            3    present  C:\\LIDC_FULL\\LIDC-IDRI\\LIDC-IDRI-0003\\1.3.6.1....   \n",
       "3            4    present  C:\\LIDC_FULL\\LIDC-IDRI\\LIDC-IDRI-0003\\1.3.6.1....   \n",
       "4            5    present  C:\\LIDC_FULL\\LIDC-IDRI\\LIDC-IDRI-0003\\1.3.6.1....   \n",
       "...        ...        ...                                                ...   \n",
       "2681      2686    present  C:\\LIDC_FULL\\LIDC-IDRI\\LIDC-IDRI-0770\\1.3.6.1....   \n",
       "2682      2687    present  C:\\LIDC_FULL\\LIDC-IDRI\\LIDC-IDRI-0815\\1.3.6.1....   \n",
       "2683      2688    present  C:\\LIDC_FULL\\LIDC-IDRI\\LIDC-IDRI-0871\\1.3.6.1....   \n",
       "2684      2689    present  C:\\LIDC_FULL\\LIDC-IDRI\\LIDC-IDRI-0916\\1.3.6.1....   \n",
       "2685      2690    present  C:\\LIDC_FULL\\LIDC-IDRI\\LIDC-IDRI-0939\\1.3.6.1....   \n",
       "\n",
       "      subtlety  internalStructure  calcification  ...    CNN_27    CNN_28  \\\n",
       "0            5                  1              6  ... -5.395743  1.582677   \n",
       "1            1                  1              6  ... -5.850334  5.002493   \n",
       "2            5                  1              6  ... -4.822973  2.920556   \n",
       "3            3                  1              6  ... -7.574823  7.260141   \n",
       "4            4                  1              6  ... -7.165000  6.356084   \n",
       "...        ...                ...            ...  ...       ...       ...   \n",
       "2681         5                  1              6  ... -4.363398  1.216722   \n",
       "2682         4                  1              6  ... -5.684091  4.747817   \n",
       "2683         4                  1              6  ...  0.528109 -2.443759   \n",
       "2684         1                  1              6  ...  1.710828 -2.952641   \n",
       "2685         5                  1              6  ... -7.286749  6.407821   \n",
       "\n",
       "        CNN_29    CNN_30    CNN_31    CNN_32    CNN_33    CNN_34    CNN_35  \\\n",
       "0    -4.063280 -5.070021  3.163702  5.290330 -2.523472  3.713529 -0.649701   \n",
       "1    -3.661947 -3.624461  3.235335 -3.922062 -2.210064  6.059101 -0.500276   \n",
       "2    -5.047228 -5.552570  3.489042  0.851557 -2.870659  6.073289 -0.647323   \n",
       "3    -6.138217 -6.386428  4.904528 -2.540447 -2.647656  8.163655 -0.035022   \n",
       "4    -6.882338 -5.712488  5.102713 -2.921033 -2.749318  9.136231 -0.171229   \n",
       "...        ...       ...       ...       ...       ...       ...       ...   \n",
       "2681 -3.386296 -4.855748  2.966221  5.028000 -2.105534  4.931665 -0.734520   \n",
       "2682 -3.803551 -3.821561  3.346258 -2.903088 -2.005761  5.487472 -0.402588   \n",
       "2683  3.613519  5.157967 -0.401557 -2.264581  4.815277 -1.387713 -0.522287   \n",
       "2684  4.176023  7.256946 -0.778750 -2.928508  6.510663 -2.376418 -0.569608   \n",
       "2685 -6.462684 -5.537876  4.853304 -4.337426 -3.211644  8.265660 -0.298396   \n",
       "\n",
       "        CNN_36  \n",
       "0     4.314638  \n",
       "1     5.508437  \n",
       "2     6.486247  \n",
       "3     8.056358  \n",
       "4     8.867806  \n",
       "...        ...  \n",
       "2681  4.226719  \n",
       "2682  5.502116  \n",
       "2683 -1.254572  \n",
       "2684 -1.775246  \n",
       "2685  8.983835  \n",
       "\n",
       "[1515 rows x 159 columns]"
      ]
     },
     "execution_count": 99,
     "metadata": {},
     "output_type": "execute_result"
    }
   ],
   "source": [
    "concat_df.drop(columns='Unnamed: 0').to_csv('data/AllFeatures2D_MaxSlice_with_CNN.csv', index=False)"
   ]
  },
  {
   "cell_type": "code",
   "execution_count": null,
   "id": "a31cba2a",
   "metadata": {},
   "outputs": [],
   "source": []
  }
 ],
 "metadata": {
  "accelerator": "GPU",
  "colab": {
   "name": "run_test.ipynb",
   "provenance": []
  },
  "gpuClass": "standard",
  "kernelspec": {
   "display_name": "REU",
   "language": "python",
   "name": "reu"
  },
  "language_info": {
   "codemirror_mode": {
    "name": "ipython",
    "version": 3
   },
   "file_extension": ".py",
   "mimetype": "text/x-python",
   "name": "python",
   "nbconvert_exporter": "python",
   "pygments_lexer": "ipython3",
   "version": "3.9.12"
  },
  "widgets": {
   "application/vnd.jupyter.widget-state+json": {
    "1c91d542815846798625a59fdded01e0": {
     "model_module": "@jupyter-widgets/base",
     "model_module_version": "1.2.0",
     "model_name": "LayoutModel",
     "state": {
      "_model_module": "@jupyter-widgets/base",
      "_model_module_version": "1.2.0",
      "_model_name": "LayoutModel",
      "_view_count": null,
      "_view_module": "@jupyter-widgets/base",
      "_view_module_version": "1.2.0",
      "_view_name": "LayoutView",
      "align_content": null,
      "align_items": null,
      "align_self": null,
      "border": null,
      "bottom": null,
      "display": null,
      "flex": null,
      "flex_flow": null,
      "grid_area": null,
      "grid_auto_columns": null,
      "grid_auto_flow": null,
      "grid_auto_rows": null,
      "grid_column": null,
      "grid_gap": null,
      "grid_row": null,
      "grid_template_areas": null,
      "grid_template_columns": null,
      "grid_template_rows": null,
      "height": null,
      "justify_content": null,
      "justify_items": null,
      "left": null,
      "margin": null,
      "max_height": null,
      "max_width": null,
      "min_height": null,
      "min_width": null,
      "object_fit": null,
      "object_position": null,
      "order": null,
      "overflow": null,
      "overflow_x": null,
      "overflow_y": null,
      "padding": null,
      "right": null,
      "top": null,
      "visibility": null,
      "width": null
     }
    },
    "5adf17f900c949bbb28cedec4f200f41": {
     "model_module": "@jupyter-widgets/controls",
     "model_module_version": "1.5.0",
     "model_name": "ProgressStyleModel",
     "state": {
      "_model_module": "@jupyter-widgets/controls",
      "_model_module_version": "1.5.0",
      "_model_name": "ProgressStyleModel",
      "_view_count": null,
      "_view_module": "@jupyter-widgets/base",
      "_view_module_version": "1.2.0",
      "_view_name": "StyleView",
      "bar_color": null,
      "description_width": ""
     }
    },
    "5ca6ca51ef344b07ad60ab03577c6ffa": {
     "model_module": "@jupyter-widgets/controls",
     "model_module_version": "1.5.0",
     "model_name": "DescriptionStyleModel",
     "state": {
      "_model_module": "@jupyter-widgets/controls",
      "_model_module_version": "1.5.0",
      "_model_name": "DescriptionStyleModel",
      "_view_count": null,
      "_view_module": "@jupyter-widgets/base",
      "_view_module_version": "1.2.0",
      "_view_name": "StyleView",
      "description_width": ""
     }
    },
    "5d829b78f378484483c27c6129dd404f": {
     "model_module": "@jupyter-widgets/controls",
     "model_module_version": "1.5.0",
     "model_name": "HBoxModel",
     "state": {
      "_dom_classes": [],
      "_model_module": "@jupyter-widgets/controls",
      "_model_module_version": "1.5.0",
      "_model_name": "HBoxModel",
      "_view_count": null,
      "_view_module": "@jupyter-widgets/controls",
      "_view_module_version": "1.5.0",
      "_view_name": "HBoxView",
      "box_style": "",
      "children": [
       "IPY_MODEL_e192ae51538a4e718bc1aef4fc59b438",
       "IPY_MODEL_e6b330ae53c140b6a658c8e64e1fe4d3",
       "IPY_MODEL_f00b8d56fb9c42e288b44882d8d268fc"
      ],
      "layout": "IPY_MODEL_5e4f8ffa3eaf4e9ca4aaf45ebbc8e151"
     }
    },
    "5e4f8ffa3eaf4e9ca4aaf45ebbc8e151": {
     "model_module": "@jupyter-widgets/base",
     "model_module_version": "1.2.0",
     "model_name": "LayoutModel",
     "state": {
      "_model_module": "@jupyter-widgets/base",
      "_model_module_version": "1.2.0",
      "_model_name": "LayoutModel",
      "_view_count": null,
      "_view_module": "@jupyter-widgets/base",
      "_view_module_version": "1.2.0",
      "_view_name": "LayoutView",
      "align_content": null,
      "align_items": null,
      "align_self": null,
      "border": null,
      "bottom": null,
      "display": null,
      "flex": null,
      "flex_flow": null,
      "grid_area": null,
      "grid_auto_columns": null,
      "grid_auto_flow": null,
      "grid_auto_rows": null,
      "grid_column": null,
      "grid_gap": null,
      "grid_row": null,
      "grid_template_areas": null,
      "grid_template_columns": null,
      "grid_template_rows": null,
      "height": null,
      "justify_content": null,
      "justify_items": null,
      "left": null,
      "margin": null,
      "max_height": null,
      "max_width": null,
      "min_height": null,
      "min_width": null,
      "object_fit": null,
      "object_position": null,
      "order": null,
      "overflow": null,
      "overflow_x": null,
      "overflow_y": null,
      "padding": null,
      "right": null,
      "top": null,
      "visibility": null,
      "width": null
     }
    },
    "736189395de54b0b8404f85ce77aca0f": {
     "model_module": "@jupyter-widgets/controls",
     "model_module_version": "1.5.0",
     "model_name": "DescriptionStyleModel",
     "state": {
      "_model_module": "@jupyter-widgets/controls",
      "_model_module_version": "1.5.0",
      "_model_name": "DescriptionStyleModel",
      "_view_count": null,
      "_view_module": "@jupyter-widgets/base",
      "_view_module_version": "1.2.0",
      "_view_name": "StyleView",
      "description_width": ""
     }
    },
    "b5603b9bfb1c41f2a24381a23cf9c2b4": {
     "model_module": "@jupyter-widgets/base",
     "model_module_version": "1.2.0",
     "model_name": "LayoutModel",
     "state": {
      "_model_module": "@jupyter-widgets/base",
      "_model_module_version": "1.2.0",
      "_model_name": "LayoutModel",
      "_view_count": null,
      "_view_module": "@jupyter-widgets/base",
      "_view_module_version": "1.2.0",
      "_view_name": "LayoutView",
      "align_content": null,
      "align_items": null,
      "align_self": null,
      "border": null,
      "bottom": null,
      "display": null,
      "flex": null,
      "flex_flow": null,
      "grid_area": null,
      "grid_auto_columns": null,
      "grid_auto_flow": null,
      "grid_auto_rows": null,
      "grid_column": null,
      "grid_gap": null,
      "grid_row": null,
      "grid_template_areas": null,
      "grid_template_columns": null,
      "grid_template_rows": null,
      "height": null,
      "justify_content": null,
      "justify_items": null,
      "left": null,
      "margin": null,
      "max_height": null,
      "max_width": null,
      "min_height": null,
      "min_width": null,
      "object_fit": null,
      "object_position": null,
      "order": null,
      "overflow": null,
      "overflow_x": null,
      "overflow_y": null,
      "padding": null,
      "right": null,
      "top": null,
      "visibility": null,
      "width": "20px"
     }
    },
    "e192ae51538a4e718bc1aef4fc59b438": {
     "model_module": "@jupyter-widgets/controls",
     "model_module_version": "1.5.0",
     "model_name": "HTMLModel",
     "state": {
      "_dom_classes": [],
      "_model_module": "@jupyter-widgets/controls",
      "_model_module_version": "1.5.0",
      "_model_name": "HTMLModel",
      "_view_count": null,
      "_view_module": "@jupyter-widgets/controls",
      "_view_module_version": "1.5.0",
      "_view_name": "HTMLView",
      "description": "",
      "description_tooltip": null,
      "layout": "IPY_MODEL_1c91d542815846798625a59fdded01e0",
      "placeholder": "​",
      "style": "IPY_MODEL_736189395de54b0b8404f85ce77aca0f",
      "value": ""
     }
    },
    "e6b330ae53c140b6a658c8e64e1fe4d3": {
     "model_module": "@jupyter-widgets/controls",
     "model_module_version": "1.5.0",
     "model_name": "FloatProgressModel",
     "state": {
      "_dom_classes": [],
      "_model_module": "@jupyter-widgets/controls",
      "_model_module_version": "1.5.0",
      "_model_name": "FloatProgressModel",
      "_view_count": null,
      "_view_module": "@jupyter-widgets/controls",
      "_view_module_version": "1.5.0",
      "_view_name": "ProgressView",
      "bar_style": "success",
      "description": "",
      "description_tooltip": null,
      "layout": "IPY_MODEL_b5603b9bfb1c41f2a24381a23cf9c2b4",
      "max": 1,
      "min": 0,
      "orientation": "horizontal",
      "style": "IPY_MODEL_5adf17f900c949bbb28cedec4f200f41",
      "value": 1
     }
    },
    "f00b8d56fb9c42e288b44882d8d268fc": {
     "model_module": "@jupyter-widgets/controls",
     "model_module_version": "1.5.0",
     "model_name": "HTMLModel",
     "state": {
      "_dom_classes": [],
      "_model_module": "@jupyter-widgets/controls",
      "_model_module_version": "1.5.0",
      "_model_name": "HTMLModel",
      "_view_count": null,
      "_view_module": "@jupyter-widgets/controls",
      "_view_module_version": "1.5.0",
      "_view_name": "HTMLView",
      "description": "",
      "description_tooltip": null,
      "layout": "IPY_MODEL_fcb517860d194984b7ab48b97aa82ae2",
      "placeholder": "​",
      "style": "IPY_MODEL_5ca6ca51ef344b07ad60ab03577c6ffa",
      "value": " 489291776/? [01:47&lt;00:00, 4873979.34Byte/s]"
     }
    },
    "fcb517860d194984b7ab48b97aa82ae2": {
     "model_module": "@jupyter-widgets/base",
     "model_module_version": "1.2.0",
     "model_name": "LayoutModel",
     "state": {
      "_model_module": "@jupyter-widgets/base",
      "_model_module_version": "1.2.0",
      "_model_name": "LayoutModel",
      "_view_count": null,
      "_view_module": "@jupyter-widgets/base",
      "_view_module_version": "1.2.0",
      "_view_name": "LayoutView",
      "align_content": null,
      "align_items": null,
      "align_self": null,
      "border": null,
      "bottom": null,
      "display": null,
      "flex": null,
      "flex_flow": null,
      "grid_area": null,
      "grid_auto_columns": null,
      "grid_auto_flow": null,
      "grid_auto_rows": null,
      "grid_column": null,
      "grid_gap": null,
      "grid_row": null,
      "grid_template_areas": null,
      "grid_template_columns": null,
      "grid_template_rows": null,
      "height": null,
      "justify_content": null,
      "justify_items": null,
      "left": null,
      "margin": null,
      "max_height": null,
      "max_width": null,
      "min_height": null,
      "min_width": null,
      "object_fit": null,
      "object_position": null,
      "order": null,
      "overflow": null,
      "overflow_x": null,
      "overflow_y": null,
      "padding": null,
      "right": null,
      "top": null,
      "visibility": null,
      "width": null
     }
    }
   }
  }
 },
 "nbformat": 4,
 "nbformat_minor": 5
}
