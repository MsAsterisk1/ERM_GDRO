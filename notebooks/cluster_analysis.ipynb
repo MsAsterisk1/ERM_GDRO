{
 "cells": [
  {
   "cell_type": "code",
   "execution_count": 3,
   "id": "1feafc36",
   "metadata": {},
   "outputs": [],
   "source": [
    "import pandas as pd"
   ]
  },
  {
   "cell_type": "code",
   "execution_count": 8,
   "id": "0214d234",
   "metadata": {},
   "outputs": [],
   "source": [
    "cluster = pd.read_csv('../data/LIDC_data_split_with_cluster_of_10.csv', index_col=0)\n",
    "cluster_m = cluster[cluster['malignancy_b'] == 1]"
   ]
  },
  {
   "cell_type": "code",
   "execution_count": 9,
   "id": "8d5caee0",
   "metadata": {},
   "outputs": [
    {
     "data": {
      "text/html": [
       "<div>\n",
       "<style scoped>\n",
       "    .dataframe tbody tr th:only-of-type {\n",
       "        vertical-align: middle;\n",
       "    }\n",
       "\n",
       "    .dataframe tbody tr th {\n",
       "        vertical-align: top;\n",
       "    }\n",
       "\n",
       "    .dataframe thead th {\n",
       "        text-align: right;\n",
       "    }\n",
       "</style>\n",
       "<table border=\"1\" class=\"dataframe\">\n",
       "  <thead>\n",
       "    <tr style=\"text-align: right;\">\n",
       "      <th></th>\n",
       "      <th>noduleID</th>\n",
       "      <th>spic_groups</th>\n",
       "      <th>malignancy</th>\n",
       "      <th>malignancy_b</th>\n",
       "      <th>split</th>\n",
       "      <th>cluster1</th>\n",
       "      <th>cluster2</th>\n",
       "      <th>cluster3</th>\n",
       "      <th>cluster4</th>\n",
       "      <th>cluster5</th>\n",
       "      <th>cluster6</th>\n",
       "      <th>cluster7</th>\n",
       "      <th>cluster8</th>\n",
       "      <th>cluster9</th>\n",
       "      <th>cluster10</th>\n",
       "      <th>cluster_mode</th>\n",
       "    </tr>\n",
       "  </thead>\n",
       "  <tbody>\n",
       "    <tr>\n",
       "      <th>0</th>\n",
       "      <td>1</td>\n",
       "      <td>2</td>\n",
       "      <td>3</td>\n",
       "      <td>1</td>\n",
       "      <td>0</td>\n",
       "      <td>2</td>\n",
       "      <td>1</td>\n",
       "      <td>1</td>\n",
       "      <td>1</td>\n",
       "      <td>1</td>\n",
       "      <td>1</td>\n",
       "      <td>1</td>\n",
       "      <td>1</td>\n",
       "      <td>1</td>\n",
       "      <td>2</td>\n",
       "      <td>1</td>\n",
       "    </tr>\n",
       "    <tr>\n",
       "      <th>1</th>\n",
       "      <td>2</td>\n",
       "      <td>3</td>\n",
       "      <td>3</td>\n",
       "      <td>1</td>\n",
       "      <td>0</td>\n",
       "      <td>1</td>\n",
       "      <td>2</td>\n",
       "      <td>2</td>\n",
       "      <td>2</td>\n",
       "      <td>2</td>\n",
       "      <td>2</td>\n",
       "      <td>2</td>\n",
       "      <td>2</td>\n",
       "      <td>2</td>\n",
       "      <td>1</td>\n",
       "      <td>2</td>\n",
       "    </tr>\n",
       "    <tr>\n",
       "      <th>2</th>\n",
       "      <td>3</td>\n",
       "      <td>2</td>\n",
       "      <td>3</td>\n",
       "      <td>1</td>\n",
       "      <td>1</td>\n",
       "      <td>2</td>\n",
       "      <td>1</td>\n",
       "      <td>1</td>\n",
       "      <td>1</td>\n",
       "      <td>1</td>\n",
       "      <td>1</td>\n",
       "      <td>1</td>\n",
       "      <td>1</td>\n",
       "      <td>1</td>\n",
       "      <td>2</td>\n",
       "      <td>1</td>\n",
       "    </tr>\n",
       "    <tr>\n",
       "      <th>3</th>\n",
       "      <td>4</td>\n",
       "      <td>2</td>\n",
       "      <td>2</td>\n",
       "      <td>1</td>\n",
       "      <td>0</td>\n",
       "      <td>1</td>\n",
       "      <td>1</td>\n",
       "      <td>2</td>\n",
       "      <td>2</td>\n",
       "      <td>2</td>\n",
       "      <td>2</td>\n",
       "      <td>1</td>\n",
       "      <td>2</td>\n",
       "      <td>2</td>\n",
       "      <td>1</td>\n",
       "      <td>2</td>\n",
       "    </tr>\n",
       "    <tr>\n",
       "      <th>4</th>\n",
       "      <td>5</td>\n",
       "      <td>2</td>\n",
       "      <td>2</td>\n",
       "      <td>1</td>\n",
       "      <td>2</td>\n",
       "      <td>1</td>\n",
       "      <td>2</td>\n",
       "      <td>2</td>\n",
       "      <td>2</td>\n",
       "      <td>2</td>\n",
       "      <td>2</td>\n",
       "      <td>2</td>\n",
       "      <td>2</td>\n",
       "      <td>2</td>\n",
       "      <td>2</td>\n",
       "      <td>2</td>\n",
       "    </tr>\n",
       "  </tbody>\n",
       "</table>\n",
       "</div>"
      ],
      "text/plain": [
       "   noduleID  spic_groups  malignancy  malignancy_b  split  cluster1  cluster2  \\\n",
       "0         1            2           3             1      0         2         1   \n",
       "1         2            3           3             1      0         1         2   \n",
       "2         3            2           3             1      1         2         1   \n",
       "3         4            2           2             1      0         1         1   \n",
       "4         5            2           2             1      2         1         2   \n",
       "\n",
       "   cluster3  cluster4  cluster5  cluster6  cluster7  cluster8  cluster9  \\\n",
       "0         1         1         1         1         1         1         1   \n",
       "1         2         2         2         2         2         2         2   \n",
       "2         1         1         1         1         1         1         1   \n",
       "3         2         2         2         2         1         2         2   \n",
       "4         2         2         2         2         2         2         2   \n",
       "\n",
       "   cluster10  cluster_mode  \n",
       "0          2             1  \n",
       "1          1             2  \n",
       "2          2             1  \n",
       "3          1             2  \n",
       "4          2             2  "
      ]
     },
     "execution_count": 9,
     "metadata": {},
     "output_type": "execute_result"
    }
   ],
   "source": [
    "cluster_m.head()"
   ]
  },
  {
   "cell_type": "code",
   "execution_count": 10,
   "id": "46f04094",
   "metadata": {},
   "outputs": [
    {
     "data": {
      "text/plain": [
       "236"
      ]
     },
     "execution_count": 10,
     "metadata": {},
     "output_type": "execute_result"
    }
   ],
   "source": [
    "sum(cluster_m['cluster_mode'] == 1)"
   ]
  },
  {
   "cell_type": "code",
   "execution_count": 27,
   "id": "9ee61a7a",
   "metadata": {},
   "outputs": [
    {
     "data": {
      "text/plain": [
       "158"
      ]
     },
     "execution_count": 27,
     "metadata": {},
     "output_type": "execute_result"
    }
   ],
   "source": [
    "sum((cluster_m['cluster_mode'] == 1) & (cluster_m['malignancy'] == 3))"
   ]
  },
  {
   "cell_type": "code",
   "execution_count": 31,
   "id": "e6aba14e",
   "metadata": {},
   "outputs": [
    {
     "data": {
      "text/plain": [
       "78"
      ]
     },
     "execution_count": 31,
     "metadata": {},
     "output_type": "execute_result"
    }
   ],
   "source": [
    "sum((cluster_m['cluster_mode'] == 1) & (cluster_m['malignancy'] == 2))"
   ]
  },
  {
   "cell_type": "code",
   "execution_count": 28,
   "id": "722ef732",
   "metadata": {},
   "outputs": [
    {
     "data": {
      "text/plain": [
       "77"
      ]
     },
     "execution_count": 28,
     "metadata": {},
     "output_type": "execute_result"
    }
   ],
   "source": [
    "sum((cluster_m['cluster_mode'] == 2) & (cluster_m['malignancy'] == 3))"
   ]
  },
  {
   "cell_type": "code",
   "execution_count": 29,
   "id": "ad70b1bc",
   "metadata": {},
   "outputs": [
    {
     "data": {
      "text/plain": [
       "278"
      ]
     },
     "execution_count": 29,
     "metadata": {},
     "output_type": "execute_result"
    }
   ],
   "source": [
    "sum((cluster_m['cluster_mode'] == 2) & (cluster_m['malignancy'] == 2))"
   ]
  },
  {
   "cell_type": "code",
   "execution_count": 34,
   "id": "d153da58",
   "metadata": {},
   "outputs": [
    {
     "data": {
      "text/plain": [
       "Index(['noduleID', 'spic_groups', 'malignancy', 'malignancy_b', 'split',\n",
       "       'cluster1', 'cluster2', 'cluster3', 'cluster4', 'cluster5', 'cluster6',\n",
       "       'cluster7', 'cluster8', 'cluster9', 'cluster10', 'cluster_mode'],\n",
       "      dtype='object')"
      ]
     },
     "execution_count": 34,
     "metadata": {},
     "output_type": "execute_result"
    }
   ],
   "source": [
    "cluster_m.columns"
   ]
  },
  {
   "cell_type": "code",
   "execution_count": 60,
   "id": "2f495078",
   "metadata": {},
   "outputs": [],
   "source": [
    "a = cluster_m.drop(['noduleID', 'spic_groups', 'malignancy', 'malignancy_b', 'split', 'cluster_mode', 'cluster1','cluster10'], axis=1).mean(axis=1)"
   ]
  },
  {
   "cell_type": "code",
   "execution_count": 61,
   "id": "077bcc2d",
   "metadata": {},
   "outputs": [
    {
     "data": {
      "text/plain": [
       "0    2\n",
       "Name: malignancy, dtype: int64"
      ]
     },
     "execution_count": 61,
     "metadata": {},
     "output_type": "execute_result"
    }
   ],
   "source": [
    "cluster_m[a>1.6]['malignancy'].mode()"
   ]
  },
  {
   "cell_type": "code",
   "execution_count": 45,
   "id": "3e510f4b",
   "metadata": {},
   "outputs": [
    {
     "data": {
      "text/plain": [
       "591"
      ]
     },
     "execution_count": 45,
     "metadata": {},
     "output_type": "execute_result"
    }
   ],
   "source": [
    "len(a)"
   ]
  }
 ],
 "metadata": {
  "kernelspec": {
   "display_name": "REU",
   "language": "python",
   "name": "reu"
  },
  "language_info": {
   "codemirror_mode": {
    "name": "ipython",
    "version": 3
   },
   "file_extension": ".py",
   "mimetype": "text/x-python",
   "name": "python",
   "nbconvert_exporter": "python",
   "pygments_lexer": "ipython3",
   "version": "3.10.5"
  }
 },
 "nbformat": 4,
 "nbformat_minor": 5
}
