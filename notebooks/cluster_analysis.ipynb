{
 "cells": [
  {
   "cell_type": "code",
   "execution_count": 3,
   "id": "9797691a",
   "metadata": {},
   "outputs": [],
   "source": [
    "import pandas as pd"
   ]
  },
  {
   "cell_type": "code",
   "execution_count": 8,
   "id": "564f8525",
   "metadata": {},
   "outputs": [],
   "source": [
    "cluster = pd.read_csv('../data/LIDC_data_split_with_cluster_of_10.csv', index_col=0)\n",
    "cluster_m = cluster[cluster['malignancy_b'] == 1]"
   ]
  },
  {
   "cell_type": "code",
   "execution_count": 9,
   "id": "c3baff68",
   "metadata": {},
   "outputs": [
    {
     "data": {
      "text/html": [
       "<div>\n",
       "<style scoped>\n",
       "    .dataframe tbody tr th:only-of-type {\n",
       "        vertical-align: middle;\n",
       "    }\n",
       "\n",
       "    .dataframe tbody tr th {\n",
       "        vertical-align: top;\n",
       "    }\n",
       "\n",
       "    .dataframe thead th {\n",
       "        text-align: right;\n",
       "    }\n",
       "</style>\n",
       "<table border=\"1\" class=\"dataframe\">\n",
       "  <thead>\n",
       "    <tr style=\"text-align: right;\">\n",
       "      <th></th>\n",
       "      <th>noduleID</th>\n",
       "      <th>spic_groups</th>\n",
       "      <th>malignancy</th>\n",
       "      <th>malignancy_b</th>\n",
       "      <th>split</th>\n",
       "      <th>cluster1</th>\n",
       "      <th>cluster2</th>\n",
       "      <th>cluster3</th>\n",
       "      <th>cluster4</th>\n",
       "      <th>cluster5</th>\n",
       "      <th>cluster6</th>\n",
       "      <th>cluster7</th>\n",
       "      <th>cluster8</th>\n",
       "      <th>cluster9</th>\n",
       "      <th>cluster10</th>\n",
       "      <th>cluster_mode</th>\n",
       "    </tr>\n",
       "  </thead>\n",
       "  <tbody>\n",
       "    <tr>\n",
       "      <th>0</th>\n",
       "      <td>1</td>\n",
       "      <td>2</td>\n",
       "      <td>3</td>\n",
       "      <td>1</td>\n",
       "      <td>0</td>\n",
       "      <td>2</td>\n",
       "      <td>1</td>\n",
       "      <td>1</td>\n",
       "      <td>1</td>\n",
       "      <td>1</td>\n",
       "      <td>1</td>\n",
       "      <td>1</td>\n",
       "      <td>1</td>\n",
       "      <td>1</td>\n",
       "      <td>2</td>\n",
       "      <td>1</td>\n",
       "    </tr>\n",
       "    <tr>\n",
       "      <th>1</th>\n",
       "      <td>2</td>\n",
       "      <td>3</td>\n",
       "      <td>3</td>\n",
       "      <td>1</td>\n",
       "      <td>0</td>\n",
       "      <td>1</td>\n",
       "      <td>2</td>\n",
       "      <td>2</td>\n",
       "      <td>2</td>\n",
       "      <td>2</td>\n",
       "      <td>2</td>\n",
       "      <td>2</td>\n",
       "      <td>2</td>\n",
       "      <td>2</td>\n",
       "      <td>1</td>\n",
       "      <td>2</td>\n",
       "    </tr>\n",
       "    <tr>\n",
       "      <th>2</th>\n",
       "      <td>3</td>\n",
       "      <td>2</td>\n",
       "      <td>3</td>\n",
       "      <td>1</td>\n",
       "      <td>1</td>\n",
       "      <td>2</td>\n",
       "      <td>1</td>\n",
       "      <td>1</td>\n",
       "      <td>1</td>\n",
       "      <td>1</td>\n",
       "      <td>1</td>\n",
       "      <td>1</td>\n",
       "      <td>1</td>\n",
       "      <td>1</td>\n",
       "      <td>2</td>\n",
       "      <td>1</td>\n",
       "    </tr>\n",
       "    <tr>\n",
       "      <th>3</th>\n",
       "      <td>4</td>\n",
       "      <td>2</td>\n",
       "      <td>2</td>\n",
       "      <td>1</td>\n",
       "      <td>0</td>\n",
       "      <td>1</td>\n",
       "      <td>1</td>\n",
       "      <td>2</td>\n",
       "      <td>2</td>\n",
       "      <td>2</td>\n",
       "      <td>2</td>\n",
       "      <td>1</td>\n",
       "      <td>2</td>\n",
       "      <td>2</td>\n",
       "      <td>1</td>\n",
       "      <td>2</td>\n",
       "    </tr>\n",
       "    <tr>\n",
       "      <th>4</th>\n",
       "      <td>5</td>\n",
       "      <td>2</td>\n",
       "      <td>2</td>\n",
       "      <td>1</td>\n",
       "      <td>2</td>\n",
       "      <td>1</td>\n",
       "      <td>2</td>\n",
       "      <td>2</td>\n",
       "      <td>2</td>\n",
       "      <td>2</td>\n",
       "      <td>2</td>\n",
       "      <td>2</td>\n",
       "      <td>2</td>\n",
       "      <td>2</td>\n",
       "      <td>2</td>\n",
       "      <td>2</td>\n",
       "    </tr>\n",
       "  </tbody>\n",
       "</table>\n",
       "</div>"
      ],
      "text/plain": [
       "   noduleID  spic_groups  malignancy  malignancy_b  split  cluster1  cluster2  \\\n",
       "0         1            2           3             1      0         2         1   \n",
       "1         2            3           3             1      0         1         2   \n",
       "2         3            2           3             1      1         2         1   \n",
       "3         4            2           2             1      0         1         1   \n",
       "4         5            2           2             1      2         1         2   \n",
       "\n",
       "   cluster3  cluster4  cluster5  cluster6  cluster7  cluster8  cluster9  \\\n",
       "0         1         1         1         1         1         1         1   \n",
       "1         2         2         2         2         2         2         2   \n",
       "2         1         1         1         1         1         1         1   \n",
       "3         2         2         2         2         1         2         2   \n",
       "4         2         2         2         2         2         2         2   \n",
       "\n",
       "   cluster10  cluster_mode  \n",
       "0          2             1  \n",
       "1          1             2  \n",
       "2          2             1  \n",
       "3          1             2  \n",
       "4          2             2  "
      ]
     },
     "execution_count": 9,
     "metadata": {},
     "output_type": "execute_result"
    }
   ],
   "source": [
    "cluster_m.head()"
   ]
  },
  {
   "cell_type": "code",
   "execution_count": 10,
   "id": "01c419bc",
   "metadata": {},
   "outputs": [
    {
     "data": {
      "text/plain": [
       "236"
      ]
     },
     "execution_count": 10,
     "metadata": {},
     "output_type": "execute_result"
    }
   ],
   "source": [
    "sum(cluster_m['cluster_mode'] == 1)"
   ]
  },
  {
   "cell_type": "code",
   "execution_count": 27,
   "id": "fb77130a",
   "metadata": {},
   "outputs": [
    {
     "data": {
      "text/plain": [
       "158"
      ]
     },
     "execution_count": 27,
     "metadata": {},
     "output_type": "execute_result"
    }
   ],
   "source": [
    "sum((cluster_m['cluster_mode'] == 1) & (cluster_m['malignancy'] == 3))"
   ]
  },
  {
   "cell_type": "code",
   "execution_count": 31,
   "id": "f87b174e",
   "metadata": {},
   "outputs": [
    {
     "data": {
      "text/plain": [
       "78"
      ]
     },
     "execution_count": 31,
     "metadata": {},
     "output_type": "execute_result"
    }
   ],
   "source": [
    "sum((cluster_m['cluster_mode'] == 1) & (cluster_m['malignancy'] == 2))"
   ]
  },
  {
   "cell_type": "code",
   "execution_count": 28,
   "id": "978780be",
   "metadata": {},
   "outputs": [
    {
     "data": {
      "text/plain": [
       "77"
      ]
     },
     "execution_count": 28,
     "metadata": {},
     "output_type": "execute_result"
    }
   ],
   "source": [
    "sum((cluster_m['cluster_mode'] == 2) & (cluster_m['malignancy'] == 3))"
   ]
  },
  {
   "cell_type": "code",
   "execution_count": 29,
   "id": "d6d8ee94",
   "metadata": {},
   "outputs": [
    {
     "data": {
      "text/plain": [
       "278"
      ]
     },
     "execution_count": 29,
     "metadata": {},
     "output_type": "execute_result"
    }
   ],
   "source": [
    "sum((cluster_m['cluster_mode'] == 2) & (cluster_m['malignancy'] == 2))"
   ]
  },
  {
   "cell_type": "code",
   "execution_count": 34,
   "id": "16b85695",
   "metadata": {},
   "outputs": [
    {
     "data": {
      "text/plain": [
       "Index(['noduleID', 'spic_groups', 'malignancy', 'malignancy_b', 'split',\n",
       "       'cluster1', 'cluster2', 'cluster3', 'cluster4', 'cluster5', 'cluster6',\n",
       "       'cluster7', 'cluster8', 'cluster9', 'cluster10', 'cluster_mode'],\n",
       "      dtype='object')"
      ]
     },
     "execution_count": 34,
     "metadata": {},
     "output_type": "execute_result"
    }
   ],
   "source": [
    "cluster_m.columns"
   ]
  },
  {
   "cell_type": "code",
   "execution_count": 40,
   "id": "d157ff13",
   "metadata": {},
   "outputs": [
    {
     "data": {
      "text/plain": [
       "cluster1  cluster2  cluster3  cluster4  cluster5  cluster6  cluster7  cluster8  cluster9  cluster10\n",
       "1         2         2         2         2         2         2         2         2         1            64\n",
       "2         1         1         1         1         1         1         1         1         2            50\n",
       "1         1         2         2         2         2         2         2         2         1            31\n",
       "                                                            1         2         2         2            24\n",
       "                                                            2         2         2         2            19\n",
       "                                                                                                       ..\n",
       "                    1         2         2         2         1         1         1         2             1\n",
       "                                                                      2         2         1             1\n",
       "2         1         1         1         1         1         1         2         1         2             1\n",
       "1         1         1         2         2         2         2         1         1         2             1\n",
       "2         1         1         2         1         2         2         2         2         2             1\n",
       "Length: 190, dtype: int64"
      ]
     },
     "execution_count": 40,
     "metadata": {},
     "output_type": "execute_result"
    }
   ],
   "source": [
    "cluster_m.drop(['noduleID', 'spic_groups', 'malignancy', 'malignancy_b', 'split', 'cluster_mode'], axis=1).value_counts()"
   ]
  }
 ],
 "metadata": {
  "kernelspec": {
   "display_name": "REU",
   "language": "python",
   "name": "reu"
  },
  "language_info": {
   "codemirror_mode": {
    "name": "ipython",
    "version": 3
   },
   "file_extension": ".py",
   "mimetype": "text/x-python",
   "name": "python",
   "nbconvert_exporter": "python",
   "pygments_lexer": "ipython3",
   "version": "3.10.5"
  }
 },
 "nbformat": 4,
 "nbformat_minor": 5
}
