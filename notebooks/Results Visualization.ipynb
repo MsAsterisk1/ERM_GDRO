{
 "cells": [
  {
   "cell_type": "code",
   "execution_count": null,
   "id": "f3e227b8",
   "metadata": {
    "id": "f3e227b8"
   },
   "outputs": [],
   "source": [
    "%load_ext autoreload\n",
    "%autoreload 2"
   ]
  },
  {
   "cell_type": "code",
   "execution_count": null,
   "id": "3261d496",
   "metadata": {
    "colab": {
     "base_uri": "https://localhost:8080/"
    },
    "id": "3261d496",
    "outputId": "9206134a-1091-4601-e9cb-c2253cfeb2cf"
   },
   "outputs": [],
   "source": [
    "# For use on local machine\n",
    "%cd .."
   ]
  },
  {
   "cell_type": "code",
   "execution_count": null,
   "id": "5KmIQPaa0vb3",
   "metadata": {
    "colab": {
     "base_uri": "https://localhost:8080/"
    },
    "id": "5KmIQPaa0vb3",
    "outputId": "57d5c383-e059-4d1e-f932-964e5d0f6c5b"
   },
   "outputs": [],
   "source": [
    "# # For use in google colab\n",
    "# !git clone https://github.com/mtzig/LIDC_GDRO.git\n",
    "# %cd LIDC_GDRO/"
   ]
  },
  {
   "cell_type": "markdown",
   "id": "92f6d8e1",
   "metadata": {
    "id": "92f6d8e1"
   },
   "source": [
    "# Results Visualization\n",
    "\n",
    "Data loading and plotting functions to visualize the results given by run.py  \n",
    "Put the path of the folder containing the results in load_dir and run the cells to see results"
   ]
  },
  {
   "cell_type": "markdown",
   "id": "048fed7c",
   "metadata": {},
   "source": [
    "## Defining functions & parameters"
   ]
  },
  {
   "cell_type": "code",
   "execution_count": null,
   "id": "c1550ad5",
   "metadata": {
    "id": "c1550ad5"
   },
   "outputs": [],
   "source": [
    "import matplotlib.pyplot as plt\n",
    "import pandas as pd\n",
    "\n",
    "# .csv to load results from\n",
    "load_path = 'test_results/LIDC_deep_features_CNN_clusters/accuracies.csv'"
   ]
  },
  {
   "cell_type": "code",
   "execution_count": null,
   "id": "b3ace5d7",
   "metadata": {
    "id": "b3ace5d7",
    "scrolled": false
   },
   "outputs": [],
   "source": [
    "def plot_acc(drop_epochs=[], std_margin=0):\n",
    "    loaded_accuracies = pd.read_csv(load_path)\n",
    "    N = max(loaded_accuracies[\"trial\"]) + 1\n",
    "    epochs = max(loaded_accuracies[\"epoch\"]) + 1\n",
    "    subtypes = list(loaded_accuracies[\"subtype\"].unique())\n",
    "    algorithms = loaded_accuracies.columns\n",
    "\n",
    "    results = loaded_accuracies.drop(columns=[\"trial\", \"epoch\", \"subtype\"]).to_dict('list')\n",
    "    results_df = pd.DataFrame(results, index=pd.MultiIndex.from_product([range(N), range(epochs), subtypes], names=[\"trial\", \"epoch\", \"subtype\"]))\n",
    "    \n",
    "    trial_means = results_df.stack().unstack(level=0).mean(axis=1).unstack(level=2)\n",
    "    trial_stds = results_df.stack().unstack(level=0).std(axis=1).unstack(level=2)\n",
    "\n",
    "    trial_means.drop(drop_epochs, level=0, axis=0, inplace=True)\n",
    "    # reindex epochs from 1\n",
    "    trial_means.index = pd.MultiIndex.from_tuples(zip(trial_means.index.get_level_values(0) + 1, trial_means.index.get_level_values(1)), names=[\"epoch\", \"subtype\"])\n",
    "    trial_stds.index = pd.MultiIndex.from_tuples(zip(trial_stds.index.get_level_values(0) + 1, trial_stds.index.get_level_values(1)), names=[\"epoch\", \"subtype\"])\n",
    "\n",
    "    hide = []\n",
    "\n",
    "    f, a = plt.subplots(len(subtypes), 1)\n",
    "\n",
    "    # plot subtypes sensitivity\n",
    "\n",
    "    for i in range(len(subtypes)):\n",
    "        plot_data = trial_means.drop(columns=hide).xs(subtypes[i], level=1)\n",
    "        plot_data.plot(ylim=[0.5,1],xlabel=\"Epoch\",ylabel=\"Accuracy\",kind='line',title=subtypes[i],ax=a[i],figsize=(24, 6 * len(subtypes)),grid=True)\n",
    "        plot_stds = trial_stds.drop(columns=hide).xs(key=subtypes[i], level=1)\n",
    "        for col in plot_data.columns:\n",
    "            a[i].fill_between(list(plot_data.index), plot_data[col] + 2 * plot_stds[col], plot_data[col] - 2 * plot_stds[col], alpha=0.25)\n",
    "        "
   ]
  },
  {
   "cell_type": "code",
   "execution_count": null,
   "id": "E4X11ykAAunM",
   "metadata": {
    "colab": {
     "base_uri": "https://localhost:8080/",
     "height": 1000
    },
    "id": "E4X11ykAAunM",
    "outputId": "59725333-309d-4151-c19b-74974e9b66e1"
   },
   "outputs": [],
   "source": [
    "# statisitical tests comparing to ERM\n",
    "from scipy.stats import ttest_ind\n",
    "\n",
    "def ttest(p_threshold=0.05):\n",
    "    print(f't-tests with significance threshold p<{p_threshold}\\n')\n",
    "    ttest_dataframes = {}\n",
    "\n",
    "    loaded_accuracies = pd.read_csv(load_path)\n",
    "    N = max(loaded_accuracies[\"trial\"]) + 1\n",
    "    epochs = max(loaded_accuracies[\"epoch\"]) + 1\n",
    "    subtypes = list(loaded_accuracies[\"subtype\"].unique())\n",
    "    algorithms = loaded_accuracies.columns\n",
    "\n",
    "    results = loaded_accuracies.drop(columns=[\"subtype\", \"epoch\", \"trial\"]).to_dict('list')\n",
    "    results_df = pd.DataFrame(results, index=pd.MultiIndex.from_product([range(N), range(epochs), subtypes], names=[\"trial\", \"epoch\", \"subtype\"]))\n",
    "\n",
    "    for s in range(len(subtypes)):\n",
    "        epoch = epochs - 1\n",
    "\n",
    "        subtype_data = results_df.xs(subtypes[s], level=2).xs(epoch, level=1)\n",
    "        erm_data = subtype_data[\"ERMLoss\"].values\n",
    "\n",
    "        print(subtypes[s])\n",
    "        for algorithm in results_df.columns:\n",
    "            if algorithm != \"ERMLoss\":\n",
    "                algorithm_data = subtype_data[algorithm].values\n",
    "                stat, p = ttest_ind(algorithm_data, erm_data)\n",
    "\n",
    "                print(f'ERMLoss: {erm_data.mean()}')\n",
    "                print(f'{algorithm}: {algorithm_data.mean()}')\n",
    "                if p < p_threshold:\n",
    "                    print(f'{algorithm if stat > 0 else \"ERMLoss\"} greater with p = {p:.3f}')\n",
    "                else:\n",
    "                    print(f'No significant difference with p = {p:.3f}')\n",
    "                print()"
   ]
  },
  {
   "cell_type": "markdown",
   "id": "87a465c5",
   "metadata": {},
   "source": [
    "## Show results"
   ]
  },
  {
   "cell_type": "code",
   "execution_count": null,
   "id": "6e1b8ce6",
   "metadata": {
    "colab": {
     "base_uri": "https://localhost:8080/",
     "height": 1000
    },
    "id": "6e1b8ce6",
    "outputId": "b1538dcf-ce63-45fc-e591-4b2cbc3c4f58",
    "scrolled": false
   },
   "outputs": [],
   "source": [
    "plot_acc(std_margin=2)"
   ]
  },
  {
   "cell_type": "code",
   "execution_count": null,
   "id": "6bbb74bb",
   "metadata": {},
   "outputs": [],
   "source": [
    "ttest(p_threshold=0.05)"
   ]
  }
 ],
 "metadata": {
  "accelerator": "GPU",
  "colab": {
   "name": "run_test.ipynb",
   "provenance": []
  },
  "gpuClass": "standard",
  "kernelspec": {
   "display_name": "REU",
   "language": "python",
   "name": "reu"
  },
  "language_info": {
   "codemirror_mode": {
    "name": "ipython",
    "version": 3
   },
   "file_extension": ".py",
   "mimetype": "text/x-python",
   "name": "python",
   "nbconvert_exporter": "python",
   "pygments_lexer": "ipython3",
   "version": "3.9.12"
  }
 },
 "nbformat": 4,
 "nbformat_minor": 5
}
