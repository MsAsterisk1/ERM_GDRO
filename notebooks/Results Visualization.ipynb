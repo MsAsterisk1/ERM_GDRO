{
 "cells": [
  {
   "cell_type": "code",
   "execution_count": 1,
   "id": "f3e227b8",
   "metadata": {
    "id": "f3e227b8"
   },
   "outputs": [],
   "source": [
    "%load_ext autoreload\n",
    "%autoreload 2"
   ]
  },
  {
   "cell_type": "code",
   "execution_count": 2,
   "id": "3261d496",
   "metadata": {
    "colab": {
     "base_uri": "https://localhost:8080/"
    },
    "id": "3261d496",
    "outputId": "9206134a-1091-4601-e9cb-c2253cfeb2cf"
   },
   "outputs": [
    {
     "name": "stdout",
     "output_type": "stream",
     "text": [
      "C:\\Users\\efurst1\\PycharmProjects\\ERM_GDRO\n"
     ]
    }
   ],
   "source": [
    "# For use on local machine\n",
    "%cd .."
   ]
  },
  {
   "cell_type": "markdown",
   "id": "92f6d8e1",
   "metadata": {
    "id": "92f6d8e1"
   },
   "source": [
    "# Results Visualization\n",
    "\n",
    "Data loading and plotting functions to visualize the results given by run.py  \n",
    "Put the path of the folder containing the results in load_dir and run the cells to see results"
   ]
  },
  {
   "cell_type": "markdown",
   "id": "048fed7c",
   "metadata": {},
   "source": [
    "## Defining functions & parameters"
   ]
  },
  {
   "cell_type": "code",
   "execution_count": 104,
   "id": "c1550ad5",
   "metadata": {
    "id": "c1550ad5"
   },
   "outputs": [],
   "source": [
    "import matplotlib.pyplot as plt\n",
    "import pandas as pd\n",
    "\n",
    "# .csv to load results from\n",
    "load_path = 'test_results/mnist/accuracies.csv'"
   ]
  },
  {
   "cell_type": "code",
   "execution_count": 117,
   "id": "b3ace5d7",
   "metadata": {
    "id": "b3ace5d7",
    "scrolled": false
   },
   "outputs": [],
   "source": [
    "def plot_acc(drop_epochs=[], err_margin=0):\n",
    "    loaded_accuracies = pd.read_csv(load_path)\n",
    "    N = max(loaded_accuracies[\"trial\"]) + 1\n",
    "    epochs = max(loaded_accuracies[\"epoch\"]) + 1\n",
    "    subtypes = list(loaded_accuracies[\"subtype\"].unique())\n",
    "    algorithms = loaded_accuracies.columns\n",
    "\n",
    "    results = loaded_accuracies.drop(columns=[\"trial\", \"epoch\", \"subtype\"]).to_dict('list')\n",
    "    results_df = pd.DataFrame(results, index=pd.MultiIndex.from_product([range(N), range(epochs), subtypes], names=[\"trial\", \"epoch\", \"subtype\"]))\n",
    "    \n",
    "    trial_means = results_df.stack().unstack(level=0).mean(axis=1).unstack(level=2)\n",
    "    trial_errs = results_df.stack().unstack(level=0).std(axis=1).unstack(level=2) / (N ** 0.5)\n",
    "\n",
    "    trial_means.drop(drop_epochs, level=0, axis=0, inplace=True)\n",
    "    hide = []\n",
    "    \n",
    "    subtypes = [\"Overall\", \"8\"]\n",
    "\n",
    "    f, a = plt.subplots(len(subtypes), 1)\n",
    "\n",
    "    # plot subtypes sensitivity\n",
    "\n",
    "    for i in range(len(subtypes)):\n",
    "        plot_data = trial_means.drop(columns=hide).xs(subtypes[i], level=1)\n",
    "        plot_data.plot(ylim=[0.6,1],xlabel=\"Epoch\",ylabel=\"Accuracy\",kind='line',title=subtypes[i],ax=a[i],figsize=(24, 6 * len(subtypes)),grid=True)\n",
    "        plot_errs = trial_errs.drop(columns=hide).xs(key=subtypes[i], level=1)\n",
    "        for col in plot_data.columns:\n",
    "            a[i].fill_between(list(plot_data.index), plot_data[col] + err_margin * plot_errs[col], plot_data[col] - err_margin * plot_errs[col], alpha=0.25)\n",
    "        "
   ]
  },
  {
   "cell_type": "code",
   "execution_count": 118,
   "id": "E4X11ykAAunM",
   "metadata": {
    "colab": {
     "base_uri": "https://localhost:8080/",
     "height": 1000
    },
    "id": "E4X11ykAAunM",
    "outputId": "59725333-309d-4151-c19b-74974e9b66e1"
   },
   "outputs": [],
   "source": [
    "# statisitical tests comparing to ERM\n",
    "from scipy.stats import ttest_ind\n",
    "\n",
    "def ttest(p_threshold=0.05):\n",
    "    print(f't-tests with significance threshold p<{p_threshold}\\n')\n",
    "    ttest_dataframes = {}\n",
    "\n",
    "    loaded_accuracies = pd.read_csv(load_path)\n",
    "    N = max(loaded_accuracies[\"trial\"]) + 1\n",
    "    epochs = max(loaded_accuracies[\"epoch\"]) + 1\n",
    "    subtypes = list(loaded_accuracies[\"subtype\"].unique())\n",
    "    algorithms = loaded_accuracies.columns\n",
    "\n",
    "    results = loaded_accuracies.drop(columns=[\"subtype\", \"epoch\", \"trial\"]).to_dict('list')\n",
    "    results_df = pd.DataFrame(results, index=pd.MultiIndex.from_product([range(N), range(epochs), subtypes], names=[\"trial\", \"epoch\", \"subtype\"]))\n",
    "\n",
    "    for s in range(len(subtypes)):\n",
    "        epoch = epochs - 1\n",
    "\n",
    "        subtype_data = results_df.xs(subtypes[s], level=2).xs(epoch, level=1)\n",
    "        erm_data = subtype_data[\"ERMLoss\"].values\n",
    "\n",
    "        print(subtypes[s])\n",
    "        for algorithm in results_df.columns:\n",
    "            if algorithm != \"ERMLoss\":\n",
    "                algorithm_data = subtype_data[algorithm].values\n",
    "                stat, p = ttest_ind(algorithm_data, erm_data)\n",
    "\n",
    "                print(f'ERMLoss: {erm_data.mean():.3f}, 1.96*stdErr: {(1.96 * erm_data.std(ddof=1) / (len(erm_data) ** 0.5)):.2e}')\n",
    "                print(f'{algorithm}: {algorithm_data.mean():.3f}, 1.96*stdErr: {(1.96 * algorithm_data.std(ddof=1) / (len(algorithm_data) ** 0.5)):.2e}')\n",
    "                if p < p_threshold:\n",
    "                    print(f'{algorithm if stat > 0 else \"ERMLoss\"} greater with p = {p:.2e}')\n",
    "                else:\n",
    "                    print(f'No significant difference with p = {p:.2e}')\n",
    "                print()"
   ]
  },
  {
   "cell_type": "markdown",
   "id": "87a465c5",
   "metadata": {},
   "source": [
    "## Show results"
   ]
  },
  {
   "cell_type": "code",
   "execution_count": 119,
   "id": "6e1b8ce6",
   "metadata": {
    "colab": {
     "base_uri": "https://localhost:8080/",
     "height": 1000
    },
    "id": "6e1b8ce6",
    "outputId": "b1538dcf-ce63-45fc-e591-4b2cbc3c4f58",
    "scrolled": false
   },
   "outputs": [
    {
     "data": {
      "image/png": "[encoded data removed]",
      "text/plain": [
       "<Figure size 1728x864 with 2 Axes>"
      ]
     },
     "metadata": {
      "needs_background": "light"
     },
     "output_type": "display_data"
    }
   ],
   "source": [
    "plot_acc(err_margin=1.96)"
   ]
  },
  {
   "cell_type": "code",
   "execution_count": 30,
   "id": "6bbb74bb",
   "metadata": {},
   "outputs": [
    {
     "name": "stdout",
     "output_type": "stream",
     "text": [
      "t-tests with significance threshold p<0.05\n",
      "\n",
      "Overall\n",
      "ERMLoss: 0.960, 1.96*stdErr: 1.79e-03\n",
      "GDROLoss: 0.968, 1.96*stdErr: 9.35e-04\n",
      "GDROLoss greater with p = 3.11e-10\n",
      "\n",
      "0\n",
      "ERMLoss: 0.987, 1.96*stdErr: 1.27e-03\n",
      "GDROLoss: 0.986, 1.96*stdErr: 1.81e-03\n",
      "No significant difference with p = 1.80e-01\n",
      "\n",
      "1\n",
      "ERMLoss: 0.996, 1.96*stdErr: 5.46e-04\n",
      "GDROLoss: 0.993, 1.96*stdErr: 1.06e-03\n",
      "ERMLoss greater with p = 5.14e-04\n",
      "\n",
      "2\n",
      "ERMLoss: 0.985, 1.96*stdErr: 1.46e-03\n",
      "GDROLoss: 0.981, 1.96*stdErr: 1.57e-03\n",
      "ERMLoss greater with p = 4.09e-04\n",
      "\n",
      "3\n",
      "ERMLoss: 0.968, 1.96*stdErr: 3.11e-03\n",
      "GDROLoss: 0.967, 1.96*stdErr: 2.67e-03\n",
      "No significant difference with p = 5.40e-01\n",
      "\n",
      "4\n",
      "ERMLoss: 0.972, 1.96*stdErr: 3.15e-03\n",
      "GDROLoss: 0.972, 1.96*stdErr: 3.42e-03\n",
      "No significant difference with p = 9.21e-01\n",
      "\n",
      "5\n",
      "ERMLoss: 0.977, 1.96*stdErr: 2.39e-03\n",
      "GDROLoss: 0.975, 1.96*stdErr: 2.79e-03\n",
      "No significant difference with p = 4.06e-01\n",
      "\n",
      "6\n",
      "ERMLoss: 0.981, 1.96*stdErr: 1.69e-03\n",
      "GDROLoss: 0.980, 1.96*stdErr: 1.96e-03\n",
      "No significant difference with p = 5.29e-01\n",
      "\n",
      "7\n",
      "ERMLoss: 0.968, 1.96*stdErr: 2.19e-03\n",
      "GDROLoss: 0.964, 1.96*stdErr: 2.15e-03\n",
      "ERMLoss greater with p = 4.51e-02\n",
      "\n",
      "8\n",
      "ERMLoss: 0.793, 1.96*stdErr: 1.72e-02\n",
      "GDROLoss: 0.891, 1.96*stdErr: 8.51e-03\n",
      "GDROLoss greater with p = 3.69e-14\n",
      "\n",
      "9\n",
      "ERMLoss: 0.966, 1.96*stdErr: 2.94e-03\n",
      "GDROLoss: 0.965, 1.96*stdErr: 3.15e-03\n",
      "No significant difference with p = 4.56e-01\n",
      "\n"
     ]
    }
   ],
   "source": [
    "ttest(p_threshold=0.05)"
   ]
  },
  {
   "cell_type": "code",
   "execution_count": 44,
   "id": "a71853da",
   "metadata": {},
   "outputs": [],
   "source": [
    "from wilds import get_dataset"
   ]
  },
  {
   "cell_type": "code",
   "execution_count": 48,
   "id": "74a00a1f",
   "metadata": {},
   "outputs": [
    {
     "name": "stdout",
     "output_type": "stream",
     "text": [
      "Downloading dataset to data\\waterbirds_v1.0...\n",
      "You can also download the dataset manually at https://wilds.stanford.edu/downloads.\n",
      "Downloading https://worksheets.codalab.org/rest/bundles/0x505056d5cdea4e4eaa0e242cbfe2daa4/contents/blob/ to data\\waterbirds_v1.0\\archive.tar.gz\n"
     ]
    },
    {
     "data": {
      "application/vnd.jupyter.widget-view+json": {
       "model_id": "4077cc9bd30b405eb729e479cf560850",
       "version_major": 2,
       "version_minor": 0
      },
      "text/plain": [
       "0Byte [00:00, ?Byte/s]"
      ]
     },
     "metadata": {},
     "output_type": "display_data"
    },
    {
     "name": "stdout",
     "output_type": "stream",
     "text": [
      "Extracting data\\waterbirds_v1.0\\archive.tar.gz to data\\waterbirds_v1.0\n",
      "\n",
      "It took 1.73 minutes to download and uncompress the dataset.\n",
      "\n"
     ]
    }
   ],
   "source": [
    "ds = get_dataset(\"waterbirds\", download=True)"
   ]
  },
  {
   "cell_type": "code",
   "execution_count": 126,
   "id": "c1a6323b",
   "metadata": {},
   "outputs": [],
   "source": [
    "ds._metadata_array = 2 * ds._metadata_array[:, 1] + ds._metadata_array[:, 0]"
   ]
  },
  {
   "cell_type": "code",
   "execution_count": 142,
   "id": "fcd5b6b6",
   "metadata": {},
   "outputs": [],
   "source": [
    "from torchvision import transforms\n",
    "dstrain = ds.get_subset(\n",
    "    \"train\",\n",
    "    transform=transforms.Compose(\n",
    "        [transforms.Resize((448, 448)), transforms.ToTensor(), transforms.Lambda(lambda x: x.to('cuda'))]\n",
    "    ),)"
   ]
  },
  {
   "cell_type": "code",
   "execution_count": 143,
   "id": "a68abc7c",
   "metadata": {},
   "outputs": [],
   "source": [
    "from dataloaders import InfiniteDataLoader"
   ]
  },
  {
   "cell_type": "code",
   "execution_count": 144,
   "id": "cc71b498",
   "metadata": {},
   "outputs": [
    {
     "data": {
      "text/plain": [
       "[tensor([[[[0.1647, 0.1686, 0.1216,  ..., 0.4353, 0.1843, 0.2353],\n",
       "           [0.1608, 0.1882, 0.1725,  ..., 0.4941, 0.4157, 0.4706],\n",
       "           [0.1804, 0.1922, 0.1922,  ..., 0.6078, 0.6431, 0.6510],\n",
       "           ...,\n",
       "           [0.0902, 0.0863, 0.0863,  ..., 0.0549, 0.0549, 0.0549],\n",
       "           [0.0863, 0.0784, 0.0784,  ..., 0.0510, 0.0510, 0.0510],\n",
       "           [0.0824, 0.0706, 0.0706,  ..., 0.0471, 0.0471, 0.0471]],\n",
       " \n",
       "          [[0.1569, 0.1608, 0.1098,  ..., 0.5020, 0.2549, 0.3059],\n",
       "           [0.1529, 0.1804, 0.1647,  ..., 0.5647, 0.4863, 0.5412],\n",
       "           [0.1725, 0.1804, 0.1804,  ..., 0.6784, 0.7137, 0.7216],\n",
       "           ...,\n",
       "           [0.1216, 0.1137, 0.1059,  ..., 0.0667, 0.0667, 0.0667],\n",
       "           [0.1176, 0.1059, 0.1020,  ..., 0.0627, 0.0627, 0.0627],\n",
       "           [0.1137, 0.1020, 0.1020,  ..., 0.0588, 0.0588, 0.0588]],\n",
       " \n",
       "          [[0.0588, 0.0667, 0.0314,  ..., 0.3490, 0.0980, 0.1490],\n",
       "           [0.0549, 0.0824, 0.0784,  ..., 0.4078, 0.3294, 0.3843],\n",
       "           [0.0706, 0.0824, 0.0902,  ..., 0.5176, 0.5569, 0.5608],\n",
       "           ...,\n",
       "           [0.0314, 0.0235, 0.0157,  ..., 0.0392, 0.0392, 0.0392],\n",
       "           [0.0275, 0.0157, 0.0118,  ..., 0.0353, 0.0353, 0.0353],\n",
       "           [0.0235, 0.0118, 0.0078,  ..., 0.0314, 0.0314, 0.0314]]],\n",
       " \n",
       " \n",
       "         [[[0.9216, 0.9529, 0.9804,  ..., 0.4431, 0.2784, 0.2706],\n",
       "           [0.9490, 0.9686, 0.9882,  ..., 0.3961, 0.2706, 0.2353],\n",
       "           [0.9765, 0.9843, 0.9922,  ..., 0.3451, 0.2784, 0.2157],\n",
       "           ...,\n",
       "           [0.6549, 0.6196, 0.6039,  ..., 0.3020, 0.3020, 0.3020],\n",
       "           [0.5294, 0.5373, 0.5725,  ..., 0.3020, 0.3020, 0.3020],\n",
       "           [0.4510, 0.4824, 0.5490,  ..., 0.3020, 0.3020, 0.3020]],\n",
       " \n",
       "          [[0.9176, 0.9490, 0.9882,  ..., 0.5059, 0.3412, 0.3333],\n",
       "           [0.9451, 0.9647, 0.9922,  ..., 0.4588, 0.3333, 0.2980],\n",
       "           [0.9725, 0.9804, 0.9922,  ..., 0.4078, 0.3412, 0.2784],\n",
       "           ...,\n",
       "           [0.6196, 0.5804, 0.5529,  ..., 0.2980, 0.2980, 0.2980],\n",
       "           [0.4902, 0.4941, 0.5216,  ..., 0.2980, 0.2980, 0.2980],\n",
       "           [0.4078, 0.4392, 0.5020,  ..., 0.2980, 0.2980, 0.2980]],\n",
       " \n",
       "          [[0.9098, 0.9216, 0.9137,  ..., 0.3608, 0.2000, 0.1922],\n",
       "           [0.9373, 0.9373, 0.9255,  ..., 0.3137, 0.1922, 0.1569],\n",
       "           [0.9647, 0.9529, 0.9333,  ..., 0.2627, 0.2000, 0.1373],\n",
       "           ...,\n",
       "           [0.4157, 0.3843, 0.3882,  ..., 0.2275, 0.2275, 0.2275],\n",
       "           [0.2980, 0.3137, 0.3647,  ..., 0.2275, 0.2275, 0.2275],\n",
       "           [0.2275, 0.2667, 0.3529,  ..., 0.2275, 0.2275, 0.2275]]],\n",
       " \n",
       " \n",
       "         [[[0.2039, 0.2196, 0.2235,  ..., 0.9490, 0.9843, 0.9804],\n",
       "           [0.2078, 0.2157, 0.2118,  ..., 0.9529, 0.9451, 0.9412],\n",
       "           [0.2118, 0.2078, 0.2000,  ..., 0.9529, 0.9255, 0.9255],\n",
       "           ...,\n",
       "           [0.1176, 0.1137, 0.1176,  ..., 0.7608, 0.7725, 0.7843],\n",
       "           [0.1176, 0.1137, 0.1176,  ..., 0.7608, 0.7725, 0.7843],\n",
       "           [0.1176, 0.1176, 0.1216,  ..., 0.7608, 0.7725, 0.7843]],\n",
       " \n",
       "          [[0.2314, 0.2431, 0.2314,  ..., 0.9647, 0.9922, 1.0000],\n",
       "           [0.2353, 0.2353, 0.2235,  ..., 0.9686, 0.9686, 0.9647],\n",
       "           [0.2353, 0.2235, 0.2118,  ..., 0.9804, 0.9647, 0.9608],\n",
       "           ...,\n",
       "           [0.1020, 0.0980, 0.0941,  ..., 0.7725, 0.7843, 0.7961],\n",
       "           [0.1020, 0.0980, 0.0941,  ..., 0.7725, 0.7843, 0.7961],\n",
       "           [0.1020, 0.1020, 0.0980,  ..., 0.7725, 0.7843, 0.7961]],\n",
       " \n",
       "          [[0.1686, 0.1725, 0.1608,  ..., 0.9255, 0.9529, 0.9529],\n",
       "           [0.1725, 0.1647, 0.1451,  ..., 0.9333, 0.9216, 0.9176],\n",
       "           [0.1725, 0.1529, 0.1333,  ..., 0.9412, 0.9137, 0.9137],\n",
       "           ...,\n",
       "           [0.0549, 0.0510, 0.0471,  ..., 0.7490, 0.7569, 0.7686],\n",
       "           [0.0549, 0.0510, 0.0471,  ..., 0.7490, 0.7569, 0.7686],\n",
       "           [0.0549, 0.0549, 0.0510,  ..., 0.7490, 0.7569, 0.7686]]]],\n",
       "        device='cuda:0'),\n",
       " tensor([0, 0, 0]),\n",
       " tensor([0, 0, 0])]"
      ]
     },
     "execution_count": 144,
     "metadata": {},
     "output_type": "execute_result"
    }
   ],
   "source": [
    "next(InfiniteDataLoader(dstrain, batch_size=3))"
   ]
  },
  {
   "cell_type": "code",
   "execution_count": 135,
   "id": "4672eaf6",
   "metadata": {},
   "outputs": [
    {
     "data": {
      "text/plain": [
       "device(type='cpu')"
      ]
     },
     "execution_count": 135,
     "metadata": {},
     "output_type": "execute_result"
    }
   ],
   "source": [
    "dstrain[0][0].device"
   ]
  },
  {
   "cell_type": "code",
   "execution_count": 136,
   "id": "e178df40",
   "metadata": {},
   "outputs": [
    {
     "data": {
      "text/plain": [
       "True"
      ]
     },
     "execution_count": 136,
     "metadata": {},
     "output_type": "execute_result"
    }
   ],
   "source": [
    "torch.cuda.is_available()"
   ]
  },
  {
   "cell_type": "code",
   "execution_count": 146,
   "id": "c28093fc",
   "metadata": {},
   "outputs": [],
   "source": [
    "from utils.process_data_utils import get_waterbirds_dataloaders"
   ]
  },
  {
   "cell_type": "code",
   "execution_count": 151,
   "id": "a7bc616d",
   "metadata": {},
   "outputs": [
    {
     "data": {
      "text/plain": [
       "[tensor([[[[0.0824, 0.0706, 0.1098,  ..., 0.1294, 0.0980, 0.1176],\n",
       "           [0.0588, 0.0824, 0.0824,  ..., 0.1333, 0.1176, 0.1255],\n",
       "           [0.0353, 0.0510, 0.0314,  ..., 0.1255, 0.1137, 0.1020],\n",
       "           ...,\n",
       "           [0.2275, 0.2196, 0.0863,  ..., 0.0118, 0.0118, 0.0118],\n",
       "           [0.2118, 0.2118, 0.0627,  ..., 0.0078, 0.0078, 0.0078],\n",
       "           [0.2235, 0.1961, 0.0824,  ..., 0.0039, 0.0078, 0.0118]],\n",
       " \n",
       "          [[0.1176, 0.1020, 0.1451,  ..., 0.1647, 0.1333, 0.1529],\n",
       "           [0.0863, 0.1098, 0.1137,  ..., 0.1686, 0.1529, 0.1647],\n",
       "           [0.0549, 0.0745, 0.0549,  ..., 0.1647, 0.1490, 0.1373],\n",
       "           ...,\n",
       "           [0.2549, 0.2353, 0.0863,  ..., 0.0157, 0.0118, 0.0196],\n",
       "           [0.2392, 0.2275, 0.0667,  ..., 0.0078, 0.0078, 0.0157],\n",
       "           [0.2549, 0.2157, 0.0863,  ..., 0.0039, 0.0118, 0.0196]],\n",
       " \n",
       "          [[0.0235, 0.0078, 0.0314,  ..., 0.0745, 0.0235, 0.0275],\n",
       "           [0.0196, 0.0353, 0.0275,  ..., 0.0588, 0.0314, 0.0314],\n",
       "           [0.0235, 0.0353, 0.0118,  ..., 0.0314, 0.0275, 0.0157],\n",
       "           ...,\n",
       "           [0.2235, 0.2118, 0.0667,  ..., 0.0000, 0.0039, 0.0078],\n",
       "           [0.2078, 0.2000, 0.0431,  ..., 0.0000, 0.0000, 0.0039],\n",
       "           [0.2157, 0.1843, 0.0588,  ..., 0.0000, 0.0039, 0.0078]]],\n",
       " \n",
       " \n",
       "         [[[0.4000, 0.4392, 0.5059,  ..., 0.7373, 0.8706, 0.8941],\n",
       "           [0.5569, 0.5882, 0.4980,  ..., 0.8706, 0.8549, 0.8549],\n",
       "           [0.4863, 0.4118, 0.4275,  ..., 0.9451, 0.9333, 0.9294],\n",
       "           ...,\n",
       "           [0.8627, 0.6627, 0.4314,  ..., 0.8863, 0.8275, 0.7216],\n",
       "           [0.7412, 0.5961, 0.5765,  ..., 0.9216, 0.9294, 0.8824],\n",
       "           [0.6706, 0.7569, 0.6078,  ..., 0.9098, 0.8941, 0.7137]],\n",
       " \n",
       "          [[0.2745, 0.3333, 0.4392,  ..., 0.7059, 0.8471, 0.8706],\n",
       "           [0.4118, 0.4667, 0.4118,  ..., 0.8392, 0.8275, 0.8275],\n",
       "           [0.3176, 0.2706, 0.3137,  ..., 0.9137, 0.9059, 0.9059],\n",
       "           ...,\n",
       "           [0.7843, 0.5843, 0.3490,  ..., 0.8353, 0.7725, 0.6627],\n",
       "           [0.6549, 0.5059, 0.4863,  ..., 0.9137, 0.9098, 0.8431],\n",
       "           [0.5843, 0.6667, 0.5098,  ..., 0.9176, 0.8863, 0.6784]],\n",
       " \n",
       "          [[0.1882, 0.2235, 0.2863,  ..., 0.6980, 0.8745, 0.9216],\n",
       "           [0.3412, 0.3725, 0.2784,  ..., 0.8471, 0.8627, 0.8824],\n",
       "           [0.2667, 0.1882, 0.2039,  ..., 0.9333, 0.9451, 0.9608],\n",
       "           ...,\n",
       "           [0.7176, 0.5176, 0.2824,  ..., 0.7843, 0.7176, 0.6039],\n",
       "           [0.5961, 0.4510, 0.4275,  ..., 0.8980, 0.8863, 0.8039],\n",
       "           [0.5294, 0.6118, 0.4588,  ..., 0.9176, 0.8745, 0.6471]]],\n",
       " \n",
       " \n",
       "         [[[0.2902, 0.3882, 0.4392,  ..., 0.1294, 0.1137, 0.1059],\n",
       "           [0.4392, 0.7255, 0.5176,  ..., 0.1373, 0.1216, 0.1020],\n",
       "           [0.5137, 0.8118, 0.4902,  ..., 0.1529, 0.0980, 0.0980],\n",
       "           ...,\n",
       "           [0.1882, 0.2745, 0.4235,  ..., 0.4980, 0.4471, 0.4275],\n",
       "           [0.3804, 0.3569, 0.2627,  ..., 0.4706, 0.4471, 0.3804],\n",
       "           [0.5294, 0.3843, 0.2078,  ..., 0.4353, 0.4392, 0.4353]],\n",
       " \n",
       "          [[0.3529, 0.4588, 0.5412,  ..., 0.1686, 0.1216, 0.1020],\n",
       "           [0.5059, 0.7922, 0.6157,  ..., 0.1686, 0.1294, 0.1020],\n",
       "           [0.5843, 0.8706, 0.5843,  ..., 0.1725, 0.1059, 0.0980],\n",
       "           ...,\n",
       "           [0.3255, 0.4118, 0.5608,  ..., 0.5373, 0.4627, 0.4314],\n",
       "           [0.5294, 0.5020, 0.4078,  ..., 0.5176, 0.4706, 0.3922],\n",
       "           [0.6902, 0.5451, 0.3686,  ..., 0.4784, 0.4706, 0.4588]],\n",
       " \n",
       "          [[0.3137, 0.3725, 0.3020,  ..., 0.1216, 0.0941, 0.0824],\n",
       "           [0.4471, 0.7137, 0.4000,  ..., 0.1255, 0.0980, 0.0745],\n",
       "           [0.4980, 0.8000, 0.4078,  ..., 0.1294, 0.0706, 0.0667],\n",
       "           ...,\n",
       "           [0.2157, 0.2824, 0.4000,  ..., 0.4000, 0.3412, 0.3216],\n",
       "           [0.3922, 0.3490, 0.2353,  ..., 0.3765, 0.3451, 0.2784],\n",
       "           [0.5255, 0.3647, 0.1765,  ..., 0.3412, 0.3412, 0.3373]]],\n",
       " \n",
       " \n",
       "         ...,\n",
       " \n",
       " \n",
       "         [[[0.2353, 0.2471, 0.3255,  ..., 0.5804, 0.5765, 0.5725],\n",
       "           [0.2314, 0.2431, 0.3216,  ..., 0.5765, 0.5725, 0.5686],\n",
       "           [0.2235, 0.2353, 0.3137,  ..., 0.5725, 0.5686, 0.5608],\n",
       "           ...,\n",
       "           [0.4392, 0.3137, 0.1882,  ..., 0.2157, 0.2471, 0.2549],\n",
       "           [0.4549, 0.3216, 0.1882,  ..., 0.1882, 0.2314, 0.2275],\n",
       "           [0.4510, 0.3098, 0.1765,  ..., 0.2039, 0.2196, 0.1961]],\n",
       " \n",
       "          [[0.3255, 0.3333, 0.4000,  ..., 0.6980, 0.6941, 0.6902],\n",
       "           [0.3216, 0.3294, 0.3961,  ..., 0.6941, 0.6902, 0.6863],\n",
       "           [0.3137, 0.3216, 0.3882,  ..., 0.6902, 0.6863, 0.6784],\n",
       "           ...,\n",
       "           [0.5333, 0.4078, 0.2784,  ..., 0.3216, 0.3412, 0.3451],\n",
       "           [0.5490, 0.4157, 0.2824,  ..., 0.2941, 0.3216, 0.3137],\n",
       "           [0.5451, 0.4039, 0.2706,  ..., 0.3098, 0.3137, 0.2824]],\n",
       " \n",
       "          [[0.3569, 0.3686, 0.4549,  ..., 0.8000, 0.7961, 0.7922],\n",
       "           [0.3529, 0.3647, 0.4510,  ..., 0.7961, 0.7922, 0.7882],\n",
       "           [0.3451, 0.3569, 0.4471,  ..., 0.7922, 0.7882, 0.7804],\n",
       "           ...,\n",
       "           [0.5412, 0.4157, 0.2980,  ..., 0.3961, 0.4275, 0.4314],\n",
       "           [0.5569, 0.4275, 0.2980,  ..., 0.3686, 0.4078, 0.4039],\n",
       "           [0.5529, 0.4118, 0.2863,  ..., 0.3843, 0.4000, 0.3725]]],\n",
       " \n",
       " \n",
       "         [[[0.3059, 0.3608, 0.3686,  ..., 0.3373, 0.4549, 0.3451],\n",
       "           [0.2980, 0.3804, 0.4471,  ..., 0.4314, 0.3961, 0.3333],\n",
       "           [0.3137, 0.3725, 0.4980,  ..., 0.4196, 0.3608, 0.3373],\n",
       "           ...,\n",
       "           [0.3843, 0.3882, 0.3922,  ..., 0.3608, 0.2902, 0.2980],\n",
       "           [0.3686, 0.3608, 0.3451,  ..., 0.4039, 0.2863, 0.2941],\n",
       "           [0.4078, 0.4549, 0.4314,  ..., 0.3882, 0.2745, 0.3020]],\n",
       " \n",
       "          [[0.3608, 0.4157, 0.3843,  ..., 0.3725, 0.4549, 0.3294],\n",
       "           [0.3490, 0.4314, 0.4667,  ..., 0.4627, 0.3882, 0.3137],\n",
       "           [0.3608, 0.4235, 0.5216,  ..., 0.4510, 0.3490, 0.3137],\n",
       "           ...,\n",
       "           [0.4392, 0.4824, 0.4824,  ..., 0.4667, 0.3569, 0.3294],\n",
       "           [0.3961, 0.4392, 0.4353,  ..., 0.5137, 0.3569, 0.3294],\n",
       "           [0.4078, 0.5137, 0.5098,  ..., 0.4980, 0.3490, 0.3373]],\n",
       " \n",
       "          [[0.4118, 0.4745, 0.6627,  ..., 0.6510, 0.8235, 0.7176],\n",
       "           [0.4157, 0.4980, 0.7333,  ..., 0.7333, 0.8039, 0.7569],\n",
       "           [0.4510, 0.4980, 0.7765,  ..., 0.6902, 0.7882, 0.8039],\n",
       "           ...,\n",
       "           [0.4784, 0.3176, 0.3765,  ..., 0.2549, 0.2431, 0.3725],\n",
       "           [0.5294, 0.3333, 0.3333,  ..., 0.2980, 0.2353, 0.3647],\n",
       "           [0.6118, 0.4431, 0.4039,  ..., 0.2824, 0.2235, 0.3686]]],\n",
       " \n",
       " \n",
       "         [[[0.6588, 0.6627, 0.6706,  ..., 0.6745, 0.6745, 0.6745],\n",
       "           [0.6667, 0.6667, 0.6667,  ..., 0.6706, 0.6706, 0.6706],\n",
       "           [0.6667, 0.6667, 0.6627,  ..., 0.6667, 0.6667, 0.6667],\n",
       "           ...,\n",
       "           [0.3725, 0.3725, 0.3725,  ..., 0.4196, 0.4275, 0.4275],\n",
       "           [0.3765, 0.3804, 0.3804,  ..., 0.4157, 0.4235, 0.4275],\n",
       "           [0.3765, 0.3804, 0.3843,  ..., 0.4235, 0.4314, 0.4392]],\n",
       " \n",
       "          [[0.6118, 0.6157, 0.6235,  ..., 0.6275, 0.6275, 0.6275],\n",
       "           [0.6196, 0.6196, 0.6196,  ..., 0.6235, 0.6235, 0.6235],\n",
       "           [0.6196, 0.6196, 0.6157,  ..., 0.6196, 0.6196, 0.6196],\n",
       "           ...,\n",
       "           [0.3176, 0.3176, 0.3176,  ..., 0.3529, 0.3608, 0.3608],\n",
       "           [0.3216, 0.3255, 0.3255,  ..., 0.3490, 0.3569, 0.3608],\n",
       "           [0.3216, 0.3255, 0.3294,  ..., 0.3569, 0.3647, 0.3725]],\n",
       " \n",
       "          [[0.6510, 0.6549, 0.6627,  ..., 0.6667, 0.6667, 0.6667],\n",
       "           [0.6588, 0.6588, 0.6588,  ..., 0.6627, 0.6627, 0.6627],\n",
       "           [0.6588, 0.6588, 0.6549,  ..., 0.6588, 0.6588, 0.6588],\n",
       "           ...,\n",
       "           [0.3176, 0.3176, 0.3176,  ..., 0.3216, 0.3294, 0.3294],\n",
       "           [0.3216, 0.3216, 0.3255,  ..., 0.3176, 0.3255, 0.3294],\n",
       "           [0.3176, 0.3216, 0.3255,  ..., 0.3255, 0.3333, 0.3412]]]],\n",
       "        device='cuda:0'),\n",
       " tensor([0, 0, 0, 0, 0, 0, 0, 1, 0, 1, 1, 0, 1, 0, 0, 0, 0, 0, 0, 1, 0, 0, 1, 0,\n",
       "         0, 0, 0, 1, 0, 0, 1, 0, 1, 1, 0, 0, 1, 0, 1, 1, 0, 1, 0, 0, 0, 0, 0, 0,\n",
       "         0, 1, 1, 0, 0, 0, 0, 0, 0, 0, 0, 0, 0, 0, 0, 0, 0, 1, 0, 0, 1, 0, 0, 0,\n",
       "         1, 0, 0, 0, 0, 0, 0, 0, 1, 0, 0, 0, 0, 0, 0, 1, 0, 0, 1, 0, 0, 1, 0, 0,\n",
       "         0, 0, 1, 0, 0, 0, 0, 0, 0, 0, 0, 1, 0, 0, 0, 0, 1, 0, 1, 1, 0, 1, 0, 0,\n",
       "         0, 1, 0, 1, 0, 1, 0, 1], device='cuda:0'),\n",
       " tensor([0, 0, 0, 0, 0, 0, 0, 3, 0, 3, 3, 0, 3, 0, 0, 0, 0, 0, 0, 3, 1, 0, 3, 0,\n",
       "         0, 0, 0, 3, 0, 0, 3, 0, 3, 3, 0, 1, 3, 0, 3, 3, 0, 3, 0, 0, 0, 0, 0, 0,\n",
       "         0, 3, 3, 0, 0, 0, 0, 0, 0, 0, 0, 0, 0, 0, 0, 0, 0, 3, 0, 0, 3, 0, 1, 0,\n",
       "         3, 0, 0, 0, 0, 0, 0, 0, 3, 0, 0, 1, 0, 0, 0, 3, 0, 0, 3, 0, 1, 3, 0, 0,\n",
       "         0, 0, 3, 0, 0, 0, 0, 0, 0, 0, 0, 3, 0, 0, 0, 0, 3, 0, 3, 3, 0, 3, 0, 0,\n",
       "         0, 3, 0, 3, 0, 3, 0, 3], device='cuda:0')]"
      ]
     },
     "execution_count": 151,
     "metadata": {},
     "output_type": "execute_result"
    }
   ],
   "source": [
    "next(get_waterbirds_dataloaders(128, device='cuda')[0])"
   ]
  },
  {
   "cell_type": "code",
   "execution_count": 152,
   "id": "7fa15084",
   "metadata": {},
   "outputs": [
    {
     "name": "stderr",
     "output_type": "stream",
     "text": [
      "C:\\Users\\efurst1\\Anaconda3\\lib\\site-packages\\torchvision\\io\\image.py:13: UserWarning: Failed to load image Python extension: [WinError 127] The specified procedure could not be found\n",
      "  warn(f\"Failed to load image Python extension: {e}\")\n",
      "Traceback (most recent call last):\n",
      "  File \"C:\\Users\\efurst1\\PycharmProjects\\ERM_GDRO\\run.py\", line 3, in <module>\n",
      "    import models\n",
      "  File \"C:\\Users\\efurst1\\PycharmProjects\\ERM_GDRO\\models.py\", line 3, in <module>\n",
      "    import torchvision\n",
      "  File \"C:\\Users\\efurst1\\Anaconda3\\lib\\site-packages\\torchvision\\__init__.py\", line 7, in <module>\n",
      "    from torchvision import models\n",
      "  File \"C:\\Users\\efurst1\\Anaconda3\\lib\\site-packages\\torchvision\\models\\__init__.py\", line 18, in <module>\n",
      "    from . import quantization\n",
      "  File \"C:\\Users\\efurst1\\Anaconda3\\lib\\site-packages\\torchvision\\models\\quantization\\__init__.py\", line 1, in <module>\n",
      "    from .mobilenet import *\n",
      "  File \"C:\\Users\\efurst1\\Anaconda3\\lib\\site-packages\\torchvision\\models\\quantization\\mobilenet.py\", line 1, in <module>\n",
      "    from .mobilenetv2 import QuantizableMobileNetV2, mobilenet_v2, __all__ as mv2_all\n",
      "  File \"C:\\Users\\efurst1\\Anaconda3\\lib\\site-packages\\torchvision\\models\\quantization\\mobilenetv2.py\", line 5, in <module>\n",
      "    from torch.ao.quantization import QuantStub, DeQuantStub\n",
      "ImportError: cannot import name 'QuantStub' from 'torch.ao.quantization' (C:\\Users\\efurst1\\Anaconda3\\lib\\site-packages\\torch\\ao\\quantization\\__init__.py)\n"
     ]
    }
   ],
   "source": [
    "!python run.py waterbirds --verbose"
   ]
  },
  {
   "cell_type": "code",
   "execution_count": null,
   "id": "1476ee24",
   "metadata": {},
   "outputs": [],
   "source": []
  }
 ],
 "metadata": {
  "accelerator": "GPU",
  "colab": {
   "name": "run_test.ipynb",
   "provenance": []
  },
  "gpuClass": "standard",
  "kernelspec": {
   "display_name": "REU",
   "language": "python",
   "name": "reu"
  },
  "language_info": {
   "codemirror_mode": {
    "name": "ipython",
    "version": 3
   },
   "file_extension": ".py",
   "mimetype": "text/x-python",
   "name": "python",
   "nbconvert_exporter": "python",
   "pygments_lexer": "ipython3",
   "version": "3.10.4"
  }
 },
 "nbformat": 4,
 "nbformat_minor": 5
}
