{
 "cells": [
  {
   "cell_type": "code",
   "execution_count": 1,
   "metadata": {},
   "outputs": [],
   "source": [
    "import torch\n",
    "import pandas as pd\n",
    "from datasets import NoduleDataset, SubtypedDataLoader"
   ]
  },
  {
   "cell_type": "raw",
   "metadata": {},
   "source": [
    "Testing SubtypedDataLoader"
   ]
  },
  {
   "cell_type": "code",
   "execution_count": 3,
   "metadata": {},
   "outputs": [
    {
     "data": {
      "text/html": [
       "<div>\n",
       "<style scoped>\n",
       "    .dataframe tbody tr th:only-of-type {\n",
       "        vertical-align: middle;\n",
       "    }\n",
       "\n",
       "    .dataframe tbody tr th {\n",
       "        vertical-align: top;\n",
       "    }\n",
       "\n",
       "    .dataframe thead th {\n",
       "        text-align: right;\n",
       "    }\n",
       "</style>\n",
       "<table border=\"1\" class=\"dataframe\">\n",
       "  <thead>\n",
       "    <tr style=\"text-align: right;\">\n",
       "      <th></th>\n",
       "      <th>Unnamed: 0</th>\n",
       "      <th>Nodule_id</th>\n",
       "      <th>malignancy</th>\n",
       "      <th>subtype</th>\n",
       "    </tr>\n",
       "  </thead>\n",
       "  <tbody>\n",
       "    <tr>\n",
       "      <th>0</th>\n",
       "      <td>0</td>\n",
       "      <td>1197</td>\n",
       "      <td>benign</td>\n",
       "      <td>0benign</td>\n",
       "    </tr>\n",
       "    <tr>\n",
       "      <th>1</th>\n",
       "      <td>1</td>\n",
       "      <td>1208</td>\n",
       "      <td>benign</td>\n",
       "      <td>1benign</td>\n",
       "    </tr>\n",
       "    <tr>\n",
       "      <th>2</th>\n",
       "      <td>2</td>\n",
       "      <td>1109</td>\n",
       "      <td>benign</td>\n",
       "      <td>1benign</td>\n",
       "    </tr>\n",
       "    <tr>\n",
       "      <th>3</th>\n",
       "      <td>3</td>\n",
       "      <td>1259</td>\n",
       "      <td>benign</td>\n",
       "      <td>0benign</td>\n",
       "    </tr>\n",
       "    <tr>\n",
       "      <th>4</th>\n",
       "      <td>4</td>\n",
       "      <td>1050</td>\n",
       "      <td>benign</td>\n",
       "      <td>1benign</td>\n",
       "    </tr>\n",
       "  </tbody>\n",
       "</table>\n",
       "</div>"
      ],
      "text/plain": [
       "   Unnamed: 0  Nodule_id malignancy  subtype\n",
       "0           0       1197     benign  0benign\n",
       "1           1       1208     benign  1benign\n",
       "2           2       1109     benign  1benign\n",
       "3           3       1259     benign  0benign\n",
       "4           4       1050     benign  1benign"
      ]
     },
     "execution_count": 3,
     "metadata": {},
     "output_type": "execute_result"
    }
   ],
   "source": [
    "lidc_subtyped = pd.read_csv('lidc_subtyped.csv')\n",
    "lidc_subtyped.head(5)"
   ]
  },
  {
   "cell_type": "code",
   "execution_count": null,
   "metadata": {},
   "outputs": [],
   "source": [
    "def getImages(image_folder):\n",
    "  '''\n",
    "    Input:\n",
    "    image_folder: directory of the image files\n",
    "\n",
    "    Output:\n",
    "    m1: list of the labels encountered (1,2,4,5)\n",
    "    m2: list of binary labels encountered (benign, malignant)\n",
    "    diff: list of any nodes with discrepency to CSV labels\n",
    "\n",
    "  '''\n",
    "  m1 = []\n",
    "  m2 = []\n",
    "\n",
    "  diff = []\n",
    "\n",
    "  lidc = pd.read_csv('/content/drive/My Drive/REU_Elias_Thomas/LIDC_AllFeatures2D_MaxSlice.csv')\n",
    "  for dir1 in os.listdir(image_folder):\n",
    "  \n",
    "\n",
    "\n",
    "    for file in os.listdir(os.path.join(image_folder, dir1)):\n",
    "      malignancy_orig = int(dir1[-1])\n",
    "      m1.append(malignancy_orig)\n",
    "\n",
    "      if dir1 != 'Malignancy_3':\n",
    "        malignancy = 'malignant' if malignancy_orig > 3 else 'benign'\n",
    "        m2.append(malignancy)\n",
    "\n",
    "      temp_nodule_ID = file.split('.')[0]\n",
    "      if lidc[lidc['noduleID']==int(temp_nodule_ID)]['malignancy'].iloc[0] != malignancy_orig: \n",
    "        diff.append((temp_nodule_ID, malignancy_orig, lidc[lidc['noduleID']==int(temp_nodule_ID)]['malignancy'].iloc[0]))\n",
    "    \n",
    "\n",
    "\n",
    "\n",
    "  return m1,m2,diff\n"
   ]
  }
 ],
 "metadata": {
  "kernelspec": {
   "display_name": "REU",
   "language": "python",
   "name": "reu"
  },
  "language_info": {
   "codemirror_mode": {
    "name": "ipython",
    "version": 3
   },
   "file_extension": ".py",
   "mimetype": "text/x-python",
   "name": "python",
   "nbconvert_exporter": "python",
   "pygments_lexer": "ipython3",
   "version": "3.10.5"
  }
 },
 "nbformat": 4,
 "nbformat_minor": 2
}
